{
  "nbformat": 4,
  "nbformat_minor": 0,
  "metadata": {
    "accelerator": "GPU",
    "colab": {
      "name": "topic_modeling_with_LDA.ipynb",
      "provenance": [],
      "collapsed_sections": [],
      "authorship_tag": "ABX9TyNnZNX1eK9skA4MCytOh8HE",
      "include_colab_link": true
    },
    "kernelspec": {
      "display_name": "Python 3",
      "name": "python3"
    },
    "language_info": {
      "name": "python"
    }
  },
  "cells": [
    {
      "cell_type": "markdown",
      "metadata": {
        "id": "view-in-github",
        "colab_type": "text"
      },
      "source": [
        "<a href=\"https://colab.research.google.com/github/xei/topic-modeling-with-LDA/blob/main/topic_modeling_with_LDA.ipynb\" target=\"_parent\"><img src=\"https://colab.research.google.com/assets/colab-badge.svg\" alt=\"Open In Colab\"/></a>"
      ]
    },
    {
      "cell_type": "markdown",
      "metadata": {
        "id": "fx62SnEcaAAs"
      },
      "source": [
        "Copyright (c) 2021 Hamidreza Hosseinkhani ([xei](https://github.com/xei)) under the terms of the MIT license.\n",
        "\n",
        "[![Open In Collab](https://colab.research.google.com/assets/colab-badge.svg)](https://colab.research.google.com/github/xei/topic-modeling-with-LDA/blob/main/topic_modeling_with_LDA.ipynb)\n",
        "\n",
        "Give a ⭐ if the notebook helped you!\n",
        "\n",
        "[![GitHub stars](https://img.shields.io/github/stars/xei/topic-modeling-with-LDA.svg?style=social&label=Star&maxAge=2592000)](https://github.com/xei/topic-modeling-with-LDA/stargazers/)\n",
        "\n",
        "Some parts of this notebook are inspired by a similar work by [Selva Prabhakaran](https://www.machinelearningplus.com/nlp/topic-modeling-gensim-python/)."
      ]
    },
    {
      "cell_type": "markdown",
      "metadata": {
        "id": "WNwbAwHK7O8N"
      },
      "source": [
        "# Download and install dependencies"
      ]
    },
    {
      "cell_type": "code",
      "metadata": {
        "id": "x8tPSwYb7Nu_",
        "colab": {
          "base_uri": "https://localhost:8080/"
        },
        "outputId": "12da3985-da40-46e8-f55b-d61110ba82c0"
      },
      "source": [
        "!pip install --upgrade --quiet spacy\n",
        "!python -m spacy download en_core_web_sm\n",
        "# !pip install --upgrade --quiet contextualSpellCheck #0.4.1\n",
        "\n",
        "!pip install --upgrade --quiet gensim\n",
        "# Download Gensim's depricated model wrapper for MALLET's LDA model\n",
        "!mkdir gensimwrapper && wget https://raw.githubusercontent.com/RaRe-Technologies/gensim/e889fa3d45a406cabbc7e180fa9a8ee3f76ac6f0/gensim/models/wrappers/ldamallet.py -P gensimwrapper/\n",
        "!wget http://mallet.cs.umass.edu/dist/mallet-2.0.8.tar.gz -O - | tar zx\n",
        "\n",
        "!pip install --upgrade --quiet pyldavis"
      ],
      "execution_count": 1,
      "outputs": [
        {
          "output_type": "stream",
          "name": "stdout",
          "text": [
            "\u001b[K     |████████████████████████████████| 5.8 MB 5.3 MB/s \n",
            "\u001b[K     |████████████████████████████████| 456 kB 47.7 MB/s \n",
            "\u001b[K     |████████████████████████████████| 623 kB 40.0 MB/s \n",
            "\u001b[K     |████████████████████████████████| 10.1 MB 30.8 MB/s \n",
            "\u001b[K     |████████████████████████████████| 42 kB 1.5 MB/s \n",
            "\u001b[?25hCollecting en-core-web-sm==3.1.0\n",
            "  Downloading https://github.com/explosion/spacy-models/releases/download/en_core_web_sm-3.1.0/en_core_web_sm-3.1.0-py3-none-any.whl (13.6 MB)\n",
            "\u001b[K     |████████████████████████████████| 13.6 MB 73 kB/s \n",
            "\u001b[?25hRequirement already satisfied: spacy<3.2.0,>=3.1.0 in /usr/local/lib/python3.7/dist-packages (from en-core-web-sm==3.1.0) (3.1.2)\n",
            "Requirement already satisfied: spacy-legacy<3.1.0,>=3.0.7 in /usr/local/lib/python3.7/dist-packages (from spacy<3.2.0,>=3.1.0->en-core-web-sm==3.1.0) (3.0.8)\n",
            "Requirement already satisfied: typing-extensions<4.0.0.0,>=3.7.4 in /usr/local/lib/python3.7/dist-packages (from spacy<3.2.0,>=3.1.0->en-core-web-sm==3.1.0) (3.7.4.3)\n",
            "Requirement already satisfied: setuptools in /usr/local/lib/python3.7/dist-packages (from spacy<3.2.0,>=3.1.0->en-core-web-sm==3.1.0) (57.4.0)\n",
            "Requirement already satisfied: requests<3.0.0,>=2.13.0 in /usr/local/lib/python3.7/dist-packages (from spacy<3.2.0,>=3.1.0->en-core-web-sm==3.1.0) (2.23.0)\n",
            "Requirement already satisfied: thinc<8.1.0,>=8.0.8 in /usr/local/lib/python3.7/dist-packages (from spacy<3.2.0,>=3.1.0->en-core-web-sm==3.1.0) (8.0.10)\n",
            "Requirement already satisfied: tqdm<5.0.0,>=4.38.0 in /usr/local/lib/python3.7/dist-packages (from spacy<3.2.0,>=3.1.0->en-core-web-sm==3.1.0) (4.62.0)\n",
            "Requirement already satisfied: cymem<2.1.0,>=2.0.2 in /usr/local/lib/python3.7/dist-packages (from spacy<3.2.0,>=3.1.0->en-core-web-sm==3.1.0) (2.0.5)\n",
            "Requirement already satisfied: murmurhash<1.1.0,>=0.28.0 in /usr/local/lib/python3.7/dist-packages (from spacy<3.2.0,>=3.1.0->en-core-web-sm==3.1.0) (1.0.5)\n",
            "Requirement already satisfied: jinja2 in /usr/local/lib/python3.7/dist-packages (from spacy<3.2.0,>=3.1.0->en-core-web-sm==3.1.0) (2.11.3)\n",
            "Requirement already satisfied: preshed<3.1.0,>=3.0.2 in /usr/local/lib/python3.7/dist-packages (from spacy<3.2.0,>=3.1.0->en-core-web-sm==3.1.0) (3.0.5)\n",
            "Requirement already satisfied: catalogue<2.1.0,>=2.0.4 in /usr/local/lib/python3.7/dist-packages (from spacy<3.2.0,>=3.1.0->en-core-web-sm==3.1.0) (2.0.6)\n",
            "Requirement already satisfied: pydantic!=1.8,!=1.8.1,<1.9.0,>=1.7.4 in /usr/local/lib/python3.7/dist-packages (from spacy<3.2.0,>=3.1.0->en-core-web-sm==3.1.0) (1.8.2)\n",
            "Requirement already satisfied: numpy>=1.15.0 in /usr/local/lib/python3.7/dist-packages (from spacy<3.2.0,>=3.1.0->en-core-web-sm==3.1.0) (1.19.5)\n",
            "Requirement already satisfied: wasabi<1.1.0,>=0.8.1 in /usr/local/lib/python3.7/dist-packages (from spacy<3.2.0,>=3.1.0->en-core-web-sm==3.1.0) (0.8.2)\n",
            "Requirement already satisfied: typer<0.4.0,>=0.3.0 in /usr/local/lib/python3.7/dist-packages (from spacy<3.2.0,>=3.1.0->en-core-web-sm==3.1.0) (0.3.2)\n",
            "Requirement already satisfied: pathy>=0.3.5 in /usr/local/lib/python3.7/dist-packages (from spacy<3.2.0,>=3.1.0->en-core-web-sm==3.1.0) (0.6.0)\n",
            "Requirement already satisfied: blis<0.8.0,>=0.4.0 in /usr/local/lib/python3.7/dist-packages (from spacy<3.2.0,>=3.1.0->en-core-web-sm==3.1.0) (0.4.1)\n",
            "Requirement already satisfied: srsly<3.0.0,>=2.4.1 in /usr/local/lib/python3.7/dist-packages (from spacy<3.2.0,>=3.1.0->en-core-web-sm==3.1.0) (2.4.1)\n",
            "Requirement already satisfied: packaging>=20.0 in /usr/local/lib/python3.7/dist-packages (from spacy<3.2.0,>=3.1.0->en-core-web-sm==3.1.0) (21.0)\n",
            "Requirement already satisfied: zipp>=0.5 in /usr/local/lib/python3.7/dist-packages (from catalogue<2.1.0,>=2.0.4->spacy<3.2.0,>=3.1.0->en-core-web-sm==3.1.0) (3.5.0)\n",
            "Requirement already satisfied: pyparsing>=2.0.2 in /usr/local/lib/python3.7/dist-packages (from packaging>=20.0->spacy<3.2.0,>=3.1.0->en-core-web-sm==3.1.0) (2.4.7)\n",
            "Requirement already satisfied: smart-open<6.0.0,>=5.0.0 in /usr/local/lib/python3.7/dist-packages (from pathy>=0.3.5->spacy<3.2.0,>=3.1.0->en-core-web-sm==3.1.0) (5.1.0)\n",
            "Requirement already satisfied: urllib3!=1.25.0,!=1.25.1,<1.26,>=1.21.1 in /usr/local/lib/python3.7/dist-packages (from requests<3.0.0,>=2.13.0->spacy<3.2.0,>=3.1.0->en-core-web-sm==3.1.0) (1.24.3)\n",
            "Requirement already satisfied: idna<3,>=2.5 in /usr/local/lib/python3.7/dist-packages (from requests<3.0.0,>=2.13.0->spacy<3.2.0,>=3.1.0->en-core-web-sm==3.1.0) (2.10)\n",
            "Requirement already satisfied: certifi>=2017.4.17 in /usr/local/lib/python3.7/dist-packages (from requests<3.0.0,>=2.13.0->spacy<3.2.0,>=3.1.0->en-core-web-sm==3.1.0) (2021.5.30)\n",
            "Requirement already satisfied: chardet<4,>=3.0.2 in /usr/local/lib/python3.7/dist-packages (from requests<3.0.0,>=2.13.0->spacy<3.2.0,>=3.1.0->en-core-web-sm==3.1.0) (3.0.4)\n",
            "Requirement already satisfied: click<7.2.0,>=7.1.1 in /usr/local/lib/python3.7/dist-packages (from typer<0.4.0,>=0.3.0->spacy<3.2.0,>=3.1.0->en-core-web-sm==3.1.0) (7.1.2)\n",
            "Requirement already satisfied: MarkupSafe>=0.23 in /usr/local/lib/python3.7/dist-packages (from jinja2->spacy<3.2.0,>=3.1.0->en-core-web-sm==3.1.0) (2.0.1)\n",
            "Installing collected packages: en-core-web-sm\n",
            "  Attempting uninstall: en-core-web-sm\n",
            "    Found existing installation: en-core-web-sm 2.2.5\n",
            "    Uninstalling en-core-web-sm-2.2.5:\n",
            "      Successfully uninstalled en-core-web-sm-2.2.5\n",
            "Successfully installed en-core-web-sm-3.1.0\n",
            "\u001b[38;5;2m✔ Download and installation successful\u001b[0m\n",
            "You can now load the package via spacy.load('en_core_web_sm')\n",
            "\u001b[K     |████████████████████████████████| 24.0 MB 71 kB/s \n",
            "\u001b[?25h--2021-09-09 16:41:04--  https://raw.githubusercontent.com/RaRe-Technologies/gensim/e889fa3d45a406cabbc7e180fa9a8ee3f76ac6f0/gensim/models/wrappers/ldamallet.py\n",
            "Resolving raw.githubusercontent.com (raw.githubusercontent.com)... 185.199.108.133, 185.199.109.133, 185.199.110.133, ...\n",
            "Connecting to raw.githubusercontent.com (raw.githubusercontent.com)|185.199.108.133|:443... connected.\n",
            "HTTP request sent, awaiting response... 200 OK\n",
            "Length: 23357 (23K) [text/plain]\n",
            "Saving to: ‘gensimwrapper/ldamallet.py’\n",
            "\n",
            "ldamallet.py        100%[===================>]  22.81K  --.-KB/s    in 0.001s  \n",
            "\n",
            "2021-09-09 16:41:04 (20.8 MB/s) - ‘gensimwrapper/ldamallet.py’ saved [23357/23357]\n",
            "\n",
            "--2021-09-09 16:41:04--  http://mallet.cs.umass.edu/dist/mallet-2.0.8.tar.gz\n",
            "Resolving mallet.cs.umass.edu (mallet.cs.umass.edu)... 128.119.246.70\n",
            "Connecting to mallet.cs.umass.edu (mallet.cs.umass.edu)|128.119.246.70|:80... connected.\n",
            "HTTP request sent, awaiting response... 200 OK\n",
            "Length: 14868234 (14M) [application/x-gzip]\n",
            "Saving to: ‘STDOUT’\n",
            "\n",
            "-                   100%[===================>]  14.18M  8.37MB/s    in 1.7s    \n",
            "\n",
            "2021-09-09 16:41:06 (8.37 MB/s) - written to stdout [14868234/14868234]\n",
            "\n",
            "\u001b[K     |████████████████████████████████| 1.7 MB 5.2 MB/s \n",
            "\u001b[?25h  Installing build dependencies ... \u001b[?25l\u001b[?25hdone\n",
            "  Getting requirements to build wheel ... \u001b[?25l\u001b[?25hdone\n",
            "  Installing backend dependencies ... \u001b[?25l\u001b[?25hdone\n",
            "    Preparing wheel metadata ... \u001b[?25l\u001b[?25hdone\n",
            "\u001b[K     |████████████████████████████████| 15.7 MB 182 kB/s \n",
            "\u001b[K     |████████████████████████████████| 11.3 MB 38.1 MB/s \n",
            "\u001b[?25h  Building wheel for pyldavis (PEP 517) ... \u001b[?25l\u001b[?25hdone\n",
            "\u001b[31mERROR: pip's dependency resolver does not currently take into account all the packages that are installed. This behaviour is the source of the following dependency conflicts.\n",
            "tensorflow 2.6.0 requires numpy~=1.19.2, but you have numpy 1.21.2 which is incompatible.\n",
            "google-colab 1.0.0 requires pandas~=1.1.0; python_version >= \"3.0\", but you have pandas 1.3.2 which is incompatible.\n",
            "datascience 0.10.6 requires folium==0.2.1, but you have folium 0.8.3 which is incompatible.\n",
            "albumentations 0.1.12 requires imgaug<0.2.7,>=0.2.5, but you have imgaug 0.2.9 which is incompatible.\u001b[0m\n"
          ]
        }
      ]
    },
    {
      "cell_type": "code",
      "metadata": {
        "id": "BfRFoqb51zBS"
      },
      "source": [
        "from typing import List, Tuple"
      ],
      "execution_count": 1,
      "outputs": []
    },
    {
      "cell_type": "markdown",
      "metadata": {
        "id": "sibLfS6d_Dxu"
      },
      "source": [
        "# Load `20 Newsgroups` dataset into a Pandas DataFrame"
      ]
    },
    {
      "cell_type": "code",
      "metadata": {
        "id": "C93f3o_58fLT"
      },
      "source": [
        "import pandas as pd\n",
        "from IPython.display import display"
      ],
      "execution_count": 2,
      "outputs": []
    },
    {
      "cell_type": "code",
      "metadata": {
        "colab": {
          "base_uri": "https://localhost:8080/",
          "height": 417
        },
        "id": "UMG9tuOn9WkX",
        "outputId": "af0e45f7-8f87-4cb3-c22a-2e198f76ee57"
      },
      "source": [
        "dataset_json_url = \\\n",
        "  'https://raw.githubusercontent.com/selva86/datasets/master/newsgroups.json'\n",
        "dataframe = pd.read_json(dataset_json_url)\n",
        "\n",
        "display(dataframe)"
      ],
      "execution_count": 3,
      "outputs": [
        {
          "output_type": "display_data",
          "data": {
            "text/html": [
              "<div>\n",
              "<style scoped>\n",
              "    .dataframe tbody tr th:only-of-type {\n",
              "        vertical-align: middle;\n",
              "    }\n",
              "\n",
              "    .dataframe tbody tr th {\n",
              "        vertical-align: top;\n",
              "    }\n",
              "\n",
              "    .dataframe thead th {\n",
              "        text-align: right;\n",
              "    }\n",
              "</style>\n",
              "<table border=\"1\" class=\"dataframe\">\n",
              "  <thead>\n",
              "    <tr style=\"text-align: right;\">\n",
              "      <th></th>\n",
              "      <th>content</th>\n",
              "      <th>target</th>\n",
              "      <th>target_names</th>\n",
              "    </tr>\n",
              "  </thead>\n",
              "  <tbody>\n",
              "    <tr>\n",
              "      <th>0</th>\n",
              "      <td>From: lerxst@wam.umd.edu (where's my thing)\\nS...</td>\n",
              "      <td>7</td>\n",
              "      <td>rec.autos</td>\n",
              "    </tr>\n",
              "    <tr>\n",
              "      <th>1</th>\n",
              "      <td>From: guykuo@carson.u.washington.edu (Guy Kuo)...</td>\n",
              "      <td>4</td>\n",
              "      <td>comp.sys.mac.hardware</td>\n",
              "    </tr>\n",
              "    <tr>\n",
              "      <th>2</th>\n",
              "      <td>From: twillis@ec.ecn.purdue.edu (Thomas E Will...</td>\n",
              "      <td>4</td>\n",
              "      <td>comp.sys.mac.hardware</td>\n",
              "    </tr>\n",
              "    <tr>\n",
              "      <th>3</th>\n",
              "      <td>From: jgreen@amber (Joe Green)\\nSubject: Re: W...</td>\n",
              "      <td>1</td>\n",
              "      <td>comp.graphics</td>\n",
              "    </tr>\n",
              "    <tr>\n",
              "      <th>4</th>\n",
              "      <td>From: jcm@head-cfa.harvard.edu (Jonathan McDow...</td>\n",
              "      <td>14</td>\n",
              "      <td>sci.space</td>\n",
              "    </tr>\n",
              "    <tr>\n",
              "      <th>...</th>\n",
              "      <td>...</td>\n",
              "      <td>...</td>\n",
              "      <td>...</td>\n",
              "    </tr>\n",
              "    <tr>\n",
              "      <th>11309</th>\n",
              "      <td>From: jim.zisfein@factory.com (Jim Zisfein) \\n...</td>\n",
              "      <td>13</td>\n",
              "      <td>sci.med</td>\n",
              "    </tr>\n",
              "    <tr>\n",
              "      <th>11310</th>\n",
              "      <td>From: ebodin@pearl.tufts.edu\\nSubject: Screen ...</td>\n",
              "      <td>4</td>\n",
              "      <td>comp.sys.mac.hardware</td>\n",
              "    </tr>\n",
              "    <tr>\n",
              "      <th>11311</th>\n",
              "      <td>From: westes@netcom.com (Will Estes)\\nSubject:...</td>\n",
              "      <td>3</td>\n",
              "      <td>comp.sys.ibm.pc.hardware</td>\n",
              "    </tr>\n",
              "    <tr>\n",
              "      <th>11312</th>\n",
              "      <td>From: steve@hcrlgw (Steven Collins)\\nSubject: ...</td>\n",
              "      <td>1</td>\n",
              "      <td>comp.graphics</td>\n",
              "    </tr>\n",
              "    <tr>\n",
              "      <th>11313</th>\n",
              "      <td>From: gunning@cco.caltech.edu (Kevin J. Gunnin...</td>\n",
              "      <td>8</td>\n",
              "      <td>rec.motorcycles</td>\n",
              "    </tr>\n",
              "  </tbody>\n",
              "</table>\n",
              "<p>11314 rows × 3 columns</p>\n",
              "</div>"
            ],
            "text/plain": [
              "                                                 content  ...              target_names\n",
              "0      From: lerxst@wam.umd.edu (where's my thing)\\nS...  ...                 rec.autos\n",
              "1      From: guykuo@carson.u.washington.edu (Guy Kuo)...  ...     comp.sys.mac.hardware\n",
              "2      From: twillis@ec.ecn.purdue.edu (Thomas E Will...  ...     comp.sys.mac.hardware\n",
              "3      From: jgreen@amber (Joe Green)\\nSubject: Re: W...  ...             comp.graphics\n",
              "4      From: jcm@head-cfa.harvard.edu (Jonathan McDow...  ...                 sci.space\n",
              "...                                                  ...  ...                       ...\n",
              "11309  From: jim.zisfein@factory.com (Jim Zisfein) \\n...  ...                   sci.med\n",
              "11310  From: ebodin@pearl.tufts.edu\\nSubject: Screen ...  ...     comp.sys.mac.hardware\n",
              "11311  From: westes@netcom.com (Will Estes)\\nSubject:...  ...  comp.sys.ibm.pc.hardware\n",
              "11312  From: steve@hcrlgw (Steven Collins)\\nSubject: ...  ...             comp.graphics\n",
              "11313  From: gunning@cco.caltech.edu (Kevin J. Gunnin...  ...           rec.motorcycles\n",
              "\n",
              "[11314 rows x 3 columns]"
            ]
          },
          "metadata": {}
        }
      ]
    },
    {
      "cell_type": "code",
      "metadata": {
        "colab": {
          "base_uri": "https://localhost:8080/"
        },
        "id": "gv6E2E609cXk",
        "outputId": "5fbb759c-7d33-49b4-dbec-1b77f111589a"
      },
      "source": [
        "target_topics_list = dataframe['target_names'].unique()\n",
        "\n",
        "print(\n",
        "    \"Unique Target Topics (%d):\\n%s\" % (len(target_topics_list),\n",
        "                                        \" \".join(target_topics_list))\n",
        ")"
      ],
      "execution_count": 4,
      "outputs": [
        {
          "output_type": "stream",
          "name": "stdout",
          "text": [
            "Unique Target Topics (20):\n",
            "rec.autos comp.sys.mac.hardware comp.graphics sci.space talk.politics.guns sci.med comp.sys.ibm.pc.hardware comp.os.ms-windows.misc rec.motorcycles talk.religion.misc misc.forsale alt.atheism sci.electronics comp.windows.x rec.sport.hockey rec.sport.baseball soc.religion.christian talk.politics.mideast talk.politics.misc sci.crypt\n"
          ]
        }
      ]
    },
    {
      "cell_type": "markdown",
      "metadata": {
        "id": "uAqIUGUpB7na"
      },
      "source": [
        "# Split the dataset\n",
        "\n",
        "- 60% for `train set`\n",
        "- 20% for `validation set`\n",
        "- 20% for `test set`"
      ]
    },
    {
      "cell_type": "code",
      "metadata": {
        "id": "RODG9PW198H0"
      },
      "source": [
        "import numpy as np"
      ],
      "execution_count": 5,
      "outputs": []
    },
    {
      "cell_type": "code",
      "metadata": {
        "colab": {
          "base_uri": "https://localhost:8080/"
        },
        "id": "n98qEvpPb_Ew",
        "outputId": "22012391-d605-41db-fe81-ad4291803d77"
      },
      "source": [
        "trainset_dataframe, valset_dataframe, testset_dataframe = np.split(\n",
        "    dataframe.sample(frac=1, random_state=42),\n",
        "    [int(.6*len(dataframe)), int(.8*len(dataframe))]\n",
        ")\n",
        " \n",
        "\n",
        "print(\n",
        "    \"trainset size: %d\" % trainset_dataframe.__len__()\n",
        ")\n",
        "print(\n",
        "    \"valset size: %d\" % valset_dataframe.__len__()\n",
        ")\n",
        "print(\n",
        "    \"testset size: %d\" % testset_dataframe.__len__()\n",
        ")"
      ],
      "execution_count": 6,
      "outputs": [
        {
          "output_type": "stream",
          "name": "stdout",
          "text": [
            "trainset size: 6788\n",
            "valset size: 2263\n",
            "testset size: 2263\n"
          ]
        }
      ]
    },
    {
      "cell_type": "markdown",
      "metadata": {
        "id": "dTy0QXZB7YoG"
      },
      "source": [
        "# Make Corpora from the dataset"
      ]
    },
    {
      "cell_type": "code",
      "metadata": {
        "id": "lkDbcfUn8F6u"
      },
      "source": [
        "def make_corpus_from_dataframe(dataframe: pd.DataFrame) -> List[str]:\n",
        "  return dataframe['content'].values.tolist()"
      ],
      "execution_count": 7,
      "outputs": []
    },
    {
      "cell_type": "code",
      "metadata": {
        "colab": {
          "base_uri": "https://localhost:8080/"
        },
        "id": "z_vsA6wZOhSB",
        "outputId": "18e9d55e-50c2-4989-ad8f-7c12beef5274"
      },
      "source": [
        "%%time\n",
        " \n",
        "train_corpus_raw = make_corpus_from_dataframe(trainset_dataframe)\n",
        "val_corpus_raw = make_corpus_from_dataframe(valset_dataframe)\n",
        "test_corpus_raw = make_corpus_from_dataframe(testset_dataframe)\n",
        " \n",
        "print(train_corpus_raw[0])"
      ],
      "execution_count": 8,
      "outputs": [
        {
          "output_type": "stream",
          "name": "stdout",
          "text": [
            "From: rrn@po.CWRU.Edu (Robert R. Novitskey)\n",
            "Subject: CYCLONE AND TEMPEST?????\n",
            "Article-I.D.: usenet.1pskav$qtu\n",
            "Reply-To: rrn@po.CWRU.Edu (Robert R. Novitskey)\n",
            "Organization: Case Western Reserve University, Cleveland, OH (USA)\n",
            "Lines: 10\n",
            "NNTP-Posting-Host: thor.ins.cwru.edu\n",
            "\n",
            "\n",
            "Could someone please post any info on these systems.\n",
            "\n",
            "Thanks.\n",
            "BoB\n",
            "-- \n",
            "---------------------------------------------------------------------- \n",
            "Robert Novitskey | \"Pursuing women is similar to banging one's head\n",
            "rrn@po.cwru.edu  |  against a wall...with less opportunity for reward\" \n",
            "---------------------------------------------------------------------- \n",
            "\n",
            "CPU times: user 1.37 ms, sys: 77 µs, total: 1.45 ms\n",
            "Wall time: 1.28 ms\n"
          ]
        }
      ]
    },
    {
      "cell_type": "markdown",
      "metadata": {
        "id": "a4NDu3lYS2V0"
      },
      "source": [
        "# Standardization\n",
        "Standardization refers to preprocessing the text, typically converts text to lowercase and remove punctuation or HTML elements to simplify the dataset.\n",
        "\n",
        "To prevent `train/test skew` (also know as `train/serving skew`), it is important to preprocess the data identically at train and test time. To facilitate this, the `tensorflow.keras.layers.experimental.preprocessing.TextVectorization` layer can be included directly inside your model. These tasks can be accomplished with this layer:\n",
        "\n",
        "\n",
        "*   Standardization (preprocessing): converts text to lowercase and strips punctuation. You have to write a custom standardization function to remove the HTML element.\n",
        "\n",
        "\n",
        "*   Tokenization: splitting strings into tokens (for example, splitting a sentence into individual words, by splitting on whitespace).\n",
        "*   Vectorization: converting tokens into numbers so they can be fed into a neural network.\n",
        "\n"
      ]
    },
    {
      "cell_type": "markdown",
      "metadata": {
        "id": "3RkOUXnlKDj6"
      },
      "source": [
        "## Lowercase the text"
      ]
    },
    {
      "cell_type": "code",
      "metadata": {
        "id": "AYlAlKbsKDKQ"
      },
      "source": [
        "def lowercase(docs: List[str]) -> List[str]:\n",
        "  return [doc.lower() for doc in docs ]"
      ],
      "execution_count": 9,
      "outputs": []
    },
    {
      "cell_type": "code",
      "metadata": {
        "colab": {
          "base_uri": "https://localhost:8080/"
        },
        "id": "i4EYGakdPkUv",
        "outputId": "8d3d205c-84a4-4ad1-fc61-10b6e5803f8b"
      },
      "source": [
        "train_corpus_raw = lowercase(train_corpus_raw)\n",
        "val_corpus_raw = lowercase(val_corpus_raw)\n",
        "test_corpus_raw = lowercase(test_corpus_raw)\n",
        "\n",
        "print(train_corpus_raw[0])"
      ],
      "execution_count": 10,
      "outputs": [
        {
          "output_type": "stream",
          "name": "stdout",
          "text": [
            "from: rrn@po.cwru.edu (robert r. novitskey)\n",
            "subject: cyclone and tempest?????\n",
            "article-i.d.: usenet.1pskav$qtu\n",
            "reply-to: rrn@po.cwru.edu (robert r. novitskey)\n",
            "organization: case western reserve university, cleveland, oh (usa)\n",
            "lines: 10\n",
            "nntp-posting-host: thor.ins.cwru.edu\n",
            "\n",
            "\n",
            "could someone please post any info on these systems.\n",
            "\n",
            "thanks.\n",
            "bob\n",
            "-- \n",
            "---------------------------------------------------------------------- \n",
            "robert novitskey | \"pursuing women is similar to banging one's head\n",
            "rrn@po.cwru.edu  |  against a wall...with less opportunity for reward\" \n",
            "---------------------------------------------------------------------- \n",
            "\n"
          ]
        }
      ]
    },
    {
      "cell_type": "markdown",
      "metadata": {
        "id": "-L7AqAy6f40n"
      },
      "source": [
        "## Remove non-ASCII characters"
      ]
    },
    {
      "cell_type": "code",
      "metadata": {
        "id": "6aqCea_dAmc6"
      },
      "source": [
        "def remove_non_ascii_chars(docs: List[str]) -> List[str]:\n",
        "  \"\"\"\n",
        "  https://en.wikipedia.org/wiki/List_of_Unicode_characters\n",
        "  \"\"\"\n",
        "  return [\n",
        "          ''.join((char for char in doc if 0 < ord(char) < 127))\n",
        "          for doc in docs\n",
        "  ]"
      ],
      "execution_count": 11,
      "outputs": []
    },
    {
      "cell_type": "code",
      "metadata": {
        "colab": {
          "base_uri": "https://localhost:8080/"
        },
        "id": "60DsIzdyOsWm",
        "outputId": "688ef159-ba4d-4280-ce6c-72d2e5828200"
      },
      "source": [
        "%%time\n",
        " \n",
        "train_corpus_raw = remove_non_ascii_chars(train_corpus_raw)\n",
        "val_corpus_raw = remove_non_ascii_chars(val_corpus_raw)\n",
        "test_corpus_raw = remove_non_ascii_chars(test_corpus_raw)\n",
        " \n",
        "print(train_corpus_raw[0])"
      ],
      "execution_count": 12,
      "outputs": [
        {
          "output_type": "stream",
          "name": "stdout",
          "text": [
            "from: rrn@po.cwru.edu (robert r. novitskey)\n",
            "subject: cyclone and tempest?????\n",
            "article-i.d.: usenet.1pskav$qtu\n",
            "reply-to: rrn@po.cwru.edu (robert r. novitskey)\n",
            "organization: case western reserve university, cleveland, oh (usa)\n",
            "lines: 10\n",
            "nntp-posting-host: thor.ins.cwru.edu\n",
            "\n",
            "\n",
            "could someone please post any info on these systems.\n",
            "\n",
            "thanks.\n",
            "bob\n",
            "-- \n",
            "---------------------------------------------------------------------- \n",
            "robert novitskey | \"pursuing women is similar to banging one's head\n",
            "rrn@po.cwru.edu  |  against a wall...with less opportunity for reward\" \n",
            "---------------------------------------------------------------------- \n",
            "\n",
            "CPU times: user 3.62 s, sys: 15.5 ms, total: 3.63 s\n",
            "Wall time: 3.64 s\n"
          ]
        }
      ]
    },
    {
      "cell_type": "markdown",
      "metadata": {
        "id": "IDhKNnskW_hp"
      },
      "source": [
        "## Remove HTML Tags"
      ]
    },
    {
      "cell_type": "code",
      "metadata": {
        "id": "NvGUmumPgALb"
      },
      "source": [
        "import re"
      ],
      "execution_count": 13,
      "outputs": []
    },
    {
      "cell_type": "code",
      "metadata": {
        "id": "5DMjBfP9XHPr"
      },
      "source": [
        "def remove_html_tags(docs: List[str]) -> List[str]:\n",
        "  # return [re.sub('<.+?>', ' ', doc) for doc in docs]\n",
        "  tmp_docs = [re.sub('<br />', ' ', doc) for doc in docs]\n",
        "  tmp_docs = [re.sub('<br/>', ' ', doc) for doc in tmp_docs]\n",
        "  tmp_docs = [re.sub('<br>', ' ', doc) for doc in tmp_docs]\n",
        "  return tmp_docs"
      ],
      "execution_count": 14,
      "outputs": []
    },
    {
      "cell_type": "code",
      "metadata": {
        "colab": {
          "base_uri": "https://localhost:8080/"
        },
        "id": "RKnbkk1Lb4rT",
        "outputId": "15576553-35aa-4c22-9cf8-b03044203570"
      },
      "source": [
        "%%time\n",
        " \n",
        "train_corpus_raw = remove_html_tags(train_corpus_raw)\n",
        "val_corpus_raw = remove_html_tags(val_corpus_raw)\n",
        "test_corpus_raw = remove_html_tags(test_corpus_raw)\n",
        " \n",
        "print(train_corpus_raw[0])"
      ],
      "execution_count": 15,
      "outputs": [
        {
          "output_type": "stream",
          "name": "stdout",
          "text": [
            "from: rrn@po.cwru.edu (robert r. novitskey)\n",
            "subject: cyclone and tempest?????\n",
            "article-i.d.: usenet.1pskav$qtu\n",
            "reply-to: rrn@po.cwru.edu (robert r. novitskey)\n",
            "organization: case western reserve university, cleveland, oh (usa)\n",
            "lines: 10\n",
            "nntp-posting-host: thor.ins.cwru.edu\n",
            "\n",
            "\n",
            "could someone please post any info on these systems.\n",
            "\n",
            "thanks.\n",
            "bob\n",
            "-- \n",
            "---------------------------------------------------------------------- \n",
            "robert novitskey | \"pursuing women is similar to banging one's head\n",
            "rrn@po.cwru.edu  |  against a wall...with less opportunity for reward\" \n",
            "---------------------------------------------------------------------- \n",
            "\n",
            "CPU times: user 78.7 ms, sys: 0 ns, total: 78.7 ms\n",
            "Wall time: 79.3 ms\n"
          ]
        }
      ]
    },
    {
      "cell_type": "markdown",
      "metadata": {
        "id": "ttjit84GwuAN"
      },
      "source": [
        "## Replace common abbreviations"
      ]
    },
    {
      "cell_type": "code",
      "metadata": {
        "id": "KpGPbyfJwtFe"
      },
      "source": [
        "def replace_abbreviations_in_doc(doc: str) -> str:\n",
        "    doc = re.sub(r'\\bthat\\'s\\b', 'that is', doc)\n",
        "    doc = re.sub(r'\\bi\\'ve\\b', 'i have', doc)\n",
        "    doc = re.sub(r'\\bi\\'m\\b', 'i am', doc)\n",
        "    doc = re.sub(r'\\bit\\'s\\b', 'it is', doc)\n",
        "    doc = re.sub(r'\\bya\\b', 'yeah', doc)\n",
        "    doc = re.sub(r'\\bcan\\'t\\b', 'can not', doc)\n",
        "    doc = re.sub(r'\\bcant\\b', 'can not', doc)\n",
        "    doc = re.sub(r'\\bdon\\'t\\b', 'do not', doc)\n",
        "    doc = re.sub(r'\\bdont\\b', 'do not', doc)\n",
        "    doc = re.sub(r'\\bdidn\\'t\\b', 'did not', doc)\n",
        "    doc = re.sub(r'\\bwon\\'t\\b', 'will not', doc)\n",
        "    doc = re.sub(r'\\bwont\\b', 'will not', doc)\n",
        "    doc = re.sub(r'\\bi\\'d\\b', 'i would', doc)\n",
        "    doc = re.sub(r'wtf', 'what the fuck', doc)\n",
        "    doc = re.sub(r'\\bwth\\b', 'what the hell', doc)\n",
        "    # doc = re.sub(r'\\br\\b', 'are', doc)\n",
        "    # doc = re.sub(r'\\bu\\b', 'you', doc)\n",
        "    doc = re.sub(r'\\bo+k\\b', 'ok', doc)\n",
        "    # doc = re.sub(r'\\bsux\\b', 'sucks', doc)\n",
        "    doc = re.sub(r'\\bno+\\b', 'no', doc)\n",
        "    doc = re.sub(r'\\bcoo+l\\b', 'cool', doc)\n",
        "    return doc\n",
        "\n",
        "def replace_abbreviations_in_corpus(docs: List[str]) -> List[str]:\n",
        "  return [replace_abbreviations_in_doc(doc) for doc in docs]"
      ],
      "execution_count": 16,
      "outputs": []
    },
    {
      "cell_type": "code",
      "metadata": {
        "id": "o5SsXhi3xI86",
        "colab": {
          "base_uri": "https://localhost:8080/"
        },
        "outputId": "d787ef18-48da-4c96-abbf-27bc39c7648d"
      },
      "source": [
        "%%time\n",
        " \n",
        "train_corpus_raw = replace_abbreviations_in_corpus(train_corpus_raw)\n",
        "val_corpus_raw = replace_abbreviations_in_corpus(val_corpus_raw)\n",
        "test_corpus_raw = replace_abbreviations_in_corpus(test_corpus_raw)\n",
        " \n",
        "print(train_corpus_raw[0])"
      ],
      "execution_count": 17,
      "outputs": [
        {
          "output_type": "stream",
          "name": "stdout",
          "text": [
            "from: rrn@po.cwru.edu (robert r. novitskey)\n",
            "subject: cyclone and tempest?????\n",
            "article-i.d.: usenet.1pskav$qtu\n",
            "reply-to: rrn@po.cwru.edu (robert r. novitskey)\n",
            "organization: case western reserve university, cleveland, oh (usa)\n",
            "lines: 10\n",
            "nntp-posting-host: thor.ins.cwru.edu\n",
            "\n",
            "\n",
            "could someone please post any info on these systems.\n",
            "\n",
            "thanks.\n",
            "bob\n",
            "-- \n",
            "---------------------------------------------------------------------- \n",
            "robert novitskey | \"pursuing women is similar to banging one's head\n",
            "rrn@po.cwru.edu  |  against a wall...with less opportunity for reward\" \n",
            "---------------------------------------------------------------------- \n",
            "\n",
            "CPU times: user 10.3 s, sys: 57.6 ms, total: 10.3 s\n",
            "Wall time: 10.4 s\n"
          ]
        }
      ]
    },
    {
      "cell_type": "markdown",
      "metadata": {
        "id": "jbuSh_9zf_FB"
      },
      "source": [
        "## Remove extra whitespaces"
      ]
    },
    {
      "cell_type": "code",
      "metadata": {
        "id": "2qPD96r-B_LU"
      },
      "source": [
        "def remove_extra_whitespaces(docs: List[str]) -> List[str]:\n",
        "  return [re.sub('\\s+', ' ', doc).strip() for doc in docs]"
      ],
      "execution_count": 18,
      "outputs": []
    },
    {
      "cell_type": "code",
      "metadata": {
        "colab": {
          "base_uri": "https://localhost:8080/"
        },
        "id": "J6Qxi-nmgEse",
        "outputId": "f5a7fb00-6bd4-4fb5-e878-6395402982a4"
      },
      "source": [
        "%%time\n",
        " \n",
        "train_corpus_raw = remove_extra_whitespaces(train_corpus_raw)\n",
        "val_corpus_raw = remove_extra_whitespaces(val_corpus_raw)\n",
        "test_corpus_raw = remove_extra_whitespaces(test_corpus_raw)\n",
        " \n",
        "print(train_corpus_raw[0])"
      ],
      "execution_count": 19,
      "outputs": [
        {
          "output_type": "stream",
          "name": "stdout",
          "text": [
            "from: rrn@po.cwru.edu (robert r. novitskey) subject: cyclone and tempest????? article-i.d.: usenet.1pskav$qtu reply-to: rrn@po.cwru.edu (robert r. novitskey) organization: case western reserve university, cleveland, oh (usa) lines: 10 nntp-posting-host: thor.ins.cwru.edu could someone please post any info on these systems. thanks. bob -- ---------------------------------------------------------------------- robert novitskey | \"pursuing women is similar to banging one's head rrn@po.cwru.edu | against a wall...with less opportunity for reward\" ----------------------------------------------------------------------\n",
            "CPU times: user 1.05 s, sys: 11 ms, total: 1.06 s\n",
            "Wall time: 1.06 s\n"
          ]
        }
      ]
    },
    {
      "cell_type": "markdown",
      "metadata": {
        "id": "jEsd-NnfggfC"
      },
      "source": [
        "# Spell correction and making `n-gram` phrases"
      ]
    },
    {
      "cell_type": "code",
      "metadata": {
        "id": "VU35kaJxghoA"
      },
      "source": [
        "import spacy\n",
        "# import contextualSpellCheck\n",
        "\n",
        "import gensim"
      ],
      "execution_count": 20,
      "outputs": []
    },
    {
      "cell_type": "code",
      "metadata": {
        "id": "2GwvCjtcgkx8"
      },
      "source": [
        "spacy_nlp = spacy.load(\n",
        "    'en_core_web_sm',\n",
        "    # disable extra componens for efficiency\n",
        "    disable=['parser', 'ner']\n",
        ")"
      ],
      "execution_count": 21,
      "outputs": []
    },
    {
      "cell_type": "code",
      "metadata": {
        "id": "BL16tRNrpzkF"
      },
      "source": [
        "from pprint import pprint"
      ],
      "execution_count": 22,
      "outputs": []
    },
    {
      "cell_type": "code",
      "metadata": {
        "colab": {
          "base_uri": "https://localhost:8080/"
        },
        "id": "4Z--5HVmNmns",
        "outputId": "45c3c727-e41e-4f35-be49-97da5036c4f0"
      },
      "source": [
        "print(train_corpus_raw[0])\n",
        "\n",
        "print('\\n', (\"ORIGINAL TOKEN\".center(20),\n",
        "           \"TOKEN LEMMA\".center(20),\n",
        "           \"POS\".center(10),\n",
        "           \"STOP WORD\".center(11)))\n",
        "print('', (\"-\"*20, \"-\"*20, \"-\"*10, \"-\"*11))\n",
        "\n",
        "pprint(\n",
        "  [\n",
        "    (\n",
        "        token.text.center(20),\n",
        "        token.lemma_.center(20),\n",
        "        token.pos_.center(10),\n",
        "        str(token.is_stop).center(10)\n",
        "    ) for token in spacy_nlp(train_corpus_raw[0])\n",
        "  ]\n",
        ")"
      ],
      "execution_count": 23,
      "outputs": [
        {
          "output_type": "stream",
          "name": "stdout",
          "text": [
            "from: rrn@po.cwru.edu (robert r. novitskey) subject: cyclone and tempest????? article-i.d.: usenet.1pskav$qtu reply-to: rrn@po.cwru.edu (robert r. novitskey) organization: case western reserve university, cleveland, oh (usa) lines: 10 nntp-posting-host: thor.ins.cwru.edu could someone please post any info on these systems. thanks. bob -- ---------------------------------------------------------------------- robert novitskey | \"pursuing women is similar to banging one's head rrn@po.cwru.edu | against a wall...with less opportunity for reward\" ----------------------------------------------------------------------\n",
            "\n",
            " ('   ORIGINAL TOKEN   ', '    TOKEN LEMMA     ', '   POS    ', ' STOP WORD ')\n",
            " ('--------------------', '--------------------', '----------', '-----------')\n",
            "[('        from        ', '        from        ', '   ADP    ', '   True   '),\n",
            " ('         :          ', '         :          ', '  PUNCT   ', '  False   '),\n",
            " ('  rrn@po.cwru.edu   ', '  rrn@po.cwru.edu   ', '  PROPN   ', '  False   '),\n",
            " ('         (          ', '         (          ', '  PUNCT   ', '  False   '),\n",
            " ('       robert       ', '       robert       ', '  PROPN   ', '  False   '),\n",
            " ('         r.         ', '         r.         ', '  PROPN   ', '  False   '),\n",
            " ('     novitskey      ', '     novitskey      ', '  PROPN   ', '  False   '),\n",
            " ('         )          ', '         )          ', '  PUNCT   ', '  False   '),\n",
            " ('      subject       ', '      subject       ', '   NOUN   ', '  False   '),\n",
            " ('         :          ', '         :          ', '  PUNCT   ', '  False   '),\n",
            " ('      cyclone       ', '      cyclone       ', '   NOUN   ', '  False   '),\n",
            " ('        and         ', '        and         ', '  CCONJ   ', '   True   '),\n",
            " ('      tempest       ', '        temp        ', '   ADJ    ', '  False   '),\n",
            " ('         ?          ', '         ?          ', '  PUNCT   ', '  False   '),\n",
            " ('         ?          ', '         ?          ', '  PUNCT   ', '  False   '),\n",
            " ('         ?          ', '         ?          ', '  PUNCT   ', '  False   '),\n",
            " ('         ?          ', '         ?          ', '  PUNCT   ', '  False   '),\n",
            " ('         ?          ', '         ?          ', '  PUNCT   ', '  False   '),\n",
            " ('      article       ', '      article       ', '   NOUN   ', '  False   '),\n",
            " ('         -          ', '         -          ', '  PUNCT   ', '  False   '),\n",
            " ('        i.d         ', '        i.d         ', '  PROPN   ', '  False   '),\n",
            " ('         .          ', '         .          ', '  PROPN   ', '  False   '),\n",
            " ('         :          ', '         :          ', '  PUNCT   ', '  False   '),\n",
            " (' usenet.1pskav$qtu  ', ' usenet.1pskav$qtu  ', '   NUM    ', '  False   '),\n",
            " ('       reply        ', '       reply        ', '   NOUN   ', '  False   '),\n",
            " ('         -          ', '         -          ', '  PUNCT   ', '  False   '),\n",
            " ('         to         ', '         to         ', '   ADP    ', '   True   '),\n",
            " ('         :          ', '         :          ', '  PUNCT   ', '  False   '),\n",
            " ('  rrn@po.cwru.edu   ', '  rrn@po.cwru.edu   ', '  PROPN   ', '  False   '),\n",
            " ('         (          ', '         (          ', '  PUNCT   ', '  False   '),\n",
            " ('       robert       ', '       robert       ', '  PROPN   ', '  False   '),\n",
            " ('         r.         ', '         r.         ', '  PROPN   ', '  False   '),\n",
            " ('     novitskey      ', '     novitskey      ', '  PROPN   ', '  False   '),\n",
            " ('         )          ', '         )          ', '  PUNCT   ', '  False   '),\n",
            " ('    organization    ', '    organization    ', '   NOUN   ', '  False   '),\n",
            " ('         :          ', '         :          ', '  PUNCT   ', '  False   '),\n",
            " ('        case        ', '        case        ', '   NOUN   ', '  False   '),\n",
            " ('      western       ', '      western       ', '  PROPN   ', '  False   '),\n",
            " ('      reserve       ', '      reserve       ', '  PROPN   ', '  False   '),\n",
            " ('     university     ', '     university     ', '  PROPN   ', '  False   '),\n",
            " ('         ,          ', '         ,          ', '  PUNCT   ', '  False   '),\n",
            " ('     cleveland      ', '     cleveland      ', '  PROPN   ', '  False   '),\n",
            " ('         ,          ', '         ,          ', '  PUNCT   ', '  False   '),\n",
            " ('         oh         ', '         oh         ', '   INTJ   ', '  False   '),\n",
            " ('         (          ', '         (          ', '  PUNCT   ', '  False   '),\n",
            " ('        usa         ', '        usa         ', '  PROPN   ', '  False   '),\n",
            " ('         )          ', '         )          ', '  PUNCT   ', '  False   '),\n",
            " ('       lines        ', '        line        ', '   NOUN   ', '  False   '),\n",
            " ('         :          ', '         :          ', '  PUNCT   ', '  False   '),\n",
            " ('         10         ', '         10         ', '   NUM    ', '  False   '),\n",
            " ('        nntp        ', '        nntp        ', '   NOUN   ', '  False   '),\n",
            " ('         -          ', '         -          ', '  PUNCT   ', '  False   '),\n",
            " ('      posting       ', '        post        ', '   VERB   ', '  False   '),\n",
            " ('         -          ', '         -          ', '  PUNCT   ', '  False   '),\n",
            " ('        host        ', '        host        ', '   NOUN   ', '  False   '),\n",
            " ('         :          ', '         :          ', '  PUNCT   ', '  False   '),\n",
            " (' thor.ins.cwru.edu  ', ' thor.ins.cwru.edu  ', '  PROPN   ', '  False   '),\n",
            " ('       could        ', '       could        ', '   AUX    ', '   True   '),\n",
            " ('      someone       ', '      someone       ', '   PRON   ', '   True   '),\n",
            " ('       please       ', '       please       ', '   INTJ   ', '   True   '),\n",
            " ('        post        ', '        post        ', '   VERB   ', '  False   '),\n",
            " ('        any         ', '        any         ', '   DET    ', '   True   '),\n",
            " ('        info        ', '        info        ', '   NOUN   ', '  False   '),\n",
            " ('         on         ', '         on         ', '   ADP    ', '   True   '),\n",
            " ('       these        ', '       these        ', '   DET    ', '   True   '),\n",
            " ('      systems       ', '       system       ', '   NOUN   ', '  False   '),\n",
            " ('         .          ', '         .          ', '  PUNCT   ', '  False   '),\n",
            " ('       thanks       ', '       thank        ', '   NOUN   ', '  False   '),\n",
            " ('         .          ', '         .          ', '  PUNCT   ', '  False   '),\n",
            " ('        bob         ', '        bob         ', '  PROPN   ', '  False   '),\n",
            " ('         --         ', '         --         ', '  PUNCT   ', '  False   '),\n",
            " ('----------------------------------------------------------------------',\n",
            "  '----------------------------------------------------------------------',\n",
            "  '  PUNCT   ',\n",
            "  '  False   '),\n",
            " ('       robert       ', '       robert       ', '  PROPN   ', '  False   '),\n",
            " ('     novitskey      ', '     novitskey      ', '  PROPN   ', '  False   '),\n",
            " ('         |          ', '         |          ', '   ADV    ', '  False   '),\n",
            " ('         \"          ', '         \"          ', '  PUNCT   ', '  False   '),\n",
            " ('      pursuing      ', '       pursue       ', '   VERB   ', '  False   '),\n",
            " ('       women        ', '       woman        ', '   NOUN   ', '  False   '),\n",
            " ('         is         ', '         be         ', '   VERB   ', '   True   '),\n",
            " ('      similar       ', '      similar       ', '   ADJ    ', '  False   '),\n",
            " ('         to         ', '         to         ', '   ADP    ', '   True   '),\n",
            " ('      banging       ', '        bang        ', '   VERB   ', '  False   '),\n",
            " ('        one         ', '        one         ', '   PRON   ', '   True   '),\n",
            " (\"         's         \", \"         's         \", '   PART   ', '   True   '),\n",
            " ('        head        ', '        head        ', '   NOUN   ', '  False   '),\n",
            " ('  rrn@po.cwru.edu   ', '  rrn@po.cwru.edu   ', '   VERB   ', '  False   '),\n",
            " ('         |          ', '         |          ', '   ADV    ', '  False   '),\n",
            " ('      against       ', '      against       ', '   ADP    ', '   True   '),\n",
            " ('         a          ', '         a          ', '   DET    ', '   True   '),\n",
            " ('        wall        ', '        wall        ', '   NOUN   ', '  False   '),\n",
            " ('        ...         ', '        ...         ', '  PUNCT   ', '  False   '),\n",
            " ('        with        ', '        with        ', '   ADP    ', '   True   '),\n",
            " ('        less        ', '        less        ', '   ADJ    ', '   True   '),\n",
            " ('    opportunity     ', '    opportunity     ', '   NOUN   ', '  False   '),\n",
            " ('        for         ', '        for         ', '   ADP    ', '   True   '),\n",
            " ('       reward       ', '       reward       ', '   NOUN   ', '  False   '),\n",
            " ('         \"          ', '         \"          ', '  PUNCT   ', '  False   '),\n",
            " ('----------------------------------------------------------------------',\n",
            "  '----------------------------------------------------------------------',\n",
            "  '  PUNCT   ',\n",
            "  '  False   ')]\n"
          ]
        }
      ]
    },
    {
      "cell_type": "markdown",
      "metadata": {
        "id": "cYarTYwmxCHl"
      },
      "source": [
        "## Spell Correction"
      ]
    },
    {
      "cell_type": "code",
      "metadata": {
        "id": "EMuUzJdKplDb"
      },
      "source": [
        "# add contextual spell correction using BERT to Spacy pipeline\n",
        "# https://spacy.io/universe/project/contextualSpellCheck\n",
        "# spacy_nlp.add_pipe('sentencizer')\n",
        "# contextualSpellCheck.add_to_pipe(spacy_nlp)\n",
        "# ValueError: [E030] Sentence boundaries unset. You can add the 'sentencizer' component to the pipeline with: `nlp.add_pipe('sentencizer')`. Alternatively, add the dependency parser or sentence recognizer, or set sentence boundaries by setting `doc[i].is_sent_start`."
      ],
      "execution_count": null,
      "outputs": []
    },
    {
      "cell_type": "code",
      "metadata": {
        "id": "zeLVPK0TxA_u"
      },
      "source": [
        "# train_corpus_spacy = [doc._.outcome_spellCheck for doc in train_corpus_spacy]"
      ],
      "execution_count": null,
      "outputs": []
    },
    {
      "cell_type": "markdown",
      "metadata": {
        "id": "tsSizcxQg7av"
      },
      "source": [
        "## Make n-gram (unigram, bigram and trigram) corpus"
      ]
    },
    {
      "cell_type": "code",
      "metadata": {
        "id": "HCq8s5I1NyLQ"
      },
      "source": [
        "def make_unigram(docs_raw: List[str]) -> List[List[str]]:\n",
        "  \"\"\"\n",
        "  Tokenizes the corpus\n",
        "  \"\"\"\n",
        "  return [\n",
        "    [token.text for token in spacy_nlp(doc)]\n",
        "    for doc in docs_raw\n",
        "  ]\n",
        "\n",
        "\n",
        "def make_bigram(unigram_docs: List[List[str]]) -> List[List[str]]:\n",
        "  bigram_phraser_model = gensim.models.phrases.Phraser(\n",
        "      gensim.models.Phrases(\n",
        "          unigram_docs,\n",
        "          # ignore all phrases with total collected count lower than `min_count`\n",
        "          min_count=5,\n",
        "          # the min score (based on `scoring` function) for forming the phrases\n",
        "          # higher value means fewer phrases\n",
        "          threshold=100,\n",
        "          # https://radimrehurek.com/gensim/models/phrases.html#gensim.models.phrases.original_scorer\n",
        "          # scoring='npmi',\n",
        "          # connector_words=gensim.models.phrases.ENGLISH_CONNECTOR_WORDS\n",
        "      )\n",
        "  )\n",
        " \n",
        "  return bigram_phraser_model[unigram_docs]\n",
        " \n",
        " \n",
        "def make_trigram(bigram_docs: List[List[str]]) -> List[List[str]]:\n",
        "  trigram_phraser_model = gensim.models.phrases.Phraser(\n",
        "      gensim.models.Phrases(\n",
        "          bigram_docs,\n",
        "          threshold=100\n",
        "      )\n",
        "  )\n",
        " \n",
        "  return trigram_phraser_model[bigram_docs]"
      ],
      "execution_count": 24,
      "outputs": []
    },
    {
      "cell_type": "code",
      "metadata": {
        "id": "fAL0ZU-bhMfC",
        "colab": {
          "base_uri": "https://localhost:8080/"
        },
        "outputId": "08e840de-5898-4a00-9457-9cc6a1778408"
      },
      "source": [
        "%%time\n",
        "\n",
        "train_corpus_unigram = make_unigram(train_corpus_raw)\n",
        "val_corpus_unigram = make_unigram(val_corpus_raw)\n",
        "test_corpus_unigram = make_unigram(test_corpus_raw)\n",
        "\n",
        "train_corpus_bigram = make_bigram(train_corpus_unigram)\n",
        "val_corpus_bigram = make_bigram(val_corpus_unigram)\n",
        "test_corpus_bigram = make_bigram(test_corpus_unigram)\n",
        "\n",
        "train_corpus_trigram = make_trigram(train_corpus_bigram)\n",
        "val_corpus_trigram = make_trigram(val_corpus_bigram)\n",
        "test_corpus_trigram = make_trigram(test_corpus_bigram)\n",
        "\n",
        "\n",
        "print(\"Unigram Corpus:\\n{}\".format(train_corpus_unigram[0]))\n",
        "print(\"Bigram Corpus:\\n{}\".format(train_corpus_bigram[0]))\n",
        "print(\"Trigram Corpus:\\n{}\".format(train_corpus_trigram[0]))"
      ],
      "execution_count": 25,
      "outputs": [
        {
          "output_type": "stream",
          "name": "stdout",
          "text": [
            "Unigram Corpus:\n",
            "['from', ':', 'rrn@po.cwru.edu', '(', 'robert', 'r.', 'novitskey', ')', 'subject', ':', 'cyclone', 'and', 'tempest', '?', '?', '?', '?', '?', 'article', '-', 'i.d', '.', ':', 'usenet.1pskav$qtu', 'reply', '-', 'to', ':', 'rrn@po.cwru.edu', '(', 'robert', 'r.', 'novitskey', ')', 'organization', ':', 'case', 'western', 'reserve', 'university', ',', 'cleveland', ',', 'oh', '(', 'usa', ')', 'lines', ':', '10', 'nntp', '-', 'posting', '-', 'host', ':', 'thor.ins.cwru.edu', 'could', 'someone', 'please', 'post', 'any', 'info', 'on', 'these', 'systems', '.', 'thanks', '.', 'bob', '--', '----------------------------------------------------------------------', 'robert', 'novitskey', '|', '\"', 'pursuing', 'women', 'is', 'similar', 'to', 'banging', 'one', \"'s\", 'head', 'rrn@po.cwru.edu', '|', 'against', 'a', 'wall', '...', 'with', 'less', 'opportunity', 'for', 'reward', '\"', '----------------------------------------------------------------------']\n",
            "Bigram Corpus:\n",
            "['from', ':', 'rrn@po.cwru.edu', '(', 'robert', 'r._novitskey', ')', 'subject', ':', 'cyclone', 'and', 'tempest', '?', '?', '?', '?', '?', 'article', '-', 'i.d', '.', ':', 'usenet.1pskav$qtu', 'reply', '-', 'to', ':', 'rrn@po.cwru.edu', '(', 'robert', 'r._novitskey', ')', 'organization', ':', 'case_western', 'reserve_university', ',', 'cleveland', ',', 'oh', '(', 'usa', ')', 'lines', ':', '10', 'nntp', '-', 'posting', '-', 'host', ':', 'thor.ins.cwru.edu', 'could', 'someone', 'please', 'post', 'any', 'info', 'on', 'these', 'systems', '.', 'thanks', '.', 'bob', '--', '----------------------------------------------------------------------', 'robert', 'novitskey', '|', '\"', 'pursuing', 'women', 'is', 'similar', 'to', 'banging', 'one', \"'s\", 'head', 'rrn@po.cwru.edu', '|', 'against', 'a', 'wall', '...', 'with', 'less', 'opportunity', 'for', 'reward', '\"', '----------------------------------------------------------------------']\n",
            "Trigram Corpus:\n",
            "['from', ':', 'rrn@po.cwru.edu', '(', 'robert_r._novitskey', ')', 'subject', ':', 'cyclone', 'and', 'tempest', '?', '?', '?', '?', '?', 'article', '-', 'i.d', '.', ':', 'usenet.1pskav$qtu', 'reply', '-', 'to', ':', 'rrn@po.cwru.edu', '(', 'robert_r._novitskey', ')', 'organization', ':', 'case_western', 'reserve_university', ',', 'cleveland', ',', 'oh', '(', 'usa', ')', 'lines', ':', '10', 'nntp', '-', 'posting', '-', 'host', ':', 'thor.ins.cwru.edu', 'could', 'someone', 'please', 'post', 'any', 'info', 'on', 'these', 'systems', '.', 'thanks', '.', 'bob', '--', '----------------------------------------------------------------------', 'robert', 'novitskey', '|', '\"', 'pursuing', 'women', 'is', 'similar', 'to', 'banging', 'one', \"'s\", 'head', 'rrn@po.cwru.edu', '|', 'against', 'a', 'wall', '...', 'with', 'less', 'opportunity', 'for', 'reward', '\"', '----------------------------------------------------------------------']\n",
            "CPU times: user 4min 46s, sys: 5.45 s, total: 4min 51s\n",
            "Wall time: 4min 51s\n"
          ]
        }
      ]
    },
    {
      "cell_type": "markdown",
      "metadata": {
        "id": "aspniOpEUO14"
      },
      "source": [
        "Here we found `n-gram` phrases like `belt_clip`, `fm_transmitter`, `mp3_player`, `screen_protector` and `poorly_designed` (bound using `_`).\n",
        "\n",
        "Now we are going to replace the corresponding words in the corpora with these phrases."
      ]
    },
    {
      "cell_type": "code",
      "metadata": {
        "id": "3HCqJIwdIDKo"
      },
      "source": [
        "def bind_phrases(docs_ngram: List[List[str]], docs_raw: List[str]) -> List[str]:\n",
        "  docs_raw_phrased: List[str] = []\n",
        "  for idx, doc in enumerate(docs_ngram):\n",
        "    docs_raw_phrased.append(docs_raw[idx])\n",
        "    for phrase in doc:\n",
        "      if phrase.count('_') == 1 or phrase.count('_') == 2:\n",
        "        docs_raw_phrased[idx] = docs_raw_phrased[idx].replace(\n",
        "            phrase.replace(\"_\", \" \"),\n",
        "            phrase\n",
        "        )\n",
        "        \n",
        "  return docs_raw_phrased"
      ],
      "execution_count": 26,
      "outputs": []
    },
    {
      "cell_type": "code",
      "metadata": {
        "id": "7CCQPuvKPny2",
        "colab": {
          "base_uri": "https://localhost:8080/"
        },
        "outputId": "0a4edc13-59dd-4807-f0e9-5016a30c130d"
      },
      "source": [
        "%%time\n",
        "\n",
        "train_corpus_phrased = bind_phrases(train_corpus_trigram, train_corpus_raw)\n",
        "val_corpus_phrased = bind_phrases(val_corpus_trigram, val_corpus_raw)\n",
        "test_corpus_phrased = bind_phrases(test_corpus_trigram, test_corpus_raw)\n",
        "\n",
        "pprint(train_corpus_phrased[0])"
      ],
      "execution_count": 27,
      "outputs": [
        {
          "output_type": "stream",
          "name": "stdout",
          "text": [
            "('from: rrn@po.cwru.edu (robert_r._novitskey) subject: cyclone and '\n",
            " 'tempest????? article-i.d.: usenet.1pskav$qtu reply-to: rrn@po.cwru.edu '\n",
            " '(robert_r._novitskey) organization: case_western reserve_university, '\n",
            " 'cleveland, oh (usa) lines: 10 nntp-posting-host: thor.ins.cwru.edu could '\n",
            " 'someone please post any info on these systems. thanks. bob -- '\n",
            " '---------------------------------------------------------------------- '\n",
            " 'robert novitskey | \"pursuing women is similar to banging one\\'s head '\n",
            " 'rrn@po.cwru.edu | against a wall...with less opportunity for reward\" '\n",
            " '----------------------------------------------------------------------')\n",
            "CPU times: user 11.3 s, sys: 39.3 ms, total: 11.3 s\n",
            "Wall time: 11.3 s\n"
          ]
        }
      ]
    },
    {
      "cell_type": "code",
      "metadata": {
        "colab": {
          "base_uri": "https://localhost:8080/"
        },
        "id": "5d37RIpeD1NE",
        "outputId": "47aaa0e1-889c-4867-9562-d343e924f166"
      },
      "source": [
        "pprint(train_corpus_phrased[0])\n",
        "\n",
        "print('\\n', (\"ORIGINAL TOKEN\".center(20),\n",
        "           \"TOKEN LEMMA\".center(20),\n",
        "           \"POS\".center(10),\n",
        "           \"STOP WORD\".center(11)))\n",
        "print('', (\"-\"*20, \"-\"*20, \"-\"*10, \"-\"*11))\n",
        "\n",
        "pprint(\n",
        "  [\n",
        "    (\n",
        "        token.text.center(20),\n",
        "        token.lemma_.center(20),\n",
        "        token.pos_.center(10),\n",
        "        str(token.is_stop).center(10)\n",
        "    ) for token in spacy_nlp(train_corpus_phrased[0])\n",
        "  ]\n",
        ")"
      ],
      "execution_count": 28,
      "outputs": [
        {
          "output_type": "stream",
          "name": "stdout",
          "text": [
            "('from: rrn@po.cwru.edu (robert_r._novitskey) subject: cyclone and '\n",
            " 'tempest????? article-i.d.: usenet.1pskav$qtu reply-to: rrn@po.cwru.edu '\n",
            " '(robert_r._novitskey) organization: case_western reserve_university, '\n",
            " 'cleveland, oh (usa) lines: 10 nntp-posting-host: thor.ins.cwru.edu could '\n",
            " 'someone please post any info on these systems. thanks. bob -- '\n",
            " '---------------------------------------------------------------------- '\n",
            " 'robert novitskey | \"pursuing women is similar to banging one\\'s head '\n",
            " 'rrn@po.cwru.edu | against a wall...with less opportunity for reward\" '\n",
            " '----------------------------------------------------------------------')\n",
            "\n",
            " ('   ORIGINAL TOKEN   ', '    TOKEN LEMMA     ', '   POS    ', ' STOP WORD ')\n",
            " ('--------------------', '--------------------', '----------', '-----------')\n",
            "[('        from        ', '        from        ', '   ADP    ', '   True   '),\n",
            " ('         :          ', '         :          ', '  PUNCT   ', '  False   '),\n",
            " ('  rrn@po.cwru.edu   ', '  rrn@po.cwru.edu   ', '  PROPN   ', '  False   '),\n",
            " ('         (          ', '         (          ', '  PUNCT   ', '  False   '),\n",
            " ('robert_r._novitskey ', 'robert_r._novitskey ', '   NOUN   ', '  False   '),\n",
            " ('         )          ', '         )          ', '  PUNCT   ', '  False   '),\n",
            " ('      subject       ', '      subject       ', '   NOUN   ', '  False   '),\n",
            " ('         :          ', '         :          ', '  PUNCT   ', '  False   '),\n",
            " ('      cyclone       ', '      cyclone       ', '   NOUN   ', '  False   '),\n",
            " ('        and         ', '        and         ', '  CCONJ   ', '   True   '),\n",
            " ('      tempest       ', '        temp        ', '   ADJ    ', '  False   '),\n",
            " ('         ?          ', '         ?          ', '  PUNCT   ', '  False   '),\n",
            " ('         ?          ', '         ?          ', '  PUNCT   ', '  False   '),\n",
            " ('         ?          ', '         ?          ', '  PUNCT   ', '  False   '),\n",
            " ('         ?          ', '         ?          ', '  PUNCT   ', '  False   '),\n",
            " ('         ?          ', '         ?          ', '  PUNCT   ', '  False   '),\n",
            " ('      article       ', '      article       ', '   NOUN   ', '  False   '),\n",
            " ('         -          ', '         -          ', '  PUNCT   ', '  False   '),\n",
            " ('        i.d         ', '        i.d         ', '  PROPN   ', '  False   '),\n",
            " ('         .          ', '         .          ', '  PROPN   ', '  False   '),\n",
            " ('         :          ', '         :          ', '  PUNCT   ', '  False   '),\n",
            " (' usenet.1pskav$qtu  ', ' usenet.1pskav$qtu  ', '   NUM    ', '  False   '),\n",
            " ('       reply        ', '       reply        ', '   NOUN   ', '  False   '),\n",
            " ('         -          ', '         -          ', '  PUNCT   ', '  False   '),\n",
            " ('         to         ', '         to         ', '   ADP    ', '   True   '),\n",
            " ('         :          ', '         :          ', '  PUNCT   ', '  False   '),\n",
            " ('  rrn@po.cwru.edu   ', '  rrn@po.cwru.edu   ', '  PROPN   ', '  False   '),\n",
            " ('         (          ', '         (          ', '  PUNCT   ', '  False   '),\n",
            " ('robert_r._novitskey ', 'robert_r._novitskey ', '   NOUN   ', '  False   '),\n",
            " ('         )          ', '         )          ', '  PUNCT   ', '  False   '),\n",
            " ('    organization    ', '    organization    ', '   NOUN   ', '  False   '),\n",
            " ('         :          ', '         :          ', '  PUNCT   ', '  False   '),\n",
            " ('    case_western    ', '    case_western    ', '   NOUN   ', '  False   '),\n",
            " (' reserve_university ', ' reserve_university ', '   NOUN   ', '  False   '),\n",
            " ('         ,          ', '         ,          ', '  PUNCT   ', '  False   '),\n",
            " ('     cleveland      ', '     cleveland      ', '   NOUN   ', '  False   '),\n",
            " ('         ,          ', '         ,          ', '  PUNCT   ', '  False   '),\n",
            " ('         oh         ', '         oh         ', '   INTJ   ', '  False   '),\n",
            " ('         (          ', '         (          ', '  PUNCT   ', '  False   '),\n",
            " ('        usa         ', '        usa         ', '  PROPN   ', '  False   '),\n",
            " ('         )          ', '         )          ', '  PUNCT   ', '  False   '),\n",
            " ('       lines        ', '        line        ', '   NOUN   ', '  False   '),\n",
            " ('         :          ', '         :          ', '  PUNCT   ', '  False   '),\n",
            " ('         10         ', '         10         ', '   NUM    ', '  False   '),\n",
            " ('        nntp        ', '        nntp        ', '   NOUN   ', '  False   '),\n",
            " ('         -          ', '         -          ', '  PUNCT   ', '  False   '),\n",
            " ('      posting       ', '        post        ', '   VERB   ', '  False   '),\n",
            " ('         -          ', '         -          ', '  PUNCT   ', '  False   '),\n",
            " ('        host        ', '        host        ', '   NOUN   ', '  False   '),\n",
            " ('         :          ', '         :          ', '  PUNCT   ', '  False   '),\n",
            " (' thor.ins.cwru.edu  ', ' thor.ins.cwru.edu  ', '  PROPN   ', '  False   '),\n",
            " ('       could        ', '       could        ', '   AUX    ', '   True   '),\n",
            " ('      someone       ', '      someone       ', '   PRON   ', '   True   '),\n",
            " ('       please       ', '       please       ', '   INTJ   ', '   True   '),\n",
            " ('        post        ', '        post        ', '   VERB   ', '  False   '),\n",
            " ('        any         ', '        any         ', '   DET    ', '   True   '),\n",
            " ('        info        ', '        info        ', '   NOUN   ', '  False   '),\n",
            " ('         on         ', '         on         ', '   ADP    ', '   True   '),\n",
            " ('       these        ', '       these        ', '   DET    ', '   True   '),\n",
            " ('      systems       ', '       system       ', '   NOUN   ', '  False   '),\n",
            " ('         .          ', '         .          ', '  PUNCT   ', '  False   '),\n",
            " ('       thanks       ', '       thank        ', '   NOUN   ', '  False   '),\n",
            " ('         .          ', '         .          ', '  PUNCT   ', '  False   '),\n",
            " ('        bob         ', '        bob         ', '  PROPN   ', '  False   '),\n",
            " ('         --         ', '         --         ', '  PUNCT   ', '  False   '),\n",
            " ('----------------------------------------------------------------------',\n",
            "  '----------------------------------------------------------------------',\n",
            "  '  PUNCT   ',\n",
            "  '  False   '),\n",
            " ('       robert       ', '       robert       ', '  PROPN   ', '  False   '),\n",
            " ('     novitskey      ', '     novitskey      ', '  PROPN   ', '  False   '),\n",
            " ('         |          ', '         |          ', '   ADV    ', '  False   '),\n",
            " ('         \"          ', '         \"          ', '  PUNCT   ', '  False   '),\n",
            " ('      pursuing      ', '       pursue       ', '   VERB   ', '  False   '),\n",
            " ('       women        ', '       woman        ', '   NOUN   ', '  False   '),\n",
            " ('         is         ', '         be         ', '   VERB   ', '   True   '),\n",
            " ('      similar       ', '      similar       ', '   ADJ    ', '  False   '),\n",
            " ('         to         ', '         to         ', '   ADP    ', '   True   '),\n",
            " ('      banging       ', '        bang        ', '   VERB   ', '  False   '),\n",
            " ('        one         ', '        one         ', '   PRON   ', '   True   '),\n",
            " (\"         's         \", \"         's         \", '   PART   ', '   True   '),\n",
            " ('        head        ', '        head        ', '   NOUN   ', '  False   '),\n",
            " ('  rrn@po.cwru.edu   ', '  rrn@po.cwru.edu   ', '   VERB   ', '  False   '),\n",
            " ('         |          ', '         |          ', '   ADV    ', '  False   '),\n",
            " ('      against       ', '      against       ', '   ADP    ', '   True   '),\n",
            " ('         a          ', '         a          ', '   DET    ', '   True   '),\n",
            " ('        wall        ', '        wall        ', '   NOUN   ', '  False   '),\n",
            " ('        ...         ', '        ...         ', '  PUNCT   ', '  False   '),\n",
            " ('        with        ', '        with        ', '   ADP    ', '   True   '),\n",
            " ('        less        ', '        less        ', '   ADJ    ', '   True   '),\n",
            " ('    opportunity     ', '    opportunity     ', '   NOUN   ', '  False   '),\n",
            " ('        for         ', '        for         ', '   ADP    ', '   True   '),\n",
            " ('       reward       ', '       reward       ', '   NOUN   ', '  False   '),\n",
            " ('         \"          ', '         \"          ', '  PUNCT   ', '  False   '),\n",
            " ('----------------------------------------------------------------------',\n",
            "  '----------------------------------------------------------------------',\n",
            "  '  PUNCT   ',\n",
            "  '  False   ')]\n"
          ]
        }
      ]
    },
    {
      "cell_type": "markdown",
      "metadata": {
        "id": "9yF9TR86YZvL"
      },
      "source": [
        "# Tokenization and lemmatization\n",
        "Remove too short and too long tokens, punctuations and unrelevant POSs, stop words, emails, urls.\n",
        "\n",
        "`Lemmatization` is a smarter version of `stemming`, taking word context into account."
      ]
    },
    {
      "cell_type": "code",
      "metadata": {
        "id": "OZA8PyqY53Iw"
      },
      "source": [
        "domain_stop_words = {'from', 'subject', 're', 'reply'}"
      ],
      "execution_count": 29,
      "outputs": []
    },
    {
      "cell_type": "code",
      "metadata": {
        "id": "3-5SXQ-WZG-3"
      },
      "source": [
        "def lemmatize(docs: List[str]) -> List[List[str]]:\n",
        "  return [\n",
        "    [\n",
        "      token.lemma_\n",
        "      for token in spacy_nlp(doc)\n",
        "      if (\n",
        "          1 < len(token.lemma_) < 20 and\n",
        "          token.pos_ in {'ADJ', 'ADV', 'NOUN', 'PROPN', 'VERB'} and\n",
        "          not token.is_stop and  # spacy.lang.en.STOP_WORDS\n",
        "          not token.lower_ in domain_stop_words and  # Domain stop words\n",
        "          not token.like_url and\n",
        "          not token.like_email\n",
        "      )\n",
        "    ]\n",
        "    for doc in docs\n",
        "  ]"
      ],
      "execution_count": 30,
      "outputs": []
    },
    {
      "cell_type": "code",
      "metadata": {
        "id": "7BazeLoANwY9",
        "colab": {
          "base_uri": "https://localhost:8080/"
        },
        "outputId": "95eb76df-9ad1-4942-827d-fe2d2155998e"
      },
      "source": [
        "%%time\n",
        "\n",
        "train_corpus_preprocessed = lemmatize(train_corpus_phrased)\n",
        "val_corpus_preprocessed = lemmatize(val_corpus_phrased)\n",
        "test_corpus_preprocessed = lemmatize(test_corpus_phrased)\n",
        " \n",
        "print(train_corpus_preprocessed[0])"
      ],
      "execution_count": 31,
      "outputs": [
        {
          "output_type": "stream",
          "name": "stdout",
          "text": [
            "['robert_r._novitskey', 'cyclone', 'temp', 'article', 'i.d', 'robert_r._novitskey', 'organization', 'case_western', 'reserve_university', 'cleveland', 'usa', 'line', 'nntp', 'post', 'host', 'post', 'info', 'system', 'thank', 'bob', 'robert', 'novitskey', 'pursue', 'woman', 'similar', 'bang', 'head', 'wall', 'opportunity', 'reward']\n",
            "CPU times: user 3min 37s, sys: 4.21 s, total: 3min 41s\n",
            "Wall time: 3min 41s\n"
          ]
        }
      ]
    },
    {
      "cell_type": "markdown",
      "metadata": {
        "id": "MCZtHhQshb3G"
      },
      "source": [
        "# Build the dictionary"
      ]
    },
    {
      "cell_type": "code",
      "metadata": {
        "id": "orD7Hom7TiCT"
      },
      "source": [
        "dictionary = gensim.corpora.Dictionary(train_corpus_preprocessed)\n",
        "# dictionary.filter_extremes(no_below=15, no_above=0.5, keep_n=100_000)\n",
        " \n",
        "# Save the dictionary as a file for later use\n",
        "dictionary.save('dictionary.dict')"
      ],
      "execution_count": 32,
      "outputs": []
    },
    {
      "cell_type": "markdown",
      "metadata": {
        "id": "MYG1Jr89VoyH"
      },
      "source": [
        "# Represent documents as a `bag of words`\n",
        "Each document will be represented by a list of tuples: `(term_id -> in_doc_term_frequency)`"
      ]
    },
    {
      "cell_type": "code",
      "metadata": {
        "id": "9H5P0tGOTlNU"
      },
      "source": [
        "def make_bow_corpus(\n",
        "    preprocessed_docs: List[List[str]]\n",
        ") -> List[List[Tuple[int, int]]]:\n",
        "  return [dictionary.doc2bow(doc) for doc in preprocessed_docs]"
      ],
      "execution_count": 33,
      "outputs": []
    },
    {
      "cell_type": "code",
      "metadata": {
        "id": "H8vopPXbhrh5",
        "colab": {
          "base_uri": "https://localhost:8080/"
        },
        "outputId": "55ecda86-7b5c-4ef4-f9ae-1d1ed10ec4a7"
      },
      "source": [
        "train_corpus_bow = make_bow_corpus(train_corpus_preprocessed)\n",
        "val_corpus_bow = make_bow_corpus(val_corpus_preprocessed)\n",
        "test_corpus_bow = make_bow_corpus(test_corpus_preprocessed)\n",
        " \n",
        "# Save the BOW corpora as files for later use\n",
        "gensim.corpora.MmCorpus.serialize('corpus_train.mm', train_corpus_bow)\n",
        "gensim.corpora.MmCorpus.serialize('corpus_val.mm', val_corpus_bow)\n",
        "gensim.corpora.MmCorpus.serialize('corpus_test.mm', test_corpus_bow)\n",
        " \n",
        " \n",
        "print('',\n",
        "      (\"TERM ID\".center(8), \"TERM\".center(20), \"IN-DOC FREQUENCY\".center(18)))\n",
        "print('', (\"-\"*8, \"-\"*20, \"-\"*18))\n",
        "pprint(\n",
        "  [\n",
        "    (\n",
        "         str(token[0]).center(8),\n",
        "         dictionary[token[0]].center(20),\n",
        "         str(token[1]).center(18)\n",
        "    )\n",
        "    for token in train_corpus_bow[0]\n",
        "  ]\n",
        ")"
      ],
      "execution_count": 34,
      "outputs": [
        {
          "output_type": "stream",
          "name": "stdout",
          "text": [
            " ('TERM ID ', '        TERM        ', ' IN-DOC FREQUENCY ')\n",
            " ('--------', '--------------------', '------------------')\n",
            "[('   0    ', '      article       ', '        1         '),\n",
            " ('   1    ', '        bang        ', '        1         '),\n",
            " ('   2    ', '        bob         ', '        1         '),\n",
            " ('   3    ', '    case_western    ', '        1         '),\n",
            " ('   4    ', '     cleveland      ', '        1         '),\n",
            " ('   5    ', '      cyclone       ', '        1         '),\n",
            " ('   6    ', '        head        ', '        1         '),\n",
            " ('   7    ', '        host        ', '        1         '),\n",
            " ('   8    ', '        i.d         ', '        1         '),\n",
            " ('   9    ', '        info        ', '        1         '),\n",
            " ('   10   ', '        line        ', '        1         '),\n",
            " ('   11   ', '        nntp        ', '        1         '),\n",
            " ('   12   ', '     novitskey      ', '        1         '),\n",
            " ('   13   ', '    opportunity     ', '        1         '),\n",
            " ('   14   ', '    organization    ', '        1         '),\n",
            " ('   15   ', '        post        ', '        2         '),\n",
            " ('   16   ', '       pursue       ', '        1         '),\n",
            " ('   17   ', ' reserve_university ', '        1         '),\n",
            " ('   18   ', '       reward       ', '        1         '),\n",
            " ('   19   ', '       robert       ', '        1         '),\n",
            " ('   20   ', 'robert_r._novitskey ', '        2         '),\n",
            " ('   21   ', '      similar       ', '        1         '),\n",
            " ('   22   ', '       system       ', '        1         '),\n",
            " ('   23   ', '        temp        ', '        1         '),\n",
            " ('   24   ', '       thank        ', '        1         '),\n",
            " ('   25   ', '        usa         ', '        1         '),\n",
            " ('   26   ', '        wall        ', '        1         '),\n",
            " ('   27   ', '       woman        ', '        1         ')]\n"
          ]
        }
      ]
    },
    {
      "cell_type": "markdown",
      "metadata": {
        "id": "LDFrph_7hyyb"
      },
      "source": [
        "# Train and evaluate an `LDA` topic model\n",
        "`LDA` or `Latent Dirichlet Allocation` is a generative probabilistic model that tries to find groups of words that appear frequently together across different documents.\n",
        "It is the most commonly used method to discover a user-specified number of `topics` shared by documents within a text corpus. Here each observation is a document, the features are the presence (or occurrence count) of each word, and the categories are the topics. Since the method is unsupervised, the topics are not specified up front, and are not guaranteed to align with how a human may naturally categorize documents. The topics are learned as a probability distribution over the words that occur in each document. Each document, in turn, is described as a mixture of topics. [https://docs.aws.amazon.com/sagemaker/latest/dg/lda.html]\n",
        "\n",
        "*   Input to LDA: a bag-of-words matrix\n",
        "*   Output from LDA: A document-to-topic matrix + A word-to-topic matrix\n",
        "\n",
        "paper: `Latent Dirichlet Allocation, David M. Blei, Andrew Y. Ng, and Michael I. Jordan, Journal of Machine Learning Research 3, pages: 993–1022, Jan 2003.`\n",
        "\n",
        "Other options are `HDP` and `NTM`.\n",
        "\n",
        "The difference between HDP and LDA is that HDP is a non-parametric method. Which means that we don't need to specify the number of topics. HDP will fit as many topics as it can and find the optimal number of topics by itself.\n",
        "\n",
        "Choosing between Latent Dirichlet Allocation (LDA) and Neural Topic Model (NTM) is described here: https://docs.aws.amazon.com/sagemaker/latest/dg/lda.html\n",
        "\n",
        "Recent research by Amazon, Dinget et al., 2018 has shown that NTM is promising for achieving high topic coherence but LDA trained with collapsed Gibbs sampling achieves better perplexity. Research has shown that the likelihood computed per word often does not align to human judgement, and can be entirely non-correlated, thus topic coherence i more important for our task.\n",
        "\n",
        "More infor about NTM: https://docs.aws.amazon.com/sagemaker/latest/dg/ntm.html\n",
        "\n",
        "\n",
        "####Mallet’s LDA:\n",
        "`MALLET` is a Java-based package for statistical natural language processing, document classification, clustering, topic modeling, information extraction, and other machine learning applications to text.\n",
        "The MALLET topic model package includes an extremely fast and highly scalable implementation of `Gibbs sampling`, efficient methods for document-topic hyperparameter optimization, and tools for inferring topics for new documents given trained models.\n"
      ]
    },
    {
      "cell_type": "code",
      "metadata": {
        "id": "-urVUoreh1Uu"
      },
      "source": [
        "import sys\n",
        "sys.path.append('/content/gensimwrapper')\n",
        "from gensimwrapper.ldamallet import LdaMallet\n",
        " \n",
        "import numpy as np"
      ],
      "execution_count": 35,
      "outputs": []
    },
    {
      "cell_type": "code",
      "metadata": {
        "id": "6inQ8MpHh7CM"
      },
      "source": [
        "def train_gensim_lda(dictionary: gensim.corpora.dictionary.Dictionary,\n",
        "                     corpus: list,\n",
        "                     num_topics: int = 20) -> gensim.models.ldamodel.LdaModel:\n",
        "  return gensim.models.ldamodel.LdaModel(\n",
        "      corpus=corpus,\n",
        "      num_topics=num_topics,\n",
        "      id2word=dictionary,\n",
        "      chunksize=100,  # the number of docs to be used in each training chunk\n",
        "      passes=10,      # the total number of training passes\n",
        "      update_every=1, # how often the model parameters should be updated\n",
        "      alpha='auto',   # alpha and eta are hyperparameters that affect sparsity\\\n",
        "      # eta=None,     # of the topics, both defaults to 1.0/num_topics prior.\n",
        "      random_state=100,\n",
        "      per_word_topics=True,\n",
        "  )\n",
        " \n",
        " \n",
        "def train_mallet_lda(dictionary: gensim.corpora.dictionary.Dictionary,\n",
        "                     corpus: list,\n",
        "                     num_topics: int = 20) -> LdaMallet:\n",
        "  \"\"\"\n",
        "  an (optimized version of) collapsed gibbs sampling from MALLET.\n",
        "  MALLET’s LDA training requires `O(corpus_words)` of memory, keeping the entire\n",
        "  corpus in RAM. If you find yourself running out of memory, either decrease the\n",
        "  workers constructor parameter, or use Gensim's native LDA model which needs\n",
        "  only O(1) memory.\n",
        "  \"\"\"\n",
        "  return LdaMallet(\n",
        "    mallet_path='/content/mallet-2.0.8/bin/mallet',\n",
        "    corpus=corpus,\n",
        "    num_topics=num_topics,\n",
        "    # alpha=50,\n",
        "    id2word=dictionary,\n",
        "    # workers=4,\n",
        "    iterations=1000,\n",
        "    random_seed=100,\n",
        "  )\n",
        " \n",
        " \n",
        "def convert_mallet_model_to_gensim_model(\n",
        "    mallet_model,\n",
        "    gamma_threshold=0.001,\n",
        "    iterations=50 # or 1000?\n",
        ") -> gensim.models.ldamodel.LdaModel:\n",
        "  gensim_model = gensim.models.ldamodel.LdaModel(\n",
        "      id2word=mallet_model.id2word,\n",
        "      num_topics=mallet_model.num_topics,\n",
        "      alpha=mallet_model.alpha,\n",
        "      eta=0,\n",
        "      iterations=iterations,\n",
        "      gamma_threshold=gamma_threshold,\n",
        "      dtype=np.float64  # don't loose precision when converting from MALLET\n",
        "  )\n",
        "  gensim_model.state.sstats[...] = mallet_model.wordtopics\n",
        "  gensim_model.sync_state()\n",
        "  return gensim_model\n",
        " \n",
        " \n",
        "def compute_log_perplexity(lda_model: gensim.models.ldamodel.LdaModel,\n",
        "                           chunk,\n",
        "                           total_docs=None) -> np.float64:\n",
        "  \"\"\"\n",
        "  per-word likelihood bound, using the chunk of documents as evaluation corpus.\n",
        "  perplexity=2^(-bound)\n",
        "  lower the better!\n",
        "  \"\"\"\n",
        "  return lda_model.log_perplexity(chunk, total_docs)\n",
        " \n",
        " \n",
        "def compute_topic_coherence(lda_model: gensim.models.ldamodel.LdaModel,\n",
        "                            dictionary: gensim.corpora.dictionary.Dictionary,\n",
        "                            texts: list) -> np.float64:\n",
        "  \"\"\"\n",
        "  topic coherence for topic models.\n",
        "  https://rare-technologies.com/what-is-topic-coherence/\n",
        "  paper: http://svn.aksw.org/papers/2015/WSDM_Topic_Evaluation/public.pdf\n",
        "  \"\"\"\n",
        "  return gensim.models.CoherenceModel(\n",
        "      model=lda_model,\n",
        "      texts=texts,  # tokenized texts\n",
        "      dictionary=dictionary,\n",
        "      # window_size=110,\n",
        "      coherence='c_v',  # coherence measure: 'u_mass', 'c_v', 'c_uci', 'c_npmi'  \n",
        "      topn=5,  # the number of top words to be extracted from each topic.\n",
        "  ).get_coherence()"
      ],
      "execution_count": 36,
      "outputs": []
    },
    {
      "cell_type": "markdown",
      "metadata": {
        "id": "sMtD6ryxjdgC"
      },
      "source": [
        "## Tune `num_topics` hyper parameter:\n",
        "\n",
        "Topic models aim to minimize `perplexity` and maximize `topic coherence`.\n",
        "\n",
        "Perplexity is an intrinsic language modeling evaluation metric that measures the inverse of the geometric mean per-word likelihood in your test data. A lower perplexity score indicates better generalization performance [https://docs.aws.amazon.com/sagemaker/latest/dg/lda.html]."
      ]
    },
    {
      "cell_type": "code",
      "metadata": {
        "colab": {
          "base_uri": "https://localhost:8080/"
        },
        "id": "ub5xNQz8iK0P",
        "outputId": "356172d6-c2b3-4c68-895c-84f97b5e9027"
      },
      "source": [
        "%%time\n",
        " \n",
        "num_topics_min = 2\n",
        "num_topics_max = 31\n",
        "num_topics_surge_step = 2\n",
        " \n",
        "candidate_lda_models = []\n",
        " \n",
        "for num_topics in range(num_topics_min, num_topics_max, num_topics_surge_step):\n",
        "  print(\"Training an LDA model with %d topics...\" % num_topics)\n",
        "  lda_model = train_mallet_lda(dictionary, train_corpus_bow, num_topics)\n",
        "\n",
        "  # print(\"Computing Log Perplexity of the LDA model with %d topics...\")\n",
        "  # log_perplexity = compute_log_perplexity(lda_model, val_corpus_bow)\n",
        "  # print(\n",
        "  #   \"Log Perplexity of the LDA model with %d topics is: %f\" %(num_topics,\n",
        "  #                                                             log_perplexity)\n",
        "  # )\n",
        "\n",
        "  print(\n",
        "    \"Computing Topic Coherence for the LDA model with %d topics...\" % num_topics\n",
        "  )\n",
        "  topic_coherence = compute_topic_coherence(lda_model,\n",
        "                                            dictionary,\n",
        "                                            val_corpus_preprocessed)\n",
        "  print(\n",
        "    \"Topic Coherence for the LDA model with %d topic is: %f\" % (num_topics,\n",
        "                                                                topic_coherence)\n",
        "  )\n",
        "\n",
        "  candidate_lda_models.append(\n",
        "      {\n",
        "          'num_topics': num_topics,\n",
        "          'lda_model': lda_model,\n",
        "          # 'perplexity': np.exp2(-log_perplexity),\n",
        "          # 'log_perplexity': log_perplexity,\n",
        "          'topic_coherence': topic_coherence\n",
        "      }\n",
        "  )\n",
        "  print(\"--------------------------------------------------------------\")"
      ],
      "execution_count": 37,
      "outputs": [
        {
          "output_type": "stream",
          "name": "stdout",
          "text": [
            "Training an LDA model with 2 topics...\n",
            "Computing Topic Coherence for the LDA model with 2 topics...\n",
            "Topic Coherence for the LDA model with 2 topic is: 0.752137\n",
            "--------------------------------------------------------------\n",
            "Training an LDA model with 4 topics...\n",
            "Computing Topic Coherence for the LDA model with 4 topics...\n",
            "Topic Coherence for the LDA model with 4 topic is: 0.628562\n",
            "--------------------------------------------------------------\n",
            "Training an LDA model with 6 topics...\n",
            "Computing Topic Coherence for the LDA model with 6 topics...\n",
            "Topic Coherence for the LDA model with 6 topic is: 0.630715\n",
            "--------------------------------------------------------------\n",
            "Training an LDA model with 8 topics...\n",
            "Computing Topic Coherence for the LDA model with 8 topics...\n",
            "Topic Coherence for the LDA model with 8 topic is: 0.626242\n",
            "--------------------------------------------------------------\n",
            "Training an LDA model with 10 topics...\n",
            "Computing Topic Coherence for the LDA model with 10 topics...\n",
            "Topic Coherence for the LDA model with 10 topic is: 0.619513\n",
            "--------------------------------------------------------------\n",
            "Training an LDA model with 12 topics...\n",
            "Computing Topic Coherence for the LDA model with 12 topics...\n"
          ]
        },
        {
          "output_type": "stream",
          "name": "stderr",
          "text": [
            "/usr/local/lib/python3.7/dist-packages/gensim/topic_coherence/direct_confirmation_measure.py:204: RuntimeWarning: divide by zero encountered in double_scalars\n",
            "  m_lr_i = np.log(numerator / denominator)\n",
            "/usr/local/lib/python3.7/dist-packages/gensim/topic_coherence/indirect_confirmation_measure.py:323: RuntimeWarning: invalid value encountered in double_scalars\n",
            "  return cv1.T.dot(cv2)[0, 0] / (_magnitude(cv1) * _magnitude(cv2))\n"
          ]
        },
        {
          "output_type": "stream",
          "name": "stdout",
          "text": [
            "Topic Coherence for the LDA model with 12 topic is: nan\n",
            "--------------------------------------------------------------\n",
            "Training an LDA model with 14 topics...\n",
            "Computing Topic Coherence for the LDA model with 14 topics...\n",
            "Topic Coherence for the LDA model with 14 topic is: nan\n",
            "--------------------------------------------------------------\n",
            "Training an LDA model with 16 topics...\n",
            "Computing Topic Coherence for the LDA model with 16 topics...\n",
            "Topic Coherence for the LDA model with 16 topic is: nan\n",
            "--------------------------------------------------------------\n",
            "Training an LDA model with 18 topics...\n",
            "Computing Topic Coherence for the LDA model with 18 topics...\n",
            "Topic Coherence for the LDA model with 18 topic is: nan\n",
            "--------------------------------------------------------------\n",
            "Training an LDA model with 20 topics...\n",
            "Computing Topic Coherence for the LDA model with 20 topics...\n",
            "Topic Coherence for the LDA model with 20 topic is: nan\n",
            "--------------------------------------------------------------\n",
            "Training an LDA model with 22 topics...\n",
            "Computing Topic Coherence for the LDA model with 22 topics...\n",
            "Topic Coherence for the LDA model with 22 topic is: 0.670231\n",
            "--------------------------------------------------------------\n",
            "Training an LDA model with 24 topics...\n",
            "Computing Topic Coherence for the LDA model with 24 topics...\n",
            "Topic Coherence for the LDA model with 24 topic is: nan\n",
            "--------------------------------------------------------------\n",
            "Training an LDA model with 26 topics...\n",
            "Computing Topic Coherence for the LDA model with 26 topics...\n",
            "Topic Coherence for the LDA model with 26 topic is: nan\n",
            "--------------------------------------------------------------\n",
            "Training an LDA model with 28 topics...\n",
            "Computing Topic Coherence for the LDA model with 28 topics...\n",
            "Topic Coherence for the LDA model with 28 topic is: nan\n",
            "--------------------------------------------------------------\n",
            "Training an LDA model with 30 topics...\n",
            "Computing Topic Coherence for the LDA model with 30 topics...\n",
            "Topic Coherence for the LDA model with 30 topic is: nan\n",
            "--------------------------------------------------------------\n",
            "CPU times: user 1min 26s, sys: 2.56 s, total: 1min 29s\n",
            "Wall time: 24min 32s\n"
          ]
        }
      ]
    },
    {
      "cell_type": "markdown",
      "metadata": {
        "id": "WeqIgGFVj8Ub"
      },
      "source": [
        "## Plot the topic coherence landscape"
      ]
    },
    {
      "cell_type": "code",
      "metadata": {
        "id": "j8xz1lxHj5Dq"
      },
      "source": [
        "import matplotlib.pyplot as plt"
      ],
      "execution_count": 38,
      "outputs": []
    },
    {
      "cell_type": "code",
      "metadata": {
        "colab": {
          "base_uri": "https://localhost:8080/",
          "height": 296
        },
        "id": "iOBpA6d_kD8r",
        "outputId": "d63f052e-6fb5-4987-d5b6-310ab3548b9f"
      },
      "source": [
        "plt.plot(\n",
        "    [candidate['num_topics'] for candidate in candidate_lda_models],\n",
        "    [candidate['topic_coherence'] for candidate in candidate_lda_models]\n",
        ")\n",
        "plt.xlabel(\"num_topics\")\n",
        "plt.ylabel(\"topic_coherence\")\n",
        "plt.title(\"Tuning number of topics\")\n",
        "plt.show()"
      ],
      "execution_count": 39,
      "outputs": [
        {
          "output_type": "display_data",
          "data": {
            "image/png": "[encoded data removed]",
            "text/plain": [
              "<Figure size 432x288 with 1 Axes>"
            ]
          },
          "metadata": {
            "needs_background": "light"
          }
        }
      ]
    },
    {
      "cell_type": "markdown",
      "metadata": {
        "id": "_YGpgy-wkNCq"
      },
      "source": [
        "## Find the best model\n",
        "Choosing a ‘k’ that marks the end of a rapid growth of topic coherence usually offers meaningful and interpretable topics. Picking an even higher value can sometimes provide more granular sub-topics.\n",
        "\n",
        "If the coherence score seems to keep increasing, it may make better sense to pick the model that gave the highest CV before flattening out.\n",
        "\n",
        "If you see the same keywords being repeated in multiple topics, it’s probably a sign that the ‘k’ is too large."
      ]
    },
    {
      "cell_type": "code",
      "metadata": {
        "id": "o86LwPRLj1GY"
      },
      "source": [
        "# Choose based on the plot\n",
        "best_model_idx = 9"
      ],
      "execution_count": 40,
      "outputs": []
    },
    {
      "cell_type": "code",
      "metadata": {
        "id": "3guSaQlykSOA"
      },
      "source": [
        "num_topics = candidate_lda_models[best_model_idx]['num_topics']\n",
        "\n",
        "lda_model = candidate_lda_models[best_model_idx]['lda_model']\n",
        "lda_model.save('lda.model')"
      ],
      "execution_count": 41,
      "outputs": []
    },
    {
      "cell_type": "markdown",
      "metadata": {
        "id": "P5KyObD9sEcn"
      },
      "source": [
        "# List the keywords for each topic and the weightage (importance) of each keyword\n",
        "\n",
        "The weights reflect how important a keyword is to that topic."
      ]
    },
    {
      "cell_type": "code",
      "metadata": {
        "colab": {
          "base_uri": "https://localhost:8080/"
        },
        "id": "GGzjCwR_rrDt",
        "outputId": "15601ec2-bf00-459d-e2b2-7d1159251799"
      },
      "source": [
        "# lda_model.show_topics(num_topics=num_topics, formatted=False)\n",
        "lda_model.print_topics()"
      ],
      "execution_count": 42,
      "outputs": [
        {
          "output_type": "execute_result",
          "data": {
            "text/plain": [
              "[(0,\n",
              "  '0.036*\"key\" + 0.013*\"system\" + 0.011*\"chip\" + 0.010*\"encryption\" + 0.009*\"security\" + 0.009*\"government\" + 0.009*\"public\" + 0.008*\"phone\" + 0.008*\"message\" + 0.008*\"bit\"'),\n",
              " (1,\n",
              "  '0.030*\"line\" + 0.025*\"organization\" + 0.018*\"sale\" + 0.017*\"mail\" + 0.015*\"sell\" + 0.013*\"price\" + 0.012*\"newsreader\" + 0.011*\"sound\" + 0.008*\"tin\" + 0.008*\"interested\"'),\n",
              " (2,\n",
              "  '0.020*\"space\" + 0.008*\"earth\" + 0.008*\"nasa\" + 0.008*\"point\" + 0.007*\"power\" + 0.006*\"launch\" + 0.006*\"water\" + 0.006*\"center\" + 0.006*\"system\" + 0.005*\"high\"'),\n",
              " (3,\n",
              "  '0.032*\"god\" + 0.021*\"people\" + 0.013*\"christian\" + 0.012*\"man\" + 0.011*\"jesus\" + 0.010*\"life\" + 0.009*\"love\" + 0.009*\"bible\" + 0.008*\"world\" + 0.008*\"church\"'),\n",
              " (4,\n",
              "  '0.030*\"car\" + 0.012*\"bike\" + 0.009*\"drive\" + 0.008*\"ride\" + 0.008*\"engine\" + 0.007*\"road\" + 0.006*\"turn\" + 0.006*\"dog\" + 0.006*\"speed\" + 0.006*\"light\"'),\n",
              " (5,\n",
              "  '0.028*\"file\" + 0.020*\"program\" + 0.017*\"image\" + 0.011*\"entry\" + 0.011*\"format\" + 0.009*\"read\" + 0.009*\"source\" + 0.008*\"send\" + 0.008*\"number\" + 0.008*\"jpeg\"'),\n",
              " (6,\n",
              "  '0.013*\"university\" + 0.010*\"april\" + 0.008*\"news\" + 0.007*\"state\" + 0.007*\"report\" + 0.007*\"national\" + 0.007*\"study\" + 0.006*\"world\" + 0.006*\"day\" + 0.006*\"include\"'),\n",
              " (7,\n",
              "  '0.013*\"israel\" + 0.012*\"jews\" + 0.012*\"people\" + 0.008*\"turkish\" + 0.008*\"armenian\" + 0.007*\"attack\" + 0.007*\"armenians\" + 0.007*\"war\" + 0.007*\"kill\" + 0.006*\"israeli\"'),\n",
              " (8,\n",
              "  '0.023*\"good\" + 0.021*\"thing\" + 0.019*\"time\" + 0.015*\"work\" + 0.013*\"cost\" + 0.012*\"bad\" + 0.012*\"money\" + 0.012*\"problem\" + 0.011*\"lot\" + 0.011*\"pay\"'),\n",
              " (9,\n",
              "  '0.050*\"line\" + 0.032*\"organization\" + 0.030*\"problem\" + 0.023*\"window\" + 0.010*\"find\" + 0.009*\"write\" + 0.009*\"screen\" + 0.009*\"time\" + 0.009*\"gmt\" + 0.008*\"question\"'),\n",
              " (10,\n",
              "  '0.022*\"drive\" + 0.020*\"card\" + 0.013*\"driver\" + 0.012*\"system\" + 0.012*\"mac\" + 0.011*\"bit\" + 0.010*\"apple\" + 0.010*\"problem\" + 0.009*\"mb\" + 0.009*\"mode\"'),\n",
              " (11,\n",
              "  '0.164*\"write\" + 0.144*\"article\" + 0.073*\"organization\" + 0.065*\"line\" + 0.023*\"good\" + 0.017*\"hear\" + 0.013*\"thing\" + 0.012*\"opinion\" + 0.012*\"i.d\" + 0.007*\"read\"'),\n",
              " (12,\n",
              "  '0.019*\"people\" + 0.018*\"state\" + 0.018*\"gun\" + 0.015*\"law\" + 0.012*\"government\" + 0.008*\"case\" + 0.007*\"country\" + 0.007*\"firearm\" + 0.007*\"kill\" + 0.006*\"crime\"'),\n",
              " (13,\n",
              "  '0.022*\"book\" + 0.020*\"g)r\" + 0.019*\"group\" + 0.016*\"line\" + 0.014*\"read\" + 0.012*\"organization\" + 0.012*\"find\" + 0.011*\"posting\" + 0.011*\"john\" + 0.010*\"mark\"'),\n",
              " (14,\n",
              "  '0.007*\"wire\" + 0.006*\"ground\" + 0.006*\"food\" + 0.006*\"disease\" + 0.006*\"patient\" + 0.005*\"case\" + 0.005*\"effect\" + 0.005*\"eat\" + 0.005*\"medical\" + 0.005*\"increase\"'),\n",
              " (15,\n",
              "  '0.019*\"db\" + 0.016*\"year\" + 0.015*\"good\" + 0.012*\"run\" + 0.012*\"game\" + 0.010*\"hit\" + 0.009*\"team\" + 0.008*\"player\" + 0.008*\"play\" + 0.007*\"win\"'),\n",
              " (16,\n",
              "  '0.139*\"post\" + 0.099*\"host\" + 0.096*\"nntp\" + 0.078*\"organization\" + 0.075*\"line\" + 0.057*\"university\" + 0.036*\"distribution\" + 0.025*\"usa\" + 0.014*\"world\" + 0.008*\"news\"'),\n",
              " (17,\n",
              "  '0.014*\"question\" + 0.012*\"true\" + 0.012*\"claim\" + 0.009*\"people\" + 0.009*\"exist\" + 0.009*\"argument\" + 0.008*\"evidence\" + 0.007*\"matter\" + 0.007*\"thing\" + 0.007*\"reason\"'),\n",
              " (18,\n",
              "  '0.019*\"version\" + 0.017*\"window\" + 0.013*\"software\" + 0.012*\"system\" + 0.012*\"run\" + 0.011*\"support\" + 0.010*\"program\" + 0.009*\"server\" + 0.008*\"include\" + 0.008*\"application\"'),\n",
              " (19,\n",
              "  '0.023*\"game\" + 0.016*\"play\" + 0.015*\"team\" + 0.010*\"pt\" + 0.010*\"win\" + 0.010*\"hockey\" + 0.009*\"player\" + 0.008*\"goal\" + 0.007*\"pittsburgh\" + 0.007*\"la\"')]"
            ]
          },
          "metadata": {},
          "execution_count": 42
        }
      ]
    },
    {
      "cell_type": "markdown",
      "metadata": {
        "id": "kRuY1WuFgqRS"
      },
      "source": [
        "## Get a topic keywords and their weightage"
      ]
    },
    {
      "cell_type": "code",
      "metadata": {
        "id": "wpdBAYmyHlAB"
      },
      "source": [
        "def get_topic_keywords(lda_model: LdaMallet,\n",
        "                       topic_id: int) -> List[Tuple[str, float]]:\n",
        "  return lda_model.show_topic(topic_id)"
      ],
      "execution_count": 43,
      "outputs": []
    },
    {
      "cell_type": "code",
      "metadata": {
        "colab": {
          "base_uri": "https://localhost:8080/"
        },
        "id": "TD3a1kPpFHUz",
        "outputId": "6abb96b8-f977-4943-9015-fd0dc9822a3f"
      },
      "source": [
        "get_topic_keywords(\n",
        "    lda_model=lda_model,\n",
        "    topic_id=0\n",
        ")"
      ],
      "execution_count": 44,
      "outputs": [
        {
          "output_type": "execute_result",
          "data": {
            "text/plain": [
              "[('key', 0.03621460006046965),\n",
              " ('system', 0.013236133973863674),\n",
              " ('chip', 0.010985319313333557),\n",
              " ('encryption', 0.009540766620754527),\n",
              " ('security', 0.009137635636778984),\n",
              " ('government', 0.009070447139449727),\n",
              " ('public', 0.00873450465280344),\n",
              " ('phone', 0.008196996674169382),\n",
              " ('message', 0.008163402425504753),\n",
              " ('bit', 0.007961836933516982)]"
            ]
          },
          "metadata": {},
          "execution_count": 44
        }
      ]
    },
    {
      "cell_type": "code",
      "metadata": {
        "id": "wFqlwHebxKB7"
      },
      "source": [
        "from wordcloud import WordCloud"
      ],
      "execution_count": 45,
      "outputs": []
    },
    {
      "cell_type": "code",
      "metadata": {
        "id": "7k2S4R2Hwisv"
      },
      "source": [
        "def plot_topic_word_cloud(lda_model: LdaMallet,\n",
        "                          topic_id: int) -> None:\n",
        "  keyword_frequencies = dict(\n",
        "      get_topic_keywords(\n",
        "          lda_model=lda_model,\n",
        "          topic_id=topic_id\n",
        "      )\n",
        "  )\n",
        "\n",
        "  wordcloud = WordCloud(background_color='white',\n",
        "                        width=2500,\n",
        "                        height=1800,\n",
        "                        max_words=10,\n",
        "                        colormap='tab10',\n",
        "                        color_func=lambda *args, **kwargs: '#1f77b4',\n",
        "                        prefer_horizontal=1.0)\n",
        "  \n",
        "  wordcloud.generate_from_frequencies(keyword_frequencies,\n",
        "                                      max_font_size=300)\n",
        "  \n",
        "  plt.gca().imshow(wordcloud)\n",
        "  plt.gca().set_title(\n",
        "      'Top Keywords for topic #%d' % topic_id,\n",
        "      fontdict=dict(size=16)\n",
        "  )\n",
        "  plt.gca().axis('off')\n",
        "\n",
        "  plt.show()  "
      ],
      "execution_count": 46,
      "outputs": []
    },
    {
      "cell_type": "code",
      "metadata": {
        "colab": {
          "base_uri": "https://localhost:8080/",
          "height": 266
        },
        "id": "bLcYvAGt4LLw",
        "outputId": "c271d151-a365-4635-f82c-f7f2c0592e68"
      },
      "source": [
        "plot_topic_word_cloud(\n",
        "    lda_model=lda_model,\n",
        "    topic_id=0\n",
        ")"
      ],
      "execution_count": 47,
      "outputs": [
        {
          "output_type": "display_data",
          "data": {
            "image/png": "[encoded data removed]",
            "text/plain": [
              "<Figure size 432x288 with 1 Axes>"
            ]
          },
          "metadata": {
            "needs_background": "light"
          }
        }
      ]
    },
    {
      "cell_type": "markdown",
      "metadata": {
        "id": "pNjpaMzLkpXA"
      },
      "source": [
        "## Visualize topic-term relevance and relationship\n",
        "`pyLDAvis` (sievert-illvi2014 - https://nlp.stanford.edu/events/illvi2014/papers/sievert-illvi2014.pdf) is designed to help users interpret the topics in an LDA topic model fitted to a corpus of text data.\n",
        "\n",
        "you need to provide the topic-term distributions, document-topic distributions, and basic information about the corpus which the model was trained on to the function `prepare` that will transform your data into the format needed for the visualization."
      ]
    },
    {
      "cell_type": "markdown",
      "metadata": {
        "id": "tEuJeW6qqmNP"
      },
      "source": [
        "Convert `MALLET`'s model to `Gensim`'s model in order to be used in `pyLDAvis` package."
      ]
    },
    {
      "cell_type": "code",
      "metadata": {
        "id": "OpSgtHUjphok"
      },
      "source": [
        "lda_model_gensim = convert_mallet_model_to_gensim_model(lda_model)"
      ],
      "execution_count": 48,
      "outputs": []
    },
    {
      "cell_type": "code",
      "metadata": {
        "id": "lsSdXTi_kvuS",
        "colab": {
          "base_uri": "https://localhost:8080/"
        },
        "outputId": "088faf6c-090b-405c-d217-6ff177d2de0e"
      },
      "source": [
        "import pyLDAvis\n",
        "import pyLDAvis.gensim_models as gensimvis"
      ],
      "execution_count": 49,
      "outputs": [
        {
          "output_type": "stream",
          "name": "stderr",
          "text": [
            "/usr/local/lib/python3.7/dist-packages/past/types/oldstr.py:5: DeprecationWarning: Using or importing the ABCs from 'collections' instead of from 'collections.abc' is deprecated since Python 3.3,and in 3.9 it will stop working\n",
            "  from collections import Iterable\n",
            "/usr/local/lib/python3.7/dist-packages/past/builtins/misc.py:4: DeprecationWarning: Using or importing the ABCs from 'collections' instead of from 'collections.abc' is deprecated since Python 3.3,and in 3.9 it will stop working\n",
            "  from collections import Mapping\n",
            "/usr/local/lib/python3.7/dist-packages/sklearn/linear_model/_least_angle.py:30: DeprecationWarning: `np.float` is a deprecated alias for the builtin `float`. To silence this warning, use `float` by itself. Doing this will not modify any behavior and is safe. If you specifically wanted the numpy scalar type, use `np.float64` here.\n",
            "Deprecated in NumPy 1.20; for more details and guidance: https://numpy.org/devdocs/release/1.20.0-notes.html#deprecations\n",
            "  method='lar', copy_X=True, eps=np.finfo(np.float).eps,\n",
            "/usr/local/lib/python3.7/dist-packages/sklearn/linear_model/_least_angle.py:169: DeprecationWarning: `np.float` is a deprecated alias for the builtin `float`. To silence this warning, use `float` by itself. Doing this will not modify any behavior and is safe. If you specifically wanted the numpy scalar type, use `np.float64` here.\n",
            "Deprecated in NumPy 1.20; for more details and guidance: https://numpy.org/devdocs/release/1.20.0-notes.html#deprecations\n",
            "  method='lar', copy_X=True, eps=np.finfo(np.float).eps,\n",
            "/usr/local/lib/python3.7/dist-packages/sklearn/linear_model/_least_angle.py:286: DeprecationWarning: `np.float` is a deprecated alias for the builtin `float`. To silence this warning, use `float` by itself. Doing this will not modify any behavior and is safe. If you specifically wanted the numpy scalar type, use `np.float64` here.\n",
            "Deprecated in NumPy 1.20; for more details and guidance: https://numpy.org/devdocs/release/1.20.0-notes.html#deprecations\n",
            "  eps=np.finfo(np.float).eps, copy_Gram=True, verbose=0,\n",
            "/usr/local/lib/python3.7/dist-packages/sklearn/linear_model/_least_angle.py:858: DeprecationWarning: `np.float` is a deprecated alias for the builtin `float`. To silence this warning, use `float` by itself. Doing this will not modify any behavior and is safe. If you specifically wanted the numpy scalar type, use `np.float64` here.\n",
            "Deprecated in NumPy 1.20; for more details and guidance: https://numpy.org/devdocs/release/1.20.0-notes.html#deprecations\n",
            "  eps=np.finfo(np.float).eps, copy_X=True, fit_path=True):\n",
            "/usr/local/lib/python3.7/dist-packages/sklearn/linear_model/_least_angle.py:1094: DeprecationWarning: `np.float` is a deprecated alias for the builtin `float`. To silence this warning, use `float` by itself. Doing this will not modify any behavior and is safe. If you specifically wanted the numpy scalar type, use `np.float64` here.\n",
            "Deprecated in NumPy 1.20; for more details and guidance: https://numpy.org/devdocs/release/1.20.0-notes.html#deprecations\n",
            "  eps=np.finfo(np.float).eps, copy_X=True, fit_path=True,\n",
            "/usr/local/lib/python3.7/dist-packages/sklearn/linear_model/_least_angle.py:1120: DeprecationWarning: `np.float` is a deprecated alias for the builtin `float`. To silence this warning, use `float` by itself. Doing this will not modify any behavior and is safe. If you specifically wanted the numpy scalar type, use `np.float64` here.\n",
            "Deprecated in NumPy 1.20; for more details and guidance: https://numpy.org/devdocs/release/1.20.0-notes.html#deprecations\n",
            "  eps=np.finfo(np.float).eps, positive=False):\n",
            "/usr/local/lib/python3.7/dist-packages/sklearn/linear_model/_least_angle.py:1349: DeprecationWarning: `np.float` is a deprecated alias for the builtin `float`. To silence this warning, use `float` by itself. Doing this will not modify any behavior and is safe. If you specifically wanted the numpy scalar type, use `np.float64` here.\n",
            "Deprecated in NumPy 1.20; for more details and guidance: https://numpy.org/devdocs/release/1.20.0-notes.html#deprecations\n",
            "  max_n_alphas=1000, n_jobs=None, eps=np.finfo(np.float).eps,\n",
            "/usr/local/lib/python3.7/dist-packages/sklearn/linear_model/_least_angle.py:1590: DeprecationWarning: `np.float` is a deprecated alias for the builtin `float`. To silence this warning, use `float` by itself. Doing this will not modify any behavior and is safe. If you specifically wanted the numpy scalar type, use `np.float64` here.\n",
            "Deprecated in NumPy 1.20; for more details and guidance: https://numpy.org/devdocs/release/1.20.0-notes.html#deprecations\n",
            "  max_n_alphas=1000, n_jobs=None, eps=np.finfo(np.float).eps,\n",
            "/usr/local/lib/python3.7/dist-packages/sklearn/linear_model/_least_angle.py:1723: DeprecationWarning: `np.float` is a deprecated alias for the builtin `float`. To silence this warning, use `float` by itself. Doing this will not modify any behavior and is safe. If you specifically wanted the numpy scalar type, use `np.float64` here.\n",
            "Deprecated in NumPy 1.20; for more details and guidance: https://numpy.org/devdocs/release/1.20.0-notes.html#deprecations\n",
            "  eps=np.finfo(np.float).eps, copy_X=True, positive=False):\n",
            "/usr/local/lib/python3.7/dist-packages/sklearn/decomposition/_lda.py:29: DeprecationWarning: `np.float` is a deprecated alias for the builtin `float`. To silence this warning, use `float` by itself. Doing this will not modify any behavior and is safe. If you specifically wanted the numpy scalar type, use `np.float64` here.\n",
            "Deprecated in NumPy 1.20; for more details and guidance: https://numpy.org/devdocs/release/1.20.0-notes.html#deprecations\n",
            "  EPS = np.finfo(np.float).eps\n"
          ]
        }
      ]
    },
    {
      "cell_type": "code",
      "metadata": {
        "colab": {
          "base_uri": "https://localhost:8080/",
          "height": 894
        },
        "id": "pRJ31dDFky_d",
        "outputId": "58e37843-5e1f-480b-c1b3-0eaac5bbdf36"
      },
      "source": [
        "pyldavis_prepared_data = gensimvis.prepare(\n",
        "    topic_model=lda_model_gensim,\n",
        "    corpus=test_corpus_bow,\n",
        "    dictionary=dictionary,\n",
        "    # mds='tsne' # require that you have sklearn installed\n",
        ")\n",
        " \n",
        "pyLDAvis.save_html(pyldavis_prepared_data, 'pyLDAvis.html')\n",
        " \n",
        "pyLDAvis.display(pyldavis_prepared_data)"
      ],
      "execution_count": 50,
      "outputs": [
        {
          "output_type": "stream",
          "name": "stderr",
          "text": [
            "/usr/local/lib/python3.7/dist-packages/pyLDAvis/_prepare.py:247: FutureWarning: In a future version of pandas all arguments of DataFrame.drop except for the argument 'labels' will be keyword-only\n",
            "  by='saliency', ascending=False).head(R).drop('saliency', 1)\n"
          ]
        },
        {
          "output_type": "execute_result",
          "data": {
            "text/html": [
              "\n",
              "<link rel=\"stylesheet\" type=\"text/css\" href=\"https://cdn.jsdelivr.net/gh/bmabey/pyLDAvis@3.3.1/pyLDAvis/js/ldavis.v1.0.0.css\">\n",
              "\n",
              "\n",
              "<div id=\"ldavis_el2181397844404745761169528609\"></div>\n",
              "<script type=\"text/javascript\">\n",
              "\n",
              "var ldavis_el2181397844404745761169528609_data = {\"mdsDat\": {\"x\": [-0.20640692997394783, -0.1811223776696281, -0.19880122177395212, -0.20243694190555178, -0.0678695383162985, -0.09452601000170814, -0.04079632487676187, 0.01925877178732652, -0.054430784140524706, -0.032477639424718104, 0.11394375572782964, -0.0025266561588761054, 0.023394436987477382, 0.09434282726448474, 0.16830405538551116, 0.22283225761326927, 0.06091997698132929, -0.10284427128954365, 0.26880233319660946, 0.21244028058767392], \"y\": [-0.05258736341620124, -0.0032402065036249155, -0.1199780561927837, -0.023334670639070194, 0.005957962955135002, -0.030244584291770512, 0.1486783689087335, -0.1765589050561252, 0.07410366624849445, -0.13677729721991164, 0.25911260347715576, 0.007818254983079682, 0.16623551435014045, 0.24585408337654016, -0.21835393036575385, 0.019055862626932596, -0.08338633236724038, 0.0783973287132959, -0.18107633904554835, 0.020324039458522406], \"topics\": [1, 2, 3, 4, 5, 6, 7, 8, 9, 10, 11, 12, 13, 14, 15, 16, 17, 18, 19, 20], \"cluster\": [1, 1, 1, 1, 1, 1, 1, 1, 1, 1, 1, 1, 1, 1, 1, 1, 1, 1, 1, 1], \"Freq\": [7.081899573021598, 6.608429621117673, 6.3739177704272985, 6.3610923819886755, 5.591929077158326, 5.402885600810431, 4.870434232872635, 4.772343574949629, 4.7442945476958, 4.6866728285898915, 4.631493485888023, 4.51930707380708, 4.504053106771432, 4.445373708877177, 4.3388206058428915, 4.311845076578468, 4.296564731040733, 4.296496752501136, 4.106766067459777, 4.055380182601328]}, \"tinfo\": {\"Term\": [\"write\", \"article\", \"post\", \"organization\", \"line\", \"host\", \"nntp\", \"university\", \"god\", \"key\", \"good\", \"people\", \"problem\", \"distribution\", \"window\", \"car\", \"file\", \"game\", \"thing\", \"drive\", \"usa\", \"state\", \"gun\", \"system\", \"program\", \"book\", \"card\", \"space\", \"version\", \"government\", \"ali\", \"kulwicki\", \"ambition\", \"cemetery\", \"galut\", \"nysernet\", \"twarda\", \"uprise\", \"visitor\", \"midst\", \"wounded\", \"holocaust\", \"israel\", \"racist\", \"revisionism\", \"semitism\", \"shnekendorf\", \"visibly\", \"filler\", \"beirut\", \"ethnic\", \"cambodia\", \"negotiation\", \"-john_perry_barlow\", \"adam_shostack\", \"bulldoze\", \"cemetary\", \"expansion_ii\", \"gives_isreal\", \"h._pimentel\", \"turkish\", \"armenians\", \"israeli\", \"armenian\", \"turk\", \"turkey\", \"village\", \"armenia\", \"nazi\", \"greek\", \"arab\", \"genocide\", \"soldier\", \"massacre\", \"arabs\", \"argic\", \"serdar\", \"israelis\", \"palestine\", \"muslim\", \"azerbaijan\", \"nazis\", \"greeks\", \"troop\", \"policy_research\", \"jerusalem\", \"greece\", \"cyprus\", \"palestinian\", \"jews\", \"army\", \"attack\", \"war\", \"jewish\", \"german\", \"land\", \"peace\", \"border\", \"history\", \"kill\", \"russian\", \"people\", \"escape\", \"center\", \"world\", \"government\", \"force\", \"child\", \"leave\", \"year\", \"atheist\", \"jacqueline\", \"arise\", \"arrogance\", \"assumption\", \"asumption\", \"disprove\", \"existence\", \"hypothesis\", \"hypothesize\", \"illogic\", \"logical_argument\", \"nature\", \"nottingham\", \"theist\", \"thinking\", \"validity\", \"everyday\", \"32bitaccess\", \"conclusion\", \"fallacy\", \"patrolman\", \"nanci_ann_miller\", \"bobby_mozumder\", \"mozumder\", \"negligible\", \"s.n\", \"universally\", \"absurd\", \"context\", \"moral\", \"belief\", \"meaning\", \"morality\", \"absolute\", \"reality\", \"atheism\", \"premise\", \"assert\", \"argument\", \"assertion\", \"political_atheist\", \"ideal\", \"fundamental\", \"methodology\", \"xmu\", \"proposition\", \"specie\", \"explanation\", \"false\", \"definition\", \"evidence\", \"truth\", \"phrase\", \"true\", \"claim\", \"prove\", \"matter\", \"argue\", \"human\", \"exist\", \"imply\", \"objective\", \"science\", \"explain\", \"statement\", \"question\", \"agree\", \"reason\", \"wrong\", \"word\", \"accept\", \"knowledge\", \"choice\", \"assume\", \"understand\", \"people\", \"point\", \"thing\", \"fact\", \"god\", \"case\", \"base\", \"interconnect\", \"statue\", \"oep\", \"mystical\", \"teaching\", \"outcry\", \"y\\\"d\", \"adultery\", \"burdensome\", \"christ\", \"christian\", \"darius_lecointe\", \"dean.kaflowitz\", \"hateful\", \"jesus\", \"sabbath\", \"ten_commandment\", \"creator\", \"personnal\", \"buckminster\", \"decree\", \"full\", \"nickname\", \"prophet\", \"salvation\", \"192.80.214.253\", \"batf\", \"blast_away\", \"concussion_grenade\", \"daniel_oldham\", \"sin\", \"lord\", \"scripture\", \"koresh\", \"worship\", \"pray\", \"mary\", \"cult\", \"mormon\", \"prayer\", \"doctrine\", \"heaven\", \"resurrection\", \"soul\", \"eternal\", \"jesus_christ\", \"gospel\", \"kent_sandvik\", \"roman\", \"prophecy\", \"satan\", \"verse\", \"grace\", \"bible\", \"god\", \"teach\", \"obey\", \"christians\", \"love\", \"hell\", \"faith\", \"christianity\", \"church\", \"die\", \"fbi\", \"life\", \"man\", \"religion\", \"judge\", \"atf\", \"child\", \"people\", \"fire\", \"woman\", \"live\", \"save\", \"word\", \"world\", \"speak\", \"day\", \"find\", \"time\", \"thing\", \"write\", \"good\", \"fact\", \"law\", \"libertarian\", \"err\", \"billion\", \"gia\", \"rati\", \"tehillim\", \"thshn\\\"g\", \"brady\", \"second_amendment\", \"american_express\", \"bystander\", \"cont\", \"crossfire\", \"david_veal\", \"education_info\", \"gang_member\", \"gun\", \"gun_control\", \"handgun\", \"jason_kratz\", \"machinegun\", \"metter\", \"mindset\", \"pistol\", \"police_officer\", \"revolver\", \"tenn\", \"weird_al\", \"vocal\", \"overreact\", \"firearm\", \"constitution\", \"ban\", \"nra\", \"militia\", \"liberal\", \"assault\", \"amendment\", \"veal\", \"legislation\", \"senate\", \"bush\", \"abortion\", \"conservative\", \"constitutional\", \"glock\", \"homicide\", \"legally\", \"suicide\", \"explosive\", \"civil_right\", \"death_penalty\", \"rkba\", \"federal\", \"weapon\", \"prohibit\", \"semi\", \"crime\", \"knife\", \"law\", \"liberty\", \"violate\", \"court\", \"police\", \"defend\", \"state\", \"clinton\", \"freedom\", \"dangerous\", \"government\", \"country\", \"safety\", \"license\", \"bill\", \"criminal\", \"people\", \"congress\", \"drug\", \"case\", \"kill\", \"political\", \"citizen\", \"carry\", \"mr\", \"power\", \"public\", \"issue\", \"person\", \"death\", \"member\", \"action\", \"david\", \"pretender\", \"alledge\", \"burder\", \"clayton\", \"clayton_cramer\", \"compelling\", \"goodson\", \"greg_hennessy\", \"homosexual\", \"knucklehead\", \"marines\", \"n.j\", \"prostitute\", \"reporting\", \"underwear\", \"chairman\", \"intelligence\", \"themself\", \"efect\", \"nationwide\", \"gay\", \"50th\", \"b'nisan\", \"b'varsha\", \"d\\\"sb\", \"europejski\", \"hema\", \"kabbalat\", \"marriott\", \"mincha\", \"homosexuality\", \"friday\", \"athens\", \"navy\", \"naval\", \"georgia\", \"o&o\", \"meeting\", \"bolshevik\", \"moscow\", \"thursday\", \"feb\", \"youth\", \"rockefeller\", \"new_zealand\", \"fleet\", \"toll\", \"secretary\", \"cramer\", \"chair\", \"nuclear_war\", \"britain\", \"valley\", \"marine\", \"aug\", \"male\", \"june\", \"dr\", \"inform\", \"survey\", \"april\", \"march\", \"director\", \"evening\", \"e.\", \"washington\", \"newspaper\", \"national\", \"report\", \"medium\", \"president\", \"school\", \"news\", \"office\", \"study\", \"california\", \"ship\", \"american\", \"institute\", \"university\", \"new_york\", \"military\", \"department\", \"meet\", \"member\", \"information\", \"state\", \"include\", \"day\", \"man\", \"world\", \"early\", \"call\", \"service\", \"number\", \"year\", \"time\", \"history\", \"group\", \"spend\", \"tax_dollar\", \"cash\", \"experienc\", \"xlrs\", \"universita\", \"snide\", \"centauri\", \"lobbyist\", \"protestation\", \"higher\", \"rarity\", \"tryinh\", \"bulb\", \"uneasy\", \"cambodian\", \"wrongdoing\", \"politic-\", \"witticism\", \"devide\", \"calm\", \"inaccurately\", \"tpg\", \"fringe\", \"expense\", \"n.e.j.med\", \"joy\", \"insure\", \"scrape\", \"money\", \"job\", \"insurance\", \"health_insurance\", \"pocket\", \"consumer\", \"sudden\", \"suit\", \"investment\", \"ink\", \"nasty\", \"bubblejet\", \"go_ahead\", \"premium\", \"competition\", \"coffee\", \"deskjet\", \"reston\", \"naive\", \"broken\", \"fortunately\", \"sigh\", \"slowly\", \"stupidity\", \"comfort\", \"dennis\", \"wrap\", \"cost\", \"worth\", \"sue\", \"pay\", \"expensive\", \"happy\", \"kid\", \"cheap\", \"complain\", \"market\", \"customer\", \"allen\", \"deal\", \"popular\", \"pretty\", \"bad\", \"wait\", \"finally\", \"thing\", \"lot\", \"face\", \"big\", \"experience\", \"care\", \"good\", \"figure\", \"time\", \"work\", \"stuff\", \"problem\", \"hard\", \"buy\", \"talk\", \"year\", \"happen\", \"end\", \"kind\", \"start\", \"reason\", \"idea\", \"find\", \"modem/100\", \"carl_ellison\", \"chomsky\", \"cryptography\", \"dorothy\", \"encrypted\", \"nsa\", \"poitical\", \"unbreakable\", \"keratoses\", \"key\", \"chamishi\", \"yom\", \"cabal\", \"drug_dealer\", \"q&as\", \"steve_brinich\", \"trot\", \"once_tappe\", \"gipu\", \"serial_number\", \"crypto\", \"des\", \"encrypt\", \"password\", \"sci.crypt\", \"clipper_chip\", \"cryptosystem\", \"decrypt\", \"secure\", \"encryption\", \"clipper\", \"law_enforcement\", \"privacy\", \"scheme\", \"pgp\", \"ripem\", \"rsa\", \"wiretap\", \"s1\", \"s2\", \"eff\", \"tap\", \"amanda\", \"ciphertext\", \"escrow\", \"security\", \"random\", \"administration\", \"algorithm\", \"communication\", \"chip\", \"agency\", \"trust\", \"proposal\", \"phone\", \"public\", \"system\", \"message\", \"secret\", \"government\", \"technology\", \"bit\", \"standard\", \"information\", \"access\", \"method\", \"people\", \"provide\", \"datum\", \"line\", \"break\", \"beezer\", \"goalie_mask\", \"hockey\", \"keith_keller\", \"vanbiesbrouck\", \"wodziak\", \"new_brunswick\", \"stern\", \"gerald_olchowy\", \"nhl\", \"deepak\", \"pun\", \"gerald\", \"jagr\", \"plus_minus_stat\", \"la\", \"louis\", \"canuck\", \"islander\", \"pen\", \"penguin\", \"pitt\", \"playoff\", \"stanley_cup\", \"carson\", \"gm\", \"primeau\", \"st_louis\", \"devil\", \"burke\", \"pt\", \"pittsburgh\", \"power_play\", \"minnesota\", \"calgary\", \"det\", \"tor\", \"leafs\", \"puck\", \"pit\", \"espn\", \"hartford\", \"buffalo\", \"sabre\", \"chi\", \"winnipeg\", \"nj\", \"nyi\", \"buf\", \"stl\", \"detroit\", \"toronto\", \"flyer\", \"ottawa\", \"philadelphia\", \"montreal\", \"sweden\", \"mon\", \"vancouver\", \"quebec\", \"cal\", \"game\", \"van\", \"goal\", \"pp\", \"play\", \"team\", \"chicago\", \"win\", \"player\", \"canada\", \"season\", \"trade\", \"fan\", \"boston\", \"mike\", \"year\", \"watch\", \"pick\", \"university\", \"line\", \"point\", \"division\", \"sci.astro\", \"continuously\", \"galaxy\", \"infinity\", \"launch\", \"liquid\", \"schiewer\", \"atomic\", \"comb\", \"henry_spencer\", \"leigh\", \"atmosphere\", \"energy\", \"ancient_mayans\", \"vandalize\", \"billboard\", \"hideous_attempt\", \"light_pollution\", \"revolting\", \"robert_heinlein\", \"explode\", \"uranium\", \"mission\", \"airliner\", \"dryden\", \"flyby\", \"general_dynamic\", \"pat\", \"lines\", \"crystal_city\", \"moon\", \"nasa\", \"orbit\", \"probe\", \"satellite\", \"flight\", \"lunar\", \"fred\", \"spacecraft\", \"shuttle\", \"sphere\", \"solar\", \"toronto_zoology\", \"radius\", \"cooling_tower\", \"film\", \"pioneer\", \"centaur\", \"stable\", \"larson\", \"comet\", \"titan\", \"orbital\", \"proton\", \"space\", \"rocket\", \"mar\", \"plant\", \"surface\", \"earth\", \"fly\", \"planet\", \"water\", \"project\", \"ring\", \"center\", \"power\", \"point\", \"science\", \"high\", \"design\", \"star\", \"system\", \"research\", \"work\", \"technology\", \"find\", \"large\", \"area\", \"low\", \"organization\", \"ardie\", \"yankee\", \"morris\", \"sheaffer\", \"alex\", \"v.27\", \"v.29\", \"ayala\", \"lloyd\", \"baseball\", \"blue_jay\", \"cubans\", \"expos\", \"linare\", \"major_league\", \"mlb\", \"oscar\", \"sherri_nichols\", \"talent\", \"wdctl\", \"bullpen\", \"corelmark\", \"homeruns\", \"hr\", \"lhp\", \"nl\", \"pitch\", \"reardon\", \"reliever\", \"rhp\", \"db\", \"brave\", \"career\", \"hitter\", \"rbi\", \"alomar\", \"pitcher\", \"cub\", \"pitching\", \"dodger\", \"rookie\", \"allocation_unit\", \"met\", \"bond\", \"cross_linke\", \"lopez\", \"bl\", \"peak\", \"baerga\", \"stadium\", \"catcher\", \"cubs_suck\", \"swing\", \"sandberg\", \"cs\", \"starter\", \"ball\", \"hit\", \"al\", \"fame\", \"last_year\", \"offensive\", \"bat\", \"hall\", \"guy\", \"player\", \"year\", \"game\", \"team\", \"season\", \"win\", \"run\", \"lose\", \"play\", \"good\", \"average\", \"fan\", \"league\", \"dave\", \"start\", \"big\", \"number\", \"time\", \"bit\", \"line\", \"long\", \"high\", \"david\", \"great\", \"defrag\", \"defragger\", \"defragment\", \"doublespace\", \"elbo\", \"speedisk\", \"hartmann\", \"modula-2\", \"simulator\", \"massage\", \"buchholz\", \"interpreter\", \"pd\", \"windows\", \"wmf\", \"x3252\", \"proxima\", \"nsw\", \"otp\", \"bmartin\", \"postscript\", \"+44\", \"end-\", \"readme_file\", \"dos\", \"finale\", \"+61\", \"mosaic\", \"robertson\", \"amipro\", \"keyboard\", \"font\", \"motif\", \"xterm\", \"x11\", \"terminal\", \"patch\", \"3d\", \"xt\", \"anonymous_ftp\", \"contrib\", \"r5\", \"x11r4\", \"lib\", \"icon\", \"download\", \"ip\", \"xdm\", \"c++\", \"suite\", \"r4\", \"pub\", \"dos_6.0\", \"gl\", \"archie\", \"incoming\", \"unix\", \"workstation\", \"platform\", \"x11r5\", \"ms\", \"ftp_site\", \"app\", \"microsoft\", \"server\", \"package\", \"version\", \"utility\", \"widget\", \"application\", \"software\", \"character\", \"window\", \"fax\", \"sun\", \"support\", \"machine\", \"release\", \"type\", \"run\", \"program\", \"system\", \"user\", \"include\", \"pc\", \"file\", \"internet\", \"access\", \"mail\", \"set\", \"work\", \"contact\", \"memorium\", \"speedometer\", \"bay_area\", \"car\", \"cheap(the\", \"mechanic\", \"milage\", \"radiator\", \"saab\", \"speedo\", \"traumatize\", \"volvo\", \"volvos\", \"wagon\", \"wolfson\", \"cheema\", \"compartment\", \"cutlass\", \"dash\", \"driving\", \"fusi\", \"glance\", \"mubashir\", \"radar_detector\", \"rear\", \"robert_william_fusi\", \"gear\", \"goig\", \"x-3252\", \"growly\", \"bike\", \"ride\", \"engine\", \"dog\", \"motorcycle\", \"helmet\", \"dod\", \"honda\", \"wheel\", \"rider\", \"brake\", \"tire\", \"flash\", \"mileage\", \"sho\", \"alot\", \"passenger\", \"mustang\", \"harley\", \"toyota\", \"suspension\", \"valve\", \"chris_behanna\", \"chrysler\", \"neck\", \"biker\", \"bmw\", \"horse\", \"truck\", \"oil\", \"lane\", \"bag\", \"ford\", \"seat\", \"left\", \"dealer\", \"corner\", \"mile\", \"road\", \"craig\", \"lock\", \"owner\", \"light\", \"foot\", \"drive\", \"speed\", \"turn\", \"door\", \"pull\", \"buy\", \"stop\", \"head\", \"fast\", \"copy\", \"model\", \"stick\", \"cover\", \"distribution\", \"leave\", \"convert\", \"copyright\", \"gif\", \"jpeg\", \"compressed\", \"format\", \"guideline\", \"catharine\", \"declination\", \"scepticus\", \"sunlight.zip\", \"uudecode\", \"408)252\", \"pascal\", \"working\", \"nchandani\", \"adaber\", \"lamilchama\", \"wreath\", \"uunet!leafusa!buck\", \"execellent\", \"supersede\", \"d87c51fb\", \"donath\", \"readable\", \"viewer\", \"cad\", \"upload\", \"helium\", \"c_compiler\", \"entry\", \"compression\", \"echo\", \"conversion\", \"compress\", \"swap_file\", \"xv\", \"cview\", \"va_list\", \"filename\", \"jfif\", \"tab\", \"hack\", \"retrieve\", \"simtel20\", \"rename\", \"dir\", \"photograph\", \"pyramid\", \"targa\", \"image\", \"tiff\", \"header\", \"contest\", \"file\", \"converter\", \"faq\", \"creative\", \"submit\", \"usenet\", \"program\", \"section\", \"gray\", \"sample\", \"color\", \"source\", \"archive\", \"info\", \"modify\", \"display\", \"note\", \"send\", \"free\", \"graphic\", \"read\", \"small\", \"information\", \"follow\", \"change\", \"number\", \"rule\", \"current\", \"build\", \"version\", \"find\", \"bit\", \"line\", \"good\", \"include\", \"dma\", \"virtual_memory\", \"simms\", \"macuser\", \"386sx\", \"cache\", \"ram\", \"iivx\", \"adaptor\", \"ati_ultra_pro\", \"mac_portable\", \"gmbh\", \"adc\", \"glitch\", \"overdrive\", \"video_card\", \"circuitry\", \"rll\", \"dram\", \"tech_support\", \"cpu\", \"vga\", \"sync\", \"cdrom\", \"386/40\", \"com1\", \"com2\", \"phil_hunt\", \"cga\", \"demon\", \"card\", \"mb\", \"scsi\", \"modem\", \"ide\", \"motherboard\", \"meg\", \"hd\", \"hard_drive\", \"fpu\", \"clock\", \"jumper\", \"pin\", \"scsi-2\", \"mhz\", \"bio\", \"adapter\", \"vlb\", \"intel\", \"quadra\", \"scsi-1\", \"hard_disk\", \"risc\", \"serial_port\", \"controller\", \"slave\", \"external\", \"mode\", \"apple\", \"video\", \"driver\", \"monitor\", \"board\", \"drive\", \"mac\", \"rom\", \"disk\", \"bus\", \"memory\", \"ibm\", \"internal\", \"pc\", \"hardware\", \"chip\", \"speed\", \"bit\", \"system\", \"machine\", \"device\", \"port\", \"problem\", \"fast\", \"work\", \"computer\", \"software\", \"run\", \"geoffrey\", \"crown.|1992\", \"33version\", \"ascesion\", \"nebulae\", \"rosser\", \"crosstalk\", \"unthinkable\", \"opnion\", \"beyound\", \"stuff_delete\", \"dunno\", \"couloir\", \"monster\", \"obnoxious\", \"copeland\", \"clippingdale\", \"seriously_doubt\", \"latrine\", \"mpr\", \"teltech\", \"trading\", \"ryde\", \"windo\", \"istiyor\", \"sinewave\", \"smiley\", \"conspiratorially\", \"navaho\", \"petroglyph\", \"illinois\", \"urbana\", \"jason\", \"tomorrow\", \"cruel\", \"beauchaine\", \"bnr\", \"richardson\", \"beaverton\", \":)\", \"moron\", \"original_poster\", \"dad\", \"dillon_pyron\", \"da\", \"yo\", \"bite\", \"article\", \"keeper\", \"brookline\", \"tony_alicea\", \"radiosity\", \"chimp\", \"amorc\", \"crossposte\", \"dumb\", \"magic\", \"write\", \"i.d\", \"btw\", \"myers\", \"joke\", \"jim\", \"netcom\", \"followup\", \"frank\", \"hear\", \"disclaimer\", \"opinion\", \"organization\", \"poster\", \"insert\", \"line\", \"miss\", \"flame\", \"guess\", \"excellent\", \"nice\", \"good\", \"robert\", \"thing\", \"remember\", \"engineering\", \"read\", \"bad\", \"sort\", \"wrong\", \"real\", \"at_least\", \"make\", \"technology\", \"lot\", \"hard\", \"temp\", \"person|\", \"hypthese\", \"detector\", \"adcom\", \"adcoms\", \"amp\", \"canb\", \"especialy\", \"mobil\", \"rca\", \"stereo\", \"transformer\", \"unbalanced\", \"1x9\", \"qestion\", \"la(omer\", \"laser_printer\", \"programmable\", \"pulse\", \"lethality\", \"tone\", \"tin\", \"unreachable\", \"illinio\", \"midi\", \"allmartin\", \"beckman\", \"cheapie\", \"dmm\", \"sale\", \"audio\", \"shipping\", \"sony\", \"receiver\", \"best_offer\", \"relay\", \"pl6\", \"packard\", \"hewlett\", \"fm\", \"forsale\", \"speaker\", \"joystick\", \"mo\", \"brand_new\", \"excellent_condition\", \"disc\", \"optical\", \"rack\", \"wright\", \"catalog\", \"amplifier\", \"dayton\", \"microphone\", \"custom\", \"newsreader\", \"mm\", \"antenna\", \"signal\", \"pl8\", \"north_carolina\", \"sell\", \"music\", \"laser\", \"detect\", \"price\", \"channel\", \"ma\", \"sound\", \"purchase\", \"electronic\", \"mail\", \"interested\", \"band\", \"offer\", \"box\", \"radio\", \"tape\", \"battery\", \"tube\", \"company\", \"equipment\", \"line\", \"organization\", \"switch\", \"email\", \"model\", \"picture\", \"computer\", \"buy\", \"include\", \"tv\", \"info\", \"work\", \"district_court\", \"cinsider\", \"microcontroller-\", \"donahue\", \"-jason\", \"disapprove\", \"memeber\", \"ceremony\", \"meod\", \"ul'hitraot\", \"varsha\", \"-budgetwise-\", \"religous\", \"8.2.0\", \"brunel_university\", \"ping\", \"rtrace\", \"gravy\", \"11.bmp\", \"maddison\", \"gropus\", \"inaccuracy\", \"icem\", \"sorensen\", \"engel\", \"sw\", \"levenson\", \"scumster\", \"dicarboxylic\", \"curtiss\", \"g)r\", \"g9v\", \"giz\", \"translation\", \"catholic\", \"pope\", \"schism\", \"married\", \"bishop\", \"orthodox\", \"creed\", \"holy_spirit\", \"g)_mr\", \"commitment\", \"divorce\", \"fij\", \"impressed\", \"unity\", \"formula\", \"moore\", \"c8v\", \"nathan\", \"charter\", \"gerry\", \"disobedience\", \"holly\", \"nt\", \"campbell\", \"consecration\", \"marriage\", \"newsgroup\", \"book\", \"posting\", \"reader\", \"g.\", \"ad\", \"subscribe\", \"marry\", \"mark\", \"reference\", \"group\", \"net\", \"quote\", \"h.\", \"john\", \"discuss\", \"discussion\", \"read\", \"stephen\", \"topic\", \"father\", \"issue\", \"vote\", \"response\", \"answer\", \"david\", \"address\", \"find\", \"send\", \"question\", \"message\", \"line\", \"organization\", \"couple\", \"text\", \"shameful\", \"too_soon\", \"taste\", \"egg\", \"tea\", \"sinus\", \"bloom\", \"jim_zisfein\", \"pathology\", \"appreciate_heare\", \"faxability\", \"satisfaxtion\", \"unger\", \"noam\", \"consumption\", \"chastity\", \"dysfunction\", \"gordon_banks\", \"intellect\", \"skepticism\", \"drastically\", \"anesthesiology\", \"barbecue\", \"barbecued_food\", \"eat\", \"large_quantitie\", \"mackie\", \"meat\", \"unfulfilled\", \"unrealistically\", \"disease\", \"patient\", \"msg\", \"food\", \"outlet\", \"neutral\", \"wiring\", \"hiv\", \"diet\", \"cancer\", \"infection\", \"aids\", \"symptom\", \"migraine\", \"skin\", \"headache\", \"severe\", \"virus\", \"candida\", \"syndrome\", \"fuse\", \"restaurant\", \"pain\", \"treatment\", \"wire\", \"physician\", \"smoke\", \"medicine\", \"reaction\", \"medical\", \"health\", \"ground\", \"doctor\", \"effect\", \"increase\", \"age\", \"circuit\", \"body\", \"test\", \"hot\", \"univ\", \"drug\", \"case\", \"child\", \"year\", \"high\", \"time\", \"report\", \"people\", \"problem\", \"number\", \"day\", \"result\", \"vms_vnews_1.41\", \"dallas\", \"cleveland\", \"nntp\", \"novitskey\", \"reserve_university\", \"robert_r._novitskey\", \"|a\", \"clarinew\", \"kuznetsov\", \"indi\", \"lifelength\", \"durham\", \"iclude\", \"55_mph\", \"nasa_langley\", \"sh#$&^t\", \"noname\", \"sidearm\", \"reinscribe\", \"coventry\", \"warwick\", \"griffith\", \"prc\", \"logitech\", \"probobly\", \"anyon\", \"definetly\", \"freeman\", \"rench\", \"host\", \"post\", \"case_western\", \"sun_microsystems\", \"news_gateway\", \":>\", \"louisville\", \"college_park\", \"texas_a&m\", \"adjective\", \"rubin\", \"rayshade\", \"utexas_mail\", \"v.32bi\", \"rose\", \"austin_tx\", \"nasa_lewis\", \"broward_horne\", \"rk\", \"polite\", \"cramm\", \"koppenhoefer_kyle\", \"olde\", \"originator\", \"michigan\", \"usa\", \"austin\", \"ohio\", \"charles\", \"distribution\", \"university\", \"texas\", \"vax\", \"andy\", \"eric\", \"research_center\", \"daniel\", \"tx\", \"organization\", \"boulder\", \"line\", \"j.\", \"keyword\", \"news\", \"world\", \"colorado\", \"internet\", \"bill\", \"advance\", \"steve\", \"s.\", \"david\", \"summary\", \"everytime\", \"digitize\", \"smtp\", \"dsg\", \"19_apr\", \"vanish\", \"shared_memory\", \"erickson\", \"circular\", \"cpbackup\", \"tue\", \"7mhz\", \"anarchal\", \"assassin\", \"techno\", \"skeptic\", \"kcb\", \"joshua\", \"philosophise\", \"dartmouth\", \"detecter\", \"nuntius\", \"useragent\", \"apr_93\", \"ani\", \"programme\", \"iiisi\", \"-fb\", \"width\", \"gang_members\", \"polygon\", \"animation\", \"window_manag\", \"thu\", \"colormap\", \"colour\", \"xputimage\", \"cursor\", \"rotate\", \"stack\", \"expose_event\", \"3do\", \"adb\", \"grayscale\", \"fractal\", \"reset\", \"xxmessage\", \"mydisplay\", \"pov\", \"numlock\", \"silicon_graphics\", \"standard_colormap\", \"gc\", \"oracle\", \"apr_1993\", \"computer_science\", \"depth\", \"gmt\", \"greeting\", \"xxdate\", \"kenneth\", \"segment\", \"mouse\", \"frame\", \"comp\", \"dept\", \"screen\", \"window\", \"problem\", \"draw\", \"accelerator\", \"crash\", \"create\", \"error\", \"edge\", \"line\", \"background\", \"option\", \"organization\", \"display\", \"map\", \"size\", \"position\", \"code\", \"find\", \"message\", \"question\", \"memory\", \"time\", \"run\", \"set\", \"fast\", \"write\", \"advance\", \"bit\", \"university\", \"mail\", \"work\"], \"Freq\": [1780.0, 1387.0, 1253.0, 2052.0, 2312.0, 857.0, 825.0, 789.0, 528.0, 370.0, 794.0, 973.0, 519.0, 474.0, 363.0, 286.0, 332.0, 350.0, 542.0, 288.0, 280.0, 408.0, 237.0, 538.0, 326.0, 231.0, 190.0, 218.0, 271.0, 317.0, 5.4924766702211025, 0.3923197621586502, 2.3539185729519017, 2.7462383351105513, 0.3923197621586502, 2.7462383351105513, 0.3923197621586502, 0.3923197621586502, 1.9615988107932512, 3.9231976215865023, 2.7462383351105513, 20.79294739440846, 190.27508464694537, 9.415674291807607, 2.3539185729519017, 9.415674291807607, 5.4924766702211025, 0.7846395243173004, 1.1769592864759508, 2.3539185729519017, 14.123511437711407, 3.9231976215865023, 18.831348583615213, 3.9231976215865023, 10.200313816124906, 0.3923197621586502, 1.1769592864759508, 5.100156908062453, 1.9615988107932512, 2.3539185729519017, 124.36536460429213, 104.35705673420095, 96.1183417288693, 114.16505078816722, 85.9180279127444, 72.57915599935029, 58.847964323797534, 53.35548765357643, 52.96316789141778, 51.39388884278318, 49.82460979414858, 46.686051696879375, 42.76285407529287, 41.58589478881692, 36.09341811859582, 35.70109835643717, 33.739499545643916, 33.347179783485274, 31.38558097269202, 30.600941448374716, 30.20862168621607, 30.20862168621607, 29.031662399740114, 29.031662399740114, 29.031662399740114, 28.639342637581468, 27.462383351105515, 27.070063588946866, 27.070063588946866, 185.9595672632002, 48.25533074551397, 108.67257411794611, 101.6108183990904, 85.52570815058574, 47.078371459038024, 74.14843504798489, 56.88636551300428, 40.408935502340974, 71.79451647503299, 96.90298125318661, 42.37053431313422, 174.97461392275798, 40.408935502340974, 56.49404575084563, 72.57915599935029, 57.671005037321585, 46.293731934720725, 46.293731934720725, 44.33213312392748, 44.33213312392748, 79.98662274833825, 0.6985731244396354, 10.82788342881435, 20.607907170969245, 31.785077162003414, 0.6985731244396354, 8.732164055495442, 54.13941714407175, 11.875743115473803, 1.7464328110990885, 0.6985731244396354, 3.492865622198177, 50.995838084093386, 0.6985731244396354, 13.971462488792708, 20.95719373318906, 4.54072530885763, 6.985731244396354, 0.3492865622198177, 49.59869183521412, 25.497919042046693, 0.3492865622198177, 1.7464328110990885, 2.7942924977585415, 5.239298433297265, 2.445005935538724, 5.239298433297265, 2.445005935538724, 9.780023742154896, 39.12009496861958, 78.58947649945898, 87.32164055495443, 38.770808406399766, 36.32580247086104, 35.62722934642141, 35.27794278420159, 34.57936965976196, 24.100772793167422, 23.751486230947606, 126.44173552357402, 20.95719373318906, 18.51218779765034, 18.51218779765034, 18.16290123543052, 16.76575498655125, 12.574316239913438, 12.225029677693621, 11.526456553253984, 27.244351853145783, 37.37366215752049, 57.28299620405011, 110.02526709924258, 95.35523148601024, 24.100772793167422, 172.89684829880977, 166.60969017885304, 76.49375712614008, 104.08739554150569, 48.900118710774485, 94.65665836157059, 126.79102208579383, 38.770808406399766, 43.660820277477214, 93.25951211269133, 67.063019946205, 70.905172130623, 188.61474359870158, 79.28804962389863, 98.84809710820842, 92.91022555047151, 92.91022555047151, 68.8094527573041, 49.59869183521412, 51.69441120853302, 65.31658713510592, 63.57015432400683, 131.33174739465144, 95.70451804823006, 101.99167616818677, 79.63733618611845, 97.10166429710932, 82.08234212165716, 64.61801401066627, 1.1623444070461757, 2.3246888140923514, 0.38744813568205855, 2.71213694977441, 22.859440005241453, 1.1623444070461757, 0.38744813568205855, 0.7748962713641171, 1.1623444070461757, 88.33817493550936, 168.53993902169546, 3.8744813568205854, 2.71213694977441, 1.9372406784102927, 151.49222105168488, 14.335581020236166, 2.71213694977441, 8.13641084932323, 0.38744813568205855, 2.3246888140923514, 2.3246888140923514, 3.8744813568205854, 8.523858985005289, 25.571576955015864, 16.27282169864646, 0.38744813568205855, 51.530602045713785, 3.0995850854564684, 2.3246888140923514, 3.0995850854564684, 69.35321628708849, 55.79253153821643, 44.556535603436735, 32.93309153297498, 32.158195261610864, 30.995850854564683, 30.995850854564683, 25.184128819333804, 22.471991869559396, 22.08454373387734, 21.69709559819528, 46.88122441752909, 20.534751191149105, 19.372406784102928, 18.98495864842087, 18.98495864842087, 18.98495864842087, 17.435166105692634, 17.047717970010577, 16.660269834328517, 16.27282169864646, 15.8853735629644, 14.723029155918224, 120.10892206143815, 431.2297750141312, 46.88122441752909, 20.147303055467045, 57.342324080944664, 122.04616273984844, 86.40093425709907, 77.48962713641171, 50.75570577434967, 101.1239634130173, 98.02437832756083, 60.054461030719075, 130.57002172485372, 159.6286319010081, 80.58921222186818, 53.855290859806146, 32.54564339729292, 94.53734510642228, 282.06224277653865, 72.840249508227, 65.86618306594995, 87.9507267998273, 60.44190916640113, 76.32728272936554, 103.06120409142757, 59.279564759354955, 72.840249508227, 77.48962713641171, 77.10217900072965, 67.80342374436024, 76.7147308650476, 68.19087188004231, 61.21680543776526, 60.82935730208319, 32.805985527797574, 3.31745921067616, 5.160492105496248, 0.3686065789640177, 1.8430328948200885, 0.3686065789640177, 0.3686065789640177, 5.8977052634242835, 13.638443421668656, 8.846557895136426, 0.7372131579280354, 9.952377632028478, 1.1058197368920533, 1.8430328948200885, 8.477951316172408, 3.31745921067616, 237.75124343179144, 29.1199197381574, 30.59434605401347, 8.10934473720839, 1.1058197368920533, 0.3686065789640177, 1.8430328948200885, 13.26983684270464, 9.952377632028478, 15.481476316488743, 8.846557895136426, 7.372131579280354, 2.580246052748124, 5.529098684460266, 91.4144315830764, 40.91533026500597, 31.331559211941503, 25.80246052748124, 25.80246052748124, 22.8536078957691, 21.747788158877047, 21.747788158877047, 19.53614868509294, 18.798935527164904, 17.324509211308833, 16.955902632344817, 16.955902632344817, 16.21868947441678, 15.481476316488743, 14.744263158560708, 14.744263158560708, 14.375656579596692, 14.007050000632676, 13.26983684270464, 12.90123026374062, 12.90123026374062, 12.90123026374062, 53.81656052874659, 79.25041447726382, 19.167542106128924, 29.1199197381574, 83.67369342483202, 27.276886843337312, 194.62427369300138, 22.485001316805082, 21.747788158877047, 42.38975658086204, 63.40033158181105, 24.328034211625173, 243.2803421162517, 66.71779079248721, 47.55024868635829, 29.488526317121416, 166.61017369173604, 92.15164474100443, 48.28746184428632, 39.4409039491499, 70.77246316109141, 44.601396054646145, 259.13042501170446, 36.492051317437756, 49.76188816014239, 113.53082632091747, 89.20279210929229, 46.444428949466236, 42.758363159826054, 51.9735276339265, 46.813035528430255, 68.19221710834329, 60.82008552906292, 58.608446055278826, 57.50262631838677, 47.91885526532231, 46.444428949466236, 47.55024868635829, 45.7072157915382, 0.3716369183805935, 0.743273836761187, 0.743273836761187, 17.466935163887893, 18.21020900064908, 1.8581845919029674, 0.743273836761187, 4.088006102186528, 54.25899008356665, 0.743273836761187, 1.486547673522374, 7.4327383676118695, 5.574553775708902, 4.8312799389477155, 3.344732265425341, 3.344732265425341, 19.696756674171453, 0.3716369183805935, 0.3716369183805935, 7.061101449231277, 31.96077498073104, 0.3716369183805935, 0.3716369183805935, 0.743273836761187, 0.3716369183805935, 0.3716369183805935, 0.3716369183805935, 0.3716369183805935, 0.3716369183805935, 0.3716369183805935, 26.757858123402727, 23.784762776357983, 21.554941266074422, 20.44003051093264, 20.06839359255205, 19.696756674171453, 19.696756674171453, 18.953482837410267, 17.838572082268488, 14.865476735223739, 14.865476735223739, 14.493839816843145, 13.750565980081959, 13.007292143320772, 12.264018306559583, 12.264018306559583, 11.892381388178991, 11.892381388178991, 11.892381388178991, 11.149107551417805, 11.149107551417805, 10.405833714656618, 10.405833714656618, 10.034196796276024, 10.034196796276024, 40.1367871851041, 30.84586422558926, 67.637919145268, 18.21020900064908, 20.811667429313236, 117.43726620826754, 31.589138062350447, 21.926578184455014, 14.493839816843145, 37.16369183805934, 68.7528299004098, 25.64294736826095, 81.76012204373056, 84.73321739077531, 42.73824561376825, 43.85315636891003, 62.06336536955911, 91.0510450032454, 52.40080549166368, 77.67211594154404, 43.109882532148845, 37.90696567482053, 59.83354385927555, 38.650239511581724, 150.14131502575978, 43.48151945052944, 41.994971777007066, 44.22479328729062, 35.30550724615638, 47.94116247109656, 72.84083600259632, 85.4764912275365, 72.84083600259632, 73.21247292097692, 69.12446681879038, 76.18556826802165, 48.31279938947715, 58.71863310413377, 48.31279938947715, 53.88735316518605, 56.8604485122308, 57.2320854306114, 44.59643020567122, 44.96806712405181, 80.63056854657142, 2.9379559389438983, 16.321977438577214, 0.32643954877154424, 0.32643954877154424, 0.32643954877154424, 0.9793186463146327, 0.32643954877154424, 1.632197743857721, 0.32643954877154424, 3.590835036486987, 0.9793186463146327, 0.32643954877154424, 7.181670072973974, 1.305758195086177, 0.32643954877154424, 0.6528790975430885, 0.32643954877154424, 0.32643954877154424, 0.6528790975430885, 3.264395487715442, 0.32643954877154424, 0.32643954877154424, 4.243714134030075, 14.689779694719489, 0.32643954877154424, 6.202351426659341, 12.404702853318682, 1.632197743857721, 134.16665454510468, 84.54784313182995, 55.168283742390976, 15.016219243491033, 14.363340145947948, 12.731142402090224, 11.751823755775593, 11.425384207004047, 10.446065560689416, 10.446065560689416, 9.466746914374783, 9.466746914374783, 8.813867816831694, 8.48742826806015, 8.48742826806015, 8.160988719288607, 8.160988719288607, 7.834549170517062, 7.834549170517062, 7.834549170517062, 7.5081096217455165, 7.181670072973974, 7.181670072973974, 6.855230524202429, 6.528790975430884, 18.280614731206477, 17.954175182434934, 143.3069619107079, 62.0235142665934, 11.751823755775593, 119.47687485038517, 33.62327352346906, 47.33373457187392, 47.33373457187392, 70.51094253465355, 25.135845255408906, 52.55676735221862, 19.586372926292654, 26.768042999266626, 72.79601937605436, 28.400240743124346, 78.34549170517062, 140.369005971764, 46.35441592555927, 40.80494359644303, 236.99511240814113, 126.33210537458761, 63.00283291290804, 105.76641380198033, 71.16382163219664, 62.34995381536495, 255.60216668811913, 55.82116283993406, 215.4501021892192, 167.46348851980218, 53.209646449761706, 130.90225905738922, 58.759118778877955, 74.42821711991208, 69.20518433956738, 98.25830418023482, 70.8373820834251, 68.87874479079584, 60.391316522735686, 70.8373820834251, 63.98215155922267, 63.655712010451126, 63.32927246167958, 0.3438362622592199, 2.0630175735553196, 0.3438362622592199, 27.163064718478378, 0.6876725245184399, 16.160304326183336, 46.417895404994695, 0.3438362622592199, 4.813707671629079, 0.3438362622592199, 370.6554907154391, 0.3438362622592199, 0.3438362622592199, 1.0315087867776598, 6.189052720665958, 10.65892413003582, 3.7821988848514194, 1.3753450490368797, 18.223321899738657, 0.6876725245184399, 29.913754816552135, 42.29186025788406, 35.41513501269966, 39.885006422069516, 13.409614228109579, 8.252070294221278, 48.82474924080923, 15.128795539405678, 19.598666948775538, 56.04531074825285, 97.64949848161847, 69.79876123862165, 39.197333897551076, 36.446643799477314, 31.289099865589012, 29.913754816552135, 28.882246029774475, 28.194573505256034, 27.850737242996818, 24.412374620404616, 20.974011997812415, 18.910994424257098, 18.910994424257098, 14.78495927714646, 14.097286752628017, 32.32060865236667, 93.52346333450782, 34.383626225921994, 38.16582511077342, 55.35763822373442, 61.20285468214115, 112.43445775876492, 40.91651520884717, 40.91651520884717, 39.54117015981029, 83.89604799124966, 89.3974281873972, 135.47148733013265, 83.55221172899044, 45.38638661821703, 92.83579080998939, 66.01656235377023, 81.48919415543513, 58.10832832180817, 71.17410628765853, 49.512421765327666, 41.2603514711064, 65.67272609151101, 46.76173166725391, 45.38638661821703, 45.042550355957815, 39.885006422069516, 1.1032019733328575, 4.780541884442383, 95.97857167995862, 7.35467982221905, 2.5741379377766678, 1.1032019733328575, 9.561083768884766, 3.309605919998573, 11.399753724439528, 46.33448287998002, 4.780541884442383, 1.8386699555547625, 12.135221706661435, 15.81256161777096, 6.251477848886193, 68.76625633774813, 21.328571484435248, 9.561083768884766, 20.960837493324295, 27.212315342210488, 25.741379377766677, 6.251477848886193, 48.54088682664574, 12.870689688883338, 3.677339911109525, 55.895566648864786, 4.045073902220477, 7.35467982221905, 29.786453279987157, 3.677339911109525, 102.2300495288448, 72.07586225774669, 37.141133102206204, 30.15418727109811, 28.315517315543346, 27.947783324432393, 27.58004933332144, 24.638177404433822, 24.27044341332287, 23.16724143999001, 22.431773457768102, 19.857635519991437, 19.489901528880484, 19.12216753776953, 19.12216753776953, 18.018965564436673, 17.65123157332572, 17.28349758221477, 16.91576359110382, 16.91576359110382, 40.083005031093826, 59.94064055108527, 35.67019713776239, 35.30246314665144, 31.99285722665287, 33.463793191096684, 24.638177404433822, 37.141133102206204, 35.30246314665144, 25.741379377766677, 29.786453279987157, 233.8788183465658, 45.23128090664716, 76.12093615996717, 39.34753704887192, 156.65468021326578, 145.6226604799372, 54.05689669331002, 96.71403966218053, 87.15295589329574, 65.08891642663859, 61.41157651552908, 47.06995086220193, 51.482758755533354, 38.612069066650015, 47.80541884442383, 64.35344844441668, 41.92167498664859, 40.81847301331573, 54.05689669331002, 62.14704449775098, 47.80541884442383, 39.34753704887192, 3.601191178347603, 5.401786767521404, 9.723216181538527, 6.842263238860446, 64.10120297458732, 9.723216181538527, 1.8005955891738015, 5.401786767521404, 1.8005955891738015, 27.369052955441784, 1.8005955891738015, 15.125002949059933, 31.330363251624146, 1.8005955891738015, 7.562501474529967, 6.122025003190925, 1.8005955891738015, 3.601191178347603, 1.8005955891738015, 1.8005955891738015, 11.16369265287757, 7.562501474529967, 47.175604436353595, 3.601191178347603, 7.202382356695206, 10.443454417208049, 1.8005955891738015, 44.65477061151028, 3.601191178347603, 3.601191178347603, 53.29762943954452, 77.78572945230822, 49.696438261196924, 46.81548531851884, 41.053579433162675, 41.053579433162675, 27.369052955441784, 25.92857648410274, 21.96726618792038, 21.247027952250857, 20.526789716581337, 20.166670598746578, 20.166670598746578, 18.366075009572775, 17.645836773903255, 16.565479420398976, 15.845241184729455, 15.845241184729455, 14.764883831225172, 14.764883831225172, 14.04464559555565, 13.684526477720892, 13.684526477720892, 13.32440735988613, 195.18456186644008, 41.053579433162675, 24.12798089492894, 24.12798089492894, 41.053579433162675, 79.22620592364726, 33.13095884079795, 31.330363251624146, 57.25893973572689, 46.81548531851884, 23.767861777094183, 57.25893973572689, 68.0625132707697, 76.70537209880393, 43.574413258006004, 54.01786767521404, 41.41369855099743, 28.0892911911113, 55.45834414655309, 33.13095884079795, 48.25596178985788, 36.01191178347603, 42.13393678666696, 33.49107795863271, 32.410720605128425, 32.410720605128425, 33.851197076467464, 0.3513917730712226, 16.515413334347464, 17.920980426632354, 1.054175319213668, 8.784794326780565, 0.3513917730712226, 0.3513917730712226, 0.3513917730712226, 4.216701276854672, 63.601910925891296, 7.3792272344956755, 1.054175319213668, 9.48757787292301, 1.054175319213668, 7.730619007566898, 3.513917730712226, 2.459742411498558, 6.67644368835323, 15.109846242062572, 0.3513917730712226, 7.730619007566898, 2.108350638427336, 0.3513917730712226, 11.244536738279123, 0.7027835461424452, 12.650103830564014, 37.59891971862082, 2.108350638427336, 3.865309503783449, 0.7027835461424452, 188.69738213924654, 31.976651349481262, 27.057166526484146, 24.948815888056807, 24.597424114985582, 22.489073476558247, 20.732114611202135, 17.21819688048991, 16.86680510741869, 16.16402156127624, 15.461238015133796, 15.109846242062572, 14.758454468991351, 13.704279149777681, 13.704279149777681, 13.704279149777681, 13.704279149777681, 13.001495603635238, 13.001495603635238, 12.650103830564014, 12.650103830564014, 12.298712057492791, 12.298712057492791, 11.595928511350346, 28.814125391840257, 18.97515574584602, 40.4100539031906, 98.38969645994233, 56.574075464466844, 16.86680510741869, 46.03232227233017, 18.6237639727748, 20.732114611202135, 32.67943489562371, 72.03531347960063, 78.36036539488265, 158.47768965512142, 116.66206865964591, 90.30768567930423, 55.168508372181954, 73.79227234495676, 119.12181107114446, 57.979642556751735, 78.36036539488265, 146.88176114377106, 35.49056908019349, 43.22118808776038, 29.165517164911478, 33.38221844176615, 61.493560287463964, 46.735105818472604, 47.43788936461505, 56.925467237538065, 43.57257986083161, 57.276859010609286, 39.70727035704816, 38.30170326476327, 37.2475279455496, 37.95031149169204, 1.586033306052111, 0.6344133224208445, 0.9516199836312668, 2.537653289683378, 0.6344133224208445, 1.268826644841689, 1.586033306052111, 1.268826644841689, 3.806479934525067, 2.8548599508938, 1.268826644841689, 2.8548599508938, 8.247373191470977, 40.602452634934046, 1.586033306052111, 0.9516199836312668, 0.31720666121042224, 2.220446628472956, 0.31720666121042224, 0.31720666121042224, 23.790499590781668, 14.908713076889844, 0.31720666121042224, 2.220446628472956, 11.4194398035752, 0.31720666121042224, 6.026926562998023, 2.220446628472956, 2.8548599508938, 2.537653289683378, 70.73708544992417, 64.0757455645053, 57.41440567908643, 36.79597270040898, 32.03787278225265, 27.279772864096312, 26.645359541675468, 23.473292929571247, 23.473292929571247, 21.57005296230871, 20.301226317467023, 19.349606333835755, 15.860333060521112, 15.860333060521112, 15.54312639931069, 14.908713076889844, 14.274299754469002, 14.274299754469002, 13.95709309325858, 11.102233142364778, 11.102233142364778, 45.6777592143008, 10.150613158733512, 9.83340649752309, 9.516199836312667, 9.516199836312667, 69.78546546629289, 23.790499590781668, 19.66681299504618, 42.18848594098616, 55.82837237303432, 19.032399672625335, 26.328152880465048, 30.76904613741096, 89.13507180012864, 66.9306055153991, 184.61427682446572, 30.451839476200536, 41.87127927977574, 78.98445864139514, 128.1514911290106, 42.18848594098616, 169.3883570863655, 66.29619219297825, 56.14557903424474, 108.16747147275399, 72.00591209476585, 47.89820584277376, 72.95753207839712, 114.19439803575202, 93.57596505707457, 114.82881135817286, 59.9520589687698, 81.20490526986809, 52.33909909971967, 72.32311875597628, 52.973512422140516, 50.43585913245713, 58.36602566271769, 53.92513240577178, 61.85529893603234, 46.629379197932074, 0.3154448417395253, 3.154448417395253, 2.208113892176677, 286.42391629948895, 0.3154448417395253, 10.409679777404335, 1.8926690504371517, 3.7853381008743034, 2.208113892176677, 3.154448417395253, 0.6308896834790506, 9.463345252185759, 3.4698932591347784, 8.832455568706708, 0.3154448417395253, 0.9463345252185759, 4.416227784353354, 0.3154448417395253, 3.7853381008743034, 7.570676201748607, 1.5772242086976265, 3.154448417395253, 0.9463345252185759, 7.255231360009081, 25.235587339162024, 2.208113892176677, 23.97380797220392, 0.3154448417395253, 0.3154448417395253, 0.3154448417395253, 114.19103270970817, 77.2839862261837, 75.07587233400702, 54.57195762093788, 42.585053634835916, 29.65181512351538, 27.4437012313387, 23.658363130464398, 23.658363130464398, 23.02747344698535, 22.71202860524582, 22.081138921766772, 20.503914713069147, 15.141352403497214, 14.82590756175769, 13.564128194799588, 13.248683353060063, 11.98690398610196, 11.040569460883386, 10.725124619143859, 10.409679777404335, 10.409679777404335, 10.09423493566481, 10.09423493566481, 9.778790093925284, 9.778790093925284, 24.28925281394345, 18.295800820892467, 27.4437012313387, 35.01437743308731, 19.873025029590092, 17.349466295673892, 19.242135346111045, 24.604697655682976, 46.0549468939707, 34.38348774960826, 21.76569408002725, 44.79316752701259, 65.29708224008174, 24.9201424974225, 34.698932591347784, 39.430605217440664, 53.31017825397977, 30.598149648733955, 86.43188663662993, 54.25651277919835, 61.19629929746791, 30.913594490473482, 32.17537385743158, 52.679288570500724, 39.11516037570114, 36.27615680004541, 35.01437743308731, 33.75259806612921, 32.49081869917111, 27.759146073078227, 29.65181512351538, 32.49081869917111, 29.336370281775853, 58.02925747229801, 22.898031326906782, 54.892540852173795, 77.16322885505572, 7.52811988829812, 104.76633511214884, 15.997254762633506, 0.31367166201242164, 0.31367166201242164, 0.31367166201242164, 0.31367166201242164, 2.509373296099373, 0.31367166201242164, 5.332418254211169, 3.76405994414906, 0.31367166201242164, 0.31367166201242164, 0.31367166201242164, 0.31367166201242164, 0.31367166201242164, 0.31367166201242164, 5.332418254211169, 0.31367166201242164, 0.31367166201242164, 5.018746592198746, 17.565613072695612, 6.900776564273277, 9.41014986037265, 1.2546866480496865, 1.5683583100621084, 108.5303950562979, 25.72107628501858, 22.58435966489436, 20.702329692819834, 11.919523156472023, 10.351164846409917, 10.351164846409917, 9.723821522385071, 8.155463212322964, 7.52811988829812, 7.214448226285699, 6.900776564273277, 6.587104902260855, 6.587104902260855, 6.587104902260855, 6.273433240248433, 5.959761578236011, 5.959761578236011, 5.64608991622359, 5.64608991622359, 161.85457759840958, 16.93826974867077, 16.93826974867077, 13.801553128546553, 260.34747947031, 18.192956396720458, 69.32143730474519, 11.605851494459602, 13.487881466534132, 36.07224113142849, 186.00729557336606, 59.2839441203477, 10.037493184397492, 29.171464567155216, 68.0667506566955, 81.24096046121721, 27.916777919105527, 63.989019050534026, 21.643344678857094, 53.01051088009926, 64.30269071254644, 79.3589304891427, 63.361675726509176, 44.22770434375146, 83.43666209530416, 55.833555838211055, 72.14448226285698, 66.81206400864582, 62.734332402484334, 77.47690051706815, 45.48239099180115, 46.73707763985083, 50.50113758399989, 55.20621251418621, 66.81206400864582, 56.14722750022348, 75.90854220700605, 58.656600796322856, 50.81480924601231, 7.716338906559633, 3.582585920902687, 27.007186172958715, 3.8581694532798165, 3.582585920902687, 28.936270899598625, 57.32137473444299, 3.582585920902687, 5.787254179919724, 3.8581694532798165, 3.8581694532798165, 1.9290847266399083, 1.9290847266399083, 1.9290847266399083, 3.8581694532798165, 15.432677813119266, 3.582585920902687, 1.9290847266399083, 14.330343683610748, 5.787254179919724, 38.03052746804391, 36.65260980615826, 7.165171841805374, 3.582585920902687, 1.9290847266399083, 7.716338906559633, 3.8581694532798165, 1.9290847266399083, 3.8581694532798165, 1.9290847266399083, 190.97938793735094, 85.9820621016645, 81.84830911600754, 49.32945229550623, 44.09336518034076, 40.78636279181521, 37.20377687091252, 35.825859209026866, 33.07002388525557, 31.967689755747053, 28.109520302467235, 27.282769705335845, 51.809704086900396, 25.078101446318808, 24.802517913941678, 24.802517913941678, 23.70018378443316, 23.70018378443316, 22.59784965492464, 22.32226612254751, 21.771099057793254, 17.912929604513433, 17.637346072136307, 17.086179007382047, 39.959612194683814, 37.47936040328965, 27.282769705335845, 85.70647856928737, 95.62748573486404, 75.50988787133355, 123.185838972577, 82.3994761807618, 78.26572319510485, 202.0027292324361, 110.23341295085191, 36.92819333853539, 85.43089503691021, 41.613113388946594, 76.33663846846494, 55.39229000780308, 39.68402866230669, 65.03771364100263, 56.494624137311604, 84.32856090740171, 65.58888070575689, 98.10773752625819, 114.36716593650885, 65.03771364100263, 56.494624137311604, 45.19569930984928, 94.24956807297839, 57.87254179919725, 77.16338906559635, 58.42370886395151, 50.70736995739188, 50.70736995739188, 11.107010772726536, 0.34709408664770425, 0.34709408664770425, 0.34709408664770425, 0.34709408664770425, 0.34709408664770425, 0.6941881732954085, 0.34709408664770425, 1.388376346590817, 0.34709408664770425, 13.189575292612764, 5.206411299715564, 0.34709408664770425, 5.206411299715564, 2.776752693181634, 2.0825645198862257, 1.0412822599431129, 2.776752693181634, 0.34709408664770425, 1.388376346590817, 1.388376346590817, 3.818034953124747, 0.34709408664770425, 0.34709408664770425, 0.34709408664770425, 0.6941881732954085, 5.553505386363268, 0.34709408664770425, 0.34709408664770425, 0.34709408664770425, 57.96471247016662, 36.097785011361246, 28.808809191759455, 19.090174765623736, 17.70179841903292, 12.495387119317355, 10.065728512783425, 9.71863442613572, 9.024446252840312, 8.677352166192607, 8.677352166192607, 8.330258079544903, 7.636069906249494, 7.28897581960179, 6.941881732954085, 6.594787646306382, 6.247693559658678, 1313.404023874913, 5.900599473010972, 5.900599473010972, 5.900599473010972, 5.900599473010972, 5.206411299715564, 5.206411299715564, 5.206411299715564, 16.3134220724421, 14.925045725851284, 1492.1574784984807, 110.72301364061765, 39.56872587783829, 9.024446252840312, 23.255303805396185, 55.53505386363268, 23.255303805396185, 11.45410485937424, 29.15590327840716, 152.37430403834216, 40.9571022244291, 113.846860420447, 668.8503049701261, 24.643680151987006, 18.048892505680623, 588.6715709545065, 44.428043090906144, 39.91581996448599, 57.96471247016662, 31.238467798293385, 49.63445439062171, 213.46286328833813, 42.692572657667625, 114.88814268039012, 44.77513717755385, 30.197185538350272, 59.700182903405135, 52.41120708380335, 37.486161357952064, 42.34547857101992, 41.99838448437222, 37.486161357952064, 41.30419631107681, 39.56872587783829, 40.2629140511337, 34.01522049147502, 14.322854510109055, 0.34933791488070864, 0.34933791488070864, 7.68543412737559, 6.637420382733465, 0.34933791488070864, 40.1738602112815, 0.34933791488070864, 0.34933791488070864, 0.34933791488070864, 2.794703319045669, 29.34438484997953, 8.733447872017717, 0.34933791488070864, 0.34933791488070864, 0.6986758297614173, 0.34933791488070864, 4.192054978568504, 3.4933791488070867, 6.986758297614173, 0.34933791488070864, 7.3360962124948825, 75.80632752911379, 0.34933791488070864, 0.34933791488070864, 6.637420382733465, 0.6986758297614173, 0.6986758297614173, 1.048013744642126, 1.048013744642126, 163.49014416417165, 40.87253604104291, 33.18710191366732, 24.453654041649607, 23.75497821188819, 22.70696446724606, 18.864247403558267, 18.51490948867756, 17.816233658916143, 17.466895744035433, 14.672192424989765, 14.322854510109055, 32.48842608390591, 12.226827020824803, 11.877489105944095, 10.829475361301968, 10.130799531540552, 9.781461616659842, 9.432123701779133, 9.082785786898425, 9.082785786898425, 9.082785786898425, 9.082785786898425, 8.733447872017717, 8.384109957137008, 18.16557157379685, 106.54806403861613, 17.466895744035433, 17.117557829154723, 44.71525310473071, 17.816233658916143, 18.16557157379685, 136.24178680347637, 18.51490948867756, 19.912261148200397, 25.50166778629173, 115.98018774039528, 28.99504693509882, 46.81128059401496, 104.10269863445119, 50.65399765770275, 42.61922561544645, 154.05802046239253, 73.71030003982953, 25.152329871411023, 67.07287965709607, 65.32619008269252, 42.26988770056575, 41.92054978568504, 32.48842608390591, 25.152329871411023, 63.57950050828897, 30.74173650950236, 272.134235692072, 226.0216309278185, 38.42717063687795, 51.70201140234488, 44.71525310473071, 36.3311431475937, 55.19539055115197, 49.95532182794134, 53.44870097674843, 38.07783272199724, 41.92054978568504, 46.11260476425355, 0.37730948408046583, 0.7546189681609317, 0.37730948408046583, 0.37730948408046583, 0.37730948408046583, 1.8865474204023294, 0.37730948408046583, 9.432737102011647, 0.37730948408046583, 0.37730948408046583, 0.37730948408046583, 0.37730948408046583, 2.2638569044827954, 0.37730948408046583, 3.0184758726437266, 1.5092379363218633, 1.1319284522413977, 0.37730948408046583, 0.37730948408046583, 1.1319284522413977, 0.37730948408046583, 2.2638569044827954, 0.37730948408046583, 1.1319284522413977, 1.5092379363218633, 4.527713808965591, 0.7546189681609317, 1.1319284522413977, 0.37730948408046583, 0.37730948408046583, 178.46738597006035, 67.91570713448385, 56.97373209615034, 36.22171047172473, 35.08978201948332, 29.05283027419587, 16.601617299540496, 14.337760395057703, 13.58314142689677, 13.58314142689677, 12.82852245873584, 12.073903490574907, 11.696594006494442, 10.94197503833351, 10.187356070172576, 10.187356070172576, 9.432737102011647, 9.055427617931182, 9.055427617931182, 9.055427617931182, 9.055427617931182, 8.300808649770248, 8.300808649770248, 7.923499165689782, 7.5461896816093175, 7.168880197528852, 7.168880197528852, 6.791570713448385, 6.791570713448385, 43.013281185173106, 75.83920630017364, 194.69169378552039, 103.00548915396719, 39.99480531252938, 23.77049749706935, 35.08978201948332, 10.564665554253045, 24.52511646523028, 94.32737102011647, 65.65185023000106, 171.67581525661194, 75.83920630017364, 60.36951745287454, 24.147806981149813, 97.34584689276019, 38.86287686028798, 56.97373209615034, 130.54908149184118, 30.18475872643727, 28.29821130603494, 41.50404324885125, 75.46189681609317, 37.73094840804659, 41.50404324885125, 65.65185023000106, 68.29301661856432, 59.6148984847136, 108.2878219310937, 71.31149249120804, 87.15849082258761, 59.99220796879407, 139.98181859385284, 111.68360728781789, 44.522519121494966, 41.12673376477078, 13.87733715616414, 13.87733715616414, 13.87733715616414, 6.93866857808207, 6.93866857808207, 6.93866857808207, 6.93866857808207, 6.93866857808207, 1.9428272018629797, 1.6652804587396968, 0.2775467431232828, 0.8326402293698484, 0.5550934862465656, 0.2775467431232828, 5.273388119342373, 13.044696926794291, 2.2203739449862625, 30.80768848668439, 14.432430642410706, 14.154883899287423, 3.6081076606026765, 1.6652804587396968, 1.387733715616414, 2.775467431232828, 44.68502564284853, 2.2203739449862625, 1.9428272018629797, 7.771308807451919, 0.5550934862465656, 1.387733715616414, 56.06444211090312, 53.84406816591686, 39.68918426662944, 56.06444211090312, 28.864861284821412, 26.92203408295843, 26.089393853588582, 24.70166013797217, 19.70581876175308, 19.150725275506513, 18.318085046136666, 18.318085046136666, 16.375257844273687, 15.542617614903838, 14.432430642410706, 13.599790413040859, 13.322243669917574, 12.76715018367101, 12.76715018367101, 12.489603440547725, 12.489603440547725, 11.934509954301161, 38.57899729413631, 34.41579614728707, 66.88876509271115, 19.150725275506513, 18.59563178925995, 29.419954771067978, 24.146566651725603, 43.5748386703554, 39.96673100975272, 58.562362799012675, 33.305609174793936, 48.29313330345121, 41.9095582116157, 32.195422202300804, 28.864861284821412, 38.301450551013026, 39.13409078038288, 27.75467431232828, 28.309767798574846, 31.085235229807676, 48.570680046574495, 40.24427775287601, 41.9095582116157, 35.80352986290348, 39.13409078038288, 31.64032871605424, 39.13409078038288, 36.358623349150044, 32.47296894542409, 31.917875459177523, 30.53014174356111, 19.314303366371128, 16.983266753188403, 41.62565380683433, 825.5199662971384, 0.9990156913640239, 33.300523045467465, 2.3310366131827225, 1.3320209218186985, 0.6660104609093492, 0.6660104609093492, 0.3330052304546746, 0.3330052304546746, 8.325130761366866, 0.3330052304546746, 0.9990156913640239, 7.992125530912191, 0.3330052304546746, 0.3330052304546746, 0.3330052304546746, 0.3330052304546746, 1.3320209218186985, 1.9980313827280478, 0.9990156913640239, 0.9990156913640239, 3.330052304546746, 0.3330052304546746, 0.3330052304546746, 0.9990156913640239, 3.9960627654560956, 0.3330052304546746, 850.495358581239, 1199.8178453281926, 34.29953873683149, 11.655183065913612, 7.6591203004575155, 7.6591203004575155, 6.9931098395481675, 6.9931098395481675, 6.660104609093492, 6.660104609093492, 6.327099378638818, 5.994094148184144, 5.661088917729469, 5.661088917729469, 5.661088917729469, 5.328083687274794, 5.328083687274794, 4.99507845682012, 4.662073226365445, 4.662073226365445, 4.662073226365445, 4.662073226365445, 4.662073226365445, 53.613842103202614, 18.981298135916454, 215.78738933462915, 34.63254396728616, 24.30938182319125, 23.310366131827223, 313.3579218578488, 495.51178291655583, 52.28182118138391, 30.636481201830062, 11.988188296368287, 29.304460280011366, 17.31627198364308, 24.975392284100597, 26.973423666828644, 672.337560287988, 22.3113504404632, 646.3631523125234, 39.62762242410628, 68.93208270411763, 70.93011408684569, 117.55084635050014, 26.307413205919296, 45.28871134183575, 37.96259627183291, 35.29855442819551, 31.302491662739413, 25.641402745009945, 32.63451258455812, 26.973423666828644, 5.218512421248914, 10.437024842497827, 5.218512421248914, 5.218512421248914, 5.218512421248914, 5.218512421248914, 5.218512421248914, 5.218512421248914, 5.218512421248914, 0.34790082808326095, 13.220231467163915, 2.0874049684995657, 1.3916033123330438, 1.7395041404163047, 2.4353057965828264, 2.4353057965828264, 0.34790082808326095, 9.045421530164784, 0.34790082808326095, 2.0874049684995657, 0.34790082808326095, 4.522710765082392, 13.568132295247176, 49.74981841590632, 1.0437024842497828, 2.7832066246660876, 0.34790082808326095, 0.34790082808326095, 11.480727326747612, 0.34790082808326095, 23.309355481578482, 21.569851341162178, 19.830347200745873, 17.39504140416305, 17.39504140416305, 12.872330639080655, 12.872330639080655, 11.828628154830872, 11.828628154830872, 11.13282649866435, 10.784925670581089, 10.784925670581089, 10.089124014414567, 9.393322358248044, 9.045421530164784, 8.697520702081524, 8.349619873998263, 8.349619873998263, 8.001719045915001, 8.001719045915001, 7.65381821783174, 7.65381821783174, 7.305917389748479, 7.305917389748479, 46.2708101350737, 63.31795071115349, 24.70095879391153, 73.75497555365132, 12.176528982914132, 12.176528982914132, 16.699239747996526, 15.655537263746742, 60.18684325840414, 27.136264590494353, 19.830347200745873, 64.01375236732001, 78.62558714681697, 194.1286620704596, 253.61970367269723, 54.272529180988705, 20.874049684995654, 27.484165418577614, 66.10115733581958, 51.48932255632262, 28.875768730910657, 424.7869110896616, 22.61355382541196, 33.39847949599305, 275.8853566700259, 51.83722338440588, 23.657256309661744, 39.660694401491746, 39.660694401491746, 45.22710765082392, 82.8003970838161, 53.22882669673893, 67.14485982006936, 37.22538860490892, 75.49447969406762, 56.70783497757153, 45.22710765082392, 40.35649605765827, 79.32138880298349, 35.833785292575875, 44.87920682274066, 53.57672752482218, 42.79180185424109, 41.05229771382479], \"Total\": [1780.0, 1387.0, 1253.0, 2052.0, 2312.0, 857.0, 825.0, 789.0, 528.0, 370.0, 794.0, 973.0, 519.0, 474.0, 363.0, 286.0, 332.0, 350.0, 542.0, 288.0, 280.0, 408.0, 237.0, 538.0, 326.0, 231.0, 190.0, 218.0, 271.0, 317.0, 5.4924766702211025, 0.3923197621586502, 2.3539185729519017, 2.7462383351105513, 0.3923197621586502, 2.7462383351105513, 0.3923197621586502, 0.3923197621586502, 1.9615988107932512, 3.9231976215865023, 2.7462383351105513, 20.79294739440846, 190.27508464694537, 9.415674291807607, 2.3539185729519017, 9.415674291807607, 5.4924766702211025, 0.7846395243173004, 1.1769592864759508, 2.3539185729519017, 14.123511437711407, 3.9231976215865023, 18.831348583615213, 3.9231976215865023, 10.200313816124906, 0.3923197621586502, 1.1769592864759508, 5.100156908062453, 1.9615988107932512, 2.3539185729519017, 124.36536460429213, 104.35705673420095, 96.1183417288693, 114.4425975312905, 85.9180279127444, 72.57915599935029, 58.847964323797534, 53.35548765357643, 52.96316789141778, 51.39388884278318, 49.82460979414858, 46.686051696879375, 42.76285407529287, 41.58589478881692, 36.09341811859582, 35.70109835643717, 33.739499545643916, 33.347179783485274, 31.38558097269202, 30.600941448374716, 30.20862168621607, 30.20862168621607, 29.031662399740114, 29.031662399740114, 29.031662399740114, 28.639342637581468, 27.462383351105515, 27.070063588946866, 27.070063588946866, 195.25832251956962, 50.098363640334064, 138.30775420088048, 134.68650413496323, 112.25962951264778, 54.58648108078354, 99.76186667830771, 71.99684280460457, 47.30410289923938, 126.53957700182312, 218.12481148826498, 52.77636802779084, 973.4132350133821, 51.44216778344564, 169.29823122180167, 466.80223355103107, 317.116969539047, 130.15765190322335, 181.075354794019, 215.31977456903144, 529.5649506200896, 79.98662274833825, 0.6985731244396354, 10.82788342881435, 20.607907170969245, 31.785077162003414, 0.6985731244396354, 8.732164055495442, 54.13941714407175, 11.875743115473803, 1.7464328110990885, 0.6985731244396354, 3.492865622198177, 50.995838084093386, 0.6985731244396354, 13.971462488792708, 20.95719373318906, 4.54072530885763, 6.985731244396354, 0.3492865622198177, 49.59869183521412, 25.497919042046693, 0.3492865622198177, 1.7464328110990885, 2.7942924977585415, 5.239298433297265, 2.445005935538724, 5.239298433297265, 2.445005935538724, 9.780023742154896, 39.12009496861958, 78.58947649945898, 87.68175967278918, 38.770808406399766, 36.32580247086104, 35.62722934642141, 35.27794278420159, 34.57936965976196, 24.100772793167422, 23.751486230947606, 128.63743715766097, 20.95719373318906, 18.51218779765034, 18.51218779765034, 18.16290123543052, 16.76575498655125, 12.574316239913438, 12.225029677693621, 11.526456553253984, 27.588188115405003, 38.64248880236218, 60.415402898067185, 120.90590490784143, 107.75357182783611, 25.071952379451485, 214.7925093258028, 221.1048516505144, 94.46535308448976, 136.2741231516833, 57.3231351099953, 124.76583282873352, 187.05550828183806, 44.17380839141277, 51.12935404110776, 137.21123485477779, 91.73941522698597, 99.84456937740761, 438.5128353561817, 133.44078735963103, 210.00836068249242, 195.86883659504275, 204.44730230722053, 118.7366742852577, 66.37967983956418, 74.62661732508556, 128.29491586981604, 127.25613959308262, 973.4132350133821, 407.87884461234466, 542.679943278293, 262.3444890539687, 528.3314393112405, 314.22938485077134, 204.37974094284738, 1.1623444070461757, 2.3246888140923514, 0.38744813568205855, 2.71213694977441, 22.859440005241453, 1.1623444070461757, 0.38744813568205855, 0.7748962713641171, 1.1623444070461757, 88.33817493550936, 168.53993902169546, 3.8744813568205854, 2.71213694977441, 1.9372406784102927, 151.49222105168488, 14.335581020236166, 2.71213694977441, 8.13641084932323, 0.38744813568205855, 2.3246888140923514, 2.3246888140923514, 3.8744813568205854, 8.523858985005289, 25.571576955015864, 16.27282169864646, 0.38744813568205855, 51.530602045713785, 3.0995850854564684, 2.3246888140923514, 3.0995850854564684, 69.35321628708849, 55.79253153821643, 44.556535603436735, 32.93309153297498, 32.158195261610864, 30.995850854564683, 30.995850854564683, 25.184128819333804, 22.471991869559396, 22.08454373387734, 21.69709559819528, 47.27354417968774, 20.534751191149105, 19.372406784102928, 18.98495864842087, 18.98495864842087, 18.98495864842087, 17.435166105692634, 17.047717970010577, 16.660269834328517, 16.27282169864646, 15.8853735629644, 14.723029155918224, 126.04679361917505, 528.3314393112405, 50.097537477265284, 20.491139317726265, 64.32805532534101, 149.25655721938526, 101.9457804454907, 90.41322993854497, 57.04286389430639, 126.78100833048897, 135.42626507759675, 77.93394666819852, 226.29196823485054, 296.41023146965114, 125.99646531044448, 74.54570977908396, 38.074742081753186, 181.075354794019, 973.4132350133821, 129.28845669904393, 121.52817637030196, 212.57699925745487, 117.11878162196274, 204.44730230722053, 466.80223355103107, 122.27747585682238, 329.8374327626148, 526.6392428352129, 781.9273417391071, 542.679943278293, 1780.2910373223747, 794.9249164266815, 262.3444890539687, 265.1677670043995, 32.805985527797574, 3.31745921067616, 5.160492105496248, 0.3686065789640177, 1.8430328948200885, 0.3686065789640177, 0.3686065789640177, 5.8977052634242835, 13.638443421668656, 8.846557895136426, 0.7372131579280354, 9.952377632028478, 1.1058197368920533, 1.8430328948200885, 8.477951316172408, 3.31745921067616, 237.75124343179144, 29.1199197381574, 30.59434605401347, 8.10934473720839, 1.1058197368920533, 0.3686065789640177, 1.8430328948200885, 13.26983684270464, 9.952377632028478, 15.481476316488743, 8.846557895136426, 7.372131579280354, 2.580246052748124, 5.529098684460266, 91.4144315830764, 40.91533026500597, 31.331559211941503, 25.80246052748124, 25.80246052748124, 22.8536078957691, 21.747788158877047, 21.747788158877047, 19.53614868509294, 18.798935527164904, 17.324509211308833, 16.955902632344817, 16.955902632344817, 16.21868947441678, 15.481476316488743, 14.744263158560708, 14.744263158560708, 14.375656579596692, 14.007050000632676, 13.26983684270464, 12.90123026374062, 12.90123026374062, 12.90123026374062, 56.91108688907957, 85.52753067180223, 19.516880021009634, 30.650189918584218, 97.01256533822612, 29.21971404520029, 265.1677670043995, 23.864410931666004, 23.002474806926735, 49.95415435056488, 79.83818265111768, 26.289633022418425, 408.85050735784483, 89.41098410159572, 61.673760124069695, 34.20682095021722, 317.116969539047, 147.91286807228255, 66.07867605427987, 52.29129655523472, 123.56872259032546, 65.51356926366951, 973.4132350133821, 48.3492932975159, 80.84712338995007, 314.22938485077134, 218.12481148826498, 73.90681230057174, 71.84130583324026, 116.27778430545412, 93.83583172462308, 249.47774978818566, 187.757934910832, 191.41489442011783, 184.60897806552168, 111.27062669120318, 110.36008471679531, 128.08796909269256, 195.8937381573213, 0.3716369183805935, 0.743273836761187, 0.743273836761187, 17.466935163887893, 18.21020900064908, 1.8581845919029674, 0.743273836761187, 4.088006102186528, 54.25899008356665, 0.743273836761187, 1.486547673522374, 7.4327383676118695, 5.574553775708902, 4.8312799389477155, 3.344732265425341, 3.344732265425341, 19.696756674171453, 0.3716369183805935, 0.3716369183805935, 7.061101449231277, 31.96077498073104, 0.3716369183805935, 0.3716369183805935, 0.743273836761187, 0.3716369183805935, 0.3716369183805935, 0.3716369183805935, 0.3716369183805935, 0.3716369183805935, 0.3716369183805935, 26.757858123402727, 23.784762776357983, 21.554941266074422, 20.44003051093264, 20.06839359255205, 19.696756674171453, 19.696756674171453, 18.953482837410267, 17.838572082268488, 14.865476735223739, 14.865476735223739, 14.493839816843145, 13.750565980081959, 13.007292143320772, 12.264018306559583, 12.264018306559583, 11.892381388178991, 11.892381388178991, 11.892381388178991, 11.149107551417805, 11.149107551417805, 10.405833714656618, 10.405833714656618, 10.034196796276024, 10.034196796276024, 40.78966628264718, 31.473207549614102, 71.24602680587067, 18.543214231103754, 21.499339953831676, 140.97224163936852, 34.72769615961965, 23.401004500311085, 14.82684504729782, 44.049908628928264, 90.45000796380906, 29.36850434968613, 121.27749781078619, 146.63044313477573, 60.348706389028195, 64.02448877350386, 103.32721770339907, 180.438349045822, 84.42693103073486, 151.2089343545725, 71.32807828151203, 59.83072949780311, 129.09323178753652, 62.307495821243464, 789.9628638025712, 83.28819401348099, 81.01563382301482, 90.35789563261147, 59.58117636607932, 110.36008471679531, 282.2727527742163, 408.85050735784483, 318.0086772536279, 329.8374327626148, 296.41023146965114, 466.80223355103107, 124.87857528910465, 253.56944637753924, 131.30828840269464, 355.68957779335653, 529.5649506200896, 781.9273417391071, 126.53957700182312, 311.6358985874068, 80.63056854657142, 2.9379559389438983, 16.321977438577214, 0.32643954877154424, 0.32643954877154424, 0.32643954877154424, 0.9793186463146327, 0.32643954877154424, 1.632197743857721, 0.32643954877154424, 3.590835036486987, 0.9793186463146327, 0.32643954877154424, 7.181670072973974, 1.305758195086177, 0.32643954877154424, 0.6528790975430885, 0.32643954877154424, 0.32643954877154424, 0.6528790975430885, 3.264395487715442, 0.32643954877154424, 0.32643954877154424, 4.243714134030075, 14.689779694719489, 0.32643954877154424, 6.202351426659341, 12.404702853318682, 1.632197743857721, 134.16665454510468, 84.8957439599132, 55.168283742390976, 15.016219243491033, 14.363340145947948, 12.731142402090224, 11.751823755775593, 11.425384207004047, 10.446065560689416, 10.446065560689416, 9.466746914374783, 9.466746914374783, 8.813867816831694, 8.48742826806015, 8.48742826806015, 8.160988719288607, 8.160988719288607, 7.834549170517062, 7.834549170517062, 7.834549170517062, 7.5081096217455165, 7.181670072973974, 7.181670072973974, 6.855230524202429, 6.528790975430884, 18.649221310170493, 18.3314846665154, 171.3962531018192, 70.84003176264221, 12.144143517934243, 154.92841830732425, 38.71887764064533, 57.36596461077465, 57.85777510747403, 92.11159126434592, 28.953880208533654, 66.99789036710585, 21.902732961366798, 31.6469279678998, 103.26544447902697, 34.90379397418382, 119.71957908679532, 257.9468568155316, 66.08403527828331, 56.855597759796396, 542.679943278293, 244.02292484451274, 100.73035098325668, 199.41855768894493, 122.68666266780325, 105.62677018137771, 794.9249164266815, 94.83574305919693, 781.9273417391071, 608.832840237403, 104.87619391011822, 519.2078857583764, 129.13969794161022, 215.6445220511523, 193.59276887878386, 529.5649506200896, 233.377693711593, 230.16797358879373, 149.57762001300318, 290.6380515704749, 210.00836068249242, 217.04460404755233, 526.6392428352129, 0.3438362622592199, 2.0630175735553196, 0.3438362622592199, 27.163064718478378, 0.6876725245184399, 16.160304326183336, 46.417895404994695, 0.3438362622592199, 4.813707671629079, 0.3438362622592199, 370.6554907154391, 0.3438362622592199, 0.3438362622592199, 1.0315087867776598, 6.189052720665958, 10.65892413003582, 3.7821988848514194, 1.3753450490368797, 18.223321899738657, 0.6876725245184399, 29.913754816552135, 42.29186025788406, 35.41513501269966, 39.885006422069516, 13.409614228109579, 8.252070294221278, 48.82474924080923, 15.128795539405678, 19.598666948775538, 56.04531074825285, 97.64949848161847, 69.79876123862165, 39.197333897551076, 36.446643799477314, 31.289099865589012, 29.913754816552135, 28.882246029774475, 28.194573505256034, 27.850737242996818, 24.412374620404616, 20.974011997812415, 18.910994424257098, 18.910994424257098, 14.78495927714646, 14.097286752628017, 32.598155395489954, 104.90073643710868, 37.177918723680534, 43.74037888648232, 68.24118719756481, 81.39450636302226, 196.76301866616663, 53.18053351540676, 54.51617296953196, 52.28712015272045, 155.33054642091315, 187.757934910832, 538.096327044249, 217.5993010592733, 71.40097090485858, 317.116969539047, 189.3476635652851, 324.1959458654891, 148.21305673197332, 282.2727527742163, 128.05780120025204, 78.9343420937694, 973.4132350133821, 183.22954739118398, 166.8580346876812, 2312.3126847139406, 100.9664320764194, 1.1032019733328575, 4.780541884442383, 95.97857167995862, 7.35467982221905, 2.5741379377766678, 1.1032019733328575, 9.561083768884766, 3.309605919998573, 11.399753724439528, 46.33448287998002, 4.780541884442383, 1.8386699555547625, 12.135221706661435, 15.81256161777096, 6.251477848886193, 68.76625633774813, 21.328571484435248, 9.561083768884766, 20.960837493324295, 27.212315342210488, 25.741379377766677, 6.251477848886193, 48.54088682664574, 12.870689688883338, 3.677339911109525, 55.895566648864786, 4.045073902220477, 7.35467982221905, 29.786453279987157, 3.677339911109525, 102.2300495288448, 72.07586225774669, 37.141133102206204, 30.15418727109811, 28.315517315543346, 27.947783324432393, 27.58004933332144, 24.638177404433822, 24.27044341332287, 23.16724143999001, 22.431773457768102, 19.857635519991437, 19.489901528880484, 19.12216753776953, 19.12216753776953, 18.018965564436673, 17.65123157332572, 17.28349758221477, 16.91576359110382, 16.91576359110382, 40.43439680416505, 60.994815870298936, 35.98564197950192, 35.61790798839097, 32.270403969776154, 33.815184964167905, 24.951849066446243, 38.46704955067068, 36.56424251360954, 26.394258475309766, 31.27300095350953, 350.88798109285943, 51.41179516821389, 95.9921181067726, 44.05537419477572, 242.07680132700412, 241.87653685333092, 77.2369188172473, 186.5035667697708, 165.5133212881784, 114.31804792807662, 116.58008488771102, 78.64874394096242, 94.70394684329374, 54.11423507087124, 96.81920792898141, 529.5649506200896, 95.5520544558104, 90.62244487794538, 789.9628638025712, 2312.3126847139406, 407.87884461234466, 88.38834875025822, 3.601191178347603, 5.401786767521404, 9.723216181538527, 6.842263238860446, 64.10120297458732, 9.723216181538527, 1.8005955891738015, 5.401786767521404, 1.8005955891738015, 27.369052955441784, 1.8005955891738015, 15.125002949059933, 31.330363251624146, 1.8005955891738015, 7.562501474529967, 6.122025003190925, 1.8005955891738015, 3.601191178347603, 1.8005955891738015, 1.8005955891738015, 11.16369265287757, 7.562501474529967, 47.175604436353595, 3.601191178347603, 7.202382356695206, 10.443454417208049, 1.8005955891738015, 44.65477061151028, 3.601191178347603, 3.601191178347603, 53.29762943954452, 78.10293611351864, 49.696438261196924, 46.81548531851884, 41.053579433162675, 41.053579433162675, 27.369052955441784, 25.92857648410274, 21.96726618792038, 21.247027952250857, 20.526789716581337, 20.166670598746578, 20.166670598746578, 18.366075009572775, 17.645836773903255, 16.565479420398976, 15.845241184729455, 15.845241184729455, 14.764883831225172, 14.764883831225172, 14.04464559555565, 13.684526477720892, 13.684526477720892, 13.32440735988613, 218.39626485535928, 44.37016605598577, 25.068995880966202, 25.23816786742207, 45.398900251693384, 100.53585338616048, 36.99205792287859, 35.71147516899988, 77.3054231263601, 80.78653490112708, 29.74152191930497, 169.29823122180167, 249.47774978818566, 407.87884461234466, 137.21123485477779, 265.2658224616963, 140.86471296185712, 48.943938352394376, 538.096327044249, 96.37248097320392, 608.832840237403, 189.3476635652851, 526.6392428352129, 165.61309238322605, 158.39284803282445, 160.691046760605, 2052.6495208788538, 0.3513917730712226, 16.515413334347464, 17.920980426632354, 1.054175319213668, 8.784794326780565, 0.3513917730712226, 0.3513917730712226, 0.3513917730712226, 4.216701276854672, 63.601910925891296, 7.3792272344956755, 1.054175319213668, 9.48757787292301, 1.054175319213668, 7.730619007566898, 3.513917730712226, 2.459742411498558, 6.67644368835323, 15.109846242062572, 0.3513917730712226, 7.730619007566898, 2.108350638427336, 0.3513917730712226, 11.244536738279123, 0.7027835461424452, 12.650103830564014, 37.59891971862082, 2.108350638427336, 3.865309503783449, 0.7027835461424452, 188.69738213924654, 31.976651349481262, 27.057166526484146, 24.948815888056807, 24.597424114985582, 22.489073476558247, 20.732114611202135, 17.21819688048991, 16.86680510741869, 16.16402156127624, 15.461238015133796, 15.109846242062572, 14.758454468991351, 13.704279149777681, 13.704279149777681, 13.704279149777681, 13.704279149777681, 13.001495603635238, 13.001495603635238, 12.650103830564014, 12.650103830564014, 12.298712057492791, 12.298712057492791, 11.595928511350346, 29.163463306720967, 19.25073927822315, 44.011245081538206, 116.6854972808348, 64.15159373852511, 17.49414843144353, 55.593406041214934, 19.714938637619248, 22.6907519038314, 40.482534557840545, 116.70535752699918, 165.5133212881784, 529.5649506200896, 350.88798109285943, 241.87653685333092, 116.58008488771102, 186.5035667697708, 417.5865445447359, 128.67857078852666, 242.07680132700412, 794.9249164266815, 64.21724937208938, 94.70394684329374, 46.44901474712625, 62.654650433230636, 290.6380515704749, 199.41855768894493, 355.68957779335653, 781.9273417391071, 324.1959458654891, 2312.3126847139406, 266.6894348895256, 265.2658224616963, 195.8937381573213, 251.62127041021418, 1.586033306052111, 0.6344133224208445, 0.9516199836312668, 2.537653289683378, 0.6344133224208445, 1.268826644841689, 1.586033306052111, 1.268826644841689, 3.806479934525067, 2.8548599508938, 1.268826644841689, 2.8548599508938, 8.247373191470977, 40.602452634934046, 1.586033306052111, 0.9516199836312668, 0.31720666121042224, 2.220446628472956, 0.31720666121042224, 0.31720666121042224, 23.790499590781668, 14.908713076889844, 0.31720666121042224, 2.220446628472956, 11.4194398035752, 0.31720666121042224, 6.026926562998023, 2.220446628472956, 2.8548599508938, 2.537653289683378, 70.73708544992417, 64.0757455645053, 57.41440567908643, 36.79597270040898, 32.03787278225265, 27.279772864096312, 26.645359541675468, 23.473292929571247, 23.473292929571247, 21.57005296230871, 20.301226317467023, 19.349606333835755, 15.860333060521112, 15.860333060521112, 15.54312639931069, 14.908713076889844, 14.274299754469002, 14.274299754469002, 13.95709309325858, 11.102233142364778, 11.102233142364778, 46.37499795726477, 10.150613158733512, 9.83340649752309, 9.516199836312667, 9.516199836312667, 71.33525800902113, 24.162136509162263, 19.94239652742331, 44.38418757507311, 61.61562655295404, 19.728201328791858, 28.067657020881352, 33.80046499355939, 114.53183225020669, 82.83551074703206, 271.87528729623443, 34.23385007680867, 51.612502466107046, 112.3640786821604, 227.16429703631542, 55.15889391739864, 363.5170191568251, 115.3720436253555, 90.69478157192879, 258.42337945350306, 140.75090390132468, 79.37832751218224, 166.9221069018765, 417.5865445447359, 326.52815473488187, 538.096327044249, 141.3007427138874, 318.0086772536279, 117.3768127407223, 332.6705982262863, 153.66339267986623, 128.05780120025204, 290.630982992051, 216.9015287478312, 608.832840237403, 118.74218256450543, 0.3154448417395253, 3.154448417395253, 2.208113892176677, 286.42391629948895, 0.3154448417395253, 10.409679777404335, 1.8926690504371517, 3.7853381008743034, 2.208113892176677, 3.154448417395253, 0.6308896834790506, 9.463345252185759, 3.4698932591347784, 8.832455568706708, 0.3154448417395253, 0.9463345252185759, 4.416227784353354, 0.3154448417395253, 3.7853381008743034, 7.570676201748607, 1.5772242086976265, 3.154448417395253, 0.9463345252185759, 7.255231360009081, 25.235587339162024, 2.208113892176677, 23.97380797220392, 0.3154448417395253, 0.3154448417395253, 0.3154448417395253, 114.19103270970817, 77.2839862261837, 75.07587233400702, 54.57195762093788, 42.585053634835916, 29.65181512351538, 27.4437012313387, 23.658363130464398, 23.658363130464398, 23.02747344698535, 22.71202860524582, 22.081138921766772, 20.503914713069147, 15.141352403497214, 14.82590756175769, 13.564128194799588, 13.248683353060063, 11.98690398610196, 11.040569460883386, 10.725124619143859, 10.409679777404335, 10.409679777404335, 10.09423493566481, 10.09423493566481, 9.778790093925284, 9.778790093925284, 24.56483634632058, 18.571384353269597, 28.228340755656, 37.615835861751464, 20.814040015627356, 18.04814212543531, 20.296310665324715, 26.61977469532423, 55.19113299382249, 39.89326641732432, 24.200999876610076, 58.97662145834018, 102.17513988299486, 29.700684381864882, 47.61343205307165, 58.43873141099506, 101.74293477490929, 42.26399724961513, 288.434615869066, 129.20849054865903, 168.918349872909, 49.743660839650325, 55.50244637394535, 215.6445220511523, 125.45365962082353, 116.94427003947543, 148.41558557927542, 128.3664386558845, 109.87902547929262, 53.380843186644796, 111.29353075250248, 474.0553233598582, 215.31977456903144, 58.02925747229801, 22.898031326906782, 54.892540852173795, 77.16322885505572, 7.52811988829812, 104.76633511214884, 15.997254762633506, 0.31367166201242164, 0.31367166201242164, 0.31367166201242164, 0.31367166201242164, 2.509373296099373, 0.31367166201242164, 5.332418254211169, 3.76405994414906, 0.31367166201242164, 0.31367166201242164, 0.31367166201242164, 0.31367166201242164, 0.31367166201242164, 0.31367166201242164, 5.332418254211169, 0.31367166201242164, 0.31367166201242164, 5.018746592198746, 17.565613072695612, 6.900776564273277, 9.41014986037265, 1.2546866480496865, 1.5683583100621084, 108.5303950562979, 25.72107628501858, 22.58435966489436, 20.702329692819834, 11.919523156472023, 10.351164846409917, 10.351164846409917, 9.723821522385071, 8.155463212322964, 7.52811988829812, 7.214448226285699, 6.900776564273277, 6.587104902260855, 6.587104902260855, 6.587104902260855, 6.273433240248433, 5.959761578236011, 5.959761578236011, 5.64608991622359, 5.64608991622359, 169.85629664432457, 17.28617057675403, 17.641053294813215, 14.504336674688998, 332.6705982262863, 19.59030805624329, 82.73105153285476, 12.30003966775501, 14.573902726655826, 45.86109613097422, 326.52815473488187, 91.17381537681028, 10.733294840564014, 41.565245980632895, 128.98252643905934, 191.7393725518431, 42.88619839090124, 143.97736502270928, 31.123222944858213, 128.6382338552868, 178.94039728799916, 260.8982559549904, 184.2310281272969, 106.65001687579067, 331.27725510263735, 167.642883886922, 282.2727527742163, 248.3624188866464, 226.95855687547896, 355.68957779335653, 119.39759297880644, 138.44987850248003, 177.13794181928546, 271.87528729623443, 526.6392428352129, 324.1959458654891, 2312.3126847139406, 794.9249164266815, 318.0086772536279, 7.716338906559633, 3.582585920902687, 27.007186172958715, 3.8581694532798165, 3.582585920902687, 28.936270899598625, 57.32137473444299, 3.582585920902687, 5.787254179919724, 3.8581694532798165, 3.8581694532798165, 1.9290847266399083, 1.9290847266399083, 1.9290847266399083, 3.8581694532798165, 15.432677813119266, 3.582585920902687, 1.9290847266399083, 14.330343683610748, 5.787254179919724, 38.03052746804391, 36.65260980615826, 7.165171841805374, 3.582585920902687, 1.9290847266399083, 7.716338906559633, 3.8581694532798165, 1.9290847266399083, 3.8581694532798165, 1.9290847266399083, 190.97938793735094, 85.9820621016645, 81.84830911600754, 49.32945229550623, 44.09336518034076, 40.78636279181521, 37.20377687091252, 35.825859209026866, 33.07002388525557, 31.967689755747053, 28.109520302467235, 27.282769705335845, 52.15899064912021, 25.078101446318808, 24.802517913941678, 24.802517913941678, 23.70018378443316, 23.70018378443316, 22.59784965492464, 22.32226612254751, 21.771099057793254, 17.912929604513433, 17.637346072136307, 17.086179007382047, 40.30895010956452, 37.8668085389717, 27.670217841017905, 91.37377848069896, 102.84193396114973, 83.17376569674742, 154.36796560331766, 98.10044646258085, 93.47161343055205, 288.434615869066, 146.01413568206561, 39.78305328942918, 110.2653731579986, 47.87978179620196, 113.56202707337386, 72.89748594363469, 48.83150166692942, 117.3768127407223, 92.06486848136711, 196.76301866616663, 129.20849054865903, 324.1959458654891, 538.096327044249, 140.75090390132468, 109.17744038651855, 61.709195456412445, 519.2078857583764, 148.41558557927542, 608.832840237403, 205.08935723469963, 227.16429703631542, 417.5865445447359, 11.107010772726536, 0.34709408664770425, 0.34709408664770425, 0.34709408664770425, 0.34709408664770425, 0.34709408664770425, 0.6941881732954085, 0.34709408664770425, 1.388376346590817, 0.34709408664770425, 13.189575292612764, 5.206411299715564, 0.34709408664770425, 5.206411299715564, 2.776752693181634, 2.0825645198862257, 1.0412822599431129, 2.776752693181634, 0.34709408664770425, 1.388376346590817, 1.388376346590817, 3.818034953124747, 0.34709408664770425, 0.34709408664770425, 0.34709408664770425, 0.6941881732954085, 5.553505386363268, 0.34709408664770425, 0.34709408664770425, 0.34709408664770425, 57.96471247016662, 36.097785011361246, 28.808809191759455, 19.090174765623736, 17.70179841903292, 12.495387119317355, 10.065728512783425, 9.71863442613572, 9.024446252840312, 8.677352166192607, 8.677352166192607, 8.330258079544903, 7.636069906249494, 7.28897581960179, 6.941881732954085, 6.594787646306382, 6.247693559658678, 1387.0265095083146, 5.900599473010972, 5.900599473010972, 5.900599473010972, 5.900599473010972, 5.206411299715564, 5.206411299715564, 5.206411299715564, 16.662708634661918, 15.274383640731992, 1780.2910373223747, 131.0731057835859, 45.62643723986224, 9.396083171220905, 27.178501426982688, 72.50138230218495, 27.933772343870253, 12.730667293861547, 38.191938376749846, 268.3642773322748, 61.11987186639172, 216.27190768986344, 2052.6495208788538, 33.22295203602653, 22.80331205766557, 2312.3126847139406, 76.35935449564244, 67.05751692013548, 115.70001220735497, 49.71208171424017, 97.05980239496218, 794.9249164266815, 93.61971494295852, 542.679943278293, 144.185935851645, 67.80918947522417, 331.27725510263735, 257.9468568155316, 115.11096146688578, 195.86883659504275, 203.3420354422673, 151.22553170416873, 219.14905253377606, 189.3476635652851, 244.02292484451274, 129.13969794161022, 14.322854510109055, 0.34933791488070864, 0.34933791488070864, 7.68543412737559, 6.637420382733465, 0.34933791488070864, 40.1738602112815, 0.34933791488070864, 0.34933791488070864, 0.34933791488070864, 2.794703319045669, 29.34438484997953, 8.733447872017717, 0.34933791488070864, 0.34933791488070864, 0.6986758297614173, 0.34933791488070864, 4.192054978568504, 3.4933791488070867, 6.986758297614173, 0.34933791488070864, 7.3360962124948825, 75.80632752911379, 0.34933791488070864, 0.34933791488070864, 6.637420382733465, 0.6986758297614173, 0.6986758297614173, 1.048013744642126, 1.048013744642126, 163.85875074313566, 40.87253604104291, 33.18710191366732, 24.453654041649607, 23.75497821188819, 22.70696446724606, 18.864247403558267, 18.51490948867756, 17.816233658916143, 17.466895744035433, 14.672192424989765, 14.322854510109055, 32.80209774591833, 12.226827020824803, 11.877489105944095, 10.829475361301968, 10.130799531540552, 9.781461616659842, 9.432123701779133, 9.082785786898425, 9.082785786898425, 9.082785786898425, 9.082785786898425, 8.733447872017717, 8.384109957137008, 18.44311831692013, 113.74199594501096, 17.799900974490107, 17.477676946989483, 48.185146363865485, 18.443576982940986, 18.998211803166697, 174.01468376589338, 19.691868775153512, 21.489485356898022, 28.820449439294205, 165.98736502656806, 33.406986984605915, 58.38094659948662, 157.98760603877219, 68.03364134903876, 55.31137207658603, 290.630982992051, 130.53717940004563, 29.63807234693788, 115.86146427191004, 112.68790228766693, 62.032197528360925, 61.88881517144203, 44.037972970552026, 30.148171247630113, 139.12281365903112, 43.02148781101877, 2312.3126847139406, 2052.6495208788538, 73.75290626055055, 150.45663884599895, 109.87902547929262, 65.81627937676134, 205.08935723469963, 215.6445220511523, 318.0086772536279, 84.05179494372466, 143.97736502270928, 608.832840237403, 0.37730948408046583, 0.7546189681609317, 0.37730948408046583, 0.37730948408046583, 0.37730948408046583, 1.8865474204023294, 0.37730948408046583, 9.432737102011647, 0.37730948408046583, 0.37730948408046583, 0.37730948408046583, 0.37730948408046583, 2.2638569044827954, 0.37730948408046583, 3.0184758726437266, 1.5092379363218633, 1.1319284522413977, 0.37730948408046583, 0.37730948408046583, 1.1319284522413977, 0.37730948408046583, 2.2638569044827954, 0.37730948408046583, 1.1319284522413977, 1.5092379363218633, 4.527713808965591, 0.7546189681609317, 1.1319284522413977, 0.37730948408046583, 0.37730948408046583, 178.46738597006035, 67.91570713448385, 56.97373209615034, 36.22171047172473, 35.08978201948332, 29.05283027419587, 16.601617299540496, 14.337760395057703, 13.58314142689677, 13.58314142689677, 12.82852245873584, 12.073903490574907, 11.696594006494442, 10.94197503833351, 10.187356070172576, 10.187356070172576, 9.432737102011647, 9.055427617931182, 9.055427617931182, 9.055427617931182, 9.055427617931182, 8.300808649770248, 8.300808649770248, 7.923499165689782, 7.5461896816093175, 7.168880197528852, 7.168880197528852, 6.791570713448385, 6.791570713448385, 44.582560233807705, 83.8427363964182, 231.86953570610737, 120.76257202303904, 46.60124378323249, 26.94256410917357, 42.292164376178526, 10.932399545363998, 28.787045957732925, 139.24905945286287, 95.45238704933836, 311.6358985874068, 116.9200423779446, 92.20234105261629, 30.885413130745523, 183.29157518149793, 56.76315197841823, 95.20994374166997, 331.27725510263735, 44.22326532162749, 40.51703224298548, 72.11244596773388, 191.41489442011783, 67.58808130413203, 80.69903801876255, 180.55421112419478, 195.8937381573213, 156.99545606044236, 526.6392428352129, 260.8982559549904, 438.5128353561817, 217.5993010592733, 2312.3126847139406, 2052.6495208788538, 112.81925378585775, 93.41395460288783, 13.87733715616414, 13.87733715616414, 13.87733715616414, 6.93866857808207, 6.93866857808207, 6.93866857808207, 6.93866857808207, 6.93866857808207, 1.9428272018629797, 1.6652804587396968, 0.2775467431232828, 0.8326402293698484, 0.5550934862465656, 0.2775467431232828, 5.273388119342373, 13.044696926794291, 2.2203739449862625, 30.80768848668439, 14.432430642410706, 14.154883899287423, 3.6081076606026765, 1.6652804587396968, 1.387733715616414, 2.775467431232828, 44.68502564284853, 2.2203739449862625, 1.9428272018629797, 7.771308807451919, 0.5550934862465656, 1.387733715616414, 56.06444211090312, 53.84406816591686, 39.68918426662944, 56.3974473413578, 28.864861284821412, 26.92203408295843, 26.089393853588582, 24.70166013797217, 19.70581876175308, 19.150725275506513, 18.318085046136666, 18.318085046136666, 16.375257844273687, 15.542617614903838, 14.432430642410706, 13.599790413040859, 13.322243669917574, 12.76715018367101, 12.76715018367101, 12.489603440547725, 12.489603440547725, 11.934509954301161, 39.29992077473672, 35.20043567160437, 71.43015798616037, 19.477164824278056, 18.964238368223967, 32.03147116124033, 26.004751243628572, 52.81688590657648, 48.780598826584416, 82.18955663624757, 49.62758661337115, 89.71273695725108, 82.29703555142132, 67.2453965512034, 55.06520490087456, 105.25042327883432, 122.29230458336438, 52.23029544636602, 58.89743220929437, 80.84712338995007, 314.22938485077134, 181.075354794019, 529.5649506200896, 265.2658224616963, 781.9273417391071, 146.63044313477573, 973.4132350133821, 519.2078857583764, 355.68957779335653, 329.8374327626148, 145.58086138995418, 19.314303366371128, 16.983266753188403, 41.62565380683433, 825.5199662971384, 0.9990156913640239, 33.300523045467465, 2.3310366131827225, 1.3320209218186985, 0.6660104609093492, 0.6660104609093492, 0.3330052304546746, 0.3330052304546746, 8.325130761366866, 0.3330052304546746, 0.9990156913640239, 7.992125530912191, 0.3330052304546746, 0.3330052304546746, 0.3330052304546746, 0.3330052304546746, 1.3320209218186985, 1.9980313827280478, 0.9990156913640239, 0.9990156913640239, 3.330052304546746, 0.3330052304546746, 0.3330052304546746, 0.9990156913640239, 3.9960627654560956, 0.3330052304546746, 857.0824634834999, 1253.113711431142, 34.67117565521208, 11.655183065913612, 7.6591203004575155, 7.6591203004575155, 6.9931098395481675, 6.9931098395481675, 6.660104609093492, 6.660104609093492, 6.327099378638818, 5.994094148184144, 5.661088917729469, 5.661088917729469, 5.661088917729469, 5.328083687274794, 5.328083687274794, 4.99507845682012, 4.662073226365445, 4.662073226365445, 4.662073226365445, 4.662073226365445, 4.662073226365445, 55.00221844979343, 19.532465200670714, 280.05220232872705, 39.67966143511857, 27.25823445490339, 26.56771545637093, 474.0553233598582, 789.9628638025712, 67.91220596472384, 37.29782108724893, 13.042363615581955, 37.11305353006699, 20.562190291162462, 31.688744237099122, 35.80587923553535, 2052.6495208788538, 29.61726783021168, 2312.3126847139406, 68.82472656371603, 162.6077635902596, 180.438349045822, 466.80223355103107, 46.26127770273082, 153.66339267986623, 123.56872259032546, 104.9112824844598, 86.7488451138178, 47.664309387422946, 195.8937381573213, 100.00189700604767, 5.218512421248914, 10.437024842497827, 5.218512421248914, 5.218512421248914, 5.218512421248914, 5.218512421248914, 5.218512421248914, 5.218512421248914, 5.218512421248914, 0.34790082808326095, 13.220231467163915, 2.0874049684995657, 1.3916033123330438, 1.7395041404163047, 2.4353057965828264, 2.4353057965828264, 0.34790082808326095, 9.045421530164784, 0.34790082808326095, 2.0874049684995657, 0.34790082808326095, 4.522710765082392, 13.568132295247176, 49.74981841590632, 1.0437024842497828, 2.7832066246660876, 0.34790082808326095, 0.34790082808326095, 11.480727326747612, 0.34790082808326095, 23.309355481578482, 21.569851341162178, 19.830347200745873, 17.39504140416305, 17.39504140416305, 12.872330639080655, 12.872330639080655, 11.828628154830872, 11.828628154830872, 11.13282649866435, 10.784925670581089, 10.784925670581089, 10.089124014414567, 9.393322358248044, 9.045421530164784, 8.697520702081524, 8.349619873998263, 8.349619873998263, 8.001719045915001, 8.001719045915001, 7.65381821783174, 7.65381821783174, 7.305917389748479, 7.305917389748479, 47.388454889845676, 68.1362921113087, 25.87791808038748, 83.53670506060269, 12.520365245173352, 12.553838466994598, 17.76657207031375, 16.634855910061376, 76.90355272995293, 31.867937216587233, 22.29008961224443, 86.18857363644662, 115.0478157484938, 363.5170191568251, 519.2078857583764, 77.94570558782334, 25.83455326778399, 38.03740316800436, 128.0889474148267, 96.27183772274745, 42.81618916504213, 2312.3126847139406, 31.171339395542734, 61.38196303038838, 2052.6495208788538, 128.6382338552868, 35.26453339256023, 96.93195249307456, 99.47431808688621, 139.34103946840327, 526.6392428352129, 217.5993010592733, 438.5128353561817, 113.56202707337386, 781.9273417391071, 417.5865445447359, 216.9015287478312, 148.41558557927542, 1780.2910373223747, 104.9112824844598, 324.1959458654891, 789.9628638025712, 290.630982992051, 608.832840237403], \"Category\": [\"Default\", \"Default\", \"Default\", \"Default\", \"Default\", \"Default\", \"Default\", \"Default\", \"Default\", \"Default\", \"Default\", \"Default\", \"Default\", \"Default\", \"Default\", \"Default\", \"Default\", \"Default\", \"Default\", \"Default\", \"Default\", \"Default\", \"Default\", \"Default\", \"Default\", \"Default\", \"Default\", \"Default\", \"Default\", \"Default\", \"Topic1\", \"Topic1\", \"Topic1\", \"Topic1\", \"Topic1\", \"Topic1\", \"Topic1\", \"Topic1\", \"Topic1\", \"Topic1\", \"Topic1\", \"Topic1\", \"Topic1\", \"Topic1\", \"Topic1\", \"Topic1\", \"Topic1\", \"Topic1\", \"Topic1\", \"Topic1\", \"Topic1\", \"Topic1\", \"Topic1\", \"Topic1\", \"Topic1\", \"Topic1\", \"Topic1\", \"Topic1\", \"Topic1\", \"Topic1\", \"Topic1\", \"Topic1\", \"Topic1\", \"Topic1\", \"Topic1\", \"Topic1\", \"Topic1\", \"Topic1\", \"Topic1\", \"Topic1\", \"Topic1\", \"Topic1\", \"Topic1\", \"Topic1\", \"Topic1\", \"Topic1\", \"Topic1\", \"Topic1\", \"Topic1\", \"Topic1\", \"Topic1\", \"Topic1\", \"Topic1\", \"Topic1\", \"Topic1\", \"Topic1\", \"Topic1\", \"Topic1\", \"Topic1\", \"Topic1\", \"Topic1\", \"Topic1\", \"Topic1\", \"Topic1\", \"Topic1\", \"Topic1\", \"Topic1\", \"Topic1\", \"Topic1\", \"Topic1\", \"Topic1\", \"Topic1\", \"Topic1\", \"Topic1\", \"Topic1\", \"Topic1\", \"Topic1\", \"Topic1\", \"Topic1\", \"Topic1\", \"Topic2\", \"Topic2\", \"Topic2\", \"Topic2\", \"Topic2\", \"Topic2\", \"Topic2\", \"Topic2\", \"Topic2\", \"Topic2\", \"Topic2\", \"Topic2\", \"Topic2\", \"Topic2\", \"Topic2\", \"Topic2\", \"Topic2\", \"Topic2\", \"Topic2\", \"Topic2\", \"Topic2\", \"Topic2\", \"Topic2\", \"Topic2\", \"Topic2\", \"Topic2\", \"Topic2\", \"Topic2\", \"Topic2\", \"Topic2\", \"Topic2\", \"Topic2\", \"Topic2\", \"Topic2\", \"Topic2\", \"Topic2\", \"Topic2\", \"Topic2\", \"Topic2\", \"Topic2\", \"Topic2\", \"Topic2\", \"Topic2\", \"Topic2\", \"Topic2\", \"Topic2\", \"Topic2\", \"Topic2\", \"Topic2\", \"Topic2\", \"Topic2\", \"Topic2\", \"Topic2\", \"Topic2\", \"Topic2\", \"Topic2\", \"Topic2\", \"Topic2\", \"Topic2\", \"Topic2\", \"Topic2\", \"Topic2\", \"Topic2\", \"Topic2\", \"Topic2\", \"Topic2\", \"Topic2\", \"Topic2\", \"Topic2\", \"Topic2\", \"Topic2\", \"Topic2\", \"Topic2\", \"Topic2\", \"Topic2\", \"Topic2\", \"Topic2\", \"Topic2\", \"Topic2\", \"Topic2\", \"Topic2\", \"Topic2\", \"Topic2\", \"Topic3\", \"Topic3\", \"Topic3\", \"Topic3\", \"Topic3\", \"Topic3\", \"Topic3\", \"Topic3\", \"Topic3\", \"Topic3\", \"Topic3\", \"Topic3\", \"Topic3\", \"Topic3\", \"Topic3\", \"Topic3\", \"Topic3\", \"Topic3\", \"Topic3\", \"Topic3\", \"Topic3\", \"Topic3\", \"Topic3\", \"Topic3\", \"Topic3\", \"Topic3\", \"Topic3\", \"Topic3\", \"Topic3\", \"Topic3\", \"Topic3\", \"Topic3\", \"Topic3\", \"Topic3\", \"Topic3\", \"Topic3\", \"Topic3\", \"Topic3\", \"Topic3\", \"Topic3\", \"Topic3\", \"Topic3\", \"Topic3\", \"Topic3\", \"Topic3\", \"Topic3\", \"Topic3\", \"Topic3\", \"Topic3\", \"Topic3\", \"Topic3\", \"Topic3\", \"Topic3\", \"Topic3\", \"Topic3\", \"Topic3\", \"Topic3\", \"Topic3\", \"Topic3\", \"Topic3\", \"Topic3\", \"Topic3\", \"Topic3\", \"Topic3\", \"Topic3\", \"Topic3\", \"Topic3\", \"Topic3\", \"Topic3\", \"Topic3\", \"Topic3\", \"Topic3\", \"Topic3\", \"Topic3\", \"Topic3\", \"Topic3\", \"Topic3\", \"Topic3\", \"Topic3\", \"Topic3\", \"Topic3\", \"Topic3\", \"Topic3\", \"Topic3\", \"Topic3\", \"Topic3\", \"Topic3\", \"Topic4\", \"Topic4\", \"Topic4\", \"Topic4\", \"Topic4\", \"Topic4\", \"Topic4\", \"Topic4\", \"Topic4\", \"Topic4\", \"Topic4\", \"Topic4\", \"Topic4\", \"Topic4\", \"Topic4\", \"Topic4\", \"Topic4\", \"Topic4\", \"Topic4\", \"Topic4\", \"Topic4\", \"Topic4\", \"Topic4\", \"Topic4\", \"Topic4\", \"Topic4\", \"Topic4\", \"Topic4\", \"Topic4\", \"Topic4\", \"Topic4\", \"Topic4\", \"Topic4\", \"Topic4\", \"Topic4\", \"Topic4\", \"Topic4\", \"Topic4\", \"Topic4\", \"Topic4\", \"Topic4\", \"Topic4\", \"Topic4\", \"Topic4\", \"Topic4\", \"Topic4\", \"Topic4\", \"Topic4\", \"Topic4\", \"Topic4\", \"Topic4\", \"Topic4\", \"Topic4\", \"Topic4\", \"Topic4\", \"Topic4\", \"Topic4\", \"Topic4\", \"Topic4\", \"Topic4\", \"Topic4\", \"Topic4\", \"Topic4\", \"Topic4\", \"Topic4\", \"Topic4\", \"Topic4\", \"Topic4\", \"Topic4\", \"Topic4\", \"Topic4\", \"Topic4\", \"Topic4\", \"Topic4\", \"Topic4\", \"Topic4\", \"Topic4\", \"Topic4\", \"Topic4\", \"Topic4\", \"Topic4\", \"Topic4\", \"Topic4\", \"Topic4\", \"Topic4\", \"Topic4\", \"Topic4\", \"Topic4\", \"Topic4\", \"Topic4\", \"Topic4\", \"Topic4\", \"Topic5\", \"Topic5\", \"Topic5\", \"Topic5\", \"Topic5\", \"Topic5\", \"Topic5\", \"Topic5\", \"Topic5\", \"Topic5\", \"Topic5\", \"Topic5\", \"Topic5\", \"Topic5\", \"Topic5\", \"Topic5\", \"Topic5\", \"Topic5\", \"Topic5\", \"Topic5\", \"Topic5\", \"Topic5\", \"Topic5\", \"Topic5\", \"Topic5\", \"Topic5\", \"Topic5\", \"Topic5\", \"Topic5\", \"Topic5\", \"Topic5\", \"Topic5\", \"Topic5\", \"Topic5\", \"Topic5\", \"Topic5\", \"Topic5\", \"Topic5\", \"Topic5\", \"Topic5\", \"Topic5\", \"Topic5\", \"Topic5\", \"Topic5\", \"Topic5\", \"Topic5\", \"Topic5\", \"Topic5\", \"Topic5\", \"Topic5\", \"Topic5\", \"Topic5\", \"Topic5\", \"Topic5\", \"Topic5\", \"Topic5\", \"Topic5\", \"Topic5\", \"Topic5\", \"Topic5\", \"Topic5\", \"Topic5\", \"Topic5\", \"Topic5\", \"Topic5\", \"Topic5\", \"Topic5\", \"Topic5\", \"Topic5\", \"Topic5\", \"Topic5\", \"Topic5\", \"Topic5\", \"Topic5\", \"Topic5\", \"Topic5\", \"Topic5\", \"Topic5\", \"Topic5\", \"Topic5\", \"Topic5\", \"Topic5\", \"Topic5\", \"Topic5\", \"Topic5\", \"Topic5\", \"Topic5\", \"Topic5\", \"Topic5\", \"Topic5\", \"Topic5\", \"Topic5\", \"Topic5\", \"Topic5\", \"Topic5\", \"Topic5\", \"Topic5\", \"Topic5\", \"Topic5\", \"Topic6\", \"Topic6\", \"Topic6\", \"Topic6\", \"Topic6\", \"Topic6\", \"Topic6\", \"Topic6\", \"Topic6\", \"Topic6\", \"Topic6\", \"Topic6\", \"Topic6\", \"Topic6\", \"Topic6\", \"Topic6\", \"Topic6\", \"Topic6\", \"Topic6\", \"Topic6\", \"Topic6\", \"Topic6\", \"Topic6\", \"Topic6\", \"Topic6\", \"Topic6\", \"Topic6\", \"Topic6\", \"Topic6\", \"Topic6\", \"Topic6\", \"Topic6\", \"Topic6\", \"Topic6\", \"Topic6\", \"Topic6\", \"Topic6\", \"Topic6\", \"Topic6\", \"Topic6\", \"Topic6\", \"Topic6\", \"Topic6\", \"Topic6\", \"Topic6\", \"Topic6\", \"Topic6\", \"Topic6\", \"Topic6\", \"Topic6\", \"Topic6\", \"Topic6\", \"Topic6\", \"Topic6\", \"Topic6\", \"Topic6\", \"Topic6\", \"Topic6\", \"Topic6\", \"Topic6\", \"Topic6\", \"Topic6\", \"Topic6\", \"Topic6\", \"Topic6\", \"Topic6\", \"Topic6\", \"Topic6\", \"Topic6\", \"Topic6\", \"Topic6\", \"Topic6\", \"Topic6\", \"Topic6\", \"Topic6\", \"Topic6\", \"Topic6\", \"Topic6\", \"Topic6\", \"Topic6\", \"Topic6\", \"Topic6\", \"Topic6\", \"Topic6\", \"Topic6\", \"Topic6\", \"Topic6\", \"Topic6\", \"Topic6\", \"Topic6\", \"Topic6\", \"Topic6\", \"Topic6\", \"Topic6\", \"Topic6\", \"Topic6\", \"Topic6\", \"Topic7\", \"Topic7\", \"Topic7\", \"Topic7\", \"Topic7\", \"Topic7\", \"Topic7\", \"Topic7\", \"Topic7\", \"Topic7\", \"Topic7\", \"Topic7\", \"Topic7\", \"Topic7\", \"Topic7\", \"Topic7\", \"Topic7\", \"Topic7\", \"Topic7\", \"Topic7\", \"Topic7\", \"Topic7\", \"Topic7\", \"Topic7\", \"Topic7\", \"Topic7\", \"Topic7\", \"Topic7\", \"Topic7\", \"Topic7\", \"Topic7\", \"Topic7\", \"Topic7\", \"Topic7\", \"Topic7\", \"Topic7\", \"Topic7\", \"Topic7\", \"Topic7\", \"Topic7\", \"Topic7\", \"Topic7\", \"Topic7\", \"Topic7\", \"Topic7\", \"Topic7\", \"Topic7\", \"Topic7\", \"Topic7\", \"Topic7\", \"Topic7\", \"Topic7\", \"Topic7\", \"Topic7\", \"Topic7\", \"Topic7\", \"Topic7\", \"Topic7\", \"Topic7\", \"Topic7\", \"Topic7\", \"Topic7\", \"Topic7\", \"Topic7\", \"Topic7\", \"Topic7\", \"Topic7\", \"Topic7\", \"Topic7\", \"Topic7\", \"Topic7\", \"Topic7\", \"Topic8\", \"Topic8\", \"Topic8\", \"Topic8\", \"Topic8\", \"Topic8\", \"Topic8\", \"Topic8\", \"Topic8\", \"Topic8\", \"Topic8\", \"Topic8\", \"Topic8\", \"Topic8\", \"Topic8\", \"Topic8\", \"Topic8\", \"Topic8\", \"Topic8\", \"Topic8\", \"Topic8\", \"Topic8\", \"Topic8\", \"Topic8\", \"Topic8\", \"Topic8\", \"Topic8\", \"Topic8\", \"Topic8\", \"Topic8\", \"Topic8\", \"Topic8\", \"Topic8\", \"Topic8\", \"Topic8\", \"Topic8\", \"Topic8\", \"Topic8\", \"Topic8\", \"Topic8\", \"Topic8\", \"Topic8\", \"Topic8\", \"Topic8\", \"Topic8\", \"Topic8\", \"Topic8\", \"Topic8\", \"Topic8\", \"Topic8\", \"Topic8\", \"Topic8\", \"Topic8\", \"Topic8\", \"Topic8\", \"Topic8\", \"Topic8\", \"Topic8\", \"Topic8\", \"Topic8\", \"Topic8\", \"Topic8\", \"Topic8\", \"Topic8\", \"Topic8\", \"Topic8\", \"Topic8\", \"Topic8\", \"Topic8\", \"Topic8\", \"Topic8\", \"Topic8\", \"Topic8\", \"Topic8\", \"Topic8\", \"Topic8\", \"Topic8\", \"Topic8\", \"Topic8\", \"Topic8\", \"Topic8\", \"Topic8\", \"Topic8\", \"Topic9\", \"Topic9\", \"Topic9\", \"Topic9\", \"Topic9\", \"Topic9\", \"Topic9\", \"Topic9\", \"Topic9\", \"Topic9\", \"Topic9\", \"Topic9\", \"Topic9\", \"Topic9\", \"Topic9\", \"Topic9\", \"Topic9\", \"Topic9\", \"Topic9\", \"Topic9\", \"Topic9\", \"Topic9\", \"Topic9\", \"Topic9\", \"Topic9\", \"Topic9\", \"Topic9\", \"Topic9\", \"Topic9\", \"Topic9\", \"Topic9\", \"Topic9\", \"Topic9\", \"Topic9\", \"Topic9\", \"Topic9\", \"Topic9\", \"Topic9\", \"Topic9\", \"Topic9\", \"Topic9\", \"Topic9\", \"Topic9\", \"Topic9\", \"Topic9\", \"Topic9\", \"Topic9\", \"Topic9\", \"Topic9\", \"Topic9\", \"Topic9\", \"Topic9\", \"Topic9\", \"Topic9\", \"Topic9\", \"Topic9\", \"Topic9\", \"Topic9\", \"Topic9\", \"Topic9\", \"Topic9\", \"Topic9\", \"Topic9\", \"Topic9\", \"Topic9\", \"Topic9\", \"Topic9\", \"Topic9\", \"Topic9\", \"Topic9\", \"Topic9\", \"Topic9\", \"Topic9\", \"Topic9\", \"Topic9\", \"Topic9\", \"Topic9\", \"Topic9\", \"Topic9\", \"Topic9\", \"Topic9\", \"Topic10\", \"Topic10\", \"Topic10\", \"Topic10\", \"Topic10\", \"Topic10\", \"Topic10\", \"Topic10\", \"Topic10\", \"Topic10\", \"Topic10\", \"Topic10\", \"Topic10\", \"Topic10\", \"Topic10\", \"Topic10\", \"Topic10\", \"Topic10\", \"Topic10\", \"Topic10\", \"Topic10\", \"Topic10\", \"Topic10\", \"Topic10\", \"Topic10\", \"Topic10\", \"Topic10\", \"Topic10\", \"Topic10\", \"Topic10\", \"Topic10\", \"Topic10\", \"Topic10\", \"Topic10\", \"Topic10\", \"Topic10\", \"Topic10\", \"Topic10\", \"Topic10\", \"Topic10\", \"Topic10\", \"Topic10\", \"Topic10\", \"Topic10\", \"Topic10\", \"Topic10\", \"Topic10\", \"Topic10\", \"Topic10\", \"Topic10\", \"Topic10\", \"Topic10\", \"Topic10\", \"Topic10\", \"Topic10\", \"Topic10\", \"Topic10\", \"Topic10\", \"Topic10\", \"Topic10\", \"Topic10\", \"Topic10\", \"Topic10\", \"Topic10\", \"Topic10\", \"Topic10\", \"Topic10\", \"Topic10\", \"Topic10\", \"Topic10\", \"Topic10\", \"Topic10\", \"Topic10\", \"Topic10\", \"Topic10\", \"Topic10\", \"Topic10\", \"Topic10\", \"Topic10\", \"Topic10\", \"Topic10\", \"Topic10\", \"Topic10\", \"Topic10\", \"Topic10\", \"Topic10\", \"Topic10\", \"Topic10\", \"Topic10\", \"Topic11\", \"Topic11\", \"Topic11\", \"Topic11\", \"Topic11\", \"Topic11\", \"Topic11\", \"Topic11\", \"Topic11\", \"Topic11\", \"Topic11\", \"Topic11\", \"Topic11\", \"Topic11\", \"Topic11\", \"Topic11\", \"Topic11\", \"Topic11\", \"Topic11\", \"Topic11\", \"Topic11\", \"Topic11\", \"Topic11\", \"Topic11\", \"Topic11\", \"Topic11\", \"Topic11\", \"Topic11\", \"Topic11\", \"Topic11\", \"Topic11\", \"Topic11\", \"Topic11\", \"Topic11\", \"Topic11\", \"Topic11\", \"Topic11\", \"Topic11\", \"Topic11\", \"Topic11\", \"Topic11\", \"Topic11\", \"Topic11\", \"Topic11\", \"Topic11\", \"Topic11\", \"Topic11\", \"Topic11\", \"Topic11\", \"Topic11\", \"Topic11\", \"Topic11\", \"Topic11\", \"Topic11\", \"Topic11\", \"Topic11\", \"Topic11\", \"Topic11\", \"Topic11\", \"Topic11\", \"Topic11\", \"Topic11\", \"Topic11\", \"Topic11\", \"Topic11\", \"Topic11\", \"Topic11\", \"Topic11\", \"Topic11\", \"Topic11\", \"Topic11\", \"Topic11\", \"Topic11\", \"Topic11\", \"Topic11\", \"Topic11\", \"Topic11\", \"Topic11\", \"Topic11\", \"Topic11\", \"Topic11\", \"Topic11\", \"Topic11\", \"Topic11\", \"Topic11\", \"Topic11\", \"Topic11\", \"Topic11\", \"Topic11\", \"Topic11\", \"Topic11\", \"Topic11\", \"Topic12\", \"Topic12\", \"Topic12\", \"Topic12\", \"Topic12\", \"Topic12\", \"Topic12\", \"Topic12\", \"Topic12\", \"Topic12\", \"Topic12\", \"Topic12\", \"Topic12\", \"Topic12\", \"Topic12\", \"Topic12\", \"Topic12\", \"Topic12\", \"Topic12\", \"Topic12\", \"Topic12\", \"Topic12\", \"Topic12\", \"Topic12\", \"Topic12\", \"Topic12\", \"Topic12\", \"Topic12\", \"Topic12\", \"Topic12\", \"Topic12\", \"Topic12\", \"Topic12\", \"Topic12\", \"Topic12\", \"Topic12\", \"Topic12\", \"Topic12\", \"Topic12\", \"Topic12\", \"Topic12\", \"Topic12\", \"Topic12\", \"Topic12\", \"Topic12\", \"Topic12\", \"Topic12\", \"Topic12\", \"Topic12\", \"Topic12\", \"Topic12\", \"Topic12\", \"Topic12\", \"Topic12\", \"Topic12\", \"Topic12\", \"Topic12\", \"Topic12\", \"Topic12\", \"Topic12\", \"Topic12\", \"Topic12\", \"Topic12\", \"Topic12\", \"Topic12\", \"Topic12\", \"Topic12\", \"Topic12\", \"Topic12\", \"Topic12\", \"Topic12\", \"Topic12\", \"Topic12\", \"Topic12\", \"Topic12\", \"Topic12\", \"Topic12\", \"Topic12\", \"Topic12\", \"Topic12\", \"Topic12\", \"Topic12\", \"Topic12\", \"Topic12\", \"Topic12\", \"Topic12\", \"Topic12\", \"Topic12\", \"Topic12\", \"Topic13\", \"Topic13\", \"Topic13\", \"Topic13\", \"Topic13\", \"Topic13\", \"Topic13\", \"Topic13\", \"Topic13\", \"Topic13\", \"Topic13\", \"Topic13\", \"Topic13\", \"Topic13\", \"Topic13\", \"Topic13\", \"Topic13\", \"Topic13\", \"Topic13\", \"Topic13\", \"Topic13\", \"Topic13\", \"Topic13\", \"Topic13\", \"Topic13\", \"Topic13\", \"Topic13\", \"Topic13\", \"Topic13\", \"Topic13\", \"Topic13\", \"Topic13\", \"Topic13\", \"Topic13\", \"Topic13\", \"Topic13\", \"Topic13\", \"Topic13\", \"Topic13\", \"Topic13\", \"Topic13\", \"Topic13\", \"Topic13\", \"Topic13\", \"Topic13\", \"Topic13\", \"Topic13\", \"Topic13\", \"Topic13\", \"Topic13\", \"Topic13\", \"Topic13\", \"Topic13\", \"Topic13\", \"Topic13\", \"Topic13\", \"Topic13\", \"Topic13\", \"Topic13\", \"Topic13\", \"Topic13\", \"Topic13\", \"Topic13\", \"Topic13\", \"Topic13\", \"Topic13\", \"Topic13\", \"Topic13\", \"Topic13\", \"Topic13\", \"Topic13\", \"Topic13\", \"Topic13\", \"Topic13\", \"Topic13\", \"Topic13\", \"Topic13\", \"Topic13\", \"Topic13\", \"Topic13\", \"Topic13\", \"Topic13\", \"Topic13\", \"Topic13\", \"Topic13\", \"Topic13\", \"Topic13\", \"Topic13\", \"Topic13\", \"Topic14\", \"Topic14\", \"Topic14\", \"Topic14\", \"Topic14\", \"Topic14\", \"Topic14\", \"Topic14\", \"Topic14\", \"Topic14\", \"Topic14\", \"Topic14\", \"Topic14\", \"Topic14\", \"Topic14\", \"Topic14\", \"Topic14\", \"Topic14\", \"Topic14\", \"Topic14\", \"Topic14\", \"Topic14\", \"Topic14\", \"Topic14\", \"Topic14\", \"Topic14\", \"Topic14\", \"Topic14\", \"Topic14\", \"Topic14\", \"Topic14\", \"Topic14\", \"Topic14\", \"Topic14\", \"Topic14\", \"Topic14\", \"Topic14\", \"Topic14\", \"Topic14\", \"Topic14\", \"Topic14\", \"Topic14\", \"Topic14\", \"Topic14\", \"Topic14\", \"Topic14\", \"Topic14\", \"Topic14\", \"Topic14\", \"Topic14\", \"Topic14\", \"Topic14\", \"Topic14\", \"Topic14\", \"Topic14\", \"Topic14\", \"Topic14\", \"Topic14\", \"Topic14\", \"Topic14\", \"Topic14\", \"Topic14\", \"Topic14\", \"Topic14\", \"Topic14\", \"Topic14\", \"Topic14\", \"Topic14\", \"Topic14\", \"Topic14\", \"Topic14\", \"Topic14\", \"Topic14\", \"Topic14\", \"Topic14\", \"Topic14\", \"Topic14\", \"Topic14\", \"Topic14\", \"Topic14\", \"Topic14\", \"Topic14\", \"Topic14\", \"Topic14\", \"Topic14\", \"Topic14\", \"Topic15\", \"Topic15\", \"Topic15\", \"Topic15\", \"Topic15\", \"Topic15\", \"Topic15\", \"Topic15\", \"Topic15\", \"Topic15\", \"Topic15\", \"Topic15\", \"Topic15\", \"Topic15\", \"Topic15\", \"Topic15\", \"Topic15\", \"Topic15\", \"Topic15\", \"Topic15\", \"Topic15\", \"Topic15\", \"Topic15\", \"Topic15\", \"Topic15\", \"Topic15\", \"Topic15\", \"Topic15\", \"Topic15\", \"Topic15\", \"Topic15\", \"Topic15\", \"Topic15\", \"Topic15\", \"Topic15\", \"Topic15\", \"Topic15\", \"Topic15\", \"Topic15\", \"Topic15\", \"Topic15\", \"Topic15\", \"Topic15\", \"Topic15\", \"Topic15\", \"Topic15\", \"Topic15\", \"Topic15\", \"Topic15\", \"Topic15\", \"Topic15\", \"Topic15\", \"Topic15\", \"Topic15\", \"Topic15\", \"Topic15\", \"Topic15\", \"Topic15\", \"Topic15\", \"Topic15\", \"Topic15\", \"Topic15\", \"Topic15\", \"Topic15\", \"Topic15\", \"Topic15\", \"Topic15\", \"Topic15\", \"Topic15\", \"Topic15\", \"Topic15\", \"Topic15\", \"Topic15\", \"Topic15\", \"Topic15\", \"Topic15\", \"Topic15\", \"Topic15\", \"Topic15\", \"Topic15\", \"Topic15\", \"Topic15\", \"Topic15\", \"Topic15\", \"Topic15\", \"Topic15\", \"Topic15\", \"Topic15\", \"Topic15\", \"Topic15\", \"Topic15\", \"Topic15\", \"Topic15\", \"Topic16\", \"Topic16\", \"Topic16\", \"Topic16\", \"Topic16\", \"Topic16\", \"Topic16\", \"Topic16\", \"Topic16\", \"Topic16\", \"Topic16\", \"Topic16\", \"Topic16\", \"Topic16\", \"Topic16\", \"Topic16\", \"Topic16\", \"Topic16\", \"Topic16\", \"Topic16\", \"Topic16\", \"Topic16\", \"Topic16\", \"Topic16\", \"Topic16\", \"Topic16\", \"Topic16\", \"Topic16\", \"Topic16\", \"Topic16\", \"Topic16\", \"Topic16\", \"Topic16\", \"Topic16\", \"Topic16\", \"Topic16\", \"Topic16\", \"Topic16\", \"Topic16\", \"Topic16\", \"Topic16\", \"Topic16\", \"Topic16\", \"Topic16\", \"Topic16\", \"Topic16\", \"Topic16\", \"Topic16\", \"Topic16\", \"Topic16\", \"Topic16\", \"Topic16\", \"Topic16\", \"Topic16\", \"Topic16\", \"Topic16\", \"Topic16\", \"Topic16\", \"Topic16\", \"Topic16\", \"Topic16\", \"Topic16\", \"Topic16\", \"Topic16\", \"Topic16\", \"Topic16\", \"Topic16\", \"Topic16\", \"Topic16\", \"Topic16\", \"Topic16\", \"Topic16\", \"Topic16\", \"Topic16\", \"Topic16\", \"Topic16\", \"Topic16\", \"Topic16\", \"Topic16\", \"Topic16\", \"Topic16\", \"Topic16\", \"Topic16\", \"Topic16\", \"Topic16\", \"Topic16\", \"Topic16\", \"Topic16\", \"Topic16\", \"Topic16\", \"Topic16\", \"Topic16\", \"Topic16\", \"Topic16\", \"Topic16\", \"Topic17\", \"Topic17\", \"Topic17\", \"Topic17\", \"Topic17\", \"Topic17\", \"Topic17\", \"Topic17\", \"Topic17\", \"Topic17\", \"Topic17\", \"Topic17\", \"Topic17\", \"Topic17\", \"Topic17\", \"Topic17\", \"Topic17\", \"Topic17\", \"Topic17\", \"Topic17\", \"Topic17\", \"Topic17\", \"Topic17\", \"Topic17\", \"Topic17\", \"Topic17\", \"Topic17\", \"Topic17\", \"Topic17\", \"Topic17\", \"Topic17\", \"Topic17\", \"Topic17\", \"Topic17\", \"Topic17\", \"Topic17\", \"Topic17\", \"Topic17\", \"Topic17\", \"Topic17\", \"Topic17\", \"Topic17\", \"Topic17\", \"Topic17\", \"Topic17\", \"Topic17\", \"Topic17\", \"Topic17\", \"Topic17\", \"Topic17\", \"Topic17\", \"Topic17\", \"Topic17\", \"Topic17\", \"Topic17\", \"Topic17\", \"Topic17\", \"Topic17\", \"Topic17\", \"Topic17\", \"Topic17\", \"Topic17\", \"Topic17\", \"Topic17\", \"Topic17\", \"Topic17\", \"Topic17\", \"Topic17\", \"Topic17\", \"Topic17\", \"Topic17\", \"Topic17\", \"Topic17\", \"Topic17\", \"Topic17\", \"Topic17\", \"Topic17\", \"Topic17\", \"Topic17\", \"Topic17\", \"Topic17\", \"Topic17\", \"Topic17\", \"Topic17\", \"Topic17\", \"Topic17\", \"Topic17\", \"Topic17\", \"Topic17\", \"Topic17\", \"Topic17\", \"Topic17\", \"Topic17\", \"Topic17\", \"Topic17\", \"Topic18\", \"Topic18\", \"Topic18\", \"Topic18\", \"Topic18\", \"Topic18\", \"Topic18\", \"Topic18\", \"Topic18\", \"Topic18\", \"Topic18\", \"Topic18\", \"Topic18\", \"Topic18\", \"Topic18\", \"Topic18\", \"Topic18\", \"Topic18\", \"Topic18\", \"Topic18\", \"Topic18\", \"Topic18\", \"Topic18\", \"Topic18\", \"Topic18\", \"Topic18\", \"Topic18\", \"Topic18\", \"Topic18\", \"Topic18\", \"Topic18\", \"Topic18\", \"Topic18\", \"Topic18\", \"Topic18\", \"Topic18\", \"Topic18\", \"Topic18\", \"Topic18\", \"Topic18\", \"Topic18\", \"Topic18\", \"Topic18\", \"Topic18\", \"Topic18\", \"Topic18\", \"Topic18\", \"Topic18\", \"Topic18\", \"Topic18\", \"Topic18\", \"Topic18\", \"Topic18\", \"Topic18\", \"Topic18\", \"Topic18\", \"Topic18\", \"Topic18\", \"Topic18\", \"Topic18\", \"Topic18\", \"Topic18\", \"Topic18\", \"Topic18\", \"Topic18\", \"Topic18\", \"Topic18\", \"Topic18\", \"Topic18\", \"Topic18\", \"Topic18\", \"Topic18\", \"Topic18\", \"Topic18\", \"Topic18\", \"Topic18\", \"Topic18\", \"Topic18\", \"Topic18\", \"Topic18\", \"Topic18\", \"Topic18\", \"Topic18\", \"Topic19\", \"Topic19\", \"Topic19\", \"Topic19\", \"Topic19\", \"Topic19\", \"Topic19\", \"Topic19\", \"Topic19\", \"Topic19\", \"Topic19\", \"Topic19\", \"Topic19\", \"Topic19\", \"Topic19\", \"Topic19\", \"Topic19\", \"Topic19\", \"Topic19\", \"Topic19\", \"Topic19\", \"Topic19\", \"Topic19\", \"Topic19\", \"Topic19\", \"Topic19\", \"Topic19\", \"Topic19\", \"Topic19\", \"Topic19\", \"Topic19\", \"Topic19\", \"Topic19\", \"Topic19\", \"Topic19\", \"Topic19\", \"Topic19\", \"Topic19\", \"Topic19\", \"Topic19\", \"Topic19\", \"Topic19\", \"Topic19\", \"Topic19\", \"Topic19\", \"Topic19\", \"Topic19\", \"Topic19\", \"Topic19\", \"Topic19\", \"Topic19\", \"Topic19\", \"Topic19\", \"Topic19\", \"Topic19\", \"Topic19\", \"Topic19\", \"Topic19\", \"Topic19\", \"Topic19\", \"Topic19\", \"Topic19\", \"Topic19\", \"Topic19\", \"Topic19\", \"Topic19\", \"Topic19\", \"Topic19\", \"Topic19\", \"Topic19\", \"Topic19\", \"Topic19\", \"Topic19\", \"Topic19\", \"Topic19\", \"Topic19\", \"Topic19\", \"Topic19\", \"Topic19\", \"Topic19\", \"Topic19\", \"Topic19\", \"Topic19\", \"Topic20\", \"Topic20\", \"Topic20\", \"Topic20\", \"Topic20\", \"Topic20\", \"Topic20\", \"Topic20\", \"Topic20\", \"Topic20\", \"Topic20\", \"Topic20\", \"Topic20\", \"Topic20\", \"Topic20\", \"Topic20\", \"Topic20\", \"Topic20\", \"Topic20\", \"Topic20\", \"Topic20\", \"Topic20\", \"Topic20\", \"Topic20\", \"Topic20\", \"Topic20\", \"Topic20\", \"Topic20\", \"Topic20\", \"Topic20\", \"Topic20\", \"Topic20\", \"Topic20\", \"Topic20\", \"Topic20\", \"Topic20\", \"Topic20\", \"Topic20\", \"Topic20\", \"Topic20\", \"Topic20\", \"Topic20\", \"Topic20\", \"Topic20\", \"Topic20\", \"Topic20\", \"Topic20\", \"Topic20\", \"Topic20\", \"Topic20\", \"Topic20\", \"Topic20\", \"Topic20\", \"Topic20\", \"Topic20\", \"Topic20\", \"Topic20\", \"Topic20\", \"Topic20\", \"Topic20\", \"Topic20\", \"Topic20\", \"Topic20\", \"Topic20\", \"Topic20\", \"Topic20\", \"Topic20\", \"Topic20\", \"Topic20\", \"Topic20\", \"Topic20\", \"Topic20\", \"Topic20\", \"Topic20\", \"Topic20\", \"Topic20\", \"Topic20\", \"Topic20\", \"Topic20\", \"Topic20\", \"Topic20\", \"Topic20\", \"Topic20\", \"Topic20\", \"Topic20\", \"Topic20\", \"Topic20\", \"Topic20\", \"Topic20\", \"Topic20\", \"Topic20\", \"Topic20\", \"Topic20\", \"Topic20\", \"Topic20\", \"Topic20\", \"Topic20\", \"Topic20\"], \"logprob\": [30.0, 29.0, 28.0, 27.0, 26.0, 25.0, 24.0, 23.0, 22.0, 21.0, 20.0, 19.0, 18.0, 17.0, 16.0, 15.0, 14.0, 13.0, 12.0, 11.0, 10.0, 9.0, 8.0, 7.0, 6.0, 5.0, 4.0, 3.0, 2.0, 1.0, -7.9045, -10.5436, -8.7518, -8.5977, -10.5436, -8.5977, -10.5436, -10.5436, -8.9342, -8.241, -8.5977, -6.5733, -4.3595, -7.3655, -8.7518, -7.3655, -7.9045, -9.8505, -9.445, -8.7518, -6.9601, -8.241, -6.6724, -8.241, -7.2855, -10.5436, -9.445, -7.9787, -8.9342, -8.7518, -4.7847, -4.9601, -5.0423, -4.8703, -5.1545, -5.3232, -5.533, -5.6309, -5.6383, -5.6684, -5.6994, -5.7645, -5.8523, -5.8802, -6.0218, -6.0327, -6.0893, -6.101, -6.1616, -6.1869, -6.1998, -6.1998, -6.2395, -6.2395, -6.2395, -6.2531, -6.2951, -6.3095, -6.3095, -4.3824, -5.7314, -4.9196, -4.9868, -5.1591, -5.7561, -5.3019, -5.5669, -5.9089, -5.3341, -5.0342, -5.8615, -4.4433, -5.9089, -5.5738, -5.3232, -5.5532, -5.7729, -5.7729, -5.8162, -5.8162, -5.1569, -9.8974, -7.1566, -6.5131, -6.0797, -9.8974, -7.3717, -5.5472, -7.0642, -8.9812, -9.8974, -8.288, -5.607, -9.8974, -6.9017, -6.4962, -8.0256, -7.5949, -10.5906, -5.6348, -6.3001, -10.5906, -8.9812, -8.5111, -7.8825, -8.6447, -7.8825, -8.6447, -7.2584, -5.8721, -5.1745, -5.0691, -5.8811, -5.9462, -5.9656, -5.9755, -5.9955, -6.3565, -6.3711, -4.6989, -6.4962, -6.6203, -6.6203, -6.6393, -6.7194, -7.0071, -7.0352, -7.0941, -6.2339, -5.9178, -5.4907, -4.838, -4.9811, -6.3565, -4.386, -4.4231, -5.2015, -4.8935, -5.6489, -4.9885, -4.6962, -5.8811, -5.7623, -5.0033, -5.3331, -5.2774, -4.299, -5.1656, -4.9451, -5.0071, -5.0071, -5.3074, -5.6348, -5.5934, -5.3595, -5.3866, -4.661, -4.9775, -4.9138, -5.1612, -4.963, -5.131, -5.3702, -9.3522, -8.659, -10.4508, -8.5049, -6.3732, -9.3522, -10.4508, -9.7576, -9.3522, -5.0214, -4.3754, -8.1482, -8.5049, -8.8413, -4.4821, -6.8399, -8.5049, -7.4062, -10.4508, -8.659, -8.659, -8.1482, -7.3597, -6.2611, -6.7131, -10.4508, -5.5604, -8.3713, -8.659, -8.3713, -5.2634, -5.481, -5.7058, -6.0081, -6.0319, -6.0687, -6.0687, -6.2764, -6.3903, -6.4077, -6.4254, -5.655, -6.4805, -6.5387, -6.559, -6.559, -6.559, -6.6441, -6.6666, -6.6896, -6.7131, -6.7372, -6.8132, -4.7142, -3.436, -5.655, -6.4995, -5.4536, -4.6982, -5.0436, -5.1525, -5.5756, -4.8863, -4.9174, -5.4073, -4.6307, -4.4297, -5.1132, -5.5163, -6.02, -4.9536, -3.8605, -5.2143, -5.315, -5.0258, -5.4009, -5.1676, -4.8673, -5.4203, -5.2143, -5.1525, -5.1575, -5.286, -5.1625, -5.2803, -5.3882, -5.3945, -6.01, -8.3014, -7.8596, -10.4986, -8.8892, -10.4986, -10.4986, -7.726, -6.8877, -7.3206, -9.8055, -7.2028, -9.4, -8.8892, -7.3631, -8.3014, -4.0294, -6.1292, -6.0798, -7.4076, -9.4, -10.4986, -8.8892, -6.9151, -7.2028, -6.7609, -7.3206, -7.5029, -8.5527, -7.7906, -4.9852, -5.7891, -6.056, -6.2501, -6.2501, -6.3715, -6.4211, -6.4211, -6.5283, -6.5668, -6.6485, -6.67, -6.67, -6.7144, -6.7609, -6.8097, -6.8097, -6.835, -6.861, -6.9151, -6.9433, -6.9433, -6.9433, -5.515, -5.128, -6.5474, -6.1292, -5.0737, -6.1945, -4.2295, -6.3877, -6.4211, -5.7537, -5.3511, -6.309, -4.0064, -5.3001, -5.6388, -6.1166, -4.3849, -4.9771, -5.6234, -5.8258, -5.2411, -5.7028, -3.9433, -5.9035, -5.5933, -4.7685, -5.0097, -5.6623, -5.745, -5.5498, -5.6544, -5.2783, -5.3927, -5.4297, -5.4488, -5.6311, -5.6623, -5.6388, -5.6783, -10.3615, -9.6684, -9.6684, -6.5114, -6.4697, -8.7521, -9.6684, -7.9636, -5.3779, -9.6684, -8.9753, -7.3658, -7.6535, -7.7966, -8.1643, -8.1643, -6.3913, -10.3615, -10.3615, -7.4171, -5.9072, -10.3615, -10.3615, -9.6684, -10.3615, -10.3615, -10.3615, -10.3615, -10.3615, -10.3615, -6.0849, -6.2027, -6.3011, -6.3542, -6.3726, -6.3913, -6.3913, -6.4297, -6.4903, -6.6727, -6.6727, -6.698, -6.7506, -6.8062, -6.865, -6.865, -6.8958, -6.8958, -6.8958, -6.9603, -6.9603, -7.0293, -7.0293, -7.0657, -7.0657, -5.6794, -5.9427, -5.1575, -6.4697, -6.3362, -4.6058, -5.9189, -6.284, -6.698, -5.7564, -5.1412, -6.1274, -4.9679, -4.9322, -5.6166, -5.5909, -5.2436, -4.8603, -5.4128, -5.0192, -5.608, -5.7366, -5.2801, -5.7172, -4.3601, -5.5994, -5.6342, -5.5824, -5.8077, -5.5017, -5.0834, -4.9235, -5.0834, -5.0783, -5.1358, -5.0385, -5.494, -5.299, -5.494, -5.3848, -5.3311, -5.3246, -5.5741, -5.5658, -4.9474, -8.2596, -6.5448, -10.4568, -10.4568, -10.4568, -9.3582, -10.4568, -8.8474, -10.4568, -8.0589, -9.3582, -10.4568, -7.3658, -9.0705, -10.4568, -9.7637, -10.4568, -10.4568, -9.7637, -8.1542, -10.4568, -10.4568, -7.8919, -6.6502, -10.4568, -7.5124, -6.8192, -8.8474, -4.4382, -4.9, -5.3269, -6.6282, -6.6726, -6.7933, -6.8733, -6.9015, -6.9911, -6.9911, -7.0895, -7.0895, -7.161, -7.1987, -7.1987, -7.238, -7.238, -7.2788, -7.2788, -7.2788, -7.3213, -7.3658, -7.3658, -7.4123, -7.4611, -6.4315, -6.4495, -4.3723, -5.2098, -6.8733, -4.5542, -5.8221, -5.4801, -5.4801, -5.0815, -6.113, -5.3754, -6.3625, -6.0501, -5.0497, -5.9909, -4.9762, -4.393, -5.501, -5.6285, -3.8693, -4.4984, -5.1941, -4.6761, -5.0723, -5.2046, -3.7937, -5.3152, -3.9646, -4.2166, -5.3631, -4.4629, -5.2639, -5.0275, -5.1002, -4.7497, -5.0769, -5.105, -5.2365, -5.0769, -5.1787, -5.1838, -5.189, -10.3012, -8.5094, -10.3012, -5.9317, -9.608, -6.451, -5.3959, -10.3012, -7.6621, -10.3012, -3.3183, -10.3012, -10.3012, -9.2025, -7.4108, -6.8672, -7.9033, -8.9149, -6.3309, -9.608, -5.8352, -5.489, -5.6664, -5.5476, -6.6376, -7.1231, -5.3453, -6.517, -6.2581, -5.2074, -4.6522, -4.9879, -5.565, -5.6377, -5.7903, -5.8352, -5.8703, -5.8944, -5.9067, -6.0385, -6.1903, -6.2938, -6.2938, -6.54, -6.5876, -5.7579, -4.6954, -5.696, -5.5916, -5.2198, -5.1194, -4.5112, -5.522, -5.522, -5.5562, -4.804, -4.7405, -4.3248, -4.8081, -5.4184, -4.7027, -5.0437, -4.8331, -5.1713, -4.9684, -5.3313, -5.5137, -5.0489, -5.3885, -5.4184, -5.426, -5.5476, -9.115, -7.6487, -4.6491, -7.2179, -8.2677, -9.115, -6.9555, -8.0164, -6.7796, -5.3773, -7.6487, -8.6042, -6.7171, -6.4524, -7.3804, -4.9825, -6.1532, -6.9555, -6.1706, -5.9096, -5.9651, -7.3804, -5.3308, -6.6583, -7.911, -5.1897, -7.8157, -7.2179, -5.8192, -7.911, -4.586, -4.9355, -5.5985, -5.8069, -5.8698, -5.8829, -5.8961, -6.0089, -6.024, -6.0705, -6.1027, -6.2246, -6.2433, -6.2624, -6.2624, -6.3218, -6.3424, -6.3635, -6.385, -6.385, -5.5223, -5.1199, -5.6389, -5.6493, -5.7477, -5.7028, -6.0089, -5.5985, -5.6493, -5.9651, -5.8192, -3.7584, -5.4014, -4.8809, -5.5408, -4.1592, -4.2322, -5.2232, -4.6415, -4.7456, -5.0375, -5.0956, -5.3616, -5.272, -5.5597, -5.3461, -5.0488, -5.4774, -5.5041, -5.2232, -5.0837, -5.3461, -5.5408, -7.9261, -7.5206, -6.9328, -7.2842, -5.0469, -6.9328, -8.6192, -7.5206, -8.6192, -5.8979, -8.6192, -6.491, -5.7627, -8.6192, -7.1841, -7.3954, -8.6192, -7.9261, -8.6192, -8.6192, -6.7947, -7.1841, -5.3534, -7.9261, -7.2329, -6.8614, -8.6192, -5.4084, -7.9261, -7.9261, -5.2314, -4.8534, -5.3014, -5.3611, -5.4924, -5.4924, -5.8979, -5.952, -6.1178, -6.1511, -6.1856, -6.2033, -6.2033, -6.2968, -6.3368, -6.4, -6.4445, -6.4445, -6.5151, -6.5151, -6.5651, -6.5911, -6.5911, -6.6177, -3.9334, -5.4924, -6.024, -6.024, -5.4924, -4.835, -5.7069, -5.7627, -5.1597, -5.3611, -6.039, -5.1597, -4.9869, -4.8674, -5.4329, -5.218, -5.4837, -5.8719, -5.1917, -5.7069, -5.3308, -5.6235, -5.4665, -5.696, -5.7288, -5.7288, -5.6854, -10.241, -6.3908, -6.3091, -9.1423, -7.0221, -10.241, -10.241, -10.241, -7.7561, -5.0425, -7.1964, -9.1423, -6.9451, -9.1423, -7.1499, -7.9384, -8.295, -7.2965, -6.4798, -10.241, -7.1499, -8.4492, -10.241, -6.7752, -9.5478, -6.6574, -5.5681, -8.4492, -7.8431, -9.5478, -3.955, -5.7301, -5.8972, -5.9783, -5.9925, -6.0821, -6.1634, -6.3491, -6.3698, -6.4123, -6.4568, -6.4798, -6.5033, -6.5774, -6.5774, -6.5774, -6.5774, -6.63, -6.63, -6.6574, -6.6574, -6.6856, -6.6856, -6.7445, -5.8342, -6.252, -5.496, -4.6062, -5.1596, -6.3698, -5.3658, -6.2707, -6.1634, -5.7084, -4.9179, -4.8338, -4.1295, -4.4358, -4.6919, -5.1847, -4.8939, -4.415, -5.135, -4.8338, -4.2055, -5.6258, -5.4288, -5.8221, -5.6871, -5.0762, -5.3506, -5.3357, -5.1534, -5.4207, -5.1472, -5.5136, -5.5496, -5.5775, -5.5588, -8.722, -9.6383, -9.2329, -8.252, -9.6383, -8.9452, -8.722, -8.9452, -7.8466, -8.1342, -8.9452, -8.1342, -7.0734, -5.4794, -8.722, -9.2329, -10.3315, -8.3856, -10.3315, -10.3315, -6.014, -6.4813, -10.3315, -8.3856, -6.7479, -10.3315, -7.387, -8.3856, -8.1342, -8.252, -4.9243, -5.0232, -5.133, -5.5779, -5.7163, -5.8771, -5.9006, -6.0274, -6.0274, -6.112, -6.1726, -6.2206, -6.4194, -6.4194, -6.4396, -6.4813, -6.5248, -6.5248, -6.5473, -6.7761, -6.7761, -5.3617, -6.8657, -6.8975, -6.9303, -6.9303, -4.9378, -6.014, -6.2043, -5.4411, -5.161, -6.2371, -5.9126, -5.7568, -4.6931, -4.9796, -3.965, -5.7671, -5.4487, -4.814, -4.33, -5.4411, -4.0511, -4.9891, -5.1553, -4.4996, -4.9065, -5.3142, -4.8934, -4.4454, -4.6445, -4.4398, -5.0897, -4.7863, -5.2255, -4.9021, -5.2135, -5.2626, -5.1165, -5.1957, -5.0585, -5.341, -10.3125, -8.0099, -8.3666, -3.5013, -10.3125, -6.816, -8.5208, -7.8276, -8.3666, -8.0099, -9.6194, -6.9113, -7.9146, -6.9803, -10.3125, -9.2139, -7.6735, -10.3125, -7.8276, -7.1345, -8.7031, -8.0099, -9.2139, -7.177, -5.9305, -8.3666, -5.9818, -10.3125, -10.3125, -10.3125, -4.4209, -4.8113, -4.8402, -5.1592, -5.4072, -5.7692, -5.8466, -5.995, -5.995, -6.0221, -6.0358, -6.064, -6.1381, -6.4413, -6.4624, -6.5513, -6.5748, -6.6749, -6.7572, -6.7862, -6.816, -6.816, -6.8468, -6.8468, -6.8785, -6.8785, -5.9687, -6.2521, -5.8466, -5.603, -6.1694, -6.3052, -6.2016, -5.9558, -5.3289, -5.6212, -6.0784, -5.3567, -4.9798, -5.9431, -5.612, -5.4842, -5.1826, -5.7378, -4.6994, -5.165, -5.0447, -5.7275, -5.6875, -5.1945, -5.4922, -5.5676, -5.603, -5.6397, -5.6778, -5.8352, -5.7692, -5.6778, -5.7799, -5.0944, -6.0243, -5.15, -4.8094, -7.1367, -4.5036, -6.3829, -10.3148, -10.3148, -10.3148, -10.3148, -8.2353, -10.3148, -7.4816, -7.8299, -10.3148, -10.3148, -10.3148, -10.3148, -10.3148, -10.3148, -7.4816, -10.3148, -10.3148, -7.5422, -6.2894, -7.2237, -6.9136, -8.9285, -8.7053, -4.4683, -5.908, -6.0381, -6.1251, -6.6772, -6.8183, -6.8183, -6.8808, -7.0567, -7.1367, -7.1793, -7.2237, -7.2702, -7.2702, -7.2702, -7.319, -7.3703, -7.3703, -7.4244, -7.4244, -4.0687, -6.3258, -6.3258, -6.5306, -3.5933, -6.2543, -4.9166, -6.7039, -6.5536, -5.5698, -3.9296, -5.073, -6.849, -5.7822, -4.9349, -4.7579, -5.8261, -4.9966, -6.0807, -5.1849, -4.9918, -4.7814, -5.0065, -5.366, -4.7313, -5.133, -4.8767, -4.9535, -5.0165, -4.8054, -5.338, -5.3108, -5.2334, -5.1443, -4.9535, -5.1274, -4.8258, -5.0837, -5.2272, -7.0989, -7.8662, -5.8461, -7.7921, -7.8662, -5.7772, -5.0936, -7.8662, -7.3866, -7.7921, -7.7921, -8.4852, -8.4852, -8.4852, -7.7921, -6.4058, -7.8662, -8.4852, -6.4799, -7.3866, -5.5039, -5.5408, -7.173, -7.8662, -8.4852, -7.0989, -7.7921, -8.4852, -7.7921, -8.4852, -3.8901, -4.6881, -4.7374, -5.2437, -5.3559, -5.4339, -5.5258, -5.5636, -5.6436, -5.6775, -5.8061, -5.836, -5.1947, -5.9203, -5.9313, -5.9313, -5.9768, -5.9768, -6.0244, -6.0367, -6.0617, -6.2567, -6.2722, -6.304, -5.4544, -5.5185, -5.836, -4.6913, -4.5818, -4.818, -4.3286, -4.7307, -4.7821, -3.834, -4.4396, -5.5333, -4.6945, -5.4138, -4.8071, -5.1278, -5.4613, -4.9673, -5.1081, -4.7075, -4.9588, -4.5562, -4.4028, -4.9673, -5.1081, -5.3312, -4.5963, -5.084, -4.7963, -5.0745, -5.2162, -5.2162, -6.7104, -10.1761, -10.1761, -10.1761, -10.1761, -10.1761, -9.483, -10.1761, -8.7899, -10.1761, -6.5386, -7.4681, -10.1761, -7.4681, -8.0967, -8.3844, -9.0775, -8.0967, -10.1761, -8.7899, -8.7899, -7.7782, -10.1761, -10.1761, -10.1761, -9.483, -7.4036, -10.1761, -10.1761, -10.1761, -5.0582, -5.5318, -5.7573, -6.1688, -6.2443, -6.5926, -6.8088, -6.8439, -6.918, -6.9573, -6.9573, -6.9981, -7.0851, -7.1316, -7.1804, -7.2317, -7.2858, -1.9376, -7.3429, -7.3429, -7.3429, -7.3429, -7.4681, -7.4681, -7.4681, -6.326, -6.4149, -1.81, -4.411, -5.4399, -6.918, -5.9715, -5.101, -5.9715, -6.6796, -5.7453, -4.0916, -5.4055, -4.3831, -2.6124, -5.9135, -6.2249, -2.7401, -5.3241, -5.4312, -5.0582, -5.6763, -5.2133, -3.7545, -5.364, -4.374, -5.3163, -5.7102, -5.0287, -5.1589, -5.494, -5.3721, -5.3804, -5.494, -5.397, -5.4399, -5.4226, -5.5912, -6.4499, -10.1635, -10.1635, -7.0724, -7.219, -10.1635, -5.4185, -10.1635, -10.1635, -10.1635, -8.084, -5.7326, -6.9446, -10.1635, -10.1635, -9.4703, -10.1635, -7.6786, -7.8609, -7.1677, -10.1635, -7.1189, -4.7836, -10.1635, -10.1635, -7.219, -9.4703, -9.4703, -9.0649, -9.0649, -4.015, -5.4013, -5.6096, -5.915, -5.944, -5.9891, -6.1745, -6.1932, -6.2316, -6.2514, -6.4258, -6.4499, -5.6309, -6.6081, -6.6371, -6.7295, -6.7962, -6.8313, -6.8676, -6.9054, -6.9054, -6.9054, -6.9054, -6.9446, -6.9854, -6.2122, -4.4432, -6.2514, -6.2716, -5.3114, -6.2316, -6.2122, -4.1973, -6.1932, -6.1204, -5.873, -4.3583, -5.7446, -5.2656, -4.4664, -5.1867, -5.3594, -4.0744, -4.8116, -5.8868, -4.906, -4.9324, -5.3677, -5.376, -5.6309, -5.8868, -4.9595, -5.6861, -3.5055, -3.6911, -5.463, -5.1663, -5.3114, -5.5191, -5.1009, -5.2006, -5.133, -5.4721, -5.376, -5.2807, -10.0829, -9.3897, -10.0829, -10.0829, -10.0829, -8.4735, -10.0829, -6.864, -10.0829, -10.0829, -10.0829, -10.0829, -8.2911, -10.0829, -8.0034, -8.6966, -8.9843, -10.0829, -10.0829, -8.9843, -10.0829, -8.2911, -10.0829, -8.9843, -8.6966, -7.598, -9.3897, -8.9843, -10.0829, -10.0829, -3.9238, -4.8899, -5.0656, -5.5185, -5.5503, -5.7391, -6.2987, -6.4453, -6.4994, -6.4994, -6.5565, -6.6172, -6.6489, -6.7156, -6.7871, -6.7871, -6.864, -6.9048, -6.9048, -6.9048, -6.9048, -6.9918, -6.9918, -7.0384, -7.0872, -7.1384, -7.1384, -7.1925, -7.1925, -5.3467, -4.7796, -3.8368, -4.4734, -5.4194, -5.9398, -5.5503, -6.7507, -5.9085, -4.5614, -4.9238, -3.9626, -4.7796, -5.0077, -5.924, -4.5299, -5.4482, -5.0656, -4.2364, -5.7009, -5.7654, -5.3824, -4.7846, -5.4777, -5.3824, -4.9238, -4.8844, -5.0203, -4.4234, -4.8411, -4.6405, -5.014, -4.1667, -4.3925, -5.3122, -5.3915, -6.4779, -6.4779, -6.4779, -7.1711, -7.1711, -7.1711, -7.1711, -7.1711, -8.444, -8.5982, -10.3899, -9.2913, -9.6968, -10.3899, -7.4455, -6.5398, -8.3105, -5.6804, -6.4387, -6.4581, -7.825, -8.5982, -8.7805, -8.0874, -5.3085, -8.3105, -8.444, -7.0577, -9.6968, -8.7805, -5.0817, -5.1221, -5.4271, -5.0817, -5.7456, -5.8152, -5.8467, -5.9013, -6.1273, -6.1558, -6.2003, -6.2003, -6.3124, -6.3646, -6.4387, -6.4981, -6.5187, -6.5613, -6.5613, -6.5833, -6.5833, -6.6287, -5.4555, -5.5697, -4.9052, -6.1558, -6.1853, -5.7265, -5.924, -5.3337, -5.4201, -5.0381, -5.6025, -5.2309, -5.3727, -5.6364, -5.7456, -5.4627, -5.4412, -5.7848, -5.765, -5.6714, -5.2252, -5.4132, -5.3727, -5.5301, -5.4412, -5.6538, -5.4412, -5.5148, -5.6278, -5.645, -5.6895, -6.1022, -6.2308, -5.3343, -2.347, -9.064, -5.5574, -8.2167, -8.7763, -9.4695, -9.4695, -10.1626, -10.1626, -6.9437, -10.1626, -9.064, -6.9846, -10.1626, -10.1626, -10.1626, -10.1626, -8.7763, -8.3709, -9.064, -9.064, -7.86, -10.1626, -10.1626, -9.064, -7.6777, -10.1626, -2.3172, -1.9731, -5.5279, -6.6073, -7.0271, -7.0271, -7.1181, -7.1181, -7.1669, -7.1669, -7.2182, -7.2722, -7.3294, -7.3294, -7.3294, -7.39, -7.39, -7.4546, -7.5236, -7.5236, -7.5236, -7.5236, -7.5236, -5.0812, -6.1196, -3.6887, -5.5182, -5.8722, -5.9141, -3.3157, -2.8574, -5.1064, -5.6408, -6.5791, -5.6853, -6.2114, -5.8451, -5.7682, -2.5523, -5.9579, -2.5917, -5.3835, -4.8299, -4.8013, -4.2961, -5.7932, -5.25, -5.4264, -5.4992, -5.6193, -5.8188, -5.5776, -5.7682, -7.3982, -6.7051, -7.3982, -7.3982, -7.3982, -7.3982, -7.3982, -7.3982, -7.3982, -10.1063, -6.4687, -8.3145, -8.72, -8.4968, -8.1604, -8.1604, -10.1063, -6.8482, -10.1063, -8.3145, -10.1063, -7.5413, -6.4427, -5.1434, -9.0077, -8.0268, -10.1063, -10.1063, -6.6098, -10.1063, -5.9016, -5.9791, -6.0632, -6.1942, -6.1942, -6.4953, -6.4953, -6.5799, -6.5799, -6.6405, -6.6723, -6.6723, -6.739, -6.8104, -6.8482, -6.8874, -6.9282, -6.9282, -6.9708, -6.9708, -7.0152, -7.0152, -7.0617, -7.0617, -5.2159, -4.9023, -5.8436, -4.7497, -6.5509, -6.5509, -6.2351, -6.2996, -4.953, -5.7496, -6.0632, -4.8913, -4.6857, -3.7819, -3.5146, -5.0564, -6.0119, -5.7368, -4.8592, -5.1091, -5.6874, -2.9988, -5.9319, -5.5419, -3.4304, -5.1023, -5.8868, -5.3701, -5.3701, -5.2387, -4.634, -5.0758, -4.8436, -5.4334, -4.7264, -5.0125, -5.2387, -5.3527, -4.6769, -5.4715, -5.2465, -5.0693, -5.2941, -5.3356], \"loglift\": [30.0, 29.0, 28.0, 27.0, 26.0, 25.0, 24.0, 23.0, 22.0, 21.0, 20.0, 19.0, 18.0, 17.0, 16.0, 15.0, 14.0, 13.0, 12.0, 11.0, 10.0, 9.0, 8.0, 7.0, 6.0, 5.0, 4.0, 3.0, 2.0, 1.0, 2.6476, 2.6476, 2.6476, 2.6476, 2.6476, 2.6476, 2.6476, 2.6476, 2.6476, 2.6476, 2.6476, 2.6476, 2.6476, 2.6476, 2.6476, 2.6476, 2.6476, 2.6476, 2.6476, 2.6476, 2.6476, 2.6476, 2.6476, 2.6476, 2.6476, 2.6476, 2.6476, 2.6476, 2.6476, 2.6476, 2.6476, 2.6476, 2.6476, 2.6452, 2.6476, 2.6476, 2.6476, 2.6476, 2.6476, 2.6476, 2.6476, 2.6476, 2.6476, 2.6476, 2.6476, 2.6476, 2.6476, 2.6476, 2.6476, 2.6476, 2.6476, 2.6476, 2.6476, 2.6476, 2.6476, 2.6476, 2.6476, 2.6476, 2.6476, 2.5988, 2.6101, 2.4065, 2.3658, 2.3756, 2.4997, 2.3509, 2.4121, 2.4901, 2.0809, 1.8363, 2.428, 0.9315, 2.4062, 1.5501, 0.7864, 0.9431, 1.6139, 1.2837, 1.0672, 0.1673, 2.7168, 2.7168, 2.7168, 2.7168, 2.7168, 2.7168, 2.7168, 2.7168, 2.7168, 2.7168, 2.7168, 2.7168, 2.7168, 2.7168, 2.7168, 2.7168, 2.7168, 2.7168, 2.7168, 2.7168, 2.7168, 2.7168, 2.7168, 2.7168, 2.7168, 2.7168, 2.7168, 2.7168, 2.7168, 2.7168, 2.7168, 2.7127, 2.7168, 2.7168, 2.7168, 2.7168, 2.7168, 2.7168, 2.7168, 2.6996, 2.7168, 2.7168, 2.7168, 2.7168, 2.7168, 2.7168, 2.7168, 2.7168, 2.7043, 2.6834, 2.6636, 2.6225, 2.5946, 2.6773, 2.4998, 2.4338, 2.5058, 2.4474, 2.5579, 2.4406, 2.328, 2.5864, 2.5589, 2.3307, 2.4035, 2.3746, 1.8731, 2.1963, 1.9633, 1.971, 1.9281, 2.1713, 2.4254, 2.3497, 2.0417, 2.0228, 0.7137, 1.2671, 1.0452, 1.5246, 1.0229, 1.3744, 1.5653, 2.753, 2.753, 2.753, 2.753, 2.753, 2.753, 2.753, 2.753, 2.753, 2.753, 2.753, 2.753, 2.753, 2.753, 2.753, 2.753, 2.753, 2.753, 2.753, 2.753, 2.753, 2.753, 2.753, 2.753, 2.753, 2.753, 2.753, 2.753, 2.753, 2.753, 2.753, 2.753, 2.753, 2.753, 2.753, 2.753, 2.753, 2.753, 2.753, 2.753, 2.753, 2.7446, 2.753, 2.753, 2.753, 2.753, 2.753, 2.753, 2.753, 2.753, 2.753, 2.753, 2.753, 2.7047, 2.5499, 2.6866, 2.736, 2.638, 2.5517, 2.5875, 2.5987, 2.6362, 2.5268, 2.4297, 2.4923, 2.203, 2.1341, 2.3061, 2.4278, 2.596, 2.103, 1.5143, 2.1792, 2.1404, 1.8704, 2.0914, 1.7677, 1.2424, 2.0289, 1.2426, 0.8366, 0.4363, 0.673, -0.3915, 0.297, 1.2977, 1.2807, 2.755, 2.755, 2.755, 2.755, 2.755, 2.755, 2.755, 2.755, 2.755, 2.755, 2.755, 2.755, 2.755, 2.755, 2.755, 2.755, 2.755, 2.755, 2.755, 2.755, 2.755, 2.755, 2.755, 2.755, 2.755, 2.755, 2.755, 2.755, 2.755, 2.755, 2.755, 2.755, 2.755, 2.755, 2.755, 2.755, 2.755, 2.755, 2.755, 2.755, 2.755, 2.755, 2.755, 2.755, 2.755, 2.755, 2.755, 2.755, 2.755, 2.755, 2.755, 2.755, 2.755, 2.6991, 2.6787, 2.7369, 2.7038, 2.6071, 2.6862, 2.4457, 2.6954, 2.6989, 2.5908, 2.5244, 2.6774, 2.2358, 2.4622, 2.4949, 2.6065, 2.1114, 2.2818, 2.4413, 2.4729, 2.1976, 2.3705, 1.4315, 2.4736, 2.2697, 1.7369, 1.8608, 2.2904, 2.2361, 1.9497, 2.0596, 1.4579, 1.6277, 1.5714, 1.5886, 1.9125, 1.8895, 1.764, 1.2997, 2.8838, 2.8838, 2.8838, 2.8838, 2.8838, 2.8838, 2.8838, 2.8838, 2.8838, 2.8838, 2.8838, 2.8838, 2.8838, 2.8838, 2.8838, 2.8838, 2.8838, 2.8838, 2.8838, 2.8838, 2.8838, 2.8838, 2.8838, 2.8838, 2.8838, 2.8838, 2.8838, 2.8838, 2.8838, 2.8838, 2.8838, 2.8838, 2.8838, 2.8838, 2.8838, 2.8838, 2.8838, 2.8838, 2.8838, 2.8838, 2.8838, 2.8838, 2.8838, 2.8838, 2.8838, 2.8838, 2.8838, 2.8838, 2.8838, 2.8838, 2.8838, 2.8838, 2.8838, 2.8838, 2.8838, 2.8677, 2.8637, 2.8319, 2.8657, 2.8513, 2.7012, 2.7891, 2.8188, 2.8611, 2.7139, 2.6096, 2.7482, 2.4896, 2.3354, 2.5388, 2.5054, 2.3741, 2.1999, 2.4069, 2.2177, 2.3803, 2.4275, 2.1149, 2.4063, 1.2234, 2.2339, 2.2268, 2.1694, 2.3605, 2.0501, 1.5292, 1.3187, 1.41, 1.3786, 1.428, 1.0711, 1.9342, 1.421, 1.884, 0.9967, 0.6524, 0.2692, 1.8409, 0.948, 2.9182, 2.9182, 2.9182, 2.9182, 2.9182, 2.9182, 2.9182, 2.9182, 2.9182, 2.9182, 2.9182, 2.9182, 2.9182, 2.9182, 2.9182, 2.9182, 2.9182, 2.9182, 2.9182, 2.9182, 2.9182, 2.9182, 2.9182, 2.9182, 2.9182, 2.9182, 2.9182, 2.9182, 2.9182, 2.9182, 2.9141, 2.9182, 2.9182, 2.9182, 2.9182, 2.9182, 2.9182, 2.9182, 2.9182, 2.9182, 2.9182, 2.9182, 2.9182, 2.9182, 2.9182, 2.9182, 2.9182, 2.9182, 2.9182, 2.9182, 2.9182, 2.9182, 2.9182, 2.9182, 2.8983, 2.8974, 2.7392, 2.7853, 2.8854, 2.6584, 2.7771, 2.726, 2.7175, 2.651, 2.7768, 2.6755, 2.8065, 2.7508, 2.5686, 2.712, 2.4942, 2.3098, 2.5636, 2.5865, 2.0898, 2.2599, 2.449, 2.2841, 2.3736, 2.3911, 1.7836, 2.3882, 1.6292, 1.6275, 2.2397, 1.5404, 2.1308, 1.8544, 1.8896, 1.2338, 1.726, 1.7118, 2.0113, 1.5065, 1.7297, 1.6916, 0.8001, 3.022, 3.022, 3.022, 3.022, 3.022, 3.022, 3.022, 3.022, 3.022, 3.022, 3.022, 3.022, 3.022, 3.022, 3.022, 3.022, 3.022, 3.022, 3.022, 3.022, 3.022, 3.022, 3.022, 3.022, 3.022, 3.022, 3.022, 3.022, 3.022, 3.022, 3.022, 3.022, 3.022, 3.022, 3.022, 3.022, 3.022, 3.022, 3.022, 3.022, 3.022, 3.022, 3.022, 3.022, 3.022, 3.0134, 2.9072, 2.9439, 2.8857, 2.8128, 2.7369, 2.4624, 2.7598, 2.735, 2.7426, 2.406, 2.2799, 1.6427, 2.0648, 2.5689, 1.7935, 1.9683, 1.6411, 2.0856, 1.6442, 2.0717, 2.3733, 0.3259, 1.6563, 1.7201, -0.9164, 2.0932, 3.0423, 3.0423, 3.0423, 3.0423, 3.0423, 3.0423, 3.0423, 3.0423, 3.0423, 3.0423, 3.0423, 3.0423, 3.0423, 3.0423, 3.0423, 3.0423, 3.0423, 3.0423, 3.0423, 3.0423, 3.0423, 3.0423, 3.0423, 3.0423, 3.0423, 3.0423, 3.0423, 3.0423, 3.0423, 3.0423, 3.0423, 3.0423, 3.0423, 3.0423, 3.0423, 3.0423, 3.0423, 3.0423, 3.0423, 3.0423, 3.0423, 3.0423, 3.0423, 3.0423, 3.0423, 3.0423, 3.0423, 3.0423, 3.0423, 3.0423, 3.0336, 3.0249, 3.0335, 3.0334, 3.0337, 3.0319, 3.0297, 3.0073, 3.0072, 3.0173, 2.9936, 2.6367, 2.9143, 2.8104, 2.9293, 2.6071, 2.5349, 2.6855, 2.3856, 2.4009, 2.4791, 2.4014, 2.529, 2.4328, 2.7048, 2.3366, 0.9347, 2.2185, 2.2448, 0.3604, -0.5742, 0.8985, 2.233, 3.0482, 3.0482, 3.0482, 3.0482, 3.0482, 3.0482, 3.0482, 3.0482, 3.0482, 3.0482, 3.0482, 3.0482, 3.0482, 3.0482, 3.0482, 3.0482, 3.0482, 3.0482, 3.0482, 3.0482, 3.0482, 3.0482, 3.0482, 3.0482, 3.0482, 3.0482, 3.0482, 3.0482, 3.0482, 3.0482, 3.0482, 3.0442, 3.0482, 3.0482, 3.0482, 3.0482, 3.0482, 3.0482, 3.0482, 3.0482, 3.0482, 3.0482, 3.0482, 3.0482, 3.0482, 3.0482, 3.0482, 3.0482, 3.0482, 3.0482, 3.0482, 3.0482, 3.0482, 3.0482, 2.9359, 2.9705, 3.01, 3.0032, 2.9476, 2.81, 2.938, 2.9173, 2.748, 2.5026, 2.824, 1.9641, 1.7493, 1.3772, 1.9012, 1.4568, 1.824, 2.4929, 0.7758, 1.9805, 0.5132, 1.3885, 0.5226, 1.4499, 1.4616, 1.4472, -1.0567, 3.0604, 3.0604, 3.0604, 3.0604, 3.0604, 3.0604, 3.0604, 3.0604, 3.0604, 3.0604, 3.0604, 3.0604, 3.0604, 3.0604, 3.0604, 3.0604, 3.0604, 3.0604, 3.0604, 3.0604, 3.0604, 3.0604, 3.0604, 3.0604, 3.0604, 3.0604, 3.0604, 3.0604, 3.0604, 3.0604, 3.0604, 3.0604, 3.0604, 3.0604, 3.0604, 3.0604, 3.0604, 3.0604, 3.0604, 3.0604, 3.0604, 3.0604, 3.0604, 3.0604, 3.0604, 3.0604, 3.0604, 3.0604, 3.0604, 3.0604, 3.0604, 3.0604, 3.0604, 3.0604, 3.0484, 3.046, 2.9751, 2.8899, 2.9347, 3.0239, 2.8717, 3.0035, 2.9702, 2.8463, 2.578, 2.3127, 1.854, 1.9593, 2.0752, 2.3123, 2.1333, 1.8061, 2.2632, 1.9325, 1.3718, 2.4674, 2.276, 2.5951, 2.4308, 1.5073, 1.6095, 1.0458, 0.4404, 1.0535, -0.6377, 1.1559, 1.1252, 1.4005, 1.1688, 3.0723, 3.0723, 3.0723, 3.0723, 3.0723, 3.0723, 3.0723, 3.0723, 3.0723, 3.0723, 3.0723, 3.0723, 3.0723, 3.0723, 3.0723, 3.0723, 3.0723, 3.0723, 3.0723, 3.0723, 3.0723, 3.0723, 3.0723, 3.0723, 3.0723, 3.0723, 3.0723, 3.0723, 3.0723, 3.0723, 3.0723, 3.0723, 3.0723, 3.0723, 3.0723, 3.0723, 3.0723, 3.0723, 3.0723, 3.0723, 3.0723, 3.0723, 3.0723, 3.0723, 3.0723, 3.0723, 3.0723, 3.0723, 3.0723, 3.0723, 3.0723, 3.0571, 3.0723, 3.0723, 3.0723, 3.0723, 3.0503, 3.0568, 3.0584, 3.0216, 2.9737, 3.0364, 3.0083, 2.9783, 2.8216, 2.8591, 2.6852, 2.9552, 2.8631, 2.7198, 2.4998, 2.8042, 2.3087, 2.5183, 2.5927, 2.2014, 2.402, 2.5671, 2.2446, 1.7757, 1.8225, 1.5277, 2.2149, 1.7072, 2.2646, 1.5463, 2.0073, 2.1405, 1.467, 1.6804, 0.7855, 2.1376, 3.0968, 3.0968, 3.0968, 3.0968, 3.0968, 3.0968, 3.0968, 3.0968, 3.0968, 3.0968, 3.0968, 3.0968, 3.0968, 3.0968, 3.0968, 3.0968, 3.0968, 3.0968, 3.0968, 3.0968, 3.0968, 3.0968, 3.0968, 3.0968, 3.0968, 3.0968, 3.0968, 3.0968, 3.0968, 3.0968, 3.0968, 3.0968, 3.0968, 3.0968, 3.0968, 3.0968, 3.0968, 3.0968, 3.0968, 3.0968, 3.0968, 3.0968, 3.0968, 3.0968, 3.0968, 3.0968, 3.0968, 3.0968, 3.0968, 3.0968, 3.0968, 3.0968, 3.0968, 3.0968, 3.0968, 3.0968, 3.0855, 3.0819, 3.0686, 3.0251, 3.0505, 3.0573, 3.0435, 3.0181, 2.9158, 2.9482, 2.9908, 2.8217, 2.6491, 2.9213, 2.7804, 2.7034, 2.4505, 2.7738, 1.8917, 2.2291, 2.0815, 2.6211, 2.5516, 1.6874, 1.9314, 1.9263, 1.6526, 1.761, 1.8784, 2.4429, 1.7742, 0.4164, 1.1035, 3.1002, 3.1002, 3.1002, 3.1002, 3.1002, 3.1002, 3.1002, 3.1002, 3.1002, 3.1002, 3.1002, 3.1002, 3.1002, 3.1002, 3.1002, 3.1002, 3.1002, 3.1002, 3.1002, 3.1002, 3.1002, 3.1002, 3.1002, 3.1002, 3.1002, 3.1002, 3.1002, 3.1002, 3.1002, 3.1002, 3.1002, 3.1002, 3.1002, 3.1002, 3.1002, 3.1002, 3.1002, 3.1002, 3.1002, 3.1002, 3.1002, 3.1002, 3.1002, 3.1002, 3.1002, 3.1002, 3.1002, 3.1002, 3.1002, 3.1002, 3.0519, 3.0799, 3.0595, 3.0505, 2.8551, 3.0262, 2.9234, 3.0421, 3.0228, 2.8601, 2.5375, 2.6698, 3.0332, 2.7461, 2.461, 2.2415, 2.6709, 2.2892, 2.7369, 2.2137, 2.0767, 1.91, 2.0329, 2.22, 1.7213, 2.0007, 1.736, 1.7872, 1.8143, 1.5761, 2.1351, 2.0142, 1.8453, 1.5059, 1.0356, 1.3468, -0.3163, 0.4936, 1.2663, 3.1133, 3.1133, 3.1133, 3.1133, 3.1133, 3.1133, 3.1133, 3.1133, 3.1133, 3.1133, 3.1133, 3.1133, 3.1133, 3.1133, 3.1133, 3.1133, 3.1133, 3.1133, 3.1133, 3.1133, 3.1133, 3.1133, 3.1133, 3.1133, 3.1133, 3.1133, 3.1133, 3.1133, 3.1133, 3.1133, 3.1133, 3.1133, 3.1133, 3.1133, 3.1133, 3.1133, 3.1133, 3.1133, 3.1133, 3.1133, 3.1133, 3.1133, 3.1066, 3.1133, 3.1133, 3.1133, 3.1133, 3.1133, 3.1133, 3.1133, 3.1133, 3.1133, 3.1133, 3.1133, 3.1046, 3.103, 3.0992, 3.0493, 3.0406, 3.0166, 2.8877, 2.9389, 2.9358, 2.7571, 2.8322, 3.0388, 2.8581, 2.973, 2.7161, 2.8387, 2.9059, 2.5229, 2.625, 2.266, 2.4353, 1.918, 1.5647, 2.3413, 2.4545, 2.8019, 1.4069, 2.1715, 1.0477, 1.8576, 1.6137, 1.0049, 3.1376, 3.1376, 3.1376, 3.1376, 3.1376, 3.1376, 3.1376, 3.1376, 3.1376, 3.1376, 3.1376, 3.1376, 3.1376, 3.1376, 3.1376, 3.1376, 3.1376, 3.1376, 3.1376, 3.1376, 3.1376, 3.1376, 3.1376, 3.1376, 3.1376, 3.1376, 3.1376, 3.1376, 3.1376, 3.1376, 3.1376, 3.1376, 3.1376, 3.1376, 3.1376, 3.1376, 3.1376, 3.1376, 3.1376, 3.1376, 3.1376, 3.1376, 3.1376, 3.1376, 3.1376, 3.1376, 3.1376, 3.083, 3.1376, 3.1376, 3.1376, 3.1376, 3.1376, 3.1376, 3.1376, 3.1164, 3.1144, 2.961, 2.9688, 2.9951, 3.0972, 2.9817, 2.871, 2.9543, 3.0319, 2.8676, 2.5716, 2.7373, 2.4959, 2.0162, 2.8388, 2.9037, 1.7694, 2.596, 2.6188, 2.4464, 2.673, 2.4669, 1.8228, 2.3524, 1.585, 1.9681, 2.3286, 1.4239, 1.5439, 2.0156, 1.606, 1.5603, 1.7428, 1.4688, 1.572, 1.3357, 1.8035, 3.1438, 3.1438, 3.1438, 3.1438, 3.1438, 3.1438, 3.1438, 3.1438, 3.1438, 3.1438, 3.1438, 3.1438, 3.1438, 3.1438, 3.1438, 3.1438, 3.1438, 3.1438, 3.1438, 3.1438, 3.1438, 3.1438, 3.1438, 3.1438, 3.1438, 3.1438, 3.1438, 3.1438, 3.1438, 3.1438, 3.1416, 3.1438, 3.1438, 3.1438, 3.1438, 3.1438, 3.1438, 3.1438, 3.1438, 3.1438, 3.1438, 3.1438, 3.1342, 3.1438, 3.1438, 3.1438, 3.1438, 3.1438, 3.1438, 3.1438, 3.1438, 3.1438, 3.1438, 3.1438, 3.1438, 3.1286, 3.0785, 3.1249, 3.123, 3.0691, 3.1092, 3.099, 2.8991, 3.0822, 3.0676, 3.0215, 2.7853, 3.0022, 2.9229, 2.7267, 2.8488, 2.8831, 2.5091, 2.5723, 2.9797, 2.5972, 2.5986, 2.7602, 2.7542, 2.8396, 2.9626, 2.3607, 2.8077, 1.0041, 0.9375, 2.4918, 2.0756, 2.2447, 2.5496, 1.8312, 1.6813, 1.3604, 2.352, 1.9099, 0.5633, 3.1474, 3.1474, 3.1474, 3.1474, 3.1474, 3.1474, 3.1474, 3.1474, 3.1474, 3.1474, 3.1474, 3.1474, 3.1474, 3.1474, 3.1474, 3.1474, 3.1474, 3.1474, 3.1474, 3.1474, 3.1474, 3.1474, 3.1474, 3.1474, 3.1474, 3.1474, 3.1474, 3.1474, 3.1474, 3.1474, 3.1474, 3.1474, 3.1474, 3.1474, 3.1474, 3.1474, 3.1474, 3.1474, 3.1474, 3.1474, 3.1474, 3.1474, 3.1474, 3.1474, 3.1474, 3.1474, 3.1474, 3.1474, 3.1474, 3.1474, 3.1474, 3.1474, 3.1474, 3.1474, 3.1474, 3.1474, 3.1474, 3.1474, 3.1474, 3.1115, 3.047, 2.9726, 2.9883, 2.9945, 3.0221, 2.9607, 3.1131, 2.9871, 2.7579, 2.7731, 2.5511, 2.7145, 2.7239, 2.9013, 2.5145, 2.7685, 2.6339, 2.2161, 2.7654, 2.7884, 2.5949, 2.2165, 2.5644, 2.4824, 2.1357, 2.0936, 2.179, 1.5656, 1.8503, 1.5317, 1.8589, 0.3429, 0.2361, 2.2176, 2.327, 3.1474, 3.1474, 3.1474, 3.1474, 3.1474, 3.1474, 3.1474, 3.1474, 3.1474, 3.1474, 3.1474, 3.1474, 3.1474, 3.1474, 3.1474, 3.1474, 3.1474, 3.1474, 3.1474, 3.1474, 3.1474, 3.1474, 3.1474, 3.1474, 3.1474, 3.1474, 3.1474, 3.1474, 3.1474, 3.1474, 3.1474, 3.1474, 3.1474, 3.1414, 3.1474, 3.1474, 3.1474, 3.1474, 3.1474, 3.1474, 3.1474, 3.1474, 3.1474, 3.1474, 3.1474, 3.1474, 3.1474, 3.1474, 3.1474, 3.1474, 3.1474, 3.1474, 3.1289, 3.1248, 3.0817, 3.1305, 3.1277, 3.0623, 3.0732, 2.955, 2.9481, 2.8084, 2.7485, 2.528, 2.4725, 2.4108, 2.5015, 2.1365, 2.008, 2.5151, 2.4148, 2.1915, 1.2803, 1.6434, 0.6108, 1.1447, 0.1526, 1.6139, -0.0664, 0.4885, 0.7537, 0.8119, 1.5854, 3.1925, 3.1925, 3.1925, 3.1925, 3.1925, 3.1925, 3.1925, 3.1925, 3.1925, 3.1925, 3.1925, 3.1925, 3.1925, 3.1925, 3.1925, 3.1925, 3.1925, 3.1925, 3.1925, 3.1925, 3.1925, 3.1925, 3.1925, 3.1925, 3.1925, 3.1925, 3.1925, 3.1925, 3.1925, 3.1925, 3.1848, 3.1491, 3.1818, 3.1925, 3.1925, 3.1925, 3.1925, 3.1925, 3.1925, 3.1925, 3.1925, 3.1925, 3.1925, 3.1925, 3.1925, 3.1925, 3.1925, 3.1925, 3.1925, 3.1925, 3.1925, 3.1925, 3.1925, 3.167, 3.1639, 2.9319, 3.0565, 3.078, 3.0617, 2.7786, 2.7261, 2.931, 2.9958, 3.1083, 2.9563, 3.0207, 2.9545, 2.9093, 2.0764, 2.9093, 1.9179, 2.6405, 2.3343, 2.2588, 1.8135, 2.6281, 1.9708, 2.0123, 2.1033, 2.1732, 2.5726, 1.4003, 1.8822, 3.2051, 3.2051, 3.2051, 3.2051, 3.2051, 3.2051, 3.2051, 3.2051, 3.2051, 3.2051, 3.2051, 3.2051, 3.2051, 3.2051, 3.2051, 3.2051, 3.2051, 3.2051, 3.2051, 3.2051, 3.2051, 3.2051, 3.2051, 3.2051, 3.2051, 3.2051, 3.2051, 3.2051, 3.2051, 3.2051, 3.2051, 3.2051, 3.2051, 3.2051, 3.2051, 3.2051, 3.2051, 3.2051, 3.2051, 3.2051, 3.2051, 3.2051, 3.2051, 3.2051, 3.2051, 3.2051, 3.2051, 3.2051, 3.2051, 3.2051, 3.2051, 3.2051, 3.2051, 3.2051, 3.1813, 3.1318, 3.1586, 3.0806, 3.1773, 3.1746, 3.1432, 3.1445, 2.96, 3.0444, 3.0882, 2.9077, 2.8245, 2.5778, 2.4887, 2.8431, 2.9919, 2.8802, 2.5436, 2.5793, 2.8112, 1.5107, 2.8842, 2.5965, 1.1982, 2.2962, 2.8059, 2.3115, 2.2856, 2.0799, 1.355, 1.7971, 1.3286, 2.0898, 0.8674, 1.2085, 1.6374, 1.9029, 0.0941, 2.1309, 1.2278, 0.5143, 1.2894, 0.5084]}, \"token.table\": {\"Topic\": [11, 11, 1, 20, 14, 14, 11, 20, 19, 20, 15, 19, 4, 2, 2, 14, 20, 1, 2, 3, 4, 13, 17, 7, 11, 14, 1, 2, 3, 4, 13, 18, 9, 17, 1, 14, 14, 20, 14, 16, 4, 5, 13, 14, 16, 17, 19, 5, 7, 3, 1, 13, 14, 16, 19, 20, 3, 4, 10, 18, 5, 7, 2, 3, 4, 6, 10, 15, 18, 9, 1, 5, 10, 10, 7, 13, 20, 1, 5, 1, 6, 8, 16, 10, 10, 12, 7, 1, 4, 1, 4, 5, 6, 7, 4, 11, 15, 16, 16, 20, 9, 10, 19, 18, 20, 20, 11, 1, 2, 3, 7, 17, 18, 20, 16, 11, 20, 13, 14, 4, 7, 11, 18, 20, 18, 1, 20, 20, 5, 8, 1, 1, 11, 1, 7, 11, 13, 1, 4, 9, 12, 13, 18, 20, 1, 2, 4, 2, 13, 2, 1, 1, 1, 1, 4, 2, 1, 2, 5, 15, 17, 18, 20, 4, 2, 2, 2, 4, 7, 9, 13, 2, 2, 1, 2, 6, 10, 12, 13, 15, 17, 3, 4, 2, 2, 5, 14, 9, 9, 1, 4, 7, 18, 16, 5, 12, 19, 19, 6, 10, 1, 5, 9, 17, 20, 2, 3, 6, 8, 10, 13, 15, 10, 12, 16, 9, 10, 4, 1, 16, 20, 18, 18, 2, 4, 5, 9, 10, 11, 14, 10, 6, 10, 3, 9, 12, 16, 12, 15, 15, 16, 8, 1, 2, 16, 2, 3, 6, 8, 9, 10, 12, 12, 12, 4, 8, 9, 10, 19, 9, 4, 14, 17, 7, 10, 13, 14, 20, 15, 10, 3, 18, 10, 12, 15, 5, 8, 14, 2, 1, 3, 9, 18, 5, 10, 9, 17, 18, 1, 13, 20, 8, 10, 19, 20, 7, 11, 16, 18, 20, 4, 12, 16, 10, 3, 5, 6, 7, 13, 5, 6, 15, 19, 17, 4, 6, 15, 19, 6, 11, 3, 8, 8, 5, 6, 7, 9, 11, 13, 14, 16, 6, 10, 3, 5, 8, 1, 9, 14, 18, 4, 6, 12, 14, 16, 4, 11, 17, 13, 7, 14, 13, 5, 8, 8, 5, 13, 18, 19, 1, 2, 3, 5, 7, 10, 11, 14, 17, 18, 20, 6, 1, 17, 6, 8, 18, 18, 18, 8, 12, 14, 3, 6, 7, 15, 18, 10, 7, 1, 4, 5, 8, 9, 17, 18, 8, 2, 4, 7, 10, 13, 18, 20, 19, 6, 16, 10, 17, 14, 1, 1, 9, 1, 5, 8, 9, 10, 11, 18, 17, 14, 5, 5, 3, 4, 6, 7, 12, 13, 14, 17, 18, 20, 8, 14, 16, 4, 11, 13, 9, 12, 18, 19, 17, 18, 6, 14, 16, 16, 12, 8, 5, 8, 19, 1, 3, 18, 15, 7, 14, 2, 5, 13, 14, 12, 3, 3, 2, 3, 2, 3, 12, 3, 17, 17, 7, 16, 18, 14, 20, 1, 4, 7, 4, 1, 2, 3, 13, 18, 19, 5, 5, 19, 4, 7, 7, 7, 15, 14, 7, 10, 13, 17, 18, 20, 6, 19, 13, 14, 20, 4, 5, 18, 19, 20, 20, 14, 14, 9, 9, 6, 17, 7, 9, 14, 10, 20, 6, 7, 13, 16, 12, 5, 6, 6, 15, 13, 13, 13, 7, 11, 14, 16, 20, 2, 7, 20, 2, 3, 4, 5, 6, 17, 4, 4, 4, 6, 18, 4, 5, 8, 11, 13, 16, 18, 10, 13, 2, 9, 11, 14, 13, 13, 13, 16, 9, 15, 11, 12, 13, 17, 20, 13, 10, 12, 20, 6, 9, 1, 3, 4, 7, 6, 8, 10, 17, 18, 4, 7, 19, 1, 6, 7, 12, 15, 18, 14, 8, 12, 5, 19, 9, 12, 18, 20, 2, 3, 4, 11, 13, 17, 20, 13, 15, 3, 17, 1, 4, 1, 4, 7, 10, 4, 15, 15, 15, 7, 7, 7, 9, 10, 10, 10, 10, 3, 6, 12, 13, 16, 18, 20, 20, 16, 6, 7, 13, 13, 1, 15, 15, 19, 4, 18, 3, 11, 18, 19, 3, 3, 20, 12, 7, 9, 10, 11, 13, 14, 18, 20, 8, 10, 20, 4, 10, 11, 14, 17, 19, 20, 4, 1, 3, 4, 5, 6, 9, 10, 12, 18, 16, 10, 2, 6, 10, 13, 17, 4, 12, 3, 1, 3, 4, 18, 4, 3, 7, 8, 1, 4, 19, 2, 11, 11, 11, 11, 14, 6, 1, 5, 7, 9, 11, 18, 19, 10, 16, 18, 20, 1, 20, 7, 4, 7, 9, 11, 12, 13, 14, 16, 6, 8, 14, 16, 18, 16, 8, 4, 7, 14, 18, 6, 8, 1, 3, 4, 18, 18, 20, 15, 13, 4, 5, 17, 16, 15, 18, 20, 2, 9, 17, 2, 7, 17, 18, 7, 13, 14, 17, 11, 13, 20, 2, 1, 7, 11, 12, 16, 18, 19, 4, 5, 8, 10, 16, 18, 17, 14, 16, 6, 18, 3, 12, 10, 12, 3, 5, 7, 12, 7, 11, 11, 11, 11, 5, 18, 14, 18, 2, 3, 4, 11, 13, 20, 12, 14, 4, 8, 12, 14, 12, 4, 18, 7, 9, 20, 15, 15, 19, 18, 5, 9, 14, 3, 5, 9, 10, 12, 13, 3, 9, 18, 13, 9, 12, 13, 20, 4, 7, 2, 5, 7, 13, 18, 18, 11, 7, 11, 14, 16, 18, 11, 13, 16, 17, 19, 20, 7, 7, 7, 3, 6, 7, 8, 9, 10, 12, 13, 18, 9, 17, 12, 9, 15, 16, 13, 5, 7, 16, 18, 8, 17, 19, 20, 4, 2, 13, 20, 1, 3, 13, 7, 8, 3, 1, 5, 2, 20, 1, 2, 18, 9, 10, 13, 15, 16, 16, 1, 2, 11, 13, 2, 1, 6, 6, 18, 2, 6, 12, 16, 18, 2, 3, 9, 2, 9, 4, 10, 20, 14, 1, 3, 6, 9, 1, 2, 3, 4, 6, 7, 18, 2, 3, 2, 2, 11, 10, 13, 8, 10, 7, 13, 5, 12, 13, 14, 20, 3, 17, 7, 11, 14, 16, 18, 20, 3, 7, 5, 4, 7, 5, 6, 14, 18, 20, 17, 11, 13, 13, 1, 9, 1, 2, 5, 6, 10, 2, 3, 5, 6, 9, 13, 17, 18, 20, 1, 3, 4, 9, 18, 4, 3, 8, 10, 12, 13, 15, 12, 5, 9, 2, 9, 10, 9, 8, 16, 1, 2, 3, 7, 13, 14, 17, 18, 15, 19, 11, 18, 2, 10, 12, 18, 1, 2, 4, 7, 12, 10, 12, 13, 17, 16, 6, 14, 20, 12, 20, 9, 10, 12, 15, 9, 2, 3, 4, 6, 11, 13, 17, 1, 4, 19, 5, 6, 11, 20, 3, 2, 18, 12, 17, 17, 11, 17, 17, 9, 8, 10, 4, 5, 20, 12, 9, 1, 15, 5, 8, 8, 1, 6, 17, 13, 7, 1, 17, 11, 12, 14, 4, 8, 14, 9, 13, 20, 6, 2, 7, 8, 8, 2, 3, 2, 3, 6, 10, 12, 13, 15, 5, 18, 3, 1, 4, 7, 3, 11, 13, 14, 20, 13, 20, 20, 2, 3, 5, 6, 7, 8, 9, 10, 12, 15, 16, 17, 18, 1, 1, 1, 20, 5, 19, 4, 9, 12, 16, 18, 1, 2, 4, 5, 11, 13, 17, 18, 6, 9, 10, 15, 13, 4, 4, 3, 4, 10, 12, 15, 20, 4, 9, 14, 17, 1, 13, 6, 10, 13, 4, 1, 3, 4, 6, 10, 12, 20, 2, 6, 17, 2, 6, 7, 8, 12, 15, 19, 14, 14, 7, 11, 13, 14, 12, 8, 11, 3, 14, 1, 3, 8, 9, 10, 12, 14, 18, 10, 13, 6, 18, 6, 1, 2, 3, 6, 9, 15, 3, 13, 3, 10, 12, 12, 9, 16, 9, 4, 6, 7, 9, 10, 11, 12, 13, 14, 16, 18, 6, 1, 2, 5, 10, 12, 10, 18, 8, 17, 1, 17, 4, 5, 5, 12, 12, 13, 19, 9, 12, 18, 19, 10, 2, 3, 18, 2, 2, 10, 15, 19, 10, 11, 14, 11, 14, 2, 3, 6, 7, 9, 17, 20, 2, 14, 15, 2, 13, 20, 2, 4, 20, 17, 17, 1, 5, 7, 9, 11, 13, 16, 18, 11, 4, 9, 14, 18, 18, 9, 11, 13, 14, 16, 5, 5, 7, 9, 11, 13, 14, 16, 18, 6, 15, 18, 5, 20, 6, 6, 14, 18, 5, 3, 5, 6, 16, 17, 19, 9, 14, 16, 5, 11, 13, 16, 19, 20, 11, 6, 11, 8, 1, 1, 1, 4, 5, 7, 13, 17, 18, 7, 11, 19, 2, 8, 15, 4, 1, 3, 3, 1, 3, 1, 3, 13, 3, 10, 15, 17, 18, 6, 3, 8, 12, 13, 16, 17, 18, 1, 15, 20, 6, 16, 13, 3, 10, 13, 14, 5, 13, 15, 8, 9, 20, 3, 7, 11, 8, 12, 13, 16, 19, 20, 3, 6, 10, 1, 3, 4, 6, 12, 2, 3, 6, 9, 15, 16, 17, 18, 4, 18, 2, 3, 7, 5, 19, 3, 19, 8, 1, 3, 9, 12, 13, 2, 4, 5, 6, 9, 11, 13, 18, 19, 18, 9, 12, 16, 16, 8, 10, 9, 3, 4, 18, 7, 8, 8, 10, 1, 3, 5, 6, 7, 10, 12, 13, 10, 12, 4, 4, 9, 17, 10, 11, 4, 4, 4, 7, 4, 7, 11, 1, 2, 3, 4, 6, 9, 3, 9, 12, 17, 18, 9, 10, 7, 8, 10, 13, 15, 16, 17, 19, 20, 9, 9, 1, 2, 3, 4, 5, 12, 18, 10, 6, 10, 11, 12, 20, 2, 19, 2, 5, 6, 7, 9, 10, 12, 13, 15, 18, 10, 3, 1, 3, 7, 8, 9, 10, 13, 18, 6, 9, 10, 12, 13, 15, 16, 18, 8, 19, 1, 3, 4, 12, 6, 9, 10, 12, 13, 14, 16, 18, 9, 1, 11, 16, 11, 13, 14, 14, 4, 5, 11, 14, 4, 18, 14, 17, 15, 7, 11, 16, 20, 10, 2, 3, 4, 5, 6, 10, 11, 14, 15, 17, 5, 6, 1, 3, 5, 12, 19, 1, 13, 20, 9, 13, 1, 5, 5, 5, 8, 9, 11, 12, 14, 17, 18, 6, 7, 1, 17, 17, 3, 17, 3, 1, 11, 2, 4, 7, 14, 2, 18, 12, 6, 17, 18, 6, 18, 4, 5, 10, 14, 3, 5, 6, 7, 9, 5, 14, 1, 3, 4, 5, 18, 14, 20, 7, 11, 13, 17, 20, 10, 1, 2, 6, 7, 11, 18, 2, 14, 14, 19, 16, 11, 14, 16, 1, 18, 8, 10, 12, 17, 12, 1, 9, 12, 12, 1, 4, 5, 4, 4, 8, 3, 7, 9, 10, 15, 9, 10, 16, 16, 11, 13, 14, 2, 12, 14, 16, 20, 14, 2, 7, 11, 13, 11, 2, 8, 13, 6, 14, 16, 18, 15, 8, 9, 17, 2, 2, 3, 15, 10, 11, 5, 14, 11, 12, 11, 14, 18, 20, 2, 15, 1, 3, 4, 5, 19, 11, 14, 18, 12, 1, 16, 1, 12, 20, 15, 3, 5, 6, 2, 9, 19, 19, 6, 17, 4, 5, 6, 7, 5, 2, 5, 5, 1, 1, 12, 2, 1, 3, 7, 8, 13, 17, 7, 14, 15, 17, 18, 8, 1, 5, 8, 10, 5, 5, 6, 7, 11, 19, 19, 11, 13, 17, 19, 1, 5, 6, 7, 16, 8, 6, 7, 10, 12, 13, 15, 16, 20, 3, 8, 10, 19, 16, 18, 2, 4, 6, 7, 9, 10, 13, 14, 17, 18, 2, 19, 4, 7, 11, 17, 5, 1, 4, 5, 6, 7, 10, 11, 13, 14, 16, 18, 20, 20, 8, 1, 5, 3, 2, 9, 18, 15, 5, 10, 3, 5, 11, 13, 16, 5, 11, 16, 18, 4, 19, 5, 12, 19, 7, 2, 3, 4, 6, 12, 13, 15, 16, 18, 15, 16, 4, 5, 14, 20, 20, 9, 9, 5, 7, 9, 10, 15, 16, 17, 19, 20, 15, 15, 19, 17, 10, 8, 3, 18, 14, 4, 4, 8, 12, 13, 11, 13, 16, 16, 18, 1, 1, 13, 12, 7, 9, 11, 18, 18, 4, 6, 16, 11, 14, 11, 1, 3, 10, 8, 8, 1, 2, 3, 4, 7, 13, 18, 2, 3, 4, 6, 7, 18, 7, 14, 8, 5, 7, 11, 16, 13, 2, 13, 18, 6, 8, 10, 12, 13, 13, 16, 14, 17, 9, 4, 8, 10, 10, 10, 8, 8, 16, 13, 16, 4, 9, 9, 18, 11, 1, 8, 10, 8, 10, 8, 8, 6, 2, 3, 4, 6, 7, 8, 9, 10, 13, 17, 18, 4, 7, 4, 1, 19, 1, 4, 2, 20, 17, 6, 11, 13, 20, 5, 11, 14, 1, 2, 10, 20, 13, 15, 19, 20, 2, 15, 18, 6, 7, 10, 13, 17, 11, 20, 1, 2, 3, 4, 6, 9, 10, 12, 14, 18, 8, 1, 8, 3, 3, 19, 2, 6, 4, 5, 7, 2, 6, 10, 13, 14, 16, 17, 6, 12, 14, 16, 8, 7, 9, 6, 13, 14, 18, 20, 5, 7, 9, 11, 13, 16, 20, 4, 5, 9, 11, 16, 3, 3, 1, 6, 7, 2, 5, 9, 1, 2, 2, 4, 5, 6, 7, 9, 11, 13, 17, 18, 8, 11, 4, 5, 6, 7, 8, 1, 4, 8, 12, 14, 16, 8, 4, 9, 14, 16, 13, 7, 16, 14, 6, 8, 2, 4, 7, 11, 13, 15, 17, 18, 20, 2, 3, 16, 17, 11, 11, 1, 16, 12, 12, 1, 5, 8, 16, 15, 9, 14, 2, 7, 6, 4, 19, 10, 16, 5, 18, 3, 6, 7, 13, 15, 17, 13, 13, 17, 11, 2, 3, 6, 7, 9, 13, 15, 18, 19, 20, 2, 12, 10, 2, 4, 6, 13, 17, 16, 16, 17, 18, 20, 16, 5, 7, 9, 11, 10, 2, 3, 17, 1, 3, 4, 6, 8, 13, 15, 13, 1, 5, 8, 11, 14, 18, 5, 2, 5, 6, 9, 11, 18, 5, 18, 19, 19, 20, 2, 17, 18, 19, 20, 18, 6, 1, 2, 4, 5, 7, 8, 9, 13, 14, 18, 3, 13, 1, 9, 4, 10, 15, 12, 12, 9, 10, 7, 14, 19, 4, 14, 1, 12, 2, 5, 8, 10, 14, 15, 17, 9, 19, 12, 11, 5, 4, 9, 11, 14, 3, 10, 19, 20, 7, 17, 19, 1, 2, 3, 4, 10, 13, 6, 10, 11, 12, 13, 14, 18, 20, 1, 5, 1, 5, 7, 14, 19, 2, 7, 7, 12, 3, 8, 4, 9, 12, 18, 16, 3, 5, 9, 13, 10, 3, 9, 18, 1, 3, 6, 10, 13, 7, 9, 17, 4, 5, 13, 19, 9, 7, 2, 9, 6, 11, 13, 14, 20, 3, 14, 14, 14, 17, 8, 10, 12, 13, 18, 4, 5, 7, 5, 1, 4, 13, 7, 1, 7, 6, 20, 6, 11, 16, 4, 13, 1, 4, 1, 3, 5, 7, 8, 11, 13, 16, 17, 1, 7, 14, 15, 11, 20, 5, 6, 7, 11, 16, 18, 2, 3, 6, 9, 11, 13, 14, 20, 18, 18, 20, 10, 10, 5, 11, 13, 16, 16, 1, 12, 9, 6, 12, 16, 20, 14, 13, 11, 3, 15, 18, 9, 12, 13, 14, 18, 20, 20, 18, 18, 14, 6, 1, 2, 6, 9, 12, 13, 18, 20, 15, 18, 20, 6, 11, 13, 14, 9, 1, 16, 17, 2, 4, 6, 15, 3, 2, 6, 14, 16, 1, 5, 7, 9, 11, 13, 17, 18, 9, 13, 9, 1, 2, 3, 4, 9, 11, 15, 16, 2, 9, 12, 14, 11, 12, 12, 6, 9, 8, 9, 20, 10, 2, 7, 11, 13, 14, 17, 20, 8, 8, 9, 10, 1, 3, 6, 7, 8, 9, 10, 11, 12, 13, 18, 20, 10, 1, 2, 4, 5, 13, 1, 2, 4, 5, 7, 3, 10, 11, 12, 17, 16, 8, 4, 5, 10, 18, 19, 20, 7, 6, 8, 12, 13, 8, 1, 3, 4, 8, 10, 12, 18, 2, 5, 9, 18, 6, 10, 13, 16, 19, 20, 15, 6, 2, 13, 17, 6, 6, 4, 6, 11, 2, 5, 7, 8, 11, 13, 16, 17, 19, 8, 9, 11, 13, 19, 13, 1, 2, 4, 6, 9, 11, 14, 17, 4, 9, 18, 5, 7, 12, 17, 13, 8, 10, 14, 16, 18, 18, 14, 18, 2, 6, 7, 9, 11, 13, 14, 18, 13, 10, 1, 2, 3, 4, 6, 10, 14, 7, 7, 11, 14, 16, 18, 13, 18, 6, 18, 3, 12, 3, 5, 8, 10, 14, 20, 5, 7, 9, 11, 14, 15, 15, 16, 3, 4, 11, 9, 12, 13, 14, 18, 20, 4, 12, 19, 19, 7, 11, 13, 17, 2, 2, 3, 4, 6, 13, 15, 20, 2, 20, 5, 13, 1, 2, 3, 4, 5, 6, 7, 8, 9, 10, 12, 13, 17, 18, 20, 16, 12, 9, 5, 15, 16, 15, 18, 5, 17, 8, 8, 10, 9, 12, 3, 6, 8, 10, 15, 16, 17, 12, 1, 18, 1, 7, 1, 12, 2, 3, 6, 14, 1, 3, 7, 2, 3, 16, 18, 20, 1, 1, 1, 3, 6, 7, 9, 10, 12, 13, 20, 4, 5, 6, 8, 16, 12, 19, 2, 9, 11, 12, 13, 14, 18, 7, 2, 3, 6, 10, 18, 5, 6, 18, 18, 17, 4, 13, 18, 20, 2, 5, 8, 9, 16, 19, 20, 3, 11, 18, 13, 9, 15, 12, 13, 16, 19, 6, 7, 13, 18, 7, 11, 13, 18, 20, 20, 19, 4, 11, 18, 13, 19, 13, 2, 5, 12, 1, 8, 9, 8, 8, 12, 9, 20, 11, 19, 4, 3, 7, 11, 13, 14, 16, 14, 14, 16, 20, 14, 13, 1, 4, 13, 14, 18, 1, 1, 14, 19, 4, 12, 12, 4, 17, 12, 3, 4, 6, 20, 1, 5, 19, 5, 8, 3, 5, 6, 8, 10, 1, 6, 9, 18, 1, 4, 4, 12, 11, 20, 20, 8, 10, 13, 11, 20, 20, 11, 8, 16, 18, 7, 18, 11, 8, 1, 3, 5, 18, 2, 3, 11, 18, 1, 3, 5, 6, 7, 9, 11, 13, 14, 16, 18, 20, 13, 11, 1, 2, 3, 5, 9, 13, 14, 15, 19, 3, 6, 12, 13, 1, 6, 16, 1, 3, 4, 7, 11, 15, 17, 20, 2, 3, 6, 15, 20, 6, 11, 11, 11, 13, 11, 11, 2, 20, 11, 11, 13, 20, 20, 10, 1, 4, 5, 6, 7, 8, 9, 10, 13, 16, 18, 15, 5, 19], \"Freq\": [1.0061230585523615, 0.9955322895149682, 1.0195764745550695, 0.9581274501984192, 1.0367610983492739, 1.1165119520684488, 0.9798369606262187, 1.0199421244047686, 1.0009852784540674, 0.9581274501984189, 1.0371827520224943, 1.0445063775172878, 1.002600708945513, 1.0104630828839918, 1.0224924052992774, 0.19353924754081436, 0.8128648396714203, 0.10948597034786643, 0.5811178426155987, 0.08421997719066648, 0.06737598175253319, 0.033687990876266595, 0.12632996578599973, 0.39044868435474583, 0.39044868435474583, 0.21865126323865766, 0.1249141516829062, 0.24202116888563077, 0.24202116888563077, 0.3747424550487186, 0.015614268960363276, 0.007807134480181638, 0.1655152935124507, 0.8275764675622534, 0.98036199476449, 1.0126503751318487, 1.0367610983492739, 0.991166327791468, 1.0367610983492739, 1.0546265862879118, 0.044587277719076404, 0.2101971663899316, 0.1465010553626796, 0.09554416654087801, 0.127392222054504, 0.38217666616351204, 1.0510345423767709, 0.13717302302230996, 0.8687624791412965, 1.2904953049259267, 0.02859558980650514, 0.07625490615068037, 0.02859558980650514, 0.18110540210786588, 0.33361521440922665, 0.3431470776780617, 0.29741812861154265, 0.029741812861154265, 0.1784508771669256, 0.47586900577846825, 0.22564647638451238, 0.7709587943137506, 0.5920228856795501, 0.16486713272088738, 0.07493960578222153, 0.13489129040799877, 0.022481881734666462, 0.007493960578222153, 0.9826354640599427, 1.1107435850810312, 0.0467642318011252, 0.07794038633520867, 0.8885204042213788, 1.0244975198296193, 0.8059648763256375, 0.0879234410537059, 0.10257734789599023, 0.910336137995598, 1.345399165881442, 0.06319728733318589, 0.8531633789980094, 0.09479593099977882, 1.431278938533595, 0.9927301548736622, 0.978252840115088, 1.0321341555417858, 1.0145445596989864, 0.8496470621292246, 1.011597126074635, 0.1704194689014209, 0.20915116637901654, 0.4647803697311479, 0.09295607394622958, 0.06197071596415305, 1.017344837018241, 1.1821945937990248, 0.9603544000208282, 0.9956723050668485, 0.9908854189847964, 0.7185955876488143, 1.1107435850810312, 0.07667321886389376, 0.9200786263667251, 1.200998900517708, 0.9581274501984189, 1.0199421244047686, 1.0199325907285706, 0.07200053612185156, 0.28800214448740624, 0.166155083358119, 0.044308022228831734, 0.3655411833878618, 0.022154011114415867, 0.044308022228831734, 0.9726693113485106, 0.9263331093385141, 0.07125639302603955, 0.06806562002854173, 0.9334713603914295, 0.07119713073632071, 0.05339784805224053, 0.703071666021167, 0.026698924026120265, 0.14239426147264142, 1.200998900517708, 0.021102186224988703, 0.9707005663494803, 1.0050287939144256, 0.8299506246010213, 0.17024628196944025, 1.0035201521211314, 0.9974117685864812, 1.0508396389324666, 0.046635049853808466, 0.09327009970761693, 0.20985772434213812, 0.6528906979533186, 0.17677565841986398, 0.164148825675588, 0.202029323908416, 0.151521992931312, 0.107328078326346, 0.08838782920993199, 0.101014661954208, 1.0083723374720468, 0.8548032117569226, 0.13955970804194656, 0.9794971260626992, 0.015547573429566655, 1.0158956801037982, 0.9933373741069612, 0.9961325805177614, 0.9965785089636019, 0.9581151261666224, 0.03992146359027594, 1.0190263293491104, 0.018024168845094547, 0.0036048337690189097, 0.001441933507607564, 0.9466293477443657, 0.020908035860309676, 0.009372567799449165, 1.1497529402381028, 1.011597126074635, 1.0104630828839918, 1.002042557193292, 0.5066451742012682, 0.0857399525571377, 0.19486352853894934, 0.10912357598181162, 0.10132903484025364, 1.0067617529100577, 1.4314893674189886, 0.03306320000104961, 0.1983792000062977, 0.2049918400065076, 0.13225280000419845, 0.006612640000209923, 0.07273904000230914, 0.24466768000776715, 0.09257696000293891, 0.8667163110164523, 0.15758478382117316, 1.012164199185143, 1.0001672436115203, 1.0206476430824731, 1.0367610983492739, 0.9917353438223493, 0.9256196542341928, 0.7880975338641287, 0.07230252604258063, 0.11568404166812898, 0.028921010417032246, 1.0031185723055964, 0.996591974726994, 0.12600913967412886, 0.882063977718902, 0.9384236985506881, 0.45159206106707234, 0.5450249012878459, 0.9930939687224704, 1.345399165881442, 0.0962422551669043, 0.1924845103338086, 0.737857289612933, 0.023260605204004664, 0.07753535068001555, 0.5427474547601088, 0.023260605204004664, 0.10079595588402021, 0.02713737273800544, 0.20159191176804042, 0.9998849668006795, 0.9419252065863246, 0.05540736509331321, 0.0908858632058541, 0.9088586320585409, 0.9894177238451913, 0.10122115787027396, 0.8435096489189496, 0.06748077191351597, 0.7205993403106247, 1.080899010465937, 0.3180354359005502, 0.044035675740076184, 0.15657129152027088, 0.08807135148015237, 0.13210702722022857, 0.20060696726034707, 0.06849994004011851, 1.006259074111351, 0.0881416362259152, 0.9254871803721095, 1.00910911061877, 0.09083070200971285, 0.1589537285169975, 0.7266456160777028, 0.905750381393812, 0.960354400020828, 0.9972911077139367, 1.431278938533595, 0.9064523307358883, 0.8496470621292246, 0.9922246123329028, 1.0129050949622365, 0.047601369520971624, 0.9520273904194325, 0.5315453146809931, 0.05014578440386727, 0.04011662752309381, 0.23568518669817617, 0.14542277477121507, 0.9983270778346159, 1.0226213983478523, 0.5745790561855236, 0.008092662763176389, 0.008092662763176389, 0.10520461592129306, 0.3075211850007028, 0.9800678691891453, 0.9688998447792773, 1.007962178950683, 1.0306894082894391, 0.24984889858433765, 0.13572038935445502, 0.1727350409965791, 0.30228632174401343, 0.13880494365796536, 0.960354400020828, 1.0215787234768285, 0.9678714786944451, 1.0088390764348747, 0.9486088146570549, 0.9770063053399831, 0.9934700689870634, 0.12838122248650188, 0.03209530562162547, 0.8344779461622622, 1.0736170255642414, 0.18052183932471527, 0.313537931458716, 0.13301609213400073, 0.36104367864943054, 1.0090493744110813, 1.0215787234768285, 0.12938310291018454, 0.8409901689161996, 0.03018939067904306, 0.8455926135033663, 0.08455926135033665, 0.06341944601275248, 0.7206976121703147, 0.27719138929627485, 0.7428099082643425, 0.23634860717501807, 0.0532444022667433, 0.08874067044457216, 0.576814357889719, 0.15973320680022987, 0.12423693862240102, 1.017344837018241, 1.012679245863915, 1.0157463434754543, 1.0007301780997502, 0.12875566396325236, 0.2178942005531963, 0.2079899187098692, 0.3961712737330842, 0.03961712737330842, 0.9609994042010299, 1.0211181046773645, 1.016845835316171, 1.0009852784540672, 0.993879072279102, 0.02191711780481371, 0.08766847121925483, 0.8766847121925484, 0.02191711780481371, 0.9506961664237531, 0.7881297291993499, 0.8603302032839512, 1.004979757989789, 0.9748638273952006, 0.0959704049025434, 0.10161572283798713, 0.022581271741774916, 0.11290635870887458, 0.07903445109621221, 0.2879112147076302, 0.15806890219242442, 0.14677826632153695, 0.9747036453738478, 1.034845979625878, 0.8603302032839512, 1.345399165881442, 1.087742796883066, 0.083542569534377, 0.02088564238359425, 0.8771969801109584, 0.02088564238359425, 1.002600708945513, 0.34315733734449655, 0.245774849719707, 0.18085319130318062, 0.23186306577330848, 1.356459782690988, 1.0030742007991724, 0.9938790722791019, 1.2752187986435308, 0.9694536903790317, 1.0022023950709646, 1.0143785898300814, 0.03197646434656529, 0.9592939303969589, 0.9888570880755144, 0.6028481495084025, 0.07009862203586074, 0.01401972440717215, 0.32245366136495945, 0.12225447680255663, 0.027605849600577305, 0.06704277760140202, 0.23267787520486585, 0.141972940802969, 0.007887385600164944, 0.08676124160181439, 0.019718464000412363, 0.11436709120239169, 0.07493016320156697, 0.11042339840230922, 0.9190062942096281, 1.0195764745550695, 1.0306894082894391, 0.3586485313832092, 0.5685891351197219, 0.06998020124550423, 0.9921295265146283, 1.018238198265013, 1.0459065354644865, 0.998519968915425, 1.0001079282056127, 0.018934593915592483, 0.586972411383367, 0.17041134524033236, 0.15147675132473987, 0.06627107870457369, 0.9978871946392395, 0.9694536903790317, 0.14620161625493408, 0.4472049438386219, 0.16340180640257337, 0.07740085566437686, 0.09460104581201617, 0.025800285221458955, 0.04300047536909826, 1.087742796883066, 0.26095586203353355, 0.3627922959978393, 0.028641497052461, 0.04137105129799922, 0.11774837677122856, 0.1559370395078432, 0.03500627417523011, 0.9806416816699094, 0.9802733804902698, 0.9908854189847964, 1.0276595492118097, 0.9974413628607476, 1.1165119520684488, 0.8496470621292246, 1.0924033655947176, 1.0097668955282102, 0.33077723019228156, 0.1831088238564416, 0.04725389002746879, 0.33668396644571513, 0.011813472506867198, 0.005906736253433599, 0.08269430754807039, 0.9541239093879379, 1.0367610983492739, 0.9866260549797241, 0.8969327772542948, 0.07049745213518614, 0.06168527061828787, 0.0793096336520844, 0.10134008744433008, 0.1277766319950249, 0.27758371778229546, 0.06168527061828787, 0.04846699834294047, 0.02203045379224567, 0.1542131765457197, 0.08980157358646002, 0.02993385786215334, 0.8680818780024468, 0.018129442579061076, 0.7614365883205653, 0.21755331094873293, 0.03763966840288484, 0.03763966840288484, 0.03763966840288484, 0.8657123732663512, 0.9637615246342808, 0.9965735557487363, 0.7708041846355803, 0.04342558786679326, 0.18455874843387135, 0.9541859590223966, 1.0567087782927806, 0.9936112086912622, 0.11652458614118441, 0.6991475168471064, 0.1812604673307313, 0.25403788413021183, 0.5246434563558723, 0.22090250793931465, 0.9603544000208282, 0.5692126536746327, 0.4269094902559745, 0.6968023188493139, 0.06700022296628018, 0.13400044593256036, 0.10720035674604829, 0.9906644796494819, 0.9961718143287855, 1.0027296852068122, 0.10518405967689987, 0.8940645072536488, 0.10881721769136804, 0.8860830583439969, 0.9906644796494819, 0.7966492878548197, 0.20507803449728032, 1.325172096372136, 0.9930989023394958, 0.4721674975477492, 0.5266483626494126, 1.1165119520684488, 0.9581274501984192, 0.25055223859351927, 0.598541458862296, 0.15311525691826178, 1.0076558385704482, 0.13568223300418114, 0.755297763723275, 0.0633183754019512, 0.03618192880111497, 0.004522741100139371, 1.501477917681101, 0.9732674817014687, 0.9884565300353452, 1.0089931606816998, 0.7493486474085711, 0.2572390879163751, 1.0028831279783086, 1.003589383702237, 0.960354400020828, 0.9961038003747925, 0.28706546292896234, 0.028706546292896238, 0.244005643489618, 0.057413092585792476, 0.06458972915901653, 0.32294864579508265, 0.9802733804902698, 1.0009852784540672, 0.5272031947065955, 0.24809562103839786, 0.22483665656604807, 0.23777985706933177, 0.06484905192799957, 0.12969810385599914, 0.5620251167093296, 0.9772899992023873, 1.0099181231821173, 1.0367610983492739, 1.0367610983492739, 1.1107435850810312, 0.9968211660983615, 1.0721740099112327, 1.0053029696616205, 0.7494363283922127, 0.20885930463389535, 0.036857524347158006, 0.08972597395487171, 0.8972597395487171, 0.30907943039009017, 0.21563681190006292, 0.014375787460004195, 0.46002519872013425, 0.905750381393812, 1.0763193327051537, 0.9425705581637212, 0.8634421300338074, 0.1381507408054092, 1.0067516831396297, 1.0626823322029424, 1.0108441696564572, 0.1657813962578817, 0.1023943918063387, 0.28280355832226883, 0.26817578806422043, 0.17553324309658064, 0.01467646637369673, 0.04402939912109019, 0.924617381542894, 1.008091103816189, 0.8603302032839512, 0.7445817207394346, 0.18614543018485866, 0.062048476728286214, 1.0306894082894391, 0.9865162055934458, 1.0020693890149641, 0.9688998447792773, 1.0211181046773645, 0.9481570267245062, 1.0047850242155467, 0.06737285627754135, 0.16843214069385337, 0.3958155306305554, 0.03368642813877067, 0.2947562462142434, 0.04210803517346334, 0.06894489713170161, 0.9652285598438225, 0.9969300951667955, 0.9256196542341928, 0.9851621614991873, 0.9923354463779196, 1.0143785898300812, 0.9994958151530375, 0.9188216922532532, 0.05104564956962518, 1.0200706393601306, 0.960354400020828, 0.1090627748700748, 0.26486673897018165, 0.272656937175187, 0.272656937175187, 0.07790198205005343, 1.00445316331511, 0.9486088146570548, 0.9090533495379539, 0.08264121359435946, 0.8343239563997341, 0.16336413132302485, 0.27042948001287265, 0.08112884400386179, 0.6219878040296071, 0.027042948001287263, 0.30136699950644424, 0.0975010880756143, 0.15068349975322212, 0.39886808758205855, 0.06204614695720911, 0.8407709137713602, 0.16014684071835433, 0.7507389588405505, 0.09883773050980019, 0.4043361702673644, 0.07188198582530923, 0.2695574468449096, 0.12579347519429115, 0.03594099291265462, 0.9991972904380683, 0.16834628911961974, 0.8417314455980988, 1.0090493744110816, 1.072484226915072, 0.10515964989336207, 0.1314495623667026, 0.052579824946681036, 0.709827636780194, 0.22640517066692017, 0.03903537425291727, 0.03903537425291727, 0.02342122455175036, 0.10149197305758491, 0.04684244910350072, 0.5152669401385079, 0.9756066097460178, 0.08130055081216815, 0.9832345180388012, 1.013366897225751, 0.13400325983213202, 0.865867217376853, 0.12211210730715587, 0.6868806036027518, 0.1984321743741283, 1.0215787234768285, 0.904306521793992, 0.9603544000208282, 1.4405316000312423, 1.016845835316171, 0.9930989023394956, 0.9939968217810323, 0.9914867287967369, 1.1107435850810312, 0.9943949281674205, 0.9873275417859143, 0.9486088146570548, 0.9757119236472566, 0.9926886960968668, 0.22390774434261929, 0.007222830462665138, 0.3394730317452615, 0.209462083417289, 0.11556528740264221, 0.10111962647731193, 1.014487888445385, 0.9759737854897561, 0.913128057365127, 0.045656402868256354, 0.045656402868256354, 1.0284022569705895, 0.9974117685864812, 1.0083721200218694, 1.047659345477267, 1.0009852784540676, 0.8477841317731645, 0.14616967789192492, 0.03155694629354435, 0.0631138925870887, 0.09467083888063305, 0.7889236573386087, 0.9678714786944451, 1.0323962439407415, 0.9581274501984189, 1.0567087782927806, 0.2696903393608187, 0.17979355957387913, 0.03595871191477583, 0.017979355957387914, 0.20376603418372968, 0.16780732226895387, 0.017979355957387914, 0.10188301709186484, 0.11172355047227836, 0.5266967379407408, 0.35113115862716054, 0.2348211863875793, 0.18887791079000943, 0.02041923359891994, 0.005104808399729985, 0.34712697118163893, 0.16845867719108948, 0.04083846719783988, 1.0851678261527906, 0.04244515209429201, 0.2213211502059512, 0.10611288023573003, 0.2213211502059512, 0.10914467681389374, 0.07276311787592916, 0.0788267110322566, 0.051540541828783155, 0.09701749050123888, 1.0305208357441882, 1.0016037205038177, 0.09683781491911346, 0.7069160489095282, 0.009683781491911346, 0.08715403342720211, 0.09683781491911346, 0.1253344348315551, 0.8522741568545746, 1.1061388327936514, 0.1707548574587304, 0.3504968126784466, 0.43138069252731887, 0.04493548880492905, 1.0076558385704482, 0.8603302032839512, 1.0204775688200332, 1.0459065354644865, 0.07607561498840644, 0.9129073798608772, 1.0009852784540674, 0.9434680109006366, 0.0496562111000335, 1.26100756671896, 1.5762594583986997, 1.0508396389324663, 1.0367610983492739, 0.9651877523799648, 0.0774697103223993, 0.4869524648836528, 0.1217381162209132, 0.011067101474628471, 0.16600652211942707, 0.1217381162209132, 0.011067101474628471, 0.03480739816688866, 0.11602466055629553, 0.10442219450066596, 0.7425578275602913, 0.03864298499182151, 0.9660746247955379, 0.988278033881537, 0.09228712944965924, 0.1561782190686541, 0.2910594082643099, 0.056792079661328765, 0.08518811949199315, 0.021297029872998287, 0.09228712944965924, 0.19877227881465068, 0.9802733804902698, 1.0018683655501923, 0.06939517040539875, 0.9021372152701836, 0.06939517040539875, 1.0409301371153419, 0.9892567507246627, 0.10075341536728591, 0.2931008447048317, 0.5129264782334555, 0.09159401397025992, 1.5316771570160468, 1.007169256373209, 0.11076137993915196, 0.7236410156024594, 0.14768183991886927, 0.014768183991886927, 1.0149286483248234, 0.9581274501984192, 0.9603544000208281, 1.0067516831396297, 0.04273320831106658, 0.9401305828434646, 1.0601376770977087, 1.0223420989525678, 0.6708129246348252, 0.098167745068511, 0.2454193626712775, 0.2642559385303887, 0.052851187706077746, 0.6870654401790106, 0.28358382474479993, 0.12603725544213332, 0.5986769633501332, 0.9988505707275986, 0.0997593322813878, 0.11789739269618557, 0.7708675676289056, 1.0601376770977087, 0.18656972566180519, 0.4120081441698198, 0.4042344056005779, 1.0306723445416717, 0.04218916867814156, 0.06961212831893357, 0.07594050362065481, 0.0675026698850265, 0.056955377715491105, 0.02531350120688494, 0.6602604898129154, 0.22627416715872942, 0.04525483343174588, 0.44123462595952234, 0.16970562536904707, 0.04525483343174588, 0.06788225014761883, 0.9816089602756565, 1.0367610983492739, 0.9541859590223966, 0.3224013314338587, 0.6649527460823335, 1.0139605967275138, 0.9838323108243131, 0.9898526761638835, 1.0078436324757734, 0.1005153202559337, 0.02010306405118674, 0.2613398326654276, 0.6231949855867889, 1.4541805355685475, 0.9632696690214277, 0.9851621614991873, 1.1821945937990248, 1.0061230585523615, 0.9544391883814748, 0.056143481669498514, 0.9769479580598927, 1.1086143697086535, 0.06414721583816285, 0.07697665900579542, 0.01282944316763257, 0.11546498850869313, 0.02565888633526514, 0.6927899310521588, 0.2981611612076389, 0.7003320298132915, 0.03239013988723928, 0.019434083932343565, 0.14899464348130068, 0.7967974412260862, 1.0567087782927806, 0.6184511940992002, 0.38343974034150413, 0.9694536903790317, 0.9719006369459023, 0.9581274501984192, 0.9602280367980902, 0.9603544000208282, 0.9609458673159046, 0.9007491753882808, 0.8399563393350951, 0.11350761342366149, 0.045403045369464594, 0.18417891096813863, 0.3843733794117676, 0.04804667242647095, 0.24824114087009988, 0.056054451164216104, 0.08007778737745157, 0.20888070566565467, 0.7857893213136533, 1.0070487675148483, 1.0184039016944864, 0.14013391002342596, 0.09342260668228398, 0.09342260668228398, 0.6773138984465589, 0.9436241966546003, 1.0047065518473601, 0.23408047410265376, 0.07802682470088458, 0.06688013545790107, 0.07802682470088458, 0.5350410836632086, 1.0088390764348747, 1.5762594583986997, 0.10847678831203451, 0.03615892943734484, 0.07231785887468968, 0.777416982902914, 0.01807946471867242, 0.07311076523023444, 0.22597872889345189, 0.3456145265429264, 0.15286796366321745, 0.03987859921649151, 0.16616083006871463, 1.0028831279783086, 0.9900803646424153, 1.003589383702237, 0.15640751160418065, 0.2997810639080129, 0.09992702130267098, 0.06951444960185807, 0.04344653100116129, 0.12165028680325161, 0.03910187790104516, 0.1346842461036, 0.03910187790104516, 0.9894554924572405, 1.325172096372136, 0.9989893912431751, 0.28019801072747136, 0.44241791167495476, 0.26545074700497284, 1.0043269440183877, 0.046488396886352104, 0.20919778598858446, 0.7205701517384576, 0.023244198443176052, 0.10777878992790006, 0.08083409244592504, 0.7813962269772754, 0.9581274501984192, 0.9043065217939918, 0.15580880509623582, 0.31161761019247164, 0.5297499373272018, 0.7775722082394866, 0.17495374685388448, 0.05831791561796149, 0.9816506367236746, 0.9807517021076825, 1.0007922772894942, 0.9912549058174288, 0.9442332441824155, 1.0020425571932918, 0.9581274501984192, 0.0496253677979864, 0.9097984096297507, 0.041354473164988664, 0.020115834330742724, 0.20115834330742724, 0.020115834330742724, 0.6235908642530245, 0.12069500598445634, 0.9870889231266171, 0.22453228127726801, 0.6789428505288818, 0.01603802009123343, 0.08019010045616715, 0.9974248495564564, 0.98036199476449, 1.0211181046773645, 0.8781246273602811, 0.12913597461180604, 0.14671521425876843, 0.5787100117984755, 0.1222626785489737, 0.05705591665618773, 0.09781014283917895, 0.7303294863415627, 0.1962079217037034, 0.06540264056790114, 0.9786797120222417, 0.9853370512815599, 0.9796653986101579, 0.948608814657055, 1.0199421244047686, 0.9757783677429389, 0.15883991114713286, 0.15883991114713286, 0.6254321501418357, 0.05956496668017482, 0.11435345986562155, 0.30494255964165745, 0.2325187017267638, 0.11816524186114227, 0.10672989587458011, 0.08004742190593508, 0.04574138394624862, 0.14378426706839548, 0.8516452741743424, 0.9804721694650606, 0.9574952635488174, 0.02587825036618425, 0.9717535018420582, 0.05716197069659166, 0.5385203225414619, 0.45404654645652665, 0.15713567951976706, 0.8340278374510713, 0.0067378368390148295, 0.23582428936551902, 0.09432971574620762, 0.3907945366628601, 0.2695134735605932, 0.429884184123649, 0.5824237333288148, 0.03467044419347456, 0.5720623291923302, 0.05200566629021183, 0.060673277338580474, 0.026002833145105916, 0.23402549830595326, 0.769882734868391, 0.23096482046051728, 0.9659276062738558, 0.9488485100494862, 0.05271380611386035, 0.23198004560651245, 0.5904946615438499, 0.06326728516541248, 0.04217819011027499, 0.07381183269298124, 0.9816089602756565, 0.21643030788980272, 0.7815538896020654, 1.0626823322029424, 0.8496470621292246, 1.02623048621617, 0.08794208832565628, 0.052765252995393766, 0.1231189236559188, 0.7211251242703814, 0.017588417665131258, 0.04557199321264723, 0.14621014489057652, 0.06266149066738994, 0.11962648218319898, 0.07975098812213265, 0.12722181438530686, 0.20507396945691253, 0.05506615846528207, 0.15760314319373833, 0.07734642562311557, 0.5646289070487437, 0.2707124896809045, 0.038673212811557785, 0.04640785537386934, 0.9954664534264509, 0.20877599772556138, 0.07456285633055763, 0.07456285633055763, 0.014912571266111528, 0.029825142532223056, 0.5965028506444611, 1.024194662037618, 0.9784721206410488, 0.9986948900947868, 0.027032829643725418, 0.8920833782429388, 0.08109848893117626, 0.9575375733457167, 1.0003989930346735, 1.0223420989525676, 0.0805274811288099, 0.20131870282202477, 0.1932659547091438, 0.06039561084660743, 0.2697670617815132, 0.04831648867728595, 0.12481759574965537, 0.020131870282202476, 0.8640552569702268, 0.07855047790638425, 0.9988178746288789, 0.9929527423652322, 0.16562560229827158, 0.047321600656649025, 0.7334848101780599, 0.047321600656649025, 0.3534175619133216, 0.22280672381492014, 0.2996366285786857, 0.015365980952753112, 0.09219588571651868, 0.04927003811133285, 0.936130724115324, 1.00223034324529, 0.9938790722791019, 0.9774587872912355, 1.065514544011163, 1.0010107156475747, 0.9949785059752813, 0.156897510059029, 0.8472465543187566, 0.05236707234575825, 0.15710121703727475, 0.026183536172879125, 0.7593225490134946, 1.0027546254203754, 0.07056357515964942, 0.05970764051970335, 0.2388305620788134, 0.1356991829993258, 0.1356991829993258, 0.34196194115830103, 0.016283901959919096, 0.22700091532989178, 0.7782888525596289, 1.0009852784540674, 1.0090493744110816, 0.9425705581637212, 0.9630883060926035, 0.05068885821540019, 1.0323962439407415, 0.9910311005208381, 0.9607991204141664, 1.2680505339513368, 1.0259396875139117, 0.9973811127029184, 0.11134797667526164, 0.8907838134020931, 1.0012411394811693, 1.0284662824824364, 0.6668794960465573, 0.33343974802327864, 0.9043065217939918, 1.0012272862373521, 0.9581274501984192, 1.001092526803687, 1.1107435850810312, 1.0067246702539554, 0.990365475021479, 1.0153955968916544, 0.9888570880755143, 0.9649331262672359, 0.8610190484791249, 0.14655643378368083, 1.0096549305692466, 1.0019576275056312, 1.4541805355685475, 1.0195764745550695, 1.0004610528902218, 1.0169415860636772, 0.9510379004635027, 1.0367610983492739, 1.0173448370182412, 1.0018683655501923, 1.0367610983492739, 0.03591235730238121, 0.08379550037222282, 0.8858381467920697, 1.0211181046773645, 0.17709787360969367, 0.02083504395408161, 0.7917316702551012, 1.0459065354644865, 0.18359687268744426, 0.8157757951369945, 0.03396547201133089, 0.08554267025075929, 0.3220429938852114, 0.18492312539502376, 0.03144951112160268, 0.07422084624698232, 0.2679498347560548, 1.345399165881442, 1.006242322055377, 1.0007922772894942, 0.18289781238861894, 0.5266195632568855, 0.2932671819334752, 1.018812082836258, 0.35630561638125646, 0.4125643979151391, 0.09376463588980434, 0.13127049024572607, 0.9316803599028423, 0.09316803599028423, 0.9581274501984192, 0.03179381451718182, 0.19473711391773865, 0.11127835081013637, 0.07551030947830682, 0.043716494961125, 0.1152525776247841, 0.08345876310760228, 0.15102061895661364, 0.055639175405068186, 0.05166494859042046, 0.01589690725859091, 0.04769072177577273, 0.01589690725859091, 0.9831630290352457, 0.9923358817234457, 0.9989093838546291, 0.958438493208179, 0.9784721206410488, 1.0009852784540674, 0.036500987750515836, 0.04866798366735445, 0.1216699591683861, 0.07300197550103167, 0.717852759093478, 0.051341966931683136, 0.03208872933230196, 0.07059520453106431, 0.1443992819953588, 0.051341966931683136, 0.05775971279814353, 0.5519261445155937, 0.03850647519876235, 0.3543646989986545, 0.04321520719495787, 0.10371649726789889, 0.5012964034615113, 1.0001716067792397, 1.0010462892417213, 0.9958818657731304, 0.008568586920001982, 0.008568586920001982, 0.6169382582401427, 0.11139162996002576, 0.1885089122400436, 0.05998010844001387, 0.06475548802062352, 0.09713323203093528, 0.06475548802062352, 0.7770658562474823, 0.8496470621292246, 1.0626823322029422, 0.09880804262106882, 0.8151663516238178, 0.07410603196580162, 1.01325911478122, 0.13283188940203364, 0.21424498290650584, 0.17139598632520467, 0.3042278757272383, 0.03856409692317105, 0.04713389623943129, 0.09426779247886258, 0.12202357351601544, 0.8193011364646751, 0.052295817221149475, 0.0929226271338015, 0.4568695834078574, 0.007743552261150125, 0.13938394070070226, 0.0309742090446005, 0.26328077687910423, 0.007743552261150125, 1.004860756861604, 0.997882557161176, 0.15206669200677175, 0.10861906571912266, 0.11948097229103494, 0.608266768027087, 0.9963254195331932, 1.007169256373209, 1.26100756671896, 1.0323962439407415, 1.004860756861604, 0.1624705510888768, 0.07695973472631007, 0.0342043265450267, 0.11971514290759346, 0.18812379599764686, 0.3078389389052403, 0.11116406127133678, 1.029427629015178, 0.05668595765163398, 0.9636612800777776, 0.18449958008910677, 0.8199981337293635, 0.9989198850104654, 0.05216789708067562, 0.003726278362905401, 0.20494530995979707, 0.11178835088716203, 0.055894175443581016, 0.566394311161621, 0.9942135884999865, 0.7970117491522068, 0.8435856748968955, 0.06866395028230544, 0.08828222179153557, 1.0117424473015986, 0.9865156841180212, 0.9732696782028445, 1.1107435850810312, 0.10932429866341913, 0.06785646123936359, 0.049007444228429266, 0.20356938371809077, 0.14325252928310092, 0.0037698034021868662, 0.10178469185904539, 0.049007444228429266, 0.056547051032803, 0.0791658714459242, 0.13571292247872718, 1.1139470232843975, 0.568991944701717, 0.07902665898634958, 0.3556199654385731, 0.8398644414578518, 0.1542608157779728, 1.0020515647785793, 1.0120777251553719, 1.0002232615016697, 0.976442597326837, 1.009957828568701, 0.993879072279102, 1.0173448370182412, 0.9952267802410666, 1.0090493744110816, 1.0144404271610694, 0.9692330769531997, 0.008167242124578554, 0.9917365436988244, 0.28718964485665455, 0.11487585794266182, 0.5360873370657552, 0.05743792897133091, 0.978252840115088, 0.761426408545734, 0.0881651630947692, 0.1522852817091468, 1.0104630828839918, 1.1451914939351908, 0.007629330166716997, 0.8468556485055867, 0.15258660333433993, 0.054871576820809065, 0.19205051887283173, 0.7544841812861246, 1.0293939320154772, 0.997882557161176, 0.20272330746522516, 0.1474351327019819, 0.2948702654039638, 0.09675430583567564, 0.142827784805045, 0.10136165373261258, 0.023036739484684675, 1.026350867206067, 1.1165119520684488, 1.0006087760696052, 1.4314893674189886, 0.9537473923573437, 0.04709863665962191, 0.8828761073627842, 0.06791354672021417, 0.045275697813476116, 0.9541239093879379, 0.8834480642480905, 0.059746797364420796, 0.22955348461066938, 0.04402395595273111, 0.05345766079974492, 0.2547100308693729, 0.16037298239923475, 0.16666211896391064, 0.02830111454104143, 1.0508396389324666, 0.2308710134294972, 0.21871990745952366, 0.04860442387989415, 0.5103464507388885, 0.9826354640599427, 1.0230533020483181, 0.07640089814301707, 0.44451431646846296, 0.1875294772601328, 0.2917125201824288, 0.97070549774523, 0.2586151135118276, 0.2515297679361611, 0.05314009181749882, 0.09919483805933113, 0.2550724407239943, 0.0035426727878332545, 0.04605474624183231, 0.03542672787833255, 0.9572982231350292, 0.7893590174305015, 0.1754131149845559, 0.6259278997809301, 0.38518639986518777, 0.9969496288270127, 0.9673750465364505, 1.0177959563062993, 0.9700375734950717, 1.0153955968916544, 0.8603302032839512, 0.19151631830028082, 0.07660652732011233, 0.5668883021688312, 0.16853436010424713, 0.007660652732011233, 0.040957167642347504, 0.8191433528469502, 0.14335008674821628, 0.019523192529336073, 0.3449097346849373, 0.019523192529336073, 0.22777057950892085, 0.29284788794004113, 0.09110823180356835, 1.0508396389324666, 0.9572982231350292, 0.9807836630036353, 1.0018683655501923, 0.9985542792034187, 0.9987687914008846, 0.9895889311858027, 0.3082309774207365, 0.1358306002193076, 0.12015783865554135, 0.015672761563766263, 0.39181903909415655, 0.020897015418355015, 0.3632415448371697, 0.05811864717394715, 0.5811864717394716, 1.4314893674189886, 1.0118537645423868, 1.0066365397808679, 0.9865162055934458, 1.0125930740444185, 0.9967508493289767, 1.0007922772894942, 0.76608127403726, 0.2405138883605351, 0.9525842361027059, 0.04609278561787287, 0.9702751728809473, 0.027585680941420155, 0.08275704282426047, 0.7723990663597644, 0.1241355642363907, 1.0088390764348747, 1.001228047899975, 0.2073199488976613, 0.12002733883548813, 0.005455788128885824, 0.03819051690220077, 0.08729261006217319, 0.5292114485019249, 0.010911576257771649, 0.14717514910622773, 0.8462571073608094, 0.9949785059752813, 0.9673750465364505, 0.981448414994465, 0.9978846290198362, 0.7243877636959776, 0.04024376464977653, 0.2414625878986592, 0.9896355938788524, 0.9849647498155966, 0.03177305644566441, 1.016845835316171, 0.9517749472726827, 0.056285477921253296, 0.956853124661306, 0.9750408970551447, 1.000929459547182, 1.0037167851686786, 0.01844930361110817, 0.11069582166664903, 0.04304837509258573, 0.19679257185182047, 0.4243339830554879, 0.20294233972218986, 0.1209863322085426, 0.8123368019716432, 0.05185128523223254, 0.4446995247270096, 0.12836687311707493, 0.40802327526498816, 0.004584531182752676, 0.013753593548258029, 0.12702435028949036, 0.1871937793739858, 0.4011295272299696, 0.013370984240998985, 0.006685492120499493, 0.08691139756649341, 0.10696787392799188, 0.07354041332549442, 0.9240336834998936, 0.06844693951851064, 0.7532425603866588, 0.18077821449279813, 0.07532425603866588, 1.345399165881442, 1.072484226915072, 1.0020316485307197, 1.501477917681101, 1.0033991040766248, 0.7417663929507307, 0.1102625719251086, 0.1503580526251481, 0.9608898601609218, 0.04804449300804609, 0.006038169963555876, 0.12076339927111752, 0.08453437948978226, 0.23548862857867917, 0.19925960879734392, 0.03622901978133526, 0.1811450989066763, 0.04830535970844701, 0.08453437948978226, 0.9007491753882808, 1.0159240107448457, 0.09306877139140093, 0.9306877139140094, 0.9541859590223966, 0.1798774479222655, 0.8274362604424214, 0.9984212000728372, 0.23004304289739685, 0.7353834977867604, 0.03771197424547489, 0.9949656295995324, 1.0146854448536062, 0.36599269311846433, 0.6243404764962038, 0.20434723233417476, 0.1300391478490203, 0.09752936088676523, 0.241501274576752, 0.04179829752289938, 0.120750637288376, 0.13468340312934246, 0.023221276401610768, 0.16306967282239637, 0.8334672166478038, 0.9738685619319913, 1.0106955243579911, 1.1107435850810312, 1.325172096372136, 1.4229132219855825, 1.0088060533751677, 1.006405645222346, 1.0059139961528676, 0.9218748396092991, 0.041903401800422686, 0.7458220118677824, 0.11474184797965883, 0.13386548930960196, 0.07070511660137609, 0.0972195353268921, 0.5788981421737667, 0.14582930299033817, 0.07954325617654809, 0.02651441872551603, 0.06880084612741348, 0.2948607691174863, 0.5209206921075592, 0.009828692303916212, 0.10811561534307833, 1.1107435850810312, 0.9486088146570548, 0.019461035826807745, 0.026812982694712894, 0.024650645380623143, 0.03286752717416419, 0.2547233355997725, 0.11763114988648236, 0.06054544479451299, 0.2793739809803956, 0.1837986716976287, 1.1107435850810312, 1.0284662824824364, 0.19757546746218405, 0.03292924457703068, 0.4139676461112428, 0.2069838230556214, 0.04233760017046801, 0.061154311357342686, 0.04704177796718668, 0.9486088146570548, 1.2253417256128374, 0.10501238378335802, 0.08400990702668641, 0.7350866864835062, 0.0630074302700148, 0.8588936204513931, 0.9008867506086606, 0.0974916760792205, 0.12373943502362603, 0.194983352158441, 0.06374455743641341, 0.0974916760792205, 0.14998719396803156, 0.04499615819040947, 0.04874583803961025, 0.08624263653161815, 0.09374199623001972, 1.0215787234768285, 1.003718570497943, 0.07771301731687891, 0.15542603463375781, 0.038856508658439454, 0.13211212943869413, 0.038856508658439454, 0.4507355004378977, 0.046627810390127346, 0.06217041385350312, 0.5163449298064313, 0.032783805067075004, 0.10654736646799376, 0.04097975633384376, 0.04097975633384376, 0.16391902533537503, 0.028685829433690628, 0.06966558576753439, 0.9845947730407062, 1.0009852784540672, 0.026799492595294065, 0.817384524156469, 0.0870983509347057, 0.06699873148823517, 0.32982546985930444, 0.19913990633014608, 0.062231220728170646, 0.08090058694662185, 0.03733873243690239, 0.03733873243690239, 0.14935492974760955, 0.09956995316507304, 0.9865156841180212, 0.0171288760845271, 0.18841763692979807, 0.8050571759727736, 0.20545955951362585, 0.04109191190272517, 0.7533517182166282, 1.0367610983492739, 0.007104750110173811, 0.021314250330521433, 0.5115420079325144, 0.4618087571612977, 0.904306521793992, 1.029427629015178, 1.0367610983492739, 0.8834480642480905, 0.9820363526813418, 0.12042762832673377, 0.19956578408430167, 0.5298815646376286, 0.14795394337284434, 1.034845979625878, 0.22359211428690953, 0.1140776093300559, 0.07300966997123577, 0.004563104373202236, 0.2600969492725274, 0.022815521866011178, 0.036504834985617886, 0.018252417492808943, 0.18708727930129165, 0.0638834612248313, 0.9806405309331221, 0.02451601327332805, 0.13157440553462518, 0.5397924329625648, 0.2327854867151061, 0.09446367576844886, 0.0033737027060160305, 0.11342841135802129, 0.19849971987653725, 0.6805704681481277, 0.9573578500693821, 0.03988991041955759, 0.08638638123908468, 0.9214547332169033, 0.996591974726994, 0.672699582940721, 0.07899514756667786, 0.05745101641212935, 0.05026963936061318, 0.0933579016697102, 0.007181377051516169, 0.6750494428425199, 0.035906885257580845, 0.7910696845765395, 0.20896180347304816, 0.04486059099143809, 0.964502706315919, 0.976442597326837, 0.1389513882693302, 0.8684461766833137, 1.0001338613175932, 1.009957828568701, 1.0508396389324666, 0.7631676329646253, 0.17611560760722123, 0.06604335285270796, 1.0002086237279852, 1.0059114473755053, 1.029427629015178, 0.9606443439025278, 0.15146671112247234, 0.018933338890309043, 0.8330669111735979, 0.09365788992015292, 0.9053596025614783, 0.09942218083883966, 0.7125256293450176, 0.11599254431197961, 0.08285181736569973, 0.11748677060336175, 0.5874338530168088, 0.16783824371908823, 0.033567648743817645, 0.08391912185954412, 1.0024542804606824, 0.9945226832313404, 0.09967371833963397, 0.02718374136535472, 0.4168173676021057, 0.4349398618456755, 0.009061247121784907, 0.6692377897666043, 0.3258131344916363, 0.3860306517120599, 0.050551632962293556, 0.045956029965721415, 0.2757361797943285, 0.24356695881832352, 1.016366587132559, 0.10135005610734635, 0.2027001122146927, 0.07601254208050977, 0.5194190375501501, 0.038006271040254884, 0.06334378506709147, 1.0139716352551167, 1.007962178950683, 0.051196814622542455, 0.9727394778283066, 0.9541859590223966, 0.9171471459314832, 0.08875617541272418, 1.0546265862879118, 1.0195764745550695, 1.029427629015178, 0.49576939356092276, 0.22722763871542292, 0.19624205161786526, 0.0826282322601538, 1.0567087782927806, 0.10173522747887942, 0.13564696997183923, 0.7630142060915956, 0.9906644796494819, 0.296239119136313, 0.18514944946019565, 0.5184184584885478, 1.0076558385704482, 1.0851678261527906, 0.9948867044662187, 0.06547986206831191, 0.11786375172296144, 0.03928791724098715, 0.19643958620493573, 0.5762227862011449, 0.9962776431070319, 1.138330577588466, 0.9550614930028833, 1.0103145448472435, 0.02188811750213945, 0.0437762350042789, 0.9411890525919964, 0.10921101591187186, 0.29122937576499164, 0.13651376988983982, 0.40954130966951946, 0.05460550795593593, 0.9933213875245835, 0.03213034851087642, 0.06426069702175284, 0.19278209106525854, 0.7068676672392813, 0.7881297291993499, 0.025996275037490232, 0.9618621763871386, 0.025996275037490232, 0.998757854209977, 0.8358779491516162, 0.1325172358411099, 0.030580900578717665, 0.9603544000208282, 0.9758929319762198, 0.9944157096164639, 0.9938790722791019, 1.0052236446764453, 0.9910311005208381, 0.9789964382196685, 1.0371827520224943, 1.0044093331662933, 0.9007196905135426, 1.0090493744110816, 1.0052379568454106, 0.992782200317413, 1.0097439437019904, 0.1300330042633405, 0.026006600852668097, 0.06501650213167025, 0.7801980255800429, 0.9543262449459924, 0.7202658000156211, 0.14919673799114755, 0.11722600842161593, 0.5008747632559953, 0.010656909856510539, 0.2237951069867213, 0.9088603513894673, 0.09737789479172863, 1.007831245189685, 1.0567087782927806, 0.050782381876410015, 0.9648652556517903, 1.0130407279233065, 1.001092526803687, 0.9581274501984189, 0.9578459274994435, 1.1061388327936514, 0.9417794161170094, 1.0211181046773645, 1.1451914939351908, 0.9986820455332304, 1.0009852784540674, 0.9384236985506881, 0.9506961664237531, 0.9637615246342808, 0.08245552703933358, 0.6761353217225354, 0.16491105407866716, 0.07420997433540022, 0.9913467538073781, 1.0000816128543617, 0.996591974726994, 0.9784721206410487, 1.0006954287299756, 0.9930939687224704, 1.0226213983478523, 0.817993924239422, 1.0089558862784542, 0.09408138909531394, 0.008552853554119449, 0.19671563174474732, 0.05131712132471669, 0.6500168701130781, 0.07159792008682556, 0.07159792008682556, 0.8233760809984938, 0.03579896004341278, 1.0028959890921065, 1.0459065354644865, 0.09605202867894007, 0.5162796541493029, 0.26414307886708516, 0.10805853226380757, 0.9784721206410488, 0.5043273809653994, 0.06096265044636697, 0.005542059131487906, 0.033252354788927435, 0.39348619833564136, 1.0445063775172878, 0.011927091635844085, 0.059635458179220426, 0.9064589643241505, 0.03578127490753225, 0.10215024790774073, 0.885302148533753, 0.034050082635913574, 0.0615427920166284, 0.9407255351113198, 0.9927811241393061, 0.09272633755606265, 0.030908779185354215, 0.030908779185354215, 0.15454389592677106, 0.08242341116094457, 0.5151463197559035, 0.06181755837070843, 0.030908779185354215, 1.0558597949393946, 1.0197588720778743, 1.0276595492118097, 1.0005814925410161, 0.947457591613948, 0.052636532867441556, 0.06706143599696139, 0.055884529997467826, 0.1005921539954421, 0.09500370099569531, 0.02235381199898713, 0.09500370099569531, 0.3576609919837941, 0.027942264998733913, 0.14529977799341634, 0.033530717998480696, 1.4314893674189886, 1.0009852784540674, 1.0076558385704482, 0.9909971057207878, 0.9007196905135426, 0.976442597326837, 0.9866260549797241, 0.08996608840361048, 0.06466312604009503, 0.15181777418109269, 0.036548723413966755, 0.07590888709054634, 0.1321376923428029, 0.06466312604009503, 0.2164809002211877, 0.05622880525225655, 0.016868641575676965, 0.08996608840361048, 0.9997851654244373, 1.1055316733058682, 0.983597209947453, 1.0924033655947176, 1.0153955968916544, 0.9760316246885601, 0.860562407352618, 0.07823294612296527, 0.058674709592223956, 1.0803987000234316, 0.05072295777232806, 0.9637361976742331, 0.08630997426833353, 0.02589299228050006, 0.23303693052450053, 0.07767897684150017, 0.5782768275978346, 0.6159172122586082, 0.11844561774204004, 0.20135755016146806, 0.04737824709681602, 0.11005848544458242, 0.8804678835566594, 0.07975364447638023, 0.9304591855577694, 1.072484226915072, 0.987745269442787, 0.013871427093998896, 0.10634760772065821, 0.18032855222198566, 0.12946665287732304, 0.01849523612533186, 0.00924761806266593, 0.5271142295719581, 0.004623809031332965, 0.004623809031332965, 0.7202658000156211, 0.9541859590223967, 0.16291430749859365, 0.03258286149971873, 0.2443714612478905, 0.5376172147453591, 0.9581274501984192, 1.0061083198197747, 1.0230533020483181, 0.018999833923573045, 0.006820453203333913, 0.016563957779525216, 0.005358927516905218, 0.3259202280735991, 0.11010160171096174, 0.0545636256266713, 0.3273817537600278, 0.13446036315144, 0.960354400020828, 0.018181084839565334, 0.981778581336528, 1.0306894082894391, 0.8130932697060471, 0.9826517607774055, 0.8603302032839512, 1.0046817725484671, 1.0367610983492739, 1.0851678261527904, 0.1711193887778086, 0.1368955110222469, 0.6673656162334536, 0.017111938877780862, 0.8088318572044365, 0.1327932899887881, 0.06036058635854004, 1.0103145448472433, 0.9923684127391544, 0.9877147097252237, 0.9974117685864812, 0.9376608813555373, 0.9812295798432964, 0.9694536903790316, 1.0077310751743227, 1.0133096518277356, 1.029427629015178, 1.0028959890921065, 0.10972809369471452, 0.7680966558630017, 0.12263728118821035, 0.4430176521734714, 0.5537720652168393, 0.9700058205530461, 0.7917013827216679, 0.20834246913728102, 0.9998849668006795, 0.992197821481175, 1.0100468828199898, 0.17977976228933662, 0.13457799348516056, 0.2897022455176739, 0.2660740481882182, 0.06780265320626411, 0.020546258547352758, 0.04006520416733788, 0.2383416042982669, 0.14083822072170316, 0.3141775693022609, 0.11375394750599101, 0.06500225571770915, 0.1300045114354183, 1.0028831279783086, 1.0367610983492739, 0.991620682219243, 0.06437883745610538, 0.5407822346312853, 0.16094709364026347, 0.23820169858758994, 1.0067516831396297, 0.9572449579024394, 0.039885206579268306, 0.9755013202084075, 0.13241752654281366, 0.45242654902128, 0.2317306714499239, 0.08827835102854244, 0.09931314490711024, 0.4406204707195805, 0.5469771360656861, 0.9969518074038326, 1.325172096372136, 1.0097668955282102, 0.9796653986101579, 0.9927811241393061, 1.0106673352420958, 1.0129212766677027, 1.0078968655731206, 0.9597730560732934, 0.9989474665252647, 1.0261999936655963, 0.05421941746576219, 0.9759495143837195, 0.11200881456368082, 0.8680683128685264, 0.9509406596419258, 0.039622527485080244, 1.002888492990172, 0.028916442887661112, 0.6485545047661135, 0.32221179217679524, 0.5256374491363305, 0.4712611612946412, 1.0094582774104208, 0.9597730560732934, 0.9747036453738478, 0.23536400886699607, 0.0809063780480299, 0.06374441906814476, 0.13729567183908103, 0.024517084256978756, 0.11768200443349804, 0.18878154877873643, 0.06374441906814476, 0.022065375831280883, 0.06374441906814476, 0.0024517084256978757, 0.7890961180228975, 0.20040536330740252, 1.0047850242155467, 0.9989093838546291, 1.072484226915072, 0.36532491606042555, 0.6224054125473917, 1.026350867206067, 0.9867282696073271, 0.9981815790855051, 0.8022050560093802, 0.05730036114352716, 0.05730036114352716, 0.05730036114352716, 0.0648201612485023, 0.1944604837455069, 0.7292268140456508, 0.07036992195197381, 0.4423252236981211, 0.09047561393825204, 0.40211383972556464, 0.01755626787841503, 0.002394036528874777, 0.9576146115499107, 0.023142353112456174, 0.21069771260570985, 0.7524918307346781, 0.06019934645877424, 0.008280711343322667, 0.008280711343322667, 0.008280711343322667, 0.12421067014984001, 0.8529132683622348, 1.008806053375168, 0.9997851654244373, 0.008016746991256984, 0.02405024097377095, 0.056117228938798884, 0.27256939770273747, 0.10421771088634078, 0.27256939770273747, 0.04409210845191341, 0.08417584340819832, 0.08016746991256983, 0.056117228938798884, 0.996200086254293, 0.11349353152453581, 0.8852495458913793, 1.0001338613175932, 0.9961718143287855, 1.0009852784540674, 0.9958186903784267, 0.9425705581637212, 0.21866633015262457, 0.6872370376225343, 0.10933316507631229, 0.025058557863998455, 0.6515225044639599, 0.20046846291198764, 0.01670570524266564, 0.03341141048533128, 0.05846996834932973, 0.01670570524266564, 0.10844198892559628, 0.13254020868683988, 0.06024554940310904, 0.6988483730760648, 0.9888570880755145, 0.987745269442787, 1.0039413172847782, 0.25230741595662787, 0.007704043235316882, 0.18104501602994671, 0.06933638911785193, 0.489206745442622, 0.052062891831801815, 0.0490003687828723, 0.04287532268501326, 0.28787716659937473, 0.5696292871008904, 0.8587673631201569, 1.0778933814732214, 0.9735162576982991, 0.16091790563749792, 0.5817801203817232, 0.03713490130096106, 0.22280940780576636, 1.0203916364530585, 1.016753876608306, 0.19125168819380292, 0.05737550645814088, 0.7650067527752117, 0.9815927090873062, 1.0763193327051535, 0.9756531490576626, 0.19054605114216647, 0.8045277714891473, 0.14735614634443556, 0.06003398554773301, 0.17464432159340512, 0.01091527009958782, 0.25650884734031376, 0.01637290514938173, 0.1091527009958782, 0.1528137813942295, 0.01091527009958782, 0.06549162059752692, 0.9977496877884238, 0.9919137903227438, 0.324886402425386, 0.12782415833129943, 0.06923808576278719, 0.4740145871452353, 0.9888570880755143, 0.1261205668816434, 0.14413779072187816, 0.14413779072187816, 0.5765511628875126, 0.01801722384023477, 1.0018952569735164, 1.087742796883066, 0.1469861057222581, 0.014698610572225808, 0.08819166343335484, 0.7496291391835163, 1.0626823322029424, 1.031999089758324, 1.431278938533595, 0.9855630194184455, 0.03788702762517233, 0.9850627182544806, 0.43100220737321154, 0.03420652439469933, 0.050169569112225684, 0.0022804349596466217, 0.018243479677172974, 0.05701087399116555, 0.1983978414892561, 0.05701087399116555, 0.15278914229632368, 0.2928342132288393, 0.043382846404272486, 0.010845711601068122, 0.6507426960640873, 0.990791659564897, 0.9819321216254195, 0.9558529448953776, 0.9908854189847964, 0.9648210584412346, 1.0567087782927806, 0.03224132111530639, 0.19344792669183836, 0.09672396334591918, 0.6770677434214342, 1.016845835316171, 0.9800678691891452, 0.9943934573109622, 0.08069305929406816, 0.9145213386661057, 1.0211181046773645, 1.0851678261527906, 1.0009852784540672, 1.016366587132559, 1.0734592039001962, 0.0769090225575613, 0.9229082706907356, 0.051316532415523086, 0.10263306483104617, 0.021130336876980092, 0.25054542296990684, 0.18111717323125795, 0.39543916155491315, 0.9962646864402586, 0.1287519283371327, 0.858346188914218, 0.9007196905135426, 0.167205958797699, 0.07376733476369074, 0.24589111587896914, 0.04426040085821445, 0.0885208017164289, 0.07868515708127012, 0.2065485373383341, 0.04426040085821445, 0.009835644635158765, 0.04917822317579383, 0.9921213437557345, 0.9906644796494819, 0.9486088146570548, 0.47140980329671817, 0.10475773406593737, 0.30474977182818147, 0.05714058221778402, 0.06190229740259936, 1.0103145448472435, 0.1257171284129052, 0.6914442062709787, 0.104764273677421, 0.0838114189419368, 1.0071962900791964, 0.25195794150400297, 0.12597897075200148, 0.012597897075200147, 0.604699059609607, 1.034845979625878, 0.35715287638525306, 0.6428751774934555, 0.8834480642480905, 0.06241940274438576, 0.1040323379073096, 0.1040323379073096, 0.40225837324159713, 0.0069354891938206405, 0.0069354891938206405, 0.31209701372192883, 0.9564140989826481, 0.10229799269045865, 0.5796886252459323, 0.01363973235872782, 0.034099330896819546, 0.05455892943491128, 0.21823571773964512, 1.0349224352934168, 0.010376406105784981, 0.38392702591404426, 0.010376406105784981, 0.34242140149090433, 0.06225843663470988, 0.18677530990412963, 0.09726590269226285, 0.04863295134613142, 0.8267601728842342, 0.9909754256695266, 1.0347776462142924, 0.12391721444901235, 0.5204523006858519, 0.210659264563321, 0.012391721444901235, 0.1363089358939136, 1.0054874515962204, 1.0211181046773645, 0.09616648690173275, 0.2129400781395511, 0.05495227822956157, 0.013738069557390393, 0.02060710433608559, 0.09616648690173275, 0.06869034778695196, 0.15111876513129432, 0.07555938256564716, 0.2129400781395511, 1.0226566567337532, 1.0626823322029422, 0.8496470621292246, 1.1107435850810312, 0.9688998447792773, 1.4229132219855825, 1.0289511428794584, 0.9963254195331932, 0.9988069274274227, 0.8069526524270368, 0.2017381631067592, 1.004077036463997, 1.0205617061875663, 1.072484226915072, 1.0076558385704482, 1.0367610983492739, 0.36212331142751836, 0.6361625741294242, 0.03204453251997047, 0.17090417343984252, 0.04272604335996063, 0.04272604335996063, 0.021363021679980315, 0.4593049661195768, 0.22431172763979332, 1.1107435850810312, 0.8579873815320577, 0.905750381393812, 1.0508396389324666, 0.9994393803690712, 0.06761299915386014, 0.924044321769422, 0.07540899332623961, 0.9300442510236219, 0.9972009174427615, 0.9701681058992607, 1.0598667654219536, 1.014487888445385, 0.9930989023394958, 0.8834480642480905, 0.9483018427459585, 0.0418768911102548, 0.3015136159938345, 0.07537840399845863, 0.13400605155281534, 0.06700302577640767, 0.37689201999229316, 0.0718413952554597, 0.2849708678466568, 0.27299730197074684, 0.04071012397809383, 0.057473116204367763, 0.12213037193428149, 0.01197356587590995, 0.13649865098537342, 0.7958107306263241, 0.18947874538722004, 0.06294017554341408, 0.14686040960129954, 0.08392023405788544, 0.14686040960129954, 0.5454815213762554, 0.9543262449459924, 0.9831079677083138, 1.001239057276705, 0.905750381393812, 0.9765910415655662, 0.9936112086912622, 0.7264068057382194, 0.015133475119546236, 0.060533900478184945, 0.18160170143455484, 0.9947592012068868, 0.9832345180388012, 0.12029280428966362, 0.1924684868634618, 0.6976982648800489, 1.0348459796258782, 0.9832345180388012, 0.9986948900947868, 1.200998900517708, 0.05976838132243106, 0.5123004113351234, 0.02561502056675617, 0.2219968449118868, 0.17076680377837447, 0.9907603648928566, 1.1107435850810312, 1.0239966199239232, 0.17420385838384836, 0.6000355122110332, 0.029033976397308058, 0.1935598426487204, 1.1107435850810312, 0.9694536903790317, 0.6777870638539893, 0.3206734495653283, 1.2253417256128374, 0.14776464802394618, 0.07822834307150092, 0.08692038119055658, 0.686671011405397, 1.009952847333334, 1.0018533172600725, 1.0105139819353681, 0.9968856714896864, 0.8834480642480905, 0.5232454587655747, 0.47177869232961656, 0.939151449857735, 0.037566057994309406, 0.037566057994309406, 1.026510105820207, 0.3641407066389176, 0.6302435307212035, 1.0090493744110816, 0.03290418403136213, 0.3180737789698339, 0.6471156192834553, 0.999191533642192, 0.10486103695368096, 0.89608522487691, 0.06011473771739514, 0.9618358034783222, 0.20113245182852751, 0.017239924442445216, 0.7815432413908497, 0.9461605320238602, 0.03262622524220207, 0.9558529448953776, 0.9812687789679488, 0.04216202963770557, 0.007665823570491922, 0.09965570641639498, 0.04216202963770557, 0.04982785320819749, 0.12265317712787076, 0.3028000310344309, 0.06132658856393538, 0.27213673675246325, 1.0077209341532665, 1.0028831279783086, 0.9949562153513192, 1.0803987000234316, 0.7770765406561405, 0.21827992715060127, 0.3655519433228327, 0.13708197874606226, 0.04569399291535409, 0.022846996457677043, 0.2056229681190934, 0.2208542990908781, 0.004610387053392306, 0.10603890222802304, 0.18441548213569223, 0.02305193526696153, 0.2489609008831845, 0.09681812812123843, 0.11987006338819994, 0.20746741740265376, 0.9758116066706376, 1.0088390764348747, 0.9581274501984192, 0.9486088146570548, 1.0484623740946395, 0.6351251325022754, 0.050141457829127004, 0.06685527710550268, 0.25070728914563506, 0.9943622099286028, 0.910336137995598, 1.0117424473015986, 0.9883735290975278, 0.9747036453738478, 0.062259850314571825, 0.9338977547185774, 1.0452299456710026, 0.9997339162653712, 1.0626823322029422, 1.0508396389324663, 0.9949069948590943, 1.4405316000312423, 1.0088390764348747, 0.030949546798970537, 0.061899093597941074, 0.35076153038833274, 0.10316515599656846, 0.04126606239862738, 0.41266062398627384, 0.8212521001700736, 0.9890579180734065, 0.9700375734950717, 0.9771090151925637, 0.9747036453738478, 0.08947591244086303, 0.005965060829390869, 0.22667231151685302, 0.12526627741720825, 0.11333615575842651, 0.33404340644588865, 0.07754579078208129, 0.03579036497634521, 1.0803987000234316, 1.0018857404701238, 0.9581274501984192, 1.0211181046773645, 0.5634688270557648, 0.21130081014591182, 0.2245071107800313, 0.9917353438223493, 1.0055456056391743, 0.981448414994465, 0.8834480642480905, 0.31274171930495254, 0.06081088986485188, 0.29536717934356627, 0.32142898928564567, 0.9807764317437043, 0.06962571480006133, 0.18355870265470717, 0.08861454610916897, 0.6582794853823981, 0.19818569078568066, 0.010430825830825297, 0.07301578081577707, 0.04693871623871384, 0.2034011037010933, 0.42244844614842453, 0.015646238746237946, 0.02607706457706324, 0.8928724130385001, 0.10531315640966923, 1.0014901176960118, 0.06542496844936013, 0.08178121056170017, 0.482509142314031, 0.049068726337020106, 0.09813745267404021, 0.049068726337020106, 0.17174054217957035, 0.9755473643139747, 1.0410831763047188, 0.06965486526298101, 0.41792919157788605, 0.5108023452618607, 0.7881297291993499, 0.9510379004635027, 0.9510379004635027, 1.004581779095545, 1.0230533020483183, 0.9517749472726827, 1.0159240107448457, 0.9880689330171196, 1.0276595492118097, 0.14168792185411938, 0.3913285460732821, 0.0674704389781521, 0.1484349657519346, 0.24289358032134753, 0.013494087795630418, 1.0452299456710026, 1.0100468828199898, 0.22474693231264808, 0.5720831004321951, 0.20431539301149826, 0.05161058546514082, 0.19612022476753513, 0.24429010453499989, 0.034407056976760546, 0.02752564558140844, 0.06537340825584505, 0.20988304755823933, 0.06537340825584505, 0.041288468372112655, 0.02752564558140844, 0.02752564558140844, 0.00688141139535211, 0.9869750831591807, 0.10272703407272443, 0.07337645290908888, 0.5943492685636199, 0.20789994990908517, 0.01956705410909037, 0.08012453806836894, 0.7111052753567744, 0.15023350887819176, 0.010015567258546118, 0.04006226903418447, 0.8603302032839512, 0.02261253194957876, 0.20351278754620886, 0.09045012779831504, 0.6783759584873629, 0.9882640289874821, 0.9064523307358883, 0.13833037182518731, 0.011527530985432277, 0.28818827463580693, 0.06916518591259366, 0.3573534605484006, 0.12680284083975504, 1.0575858440498527, 0.18733312182865391, 0.2060664340115193, 0.524532741120231, 0.07493324873146157, 1.004979757989789, 0.16739248630507306, 0.0797107077643205, 0.24710319406939357, 0.0797107077643205, 0.023913212329296153, 0.31087176028084995, 0.0797107077643205, 0.21162770663380667, 0.5158425349199037, 0.11904058498151625, 0.15210741414304854, 0.5053577749534127, 0.1239556806489503, 0.028605157072834685, 0.23837630894028905, 0.00953505235761156, 0.08581547121850405, 0.9856268842319024, 1.0211181046773645, 0.06861580036286294, 0.8920054047172182, 1.0061834965284149, 1.0211181046773645, 0.9881306147509394, 0.9994966819828331, 0.962768498695801, 0.990791659564897, 0.02999943090898139, 0.05999886181796278, 0.11999772363592556, 0.08999829272694417, 0.11999772363592556, 0.009999810302993796, 0.14999715454490695, 0.14999715454490695, 0.2699948781808325, 0.05512996352534979, 0.25359783221660903, 0.6174555914839176, 0.06615595623041974, 1.0295848578384692, 0.9376608813555373, 0.11995818669950367, 0.06578352173843749, 0.11995818669950367, 0.05804428388685661, 0.06578352173843749, 0.4179188439853676, 0.13156704347687498, 0.019348094628952206, 0.022026965288937807, 0.9031055768464501, 0.08810786115575123, 0.9767741728395396, 0.04651305584950188, 0.9606443439025278, 1.1043100803101131, 0.9660748474572202, 1.0019297541206478, 0.9757119236472566, 0.37964605626635256, 0.5152339335043357, 0.09491151406658814, 0.9770838512686436, 0.9769479580598927, 0.9607991204141664, 0.08920335930122941, 0.07247772943224891, 0.2508844480347077, 0.10221218253265871, 0.2137163816591955, 0.03902646969428787, 0.21185797834041986, 0.02044243650653174, 1.0143785898300814, 0.9927301548736622, 0.08264771506015411, 0.20661928765038529, 0.21178476984164493, 0.04132385753007706, 0.3564182711969146, 0.07748223286889448, 0.02066192876503853, 1.0047065518473601, 0.08079004237113266, 0.0969480508453592, 0.06463203389690614, 0.6786363559175144, 0.08079004237113266, 1.0626823322029424, 1.0088390764348747, 1.0211181046773645, 1.0088390764348747, 0.9381698655613367, 0.05988318290817043, 1.0061488818066548, 0.02480604393487856, 0.6036137357487117, 0.3720906590231784, 1.0367610983492739, 0.8212521001700736, 0.1003445178157638, 0.34856516714949526, 0.1901264548088156, 0.07393806575898385, 0.07921935617033984, 0.21125161645423957, 0.7202658000156211, 0.9774587872912355, 1.1061388327936514, 1.017344837018241, 0.9897443110875557, 0.17989684694348868, 0.049062776439133274, 0.21260536456957752, 0.1471883293173998, 0.31890804685436624, 0.08994842347174434, 0.1472489349734034, 0.08834936098404204, 0.7656944618616978, 1.0510345423767709, 0.17128061934662353, 0.08564030967331177, 0.31044612256575516, 0.4389065870757228, 1.0020425571932918, 0.1879560895208783, 0.12530405968058556, 0.0055281202800258325, 0.4367215021220408, 0.01842706760008611, 0.21191127740099025, 0.0165843608400775, 1.002042557193292, 0.9772899992023873, 1.0090493744110816, 0.9834451143772198, 0.04348230095699125, 0.04731897457084342, 0.098474622755539, 0.05627121300316515, 0.07289679866319121, 0.2749616089927388, 0.006394456023086949, 0.026856715296965185, 0.03580895372928691, 0.07289679866319121, 0.033251171320052134, 0.04092451854775647, 0.04220340975237386, 0.0498767569800782, 0.09591684034630422, 1.0025548325212277, 0.9963254195331932, 1.0230533020483181, 1.0090493744110816, 0.9952763782034035, 0.9541859590223964, 1.016845835316171, 1.0088390764348747, 0.296171741504525, 0.6910673968438916, 1.0152266104241947, 0.9836901570058947, 0.016394835950098247, 0.9917353438223493, 1.0256291083429931, 0.01271476122683725, 0.19072141840255874, 0.5975937776613507, 0.19072141840255874, 1.047659345477267, 1.0305208357441882, 0.9938790722791019, 1.585063167439171, 0.028408739293152675, 0.9658971359671908, 0.9989093838546291, 0.7270902677842738, 0.03542539069710054, 0.9564855488217145, 0.8054284599729181, 0.04655655837993746, 0.11173574011184992, 0.03724524670394997, 0.05502954144775794, 0.1834318048258598, 0.7520703997860252, 0.8816413079260778, 0.11136521784329403, 0.8292376938772099, 0.16584753877544198, 0.9833413304667985, 1.000954073193333, 1.005798414088109, 0.9970621675459671, 0.13024043874778785, 0.20128067806476302, 0.05920019943081265, 0.035520119658487594, 0.07104023931697519, 0.3611212165279572, 0.035520119658487594, 0.10656035897546277, 0.10707683287460767, 0.11897425874956409, 0.011897425874956409, 0.2974356468739102, 0.45210218324834356, 0.25135536934582514, 0.7540661080374755, 0.017972454671708164, 0.05990818223902721, 0.4373297303448987, 0.04792654579122177, 0.23963272895610885, 0.0838714551346381, 0.11981636447805442, 1.0387003825489625, 0.5029226896607738, 0.1650215075449414, 0.17287967457089098, 0.055007169181647136, 0.11001433836329427, 0.8969327772542948, 0.7658385785080234, 1.8014983507765616, 1.8014983507765616, 0.9938790722791019, 0.20374402668961053, 0.05093600667240263, 0.4754027289424246, 0.2716587022528141, 0.817993924239422, 0.18988234368126986, 0.06835764372525716, 0.01519058749450159, 0.031647057280211645, 0.627877616439399, 0.06835764372525716, 0.028036626709152405, 0.9812819348203342, 0.7205993403106247, 0.9564140989826481, 1.057851033410506, 0.9972911077139367, 0.08212754553882227, 0.03213686564562611, 0.11426441118444838, 0.7712847754950266, 0.04360994761852663, 0.06541492142778994, 0.7849790571334794, 0.10902486904631657, 0.16277338362312446, 0.4246262181472812, 0.11323365817260832, 0.0707710363578802, 0.23354441998100467, 1.0318295617521436, 1.0598667654219536, 0.029210854103653344, 0.8763256231096004, 0.05842170820730669, 1.1955176237283103, 1.0598667654219536, 0.9809375374181005, 1.1011456672453757, 0.9609994042010299, 0.9606443439025278, 0.09725394695206684, 0.8752855225686015, 0.019450789390413368, 1.165438710946142, 0.9572193376349225, 0.027349123932426358, 1.057851033410506, 0.9581274501984192, 0.18767852372998547, 0.8311477479470785, 1.0237432322196136, 1.0072158477470647, 0.0036781570327515762, 0.6804590510590416, 0.2022986368013367, 0.03310341329476419, 0.07724129768778311, 1.0094779115506087, 0.9137496584812204, 0.02404604364424264, 0.0601151091106066, 0.9719635297024443, 1.024729391767123, 1.002583533312485, 0.9564188281764856, 0.043473583098931165, 1.1165119520684488, 1.018238198265013, 1.274470593193837, 1.0195764745550695, 1.0126503751318487, 0.9837269115841696, 1.1626798137351326, 0.9510379004635027, 0.864579909512275, 0.44386524104755043, 0.5622293053268972, 1.0189691790680386, 0.07566123919256353, 0.015132247838512705, 0.6960834005715845, 0.21185146973917787, 0.7573141841872325, 0.24501341253116346, 1.0009852784540674, 0.7628523374769447, 0.23217245053646143, 0.2511719934928159, 0.06279299837320397, 0.17791349539074458, 0.4395509886124278, 0.06279299837320397, 0.07761421847717798, 0.012935703079529664, 0.7373350755331909, 0.16816414003388563, 0.07015284964819117, 0.923679187034517, 0.9495218478836916, 1.0144404271610694, 0.8137563185892915, 0.1937515044260218, 0.9581274501984189, 0.5200972918643513, 0.39677525358723703, 0.08578924401886205, 0.464902579780155, 0.5336751507535507, 1.0085552107351778, 1.009791215536667, 0.9989474665252647, 0.06999844520809757, 0.9379791657885075, 1.005359382615292, 0.9965735557487363, 1.26100756671896, 0.9064523307358883, 0.28799905540714593, 0.5430839330534752, 0.04114272220102085, 0.1316567110432667, 0.4548849456582705, 0.37173393408632854, 0.1516283152194235, 0.01956494389928045, 0.05912953050621, 0.06241450442322166, 0.0147823826265525, 0.27429532207047413, 0.060772017464715826, 0.07883937400827999, 0.10183419142736166, 0.0542020696306925, 0.12647149580494915, 0.07555440009126833, 0.022994817419081666, 0.06734196529873916, 1.0626823322029424, 0.9932896451809723, 0.15638314205285309, 0.0835471580830311, 0.2206501867321078, 0.16280984652077857, 0.021422348226418232, 0.01928011340377641, 0.021422348226418232, 0.062124809856612874, 0.25278370907173514, 0.995080717051317, 0.8752113523570716, 0.014116312134791477, 0.11293049707833182, 1.0924033655947176, 0.9819171947855977, 0.9908854189847964, 0.01909800099377981, 0.04325135519179545, 0.011234118231635183, 0.007863882762144628, 0.017412883259034534, 0.8380652200799846, 0.01853629508219805, 0.04437476701495897, 0.47480753761904837, 0.06637094611879171, 0.20421829575012834, 0.21442921053763475, 0.04084365915002567, 1.5316771570160468, 0.9988178746288789, 1.0088060533751677, 0.946282951083865, 0.04506109290875548, 1.0508396389324663, 0.9807836630036353, 1.033853432024825, 1.0099181231821173, 0.9798369606262187, 1.0055448269095153, 0.9660748474572202, 0.9558829382383165, 0.9581274501984189, 1.029341479734251, 0.08308706977015487, 0.035878507400748695, 0.10763552220224608, 0.1850575644880722, 0.001888342494776247, 0.12085391966567981, 0.045320219874629926, 0.298358114174647, 0.039655192390301186, 0.001888342494776247, 0.07931038478060237, 1.0614443368651256, 1.0181399093156858, 0.7507389588405505], \"Term\": [\"+44\", \"+61\", \"-john_perry_barlow\", \"19_apr\", \"386/40\", \"386sx\", \"3d\", \"3do\", \"55_mph\", \"7mhz\", \":)\", \":>\", \"abortion\", \"absolute\", \"absurd\", \"accelerator\", \"accelerator\", \"accept\", \"accept\", \"accept\", \"accept\", \"accept\", \"accept\", \"access\", \"access\", \"access\", \"action\", \"action\", \"action\", \"action\", \"action\", \"action\", \"ad\", \"ad\", \"adam_shostack\", \"adapter\", \"adaptor\", \"adb\", \"adc\", \"adcom\", \"address\", \"address\", \"address\", \"address\", \"address\", \"address\", \"adjective\", \"administration\", \"administration\", \"adultery\", \"advance\", \"advance\", \"advance\", \"advance\", \"advance\", \"advance\", \"age\", \"age\", \"age\", \"age\", \"agency\", \"agency\", \"agree\", \"agree\", \"agree\", \"agree\", \"agree\", \"agree\", \"aids\", \"airliner\", \"al\", \"al\", \"al\", \"alex\", \"algorithm\", \"algorithm\", \"algorithm\", \"ali\", \"alledge\", \"allen\", \"allen\", \"allen\", \"allmartin\", \"allocation_unit\", \"alomar\", \"alot\", \"amanda\", \"ambition\", \"amendment\", \"american\", \"american\", \"american\", \"american\", \"american\", \"american_express\", \"amipro\", \"amorc\", \"amp\", \"amplifier\", \"anarchal\", \"ancient_mayans\", \"andy\", \"andy\", \"anesthesiology\", \"ani\", \"animation\", \"anonymous_ftp\", \"answer\", \"answer\", \"answer\", \"answer\", \"answer\", \"answer\", \"answer\", \"antenna\", \"app\", \"app\", \"apple\", \"apple\", \"application\", \"application\", \"application\", \"application\", \"application\", \"appreciate_heare\", \"apr_1993\", \"apr_1993\", \"apr_93\", \"april\", \"april\", \"arab\", \"arabs\", \"archie\", \"archive\", \"archive\", \"archive\", \"archive\", \"area\", \"area\", \"area\", \"area\", \"area\", \"area\", \"area\", \"argic\", \"argue\", \"argue\", \"argument\", \"argument\", \"arise\", \"armenia\", \"armenian\", \"armenians\", \"army\", \"army\", \"arrogance\", \"article\", \"article\", \"article\", \"article\", \"article\", \"article\", \"assassin\", \"assault\", \"assert\", \"assertion\", \"assume\", \"assume\", \"assume\", \"assume\", \"assume\", \"assumption\", \"asumption\", \"at_least\", \"at_least\", \"at_least\", \"at_least\", \"at_least\", \"at_least\", \"at_least\", \"at_least\", \"atf\", \"atf\", \"atheism\", \"atheist\", \"athens\", \"ati_ultra_pro\", \"atmosphere\", \"atomic\", \"attack\", \"attack\", \"attack\", \"attack\", \"audio\", \"aug\", \"austin\", \"austin\", \"austin_tx\", \"average\", \"average\", \"azerbaijan\", \"b'varsha\", \"background\", \"background\", \"background\", \"bad\", \"bad\", \"bad\", \"bad\", \"bad\", \"bad\", \"bad\", \"baerga\", \"bag\", \"bag\", \"ball\", \"ball\", \"ban\", \"band\", \"band\", \"band\", \"barbecue\", \"barbecued_food\", \"base\", \"base\", \"base\", \"base\", \"base\", \"base\", \"base\", \"baseball\", \"bat\", \"bat\", \"batf\", \"battery\", \"battery\", \"battery\", \"bay_area\", \"beauchaine\", \"beaverton\", \"beckman\", \"beezer\", \"beirut\", \"belief\", \"best_offer\", \"bible\", \"bible\", \"big\", \"big\", \"big\", \"big\", \"big\", \"bike\", \"biker\", \"bill\", \"bill\", \"bill\", \"bill\", \"bill\", \"billboard\", \"billion\", \"bio\", \"bishop\", \"bit\", \"bit\", \"bit\", \"bit\", \"bit\", \"bite\", \"bl\", \"blast_away\", \"bloom\", \"blue_jay\", \"bmw\", \"bnr\", \"board\", \"board\", \"board\", \"bobby_mozumder\", \"body\", \"body\", \"body\", \"body\", \"bolshevik\", \"bond\", \"book\", \"book\", \"book\", \"border\", \"border\", \"border\", \"boston\", \"boston\", \"boulder\", \"boulder\", \"box\", \"box\", \"box\", \"box\", \"box\", \"brady\", \"brake\", \"brand_new\", \"brave\", \"break\", \"break\", \"break\", \"break\", \"break\", \"britain\", \"broken\", \"brookline\", \"broward_horne\", \"brunel_university\", \"btw\", \"btw\", \"btw\", \"btw\", \"bubblejet\", \"buchholz\", \"buckminster\", \"buf\", \"buffalo\", \"build\", \"build\", \"build\", \"build\", \"build\", \"build\", \"build\", \"build\", \"bulb\", \"bullpen\", \"burdensome\", \"burder\", \"burke\", \"bus\", \"bus\", \"bus\", \"bus\", \"bush\", \"buy\", \"buy\", \"buy\", \"buy\", \"bystander\", \"c++\", \"c8v\", \"c_compiler\", \"cabal\", \"cache\", \"cad\", \"cal\", \"cal\", \"calgary\", \"california\", \"california\", \"california\", \"california\", \"call\", \"call\", \"call\", \"call\", \"call\", \"call\", \"call\", \"call\", \"call\", \"call\", \"call\", \"calm\", \"cambodia\", \"campbell\", \"canada\", \"canada\", \"canada\", \"cancer\", \"candida\", \"canuck\", \"car\", \"card\", \"care\", \"care\", \"care\", \"care\", \"care\", \"career\", \"carl_ellison\", \"carry\", \"carry\", \"carry\", \"carry\", \"carry\", \"carry\", \"carry\", \"carson\", \"case\", \"case\", \"case\", \"case\", \"case\", \"case\", \"case\", \"case_western\", \"cash\", \"catalog\", \"catcher\", \"catholic\", \"cdrom\", \"cemetary\", \"cemetery\", \"centaur\", \"center\", \"center\", \"center\", \"center\", \"center\", \"center\", \"center\", \"ceremony\", \"cga\", \"chair\", \"chairman\", \"change\", \"change\", \"change\", \"change\", \"change\", \"change\", \"change\", \"change\", \"change\", \"change\", \"channel\", \"channel\", \"channel\", \"character\", \"character\", \"character\", \"charles\", \"charles\", \"charles\", \"charles\", \"charter\", \"chastity\", \"cheap\", \"cheap\", \"cheap\", \"cheapie\", \"cheema\", \"chi\", \"chicago\", \"chicago\", \"chicago\", \"child\", \"child\", \"child\", \"chimp\", \"chip\", \"chip\", \"choice\", \"choice\", \"choice\", \"choice\", \"chris_behanna\", \"christ\", \"christian\", \"christianity\", \"christianity\", \"christians\", \"christians\", \"chrysler\", \"church\", \"church\", \"cinsider\", \"ciphertext\", \"circuit\", \"circuit\", \"circuitry\", \"circular\", \"citizen\", \"citizen\", \"citizen\", \"civil_right\", \"claim\", \"claim\", \"claim\", \"claim\", \"claim\", \"clarinew\", \"clayton\", \"clayton_cramer\", \"cleveland\", \"clinton\", \"clinton\", \"clipper\", \"clipper_chip\", \"clippingdale\", \"clock\", \"code\", \"code\", \"code\", \"code\", \"code\", \"code\", \"coffee\", \"college_park\", \"color\", \"color\", \"color\", \"colorado\", \"colorado\", \"colorado\", \"colorado\", \"colormap\", \"colour\", \"com1\", \"com2\", \"comb\", \"comet\", \"comfort\", \"commitment\", \"communication\", \"communication\", \"communication\", \"comp\", \"comp\", \"company\", \"company\", \"company\", \"company\", \"compartment\", \"compelling\", \"competition\", \"complain\", \"complain\", \"compress\", \"compressed\", \"compression\", \"computer\", \"computer\", \"computer\", \"computer\", \"computer\", \"computer_science\", \"computer_science\", \"computer_science\", \"conclusion\", \"concussion_grenade\", \"congress\", \"congress\", \"congress\", \"consecration\", \"conservative\", \"constitution\", \"constitutional\", \"consumer\", \"consumption\", \"cont\", \"contact\", \"contact\", \"contact\", \"contact\", \"contact\", \"contact\", \"contest\", \"contest\", \"context\", \"continuously\", \"contrib\", \"controller\", \"conversion\", \"convert\", \"converter\", \"converter\", \"cooling_tower\", \"copeland\", \"copy\", \"copy\", \"copy\", \"copy\", \"copy\", \"copyright\", \"corelmark\", \"corner\", \"corner\", \"cost\", \"cost\", \"country\", \"country\", \"country\", \"country\", \"couple\", \"couple\", \"couple\", \"couple\", \"couple\", \"court\", \"court\", \"coventry\", \"cover\", \"cover\", \"cover\", \"cover\", \"cover\", \"cover\", \"cpu\", \"craig\", \"craig\", \"cramer\", \"cramm\", \"crash\", \"crash\", \"crash\", \"crash\", \"create\", \"create\", \"create\", \"create\", \"create\", \"create\", \"create\", \"creative\", \"creative\", \"creator\", \"creed\", \"crime\", \"crime\", \"criminal\", \"criminal\", \"criminal\", \"cross_linke\", \"crossfire\", \"crossposte\", \"crosstalk\", \"cruel\", \"crypto\", \"cryptography\", \"cryptosystem\", \"crystal_city\", \"cs\", \"cub\", \"cubans\", \"cubs_suck\", \"cult\", \"current\", \"current\", \"current\", \"current\", \"current\", \"current\", \"cursor\", \"custom\", \"customer\", \"customer\", \"customer\", \"cview\", \"cyprus\", \"da\", \"dad\", \"dallas\", \"dangerous\", \"dangerous\", \"daniel\", \"daniel\", \"daniel\", \"daniel\", \"daniel_oldham\", \"darius_lecointe\", \"dartmouth\", \"dash\", \"datum\", \"datum\", \"datum\", \"datum\", \"datum\", \"datum\", \"datum\", \"datum\", \"dave\", \"dave\", \"dave\", \"david\", \"david\", \"david\", \"david\", \"david\", \"david\", \"david\", \"david_veal\", \"day\", \"day\", \"day\", \"day\", \"day\", \"day\", \"day\", \"day\", \"day\", \"dayton\", \"db\", \"deal\", \"deal\", \"deal\", \"deal\", \"deal\", \"dealer\", \"dealer\", \"dean.kaflowitz\", \"death\", \"death\", \"death\", \"death\", \"death_penalty\", \"decree\", \"decrypt\", \"deepak\", \"defend\", \"defend\", \"definetly\", \"definition\", \"definition\", \"defrag\", \"defragger\", \"defragment\", \"demon\", \"dennis\", \"department\", \"department\", \"department\", \"department\", \"department\", \"department\", \"department\", \"dept\", \"dept\", \"dept\", \"dept\", \"depth\", \"depth\", \"des\", \"design\", \"design\", \"design\", \"design\", \"design\", \"design\", \"design\", \"design\", \"deskjet\", \"det\", \"detect\", \"detect\", \"detect\", \"detector\", \"detroit\", \"device\", \"device\", \"device\", \"device\", \"devide\", \"devil\", \"die\", \"die\", \"die\", \"die\", \"diet\", \"digitize\", \"dillon_pyron\", \"dir\", \"director\", \"director\", \"disapprove\", \"disc\", \"disclaimer\", \"disclaimer\", \"disclaimer\", \"discuss\", \"discuss\", \"discuss\", \"discussion\", \"discussion\", \"discussion\", \"disease\", \"disk\", \"disk\", \"disk\", \"disobedience\", \"display\", \"display\", \"display\", \"disprove\", \"distribution\", \"distribution\", \"distribution\", \"distribution\", \"distribution\", \"distribution\", \"distribution\", \"division\", \"division\", \"division\", \"division\", \"division\", \"division\", \"divorce\", \"dma\", \"dmm\", \"doctor\", \"doctor\", \"doctrine\", \"dod\", \"dodger\", \"dog\", \"door\", \"door\", \"door\", \"door\", \"dorothy\", \"dos\", \"dos_6.0\", \"doublespace\", \"download\", \"dr\", \"dr\", \"dram\", \"drastically\", \"draw\", \"draw\", \"draw\", \"draw\", \"draw\", \"draw\", \"drive\", \"drive\", \"driver\", \"driver\", \"driver\", \"driver\", \"driving\", \"drug\", \"drug\", \"drug_dealer\", \"dryden\", \"dsg\", \"dumb\", \"dunno\", \"durham\", \"dysfunction\", \"e.\", \"e.\", \"e.\", \"early\", \"early\", \"early\", \"early\", \"early\", \"early\", \"earth\", \"earth\", \"eat\", \"echo\", \"edge\", \"edge\", \"edge\", \"edge\", \"education_info\", \"eff\", \"effect\", \"effect\", \"effect\", \"effect\", \"effect\", \"egg\", \"elbo\", \"electronic\", \"electronic\", \"electronic\", \"electronic\", \"electronic\", \"email\", \"email\", \"email\", \"email\", \"email\", \"email\", \"encrypt\", \"encrypted\", \"encryption\", \"end\", \"end\", \"end\", \"end\", \"end\", \"end\", \"end\", \"end\", \"end\", \"energy\", \"engel\", \"engine\", \"engineering\", \"engineering\", \"engineering\", \"entry\", \"equipment\", \"equipment\", \"equipment\", \"equipment\", \"eric\", \"eric\", \"eric\", \"erickson\", \"err\", \"error\", \"error\", \"error\", \"escape\", \"escape\", \"escape\", \"escrow\", \"espn\", \"eternal\", \"ethnic\", \"evening\", \"everyday\", \"everytime\", \"evidence\", \"evidence\", \"evidence\", \"excellent\", \"excellent\", \"excellent\", \"excellent\", \"excellent\", \"excellent_condition\", \"exist\", \"exist\", \"exist\", \"exist\", \"existence\", \"expansion_ii\", \"expense\", \"expensive\", \"expensive\", \"experience\", \"experience\", \"experience\", \"experience\", \"experience\", \"explain\", \"explain\", \"explain\", \"explanation\", \"explode\", \"explosive\", \"expos\", \"expose_event\", \"external\", \"face\", \"face\", \"face\", \"face\", \"fact\", \"fact\", \"fact\", \"fact\", \"fact\", \"fact\", \"fact\", \"faith\", \"faith\", \"fallacy\", \"false\", \"false\", \"fame\", \"fame\", \"fan\", \"fan\", \"faq\", \"faq\", \"fast\", \"fast\", \"fast\", \"fast\", \"fast\", \"father\", \"father\", \"fax\", \"fax\", \"fax\", \"fax\", \"fax\", \"fax\", \"fbi\", \"fbi\", \"feb\", \"federal\", \"federal\", \"figure\", \"figure\", \"figure\", \"figure\", \"figure\", \"fij\", \"file\", \"file\", \"filename\", \"filler\", \"film\", \"finally\", \"finally\", \"finally\", \"finally\", \"finally\", \"find\", \"find\", \"find\", \"find\", \"find\", \"find\", \"find\", \"find\", \"find\", \"fire\", \"fire\", \"fire\", \"fire\", \"fire\", \"firearm\", \"flame\", \"flame\", \"flame\", \"flame\", \"flame\", \"flame\", \"flash\", \"fleet\", \"flight\", \"fly\", \"fly\", \"fly\", \"flyby\", \"flyer\", \"fm\", \"follow\", \"follow\", \"follow\", \"follow\", \"follow\", \"follow\", \"follow\", \"follow\", \"followup\", \"followup\", \"font\", \"food\", \"foot\", \"foot\", \"foot\", \"foot\", \"force\", \"force\", \"force\", \"force\", \"force\", \"ford\", \"ford\", \"format\", \"formula\", \"forsale\", \"fortunately\", \"fpu\", \"fractal\", \"frame\", \"frame\", \"frank\", \"frank\", \"frank\", \"frank\", \"fred\", \"free\", \"free\", \"free\", \"free\", \"free\", \"free\", \"free\", \"freedom\", \"freedom\", \"freeman\", \"friday\", \"fringe\", \"ftp_site\", \"ftp_site\", \"full\", \"fundamental\", \"fuse\", \"fusi\", \"g)_mr\", \"g)r\", \"g.\", \"g.\", \"g9v\", \"galaxy\", \"game\", \"game\", \"gang_member\", \"gay\", \"gc\", \"gear\", \"general_dynamic\", \"genocide\", \"geoffrey\", \"georgia\", \"gerald\", \"gerald_olchowy\", \"german\", \"german\", \"gerry\", \"gif\", \"gipu\", \"gives_isreal\", \"giz\", \"gl\", \"glance\", \"glitch\", \"glock\", \"gm\", \"gmbh\", \"gmt\", \"gmt\", \"gmt\", \"go_ahead\", \"goal\", \"goal\", \"goal\", \"goalie_mask\", \"god\", \"god\", \"good\", \"good\", \"good\", \"good\", \"good\", \"good\", \"good\", \"goodson\", \"gordon_banks\", \"gospel\", \"government\", \"government\", \"government\", \"grace\", \"graphic\", \"graphic\", \"graphic\", \"graphic\", \"gray\", \"gray\", \"grayscale\", \"great\", \"great\", \"great\", \"great\", \"great\", \"great\", \"great\", \"great\", \"great\", \"great\", \"great\", \"great\", \"great\", \"greece\", \"greek\", \"greeks\", \"greeting\", \"greg_hennessy\", \"griffith\", \"ground\", \"ground\", \"ground\", \"ground\", \"ground\", \"group\", \"group\", \"group\", \"group\", \"group\", \"group\", \"group\", \"group\", \"guess\", \"guess\", \"guess\", \"guess\", \"guideline\", \"gun\", \"gun_control\", \"guy\", \"guy\", \"guy\", \"guy\", \"guy\", \"guy\", \"h.\", \"h.\", \"h.\", \"h.\", \"h._pimentel\", \"hack\", \"hall\", \"hall\", \"hall\", \"handgun\", \"happen\", \"happen\", \"happen\", \"happen\", \"happen\", \"happen\", \"happen\", \"happy\", \"happy\", \"happy\", \"hard\", \"hard\", \"hard\", \"hard\", \"hard\", \"hard\", \"hard\", \"hard_disk\", \"hard_drive\", \"hardware\", \"hardware\", \"hardware\", \"hardware\", \"harley\", \"hartford\", \"hartmann\", \"hateful\", \"hd\", \"head\", \"head\", \"head\", \"head\", \"head\", \"head\", \"head\", \"headache\", \"header\", \"header\", \"health\", \"health\", \"health_insurance\", \"hear\", \"hear\", \"hear\", \"hear\", \"hear\", \"hear\", \"heaven\", \"helium\", \"hell\", \"hell\", \"hell\", \"helmet\", \"henry_spencer\", \"hewlett\", \"hideous_attempt\", \"high\", \"high\", \"high\", \"high\", \"high\", \"high\", \"high\", \"high\", \"high\", \"high\", \"high\", \"higher\", \"history\", \"history\", \"history\", \"hit\", \"hit\", \"hitter\", \"hiv\", \"hockey\", \"holly\", \"holocaust\", \"holy_spirit\", \"homicide\", \"homosexual\", \"homosexuality\", \"honda\", \"horse\", \"host\", \"host\", \"hot\", \"hot\", \"hot\", \"hot\", \"hr\", \"human\", \"human\", \"human\", \"hypothesis\", \"hypothesize\", \"i.d\", \"i.d\", \"i.d\", \"ibm\", \"ibm\", \"ibm\", \"icon\", \"ide\", \"idea\", \"idea\", \"idea\", \"idea\", \"idea\", \"idea\", \"idea\", \"ideal\", \"iivx\", \"illinois\", \"illogic\", \"image\", \"image\", \"imply\", \"imply\", \"imply\", \"impressed\", \"inaccuracy\", \"include\", \"include\", \"include\", \"include\", \"include\", \"include\", \"include\", \"include\", \"incoming\", \"increase\", \"increase\", \"increase\", \"increase\", \"infection\", \"infinity\", \"info\", \"info\", \"info\", \"info\", \"inform\", \"information\", \"information\", \"information\", \"information\", \"information\", \"information\", \"information\", \"information\", \"ink\", \"insert\", \"insert\", \"institute\", \"institute\", \"insurance\", \"insure\", \"intel\", \"intellect\", \"intelligence\", \"interconnect\", \"interested\", \"interested\", \"interested\", \"interested\", \"interested\", \"internal\", \"internal\", \"internal\", \"internet\", \"internet\", \"internet\", \"internet\", \"internet\", \"internet\", \"interpreter\", \"investment\", \"ip\", \"islander\", \"israel\", \"israeli\", \"israelis\", \"issue\", \"issue\", \"issue\", \"issue\", \"issue\", \"issue\", \"j.\", \"j.\", \"j.\", \"jacqueline\", \"jagr\", \"jason\", \"jason_kratz\", \"jerusalem\", \"jesus\", \"jesus_christ\", \"jewish\", \"jewish\", \"jews\", \"jews\", \"jfif\", \"jim\", \"jim\", \"jim\", \"jim\", \"jim_zisfein\", \"job\", \"john\", \"john\", \"john\", \"john\", \"john\", \"john\", \"john\", \"joke\", \"joke\", \"joshua\", \"joy\", \"joystick\", \"jpeg\", \"judge\", \"judge\", \"judge\", \"jumper\", \"june\", \"june\", \"keeper\", \"keith_keller\", \"kenneth\", \"kenneth\", \"kent_sandvik\", \"key\", \"keyboard\", \"keyword\", \"keyword\", \"keyword\", \"keyword\", \"keyword\", \"keyword\", \"kid\", \"kid\", \"kid\", \"kill\", \"kill\", \"kill\", \"kill\", \"kill\", \"kind\", \"kind\", \"kind\", \"kind\", \"kind\", \"kind\", \"kind\", \"kind\", \"knife\", \"knife\", \"knowledge\", \"knowledge\", \"knowledge\", \"knucklehead\", \"koppenhoefer_kyle\", \"koresh\", \"kuznetsov\", \"la\", \"land\", \"land\", \"land\", \"lane\", \"lane\", \"large\", \"large\", \"large\", \"large\", \"large\", \"large\", \"large\", \"large\", \"large\", \"large_quantitie\", \"larson\", \"laser\", \"laser\", \"laser_printer\", \"last_year\", \"last_year\", \"launch\", \"law\", \"law\", \"law\", \"law_enforcement\", \"leafs\", \"league\", \"league\", \"leave\", \"leave\", \"leave\", \"leave\", \"leave\", \"leave\", \"leave\", \"leave\", \"left\", \"left\", \"legally\", \"legislation\", \"leigh\", \"levenson\", \"lhp\", \"lib\", \"liberal\", \"libertarian\", \"liberty\", \"liberty\", \"license\", \"license\", \"license\", \"life\", \"life\", \"life\", \"life\", \"life\", \"life\", \"light\", \"light\", \"light\", \"light\", \"light\", \"light_pollution\", \"linare\", \"line\", \"line\", \"line\", \"line\", \"line\", \"line\", \"line\", \"line\", \"line\", \"lines\", \"liquid\", \"live\", \"live\", \"live\", \"live\", \"live\", \"live\", \"live\", \"lloyd\", \"lobbyist\", \"lock\", \"lock\", \"lock\", \"lock\", \"logical_argument\", \"logitech\", \"long\", \"long\", \"long\", \"long\", \"long\", \"long\", \"long\", \"long\", \"long\", \"long\", \"lopez\", \"lord\", \"lose\", \"lose\", \"lose\", \"lose\", \"lose\", \"lose\", \"lose\", \"lose\", \"lot\", \"lot\", \"lot\", \"lot\", \"lot\", \"lot\", \"lot\", \"lot\", \"louis\", \"louisville\", \"love\", \"love\", \"love\", \"love\", \"low\", \"low\", \"low\", \"low\", \"low\", \"low\", \"low\", \"low\", \"lunar\", \"ma\", \"ma\", \"ma\", \"mac\", \"mac\", \"mac\", \"mac_portable\", \"machine\", \"machine\", \"machine\", \"machine\", \"machinegun\", \"mackie\", \"macuser\", \"maddison\", \"magic\", \"mail\", \"mail\", \"mail\", \"mail\", \"major_league\", \"make\", \"make\", \"make\", \"make\", \"make\", \"make\", \"make\", \"make\", \"make\", \"make\", \"male\", \"male\", \"man\", \"man\", \"man\", \"man\", \"man\", \"map\", \"map\", \"map\", \"mar\", \"mar\", \"march\", \"march\", \"marine\", \"marines\", \"mark\", \"mark\", \"mark\", \"mark\", \"mark\", \"mark\", \"mark\", \"market\", \"market\", \"marriage\", \"marriage\", \"married\", \"marry\", \"marry\", \"mary\", \"massacre\", \"massage\", \"matter\", \"matter\", \"matter\", \"mb\", \"meaning\", \"meat\", \"mechanic\", \"medical\", \"medical\", \"medical\", \"medicine\", \"medicine\", \"medium\", \"medium\", \"medium\", \"medium\", \"meet\", \"meet\", \"meet\", \"meet\", \"meet\", \"meeting\", \"meg\", \"member\", \"member\", \"member\", \"member\", \"member\", \"memory\", \"memory\", \"message\", \"message\", \"message\", \"message\", \"message\", \"met\", \"method\", \"method\", \"method\", \"method\", \"method\", \"method\", \"methodology\", \"mhz\", \"michigan\", \"michigan\", \"microphone\", \"microsoft\", \"microsoft\", \"midi\", \"midst\", \"migraine\", \"mike\", \"mike\", \"mike\", \"mike\", \"milage\", \"mile\", \"mile\", \"mile\", \"mileage\", \"military\", \"military\", \"military\", \"militia\", \"mindset\", \"minnesota\", \"miss\", \"miss\", \"miss\", \"miss\", \"miss\", \"mission\", \"mlb\", \"mm\", \"mo\", \"mode\", \"mode\", \"mode\", \"model\", \"model\", \"model\", \"model\", \"model\", \"modem\", \"modify\", \"modify\", \"modify\", \"modify\", \"modula-2\", \"mon\", \"mon\", \"mon\", \"money\", \"monitor\", \"monitor\", \"monitor\", \"monster\", \"montreal\", \"moon\", \"moore\", \"moral\", \"morality\", \"mormon\", \"moron\", \"morris\", \"mosaic\", \"moscow\", \"motherboard\", \"motif\", \"motorcycle\", \"mouse\", \"mouse\", \"mouse\", \"mouse\", \"mozumder\", \"mpr\", \"mr\", \"mr\", \"mr\", \"mr\", \"mr\", \"ms\", \"ms\", \"msg\", \"mubashir\", \"music\", \"music\", \"muslim\", \"mustang\", \"mydisplay\", \"myers\", \"mystical\", \"n.j\", \"naive\", \"nanci_ann_miller\", \"nasa\", \"nasa_langley\", \"nasa_lewis\", \"nasty\", \"nathan\", \"national\", \"national\", \"national\", \"national\", \"nationwide\", \"nature\", \"naval\", \"navy\", \"nazi\", \"nazis\", \"neck\", \"negligible\", \"negotiation\", \"net\", \"net\", \"net\", \"net\", \"net\", \"netcom\", \"netcom\", \"netcom\", \"netcom\", \"neutral\", \"new_brunswick\", \"new_york\", \"new_york\", \"new_york\", \"new_york\", \"new_zealand\", \"news\", \"news\", \"news\", \"news\", \"news\", \"news_gateway\", \"newsgroup\", \"newsgroup\", \"newsgroup\", \"newsgroup\", \"newspaper\", \"newspaper\", \"newspaper\", \"newsreader\", \"newsreader\", \"nhl\", \"nice\", \"nice\", \"nice\", \"nice\", \"nice\", \"nice\", \"nice\", \"nice\", \"nickname\", \"nj\", \"nl\", \"nntp\", \"north_carolina\", \"north_carolina\", \"note\", \"note\", \"note\", \"note\", \"note\", \"note\", \"note\", \"note\", \"note\", \"note\", \"nottingham\", \"novitskey\", \"nra\", \"nsa\", \"nsw\", \"nt\", \"nuclear_war\", \"number\", \"number\", \"number\", \"number\", \"number\", \"number\", \"number\", \"number\", \"number\", \"number\", \"number\", \"numlock\", \"nuntius\", \"nyi\", \"nysernet\", \"o&o\", \"obey\", \"objective\", \"objective\", \"objective\", \"obnoxious\", \"offensive\", \"offensive\", \"offer\", \"offer\", \"offer\", \"offer\", \"offer\", \"office\", \"office\", \"office\", \"office\", \"ohio\", \"ohio\", \"oil\", \"oil\", \"olde\", \"once_tappe\", \"opinion\", \"opinion\", \"opinion\", \"opinion\", \"opinion\", \"opinion\", \"opinion\", \"opinion\", \"opinion\", \"opnion\", \"optical\", \"option\", \"option\", \"option\", \"option\", \"oracle\", \"orbit\", \"orbital\", \"organization\", \"organization\", \"organization\", \"organization\", \"organization\", \"organization\", \"organization\", \"organization\", \"organization\", \"original_poster\", \"originator\", \"originator\", \"orthodox\", \"oscar\", \"ottawa\", \"outcry\", \"outlet\", \"overdrive\", \"overreact\", \"owner\", \"owner\", \"owner\", \"owner\", \"package\", \"package\", \"package\", \"packard\", \"pain\", \"palestine\", \"palestinian\", \"pascal\", \"passenger\", \"password\", \"pat\", \"patch\", \"pathology\", \"patient\", \"pay\", \"pay\", \"pay\", \"pc\", \"pc\", \"pd\", \"peace\", \"peace\", \"peak\", \"pen\", \"penguin\", \"people\", \"people\", \"people\", \"people\", \"people\", \"people\", \"people\", \"person\", \"person\", \"person\", \"person\", \"person\", \"person\", \"pgp\", \"phil_hunt\", \"philadelphia\", \"phone\", \"phone\", \"phone\", \"phone\", \"photograph\", \"phrase\", \"phrase\", \"physician\", \"pick\", \"pick\", \"pick\", \"pick\", \"pick\", \"picture\", \"picture\", \"pin\", \"ping\", \"pioneer\", \"pistol\", \"pit\", \"pitch\", \"pitcher\", \"pitching\", \"pitt\", \"pittsburgh\", \"pl6\", \"pl8\", \"pl8\", \"planet\", \"planet\", \"plant\", \"plant\", \"platform\", \"play\", \"play\", \"play\", \"player\", \"player\", \"playoff\", \"plus_minus_stat\", \"pocket\", \"point\", \"point\", \"point\", \"point\", \"point\", \"point\", \"point\", \"point\", \"point\", \"point\", \"point\", \"police\", \"police\", \"police_officer\", \"policy_research\", \"polite\", \"political\", \"political\", \"political_atheist\", \"polygon\", \"pope\", \"popular\", \"popular\", \"popular\", \"popular\", \"port\", \"port\", \"port\", \"position\", \"position\", \"position\", \"position\", \"post\", \"post\", \"post\", \"post\", \"poster\", \"poster\", \"poster\", \"posting\", \"posting\", \"posting\", \"posting\", \"posting\", \"postscript\", \"pov\", \"power\", \"power\", \"power\", \"power\", \"power\", \"power\", \"power\", \"power\", \"power\", \"power\", \"power_play\", \"pp\", \"pp\", \"pray\", \"prayer\", \"prc\", \"premise\", \"premium\", \"president\", \"president\", \"president\", \"pretty\", \"pretty\", \"pretty\", \"pretty\", \"pretty\", \"pretty\", \"pretty\", \"price\", \"price\", \"price\", \"price\", \"primeau\", \"privacy\", \"probe\", \"problem\", \"problem\", \"problem\", \"problem\", \"problem\", \"program\", \"program\", \"program\", \"program\", \"program\", \"programmable\", \"programme\", \"prohibit\", \"project\", \"project\", \"project\", \"project\", \"prophecy\", \"prophet\", \"proposal\", \"proposal\", \"proposal\", \"proposition\", \"prostitute\", \"proton\", \"prove\", \"prove\", \"provide\", \"provide\", \"provide\", \"provide\", \"provide\", \"provide\", \"provide\", \"provide\", \"provide\", \"provide\", \"pt\", \"pub\", \"public\", \"public\", \"public\", \"public\", \"puck\", \"pull\", \"pull\", \"pull\", \"pull\", \"pull\", \"pulse\", \"pun\", \"purchase\", \"purchase\", \"purchase\", \"purchase\", \"pyramid\", \"q&as\", \"qestion\", \"quadra\", \"quebec\", \"quebec\", \"question\", \"question\", \"question\", \"question\", \"question\", \"question\", \"question\", \"question\", \"question\", \"quote\", \"quote\", \"quote\", \"quote\", \"r4\", \"r5\", \"racist\", \"rack\", \"radar_detector\", \"radiator\", \"radio\", \"radio\", \"radio\", \"radio\", \"radiosity\", \"radius\", \"ram\", \"random\", \"random\", \"rarity\", \"rati\", \"rayshade\", \"rbi\", \"rca\", \"reaction\", \"reaction\", \"read\", \"read\", \"read\", \"read\", \"read\", \"read\", \"readable\", \"reader\", \"reader\", \"readme_file\", \"real\", \"real\", \"real\", \"real\", \"real\", \"real\", \"real\", \"real\", \"real\", \"real\", \"reality\", \"rear\", \"reardon\", \"reason\", \"reason\", \"reason\", \"reason\", \"reason\", \"receiver\", \"reference\", \"reference\", \"reference\", \"reference\", \"relay\", \"release\", \"release\", \"release\", \"release\", \"reliever\", \"religion\", \"religion\", \"religous\", \"remember\", \"remember\", \"remember\", \"remember\", \"remember\", \"remember\", \"remember\", \"rename\", \"report\", \"report\", \"report\", \"report\", \"report\", \"report\", \"reporting\", \"research\", \"research\", \"research\", \"research\", \"research\", \"research\", \"research_center\", \"research_center\", \"research_center\", \"reserve_university\", \"reset\", \"response\", \"response\", \"response\", \"response\", \"response\", \"restaurant\", \"reston\", \"result\", \"result\", \"result\", \"result\", \"result\", \"result\", \"result\", \"result\", \"result\", \"result\", \"resurrection\", \"retrieve\", \"revisionism\", \"revolting\", \"revolver\", \"rhp\", \"richardson\", \"ride\", \"rider\", \"ring\", \"ring\", \"ripem\", \"risc\", \"rk\", \"rkba\", \"rll\", \"road\", \"road\", \"robert\", \"robert\", \"robert\", \"robert\", \"robert\", \"robert\", \"robert\", \"robert_heinlein\", \"robert_r._novitskey\", \"robert_william_fusi\", \"robertson\", \"rockefeller\", \"rocket\", \"rocket\", \"rom\", \"rom\", \"roman\", \"rookie\", \"rose\", \"rotate\", \"rsa\", \"rtrace\", \"rubin\", \"rule\", \"rule\", \"rule\", \"rule\", \"rule\", \"rule\", \"run\", \"run\", \"run\", \"run\", \"run\", \"run\", \"run\", \"run\", \"russian\", \"russian\", \"s.\", \"s.\", \"s.\", \"s.\", \"s.\", \"s.n\", \"s1\", \"s2\", \"saab\", \"sabbath\", \"sabre\", \"safety\", \"safety\", \"safety\", \"safety\", \"sale\", \"salvation\", \"sample\", \"sample\", \"sample\", \"sandberg\", \"satan\", \"satellite\", \"satisfaxtion\", \"save\", \"save\", \"save\", \"save\", \"save\", \"scheme\", \"schiewer\", \"schism\", \"school\", \"school\", \"school\", \"school\", \"sci.astro\", \"sci.crypt\", \"science\", \"science\", \"scrape\", \"screen\", \"screen\", \"screen\", \"screen\", \"scripture\", \"scsi\", \"scsi-1\", \"scsi-2\", \"scumster\", \"season\", \"season\", \"seat\", \"seat\", \"seat\", \"second_amendment\", \"secret\", \"secret\", \"secretary\", \"section\", \"section\", \"section\", \"secure\", \"security\", \"security\", \"segment\", \"segment\", \"sell\", \"sell\", \"sell\", \"semi\", \"semi\", \"semitism\", \"senate\", \"send\", \"send\", \"send\", \"send\", \"send\", \"send\", \"send\", \"send\", \"send\", \"serdar\", \"serial_number\", \"serial_port\", \"seriously_doubt\", \"server\", \"server\", \"service\", \"service\", \"service\", \"service\", \"service\", \"service\", \"set\", \"set\", \"set\", \"set\", \"set\", \"set\", \"set\", \"set\", \"severe\", \"shameful\", \"shared_memory\", \"sheaffer\", \"sherri_nichols\", \"ship\", \"ship\", \"ship\", \"ship\", \"shipping\", \"shnekendorf\", \"sho\", \"shuttle\", \"sigh\", \"signal\", \"signal\", \"silicon_graphics\", \"simms\", \"simtel20\", \"simulator\", \"sin\", \"sinewave\", \"sinus\", \"size\", \"size\", \"size\", \"size\", \"size\", \"size\", \"skeptic\", \"skepticism\", \"skin\", \"slave\", \"slowly\", \"small\", \"small\", \"small\", \"small\", \"small\", \"small\", \"small\", \"small\", \"smiley\", \"smoke\", \"smtp\", \"snide\", \"software\", \"software\", \"software\", \"solar\", \"soldier\", \"sony\", \"sorensen\", \"sort\", \"sort\", \"sort\", \"sort\", \"soul\", \"sound\", \"sound\", \"sound\", \"sound\", \"source\", \"source\", \"source\", \"source\", \"source\", \"source\", \"source\", \"source\", \"space\", \"space\", \"spacecraft\", \"speak\", \"speak\", \"speak\", \"speak\", \"speak\", \"speak\", \"speak\", \"speaker\", \"specie\", \"speed\", \"speed\", \"speed\", \"speedisk\", \"speedo\", \"speedometer\", \"spend\", \"sphere\", \"st_louis\", \"stable\", \"stack\", \"stadium\", \"standard\", \"standard\", \"standard\", \"standard\", \"standard\", \"standard\", \"standard_colormap\", \"stanley_cup\", \"star\", \"star\", \"star\", \"start\", \"start\", \"start\", \"start\", \"start\", \"start\", \"start\", \"start\", \"start\", \"start\", \"start\", \"start\", \"starter\", \"state\", \"state\", \"state\", \"state\", \"state\", \"statement\", \"statement\", \"statement\", \"statement\", \"statement\", \"statue\", \"stephen\", \"stephen\", \"stephen\", \"stephen\", \"stereo\", \"stern\", \"steve\", \"steve\", \"steve\", \"steve\", \"steve\", \"steve\", \"steve_brinich\", \"stick\", \"stick\", \"stick\", \"stick\", \"stl\", \"stop\", \"stop\", \"stop\", \"stop\", \"stop\", \"stop\", \"stop\", \"study\", \"study\", \"study\", \"study\", \"stuff\", \"stuff\", \"stuff\", \"stuff\", \"stuff\", \"stuff\", \"stuff_delete\", \"stupidity\", \"submit\", \"submit\", \"subscribe\", \"sudden\", \"sue\", \"suicide\", \"suit\", \"suite\", \"summary\", \"summary\", \"summary\", \"summary\", \"summary\", \"summary\", \"summary\", \"summary\", \"summary\", \"sun\", \"sun\", \"sun\", \"sun\", \"sun_microsystems\", \"supersede\", \"support\", \"support\", \"support\", \"support\", \"support\", \"support\", \"support\", \"support\", \"surface\", \"surface\", \"surface\", \"survey\", \"survey\", \"suspension\", \"sw\", \"swap_file\", \"sweden\", \"swing\", \"switch\", \"switch\", \"switch\", \"symptom\", \"sync\", \"syndrome\", \"system\", \"system\", \"system\", \"system\", \"system\", \"system\", \"system\", \"system\", \"tab\", \"talent\", \"talk\", \"talk\", \"talk\", \"talk\", \"talk\", \"talk\", \"talk\", \"tap\", \"tape\", \"tape\", \"tape\", \"tape\", \"tape\", \"targa\", \"taste\", \"tax_dollar\", \"tea\", \"teach\", \"teach\", \"teaching\", \"team\", \"team\", \"team\", \"tech_support\", \"techno\", \"technology\", \"technology\", \"technology\", \"technology\", \"technology\", \"technology\", \"teltech\", \"temp\", \"ten_commandment\", \"tenn\", \"terminal\", \"test\", \"test\", \"test\", \"test\", \"test\", \"test\", \"texas\", \"texas\", \"texas\", \"texas_a&m\", \"text\", \"text\", \"text\", \"text\", \"theist\", \"thing\", \"thing\", \"thing\", \"thing\", \"thing\", \"thing\", \"thing\", \"thinking\", \"thu\", \"thursday\", \"tiff\", \"time\", \"time\", \"time\", \"time\", \"time\", \"time\", \"time\", \"time\", \"time\", \"time\", \"time\", \"time\", \"time\", \"time\", \"time\", \"tin\", \"tire\", \"titan\", \"toll\", \"tomorrow\", \"tone\", \"tony_alicea\", \"too_soon\", \"topic\", \"topic\", \"tor\", \"toronto\", \"toronto\", \"toronto_zoology\", \"toyota\", \"trade\", \"trade\", \"trade\", \"trade\", \"trading\", \"transformer\", \"translation\", \"traumatize\", \"treatment\", \"treatment\", \"troop\", \"trot\", \"truck\", \"truck\", \"true\", \"true\", \"true\", \"true\", \"trust\", \"trust\", \"trust\", \"truth\", \"truth\", \"tube\", \"tube\", \"tue\", \"turk\", \"turkey\", \"turkish\", \"turn\", \"turn\", \"turn\", \"turn\", \"turn\", \"turn\", \"turn\", \"turn\", \"tv\", \"tv\", \"tv\", \"tv\", \"tv\", \"tx\", \"tx\", \"type\", \"type\", \"type\", \"type\", \"type\", \"type\", \"type\", \"unbreakable\", \"understand\", \"understand\", \"understand\", \"understand\", \"understand\", \"underwear\", \"uneasy\", \"unfulfilled\", \"unger\", \"unity\", \"univ\", \"univ\", \"univ\", \"univ\", \"universally\", \"university\", \"university\", \"university\", \"university\", \"university\", \"university\", \"unix\", \"unix\", \"unrealistically\", \"upload\", \"uranium\", \"urbana\", \"usa\", \"usa\", \"usa\", \"usa\", \"usenet\", \"usenet\", \"usenet\", \"usenet\", \"user\", \"user\", \"user\", \"user\", \"user\", \"useragent\", \"utexas_mail\", \"utility\", \"utility\", \"utility\", \"uudecode\", \"v.32bi\", \"va_list\", \"validity\", \"valley\", \"valve\", \"van\", \"van\", \"van\", \"vanbiesbrouck\", \"vancouver\", \"vancouver\", \"vandalize\", \"vanish\", \"vax\", \"vax\", \"veal\", \"verse\", \"version\", \"version\", \"version\", \"version\", \"version\", \"vga\", \"video\", \"video\", \"video\", \"video_card\", \"viewer\", \"village\", \"violate\", \"violate\", \"virtual_memory\", \"virus\", \"visibly\", \"visitor\", \"vlb\", \"vms_vnews_1.41\", \"vocal\", \"volvo\", \"volvos\", \"vote\", \"vote\", \"wagon\", \"wait\", \"wait\", \"wait\", \"wait\", \"war\", \"war\", \"warwick\", \"washington\", \"washington\", \"watch\", \"watch\", \"watch\", \"watch\", \"watch\", \"water\", \"water\", \"water\", \"water\", \"weapon\", \"weapon\", \"weird_al\", \"wheel\", \"widget\", \"widget\", \"width\", \"win\", \"win\", \"win\", \"window\", \"window\", \"window_manag\", \"windows\", \"winnipeg\", \"wire\", \"wire\", \"wiretap\", \"wiring\", \"wmf\", \"wodziak\", \"woman\", \"woman\", \"woman\", \"woman\", \"word\", \"word\", \"word\", \"word\", \"work\", \"work\", \"work\", \"work\", \"work\", \"work\", \"work\", \"work\", \"work\", \"work\", \"work\", \"work\", \"working\", \"workstation\", \"world\", \"world\", \"world\", \"world\", \"world\", \"world\", \"world\", \"world\", \"world\", \"worship\", \"worth\", \"worth\", \"worth\", \"wounded\", \"wrap\", \"wright\", \"write\", \"write\", \"write\", \"write\", \"write\", \"write\", \"write\", \"write\", \"wrong\", \"wrong\", \"wrong\", \"wrong\", \"wrong\", \"wrongdoing\", \"x11\", \"x11r4\", \"x11r5\", \"x11r5\", \"x3252\", \"xdm\", \"xmu\", \"xputimage\", \"xt\", \"xterm\", \"xv\", \"xxdate\", \"xxmessage\", \"yankee\", \"year\", \"year\", \"year\", \"year\", \"year\", \"year\", \"year\", \"year\", \"year\", \"year\", \"year\", \"yo\", \"youth\", \"|a\"]}, \"R\": 30, \"lambda.step\": 0.01, \"plot.opts\": {\"xlab\": \"PC1\", \"ylab\": \"PC2\"}, \"topic.order\": [8, 18, 4, 13, 7, 9, 1, 20, 3, 16, 19, 5, 6, 11, 12, 2, 14, 15, 17, 10]};\n",
              "\n",
              "function LDAvis_load_lib(url, callback){\n",
              "  var s = document.createElement('script');\n",
              "  s.src = url;\n",
              "  s.async = true;\n",
              "  s.onreadystatechange = s.onload = callback;\n",
              "  s.onerror = function(){console.warn(\"failed to load library \" + url);};\n",
              "  document.getElementsByTagName(\"head\")[0].appendChild(s);\n",
              "}\n",
              "\n",
              "if(typeof(LDAvis) !== \"undefined\"){\n",
              "   // already loaded: just create the visualization\n",
              "   !function(LDAvis){\n",
              "       new LDAvis(\"#\" + \"ldavis_el2181397844404745761169528609\", ldavis_el2181397844404745761169528609_data);\n",
              "   }(LDAvis);\n",
              "}else if(typeof define === \"function\" && define.amd){\n",
              "   // require.js is available: use it to load d3/LDAvis\n",
              "   require.config({paths: {d3: \"https://d3js.org/d3.v5\"}});\n",
              "   require([\"d3\"], function(d3){\n",
              "      window.d3 = d3;\n",
              "      LDAvis_load_lib(\"https://cdn.jsdelivr.net/gh/bmabey/pyLDAvis@3.3.1/pyLDAvis/js/ldavis.v3.0.0.js\", function(){\n",
              "        new LDAvis(\"#\" + \"ldavis_el2181397844404745761169528609\", ldavis_el2181397844404745761169528609_data);\n",
              "      });\n",
              "    });\n",
              "}else{\n",
              "    // require.js not available: dynamically load d3 & LDAvis\n",
              "    LDAvis_load_lib(\"https://d3js.org/d3.v5.js\", function(){\n",
              "         LDAvis_load_lib(\"https://cdn.jsdelivr.net/gh/bmabey/pyLDAvis@3.3.1/pyLDAvis/js/ldavis.v3.0.0.js\", function(){\n",
              "                 new LDAvis(\"#\" + \"ldavis_el2181397844404745761169528609\", ldavis_el2181397844404745761169528609_data);\n",
              "            })\n",
              "         });\n",
              "}\n",
              "</script>"
            ],
            "text/plain": [
              "<IPython.core.display.HTML object>"
            ]
          },
          "metadata": {},
          "execution_count": 50
        }
      ]
    },
    {
      "cell_type": "markdown",
      "metadata": {
        "id": "B9caq8x7EGrl"
      },
      "source": [
        "# Get Topic proportions and dominant topic"
      ]
    },
    {
      "cell_type": "code",
      "metadata": {
        "id": "bJejJayXLCSb"
      },
      "source": [
        "def get_topic_proportions(\n",
        "    lda_model: LdaMallet,\n",
        "    docs_bow: List[List[Tuple[int, int]]]\n",
        ") -> List[List[Tuple[int, float]]]:\n",
        "  return lda_model[docs_bow]\n",
        "\n",
        "\n",
        "def sort_topic_proportions(\n",
        "    unsorted_topic_proportions: List[Tuple[int, float]],\n",
        "    reverse=True\n",
        ") -> List[Tuple[int, float]]:\n",
        "  return list(\n",
        "      sorted(\n",
        "          unsorted_topic_proportions,\n",
        "          key=lambda t: t[1],\n",
        "          reverse=reverse\n",
        "      )\n",
        "  )"
      ],
      "execution_count": 51,
      "outputs": []
    },
    {
      "cell_type": "code",
      "metadata": {
        "colab": {
          "base_uri": "https://localhost:8080/"
        },
        "id": "BjCHiCokrLpQ",
        "outputId": "3d05c75b-5587-4b08-a274-7e2e610bf4f6"
      },
      "source": [
        "%%time\n",
        "\n",
        "train_corpus_topic_proportions = get_topic_proportions(lda_model,\n",
        "                                                      train_corpus_bow)\n",
        "\n",
        "test_corpus_topic_proportions = get_topic_proportions(lda_model,\n",
        "                                                      test_corpus_bow)\n",
        "\n",
        "print(\"Review:\")\n",
        "pprint(test_corpus_raw[0])\n",
        "print(\"\\n In order topics:\")\n",
        "pprint(test_corpus_topic_proportions[0])\n",
        "print(\"\\n Sorted topics:\")\n",
        "pprint(\n",
        "    sort_topic_proportions(test_corpus_topic_proportions[0])\n",
        ")"
      ],
      "execution_count": 52,
      "outputs": [
        {
          "output_type": "stream",
          "name": "stdout",
          "text": [
            "Review:\n",
            "(\"from: x90sanson@gw.wmich.edu subject: what's the diff.between \"\n",
            " \"mouse.sys/com?? organization: western michigan university lines: 8 what's \"\n",
            " 'the difference between loading mouse.com in autoexec.bat and doing '\n",
            " 'device=mouse.sys in config.sys?? which one is better? thanks a lot enrique')\n",
            "\n",
            " In order topics:\n",
            "[(0, 0.044626593806921674),\n",
            " (1, 0.042805100182149364),\n",
            " (2, 0.044626593806921674),\n",
            " (3, 0.040983606557377046),\n",
            " (4, 0.04644808743169399),\n",
            " (5, 0.05555555555555555),\n",
            " (6, 0.040983606557377046),\n",
            " (7, 0.05555555555555555),\n",
            " (8, 0.0482695810564663),\n",
            " (9, 0.05919854280510018),\n",
            " (10, 0.06830601092896176),\n",
            " (11, 0.05009107468123861),\n",
            " (12, 0.042805100182149364),\n",
            " (13, 0.040983606557377046),\n",
            " (14, 0.05009107468123861),\n",
            " (15, 0.044626593806921674),\n",
            " (16, 0.0883424408014572),\n",
            " (17, 0.040983606557377046),\n",
            " (18, 0.05373406193078324),\n",
            " (19, 0.040983606557377046)]\n",
            "\n",
            " Sorted topics:\n",
            "[(16, 0.0883424408014572),\n",
            " (10, 0.06830601092896176),\n",
            " (9, 0.05919854280510018),\n",
            " (5, 0.05555555555555555),\n",
            " (7, 0.05555555555555555),\n",
            " (18, 0.05373406193078324),\n",
            " (11, 0.05009107468123861),\n",
            " (14, 0.05009107468123861),\n",
            " (8, 0.0482695810564663),\n",
            " (4, 0.04644808743169399),\n",
            " (0, 0.044626593806921674),\n",
            " (2, 0.044626593806921674),\n",
            " (15, 0.044626593806921674),\n",
            " (1, 0.042805100182149364),\n",
            " (12, 0.042805100182149364),\n",
            " (3, 0.040983606557377046),\n",
            " (6, 0.040983606557377046),\n",
            " (13, 0.040983606557377046),\n",
            " (17, 0.040983606557377046),\n",
            " (19, 0.040983606557377046)]\n",
            "CPU times: user 1.65 s, sys: 179 ms, total: 1.83 s\n",
            "Wall time: 17.8 s\n"
          ]
        }
      ]
    },
    {
      "cell_type": "markdown",
      "metadata": {
        "id": "FRvRrkRrZZUA"
      },
      "source": [
        "## Plot topic proportions"
      ]
    },
    {
      "cell_type": "code",
      "metadata": {
        "colab": {
          "base_uri": "https://localhost:8080/",
          "height": 707
        },
        "id": "Ia1-B2dOhLYD",
        "outputId": "8c485840-6926-40d2-a940-6f3b7b7eb92c"
      },
      "source": [
        "i = 0\n",
        "\n",
        "\n",
        "print(\"REVIEW #%d:\" % i)\n",
        "pprint(test_corpus_raw[i])\n",
        "print()\n",
        "\n",
        "\n",
        "def print_keywords_text(lda_model: LdaMallet, topic_id: int) -> str:\n",
        "  keywords = get_topic_keywords(lda_model, topic_id)\n",
        "  keywords_text = [text for text, proportion in keywords]\n",
        "  return (\"TOPIC #%d: \" % topic_id).ljust(11) + \", \".join(keywords_text)\n",
        "\n",
        "# topic_proportions = test_corpus_topic_proportions[i]\n",
        "topic_proportions = sort_topic_proportions(\n",
        "    test_corpus_topic_proportions[i],\n",
        "    reverse=False\n",
        ")\n",
        "proportions = [proportion for _, proportion in topic_proportions]\n",
        "keywords = [print_keywords_text(lda_model, id) for id, _ in topic_proportions]\n",
        "\n",
        "my_range = range(num_topics)\n",
        "\n",
        "\n",
        "plt.figure(figsize=(8,10))\n",
        "plt.hlines(\n",
        "    y=my_range,\n",
        "    xmin=0,\n",
        "    xmax=proportions,\n",
        "    color='skyblue'\n",
        ")\n",
        "\n",
        "# Plot\n",
        "plt.plot(\n",
        "    proportions,\n",
        "    my_range,\n",
        "    'o'\n",
        ")\n",
        " \n",
        "plt.gca().yaxis.set_ticks_position(\"right\")\n",
        "plt.yticks(\n",
        "    my_range,\n",
        "    keywords,\n",
        "    fontsize=12\n",
        ")\n",
        " \n",
        "plt.ylabel('TOPICS')\n",
        "plt.xlabel('TOPIC PROPORTION')\n",
        "\n",
        "plt.show()"
      ],
      "execution_count": 53,
      "outputs": [
        {
          "output_type": "stream",
          "name": "stdout",
          "text": [
            "REVIEW #0:\n",
            "(\"from: x90sanson@gw.wmich.edu subject: what's the diff.between \"\n",
            " \"mouse.sys/com?? organization: western michigan university lines: 8 what's \"\n",
            " 'the difference between loading mouse.com in autoexec.bat and doing '\n",
            " 'device=mouse.sys in config.sys?? which one is better? thanks a lot enrique')\n",
            "\n"
          ]
        },
        {
          "output_type": "display_data",
          "data": {
            "image/png": "[encoded data removed]",
            "text/plain": [
              "<Figure size 576x720 with 1 Axes>"
            ]
          },
          "metadata": {
            "needs_background": "light"
          }
        }
      ]
    },
    {
      "cell_type": "markdown",
      "metadata": {
        "id": "aIttWxTKs0SS"
      },
      "source": [
        "# Check out the dominant topic keywords for some randomly-selected unseen documents"
      ]
    },
    {
      "cell_type": "code",
      "metadata": {
        "colab": {
          "base_uri": "https://localhost:8080/"
        },
        "id": "QfH9ivaLsR4m",
        "outputId": "0058e4bd-c7d4-4d37-e7ad-623ebe807250"
      },
      "source": [
        "num_docs = 10\n",
        "\n",
        "for i in np.random.randint(len(testset_dataframe), size=num_docs):\n",
        "  print(\"Review #%d:\" % i)\n",
        "  pprint(test_corpus_raw[i])\n",
        "\n",
        "  sorted_topic_proportions = sort_topic_proportions(\n",
        "      test_corpus_topic_proportions[i]\n",
        "  )\n",
        "\n",
        "  print(\"\\nDominant Topic (%f) Keywords:\" % sorted_topic_proportions[0][1])\n",
        "  first_dominant_topic_id = sorted_topic_proportions[0][0]\n",
        "  print(\n",
        "      get_topic_keywords(\n",
        "          lda_model,\n",
        "          first_dominant_topic_id\n",
        "      )\n",
        "  )\n",
        "\n",
        "  print(\"\\nSecond Topic (%f) Keywords:\" % sorted_topic_proportions[1][1])\n",
        "  second_topic_id = sorted_topic_proportions[1][0]\n",
        "  print(\n",
        "      get_topic_keywords(\n",
        "          lda_model,\n",
        "          second_topic_id\n",
        "      )\n",
        "  )\n",
        " \n",
        "  print(\"-\" * 335)"
      ],
      "execution_count": 55,
      "outputs": [
        {
          "output_type": "stream",
          "name": "stdout",
          "text": [
            "Review #1055:\n",
            "('from: reb@hprnd.rose.hp.com (ralph bean) subject: re: saturn pricing '\n",
            " 'blatherings article-i.d.: hpchase.1pqkjv$46l organization: hewlett packard '\n",
            " 'roseville site lines: 12 nntp-posting-host: hprnd.rose.hp.com x-newsreader: '\n",
            " 'tin [version 1.1 pl8.8] mihir pramod shah (mps1@cec1.wustl.edu) wrote: : '\n",
            " 'robert j. wade writes: : > until...and more saturn retailers are built(like '\n",
            " '2 in the same city), : ^^^^^^^^^^^^^^^^^^^^^^^ : ...most medium and large '\n",
            " 'cities have...a small handful of saturn dealers now sacramento has two '\n",
            " 'saturn dealerships. : mihir shah ralph bean hprnd.rose.hp.com')\n",
            "\n",
            "Dominant Topic (0.148345) Keywords:\n",
            "[('car', 0.03015909921280765), ('bike', 0.012023781844753712), ('drive', 0.009100873551001427), ('ride', 0.008137642408742153), ('engine', 0.007905138339920948), ('road', 0.006875477463712758), ('turn', 0.006443684193044807), ('dog', 0.005746171986581194), ('speed', 0.005712957119606736), ('light', 0.005613312518683362)]\n",
            "\n",
            "Second Topic (0.112884) Keywords:\n",
            "[('write', 0.16365297498953138), ('article', 0.14404811755300925), ('organization', 0.07335642772850128), ('line', 0.06456279264532339), ('good', 0.02341162587079828), ('hear', 0.016711713426472267), ('thing', 0.012600403517454034), ('opinion', 0.012486200464425749), ('i.d', 0.012143591305340895), ('read', 0.006547641706954966)]\n",
            "-----------------------------------------------------------------------------------------------------------------------------------------------------------------------------------------------------------------------------------------------------------------------------------------------------------------------------------------------\n",
            "Review #742:\n",
            "('from: mmanning@icomsim.com (michael manning) subject: re: riceburner respect '\n",
            " 'organization: icom simulations lines: 27 in article '\n",
            " '<oxz12b1w164w@cellar.org> craig@cellar.org (saint craig) writes: > '\n",
            " \"shz@mare.att.com (keeper of the 'tude) writes: > > no anyone who is a \"\n",
            " '\"true\" rider with the real riding > attitude will offer a wave, weather they '\n",
            " 'are on a harley > or on a honda or some other bike, inless they have a > '\n",
            " \"serious case of my bike is better than your and you're > too low to be \"\n",
            " \"acknowleged. this you'll find is the case > with most of the harley riders \"\n",
            " 'out here where i am, > however i still give them a wave, and ride secure in '\n",
            " 'the > knowlege that i am a better persob than they are. ^^^^^^ persob, i '\n",
            " 'kinda like that most people wave or return my wave when i am on my harley. '\n",
            " 'other harley riders seldom wave back to me when i am on my duck. squids do '\n",
            " 'not wave, or return waves ever, even to each other, from what i can tell. -- '\n",
            " 'michael manning mmanning@icomsim.com (nextmail accepted.) `92 flstf fatboy '\n",
            " '`92 ducati 900ss')\n",
            "\n",
            "Dominant Topic (0.198551) Keywords:\n",
            "[('car', 0.03015909921280765), ('bike', 0.012023781844753712), ('drive', 0.009100873551001427), ('ride', 0.008137642408742153), ('engine', 0.007905138339920948), ('road', 0.006875477463712758), ('turn', 0.006443684193044807), ('dog', 0.005746171986581194), ('speed', 0.005712957119606736), ('light', 0.005613312518683362)]\n",
            "\n",
            "Second Topic (0.106763) Keywords:\n",
            "[('write', 0.16365297498953138), ('article', 0.14404811755300925), ('organization', 0.07335642772850128), ('line', 0.06456279264532339), ('good', 0.02341162587079828), ('hear', 0.016711713426472267), ('thing', 0.012600403517454034), ('opinion', 0.012486200464425749), ('i.d', 0.012143591305340895), ('read', 0.006547641706954966)]\n",
            "-----------------------------------------------------------------------------------------------------------------------------------------------------------------------------------------------------------------------------------------------------------------------------------------------------------------------------------------------\n",
            "Review #1523:\n",
            "('from: sys1@exnet.co.uk (xavier gallagher) subject: re: employment (was re: '\n",
            " 'why not concentrate on child molesters? organization: exnet systems ltd '\n",
            " 'public access news, london, uk lines: 28 in article '\n",
            " '<c5hf6r.cg3@ncratl.atlantaga.ncr.com> mwilson@ncratl.atlantaga.ncr.com (mark '\n",
            " 'wilson) writes: >in <c5fg7t.6at@exnet.co.uk> sys1@exnet.co.uk (xavier '\n",
            " 'gallagher) writes: > >|i have to disagree. you do not take your logic far '\n",
            " 'enough. > >|true, man did not invent the need for food, shelter, warmth and '\n",
            " 'the ilk, >|but man did invent the property laws and the laws of trespass. > '\n",
            " '>i guess xavier has never heard of territoriality in animals. many animals, '\n",
            " '>especially preditors will stake out a territory and chase of any members of '\n",
            " \">the same species that tries to invade their territory. yes, i have! wasn't \"\n",
            " 'there a case of a single lion ruling all the land from south africa up to '\n",
            " 'egypt across to the congo? if my memory serves me correctly there was enough '\n",
            " \"game to feed some 100,000 or more lions but he wouldn't let the other lions \"\n",
            " 'hunt as he wanted it all himself. he died of a heart attack brought on by '\n",
            " 'being overweight. good thing too as he had designs on europe, america (north '\n",
            " 'and south), and the falkland islands. >mark.wilson@atlantaga.ncr.com xavier.')\n",
            "\n",
            "Dominant Topic (0.105424) Keywords:\n",
            "[('people', 0.019385082035019992), ('state', 0.018199365779677373), ('gun', 0.017785743830139252), ('law', 0.0145594926237419), ('government', 0.012463808079415415), ('case', 0.008493037363849442), ('country', 0.0068936991589687024), ('firearm', 0.006838549565696953), ('kill', 0.006673100785881704), ('crime', 0.006259478836343582)]\n",
            "\n",
            "Second Topic (0.098425) Keywords:\n",
            "[('israel', 0.012785364053355829), ('jews', 0.012495386724310645), ('people', 0.011757262614013813), ('turkish', 0.008356619391574841), ('armenian', 0.0076712184320134975), ('attack', 0.007302156376865081), ('armenians', 0.007012179047819898), ('war', 0.00682764802024569), ('kill', 0.0065113091158327625), ('israeli', 0.006458585965097274)]\n",
            "-----------------------------------------------------------------------------------------------------------------------------------------------------------------------------------------------------------------------------------------------------------------------------------------------------------------------------------------------\n",
            "Review #599:\n",
            "('from: duck@nuustak.csir.co.za (paul ducklin) subject: re: do we need the '\n",
            " 'clipper for cheap security? organization: csir, south africa lines: 27 '\n",
            " 'nntp-posting-host: nuustak.csir.co.za x-disclaimer: none of the opions '\n",
            " 'expressed herein are the official x-disclaimer: opinions of the csir or any '\n",
            " 'of its subsidiaries. x-disclaimer: ** so do not freak out at _us_ about '\n",
            " 'anything ** gtoal@gtoal.com (graham toal) writes: >can someone tell me if '\n",
            " 'hardware compression is or is not needed to run >digital speech down 14.4k? '\n",
            " 'i think it is; i have heard it is not. lets >say 8 bit samples. would *raw* '\n",
            " 'data at the corresponding sampling rate >be usable? if not, how fancy does '\n",
            " 'the compression need to be? it is all easy with a dsp. the olivetti '\n",
            " 'quaderno, for example [*great* 1kg subnotebook/palmtop pc -- sorry for the '\n",
            " 'plug, folks, but olivetti do not seem to be doing a good job marketing it '\n",
            " 'themselves :-)] includes sound digitisation hardware; they provide vocoders '\n",
            " \"for their dsp which produce varous bit-rates. there's one which gives pretty \"\n",
            " 'acceptable voice quality at 13kbit/sec, just right for a v.32bis modem. '\n",
            " \"their dsp can play and record at the same time, too -- so you wouldn't need \"\n",
            " 'to play \"two-way-radio\". you can also download code to the dsp subunit, '\n",
            " \"though you'd need a software development kit for the dsp in question [dunno \"\n",
            " 'which it is...] if you wanted to produce your own vocoder for, say, v.32 '\n",
            " 'speeds. paul '\n",
            " '/\\\\/\\\\/\\\\/\\\\/\\\\/\\\\/\\\\/\\\\/\\\\/\\\\/\\\\/\\\\/\\\\/\\\\/\\\\/\\\\/\\\\/\\\\/\\\\/\\\\/\\\\/\\\\/\\\\/\\\\/\\\\/\\\\/\\\\/\\\\/\\\\/\\\\/\\\\/\\\\/\\\\ '\n",
            " '\\\\ paul ducklin duck@nuustak.csir.co.za / / csir computer virus lab + box '\n",
            " '395 + pretoria + 0001 s africa \\\\ '\n",
            " '\\\\/\\\\/\\\\/\\\\/\\\\/\\\\/\\\\/\\\\/\\\\/\\\\/\\\\/\\\\/\\\\/\\\\/\\\\/\\\\/\\\\/\\\\/\\\\/\\\\/\\\\/\\\\/\\\\/\\\\/\\\\/\\\\/\\\\/\\\\/\\\\/\\\\/\\\\/\\\\/\\\\/')\n",
            "\n",
            "Dominant Topic (0.068627) Keywords:\n",
            "[('post', 0.13902608427226423), ('host', 0.09854915882080569), ('nntp', 0.0956551937027319), ('organization', 0.07790554097854607), ('line', 0.07489581725574934), ('university', 0.05741626794258373), ('distribution', 0.03630961568143232), ('usa', 0.025003858620157433), ('world', 0.013620929155733909), ('news', 0.008218860935329525)]\n",
            "\n",
            "Second Topic (0.049020) Keywords:\n",
            "[('key', 0.03621460006046965), ('system', 0.013236133973863674), ('chip', 0.010985319313333557), ('encryption', 0.009540766620754527), ('security', 0.009137635636778984), ('government', 0.009070447139449727), ('public', 0.00873450465280344), ('phone', 0.008196996674169382), ('message', 0.008163402425504753), ('bit', 0.007961836933516982)]\n",
            "-----------------------------------------------------------------------------------------------------------------------------------------------------------------------------------------------------------------------------------------------------------------------------------------------------------------------------------------------\n",
            "Review #1543:\n",
            "('from: mcbeeb@atlantis.csos.orst.edu (brian mcbee) subject: how can clipper '\n",
            " 'stay classified? article-i.d.: leela.1qstqs$jmt distribution: world '\n",
            " 'organization: cs dept. oregon state university, corvallis, oregon. lines: 8 '\n",
            " 'nntp-posting-host: atlantis.csos.orst.edu maybe i do not know enough to know '\n",
            " 'what i am asking, but with millions of these things about, how could the '\n",
            " \"algorythm possibly stay secret? couldn't some clever hackers just grind the \"\n",
            " 'thing down layer by layer, and see how it worked? -- ---- brian mcbee '\n",
            " 'mcbeeb@atlantis.cs.orst.edu finger me for pgp 2.1 key')\n",
            "\n",
            "Dominant Topic (0.143519) Keywords:\n",
            "[('key', 0.03621460006046965), ('system', 0.013236133973863674), ('chip', 0.010985319313333557), ('encryption', 0.009540766620754527), ('security', 0.009137635636778984), ('government', 0.009070447139449727), ('public', 0.00873450465280344), ('phone', 0.008196996674169382), ('message', 0.008163402425504753), ('bit', 0.007961836933516982)]\n",
            "\n",
            "Second Topic (0.139550) Keywords:\n",
            "[('post', 0.13902608427226423), ('host', 0.09854915882080569), ('nntp', 0.0956551937027319), ('organization', 0.07790554097854607), ('line', 0.07489581725574934), ('university', 0.05741626794258373), ('distribution', 0.03630961568143232), ('usa', 0.025003858620157433), ('world', 0.013620929155733909), ('news', 0.008218860935329525)]\n",
            "-----------------------------------------------------------------------------------------------------------------------------------------------------------------------------------------------------------------------------------------------------------------------------------------------------------------------------------------------\n",
            "Review #1229:\n",
            "('from: stephen@orchid.ucsc.edu () subject: a rational viewpoint ---> was re: '\n",
            " 'new study out on gay percentage organization: santa cruz lines: 29 '\n",
            " 'nntp-posting-host: orchid.ucsc.edu in article <c5l0v1.jcv@news.cso.uiuc.edu> '\n",
            " 'dans@uxa.cso.uiuc.edu (dan s.) writes: > >do not forget about the culture. '\n",
            " 'sadly, we do not (as a society) look upon >homosexuality as normal (and as '\n",
            " 'we are all too well aware, there are alot >of people who condemn it). as a '\n",
            " 'result, the gay population is not encouraged >to develop \"non-promiscuous\" '\n",
            " 'relationships. in fact there are many roadblocks >put in the way of such '\n",
            " 'committed relationships. it is as if the heterosexual >community puts these '\n",
            " 'blocks there so as to perpetuate the claim that gays >are immoral. \"my, if '\n",
            " \"we allowed gays to marry, raise children ... we might >just find out they're \"\n",
            " 'as moral as we are, can not have that can we?\" > >just some thoughts. flame '\n",
            " 'away. :) > >dan this is a very good point. one that i have held for '\n",
            " 'sometime. we do not allow people to develop on the paths that they choose or '\n",
            " 'desire. even with heterosexuals we tend to leave some hanging in the sense '\n",
            " 'of knowledge and information about sexuality and relationships. it is very '\n",
            " 'difficult for a young person to develop and build a positive view of '\n",
            " 'themself when they are constantly being told implicitly and explicitly that '\n",
            " 'they are wrong and immoral. the concepts about personal relationships are '\n",
            " 'deeply embedded in emotionalism and fear- these fears cover a wide range, '\n",
            " 'but mostly jealousy and lack of trust seem to be cornerstones of modern day '\n",
            " 'american relationships. we also set on top of this the concepts of madison '\n",
            " 'avenue attractiveness and standards and put the pressure on to measure up.')\n",
            "\n",
            "Dominant Topic (0.179677) Keywords:\n",
            "[('question', 0.013581830528936845), ('true', 0.012450011318192107), ('claim', 0.011997283633894212), ('people', 0.009456978294222691), ('exist', 0.009130008300007545), ('argument', 0.009104856761990996), ('evidence', 0.00792273447521316), ('matter', 0.007495158328931814), ('thing', 0.007344249100832516), ('reason', 0.0071178852586835685)]\n",
            "\n",
            "Second Topic (0.143812) Keywords:\n",
            "[('university', 0.012776723592662872), ('april', 0.009993674889310564), ('news', 0.007748260594560405), ('state', 0.007273877292852625), ('report', 0.007210626185958254), ('national', 0.006957621758380772), ('study', 0.006609740670461733), ('world', 0.006483238456672992), ('day', 0.006230234029095509), ('include', 0.006198608475648324)]\n",
            "-----------------------------------------------------------------------------------------------------------------------------------------------------------------------------------------------------------------------------------------------------------------------------------------------------------------------------------------------\n",
            "Review #2252:\n",
            "('from: clay@rsd.dl.nec.com (clay finley) subject: re: carrying arms '\n",
            " 'nntp-posting-host: rsd21.rsd.dl.nec.com organization: nec america, radio '\n",
            " 'software dept distribution: usa lines: 22 |> in article '\n",
            " '<1993apr5.220457.6800@spdc.ti.com> dwhite@epcot.spdc.ti.com (dan white) '\n",
            " \"writes: |> |> >however, haven't we already lost our right to bear arms? |> \"\n",
            " '|> > it seems that in most states, like texas, a citizen may own a |> >gun '\n",
            " 'and carry while at his home or business. but a citizen is severely |> '\n",
            " '>restricted from bearing outside these areas. here in texas you cannot |> '\n",
            " '>carry in your car except when \"traveling\" which is usually defined as |> '\n",
            " '>\"traveling across a county line.\" how did this come about? are there |> '\n",
            " '>any court rulings on the legality of restricting the carrying of a |> '\n",
            " '>weapon outside the home? |> in texas, it is legal to carry handguns while '\n",
            " '\"traveling\", and also to and from sporting activities. ^^^^^^^^ chapter 46 '\n",
            " 'of the texas state penal code does not restrict long guns. therefore, it is '\n",
            " 'legal to carry and transport long guns any place in texas. regards, clay')\n",
            "\n",
            "Dominant Topic (0.266034) Keywords:\n",
            "[('people', 0.019385082035019992), ('state', 0.018199365779677373), ('gun', 0.017785743830139252), ('law', 0.0145594926237419), ('government', 0.012463808079415415), ('case', 0.008493037363849442), ('country', 0.0068936991589687024), ('firearm', 0.006838549565696953), ('kill', 0.006673100785881704), ('crime', 0.006259478836343582)]\n",
            "\n",
            "Second Topic (0.106143) Keywords:\n",
            "[('post', 0.13902608427226423), ('host', 0.09854915882080569), ('nntp', 0.0956551937027319), ('organization', 0.07790554097854607), ('line', 0.07489581725574934), ('university', 0.05741626794258373), ('distribution', 0.03630961568143232), ('usa', 0.025003858620157433), ('world', 0.013620929155733909), ('news', 0.008218860935329525)]\n",
            "-----------------------------------------------------------------------------------------------------------------------------------------------------------------------------------------------------------------------------------------------------------------------------------------------------------------------------------------------\n",
            "Review #490:\n",
            "('from: dbm0000@tm0006.lerc.nasa.gov (david b. mckissock) subject: re: space '\n",
            " 'station redesign, jsc alternative #4 organization: nasa lewis research '\n",
            " 'center / cleveland, ohio lines: 102 distribution: world nntp-posting-host: '\n",
            " 'tm0006.lerc.nasa.gov news-software: vax/vms vnews 1.41 in article '\n",
            " '<1993apr23.184732.1105@aio.jsc.nasa.gov>, kjenks@gothamcity.jsc.nasa.gov '\n",
            " 'writes... {description of \"external tank\" option for ssf redesign deleted} '\n",
            " \">mark proposed this design at joe shea's committee in crystal city, >and he \"\n",
            " 'reports that he was warmly received. however, the rumors >i hear say that a '\n",
            " 'design based on a wingless space shuttle orbiter >seems more likely. yo ken, '\n",
            " 'let\\'s keep on-top of things! both the \"external tank\" and \"wingless '\n",
            " 'orbiter\" options have been deleted from the ssf redesign options list. '\n",
            " \"today's (4/23) edition of the new york times reports that o'connor told the \"\n",
            " 'panel that some redesign proposals have been dropped, such as using the '\n",
            " '\"giant external fuel tanks used in launching space shuttles,\" and building a '\n",
            " '\"station around an existing space shuttle with its wings and tail removed.\" '\n",
            " 'currently, there are three options being considered, as presented to the '\n",
            " \"advisory panel meeting yesterday (and as reported in today's times). option \"\n",
            " '\"a\" - low cost modular approach this option is being studied by a team from '\n",
            " 'msfc. {as an aside, there are ssf redesign teams at msfc, jsc, and larc '\n",
            " 'supporting the srt (station redesign team) in crystal city. both lerc and '\n",
            " 'reston folks are also on-site at these locations, helping the respective '\n",
            " 'teams with their redesign activities.} key features of this option are: - '\n",
            " 'uses \"bus-1\", a modular bus developed by lockheed that is qualified for sts '\n",
            " \"and elv's. the bus provides propulsion, gn&c communications, & data \"\n",
            " 'management. lockheed developed this for the air force. - a \"power station '\n",
            " 'capability\" is obtained in 3 shuttle flights. ssf solar arrays are used to '\n",
            " 'provide 20 kw of power. the vehicle flies in an \"arrow mode\" to optimize the '\n",
            " 'microgravity environment. shuttle/spacelab missions would utilize the '\n",
            " 'vehilce as a power source for 30 day missions. - human tended capability (as '\n",
            " 'opposed to the old ssf sexist term of man-tended capability) is achieved by '\n",
            " 'the addition of the us common module. this is a modified version of the '\n",
            " 'existing ssf lab module (docking ports are added for the international '\n",
            " \"partners' labs, taking the place of the nodes on ssf). the shuttle can be \"\n",
            " 'docked to the station for 60 day missions. the orbiter would provide crew '\n",
            " 'habitability & eva capability. - international human tended. add the nasda & '\n",
            " 'esa modules, and add another 20 kw of power - permanent human presence '\n",
            " 'capability. add a 3rd power module, the u.s. habitation module, and an acrv '\n",
            " '(assured crew return vehicle). option \"b\" - space station freedom derived '\n",
            " 'the option \"b\" team is based at larc, and is lead by mike griffin. this '\n",
            " 'option looks alot like the existing ssf design, which we have all come to '\n",
            " 'know and love :) this option assumes a lightweight external tank is '\n",
            " 'available for use on all ssf assembly flights (so does option \"a\"). also, '\n",
            " 'the number of flights is computed for a 51.6 inclination orbit, for both '\n",
            " 'options \"a\" and \"b\". the build-up occurs in six phases: - initial research '\n",
            " 'capability reached after 3 flights. power is transferred from the vehicle to '\n",
            " 'the orbiter/spacelab, when it visits. - man-tended capability (griffin has '\n",
            " 'not yet adopted non-sexist language) is achieved after 8 flights. the u.s. '\n",
            " 'lab is deployed, and 1 solar power module provides 20 kw of power. - '\n",
            " 'permanent human presence capability occurs after 10 flights, by keeping one '\n",
            " 'orbiter on-orbit to use as an acrv (so sometimes there would be two orbiters '\n",
            " 'on-orbit - the acrv, and the second one that comes up for logistics & '\n",
            " 're-supply). - a \"two fault tolerance capability\" is achieved after 14 '\n",
            " 'flights, with the addition of a 2nd power module, another thermal control '\n",
            " 'system radiator, and more propulsion modules. - after 20 flights, the '\n",
            " 'internationals are on-board. more power, the habitation module, and an acrv '\n",
            " 'are added to finish the assembly in 24 flights. most of the systems '\n",
            " 'currently on ssf are used as-is in this option, with the exception of the '\n",
            " 'data management system, which has major changes. option c - single core '\n",
            " 'launch station. this is the jsc lead option. basically, you take a 23 ft '\n",
            " 'diameter cylinder that is 92 ft long, slap 3 space shuttle main engines on '\n",
            " 'the backside, put a nose cone on the top, attached it to a regular shuttle '\n",
            " 'external tank and a regular set of solid rocket motors, and launch the can. '\n",
            " 'some key features are: - complete end-to-end ground integration and checkout '\n",
            " '- 4 tangentially mounted fixed solar panels - body mounted radiators (which '\n",
            " 'adds protection against micrometeroid & orbital debris) - 2 centerline '\n",
            " 'docking ports (one on each end) - 7 berthing ports - a single pressurized '\n",
            " 'volume, approximately 26,000 cubic feet (twice the volume of skylab). - 7 '\n",
            " 'floors, center passageway between floors - 10 kw of housekeeping power - '\n",
            " 'graceful degradation with failures (8 power channels, 4 thermal loops, dual '\n",
            " 'environmental control & life support system) - increased crew time for '\n",
            " 'utilization - 1 micro-g thru out the core module')\n",
            "\n",
            "Dominant Topic (0.370724) Keywords:\n",
            "[('space', 0.0195773884775149), ('earth', 0.007946541448437781), ('nasa', 0.007802058876648004), ('point', 0.007693696947805671), ('power', 0.006826801517067004), ('launch', 0.006429474444645114), ('water', 0.00574318222864367), ('center', 0.00574318222864367), ('system', 0.005562579013906448), ('high', 0.0054180964421166695)]\n",
            "\n",
            "Second Topic (0.099434) Keywords:\n",
            "[('drive', 0.021623694613251518), ('card', 0.02044368399315594), ('driver', 0.013186618679568116), ('system', 0.012242610183491652), ('mac', 0.011800106200955809), ('bit', 0.010502094518850669), ('apple', 0.010236592129329165), ('problem', 0.010089090801817217), ('mb', 0.009204082836745531), ('mode', 0.009174582571243142)]\n",
            "-----------------------------------------------------------------------------------------------------------------------------------------------------------------------------------------------------------------------------------------------------------------------------------------------------------------------------------------------\n",
            "Review #1443:\n",
            "('from: wellison@kuhub.cc.ukans.edu subject: re: help with ultra-long timing '\n",
            " 'organization: university of kansas academic computing services lines: 33 '\n",
            " 'thanks for the resposes as they were all good ideas and i am looking at '\n",
            " 'using a couple of the ideas. i recieved in the mail today the spec sheets on '\n",
            " \"the mil. spec version of exar's xr-2240 timer/counter chip. it is stable \"\n",
            " 'down to -50 c and sucks very little power. they show an application for a '\n",
            " 'ultra-long time delay (up to several years depending on the rc time '\n",
            " 'constant). in this application, they have two of them cascaded together. the '\n",
            " 'reset and trigger pins of both chips are tied together and the timebase of '\n",
            " 'the second chip is disabled. in this configuration, the output is high when '\n",
            " 'the system is reset. when triggered, the output goes low and stays that way '\n",
            " 'for a total of 65,536 x the timing cycle of the first chip. the total timing '\n",
            " 'cycle of the two chips can be programmed from to = 256 x r x c to 65,536 x r '\n",
            " 'x c in 256 steps by selecting any combination of the counter outputs to the '\n",
            " 'timer output. the beauty of it is, the timebase chip would only have to have '\n",
            " 'a 100uf timing cap and a 391k resistor for 39.1 seconds per timing cycle. so '\n",
            " 'i can get a maximum of 2,562,457.6 seconds between timing cycles (39.1 x '\n",
            " '65,536 or about 29 days !) of course, that is much more than i need (14 '\n",
            " 'days). but the counter allows for 256 binary steps that can be selected for '\n",
            " \"the output for the 'pellet puker'. after the first 14 days and it trips, it \"\n",
            " 'would reset its self for the next 14 day timing cycle and so forth. power is '\n",
            " 'still a problem though. a few ideas that you suggested was to bury the '\n",
            " 'electronics in a hole dug in the snow (as an insulator) and put the pellet '\n",
            " 'puker up on a tower above the estimated snow fall with a solar panel on it '\n",
            " 'to keep a charge on a lithium battery pack. i like that idea ;-) this thing '\n",
            " 'has to work for at least six weeks for three samples and the gas valves are '\n",
            " '12 volts to spit the pellets out onto the snow. anyway, i ordered the '\n",
            " \"xr-2240's to see what i can do with them. should be interesting (as long as \"\n",
            " 'i am not the one that has to go digging up the pellets in the middle of '\n",
            " 'antartica freezing my buns off ;-) thanks again everyone... -=-= wes =-=-')\n",
            "\n",
            "Dominant Topic (0.123955) Keywords:\n",
            "[('drive', 0.021623694613251518), ('card', 0.02044368399315594), ('driver', 0.013186618679568116), ('system', 0.012242610183491652), ('mac', 0.011800106200955809), ('bit', 0.010502094518850669), ('apple', 0.010236592129329165), ('problem', 0.010089090801817217), ('mb', 0.009204082836745531), ('mode', 0.009174582571243142)]\n",
            "\n",
            "Second Topic (0.118578) Keywords:\n",
            "[('space', 0.0195773884775149), ('earth', 0.007946541448437781), ('nasa', 0.007802058876648004), ('point', 0.007693696947805671), ('power', 0.006826801517067004), ('launch', 0.006429474444645114), ('water', 0.00574318222864367), ('center', 0.00574318222864367), ('system', 0.005562579013906448), ('high', 0.0054180964421166695)]\n",
            "-----------------------------------------------------------------------------------------------------------------------------------------------------------------------------------------------------------------------------------------------------------------------------------------------------------------------------------------------\n",
            "Review #982:\n",
            "('from: drlovemd@jhuvms.hcf.jhu.edu (steve liu) subject: what is the current '\n",
            " 'rom version shipping in syquest drives? organization: the johns hopkins '\n",
            " 'university - hcf lines: 4 distribution: world nntp-posting-host: '\n",
            " 'jhuvms.hcf.jhu.edu news-software: vax/vms vnews 1.41 the title says it all. '\n",
            " 'i need to know the 44, 88, and 88c rom versions. steve :-)')\n",
            "\n",
            "Dominant Topic (0.188438) Keywords:\n",
            "[('post', 0.13902608427226423), ('host', 0.09854915882080569), ('nntp', 0.0956551937027319), ('organization', 0.07790554097854607), ('line', 0.07489581725574934), ('university', 0.05741626794258373), ('distribution', 0.03630961568143232), ('usa', 0.025003858620157433), ('world', 0.013620929155733909), ('news', 0.008218860935329525)]\n",
            "\n",
            "Second Topic (0.087838) Keywords:\n",
            "[('drive', 0.021623694613251518), ('card', 0.02044368399315594), ('driver', 0.013186618679568116), ('system', 0.012242610183491652), ('mac', 0.011800106200955809), ('bit', 0.010502094518850669), ('apple', 0.010236592129329165), ('problem', 0.010089090801817217), ('mb', 0.009204082836745531), ('mode', 0.009174582571243142)]\n",
            "-----------------------------------------------------------------------------------------------------------------------------------------------------------------------------------------------------------------------------------------------------------------------------------------------------------------------------------------------\n"
          ]
        }
      ]
    },
    {
      "cell_type": "markdown",
      "metadata": {
        "id": "E7yMC7Q0iGRR"
      },
      "source": [
        "# Find the most representative documents in trainset for each topic\n",
        "Find the documents in trainset a given topic has contributed to the most, in order to infer what a topic is actually about."
      ]
    },
    {
      "cell_type": "code",
      "metadata": {
        "id": "W9kfXINLjqwN"
      },
      "source": [
        "def get_most_representative_docs(docs_text: List[str],\n",
        "                                 docs_topics: List[List[Tuple[int, float]]],\n",
        "                                 topic: int,\n",
        "                                 limit: int = 5) -> pd.DataFrame:\n",
        "  docs_dominant_topic = [\n",
        "                         sort_topic_proportions(doc_topics)[0]\n",
        "                         for doc_topics in docs_topics\n",
        "                        ]\n",
        "\n",
        "  docs_topic_id, docs_topic_proportion = \\\n",
        "    tuple(map(list, zip(*docs_dominant_topic)))\n",
        "\n",
        "  df = pd.DataFrame(\n",
        "      {\n",
        "          'raw_text': docs_text,\n",
        "          'topic_id': docs_topic_id,\n",
        "          'topic_proportion': docs_topic_proportion\n",
        "      }\n",
        "  ).groupby('topic_id').get_group(topic).sort_values(by='topic_proportion',\n",
        "                                                     ascending = False,\n",
        "                                                     ignore_index = True)\n",
        "  \n",
        "  return df.head(limit)"
      ],
      "execution_count": 56,
      "outputs": []
    },
    {
      "cell_type": "code",
      "metadata": {
        "id": "BqGZr64FyH1h",
        "colab": {
          "base_uri": "https://localhost:8080/",
          "height": 203
        },
        "outputId": "03de8624-4463-47e9-f5b8-df41d6c8ab06"
      },
      "source": [
        "get_most_representative_docs(\n",
        "    test_corpus_raw,\n",
        "    test_corpus_topic_proportions,\n",
        "    0,\n",
        "    5\n",
        ")"
      ],
      "execution_count": 57,
      "outputs": [
        {
          "output_type": "execute_result",
          "data": {
            "text/html": [
              "<div>\n",
              "<style scoped>\n",
              "    .dataframe tbody tr th:only-of-type {\n",
              "        vertical-align: middle;\n",
              "    }\n",
              "\n",
              "    .dataframe tbody tr th {\n",
              "        vertical-align: top;\n",
              "    }\n",
              "\n",
              "    .dataframe thead th {\n",
              "        text-align: right;\n",
              "    }\n",
              "</style>\n",
              "<table border=\"1\" class=\"dataframe\">\n",
              "  <thead>\n",
              "    <tr style=\"text-align: right;\">\n",
              "      <th></th>\n",
              "      <th>raw_text</th>\n",
              "      <th>topic_id</th>\n",
              "      <th>topic_proportion</th>\n",
              "    </tr>\n",
              "  </thead>\n",
              "  <tbody>\n",
              "    <tr>\n",
              "      <th>0</th>\n",
              "      <td>from: caronni@nessie.cs.id.ethz.ch (germano ca...</td>\n",
              "      <td>0</td>\n",
              "      <td>0.640293</td>\n",
              "    </tr>\n",
              "    <tr>\n",
              "      <th>1</th>\n",
              "      <td>from: koontzd@phobos.lrmsc.loral.com (david ko...</td>\n",
              "      <td>0</td>\n",
              "      <td>0.579254</td>\n",
              "    </tr>\n",
              "    <tr>\n",
              "      <th>2</th>\n",
              "      <td>from: bontchev@fbihh.informatik.uni-hamburg.de...</td>\n",
              "      <td>0</td>\n",
              "      <td>0.530426</td>\n",
              "    </tr>\n",
              "    <tr>\n",
              "      <th>3</th>\n",
              "      <td>from: crypt-comments@math.ncsu.edu subject: cr...</td>\n",
              "      <td>0</td>\n",
              "      <td>0.524171</td>\n",
              "    </tr>\n",
              "    <tr>\n",
              "      <th>4</th>\n",
              "      <td>from: smb@research.att.com (steven bellovin) s...</td>\n",
              "      <td>0</td>\n",
              "      <td>0.495062</td>\n",
              "    </tr>\n",
              "  </tbody>\n",
              "</table>\n",
              "</div>"
            ],
            "text/plain": [
              "                                            raw_text  ...  topic_proportion\n",
              "0  from: caronni@nessie.cs.id.ethz.ch (germano ca...  ...          0.640293\n",
              "1  from: koontzd@phobos.lrmsc.loral.com (david ko...  ...          0.579254\n",
              "2  from: bontchev@fbihh.informatik.uni-hamburg.de...  ...          0.530426\n",
              "3  from: crypt-comments@math.ncsu.edu subject: cr...  ...          0.524171\n",
              "4  from: smb@research.att.com (steven bellovin) s...  ...          0.495062\n",
              "\n",
              "[5 rows x 3 columns]"
            ]
          },
          "metadata": {},
          "execution_count": 57
        }
      ]
    },
    {
      "cell_type": "markdown",
      "metadata": {
        "id": "uPjZFAraVW4d"
      },
      "source": [
        "# Topic distribution across documents\n",
        "The distribution of topics across all documents in a corpus demonstrates how widely the topics are discussed."
      ]
    },
    {
      "cell_type": "code",
      "metadata": {
        "id": "4mJ5Q12LFp5N"
      },
      "source": [
        "def get_topics_contribution_in_corpus(\n",
        "    docs_topics: List[List[Tuple[int, float]]]\n",
        ") -> pd.DataFrame:\n",
        "  docs_dominant_topic = [\n",
        "                         sort_topic_proportions(doc_topics)[0][0]\n",
        "                         for doc_topics in docs_topics\n",
        "                        ]\n",
        "\n",
        "  return pd.Series(\n",
        "      docs_dominant_topic\n",
        "  ).value_counts(normalize=True).sort_index()"
      ],
      "execution_count": 58,
      "outputs": []
    },
    {
      "cell_type": "code",
      "metadata": {
        "id": "uBQq-DVoTAmK",
        "colab": {
          "base_uri": "https://localhost:8080/",
          "height": 265
        },
        "outputId": "087db2d1-3cbb-4bcb-f220-09fce82ffcf9"
      },
      "source": [
        "ax = pd.DataFrame(\n",
        "    {\n",
        "        'Trainset': get_topics_contribution_in_corpus(\n",
        "            train_corpus_topic_proportions\n",
        "        ),\n",
        "        'Testset': get_topics_contribution_in_corpus(\n",
        "            test_corpus_topic_proportions\n",
        "        )\n",
        "    }\n",
        ").plot.bar(rot=0)"
      ],
      "execution_count": 59,
      "outputs": [
        {
          "output_type": "display_data",
          "data": {
            "image/png": "[encoded data removed]",
            "text/plain": [
              "<Figure size 432x288 with 1 Axes>"
            ]
          },
          "metadata": {
            "needs_background": "light"
          }
        }
      ]
    }
  ]
}