{
  "nbformat": 4,
  "nbformat_minor": 0,
  "metadata": {
    "colab": {
      "name": "topic_modeling_with_LDA.ipynb",
      "provenance": [],
      "collapsed_sections": [],
      "authorship_tag": "ABX9TyO81Bc/mGVo9VU6W89Cj6iY",
      "include_colab_link": true
    },
    "kernelspec": {
      "display_name": "Python 3",
      "name": "python3"
    },
    "language_info": {
      "name": "python"
    }
  },
  "cells": [
    {
      "cell_type": "markdown",
      "metadata": {
        "id": "view-in-github",
        "colab_type": "text"
      },
      "source": [
        "<a href=\"https://colab.research.google.com/github/xei/topic-modeling-with-LDA/blob/main/topic_modeling_with_LDA.ipynb\" target=\"_parent\"><img src=\"https://colab.research.google.com/assets/colab-badge.svg\" alt=\"Open In Colab\"/></a>"
      ]
    },
    {
      "cell_type": "markdown",
      "metadata": {
        "id": "fx62SnEcaAAs"
      },
      "source": [
        "Copyright (c) 2021 Hamidreza Hosseinkhani ([xei](https://github.com/xei)) under the terms of the MIT license.\n",
        "\n",
        "[![Open In Collab](https://colab.research.google.com/assets/colab-badge.svg)](https://colab.research.google.com/github/xei/topic-modeling-with-LDA/blob/main/topic_modeling_with_LDA.ipynb)\n",
        "\n",
        "Give a ⭐ if the notebook helped you!\n",
        "\n",
        "[![GitHub stars](https://img.shields.io/github/stars/xei/topic-modeling-with-LDA.svg?style=social&label=Star&maxAge=2592000)](https://github.com/xei/topic-modeling-with-LDA/stargazers/)\n",
        "\n",
        "Some parts of this notebook are inspired by a similar work by [Selva Prabhakaran](https://www.machinelearningplus.com/nlp/topic-modeling-gensim-python/)."
      ]
    },
    {
      "cell_type": "markdown",
      "metadata": {
        "id": "WNwbAwHK7O8N"
      },
      "source": [
        "# Download and install dependencies"
      ]
    },
    {
      "cell_type": "code",
      "metadata": {
        "id": "x8tPSwYb7Nu_",
        "colab": {
          "base_uri": "https://localhost:8080/"
        },
        "outputId": "d5f53736-0d6f-49f0-847c-ce5af13aa4db"
      },
      "source": [
        "!pip install --upgrade --quiet spacy\n",
        "!python -m spacy download en_core_web_sm\n",
        "# !pip install --upgrade --quiet contextualSpellCheck #0.4.1\n",
        "\n",
        "!pip install --upgrade --quiet gensim\n",
        "# Download Gensim's depricated model wrapper for MALLET's LDA model\n",
        "!mkdir gensimwrapper && wget https://raw.githubusercontent.com/RaRe-Technologies/gensim/e889fa3d45a406cabbc7e180fa9a8ee3f76ac6f0/gensim/models/wrappers/ldamallet.py -P gensimwrapper/\n",
        "!wget http://mallet.cs.umass.edu/dist/mallet-2.0.8.tar.gz -O - | tar zx\n",
        "\n",
        "!pip install --upgrade --quiet pyldavis"
      ],
      "execution_count": 1,
      "outputs": [
        {
          "output_type": "stream",
          "name": "stdout",
          "text": [
            "\u001b[K     |████████████████████████████████| 5.8 MB 5.5 MB/s \n",
            "\u001b[K     |████████████████████████████████| 10.1 MB 29.7 MB/s \n",
            "\u001b[K     |████████████████████████████████| 42 kB 1.3 MB/s \n",
            "\u001b[K     |████████████████████████████████| 623 kB 48.9 MB/s \n",
            "\u001b[K     |████████████████████████████████| 456 kB 39.0 MB/s \n",
            "\u001b[?25hCollecting en-core-web-sm==3.1.0\n",
            "  Downloading https://github.com/explosion/spacy-models/releases/download/en_core_web_sm-3.1.0/en_core_web_sm-3.1.0-py3-none-any.whl (13.6 MB)\n",
            "\u001b[K     |████████████████████████████████| 13.6 MB 77 kB/s \n",
            "\u001b[?25hRequirement already satisfied: spacy<3.2.0,>=3.1.0 in /usr/local/lib/python3.7/dist-packages (from en-core-web-sm==3.1.0) (3.1.2)\n",
            "Requirement already satisfied: pydantic!=1.8,!=1.8.1,<1.9.0,>=1.7.4 in /usr/local/lib/python3.7/dist-packages (from spacy<3.2.0,>=3.1.0->en-core-web-sm==3.1.0) (1.8.2)\n",
            "Requirement already satisfied: setuptools in /usr/local/lib/python3.7/dist-packages (from spacy<3.2.0,>=3.1.0->en-core-web-sm==3.1.0) (57.4.0)\n",
            "Requirement already satisfied: srsly<3.0.0,>=2.4.1 in /usr/local/lib/python3.7/dist-packages (from spacy<3.2.0,>=3.1.0->en-core-web-sm==3.1.0) (2.4.1)\n",
            "Requirement already satisfied: spacy-legacy<3.1.0,>=3.0.7 in /usr/local/lib/python3.7/dist-packages (from spacy<3.2.0,>=3.1.0->en-core-web-sm==3.1.0) (3.0.8)\n",
            "Requirement already satisfied: pathy>=0.3.5 in /usr/local/lib/python3.7/dist-packages (from spacy<3.2.0,>=3.1.0->en-core-web-sm==3.1.0) (0.6.0)\n",
            "Requirement already satisfied: catalogue<2.1.0,>=2.0.4 in /usr/local/lib/python3.7/dist-packages (from spacy<3.2.0,>=3.1.0->en-core-web-sm==3.1.0) (2.0.6)\n",
            "Requirement already satisfied: murmurhash<1.1.0,>=0.28.0 in /usr/local/lib/python3.7/dist-packages (from spacy<3.2.0,>=3.1.0->en-core-web-sm==3.1.0) (1.0.5)\n",
            "Requirement already satisfied: preshed<3.1.0,>=3.0.2 in /usr/local/lib/python3.7/dist-packages (from spacy<3.2.0,>=3.1.0->en-core-web-sm==3.1.0) (3.0.5)\n",
            "Requirement already satisfied: jinja2 in /usr/local/lib/python3.7/dist-packages (from spacy<3.2.0,>=3.1.0->en-core-web-sm==3.1.0) (2.11.3)\n",
            "Requirement already satisfied: typing-extensions<4.0.0.0,>=3.7.4 in /usr/local/lib/python3.7/dist-packages (from spacy<3.2.0,>=3.1.0->en-core-web-sm==3.1.0) (3.7.4.3)\n",
            "Requirement already satisfied: numpy>=1.15.0 in /usr/local/lib/python3.7/dist-packages (from spacy<3.2.0,>=3.1.0->en-core-web-sm==3.1.0) (1.19.5)\n",
            "Requirement already satisfied: tqdm<5.0.0,>=4.38.0 in /usr/local/lib/python3.7/dist-packages (from spacy<3.2.0,>=3.1.0->en-core-web-sm==3.1.0) (4.62.2)\n",
            "Requirement already satisfied: thinc<8.1.0,>=8.0.8 in /usr/local/lib/python3.7/dist-packages (from spacy<3.2.0,>=3.1.0->en-core-web-sm==3.1.0) (8.0.10)\n",
            "Requirement already satisfied: typer<0.4.0,>=0.3.0 in /usr/local/lib/python3.7/dist-packages (from spacy<3.2.0,>=3.1.0->en-core-web-sm==3.1.0) (0.3.2)\n",
            "Requirement already satisfied: cymem<2.1.0,>=2.0.2 in /usr/local/lib/python3.7/dist-packages (from spacy<3.2.0,>=3.1.0->en-core-web-sm==3.1.0) (2.0.5)\n",
            "Requirement already satisfied: wasabi<1.1.0,>=0.8.1 in /usr/local/lib/python3.7/dist-packages (from spacy<3.2.0,>=3.1.0->en-core-web-sm==3.1.0) (0.8.2)\n",
            "Requirement already satisfied: requests<3.0.0,>=2.13.0 in /usr/local/lib/python3.7/dist-packages (from spacy<3.2.0,>=3.1.0->en-core-web-sm==3.1.0) (2.23.0)\n",
            "Requirement already satisfied: blis<0.8.0,>=0.4.0 in /usr/local/lib/python3.7/dist-packages (from spacy<3.2.0,>=3.1.0->en-core-web-sm==3.1.0) (0.4.1)\n",
            "Requirement already satisfied: packaging>=20.0 in /usr/local/lib/python3.7/dist-packages (from spacy<3.2.0,>=3.1.0->en-core-web-sm==3.1.0) (21.0)\n",
            "Requirement already satisfied: zipp>=0.5 in /usr/local/lib/python3.7/dist-packages (from catalogue<2.1.0,>=2.0.4->spacy<3.2.0,>=3.1.0->en-core-web-sm==3.1.0) (3.5.0)\n",
            "Requirement already satisfied: pyparsing>=2.0.2 in /usr/local/lib/python3.7/dist-packages (from packaging>=20.0->spacy<3.2.0,>=3.1.0->en-core-web-sm==3.1.0) (2.4.7)\n",
            "Requirement already satisfied: smart-open<6.0.0,>=5.0.0 in /usr/local/lib/python3.7/dist-packages (from pathy>=0.3.5->spacy<3.2.0,>=3.1.0->en-core-web-sm==3.1.0) (5.2.1)\n",
            "Requirement already satisfied: chardet<4,>=3.0.2 in /usr/local/lib/python3.7/dist-packages (from requests<3.0.0,>=2.13.0->spacy<3.2.0,>=3.1.0->en-core-web-sm==3.1.0) (3.0.4)\n",
            "Requirement already satisfied: certifi>=2017.4.17 in /usr/local/lib/python3.7/dist-packages (from requests<3.0.0,>=2.13.0->spacy<3.2.0,>=3.1.0->en-core-web-sm==3.1.0) (2021.5.30)\n",
            "Requirement already satisfied: urllib3!=1.25.0,!=1.25.1,<1.26,>=1.21.1 in /usr/local/lib/python3.7/dist-packages (from requests<3.0.0,>=2.13.0->spacy<3.2.0,>=3.1.0->en-core-web-sm==3.1.0) (1.24.3)\n",
            "Requirement already satisfied: idna<3,>=2.5 in /usr/local/lib/python3.7/dist-packages (from requests<3.0.0,>=2.13.0->spacy<3.2.0,>=3.1.0->en-core-web-sm==3.1.0) (2.10)\n",
            "Requirement already satisfied: click<7.2.0,>=7.1.1 in /usr/local/lib/python3.7/dist-packages (from typer<0.4.0,>=0.3.0->spacy<3.2.0,>=3.1.0->en-core-web-sm==3.1.0) (7.1.2)\n",
            "Requirement already satisfied: MarkupSafe>=0.23 in /usr/local/lib/python3.7/dist-packages (from jinja2->spacy<3.2.0,>=3.1.0->en-core-web-sm==3.1.0) (2.0.1)\n",
            "Installing collected packages: en-core-web-sm\n",
            "  Attempting uninstall: en-core-web-sm\n",
            "    Found existing installation: en-core-web-sm 2.2.5\n",
            "    Uninstalling en-core-web-sm-2.2.5:\n",
            "      Successfully uninstalled en-core-web-sm-2.2.5\n",
            "Successfully installed en-core-web-sm-3.1.0\n",
            "\u001b[38;5;2m✔ Download and installation successful\u001b[0m\n",
            "You can now load the package via spacy.load('en_core_web_sm')\n",
            "\u001b[K     |████████████████████████████████| 24.1 MB 1.9 MB/s \n",
            "\u001b[?25h--2021-09-18 12:03:42--  https://raw.githubusercontent.com/RaRe-Technologies/gensim/e889fa3d45a406cabbc7e180fa9a8ee3f76ac6f0/gensim/models/wrappers/ldamallet.py\n",
            "Resolving raw.githubusercontent.com (raw.githubusercontent.com)... 185.199.108.133, 185.199.111.133, 185.199.110.133, ...\n",
            "Connecting to raw.githubusercontent.com (raw.githubusercontent.com)|185.199.108.133|:443... connected.\n",
            "HTTP request sent, awaiting response... 200 OK\n",
            "Length: 23357 (23K) [text/plain]\n",
            "Saving to: ‘gensimwrapper/ldamallet.py’\n",
            "\n",
            "ldamallet.py        100%[===================>]  22.81K  --.-KB/s    in 0.001s  \n",
            "\n",
            "2021-09-18 12:03:43 (19.3 MB/s) - ‘gensimwrapper/ldamallet.py’ saved [23357/23357]\n",
            "\n",
            "--2021-09-18 12:03:43--  http://mallet.cs.umass.edu/dist/mallet-2.0.8.tar.gz\n",
            "Resolving mallet.cs.umass.edu (mallet.cs.umass.edu)... 128.119.246.70\n",
            "Connecting to mallet.cs.umass.edu (mallet.cs.umass.edu)|128.119.246.70|:80... connected.\n",
            "HTTP request sent, awaiting response... 200 OK\n",
            "Length: 14868234 (14M) [application/x-gzip]\n",
            "Saving to: ‘STDOUT’\n",
            "\n",
            "-                   100%[===================>]  14.18M  9.33MB/s    in 1.5s    \n",
            "\n",
            "2021-09-18 12:03:44 (9.33 MB/s) - written to stdout [14868234/14868234]\n",
            "\n",
            "\u001b[K     |████████████████████████████████| 1.7 MB 5.4 MB/s \n",
            "\u001b[?25h  Installing build dependencies ... \u001b[?25l\u001b[?25hdone\n",
            "  Getting requirements to build wheel ... \u001b[?25l\u001b[?25hdone\n",
            "  Installing backend dependencies ... \u001b[?25l\u001b[?25hdone\n",
            "    Preparing wheel metadata ... \u001b[?25l\u001b[?25hdone\n",
            "\u001b[K     |████████████████████████████████| 15.7 MB 191 kB/s \n",
            "\u001b[K     |████████████████████████████████| 11.3 MB 42.9 MB/s \n",
            "\u001b[?25h  Building wheel for pyldavis (PEP 517) ... \u001b[?25l\u001b[?25hdone\n",
            "\u001b[31mERROR: pip's dependency resolver does not currently take into account all the packages that are installed. This behaviour is the source of the following dependency conflicts.\n",
            "tensorflow 2.6.0 requires numpy~=1.19.2, but you have numpy 1.21.2 which is incompatible.\n",
            "google-colab 1.0.0 requires pandas~=1.1.0; python_version >= \"3.0\", but you have pandas 1.3.3 which is incompatible.\n",
            "datascience 0.10.6 requires folium==0.2.1, but you have folium 0.8.3 which is incompatible.\n",
            "albumentations 0.1.12 requires imgaug<0.2.7,>=0.2.5, but you have imgaug 0.2.9 which is incompatible.\u001b[0m\n"
          ]
        }
      ]
    },
    {
      "cell_type": "code",
      "metadata": {
        "id": "BfRFoqb51zBS"
      },
      "source": [
        "from typing import List, Tuple"
      ],
      "execution_count": 1,
      "outputs": []
    },
    {
      "cell_type": "markdown",
      "metadata": {
        "id": "sibLfS6d_Dxu"
      },
      "source": [
        "# Load `20 Newsgroups` dataset into a Pandas DataFrame"
      ]
    },
    {
      "cell_type": "code",
      "metadata": {
        "id": "C93f3o_58fLT"
      },
      "source": [
        "import pandas as pd\n",
        "from IPython.display import display"
      ],
      "execution_count": 2,
      "outputs": []
    },
    {
      "cell_type": "code",
      "metadata": {
        "colab": {
          "base_uri": "https://localhost:8080/",
          "height": 417
        },
        "id": "UMG9tuOn9WkX",
        "outputId": "c8aa7e6f-8ed9-46b3-8a33-491b45ceeb03"
      },
      "source": [
        "dataset_json_url = \\\n",
        "  'https://raw.githubusercontent.com/selva86/datasets/master/newsgroups.json'\n",
        "dataframe = pd.read_json(dataset_json_url)\n",
        "\n",
        "display(dataframe)"
      ],
      "execution_count": 3,
      "outputs": [
        {
          "output_type": "display_data",
          "data": {
            "text/html": [
              "<div>\n",
              "<style scoped>\n",
              "    .dataframe tbody tr th:only-of-type {\n",
              "        vertical-align: middle;\n",
              "    }\n",
              "\n",
              "    .dataframe tbody tr th {\n",
              "        vertical-align: top;\n",
              "    }\n",
              "\n",
              "    .dataframe thead th {\n",
              "        text-align: right;\n",
              "    }\n",
              "</style>\n",
              "<table border=\"1\" class=\"dataframe\">\n",
              "  <thead>\n",
              "    <tr style=\"text-align: right;\">\n",
              "      <th></th>\n",
              "      <th>content</th>\n",
              "      <th>target</th>\n",
              "      <th>target_names</th>\n",
              "    </tr>\n",
              "  </thead>\n",
              "  <tbody>\n",
              "    <tr>\n",
              "      <th>0</th>\n",
              "      <td>From: lerxst@wam.umd.edu (where's my thing)\\nS...</td>\n",
              "      <td>7</td>\n",
              "      <td>rec.autos</td>\n",
              "    </tr>\n",
              "    <tr>\n",
              "      <th>1</th>\n",
              "      <td>From: guykuo@carson.u.washington.edu (Guy Kuo)...</td>\n",
              "      <td>4</td>\n",
              "      <td>comp.sys.mac.hardware</td>\n",
              "    </tr>\n",
              "    <tr>\n",
              "      <th>2</th>\n",
              "      <td>From: twillis@ec.ecn.purdue.edu (Thomas E Will...</td>\n",
              "      <td>4</td>\n",
              "      <td>comp.sys.mac.hardware</td>\n",
              "    </tr>\n",
              "    <tr>\n",
              "      <th>3</th>\n",
              "      <td>From: jgreen@amber (Joe Green)\\nSubject: Re: W...</td>\n",
              "      <td>1</td>\n",
              "      <td>comp.graphics</td>\n",
              "    </tr>\n",
              "    <tr>\n",
              "      <th>4</th>\n",
              "      <td>From: jcm@head-cfa.harvard.edu (Jonathan McDow...</td>\n",
              "      <td>14</td>\n",
              "      <td>sci.space</td>\n",
              "    </tr>\n",
              "    <tr>\n",
              "      <th>...</th>\n",
              "      <td>...</td>\n",
              "      <td>...</td>\n",
              "      <td>...</td>\n",
              "    </tr>\n",
              "    <tr>\n",
              "      <th>11309</th>\n",
              "      <td>From: jim.zisfein@factory.com (Jim Zisfein) \\n...</td>\n",
              "      <td>13</td>\n",
              "      <td>sci.med</td>\n",
              "    </tr>\n",
              "    <tr>\n",
              "      <th>11310</th>\n",
              "      <td>From: ebodin@pearl.tufts.edu\\nSubject: Screen ...</td>\n",
              "      <td>4</td>\n",
              "      <td>comp.sys.mac.hardware</td>\n",
              "    </tr>\n",
              "    <tr>\n",
              "      <th>11311</th>\n",
              "      <td>From: westes@netcom.com (Will Estes)\\nSubject:...</td>\n",
              "      <td>3</td>\n",
              "      <td>comp.sys.ibm.pc.hardware</td>\n",
              "    </tr>\n",
              "    <tr>\n",
              "      <th>11312</th>\n",
              "      <td>From: steve@hcrlgw (Steven Collins)\\nSubject: ...</td>\n",
              "      <td>1</td>\n",
              "      <td>comp.graphics</td>\n",
              "    </tr>\n",
              "    <tr>\n",
              "      <th>11313</th>\n",
              "      <td>From: gunning@cco.caltech.edu (Kevin J. Gunnin...</td>\n",
              "      <td>8</td>\n",
              "      <td>rec.motorcycles</td>\n",
              "    </tr>\n",
              "  </tbody>\n",
              "</table>\n",
              "<p>11314 rows × 3 columns</p>\n",
              "</div>"
            ],
            "text/plain": [
              "                                                 content  ...              target_names\n",
              "0      From: lerxst@wam.umd.edu (where's my thing)\\nS...  ...                 rec.autos\n",
              "1      From: guykuo@carson.u.washington.edu (Guy Kuo)...  ...     comp.sys.mac.hardware\n",
              "2      From: twillis@ec.ecn.purdue.edu (Thomas E Will...  ...     comp.sys.mac.hardware\n",
              "3      From: jgreen@amber (Joe Green)\\nSubject: Re: W...  ...             comp.graphics\n",
              "4      From: jcm@head-cfa.harvard.edu (Jonathan McDow...  ...                 sci.space\n",
              "...                                                  ...  ...                       ...\n",
              "11309  From: jim.zisfein@factory.com (Jim Zisfein) \\n...  ...                   sci.med\n",
              "11310  From: ebodin@pearl.tufts.edu\\nSubject: Screen ...  ...     comp.sys.mac.hardware\n",
              "11311  From: westes@netcom.com (Will Estes)\\nSubject:...  ...  comp.sys.ibm.pc.hardware\n",
              "11312  From: steve@hcrlgw (Steven Collins)\\nSubject: ...  ...             comp.graphics\n",
              "11313  From: gunning@cco.caltech.edu (Kevin J. Gunnin...  ...           rec.motorcycles\n",
              "\n",
              "[11314 rows x 3 columns]"
            ]
          },
          "metadata": {}
        }
      ]
    },
    {
      "cell_type": "code",
      "metadata": {
        "colab": {
          "base_uri": "https://localhost:8080/"
        },
        "id": "gv6E2E609cXk",
        "outputId": "5727ffdd-6001-4a1b-f8ef-998bfb60dc2d"
      },
      "source": [
        "target_topics_list = dataframe['target_names'].unique()\n",
        "\n",
        "print(\n",
        "    \"Unique Target Topics (%d):\\n%s\" % (len(target_topics_list),\n",
        "                                        \" \".join(target_topics_list))\n",
        ")"
      ],
      "execution_count": 4,
      "outputs": [
        {
          "output_type": "stream",
          "name": "stdout",
          "text": [
            "Unique Target Topics (20):\n",
            "rec.autos comp.sys.mac.hardware comp.graphics sci.space talk.politics.guns sci.med comp.sys.ibm.pc.hardware comp.os.ms-windows.misc rec.motorcycles talk.religion.misc misc.forsale alt.atheism sci.electronics comp.windows.x rec.sport.hockey rec.sport.baseball soc.religion.christian talk.politics.mideast talk.politics.misc sci.crypt\n"
          ]
        }
      ]
    },
    {
      "cell_type": "markdown",
      "metadata": {
        "id": "uAqIUGUpB7na"
      },
      "source": [
        "# Shuffle and split the dataset"
      ]
    },
    {
      "cell_type": "code",
      "metadata": {
        "id": "LAS4Cs6IglFh"
      },
      "source": [
        "dataframe_shuffled = \\\n",
        "  dataframe.sample(frac=1, random_state=42).reset_index(drop=True)"
      ],
      "execution_count": 5,
      "outputs": []
    },
    {
      "cell_type": "markdown",
      "metadata": {
        "id": "fC_lep8Vgyan"
      },
      "source": [
        "- 60% for `train set`\n",
        "- 20% for `validation set`\n",
        "- 20% for `test set`"
      ]
    },
    {
      "cell_type": "code",
      "metadata": {
        "id": "UuZQrdldg37L"
      },
      "source": [
        "trainset_portion = .6\n",
        "valset_portion = .2\n",
        "\n",
        "pivot_1 = int(trainset_portion * len(dataframe))\n",
        "pivot_2 = int((trainset_portion + valset_portion) * len(dataframe))"
      ],
      "execution_count": 6,
      "outputs": []
    },
    {
      "cell_type": "code",
      "metadata": {
        "id": "RODG9PW198H0"
      },
      "source": [
        "import numpy as np"
      ],
      "execution_count": 7,
      "outputs": []
    },
    {
      "cell_type": "code",
      "metadata": {
        "colab": {
          "base_uri": "https://localhost:8080/"
        },
        "id": "n98qEvpPb_Ew",
        "outputId": "374246bc-6091-498f-de76-e3b84aebf80a"
      },
      "source": [
        "trainset_dataframe, valset_dataframe, testset_dataframe = \\\n",
        "  np.split(dataframe_shuffled, [pivot_1, pivot_2])\n",
        " \n",
        "\n",
        "print(\n",
        "    \"trainset size: %d\" % trainset_dataframe.__len__()\n",
        ")\n",
        "print(\n",
        "    \"valset size: %d\" % valset_dataframe.__len__()\n",
        ")\n",
        "print(\n",
        "    \"testset size: %d\" % testset_dataframe.__len__()\n",
        ")"
      ],
      "execution_count": 8,
      "outputs": [
        {
          "output_type": "stream",
          "name": "stdout",
          "text": [
            "trainset size: 6788\n",
            "valset size: 2263\n",
            "testset size: 2263\n"
          ]
        }
      ]
    },
    {
      "cell_type": "markdown",
      "metadata": {
        "id": "dTy0QXZB7YoG"
      },
      "source": [
        "# Make Corpora from the dataset"
      ]
    },
    {
      "cell_type": "code",
      "metadata": {
        "id": "lkDbcfUn8F6u"
      },
      "source": [
        "def make_corpus_from_dataframe(dataframe: pd.DataFrame) -> List[str]:\n",
        "  return dataframe['content'].values.tolist()"
      ],
      "execution_count": 9,
      "outputs": []
    },
    {
      "cell_type": "code",
      "metadata": {
        "colab": {
          "base_uri": "https://localhost:8080/"
        },
        "id": "z_vsA6wZOhSB",
        "outputId": "15cfb086-c8ca-4a01-f5eb-678ee4c96fab"
      },
      "source": [
        "%%time\n",
        " \n",
        "train_corpus_raw = make_corpus_from_dataframe(trainset_dataframe)\n",
        "val_corpus_raw = make_corpus_from_dataframe(valset_dataframe)\n",
        "test_corpus_raw = make_corpus_from_dataframe(testset_dataframe)\n",
        " \n",
        "print(train_corpus_raw[0])"
      ],
      "execution_count": 10,
      "outputs": [
        {
          "output_type": "stream",
          "name": "stdout",
          "text": [
            "From: rrn@po.CWRU.Edu (Robert R. Novitskey)\n",
            "Subject: CYCLONE AND TEMPEST?????\n",
            "Article-I.D.: usenet.1pskav$qtu\n",
            "Reply-To: rrn@po.CWRU.Edu (Robert R. Novitskey)\n",
            "Organization: Case Western Reserve University, Cleveland, OH (USA)\n",
            "Lines: 10\n",
            "NNTP-Posting-Host: thor.ins.cwru.edu\n",
            "\n",
            "\n",
            "Could someone please post any info on these systems.\n",
            "\n",
            "Thanks.\n",
            "BoB\n",
            "-- \n",
            "---------------------------------------------------------------------- \n",
            "Robert Novitskey | \"Pursuing women is similar to banging one's head\n",
            "rrn@po.cwru.edu  |  against a wall...with less opportunity for reward\" \n",
            "---------------------------------------------------------------------- \n",
            "\n",
            "CPU times: user 2.36 ms, sys: 0 ns, total: 2.36 ms\n",
            "Wall time: 2.29 ms\n"
          ]
        }
      ]
    },
    {
      "cell_type": "markdown",
      "metadata": {
        "id": "a4NDu3lYS2V0"
      },
      "source": [
        "# Standardization\n",
        "Standardization refers to preprocessing the text, typically converts text to lowercase and remove punctuation or HTML elements to simplify the dataset.\n",
        "\n",
        "To prevent `train/test skew` (also know as `train/serving skew`), it is important to preprocess the data identically at train and test time. To facilitate this, the `tensorflow.keras.layers.experimental.preprocessing.TextVectorization` layer can be included directly inside your model. These tasks can be accomplished with this layer:\n",
        "\n",
        "\n",
        "*   Standardization (preprocessing): converts text to lowercase and strips punctuation. You have to write a custom standardization function to remove the HTML element.\n",
        "\n",
        "\n",
        "*   Tokenization: splitting strings into tokens (for example, splitting a sentence into individual words, by splitting on whitespace).\n",
        "*   Vectorization: converting tokens into numbers so they can be fed into a neural network.\n",
        "\n"
      ]
    },
    {
      "cell_type": "markdown",
      "metadata": {
        "id": "3RkOUXnlKDj6"
      },
      "source": [
        "## Lowercase the text"
      ]
    },
    {
      "cell_type": "code",
      "metadata": {
        "id": "AYlAlKbsKDKQ"
      },
      "source": [
        "def lowercase(docs: List[str]) -> List[str]:\n",
        "  return [doc.lower() for doc in docs ]"
      ],
      "execution_count": 11,
      "outputs": []
    },
    {
      "cell_type": "code",
      "metadata": {
        "colab": {
          "base_uri": "https://localhost:8080/"
        },
        "id": "i4EYGakdPkUv",
        "outputId": "8c9f90d2-678d-4d99-b3e4-3953f3e8143d"
      },
      "source": [
        "train_corpus_raw = lowercase(train_corpus_raw)\n",
        "val_corpus_raw = lowercase(val_corpus_raw)\n",
        "test_corpus_raw = lowercase(test_corpus_raw)\n",
        "\n",
        "print(train_corpus_raw[0])"
      ],
      "execution_count": 12,
      "outputs": [
        {
          "output_type": "stream",
          "name": "stdout",
          "text": [
            "from: rrn@po.cwru.edu (robert r. novitskey)\n",
            "subject: cyclone and tempest?????\n",
            "article-i.d.: usenet.1pskav$qtu\n",
            "reply-to: rrn@po.cwru.edu (robert r. novitskey)\n",
            "organization: case western reserve university, cleveland, oh (usa)\n",
            "lines: 10\n",
            "nntp-posting-host: thor.ins.cwru.edu\n",
            "\n",
            "\n",
            "could someone please post any info on these systems.\n",
            "\n",
            "thanks.\n",
            "bob\n",
            "-- \n",
            "---------------------------------------------------------------------- \n",
            "robert novitskey | \"pursuing women is similar to banging one's head\n",
            "rrn@po.cwru.edu  |  against a wall...with less opportunity for reward\" \n",
            "---------------------------------------------------------------------- \n",
            "\n"
          ]
        }
      ]
    },
    {
      "cell_type": "markdown",
      "metadata": {
        "id": "-L7AqAy6f40n"
      },
      "source": [
        "## Remove non-ASCII characters"
      ]
    },
    {
      "cell_type": "code",
      "metadata": {
        "id": "6aqCea_dAmc6"
      },
      "source": [
        "def remove_non_ascii_chars(docs: List[str]) -> List[str]:\n",
        "  \"\"\"\n",
        "  https://en.wikipedia.org/wiki/List_of_Unicode_characters\n",
        "  \"\"\"\n",
        "  return [\n",
        "          ''.join((char for char in doc if 0 < ord(char) < 127))\n",
        "          for doc in docs\n",
        "  ]"
      ],
      "execution_count": 13,
      "outputs": []
    },
    {
      "cell_type": "code",
      "metadata": {
        "colab": {
          "base_uri": "https://localhost:8080/"
        },
        "id": "60DsIzdyOsWm",
        "outputId": "c7a50561-5176-44dc-b6c3-adce06662a2a"
      },
      "source": [
        "%%time\n",
        " \n",
        "train_corpus_raw = remove_non_ascii_chars(train_corpus_raw)\n",
        "val_corpus_raw = remove_non_ascii_chars(val_corpus_raw)\n",
        "test_corpus_raw = remove_non_ascii_chars(test_corpus_raw)\n",
        " \n",
        "print(train_corpus_raw[0])"
      ],
      "execution_count": 14,
      "outputs": [
        {
          "output_type": "stream",
          "name": "stdout",
          "text": [
            "from: rrn@po.cwru.edu (robert r. novitskey)\n",
            "subject: cyclone and tempest?????\n",
            "article-i.d.: usenet.1pskav$qtu\n",
            "reply-to: rrn@po.cwru.edu (robert r. novitskey)\n",
            "organization: case western reserve university, cleveland, oh (usa)\n",
            "lines: 10\n",
            "nntp-posting-host: thor.ins.cwru.edu\n",
            "\n",
            "\n",
            "could someone please post any info on these systems.\n",
            "\n",
            "thanks.\n",
            "bob\n",
            "-- \n",
            "---------------------------------------------------------------------- \n",
            "robert novitskey | \"pursuing women is similar to banging one's head\n",
            "rrn@po.cwru.edu  |  against a wall...with less opportunity for reward\" \n",
            "---------------------------------------------------------------------- \n",
            "\n",
            "CPU times: user 3.71 s, sys: 14.7 ms, total: 3.72 s\n",
            "Wall time: 3.74 s\n"
          ]
        }
      ]
    },
    {
      "cell_type": "markdown",
      "metadata": {
        "id": "IDhKNnskW_hp"
      },
      "source": [
        "## Remove HTML Tags"
      ]
    },
    {
      "cell_type": "code",
      "metadata": {
        "id": "NvGUmumPgALb"
      },
      "source": [
        "import re"
      ],
      "execution_count": 15,
      "outputs": []
    },
    {
      "cell_type": "code",
      "metadata": {
        "id": "5DMjBfP9XHPr"
      },
      "source": [
        "def remove_html_tags(docs: List[str]) -> List[str]:\n",
        "  # return [re.sub('<.+?>', ' ', doc) for doc in docs]\n",
        "  tmp_docs = [re.sub('<br />', ' ', doc) for doc in docs]\n",
        "  tmp_docs = [re.sub('<br/>', ' ', doc) for doc in tmp_docs]\n",
        "  tmp_docs = [re.sub('<br>', ' ', doc) for doc in tmp_docs]\n",
        "  return tmp_docs"
      ],
      "execution_count": 16,
      "outputs": []
    },
    {
      "cell_type": "code",
      "metadata": {
        "colab": {
          "base_uri": "https://localhost:8080/"
        },
        "id": "RKnbkk1Lb4rT",
        "outputId": "0d500dcb-7af9-4a52-b43e-b51a4e53871b"
      },
      "source": [
        "%%time\n",
        " \n",
        "train_corpus_raw = remove_html_tags(train_corpus_raw)\n",
        "val_corpus_raw = remove_html_tags(val_corpus_raw)\n",
        "test_corpus_raw = remove_html_tags(test_corpus_raw)\n",
        " \n",
        "print(train_corpus_raw[0])"
      ],
      "execution_count": 17,
      "outputs": [
        {
          "output_type": "stream",
          "name": "stdout",
          "text": [
            "from: rrn@po.cwru.edu (robert r. novitskey)\n",
            "subject: cyclone and tempest?????\n",
            "article-i.d.: usenet.1pskav$qtu\n",
            "reply-to: rrn@po.cwru.edu (robert r. novitskey)\n",
            "organization: case western reserve university, cleveland, oh (usa)\n",
            "lines: 10\n",
            "nntp-posting-host: thor.ins.cwru.edu\n",
            "\n",
            "\n",
            "could someone please post any info on these systems.\n",
            "\n",
            "thanks.\n",
            "bob\n",
            "-- \n",
            "---------------------------------------------------------------------- \n",
            "robert novitskey | \"pursuing women is similar to banging one's head\n",
            "rrn@po.cwru.edu  |  against a wall...with less opportunity for reward\" \n",
            "---------------------------------------------------------------------- \n",
            "\n",
            "CPU times: user 83.4 ms, sys: 2.93 ms, total: 86.4 ms\n",
            "Wall time: 95.6 ms\n"
          ]
        }
      ]
    },
    {
      "cell_type": "markdown",
      "metadata": {
        "id": "ttjit84GwuAN"
      },
      "source": [
        "## Replace common abbreviations"
      ]
    },
    {
      "cell_type": "code",
      "metadata": {
        "id": "KpGPbyfJwtFe"
      },
      "source": [
        "def replace_abbreviations_in_doc(doc: str) -> str:\n",
        "    doc = re.sub(r'\\bthat\\'s\\b', 'that is', doc)\n",
        "    doc = re.sub(r'\\bi\\'ve\\b', 'i have', doc)\n",
        "    doc = re.sub(r'\\bi\\'m\\b', 'i am', doc)\n",
        "    doc = re.sub(r'\\bit\\'s\\b', 'it is', doc)\n",
        "    doc = re.sub(r'\\bya\\b', 'yeah', doc)\n",
        "    doc = re.sub(r'\\bcan\\'t\\b', 'can not', doc)\n",
        "    doc = re.sub(r'\\bcant\\b', 'can not', doc)\n",
        "    doc = re.sub(r'\\bdon\\'t\\b', 'do not', doc)\n",
        "    doc = re.sub(r'\\bdont\\b', 'do not', doc)\n",
        "    doc = re.sub(r'\\bdidn\\'t\\b', 'did not', doc)\n",
        "    doc = re.sub(r'\\bwon\\'t\\b', 'will not', doc)\n",
        "    doc = re.sub(r'\\bwont\\b', 'will not', doc)\n",
        "    doc = re.sub(r'\\bi\\'d\\b', 'i would', doc)\n",
        "    doc = re.sub(r'wtf', 'what the fuck', doc)\n",
        "    doc = re.sub(r'\\bwth\\b', 'what the hell', doc)\n",
        "    # doc = re.sub(r'\\br\\b', 'are', doc)\n",
        "    # doc = re.sub(r'\\bu\\b', 'you', doc)\n",
        "    doc = re.sub(r'\\bo+k\\b', 'ok', doc)\n",
        "    # doc = re.sub(r'\\bsux\\b', 'sucks', doc)\n",
        "    doc = re.sub(r'\\bno+\\b', 'no', doc)\n",
        "    doc = re.sub(r'\\bcoo+l\\b', 'cool', doc)\n",
        "    return doc\n",
        "\n",
        "def replace_abbreviations_in_corpus(docs: List[str]) -> List[str]:\n",
        "  return [replace_abbreviations_in_doc(doc) for doc in docs]"
      ],
      "execution_count": 18,
      "outputs": []
    },
    {
      "cell_type": "code",
      "metadata": {
        "id": "o5SsXhi3xI86",
        "colab": {
          "base_uri": "https://localhost:8080/"
        },
        "outputId": "3723c575-f0bb-43dc-e2b8-f22691e6758f"
      },
      "source": [
        "%%time\n",
        " \n",
        "train_corpus_raw = replace_abbreviations_in_corpus(train_corpus_raw)\n",
        "val_corpus_raw = replace_abbreviations_in_corpus(val_corpus_raw)\n",
        "test_corpus_raw = replace_abbreviations_in_corpus(test_corpus_raw)\n",
        " \n",
        "print(train_corpus_raw[0])"
      ],
      "execution_count": 19,
      "outputs": [
        {
          "output_type": "stream",
          "name": "stdout",
          "text": [
            "from: rrn@po.cwru.edu (robert r. novitskey)\n",
            "subject: cyclone and tempest?????\n",
            "article-i.d.: usenet.1pskav$qtu\n",
            "reply-to: rrn@po.cwru.edu (robert r. novitskey)\n",
            "organization: case western reserve university, cleveland, oh (usa)\n",
            "lines: 10\n",
            "nntp-posting-host: thor.ins.cwru.edu\n",
            "\n",
            "\n",
            "could someone please post any info on these systems.\n",
            "\n",
            "thanks.\n",
            "bob\n",
            "-- \n",
            "---------------------------------------------------------------------- \n",
            "robert novitskey | \"pursuing women is similar to banging one's head\n",
            "rrn@po.cwru.edu  |  against a wall...with less opportunity for reward\" \n",
            "---------------------------------------------------------------------- \n",
            "\n",
            "CPU times: user 10.2 s, sys: 23 ms, total: 10.2 s\n",
            "Wall time: 10.2 s\n"
          ]
        }
      ]
    },
    {
      "cell_type": "markdown",
      "metadata": {
        "id": "jbuSh_9zf_FB"
      },
      "source": [
        "## Remove extra whitespaces"
      ]
    },
    {
      "cell_type": "code",
      "metadata": {
        "id": "2qPD96r-B_LU"
      },
      "source": [
        "def remove_extra_whitespaces(docs: List[str]) -> List[str]:\n",
        "  return [re.sub('\\s+', ' ', doc).strip() for doc in docs]"
      ],
      "execution_count": 20,
      "outputs": []
    },
    {
      "cell_type": "code",
      "metadata": {
        "colab": {
          "base_uri": "https://localhost:8080/"
        },
        "id": "J6Qxi-nmgEse",
        "outputId": "469323b0-05b8-45d6-e48e-946c32089249"
      },
      "source": [
        "%%time\n",
        " \n",
        "train_corpus_raw = remove_extra_whitespaces(train_corpus_raw)\n",
        "val_corpus_raw = remove_extra_whitespaces(val_corpus_raw)\n",
        "test_corpus_raw = remove_extra_whitespaces(test_corpus_raw)\n",
        " \n",
        "print(train_corpus_raw[0])"
      ],
      "execution_count": 21,
      "outputs": [
        {
          "output_type": "stream",
          "name": "stdout",
          "text": [
            "from: rrn@po.cwru.edu (robert r. novitskey) subject: cyclone and tempest????? article-i.d.: usenet.1pskav$qtu reply-to: rrn@po.cwru.edu (robert r. novitskey) organization: case western reserve university, cleveland, oh (usa) lines: 10 nntp-posting-host: thor.ins.cwru.edu could someone please post any info on these systems. thanks. bob -- ---------------------------------------------------------------------- robert novitskey | \"pursuing women is similar to banging one's head rrn@po.cwru.edu | against a wall...with less opportunity for reward\" ----------------------------------------------------------------------\n",
            "CPU times: user 1.05 s, sys: 3.56 ms, total: 1.06 s\n",
            "Wall time: 1.07 s\n"
          ]
        }
      ]
    },
    {
      "cell_type": "markdown",
      "metadata": {
        "id": "jEsd-NnfggfC"
      },
      "source": [
        "# Spell correction and making `n-gram` phrases"
      ]
    },
    {
      "cell_type": "code",
      "metadata": {
        "id": "VU35kaJxghoA"
      },
      "source": [
        "import spacy\n",
        "# import contextualSpellCheck\n",
        "\n",
        "import gensim"
      ],
      "execution_count": 22,
      "outputs": []
    },
    {
      "cell_type": "code",
      "metadata": {
        "id": "2GwvCjtcgkx8"
      },
      "source": [
        "spacy_nlp = spacy.load(\n",
        "    'en_core_web_sm',\n",
        "    # disable extra componens for efficiency\n",
        "    disable=['parser', 'ner']\n",
        ")"
      ],
      "execution_count": 23,
      "outputs": []
    },
    {
      "cell_type": "code",
      "metadata": {
        "id": "BL16tRNrpzkF"
      },
      "source": [
        "from pprint import pprint"
      ],
      "execution_count": 24,
      "outputs": []
    },
    {
      "cell_type": "code",
      "metadata": {
        "colab": {
          "base_uri": "https://localhost:8080/"
        },
        "id": "4Z--5HVmNmns",
        "outputId": "a2edd7a2-b06a-434a-fbaa-f4f2ce83f36c"
      },
      "source": [
        "print(train_corpus_raw[0])\n",
        "\n",
        "print('\\n', (\"ORIGINAL TOKEN\".center(20),\n",
        "           \"TOKEN LEMMA\".center(20),\n",
        "           \"POS\".center(10),\n",
        "           \"STOP WORD\".center(11)))\n",
        "print('', (\"-\"*20, \"-\"*20, \"-\"*10, \"-\"*11))\n",
        "\n",
        "pprint(\n",
        "  [\n",
        "    (\n",
        "        token.text.center(20),\n",
        "        token.lemma_.center(20),\n",
        "        token.pos_.center(10),\n",
        "        str(token.is_stop).center(10)\n",
        "    ) for token in spacy_nlp(train_corpus_raw[0])\n",
        "  ]\n",
        ")"
      ],
      "execution_count": 25,
      "outputs": [
        {
          "output_type": "stream",
          "name": "stdout",
          "text": [
            "from: rrn@po.cwru.edu (robert r. novitskey) subject: cyclone and tempest????? article-i.d.: usenet.1pskav$qtu reply-to: rrn@po.cwru.edu (robert r. novitskey) organization: case western reserve university, cleveland, oh (usa) lines: 10 nntp-posting-host: thor.ins.cwru.edu could someone please post any info on these systems. thanks. bob -- ---------------------------------------------------------------------- robert novitskey | \"pursuing women is similar to banging one's head rrn@po.cwru.edu | against a wall...with less opportunity for reward\" ----------------------------------------------------------------------\n",
            "\n",
            " ('   ORIGINAL TOKEN   ', '    TOKEN LEMMA     ', '   POS    ', ' STOP WORD ')\n",
            " ('--------------------', '--------------------', '----------', '-----------')\n",
            "[('        from        ', '        from        ', '   ADP    ', '   True   '),\n",
            " ('         :          ', '         :          ', '  PUNCT   ', '  False   '),\n",
            " ('  rrn@po.cwru.edu   ', '  rrn@po.cwru.edu   ', '  PROPN   ', '  False   '),\n",
            " ('         (          ', '         (          ', '  PUNCT   ', '  False   '),\n",
            " ('       robert       ', '       robert       ', '  PROPN   ', '  False   '),\n",
            " ('         r.         ', '         r.         ', '  PROPN   ', '  False   '),\n",
            " ('     novitskey      ', '     novitskey      ', '  PROPN   ', '  False   '),\n",
            " ('         )          ', '         )          ', '  PUNCT   ', '  False   '),\n",
            " ('      subject       ', '      subject       ', '   NOUN   ', '  False   '),\n",
            " ('         :          ', '         :          ', '  PUNCT   ', '  False   '),\n",
            " ('      cyclone       ', '      cyclone       ', '   NOUN   ', '  False   '),\n",
            " ('        and         ', '        and         ', '  CCONJ   ', '   True   '),\n",
            " ('      tempest       ', '        temp        ', '   ADJ    ', '  False   '),\n",
            " ('         ?          ', '         ?          ', '  PUNCT   ', '  False   '),\n",
            " ('         ?          ', '         ?          ', '  PUNCT   ', '  False   '),\n",
            " ('         ?          ', '         ?          ', '  PUNCT   ', '  False   '),\n",
            " ('         ?          ', '         ?          ', '  PUNCT   ', '  False   '),\n",
            " ('         ?          ', '         ?          ', '  PUNCT   ', '  False   '),\n",
            " ('      article       ', '      article       ', '   NOUN   ', '  False   '),\n",
            " ('         -          ', '         -          ', '  PUNCT   ', '  False   '),\n",
            " ('        i.d         ', '        i.d         ', '  PROPN   ', '  False   '),\n",
            " ('         .          ', '         .          ', '  PROPN   ', '  False   '),\n",
            " ('         :          ', '         :          ', '  PUNCT   ', '  False   '),\n",
            " (' usenet.1pskav$qtu  ', ' usenet.1pskav$qtu  ', '   NUM    ', '  False   '),\n",
            " ('       reply        ', '       reply        ', '   NOUN   ', '  False   '),\n",
            " ('         -          ', '         -          ', '  PUNCT   ', '  False   '),\n",
            " ('         to         ', '         to         ', '   ADP    ', '   True   '),\n",
            " ('         :          ', '         :          ', '  PUNCT   ', '  False   '),\n",
            " ('  rrn@po.cwru.edu   ', '  rrn@po.cwru.edu   ', '  PROPN   ', '  False   '),\n",
            " ('         (          ', '         (          ', '  PUNCT   ', '  False   '),\n",
            " ('       robert       ', '       robert       ', '  PROPN   ', '  False   '),\n",
            " ('         r.         ', '         r.         ', '  PROPN   ', '  False   '),\n",
            " ('     novitskey      ', '     novitskey      ', '  PROPN   ', '  False   '),\n",
            " ('         )          ', '         )          ', '  PUNCT   ', '  False   '),\n",
            " ('    organization    ', '    organization    ', '   NOUN   ', '  False   '),\n",
            " ('         :          ', '         :          ', '  PUNCT   ', '  False   '),\n",
            " ('        case        ', '        case        ', '   NOUN   ', '  False   '),\n",
            " ('      western       ', '      western       ', '  PROPN   ', '  False   '),\n",
            " ('      reserve       ', '      reserve       ', '  PROPN   ', '  False   '),\n",
            " ('     university     ', '     university     ', '  PROPN   ', '  False   '),\n",
            " ('         ,          ', '         ,          ', '  PUNCT   ', '  False   '),\n",
            " ('     cleveland      ', '     cleveland      ', '  PROPN   ', '  False   '),\n",
            " ('         ,          ', '         ,          ', '  PUNCT   ', '  False   '),\n",
            " ('         oh         ', '         oh         ', '   INTJ   ', '  False   '),\n",
            " ('         (          ', '         (          ', '  PUNCT   ', '  False   '),\n",
            " ('        usa         ', '        usa         ', '  PROPN   ', '  False   '),\n",
            " ('         )          ', '         )          ', '  PUNCT   ', '  False   '),\n",
            " ('       lines        ', '        line        ', '   NOUN   ', '  False   '),\n",
            " ('         :          ', '         :          ', '  PUNCT   ', '  False   '),\n",
            " ('         10         ', '         10         ', '   NUM    ', '  False   '),\n",
            " ('        nntp        ', '        nntp        ', '   NOUN   ', '  False   '),\n",
            " ('         -          ', '         -          ', '  PUNCT   ', '  False   '),\n",
            " ('      posting       ', '        post        ', '   VERB   ', '  False   '),\n",
            " ('         -          ', '         -          ', '  PUNCT   ', '  False   '),\n",
            " ('        host        ', '        host        ', '   NOUN   ', '  False   '),\n",
            " ('         :          ', '         :          ', '  PUNCT   ', '  False   '),\n",
            " (' thor.ins.cwru.edu  ', ' thor.ins.cwru.edu  ', '  PROPN   ', '  False   '),\n",
            " ('       could        ', '       could        ', '   AUX    ', '   True   '),\n",
            " ('      someone       ', '      someone       ', '   PRON   ', '   True   '),\n",
            " ('       please       ', '       please       ', '   INTJ   ', '   True   '),\n",
            " ('        post        ', '        post        ', '   VERB   ', '  False   '),\n",
            " ('        any         ', '        any         ', '   DET    ', '   True   '),\n",
            " ('        info        ', '        info        ', '   NOUN   ', '  False   '),\n",
            " ('         on         ', '         on         ', '   ADP    ', '   True   '),\n",
            " ('       these        ', '       these        ', '   DET    ', '   True   '),\n",
            " ('      systems       ', '       system       ', '   NOUN   ', '  False   '),\n",
            " ('         .          ', '         .          ', '  PUNCT   ', '  False   '),\n",
            " ('       thanks       ', '       thank        ', '   NOUN   ', '  False   '),\n",
            " ('         .          ', '         .          ', '  PUNCT   ', '  False   '),\n",
            " ('        bob         ', '        bob         ', '  PROPN   ', '  False   '),\n",
            " ('         --         ', '         --         ', '  PUNCT   ', '  False   '),\n",
            " ('----------------------------------------------------------------------',\n",
            "  '----------------------------------------------------------------------',\n",
            "  '  PUNCT   ',\n",
            "  '  False   '),\n",
            " ('       robert       ', '       robert       ', '  PROPN   ', '  False   '),\n",
            " ('     novitskey      ', '     novitskey      ', '  PROPN   ', '  False   '),\n",
            " ('         |          ', '         |          ', '   ADV    ', '  False   '),\n",
            " ('         \"          ', '         \"          ', '  PUNCT   ', '  False   '),\n",
            " ('      pursuing      ', '       pursue       ', '   VERB   ', '  False   '),\n",
            " ('       women        ', '       woman        ', '   NOUN   ', '  False   '),\n",
            " ('         is         ', '         be         ', '   VERB   ', '   True   '),\n",
            " ('      similar       ', '      similar       ', '   ADJ    ', '  False   '),\n",
            " ('         to         ', '         to         ', '   ADP    ', '   True   '),\n",
            " ('      banging       ', '        bang        ', '   VERB   ', '  False   '),\n",
            " ('        one         ', '        one         ', '   PRON   ', '   True   '),\n",
            " (\"         's         \", \"         's         \", '   PART   ', '   True   '),\n",
            " ('        head        ', '        head        ', '   NOUN   ', '  False   '),\n",
            " ('  rrn@po.cwru.edu   ', '  rrn@po.cwru.edu   ', '   VERB   ', '  False   '),\n",
            " ('         |          ', '         |          ', '   ADV    ', '  False   '),\n",
            " ('      against       ', '      against       ', '   ADP    ', '   True   '),\n",
            " ('         a          ', '         a          ', '   DET    ', '   True   '),\n",
            " ('        wall        ', '        wall        ', '   NOUN   ', '  False   '),\n",
            " ('        ...         ', '        ...         ', '  PUNCT   ', '  False   '),\n",
            " ('        with        ', '        with        ', '   ADP    ', '   True   '),\n",
            " ('        less        ', '        less        ', '   ADJ    ', '   True   '),\n",
            " ('    opportunity     ', '    opportunity     ', '   NOUN   ', '  False   '),\n",
            " ('        for         ', '        for         ', '   ADP    ', '   True   '),\n",
            " ('       reward       ', '       reward       ', '   NOUN   ', '  False   '),\n",
            " ('         \"          ', '         \"          ', '  PUNCT   ', '  False   '),\n",
            " ('----------------------------------------------------------------------',\n",
            "  '----------------------------------------------------------------------',\n",
            "  '  PUNCT   ',\n",
            "  '  False   ')]\n"
          ]
        }
      ]
    },
    {
      "cell_type": "markdown",
      "metadata": {
        "id": "cYarTYwmxCHl"
      },
      "source": [
        "## Spell Correction"
      ]
    },
    {
      "cell_type": "code",
      "metadata": {
        "id": "EMuUzJdKplDb"
      },
      "source": [
        "# add contextual spell correction using BERT to Spacy pipeline\n",
        "# https://spacy.io/universe/project/contextualSpellCheck\n",
        "# spacy_nlp.add_pipe('sentencizer')\n",
        "# contextualSpellCheck.add_to_pipe(spacy_nlp)\n",
        "# ValueError: [E030] Sentence boundaries unset. You can add the 'sentencizer' component to the pipeline with: `nlp.add_pipe('sentencizer')`. Alternatively, add the dependency parser or sentence recognizer, or set sentence boundaries by setting `doc[i].is_sent_start`."
      ],
      "execution_count": null,
      "outputs": []
    },
    {
      "cell_type": "code",
      "metadata": {
        "id": "zeLVPK0TxA_u"
      },
      "source": [
        "# train_corpus_spacy = [doc._.outcome_spellCheck for doc in train_corpus_spacy]"
      ],
      "execution_count": null,
      "outputs": []
    },
    {
      "cell_type": "markdown",
      "metadata": {
        "id": "tsSizcxQg7av"
      },
      "source": [
        "## Make n-gram (unigram, bigram and trigram) corpus"
      ]
    },
    {
      "cell_type": "code",
      "metadata": {
        "id": "HCq8s5I1NyLQ"
      },
      "source": [
        "def make_unigram(docs_raw: List[str]) -> List[List[str]]:\n",
        "  \"\"\"\n",
        "  Tokenizes the corpus\n",
        "  \"\"\"\n",
        "  return [\n",
        "    [token.text for token in spacy_nlp(doc)]\n",
        "    for doc in docs_raw\n",
        "  ]\n",
        "\n",
        "\n",
        "def make_bigram(unigram_docs: List[List[str]]) -> List[List[str]]:\n",
        "  bigram_phraser_model = gensim.models.phrases.Phraser(\n",
        "      gensim.models.Phrases(\n",
        "          unigram_docs,\n",
        "          # ignore all phrases with total collected count lower than `min_count`\n",
        "          min_count=5,\n",
        "          # the min score (based on `scoring` function) for forming the phrases\n",
        "          # higher value means fewer phrases\n",
        "          threshold=100,\n",
        "          # https://radimrehurek.com/gensim/models/phrases.html#gensim.models.phrases.original_scorer\n",
        "          # scoring='npmi',\n",
        "          # connector_words=gensim.models.phrases.ENGLISH_CONNECTOR_WORDS\n",
        "      )\n",
        "  )\n",
        " \n",
        "  return bigram_phraser_model[unigram_docs]\n",
        " \n",
        " \n",
        "def make_trigram(bigram_docs: List[List[str]]) -> List[List[str]]:\n",
        "  trigram_phraser_model = gensim.models.phrases.Phraser(\n",
        "      gensim.models.Phrases(\n",
        "          bigram_docs,\n",
        "          threshold=100\n",
        "      )\n",
        "  )\n",
        " \n",
        "  return trigram_phraser_model[bigram_docs]"
      ],
      "execution_count": 26,
      "outputs": []
    },
    {
      "cell_type": "code",
      "metadata": {
        "id": "fAL0ZU-bhMfC",
        "colab": {
          "base_uri": "https://localhost:8080/"
        },
        "outputId": "386856a1-bdb0-4e3e-f11d-33b86b74b31d"
      },
      "source": [
        "%%time\n",
        "\n",
        "train_corpus_unigram = make_unigram(train_corpus_raw)\n",
        "val_corpus_unigram = make_unigram(val_corpus_raw)\n",
        "test_corpus_unigram = make_unigram(test_corpus_raw)\n",
        "\n",
        "train_corpus_bigram = make_bigram(train_corpus_unigram)\n",
        "val_corpus_bigram = make_bigram(val_corpus_unigram)\n",
        "test_corpus_bigram = make_bigram(test_corpus_unigram)\n",
        "\n",
        "train_corpus_trigram = make_trigram(train_corpus_bigram)\n",
        "val_corpus_trigram = make_trigram(val_corpus_bigram)\n",
        "test_corpus_trigram = make_trigram(test_corpus_bigram)\n",
        "\n",
        "\n",
        "print(\"Unigram Corpus:\\n{}\".format(train_corpus_unigram[0]))\n",
        "print(\"Bigram Corpus:\\n{}\".format(train_corpus_bigram[0]))\n",
        "print(\"Trigram Corpus:\\n{}\".format(train_corpus_trigram[0]))"
      ],
      "execution_count": 27,
      "outputs": [
        {
          "output_type": "stream",
          "name": "stdout",
          "text": [
            "Unigram Corpus:\n",
            "['from', ':', 'rrn@po.cwru.edu', '(', 'robert', 'r.', 'novitskey', ')', 'subject', ':', 'cyclone', 'and', 'tempest', '?', '?', '?', '?', '?', 'article', '-', 'i.d', '.', ':', 'usenet.1pskav$qtu', 'reply', '-', 'to', ':', 'rrn@po.cwru.edu', '(', 'robert', 'r.', 'novitskey', ')', 'organization', ':', 'case', 'western', 'reserve', 'university', ',', 'cleveland', ',', 'oh', '(', 'usa', ')', 'lines', ':', '10', 'nntp', '-', 'posting', '-', 'host', ':', 'thor.ins.cwru.edu', 'could', 'someone', 'please', 'post', 'any', 'info', 'on', 'these', 'systems', '.', 'thanks', '.', 'bob', '--', '----------------------------------------------------------------------', 'robert', 'novitskey', '|', '\"', 'pursuing', 'women', 'is', 'similar', 'to', 'banging', 'one', \"'s\", 'head', 'rrn@po.cwru.edu', '|', 'against', 'a', 'wall', '...', 'with', 'less', 'opportunity', 'for', 'reward', '\"', '----------------------------------------------------------------------']\n",
            "Bigram Corpus:\n",
            "['from', ':', 'rrn@po.cwru.edu', '(', 'robert', 'r._novitskey', ')', 'subject', ':', 'cyclone', 'and', 'tempest', '?', '?', '?', '?', '?', 'article', '-', 'i.d', '.', ':', 'usenet.1pskav$qtu', 'reply', '-', 'to', ':', 'rrn@po.cwru.edu', '(', 'robert', 'r._novitskey', ')', 'organization', ':', 'case_western', 'reserve_university', ',', 'cleveland', ',', 'oh', '(', 'usa', ')', 'lines', ':', '10', 'nntp', '-', 'posting', '-', 'host', ':', 'thor.ins.cwru.edu', 'could', 'someone', 'please', 'post', 'any', 'info', 'on', 'these', 'systems', '.', 'thanks', '.', 'bob', '--', '----------------------------------------------------------------------', 'robert', 'novitskey', '|', '\"', 'pursuing', 'women', 'is', 'similar', 'to', 'banging', 'one', \"'s\", 'head', 'rrn@po.cwru.edu', '|', 'against', 'a', 'wall', '...', 'with', 'less', 'opportunity', 'for', 'reward', '\"', '----------------------------------------------------------------------']\n",
            "Trigram Corpus:\n",
            "['from', ':', 'rrn@po.cwru.edu', '(', 'robert_r._novitskey', ')', 'subject', ':', 'cyclone', 'and', 'tempest', '?', '?', '?', '?', '?', 'article', '-', 'i.d', '.', ':', 'usenet.1pskav$qtu', 'reply', '-', 'to', ':', 'rrn@po.cwru.edu', '(', 'robert_r._novitskey', ')', 'organization', ':', 'case_western', 'reserve_university', ',', 'cleveland', ',', 'oh', '(', 'usa', ')', 'lines', ':', '10', 'nntp', '-', 'posting', '-', 'host', ':', 'thor.ins.cwru.edu', 'could', 'someone', 'please', 'post', 'any', 'info', 'on', 'these', 'systems', '.', 'thanks', '.', 'bob', '--', '----------------------------------------------------------------------', 'robert', 'novitskey', '|', '\"', 'pursuing', 'women', 'is', 'similar', 'to', 'banging', 'one', \"'s\", 'head', 'rrn@po.cwru.edu', '|', 'against', 'a', 'wall', '...', 'with', 'less', 'opportunity', 'for', 'reward', '\"', '----------------------------------------------------------------------']\n",
            "CPU times: user 5min 5s, sys: 5.51 s, total: 5min 10s\n",
            "Wall time: 5min 10s\n"
          ]
        }
      ]
    },
    {
      "cell_type": "markdown",
      "metadata": {
        "id": "aspniOpEUO14"
      },
      "source": [
        "Here we found `n-gram` phrases like `belt_clip`, `fm_transmitter`, `mp3_player`, `screen_protector` and `poorly_designed` (bound using `_`).\n",
        "\n",
        "Now we are going to replace the corresponding words in the corpora with these phrases."
      ]
    },
    {
      "cell_type": "code",
      "metadata": {
        "id": "3HCqJIwdIDKo"
      },
      "source": [
        "def bind_phrases(docs_ngram: List[List[str]], docs_raw: List[str]) -> List[str]:\n",
        "  docs_raw_phrased: List[str] = []\n",
        "  for idx, doc_ngram in enumerate(docs_ngram):\n",
        "    docs_raw_phrased.append(docs_raw[idx])\n",
        "    for phrase in doc_ngram:\n",
        "      if (\n",
        "          (phrase.count('_') == 1 and len(phrase) > 1) or\n",
        "          (phrase.count('_') == 2 and len(phrase) > 2)\n",
        "      ):\n",
        "        docs_raw_phrased[idx] = docs_raw_phrased[idx].replace(\n",
        "            phrase.replace(\"_\", \" \"),\n",
        "            phrase\n",
        "        )\n",
        "        \n",
        "  return docs_raw_phrased"
      ],
      "execution_count": 28,
      "outputs": []
    },
    {
      "cell_type": "code",
      "metadata": {
        "id": "7CCQPuvKPny2",
        "colab": {
          "base_uri": "https://localhost:8080/"
        },
        "outputId": "2204a286-831e-45e8-95f2-c8ba67e2705a"
      },
      "source": [
        "%%time\n",
        "\n",
        "train_corpus_phrased = bind_phrases(train_corpus_trigram, train_corpus_raw)\n",
        "val_corpus_phrased = bind_phrases(val_corpus_trigram, val_corpus_raw)\n",
        "test_corpus_phrased = bind_phrases(test_corpus_trigram, test_corpus_raw)\n",
        "\n",
        "pprint(train_corpus_phrased[0])"
      ],
      "execution_count": 29,
      "outputs": [
        {
          "output_type": "stream",
          "name": "stdout",
          "text": [
            "('from: rrn@po.cwru.edu (robert_r._novitskey) subject: cyclone and '\n",
            " 'tempest????? article-i.d.: usenet.1pskav$qtu reply-to: rrn@po.cwru.edu '\n",
            " '(robert_r._novitskey) organization: case_western reserve_university, '\n",
            " 'cleveland, oh (usa) lines: 10 nntp-posting-host: thor.ins.cwru.edu could '\n",
            " 'someone please post any info on these systems. thanks. bob -- '\n",
            " '---------------------------------------------------------------------- '\n",
            " 'robert novitskey | \"pursuing women is similar to banging one\\'s head '\n",
            " 'rrn@po.cwru.edu | against a wall...with less opportunity for reward\" '\n",
            " '----------------------------------------------------------------------')\n",
            "CPU times: user 12.1 s, sys: 30.7 ms, total: 12.1 s\n",
            "Wall time: 12.1 s\n"
          ]
        }
      ]
    },
    {
      "cell_type": "code",
      "metadata": {
        "colab": {
          "base_uri": "https://localhost:8080/"
        },
        "id": "5d37RIpeD1NE",
        "outputId": "eec20aa3-cce2-45b4-c68e-b8a8ce9779ac"
      },
      "source": [
        "pprint(train_corpus_phrased[0])\n",
        "\n",
        "print('\\n', (\"ORIGINAL TOKEN\".center(20),\n",
        "           \"TOKEN LEMMA\".center(20),\n",
        "           \"POS\".center(10),\n",
        "           \"STOP WORD\".center(11)))\n",
        "print('', (\"-\"*20, \"-\"*20, \"-\"*10, \"-\"*11))\n",
        "\n",
        "pprint(\n",
        "  [\n",
        "    (\n",
        "        token.text.center(20),\n",
        "        token.lemma_.center(20),\n",
        "        token.pos_.center(10),\n",
        "        str(token.is_stop).center(10)\n",
        "    ) for token in spacy_nlp(train_corpus_phrased[0])\n",
        "  ]\n",
        ")"
      ],
      "execution_count": 30,
      "outputs": [
        {
          "output_type": "stream",
          "name": "stdout",
          "text": [
            "('from: rrn@po.cwru.edu (robert_r._novitskey) subject: cyclone and '\n",
            " 'tempest????? article-i.d.: usenet.1pskav$qtu reply-to: rrn@po.cwru.edu '\n",
            " '(robert_r._novitskey) organization: case_western reserve_university, '\n",
            " 'cleveland, oh (usa) lines: 10 nntp-posting-host: thor.ins.cwru.edu could '\n",
            " 'someone please post any info on these systems. thanks. bob -- '\n",
            " '---------------------------------------------------------------------- '\n",
            " 'robert novitskey | \"pursuing women is similar to banging one\\'s head '\n",
            " 'rrn@po.cwru.edu | against a wall...with less opportunity for reward\" '\n",
            " '----------------------------------------------------------------------')\n",
            "\n",
            " ('   ORIGINAL TOKEN   ', '    TOKEN LEMMA     ', '   POS    ', ' STOP WORD ')\n",
            " ('--------------------', '--------------------', '----------', '-----------')\n",
            "[('        from        ', '        from        ', '   ADP    ', '   True   '),\n",
            " ('         :          ', '         :          ', '  PUNCT   ', '  False   '),\n",
            " ('  rrn@po.cwru.edu   ', '  rrn@po.cwru.edu   ', '  PROPN   ', '  False   '),\n",
            " ('         (          ', '         (          ', '  PUNCT   ', '  False   '),\n",
            " ('robert_r._novitskey ', 'robert_r._novitskey ', '   NOUN   ', '  False   '),\n",
            " ('         )          ', '         )          ', '  PUNCT   ', '  False   '),\n",
            " ('      subject       ', '      subject       ', '   NOUN   ', '  False   '),\n",
            " ('         :          ', '         :          ', '  PUNCT   ', '  False   '),\n",
            " ('      cyclone       ', '      cyclone       ', '   NOUN   ', '  False   '),\n",
            " ('        and         ', '        and         ', '  CCONJ   ', '   True   '),\n",
            " ('      tempest       ', '        temp        ', '   ADJ    ', '  False   '),\n",
            " ('         ?          ', '         ?          ', '  PUNCT   ', '  False   '),\n",
            " ('         ?          ', '         ?          ', '  PUNCT   ', '  False   '),\n",
            " ('         ?          ', '         ?          ', '  PUNCT   ', '  False   '),\n",
            " ('         ?          ', '         ?          ', '  PUNCT   ', '  False   '),\n",
            " ('         ?          ', '         ?          ', '  PUNCT   ', '  False   '),\n",
            " ('      article       ', '      article       ', '   NOUN   ', '  False   '),\n",
            " ('         -          ', '         -          ', '  PUNCT   ', '  False   '),\n",
            " ('        i.d         ', '        i.d         ', '  PROPN   ', '  False   '),\n",
            " ('         .          ', '         .          ', '  PROPN   ', '  False   '),\n",
            " ('         :          ', '         :          ', '  PUNCT   ', '  False   '),\n",
            " (' usenet.1pskav$qtu  ', ' usenet.1pskav$qtu  ', '   NUM    ', '  False   '),\n",
            " ('       reply        ', '       reply        ', '   NOUN   ', '  False   '),\n",
            " ('         -          ', '         -          ', '  PUNCT   ', '  False   '),\n",
            " ('         to         ', '         to         ', '   ADP    ', '   True   '),\n",
            " ('         :          ', '         :          ', '  PUNCT   ', '  False   '),\n",
            " ('  rrn@po.cwru.edu   ', '  rrn@po.cwru.edu   ', '  PROPN   ', '  False   '),\n",
            " ('         (          ', '         (          ', '  PUNCT   ', '  False   '),\n",
            " ('robert_r._novitskey ', 'robert_r._novitskey ', '   NOUN   ', '  False   '),\n",
            " ('         )          ', '         )          ', '  PUNCT   ', '  False   '),\n",
            " ('    organization    ', '    organization    ', '   NOUN   ', '  False   '),\n",
            " ('         :          ', '         :          ', '  PUNCT   ', '  False   '),\n",
            " ('    case_western    ', '    case_western    ', '   NOUN   ', '  False   '),\n",
            " (' reserve_university ', ' reserve_university ', '   NOUN   ', '  False   '),\n",
            " ('         ,          ', '         ,          ', '  PUNCT   ', '  False   '),\n",
            " ('     cleveland      ', '     cleveland      ', '   NOUN   ', '  False   '),\n",
            " ('         ,          ', '         ,          ', '  PUNCT   ', '  False   '),\n",
            " ('         oh         ', '         oh         ', '   INTJ   ', '  False   '),\n",
            " ('         (          ', '         (          ', '  PUNCT   ', '  False   '),\n",
            " ('        usa         ', '        usa         ', '  PROPN   ', '  False   '),\n",
            " ('         )          ', '         )          ', '  PUNCT   ', '  False   '),\n",
            " ('       lines        ', '        line        ', '   NOUN   ', '  False   '),\n",
            " ('         :          ', '         :          ', '  PUNCT   ', '  False   '),\n",
            " ('         10         ', '         10         ', '   NUM    ', '  False   '),\n",
            " ('        nntp        ', '        nntp        ', '   NOUN   ', '  False   '),\n",
            " ('         -          ', '         -          ', '  PUNCT   ', '  False   '),\n",
            " ('      posting       ', '        post        ', '   VERB   ', '  False   '),\n",
            " ('         -          ', '         -          ', '  PUNCT   ', '  False   '),\n",
            " ('        host        ', '        host        ', '   NOUN   ', '  False   '),\n",
            " ('         :          ', '         :          ', '  PUNCT   ', '  False   '),\n",
            " (' thor.ins.cwru.edu  ', ' thor.ins.cwru.edu  ', '  PROPN   ', '  False   '),\n",
            " ('       could        ', '       could        ', '   AUX    ', '   True   '),\n",
            " ('      someone       ', '      someone       ', '   PRON   ', '   True   '),\n",
            " ('       please       ', '       please       ', '   INTJ   ', '   True   '),\n",
            " ('        post        ', '        post        ', '   VERB   ', '  False   '),\n",
            " ('        any         ', '        any         ', '   DET    ', '   True   '),\n",
            " ('        info        ', '        info        ', '   NOUN   ', '  False   '),\n",
            " ('         on         ', '         on         ', '   ADP    ', '   True   '),\n",
            " ('       these        ', '       these        ', '   DET    ', '   True   '),\n",
            " ('      systems       ', '       system       ', '   NOUN   ', '  False   '),\n",
            " ('         .          ', '         .          ', '  PUNCT   ', '  False   '),\n",
            " ('       thanks       ', '       thank        ', '   NOUN   ', '  False   '),\n",
            " ('         .          ', '         .          ', '  PUNCT   ', '  False   '),\n",
            " ('        bob         ', '        bob         ', '  PROPN   ', '  False   '),\n",
            " ('         --         ', '         --         ', '  PUNCT   ', '  False   '),\n",
            " ('----------------------------------------------------------------------',\n",
            "  '----------------------------------------------------------------------',\n",
            "  '  PUNCT   ',\n",
            "  '  False   '),\n",
            " ('       robert       ', '       robert       ', '  PROPN   ', '  False   '),\n",
            " ('     novitskey      ', '     novitskey      ', '  PROPN   ', '  False   '),\n",
            " ('         |          ', '         |          ', '   ADV    ', '  False   '),\n",
            " ('         \"          ', '         \"          ', '  PUNCT   ', '  False   '),\n",
            " ('      pursuing      ', '       pursue       ', '   VERB   ', '  False   '),\n",
            " ('       women        ', '       woman        ', '   NOUN   ', '  False   '),\n",
            " ('         is         ', '         be         ', '   VERB   ', '   True   '),\n",
            " ('      similar       ', '      similar       ', '   ADJ    ', '  False   '),\n",
            " ('         to         ', '         to         ', '   ADP    ', '   True   '),\n",
            " ('      banging       ', '        bang        ', '   VERB   ', '  False   '),\n",
            " ('        one         ', '        one         ', '   PRON   ', '   True   '),\n",
            " (\"         's         \", \"         's         \", '   PART   ', '   True   '),\n",
            " ('        head        ', '        head        ', '   NOUN   ', '  False   '),\n",
            " ('  rrn@po.cwru.edu   ', '  rrn@po.cwru.edu   ', '   VERB   ', '  False   '),\n",
            " ('         |          ', '         |          ', '   ADV    ', '  False   '),\n",
            " ('      against       ', '      against       ', '   ADP    ', '   True   '),\n",
            " ('         a          ', '         a          ', '   DET    ', '   True   '),\n",
            " ('        wall        ', '        wall        ', '   NOUN   ', '  False   '),\n",
            " ('        ...         ', '        ...         ', '  PUNCT   ', '  False   '),\n",
            " ('        with        ', '        with        ', '   ADP    ', '   True   '),\n",
            " ('        less        ', '        less        ', '   ADJ    ', '   True   '),\n",
            " ('    opportunity     ', '    opportunity     ', '   NOUN   ', '  False   '),\n",
            " ('        for         ', '        for         ', '   ADP    ', '   True   '),\n",
            " ('       reward       ', '       reward       ', '   NOUN   ', '  False   '),\n",
            " ('         \"          ', '         \"          ', '  PUNCT   ', '  False   '),\n",
            " ('----------------------------------------------------------------------',\n",
            "  '----------------------------------------------------------------------',\n",
            "  '  PUNCT   ',\n",
            "  '  False   ')]\n"
          ]
        }
      ]
    },
    {
      "cell_type": "markdown",
      "metadata": {
        "id": "9yF9TR86YZvL"
      },
      "source": [
        "# Tokenization and lemmatization\n",
        "Remove too short and too long tokens, punctuations and unrelevant POSs, stop words, emails, urls.\n",
        "\n",
        "`Lemmatization` is a smarter version of `stemming`, taking word context into account."
      ]
    },
    {
      "cell_type": "code",
      "metadata": {
        "id": "OZA8PyqY53Iw"
      },
      "source": [
        "domain_stop_words = {'from', 'subject', 're', 'reply'}"
      ],
      "execution_count": 31,
      "outputs": []
    },
    {
      "cell_type": "code",
      "metadata": {
        "id": "3-5SXQ-WZG-3"
      },
      "source": [
        "def lemmatize(docs: List[str]) -> List[List[str]]:\n",
        "  return [\n",
        "    [\n",
        "      token.lemma_\n",
        "      for token in spacy_nlp(doc)\n",
        "      if (\n",
        "          1 < len(token.lemma_) < 20 and\n",
        "          token.pos_ in {'ADJ', 'ADV', 'NOUN', 'PROPN', 'VERB'} and\n",
        "          not token.is_stop and  # spacy.lang.en.STOP_WORDS\n",
        "          not token.lower_ in domain_stop_words and\n",
        "          not token.like_url and\n",
        "          not token.like_email\n",
        "      )\n",
        "    ]\n",
        "    for doc in docs\n",
        "  ]"
      ],
      "execution_count": 32,
      "outputs": []
    },
    {
      "cell_type": "code",
      "metadata": {
        "id": "7BazeLoANwY9",
        "colab": {
          "base_uri": "https://localhost:8080/"
        },
        "outputId": "60a62a4f-7758-4fd9-dfb9-3461ca69af82"
      },
      "source": [
        "%%time\n",
        "\n",
        "train_corpus_preprocessed = lemmatize(train_corpus_phrased)\n",
        "val_corpus_preprocessed = lemmatize(val_corpus_phrased)\n",
        "test_corpus_preprocessed = lemmatize(test_corpus_phrased)\n",
        " \n",
        "print(train_corpus_preprocessed[0])"
      ],
      "execution_count": 33,
      "outputs": [
        {
          "output_type": "stream",
          "name": "stdout",
          "text": [
            "['robert_r._novitskey', 'cyclone', 'temp', 'article', 'i.d', 'robert_r._novitskey', 'organization', 'case_western', 'reserve_university', 'cleveland', 'usa', 'line', 'nntp', 'post', 'host', 'post', 'info', 'system', 'thank', 'bob', 'robert', 'novitskey', 'pursue', 'woman', 'similar', 'bang', 'head', 'wall', 'opportunity', 'reward']\n",
            "CPU times: user 4min 16s, sys: 5.66 s, total: 4min 22s\n",
            "Wall time: 4min 21s\n"
          ]
        }
      ]
    },
    {
      "cell_type": "code",
      "metadata": {
        "colab": {
          "base_uri": "https://localhost:8080/"
        },
        "id": "TpckR_I88a7w",
        "outputId": "e0ef534c-f8c2-4bd0-fe30-4897d9f96bee"
      },
      "source": [
        "pprint(train_corpus_phrased[0])\n",
        "\n",
        "print('\\n', (\"ORIGINAL TOKEN\".center(20),\n",
        "           \"TOKEN LEMMA\".center(20),\n",
        "           \"POS\".center(10),\n",
        "           \"STOP WORD\".center(11)))\n",
        "print('', (\"-\"*20, \"-\"*20, \"-\"*10, \"-\"*11))\n",
        "\n",
        "pprint(\n",
        "  [\n",
        "    (\n",
        "        token.text.center(20),\n",
        "        token.lemma_.center(20),\n",
        "        token.pos_.center(10),\n",
        "        str(token.is_stop).center(10)\n",
        "    ) for token in spacy_nlp(train_corpus_phrased[0])\n",
        "  ]\n",
        ")"
      ],
      "execution_count": 34,
      "outputs": [
        {
          "output_type": "stream",
          "name": "stdout",
          "text": [
            "('from: rrn@po.cwru.edu (robert_r._novitskey) subject: cyclone and '\n",
            " 'tempest????? article-i.d.: usenet.1pskav$qtu reply-to: rrn@po.cwru.edu '\n",
            " '(robert_r._novitskey) organization: case_western reserve_university, '\n",
            " 'cleveland, oh (usa) lines: 10 nntp-posting-host: thor.ins.cwru.edu could '\n",
            " 'someone please post any info on these systems. thanks. bob -- '\n",
            " '---------------------------------------------------------------------- '\n",
            " 'robert novitskey | \"pursuing women is similar to banging one\\'s head '\n",
            " 'rrn@po.cwru.edu | against a wall...with less opportunity for reward\" '\n",
            " '----------------------------------------------------------------------')\n",
            "\n",
            " ('   ORIGINAL TOKEN   ', '    TOKEN LEMMA     ', '   POS    ', ' STOP WORD ')\n",
            " ('--------------------', '--------------------', '----------', '-----------')\n",
            "[('        from        ', '        from        ', '   ADP    ', '   True   '),\n",
            " ('         :          ', '         :          ', '  PUNCT   ', '  False   '),\n",
            " ('  rrn@po.cwru.edu   ', '  rrn@po.cwru.edu   ', '  PROPN   ', '  False   '),\n",
            " ('         (          ', '         (          ', '  PUNCT   ', '  False   '),\n",
            " ('robert_r._novitskey ', 'robert_r._novitskey ', '   NOUN   ', '  False   '),\n",
            " ('         )          ', '         )          ', '  PUNCT   ', '  False   '),\n",
            " ('      subject       ', '      subject       ', '   NOUN   ', '  False   '),\n",
            " ('         :          ', '         :          ', '  PUNCT   ', '  False   '),\n",
            " ('      cyclone       ', '      cyclone       ', '   NOUN   ', '  False   '),\n",
            " ('        and         ', '        and         ', '  CCONJ   ', '   True   '),\n",
            " ('      tempest       ', '        temp        ', '   ADJ    ', '  False   '),\n",
            " ('         ?          ', '         ?          ', '  PUNCT   ', '  False   '),\n",
            " ('         ?          ', '         ?          ', '  PUNCT   ', '  False   '),\n",
            " ('         ?          ', '         ?          ', '  PUNCT   ', '  False   '),\n",
            " ('         ?          ', '         ?          ', '  PUNCT   ', '  False   '),\n",
            " ('         ?          ', '         ?          ', '  PUNCT   ', '  False   '),\n",
            " ('      article       ', '      article       ', '   NOUN   ', '  False   '),\n",
            " ('         -          ', '         -          ', '  PUNCT   ', '  False   '),\n",
            " ('        i.d         ', '        i.d         ', '  PROPN   ', '  False   '),\n",
            " ('         .          ', '         .          ', '  PROPN   ', '  False   '),\n",
            " ('         :          ', '         :          ', '  PUNCT   ', '  False   '),\n",
            " (' usenet.1pskav$qtu  ', ' usenet.1pskav$qtu  ', '   NUM    ', '  False   '),\n",
            " ('       reply        ', '       reply        ', '   NOUN   ', '  False   '),\n",
            " ('         -          ', '         -          ', '  PUNCT   ', '  False   '),\n",
            " ('         to         ', '         to         ', '   ADP    ', '   True   '),\n",
            " ('         :          ', '         :          ', '  PUNCT   ', '  False   '),\n",
            " ('  rrn@po.cwru.edu   ', '  rrn@po.cwru.edu   ', '  PROPN   ', '  False   '),\n",
            " ('         (          ', '         (          ', '  PUNCT   ', '  False   '),\n",
            " ('robert_r._novitskey ', 'robert_r._novitskey ', '   NOUN   ', '  False   '),\n",
            " ('         )          ', '         )          ', '  PUNCT   ', '  False   '),\n",
            " ('    organization    ', '    organization    ', '   NOUN   ', '  False   '),\n",
            " ('         :          ', '         :          ', '  PUNCT   ', '  False   '),\n",
            " ('    case_western    ', '    case_western    ', '   NOUN   ', '  False   '),\n",
            " (' reserve_university ', ' reserve_university ', '   NOUN   ', '  False   '),\n",
            " ('         ,          ', '         ,          ', '  PUNCT   ', '  False   '),\n",
            " ('     cleveland      ', '     cleveland      ', '   NOUN   ', '  False   '),\n",
            " ('         ,          ', '         ,          ', '  PUNCT   ', '  False   '),\n",
            " ('         oh         ', '         oh         ', '   INTJ   ', '  False   '),\n",
            " ('         (          ', '         (          ', '  PUNCT   ', '  False   '),\n",
            " ('        usa         ', '        usa         ', '  PROPN   ', '  False   '),\n",
            " ('         )          ', '         )          ', '  PUNCT   ', '  False   '),\n",
            " ('       lines        ', '        line        ', '   NOUN   ', '  False   '),\n",
            " ('         :          ', '         :          ', '  PUNCT   ', '  False   '),\n",
            " ('         10         ', '         10         ', '   NUM    ', '  False   '),\n",
            " ('        nntp        ', '        nntp        ', '   NOUN   ', '  False   '),\n",
            " ('         -          ', '         -          ', '  PUNCT   ', '  False   '),\n",
            " ('      posting       ', '        post        ', '   VERB   ', '  False   '),\n",
            " ('         -          ', '         -          ', '  PUNCT   ', '  False   '),\n",
            " ('        host        ', '        host        ', '   NOUN   ', '  False   '),\n",
            " ('         :          ', '         :          ', '  PUNCT   ', '  False   '),\n",
            " (' thor.ins.cwru.edu  ', ' thor.ins.cwru.edu  ', '  PROPN   ', '  False   '),\n",
            " ('       could        ', '       could        ', '   AUX    ', '   True   '),\n",
            " ('      someone       ', '      someone       ', '   PRON   ', '   True   '),\n",
            " ('       please       ', '       please       ', '   INTJ   ', '   True   '),\n",
            " ('        post        ', '        post        ', '   VERB   ', '  False   '),\n",
            " ('        any         ', '        any         ', '   DET    ', '   True   '),\n",
            " ('        info        ', '        info        ', '   NOUN   ', '  False   '),\n",
            " ('         on         ', '         on         ', '   ADP    ', '   True   '),\n",
            " ('       these        ', '       these        ', '   DET    ', '   True   '),\n",
            " ('      systems       ', '       system       ', '   NOUN   ', '  False   '),\n",
            " ('         .          ', '         .          ', '  PUNCT   ', '  False   '),\n",
            " ('       thanks       ', '       thank        ', '   NOUN   ', '  False   '),\n",
            " ('         .          ', '         .          ', '  PUNCT   ', '  False   '),\n",
            " ('        bob         ', '        bob         ', '  PROPN   ', '  False   '),\n",
            " ('         --         ', '         --         ', '  PUNCT   ', '  False   '),\n",
            " ('----------------------------------------------------------------------',\n",
            "  '----------------------------------------------------------------------',\n",
            "  '  PUNCT   ',\n",
            "  '  False   '),\n",
            " ('       robert       ', '       robert       ', '  PROPN   ', '  False   '),\n",
            " ('     novitskey      ', '     novitskey      ', '  PROPN   ', '  False   '),\n",
            " ('         |          ', '         |          ', '   ADV    ', '  False   '),\n",
            " ('         \"          ', '         \"          ', '  PUNCT   ', '  False   '),\n",
            " ('      pursuing      ', '       pursue       ', '   VERB   ', '  False   '),\n",
            " ('       women        ', '       woman        ', '   NOUN   ', '  False   '),\n",
            " ('         is         ', '         be         ', '   VERB   ', '   True   '),\n",
            " ('      similar       ', '      similar       ', '   ADJ    ', '  False   '),\n",
            " ('         to         ', '         to         ', '   ADP    ', '   True   '),\n",
            " ('      banging       ', '        bang        ', '   VERB   ', '  False   '),\n",
            " ('        one         ', '        one         ', '   PRON   ', '   True   '),\n",
            " (\"         's         \", \"         's         \", '   PART   ', '   True   '),\n",
            " ('        head        ', '        head        ', '   NOUN   ', '  False   '),\n",
            " ('  rrn@po.cwru.edu   ', '  rrn@po.cwru.edu   ', '   VERB   ', '  False   '),\n",
            " ('         |          ', '         |          ', '   ADV    ', '  False   '),\n",
            " ('      against       ', '      against       ', '   ADP    ', '   True   '),\n",
            " ('         a          ', '         a          ', '   DET    ', '   True   '),\n",
            " ('        wall        ', '        wall        ', '   NOUN   ', '  False   '),\n",
            " ('        ...         ', '        ...         ', '  PUNCT   ', '  False   '),\n",
            " ('        with        ', '        with        ', '   ADP    ', '   True   '),\n",
            " ('        less        ', '        less        ', '   ADJ    ', '   True   '),\n",
            " ('    opportunity     ', '    opportunity     ', '   NOUN   ', '  False   '),\n",
            " ('        for         ', '        for         ', '   ADP    ', '   True   '),\n",
            " ('       reward       ', '       reward       ', '   NOUN   ', '  False   '),\n",
            " ('         \"          ', '         \"          ', '  PUNCT   ', '  False   '),\n",
            " ('----------------------------------------------------------------------',\n",
            "  '----------------------------------------------------------------------',\n",
            "  '  PUNCT   ',\n",
            "  '  False   ')]\n"
          ]
        }
      ]
    },
    {
      "cell_type": "markdown",
      "metadata": {
        "id": "MCZtHhQshb3G"
      },
      "source": [
        "# Build the dictionary"
      ]
    },
    {
      "cell_type": "code",
      "metadata": {
        "id": "orD7Hom7TiCT"
      },
      "source": [
        "dictionary = gensim.corpora.Dictionary(train_corpus_preprocessed)\n",
        "# dictionary.filter_extremes(no_below=15, no_above=0.5, keep_n=100_000)\n",
        " \n",
        "# Save the dictionary as a file for later use\n",
        "dictionary.save('dictionary.dict')"
      ],
      "execution_count": 35,
      "outputs": []
    },
    {
      "cell_type": "markdown",
      "metadata": {
        "id": "MYG1Jr89VoyH"
      },
      "source": [
        "# Represent documents as a `bag of words`\n",
        "Each document will be represented by a list of tuples: `(term_id -> in_doc_term_frequency)`"
      ]
    },
    {
      "cell_type": "code",
      "metadata": {
        "id": "9H5P0tGOTlNU"
      },
      "source": [
        "def make_bow_corpus(\n",
        "    preprocessed_docs: List[List[str]]\n",
        ") -> List[List[Tuple[int, int]]]:\n",
        "  return [dictionary.doc2bow(doc) for doc in preprocessed_docs]"
      ],
      "execution_count": 36,
      "outputs": []
    },
    {
      "cell_type": "code",
      "metadata": {
        "id": "H8vopPXbhrh5",
        "colab": {
          "base_uri": "https://localhost:8080/"
        },
        "outputId": "a3b8660d-94ed-4b1e-d214-78b777034143"
      },
      "source": [
        "train_corpus_bow = make_bow_corpus(train_corpus_preprocessed)\n",
        "val_corpus_bow = make_bow_corpus(val_corpus_preprocessed)\n",
        "test_corpus_bow = make_bow_corpus(test_corpus_preprocessed)\n",
        " \n",
        "# Save the BOW corpora as files for later use\n",
        "gensim.corpora.MmCorpus.serialize('corpus_train.mm', train_corpus_bow)\n",
        "gensim.corpora.MmCorpus.serialize('corpus_val.mm', val_corpus_bow)\n",
        "gensim.corpora.MmCorpus.serialize('corpus_test.mm', test_corpus_bow)\n",
        " \n",
        " \n",
        "print('',\n",
        "      (\"TERM ID\".center(8), \"TERM\".center(20), \"IN-DOC FREQUENCY\".center(18)))\n",
        "print('', (\"-\"*8, \"-\"*20, \"-\"*18))\n",
        "pprint(\n",
        "  [\n",
        "    (\n",
        "         str(token[0]).center(8),\n",
        "         dictionary[token[0]].center(20),\n",
        "         str(token[1]).center(18)\n",
        "    )\n",
        "    for token in train_corpus_bow[0]\n",
        "  ]\n",
        ")"
      ],
      "execution_count": 37,
      "outputs": [
        {
          "output_type": "stream",
          "name": "stdout",
          "text": [
            " ('TERM ID ', '        TERM        ', ' IN-DOC FREQUENCY ')\n",
            " ('--------', '--------------------', '------------------')\n",
            "[('   0    ', '      article       ', '        1         '),\n",
            " ('   1    ', '        bang        ', '        1         '),\n",
            " ('   2    ', '        bob         ', '        1         '),\n",
            " ('   3    ', '    case_western    ', '        1         '),\n",
            " ('   4    ', '     cleveland      ', '        1         '),\n",
            " ('   5    ', '      cyclone       ', '        1         '),\n",
            " ('   6    ', '        head        ', '        1         '),\n",
            " ('   7    ', '        host        ', '        1         '),\n",
            " ('   8    ', '        i.d         ', '        1         '),\n",
            " ('   9    ', '        info        ', '        1         '),\n",
            " ('   10   ', '        line        ', '        1         '),\n",
            " ('   11   ', '        nntp        ', '        1         '),\n",
            " ('   12   ', '     novitskey      ', '        1         '),\n",
            " ('   13   ', '    opportunity     ', '        1         '),\n",
            " ('   14   ', '    organization    ', '        1         '),\n",
            " ('   15   ', '        post        ', '        2         '),\n",
            " ('   16   ', '       pursue       ', '        1         '),\n",
            " ('   17   ', ' reserve_university ', '        1         '),\n",
            " ('   18   ', '       reward       ', '        1         '),\n",
            " ('   19   ', '       robert       ', '        1         '),\n",
            " ('   20   ', 'robert_r._novitskey ', '        2         '),\n",
            " ('   21   ', '      similar       ', '        1         '),\n",
            " ('   22   ', '       system       ', '        1         '),\n",
            " ('   23   ', '        temp        ', '        1         '),\n",
            " ('   24   ', '       thank        ', '        1         '),\n",
            " ('   25   ', '        usa         ', '        1         '),\n",
            " ('   26   ', '        wall        ', '        1         '),\n",
            " ('   27   ', '       woman        ', '        1         ')]\n"
          ]
        }
      ]
    },
    {
      "cell_type": "markdown",
      "metadata": {
        "id": "LDFrph_7hyyb"
      },
      "source": [
        "# Train and evaluate an `LDA` topic model\n",
        "`LDA` or `Latent Dirichlet Allocation` is a generative probabilistic model that tries to find groups of words that appear frequently together across different documents.\n",
        "It is the most commonly used method to discover a user-specified number of `topics` shared by documents within a text corpus. Here each observation is a document, the features are the presence (or occurrence count) of each word, and the categories are the topics. Since the method is unsupervised, the topics are not specified up front, and are not guaranteed to align with how a human may naturally categorize documents. The topics are learned as a probability distribution over the words that occur in each document. Each document, in turn, is described as a mixture of topics. [https://docs.aws.amazon.com/sagemaker/latest/dg/lda.html]\n",
        "\n",
        "*   Input to LDA: a bag-of-words matrix\n",
        "*   Output from LDA: A document-to-topic matrix + A word-to-topic matrix\n",
        "\n",
        "paper: `Latent Dirichlet Allocation, David M. Blei, Andrew Y. Ng, and Michael I. Jordan, Journal of Machine Learning Research 3, pages: 993–1022, Jan 2003.`\n",
        "\n",
        "Other options are `HDP` and `NTM`.\n",
        "\n",
        "The difference between HDP and LDA is that HDP is a non-parametric method. Which means that we don't need to specify the number of topics. HDP will fit as many topics as it can and find the optimal number of topics by itself.\n",
        "\n",
        "Choosing between Latent Dirichlet Allocation (LDA) and Neural Topic Model (NTM) is described here: https://docs.aws.amazon.com/sagemaker/latest/dg/lda.html\n",
        "\n",
        "Recent research by Amazon, Dinget et al., 2018 has shown that NTM is promising for achieving high topic coherence but LDA trained with collapsed Gibbs sampling achieves better perplexity. Research has shown that the likelihood computed per word often does not align to human judgement, and can be entirely non-correlated, thus topic coherence i more important for our task.\n",
        "\n",
        "More infor about NTM: https://docs.aws.amazon.com/sagemaker/latest/dg/ntm.html\n",
        "\n",
        "\n",
        "####Mallet’s LDA:\n",
        "`MALLET` is a Java-based package for statistical natural language processing, document classification, clustering, topic modeling, information extraction, and other machine learning applications to text.\n",
        "The MALLET topic model package includes an extremely fast and highly scalable implementation of `Gibbs sampling`, efficient methods for document-topic hyperparameter optimization, and tools for inferring topics for new documents given trained models.\n"
      ]
    },
    {
      "cell_type": "code",
      "metadata": {
        "id": "-urVUoreh1Uu"
      },
      "source": [
        "import sys\n",
        "sys.path.append('/content/gensimwrapper')\n",
        "from gensimwrapper.ldamallet import LdaMallet\n",
        " \n",
        "import numpy as np"
      ],
      "execution_count": 38,
      "outputs": []
    },
    {
      "cell_type": "code",
      "metadata": {
        "id": "6inQ8MpHh7CM"
      },
      "source": [
        "def train_gensim_lda(dictionary: gensim.corpora.dictionary.Dictionary,\n",
        "                     corpus: list,\n",
        "                     num_topics: int = 20) -> gensim.models.ldamodel.LdaModel:\n",
        "  return gensim.models.ldamodel.LdaModel(\n",
        "      corpus=corpus,\n",
        "      num_topics=num_topics,\n",
        "      id2word=dictionary,\n",
        "      chunksize=100,  # the number of docs to be used in each training chunk\n",
        "      passes=10,      # the total number of training passes\n",
        "      update_every=1, # how often the model parameters should be updated\n",
        "      alpha='auto',   # alpha and eta are hyperparameters that affect sparsity\\\n",
        "      # eta=None,     # of the topics, both defaults to 1.0/num_topics prior.\n",
        "      random_state=100,\n",
        "      per_word_topics=True,\n",
        "  )\n",
        " \n",
        " \n",
        "def train_mallet_lda(dictionary: gensim.corpora.dictionary.Dictionary,\n",
        "                     corpus: list,\n",
        "                     num_topics: int = 20) -> LdaMallet:\n",
        "  \"\"\"\n",
        "  an (optimized version of) collapsed gibbs sampling from MALLET.\n",
        "  MALLET’s LDA training requires `O(corpus_words)` of memory, keeping the entire\n",
        "  corpus in RAM. If you find yourself running out of memory, either decrease the\n",
        "  workers constructor parameter, or use Gensim's native LDA model which needs\n",
        "  only O(1) memory.\n",
        "  \"\"\"\n",
        "  return LdaMallet(\n",
        "    mallet_path='/content/mallet-2.0.8/bin/mallet',\n",
        "    corpus=corpus,\n",
        "    num_topics=num_topics,\n",
        "    # alpha=50,\n",
        "    id2word=dictionary,\n",
        "    # workers=4,\n",
        "    iterations=1000,\n",
        "    random_seed=100,\n",
        "  )\n",
        " \n",
        " \n",
        "def convert_mallet_model_to_gensim_model(\n",
        "    mallet_model,\n",
        "    gamma_threshold=0.001,\n",
        "    iterations=50 # or 1000?\n",
        ") -> gensim.models.ldamodel.LdaModel:\n",
        "  gensim_model = gensim.models.ldamodel.LdaModel(\n",
        "      id2word=mallet_model.id2word,\n",
        "      num_topics=mallet_model.num_topics,\n",
        "      alpha=mallet_model.alpha,\n",
        "      eta=0,\n",
        "      iterations=iterations,\n",
        "      gamma_threshold=gamma_threshold,\n",
        "      dtype=np.float64  # don't loose precision when converting from MALLET\n",
        "  )\n",
        "  gensim_model.state.sstats[...] = mallet_model.wordtopics\n",
        "  gensim_model.sync_state()\n",
        "  return gensim_model\n",
        " \n",
        " \n",
        "def compute_log_perplexity(lda_model: gensim.models.ldamodel.LdaModel,\n",
        "                           chunk,\n",
        "                           total_docs=None) -> np.float64:\n",
        "  \"\"\"\n",
        "  per-word likelihood bound, using the chunk of documents as evaluation corpus.\n",
        "  perplexity=2^(-bound)\n",
        "  lower the better!\n",
        "  \"\"\"\n",
        "  return lda_model.log_perplexity(chunk, total_docs)\n",
        "\n",
        "\n",
        "def compute_topic_coherence(lda_model: gensim.models.ldamodel.LdaModel,\n",
        "                            dictionary: gensim.corpora.dictionary.Dictionary,\n",
        "                            texts: list,\n",
        "                            coherence_measure: str = 'c_v') -> np.float64:\n",
        "  \"\"\"\n",
        "  topic coherence for topic models.\n",
        "  https://rare-technologies.com/what-is-topic-coherence/\n",
        "  paper: http://svn.aksw.org/papers/2015/WSDM_Topic_Evaluation/public.pdf\n",
        "  \"\"\"\n",
        "  return gensim.models.CoherenceModel(\n",
        "      model=lda_model,\n",
        "      texts=texts,  # tokenized texts\n",
        "      dictionary=dictionary,\n",
        "      # coherence measure: 'u_mass', 'c_v', 'c_uci', 'c_npmi'\n",
        "      coherence=coherence_measure,\n",
        "      topn=10,  # the number of top words to be extracted from each topic.\n",
        "  ).get_coherence()"
      ],
      "execution_count": 39,
      "outputs": []
    },
    {
      "cell_type": "markdown",
      "metadata": {
        "id": "sMtD6ryxjdgC"
      },
      "source": [
        "## Tune `num_topics` hyper parameter:\n",
        "\n",
        "Topic models aim to minimize `perplexity` and maximize `topic coherence`.\n",
        "\n",
        "Perplexity is an intrinsic language modeling evaluation metric that measures the inverse of the geometric mean per-word likelihood in your test data. A lower perplexity score indicates better generalization performance [https://docs.aws.amazon.com/sagemaker/latest/dg/lda.html]."
      ]
    },
    {
      "cell_type": "code",
      "metadata": {
        "colab": {
          "base_uri": "https://localhost:8080/"
        },
        "id": "ub5xNQz8iK0P",
        "outputId": "23ec2e52-778d-4c00-d7cd-1ed929bb1ed4"
      },
      "source": [
        "%%time\n",
        " \n",
        "num_topics_min = 2\n",
        "num_topics_max = 31\n",
        "num_topics_surge_step = 2\n",
        " \n",
        "candidate_lda_models = []\n",
        "\n",
        "for num_topics in range(num_topics_min, num_topics_max, num_topics_surge_step):\n",
        "  print(\"Training an LDA model with %d topics...\" % num_topics)\n",
        "  lda_model = train_mallet_lda(dictionary, train_corpus_bow, num_topics)\n",
        "\n",
        "  # print(\"Computing Log Perplexity of the LDA model with %d topics...\")\n",
        "  # log_perplexity = compute_log_perplexity(lda_model, val_corpus_bow)\n",
        "  # print(\n",
        "  #   \"Log Perplexity of the LDA model with %d topics is: %f\" %(num_topics,\n",
        "  #                                                             log_perplexity)\n",
        "  # )\n",
        "\n",
        "  print(\n",
        "    \"Computing Topic Coherence for the LDA model with %d topics...\" % num_topics\n",
        "  )\n",
        "  topic_coherence = compute_topic_coherence(lda_model,\n",
        "                                            dictionary,\n",
        "                                            val_corpus_preprocessed,\n",
        "                                            # coherence_measure='c_v')\n",
        "                                            coherence_measure='u_mass')\n",
        "  print(\n",
        "    \"Topic Coherence for the LDA model with %d topic is: %f\" % (num_topics,\n",
        "                                                                topic_coherence)\n",
        "  )\n",
        "\n",
        "  candidate_lda_models.append(\n",
        "      {\n",
        "          'num_topics': num_topics,\n",
        "          'lda_model': lda_model,\n",
        "          # 'perplexity': np.exp2(-log_perplexity),\n",
        "          # 'log_perplexity': log_perplexity,\n",
        "          'topic_coherence': topic_coherence\n",
        "      }\n",
        "  )\n",
        "  print(\"--------------------------------------------------------------\")"
      ],
      "execution_count": 40,
      "outputs": [
        {
          "output_type": "stream",
          "name": "stdout",
          "text": [
            "Training an LDA model with 2 topics...\n",
            "Computing Topic Coherence for the LDA model with 2 topics...\n",
            "Topic Coherence for the LDA model with 2 topic is: -1.328114\n",
            "--------------------------------------------------------------\n",
            "Training an LDA model with 4 topics...\n",
            "Computing Topic Coherence for the LDA model with 4 topics...\n",
            "Topic Coherence for the LDA model with 4 topic is: -1.439494\n",
            "--------------------------------------------------------------\n",
            "Training an LDA model with 6 topics...\n",
            "Computing Topic Coherence for the LDA model with 6 topics...\n",
            "Topic Coherence for the LDA model with 6 topic is: -1.450413\n",
            "--------------------------------------------------------------\n",
            "Training an LDA model with 8 topics...\n",
            "Computing Topic Coherence for the LDA model with 8 topics...\n",
            "Topic Coherence for the LDA model with 8 topic is: -2.149721\n",
            "--------------------------------------------------------------\n",
            "Training an LDA model with 10 topics...\n",
            "Computing Topic Coherence for the LDA model with 10 topics...\n",
            "Topic Coherence for the LDA model with 10 topic is: -1.998588\n",
            "--------------------------------------------------------------\n",
            "Training an LDA model with 12 topics...\n",
            "Computing Topic Coherence for the LDA model with 12 topics...\n",
            "Topic Coherence for the LDA model with 12 topic is: -2.297091\n",
            "--------------------------------------------------------------\n",
            "Training an LDA model with 14 topics...\n",
            "Computing Topic Coherence for the LDA model with 14 topics...\n",
            "Topic Coherence for the LDA model with 14 topic is: -2.758334\n",
            "--------------------------------------------------------------\n",
            "Training an LDA model with 16 topics...\n",
            "Computing Topic Coherence for the LDA model with 16 topics...\n",
            "Topic Coherence for the LDA model with 16 topic is: -2.339935\n",
            "--------------------------------------------------------------\n",
            "Training an LDA model with 18 topics...\n",
            "Computing Topic Coherence for the LDA model with 18 topics...\n",
            "Topic Coherence for the LDA model with 18 topic is: -2.307495\n",
            "--------------------------------------------------------------\n",
            "Training an LDA model with 20 topics...\n",
            "Computing Topic Coherence for the LDA model with 20 topics...\n",
            "Topic Coherence for the LDA model with 20 topic is: -2.587363\n",
            "--------------------------------------------------------------\n",
            "Training an LDA model with 22 topics...\n",
            "Computing Topic Coherence for the LDA model with 22 topics...\n",
            "Topic Coherence for the LDA model with 22 topic is: -2.291835\n",
            "--------------------------------------------------------------\n",
            "Training an LDA model with 24 topics...\n",
            "Computing Topic Coherence for the LDA model with 24 topics...\n",
            "Topic Coherence for the LDA model with 24 topic is: -2.547238\n",
            "--------------------------------------------------------------\n",
            "Training an LDA model with 26 topics...\n",
            "Computing Topic Coherence for the LDA model with 26 topics...\n",
            "Topic Coherence for the LDA model with 26 topic is: -2.157264\n",
            "--------------------------------------------------------------\n",
            "Training an LDA model with 28 topics...\n",
            "Computing Topic Coherence for the LDA model with 28 topics...\n",
            "Topic Coherence for the LDA model with 28 topic is: -2.368436\n",
            "--------------------------------------------------------------\n",
            "Training an LDA model with 30 topics...\n",
            "Computing Topic Coherence for the LDA model with 30 topics...\n",
            "Topic Coherence for the LDA model with 30 topic is: -2.370172\n",
            "--------------------------------------------------------------\n",
            "CPU times: user 1min 18s, sys: 2.69 s, total: 1min 21s\n",
            "Wall time: 32min 5s\n"
          ]
        }
      ]
    },
    {
      "cell_type": "markdown",
      "metadata": {
        "id": "WeqIgGFVj8Ub"
      },
      "source": [
        "## Plot the topic coherence landscape"
      ]
    },
    {
      "cell_type": "code",
      "metadata": {
        "id": "j8xz1lxHj5Dq"
      },
      "source": [
        "import matplotlib.pyplot as plt"
      ],
      "execution_count": 41,
      "outputs": []
    },
    {
      "cell_type": "code",
      "metadata": {
        "colab": {
          "base_uri": "https://localhost:8080/",
          "height": 296
        },
        "id": "iOBpA6d_kD8r",
        "outputId": "54b3de3d-fca9-49e2-f2d7-7a160ac255e1"
      },
      "source": [
        "plt.plot(\n",
        "    [candidate['num_topics'] for candidate in candidate_lda_models],\n",
        "    [candidate['topic_coherence'] for candidate in candidate_lda_models]\n",
        ")\n",
        "plt.xlabel(\"num_topics\")\n",
        "plt.ylabel(\"topic_coherence\")\n",
        "plt.title(\"Tuning number of topics\")\n",
        "plt.show()"
      ],
      "execution_count": 42,
      "outputs": [
        {
          "output_type": "display_data",
          "data": {
            "image/png": "[encoded data removed]",
            "text/plain": [
              "<Figure size 432x288 with 1 Axes>"
            ]
          },
          "metadata": {
            "needs_background": "light"
          }
        }
      ]
    },
    {
      "cell_type": "markdown",
      "metadata": {
        "id": "_YGpgy-wkNCq"
      },
      "source": [
        "## Find the best model\n",
        "Choosing a ‘k’ that marks the end of a rapid growth of topic coherence (for `c_v` cherence measure) usually offers meaningful and interpretable topics. Picking an even higher value can sometimes provide more granular sub-topics.\n",
        "\n",
        "If the coherence score seems to keep increasing, it may make better sense to pick the model that gave the highest CV before flattening out.\n",
        "\n",
        "If you see the same keywords being repeated in multiple topics, it’s probably a sign that the ‘k’ is too large.\n",
        "\n",
        "For `u_mass` coherence measure, we should choose the lowest negative value."
      ]
    },
    {
      "cell_type": "code",
      "metadata": {
        "id": "o86LwPRLj1GY"
      },
      "source": [
        "# Choose based on the plot\n",
        "best_model_idx = 6"
      ],
      "execution_count": 43,
      "outputs": []
    },
    {
      "cell_type": "code",
      "metadata": {
        "id": "3guSaQlykSOA"
      },
      "source": [
        "num_topics = candidate_lda_models[best_model_idx]['num_topics']\n",
        "\n",
        "lda_model = candidate_lda_models[best_model_idx]['lda_model']\n",
        "lda_model.save('lda.model')"
      ],
      "execution_count": 44,
      "outputs": []
    },
    {
      "cell_type": "markdown",
      "metadata": {
        "id": "P5KyObD9sEcn"
      },
      "source": [
        "# List the keywords for each topic and the weightage (importance) of each keyword\n",
        "\n",
        "The weights reflect how important a keyword is to that topic."
      ]
    },
    {
      "cell_type": "code",
      "metadata": {
        "id": "GGzjCwR_rrDt",
        "colab": {
          "base_uri": "https://localhost:8080/"
        },
        "outputId": "d24f64a4-3a98-47a1-d6ce-1189fb6971ee"
      },
      "source": [
        "# lda_model.show_topics(num_topics=num_topics, formatted=False)\n",
        "lda_model.print_topics()"
      ],
      "execution_count": 45,
      "outputs": [
        {
          "output_type": "execute_result",
          "data": {
            "text/plain": [
              "[(0,\n",
              "  '0.021*\"key\" + 0.012*\"space\" + 0.011*\"system\" + 0.008*\"information\" + 0.007*\"technology\" + 0.007*\"encryption\" + 0.006*\"chip\" + 0.005*\"message\" + 0.005*\"communication\" + 0.005*\"security\"'),\n",
              " (1,\n",
              "  '0.011*\"israel\" + 0.010*\"jews\" + 0.008*\"war\" + 0.008*\"world\" + 0.007*\"turkish\" + 0.006*\"armenian\" + 0.006*\"people\" + 0.006*\"history\" + 0.006*\"israeli\" + 0.005*\"attack\"'),\n",
              " (2,\n",
              "  '0.010*\"study\" + 0.008*\"science\" + 0.006*\"drug\" + 0.006*\"problem\" + 0.005*\"year\" + 0.005*\"test\" + 0.005*\"case\" + 0.005*\"effect\" + 0.005*\"time\" + 0.005*\"result\"'),\n",
              " (3,\n",
              "  '0.022*\"people\" + 0.016*\"time\" + 0.012*\"happen\" + 0.012*\"start\" + 0.012*\"day\" + 0.011*\"leave\" + 0.009*\"live\" + 0.008*\"hear\" + 0.008*\"man\" + 0.007*\"woman\"'),\n",
              " (4,\n",
              "  '0.019*\"file\" + 0.015*\"program\" + 0.014*\"window\" + 0.010*\"version\" + 0.009*\"image\" + 0.007*\"software\" + 0.007*\"server\" + 0.007*\"include\" + 0.007*\"run\" + 0.007*\"user\"'),\n",
              " (5,\n",
              "  '0.013*\"line\" + 0.011*\"power\" + 0.009*\"work\" + 0.006*\"high\" + 0.006*\"low\" + 0.006*\"ground\" + 0.006*\"design\" + 0.006*\"box\" + 0.006*\"organization\" + 0.005*\"wire\"'),\n",
              " (6,\n",
              "  '0.020*\"game\" + 0.014*\"play\" + 0.014*\"team\" + 0.011*\"year\" + 0.011*\"win\" + 0.010*\"player\" + 0.010*\"good\" + 0.006*\"season\" + 0.006*\"line\" + 0.006*\"hockey\"'),\n",
              " (7,\n",
              "  '0.023*\"car\" + 0.012*\"organization\" + 0.010*\"good\" + 0.010*\"bike\" + 0.009*\"buy\" + 0.009*\"sale\" + 0.009*\"sell\" + 0.008*\"line\" + 0.007*\"price\" + 0.007*\"ride\"'),\n",
              " (8,\n",
              "  '0.024*\"god\" + 0.009*\"people\" + 0.008*\"christian\" + 0.007*\"jesus\" + 0.007*\"question\" + 0.007*\"claim\" + 0.007*\"religion\" + 0.007*\"g)r\" + 0.007*\"word\" + 0.007*\"true\"'),\n",
              " (9,\n",
              "  '0.012*\"government\" + 0.011*\"people\" + 0.010*\"mr\" + 0.008*\"state\" + 0.008*\"work\" + 0.008*\"president\" + 0.007*\"time\" + 0.006*\"year\" + 0.006*\"money\" + 0.005*\"stephanopoulos\"'),\n",
              " (10,\n",
              "  '0.015*\"gun\" + 0.014*\"law\" + 0.009*\"line\" + 0.008*\"write\" + 0.008*\"state\" + 0.007*\"entry\" + 0.007*\"case\" + 0.006*\"firearm\" + 0.006*\"people\" + 0.006*\"crime\"'),\n",
              " (11,\n",
              "  '0.071*\"line\" + 0.070*\"organization\" + 0.064*\"post\" + 0.059*\"host\" + 0.057*\"nntp\" + 0.045*\"university\" + 0.019*\"distribution\" + 0.013*\"usa\" + 0.011*\"mail\" + 0.008*\"david\"'),\n",
              " (12,\n",
              "  '0.100*\"write\" + 0.074*\"article\" + 0.036*\"line\" + 0.034*\"organization\" + 0.019*\"thing\" + 0.016*\"post\" + 0.013*\"good\" + 0.012*\"opinion\" + 0.011*\"bad\" + 0.010*\"problem\"'),\n",
              " (13,\n",
              "  '0.017*\"drive\" + 0.015*\"card\" + 0.013*\"system\" + 0.012*\"bit\" + 0.011*\"problem\" + 0.010*\"db\" + 0.009*\"work\" + 0.009*\"driver\" + 0.009*\"mac\" + 0.008*\"run\"')]"
            ]
          },
          "metadata": {},
          "execution_count": 45
        }
      ]
    },
    {
      "cell_type": "markdown",
      "metadata": {
        "id": "kRuY1WuFgqRS"
      },
      "source": [
        "## Get a topic keywords and their weightage"
      ]
    },
    {
      "cell_type": "code",
      "metadata": {
        "id": "wpdBAYmyHlAB"
      },
      "source": [
        "def get_topic_keywords(lda_model: LdaMallet,\n",
        "                       topic_id: int) -> List[Tuple[str, float]]:\n",
        "  return lda_model.show_topic(topic_id)"
      ],
      "execution_count": 46,
      "outputs": []
    },
    {
      "cell_type": "code",
      "metadata": {
        "id": "TD3a1kPpFHUz",
        "colab": {
          "base_uri": "https://localhost:8080/"
        },
        "outputId": "5e4f80c5-4917-40fb-d017-3e602bd309c9"
      },
      "source": [
        "get_topic_keywords(\n",
        "    lda_model=lda_model,\n",
        "    topic_id=0\n",
        ")"
      ],
      "execution_count": 47,
      "outputs": [
        {
          "output_type": "execute_result",
          "data": {
            "text/plain": [
              "[('key', 0.021244613688746368),\n",
              " ('space', 0.011991849550723185),\n",
              " ('system', 0.010789324247586598),\n",
              " ('information', 0.007799712730066473),\n",
              " ('technology', 0.007348765741390253),\n",
              " ('encryption', 0.006580485686608545),\n",
              " ('chip', 0.0056785917092561046),\n",
              " ('message', 0.005428065604435982),\n",
              " ('communication', 0.005327855162507934),\n",
              " ('security', 0.005327855162507934)]"
            ]
          },
          "metadata": {},
          "execution_count": 47
        }
      ]
    },
    {
      "cell_type": "code",
      "metadata": {
        "id": "wFqlwHebxKB7"
      },
      "source": [
        "from wordcloud import WordCloud"
      ],
      "execution_count": 48,
      "outputs": []
    },
    {
      "cell_type": "code",
      "metadata": {
        "id": "7k2S4R2Hwisv"
      },
      "source": [
        "def plot_topic_word_cloud(lda_model: LdaMallet,\n",
        "                          topic_id: int) -> None:\n",
        "  keyword_frequencies = dict(\n",
        "      get_topic_keywords(\n",
        "          lda_model=lda_model,\n",
        "          topic_id=topic_id\n",
        "      )\n",
        "  )\n",
        "\n",
        "  wordcloud = WordCloud(background_color='white',\n",
        "                        width=2500,\n",
        "                        height=1800,\n",
        "                        max_words=10,\n",
        "                        colormap='tab10',\n",
        "                        color_func=lambda *args, **kwargs: '#1f77b4',\n",
        "                        prefer_horizontal=1.0)\n",
        "  \n",
        "  wordcloud.generate_from_frequencies(keyword_frequencies,\n",
        "                                      max_font_size=300)\n",
        "  \n",
        "  plt.gca().imshow(wordcloud)\n",
        "  plt.gca().set_title(\n",
        "      'Top Keywords for topic #%d' % topic_id,\n",
        "      fontdict=dict(size=16)\n",
        "  )\n",
        "  plt.gca().axis('off')\n",
        "\n",
        "  plt.show()  "
      ],
      "execution_count": 49,
      "outputs": []
    },
    {
      "cell_type": "code",
      "metadata": {
        "id": "bLcYvAGt4LLw",
        "colab": {
          "base_uri": "https://localhost:8080/",
          "height": 266
        },
        "outputId": "1de8cdd3-ecfc-4f1b-c9f7-26bb3b0c1715"
      },
      "source": [
        "plot_topic_word_cloud(\n",
        "    lda_model=lda_model,\n",
        "    topic_id=0\n",
        ")"
      ],
      "execution_count": 50,
      "outputs": [
        {
          "output_type": "display_data",
          "data": {
            "image/png": "[encoded data removed]",
            "text/plain": [
              "<Figure size 432x288 with 1 Axes>"
            ]
          },
          "metadata": {
            "needs_background": "light"
          }
        }
      ]
    },
    {
      "cell_type": "markdown",
      "metadata": {
        "id": "pNjpaMzLkpXA"
      },
      "source": [
        "## Visualize topic-term relevance and relationship\n",
        "`pyLDAvis` (sievert-illvi2014 - https://nlp.stanford.edu/events/illvi2014/papers/sievert-illvi2014.pdf) is designed to help users interpret the topics in an LDA topic model fitted to a corpus of text data.\n",
        "\n",
        "you need to provide the topic-term distributions, document-topic distributions, and basic information about the corpus which the model was trained on to the function `prepare` that will transform your data into the format needed for the visualization."
      ]
    },
    {
      "cell_type": "markdown",
      "metadata": {
        "id": "tEuJeW6qqmNP"
      },
      "source": [
        "Convert `MALLET`'s model to `Gensim`'s model in order to be used in `pyLDAvis` package."
      ]
    },
    {
      "cell_type": "code",
      "metadata": {
        "id": "OpSgtHUjphok"
      },
      "source": [
        "lda_model_gensim = convert_mallet_model_to_gensim_model(lda_model)"
      ],
      "execution_count": 51,
      "outputs": []
    },
    {
      "cell_type": "code",
      "metadata": {
        "id": "lsSdXTi_kvuS",
        "colab": {
          "base_uri": "https://localhost:8080/"
        },
        "outputId": "70416e0c-5463-4427-bad5-73d10a5b38ad"
      },
      "source": [
        "import pyLDAvis\n",
        "import pyLDAvis.gensim_models as gensimvis"
      ],
      "execution_count": 52,
      "outputs": [
        {
          "output_type": "stream",
          "name": "stderr",
          "text": [
            "/usr/local/lib/python3.7/dist-packages/past/types/oldstr.py:5: DeprecationWarning: Using or importing the ABCs from 'collections' instead of from 'collections.abc' is deprecated since Python 3.3,and in 3.9 it will stop working\n",
            "  from collections import Iterable\n",
            "/usr/local/lib/python3.7/dist-packages/past/builtins/misc.py:4: DeprecationWarning: Using or importing the ABCs from 'collections' instead of from 'collections.abc' is deprecated since Python 3.3,and in 3.9 it will stop working\n",
            "  from collections import Mapping\n",
            "/usr/local/lib/python3.7/dist-packages/sklearn/linear_model/_least_angle.py:30: DeprecationWarning: `np.float` is a deprecated alias for the builtin `float`. To silence this warning, use `float` by itself. Doing this will not modify any behavior and is safe. If you specifically wanted the numpy scalar type, use `np.float64` here.\n",
            "Deprecated in NumPy 1.20; for more details and guidance: https://numpy.org/devdocs/release/1.20.0-notes.html#deprecations\n",
            "  method='lar', copy_X=True, eps=np.finfo(np.float).eps,\n",
            "/usr/local/lib/python3.7/dist-packages/sklearn/linear_model/_least_angle.py:169: DeprecationWarning: `np.float` is a deprecated alias for the builtin `float`. To silence this warning, use `float` by itself. Doing this will not modify any behavior and is safe. If you specifically wanted the numpy scalar type, use `np.float64` here.\n",
            "Deprecated in NumPy 1.20; for more details and guidance: https://numpy.org/devdocs/release/1.20.0-notes.html#deprecations\n",
            "  method='lar', copy_X=True, eps=np.finfo(np.float).eps,\n",
            "/usr/local/lib/python3.7/dist-packages/sklearn/linear_model/_least_angle.py:286: DeprecationWarning: `np.float` is a deprecated alias for the builtin `float`. To silence this warning, use `float` by itself. Doing this will not modify any behavior and is safe. If you specifically wanted the numpy scalar type, use `np.float64` here.\n",
            "Deprecated in NumPy 1.20; for more details and guidance: https://numpy.org/devdocs/release/1.20.0-notes.html#deprecations\n",
            "  eps=np.finfo(np.float).eps, copy_Gram=True, verbose=0,\n",
            "/usr/local/lib/python3.7/dist-packages/sklearn/linear_model/_least_angle.py:858: DeprecationWarning: `np.float` is a deprecated alias for the builtin `float`. To silence this warning, use `float` by itself. Doing this will not modify any behavior and is safe. If you specifically wanted the numpy scalar type, use `np.float64` here.\n",
            "Deprecated in NumPy 1.20; for more details and guidance: https://numpy.org/devdocs/release/1.20.0-notes.html#deprecations\n",
            "  eps=np.finfo(np.float).eps, copy_X=True, fit_path=True):\n",
            "/usr/local/lib/python3.7/dist-packages/sklearn/linear_model/_least_angle.py:1094: DeprecationWarning: `np.float` is a deprecated alias for the builtin `float`. To silence this warning, use `float` by itself. Doing this will not modify any behavior and is safe. If you specifically wanted the numpy scalar type, use `np.float64` here.\n",
            "Deprecated in NumPy 1.20; for more details and guidance: https://numpy.org/devdocs/release/1.20.0-notes.html#deprecations\n",
            "  eps=np.finfo(np.float).eps, copy_X=True, fit_path=True,\n",
            "/usr/local/lib/python3.7/dist-packages/sklearn/linear_model/_least_angle.py:1120: DeprecationWarning: `np.float` is a deprecated alias for the builtin `float`. To silence this warning, use `float` by itself. Doing this will not modify any behavior and is safe. If you specifically wanted the numpy scalar type, use `np.float64` here.\n",
            "Deprecated in NumPy 1.20; for more details and guidance: https://numpy.org/devdocs/release/1.20.0-notes.html#deprecations\n",
            "  eps=np.finfo(np.float).eps, positive=False):\n",
            "/usr/local/lib/python3.7/dist-packages/sklearn/linear_model/_least_angle.py:1349: DeprecationWarning: `np.float` is a deprecated alias for the builtin `float`. To silence this warning, use `float` by itself. Doing this will not modify any behavior and is safe. If you specifically wanted the numpy scalar type, use `np.float64` here.\n",
            "Deprecated in NumPy 1.20; for more details and guidance: https://numpy.org/devdocs/release/1.20.0-notes.html#deprecations\n",
            "  max_n_alphas=1000, n_jobs=None, eps=np.finfo(np.float).eps,\n",
            "/usr/local/lib/python3.7/dist-packages/sklearn/linear_model/_least_angle.py:1590: DeprecationWarning: `np.float` is a deprecated alias for the builtin `float`. To silence this warning, use `float` by itself. Doing this will not modify any behavior and is safe. If you specifically wanted the numpy scalar type, use `np.float64` here.\n",
            "Deprecated in NumPy 1.20; for more details and guidance: https://numpy.org/devdocs/release/1.20.0-notes.html#deprecations\n",
            "  max_n_alphas=1000, n_jobs=None, eps=np.finfo(np.float).eps,\n",
            "/usr/local/lib/python3.7/dist-packages/sklearn/linear_model/_least_angle.py:1723: DeprecationWarning: `np.float` is a deprecated alias for the builtin `float`. To silence this warning, use `float` by itself. Doing this will not modify any behavior and is safe. If you specifically wanted the numpy scalar type, use `np.float64` here.\n",
            "Deprecated in NumPy 1.20; for more details and guidance: https://numpy.org/devdocs/release/1.20.0-notes.html#deprecations\n",
            "  eps=np.finfo(np.float).eps, copy_X=True, positive=False):\n",
            "/usr/local/lib/python3.7/dist-packages/sklearn/decomposition/_lda.py:29: DeprecationWarning: `np.float` is a deprecated alias for the builtin `float`. To silence this warning, use `float` by itself. Doing this will not modify any behavior and is safe. If you specifically wanted the numpy scalar type, use `np.float64` here.\n",
            "Deprecated in NumPy 1.20; for more details and guidance: https://numpy.org/devdocs/release/1.20.0-notes.html#deprecations\n",
            "  EPS = np.finfo(np.float).eps\n"
          ]
        }
      ]
    },
    {
      "cell_type": "code",
      "metadata": {
        "id": "pRJ31dDFky_d",
        "colab": {
          "base_uri": "https://localhost:8080/",
          "height": 894
        },
        "outputId": "426917c5-ccf4-4494-b436-6e3c12834adf"
      },
      "source": [
        "pyldavis_prepared_data = gensimvis.prepare(\n",
        "    topic_model=lda_model_gensim,\n",
        "    corpus=test_corpus_bow,\n",
        "    dictionary=dictionary,\n",
        "    # mds='tsne' # require that you have sklearn installed\n",
        ")\n",
        " \n",
        "pyLDAvis.save_html(pyldavis_prepared_data, 'pyLDAvis.html')\n",
        " \n",
        "pyLDAvis.display(pyldavis_prepared_data)"
      ],
      "execution_count": 53,
      "outputs": [
        {
          "output_type": "stream",
          "name": "stderr",
          "text": [
            "/usr/local/lib/python3.7/dist-packages/pyLDAvis/_prepare.py:247: FutureWarning: In a future version of pandas all arguments of DataFrame.drop except for the argument 'labels' will be keyword-only\n",
            "  by='saliency', ascending=False).head(R).drop('saliency', 1)\n"
          ]
        },
        {
          "output_type": "execute_result",
          "data": {
            "text/html": [
              "\n",
              "<link rel=\"stylesheet\" type=\"text/css\" href=\"https://cdn.jsdelivr.net/gh/bmabey/pyLDAvis@3.3.1/pyLDAvis/js/ldavis.v1.0.0.css\">\n",
              "\n",
              "\n",
              "<div id=\"ldavis_el1921397201377545767994565871\"></div>\n",
              "<script type=\"text/javascript\">\n",
              "\n",
              "var ldavis_el1921397201377545767994565871_data = {\"mdsDat\": {\"x\": [-0.2139915477246786, 0.08036844352912637, -0.18282366389449026, -0.040844242134004144, -0.11284300288702012, 0.07799243449737832, -0.1492568998494528, -0.1797345111927046, 0.06122588129074573, 0.27609465439799474, 0.08313194220023144, -0.09527290175982867, 0.1909274965588407, 0.20502591696786246], \"y\": [0.04788135315072812, -0.2588833974141826, -0.028588233597311805, -0.19807936534989165, 0.03061192101554556, 0.16403097097414057, 0.09913005922249585, 0.018083017450403333, 0.22511073996070097, 0.17036987458868807, -0.08565684379499387, -0.023513172317488434, -0.241748564422766, 0.08125164053393065], \"topics\": [1, 2, 3, 4, 5, 6, 7, 8, 9, 10, 11, 12, 13, 14], \"cluster\": [1, 1, 1, 1, 1, 1, 1, 1, 1, 1, 1, 1, 1, 1], \"Freq\": [9.65790133460109, 9.124557408621687, 8.711027111965935, 7.843753380196385, 7.497436412636473, 7.434867791967742, 7.094464909701283, 7.043076499840441, 6.511328336142191, 6.209982472461783, 5.929669662625798, 5.799189251908148, 5.725970993079214, 5.416774434251832]}, \"tinfo\": {\"Term\": [\"write\", \"article\", \"line\", \"organization\", \"post\", \"host\", \"nntp\", \"university\", \"god\", \"key\", \"people\", \"file\", \"game\", \"car\", \"thing\", \"drive\", \"window\", \"distribution\", \"program\", \"gun\", \"system\", \"law\", \"team\", \"play\", \"problem\", \"card\", \"government\", \"work\", \"space\", \"good\", \"christians\", \"sin\", \"political_atheist\", \"objective_morality\", \"homosexuality\", \"righteous\", \"mary\", \"g9v\", \"qur'an\", \"worship\", \"evangelical\", \"messiah\", \"judas\", \"alink\", \"ksand_--\", \"private_activitie\", \"baptism\", \"brian_kendig\", \"divorce\", \"supernatural\", \"atheist\", \"statue\", \"feminist\", \"cinsider\", \"themself\", \"arrogance\", \"assumption\", \"asumption\", \"belief\", \"illogic\", \"god\", \"jesus\", \"religion\", \"g)r\", \"bible\", \"faith\", \"moral\", \"christ\", \"church\", \"christianity\", \"christian\", \"giz\", \"atheism\", \"marriage\", \"scripture\", \"catholic\", \"morality\", \"passage\", \"pope\", \"prophet\", \"doctrine\", \"islam\", \"truth\", \"heaven\", \"existence\", \"argument\", \"lord\", \"religious\", \"word\", \"exist\", \"claim\", \"true\", \"love\", \"definition\", \"accept\", \"life\", \"evidence\", \"question\", \"human\", \"man\", \"people\", \"book\", \"point\", \"thing\", \"fact\", \"good\", \"compressed\", \"server\", \"catharine\", \"msdo\", \"public_domain\", \"shareware\", \"sunlight.zip\", \"modula-2\", \"simulator\", \"source_code\", \"homeruns\", \"interleaf\", \"pd\", \"iiisi\", \"34th\", \"image_processe\", \"ascii\", \"postscript\", \"viewer\", \"directory\", \"ftp\", \"icmp\", \"ping\", \"pub\", \"upload\", \"evaporation\", \"c_compiler\", \"dompselaar\", \"manually\", \"bringwindowtotop\", \"motif\", \"jpeg\", \"widget\", \"anonymous\", \"client\", \"gif\", \"x11r5\", \"mit\", \"font\", \"x11\", \"xterm\", \"anonymous_ftp\", \"platform\", \"anonymity\", \"pixel\", \"binary\", \"app\", \"xlib\", \"3d\", \"contrib\", \"c++\", \"toolkit\", \"/pub\", \"r5\", \"pixmap\", \"compile\", \"format\", \"display\", \"image\", \"file\", \"unix\", \"window\", \"program\", \"usenet\", \"version\", \"sun\", \"function\", \"user\", \"application\", \"library\", \"internet\", \"package\", \"graphic\", \"software\", \"color\", \"set\", \"code\", \"include\", \"email\", \"run\", \"type\", \"source\", \"information\", \"system\", \"mail\", \"send\", \"list\", \"find\", \"libertarian\", \"goodson\", \"advocate\", \"billion\", \"carl_ellison\", \"regulate\", \"billlee\", \"clinton\", \"disapproval\", \"rati\", \"slick_willie\", \"top_ten\", \"18th\", \"abridge\", \"congress\", \"la(omer\", \"timetable\", \"lobbyist\", \"stunt\", \"spite\", \"u.b.c\", \"7al\", \"renewable\", \"impossibility\", \"taxis\", \"referendum\", \"representative\", \"senate\", \"budget\", \"child(t\", \"president\", \"stephanopoulos\", \"fund\", \"tax\", \"administration\", \"myers\", \"economic\", \"meeting\", \"white_house\", \"economy\", \"reform\", \"deficit\", \"senator\", \"investment\", \"presentation\", \"labor\", \"navy\", \"republican\", \"democracy\", \"vat\", \"entitle\", \"republicans\", \"health_care\", \"bush\", \"mr\", \"committee\", \"education\", \"vote\", \"money\", \"government\", \"policy\", \"decision\", \"militia\", \"grant\", \"americans\", \"official\", \"american\", \"interest\", \"job\", \"business\", \"pay\", \"bill\", \"state\", \"party\", \"public\", \"u.s\", \"people\", \"free\", \"work\", \"talk\", \"support\", \"issue\", \"year\", \"time\", \"group\", \"question\", \"power\", \"provide\", \"program\", \"day\", \"change\", \"john_r\", \"declination\", \"maximus\", \"moon\", \"sci.astro\", \"simulation\", \"curtin\", \"encrypted\", \"nsa\", \"repacholi\", \"personalize\", \"linn\", \"launch\", \"greenbelt\", \"md_usa\", \"q&as\", \"pioneer\", \"prefix\", \"once_tappe\", \"hst\", \"schiewer\", \"caltech\", \"prototype\", \"atmosphere\", \"serial_number\", \"crypto\", \"1993e\", \"comet\", \"flyby\", \"iau\", \"key\", \"encryption\", \"nasa\", \"clipper\", \"privacy\", \"secure\", \"mission\", \"orbit\", \"clipper_chip\", \"probe\", \"encrypt\", \"communication\", \"escrow\", \"des\", \"lunar\", \"spacecraft\", \"cryptography\", \"pad\", \"pgp\", \"wiretap\", \"ripem\", \"rsa\", \"s1\", \"shuttle\", \"solar\", \"space\", \"algorithm\", \"satellite\", \"rocket\", \"security\", \"flight\", \"technology\", \"pat\", \"earth\", \"chip\", \"information\", \"system\", \"message\", \"datum\", \"computer\", \"agency\", \"public\", \"phone\", \"access\", \"bit\", \"project\", \"secret\", \"design\", \"standard\", \"clayton\", \"gang_member\", \"jason_kratz\", \"mindset\", \"rifle\", \"unusual\", \"firearms\", \"unseal\", \"bartlett\", \"-andy\", \"andy_freeman\", \"kratz\", \"dissimilar\", \"grenade\", \"don_baldwin\", \"deter\", \"surgical\", \"ban\", \"ruling\", \"a.j\", \"attorney\", \"prosecute\", \"compel\", \"amend\", \"assualt\", \"peter_trei\", \"quibble\", \"contempt\", \"mouth_shut\", \"had_hope\", \"gun\", \"firearm\", \"court\", \"batf\", \"cop\", \"gun_control\", \"semi\", \"atf\", \"koresh\", \"waco\", \"nra\", \"prohibit\", \"handgun\", \"revolver\", \"contest\", \"oname\", \"rkba\", \"homicide\", \"veal\", \"clayton_cramer\", \"cruel\", \"x_char\", \"glock\", \"civil_right\", \"suicide\", \"ted_frank\", \"entry\", \"crime\", \"law\", \"guideline\", \"weapon\", \"illegal\", \"fbi\", \"fire\", \"criminal\", \"dangerous\", \"assault\", \"police\", \"safety\", \"gay\", \"license\", \"justice\", \"legal\", \"compound\", \"rule\", \"section\", \"case\", \"judge\", \"carry\", \"state\", \"issue\", \"number\", \"kill\", \"line\", \"write\", \"people\", \"person\", \"file\", \"news\", \"require\", \"follow\", \"article\", \"year\", \"good\", \"beezer\", \"champion\", \"crown.|1992\", \"goalie_mask\", \"golf\", \"keith_keller\", \"pretender\", \"vanbiesbrouck\", \"wodziak\", \"new_brunswick\", \"vlad\", \"wolfson\", \"ayala\", \"beaupre\", \"blackhawk\", \"boston\", \"bruin\", \"buffalo\", \"calgary\", \"campbell_conference\", \"canadien\", \"canuck\", \"carson\", \"chhabra\", \"coference\", \"coffey\", \"fuhr\", \"gary_robert\", \"gilmour\", \"goalie\", \"game\", \"team\", \"player\", \"hockey\", \"pt\", \"pittsburgh\", \"baseball\", \"la\", \"score\", \"gm\", \"league\", \"nhl\", \"playoff\", \"detroit\", \"toronto\", \"pitch\", \"montreal\", \"flyer\", \"power_play\", \"brave\", \"cal\", \"roger\", \"philadelphia\", \"minnesota\", \"devil\", \"pen\", \"det\", \"bo\", \"season\", \"play\", \"fan\", \"win\", \"last_year\", \"trade\", \"goal\", \"chicago\", \"division\", \"hit\", \"year\", \"lose\", \"good\", \"pick\", \"run\", \"point\", \"line\", \"great\", \"organization\", \"feminism\", \"o'clock\", \"teenager\", \"modem/100\", \"ter\", \"burn\", \"calgary)\", \"gia\", \"sister\", \"afraid\", \"confess\", \"building\", \"nozyk\", \"yamim\", \"cheek\", \"hateful\", \"eye\", \"space:1999\", \"coat\", \"spout\", \"curse\", \"java\", \"supervisor\", \"religion-\", \"stroll\", \"uneasy\", \"comb\", \"enrich\", \"biancalana\", \"coma\", \"face\", \"neighbor\", \"alive\", \"azerbaijani\", \"apartment\", \"crowd\", \"shout\", \"surprised\", \"sleep\", \"sumgait\", \"mamma\", \"sad\", \"terrible\", \"rape\", \"husband\", \"cry\", \"suddenly\", \"bed\", \"karina\", \"hair\", \"lyuda\", \"awful\", \"ear\", \"anger\", \"dead\", \"wife\", \"tear\", \"stay\", \"girl\", \"kid\", \"sit\", \"woman\", \"happen\", \"leave\", \"stand\", \"live\", \"start\", \"walk\", \"day\", \"home\", \"hand\", \"throw\", \"remember\", \"night\", \"mother\", \"people\", \"turn\", \"hear\", \"time\", \"stop\", \"man\", \"bring\", \"kill\", \"head\", \"thing\", \"child\", \"life\", \"find\", \"work\", \"long\", \"place\", \"psychos\", \"person|\", \"iclude\", \"ambition\", \"cemetery\", \"hema\", \"nysernet\", \"x-3252\", \"desist\", \"jews\", \"revisionism\", \"shnekendorf\", \"onward\", \"devide\", \"expansion_ii\", \"h._pimentel\", \"hajj\", \"jerusalem\", \"jordanian\", \"latrine\", \"mecca\", \"synagoge\", \"illinio\", \"micom\", \"n4jdp\", \"vincenzo\", \"tropical\", \"windo\", \"butane\", \"forces\", \"israel\", \"turkish\", \"israeli\", \"turk\", \"turkey\", \"village\", \"german\", \"nazi\", \"genocide\", \"arab\", \"massacre\", \"arabs\", \"british\", \"israelis\", \"palestine\", \"war\", \"nazis\", \"argic\", \"hitler\", \"serdar\", \"greeks\", \"territory\", \"policy_research\", \"greece\", \"palestinian\", \"occupy\", \"henrik\", \"lebanon\", \"army\", \"jewish\", \"armenian\", \"land\", \"armenia\", \"history\", \"armenians\", \"professor\", \"escape\", \"peace\", \"attack\", \"military\", \"greek\", \"population\", \"world\", \"force\", \"country\", \"center\", \"page\", \"people\", \"state\", \"book\", \"kill\", \"government\", \"408_241\", \"bashing\", \"btw\", \"stuff_delete\", \"piss\", \"ia\", \"buckminster\", \"nickname\", \"lotsa\", \"clue\", \"|you\", \"utrecht\", \"mark_wilson\", \"socialists\", \"grossly\", \"followup\", \"tripe\", \"annoyed\", \"^^^\", \"dsg\", \"cackle\", \"health_insurance\", \"neurosurgery\", \"offload\", \"racket\", \"crc\", \"misc.kid\", \"kd1nr\", \"awe\", \"msfc\", \"stupid\", \"thread\", \"public_access_unix\", \"bandwidth\", \"corruption\", \"cute\", \"stupidity\", \"het\", \"theodore_a._kaldis\", \"gregg\", \"criticize\", \"\\\\\\\\\", \"michael_a\", \"gross\", \"mccall\", \"clever\", \"brookline\", \"attractive\", \"slack\", \"enlighten\", \"personally\", \"funny\", \"nc\", \"guess\", \"write\", \"fred\", \"dumb\", \"article\", \"complain\", \"joke\", \"opinion\", \"basically\", \"anyone_else\", \"disclaimer\", \"bother\", \"care\", \"dennis\", \"pretty\", \"jim\", \"bad\", \"wrong\", \"delete\", \"thing\", \"real\", \"folk\", \"nice\", \"make\", \"tom\", \"hear\", \"organization\", \"read\", \"line\", \"idea\", \"stuff\", \"problem\", \"reason\", \"post\", \"good\", \"lot\", \"find\", \"question\", \"at_least\", \"agree\", \"world\", \"net\", \"sound\", \"time\", \"people\", \"case_western\", \"novitskey\", \"reserve_university\", \"robert_r._novitskey\", \"apr_1993\", \"kinsey\", \"communicator\", \"duke_university\", \"durham\", \"joshua\", \"n.c\", \"eng\", \"nasa_langley\", \"research_center\", \"nuntius\", \"hampton\", \"holiday\", \"sacco\", \"wmf\", \"x3252\", \"infinity\", \"vhs\", \"urbana\", \"clippingdale\", \"warwick\", \"leigh\", \"netnew\", \"orion\", \"brunel_university\", \"comp\", \"nntp\", \"host\", \"tin\", \"newsreader\", \"computer_science\", \"michigan\", \"opinions_expressed\", \"pl6\", \"gregory\", \"jerry\", \"/_/_/\", \"stefan\", \"chen\", \"intersection\", \"ti\", \"dayton\", \"purdue\", \"campbell\", \"comic_strip\", \"texas_a&m\", \"pov\", \"/_/_/_/\", \"originator\", \"cleveland\", \"pl9\", \"steven\", \"marc\", \"university\", \"pasadena\", \"post\", \"ohio\", \"kenneth\", \"scott\", \"illinois\", \"michael\", \"apr_93\", \"engineering\", \"organization\", \"usa\", \"dept\", \"line\", \"distribution\", \"david\", \"vax\", \"mail\", \"keyword\", \"gmt\", \"advance\", \"fax\", \"email\", \"phone\", \"college\", \"robert\", \"news\", \"copy\", \"internet\", \"write\", \"message\", \"world\", \"temp\", \"dd\", \"1986)\", \"cake\", \"lousy\", \"weir\", \"detect\", \"detector\", \"sensor\", \"adcom\", \"adcoms\", \"amp\", \"canb\", \"especialy\", \"mobil\", \"rca\", \"reinforcement\", \"signal\", \"stereo\", \"transformer\", \"wire\", \"xlrs\", \"-jason\", \"adjacent\", \"d\\\"sb\", \"galut\", \"mincha\", \"q\\\"k\", \"shabbat\", \"varsha\", \"circuit\", \"hot\", \"battery\", \"audio\", \"electrical\", \"speaker\", \"outlet\", \"neutral\", \"wiring\", \"plastic\", \"voltage\", \"temperature\", \"ac\", \"pump\", \"electric\", \"antenna\", \"relay\", \"gate\", \"mm\", \"angle\", \"meter\", \"tower\", \"lamp\", \"cooling_tower\", \"edge\", \"heat\", \"unit\", \"air\", \"cool\", \"ground\", \"screw\", \"channel\", \"receiver\", \"water\", \"box\", \"power\", \"tape\", \"hole\", \"radio\", \"cable\", \"connect\", \"design\", \"low\", \"light\", \"sound\", \"high\", \"work\", \"line\", \"current\", \"switch\", \"build\", \"company\", \"run\", \"question\", \"good\", \"organization\", \"time\", \"point\", \"problem\", \"find\", \"long\", \"mackinnon\", \"rosser\", \"efect\", \"unthinkable\", \"mackie\", \"meat\", \"adaber\", \"b'varsha\", \"hamara\", \"shul\", \"twarda\", \"uunet!leafusa!buck\", \"illuminator\", \"lethality\", \"rarity\", \"reinscribe\", \"tablet\", \"densitometry\", \"reinsert\", \"sunil\", \"brain_damage\", \"gravy\", \"horstmann\", \"bloodmobile\", \"pitt.19407\", \"supersport\", \"v.levenson\", \"n.e.j.med\", \"cognizant\", \"partnumber\", \"disease\", \"patient\", \"medical\", \"health\", \"treatment\", \"medicine\", \"gordon_banks\", \"hiv\", \"msg\", \"symptom\", \"physician\", \"aids\", \"cancer\", \"chemical\", \"infection\", \"adult\", \"taste\", \"literature\", \"cure\", \"fantasy\", \"migraine\", \"skepticism\", \"methodology\", \"intellect\", \"testing\", \"virus\", \"shameful\", \"too_soon\", \"headache\", \"decrease\", \"diet\", \"study\", \"drug\", \"reaction\", \"eat\", \"science\", \"food\", \"pain\", \"scientific\", \"dr\", \"effect\", \"increase\", \"research\", \"significant\", \"test\", \"male\", \"doctor\", \"brain\", \"age\", \"result\", \"blood\", \"report\", \"case\", \"problem\", \"year\", \"day\", \"number\", \"april\", \"time\", \"organization\", \"article\", \"high\", \"find\", \"university\", \"defrag\", \"dma\", \"mono\", \"motherboard\", \"elec\", \"dartmouth_college\", \"gateway_2000\", \"implimentation\", \"pentium\", \"plunk\", \"dpi\", \"macuser\", \"14.4k\", \"buntan-1\", \"monthian\", \"386sx\", \"allocation_error\", \"reboot\", \"midi\", \"560i\", \"ati\", \"stm\", \"zenith\", \"60ns\", \"72_pin\", \"vram\", \"256_color\", \"scsi\", \"ericsson\", \"workgroup\", \"card\", \"db\", \"mb\", \"video\", \"ram\", \"modem\", \"controller\", \"meg\", \"cpu\", \"hard_drive\", \"hd\", \"jumper\", \"cache\", \"fpu\", \"clock\", \"slot\", \"windows_3.1\", \"vlb\", \"floppy\", \"bio\", \"isa\", \"mhz\", \"hard_disk\", \"simms\", \"adapter\", \"serial\", \"ide\", \"scsi-2\", \"apple\", \"upgrade\", \"vga\", \"monitor\", \"memory\", \"board\", \"pin\", \"mac\", \"drive\", \"disk\", \"mouse\", \"driver\", \"pc\", \"mode\", \"port\", \"ibm\", \"bit\", \"speed\", \"printer\", \"fast\", \"system\", \"chip\", \"problem\", \"computer\", \"machine\", \"work\", \"run\", \"support\", \"software\", \"window\", \"line\", \"geoffrey\", \"rat\", \"hiking\", \"album\", \"skyline\", \"|a\", \"turbo\", \"steer\", \"ascesion\", \"bay_area\", \"marcus\", \"cheap(the\", \"mechanic\", \"milage\", \"muffler\", \"oep\", \"peg\", \"radiator\", \"saab\", \"speedo\", \"volvo\", \"volvos\", \"wagon\", \"dartmouth\", \"55_mph\", \"cheema\", \"compartment\", \"cutlass\", \"detecter\", \"driving\", \"bike\", \"ride\", \"engine\", \"motorcycle\", \"dod\", \"tire\", \"brake\", \"helmet\", \"rear\", \"bmw\", \"wheel\", \"rider\", \"honda\", \"lane\", \"mph\", \"ford\", \"ama\", \"mileage\", \"clutch\", \"o&o\", \"cage\", \"sho\", \"horn\", \"biker\", \"neck\", \"bird\", \"ink\", \"harley\", \"car\", \"gear\", \"sale\", \"mile\", \"dog\", \"lock\", \"sell\", \"oil\", \"corner\", \"road\", \"truck\", \"buy\", \"dealer\", \"price\", \"owner\", \"drive\", \"good\", \"speed\", \"organization\", \"usa\", \"distribution\", \"vehicle\", \"fast\", \"line\", \"turn\", \"pay\", \"driver\", \"article\", \"model\", \"great\"], \"Freq\": [2041.0, 1564.0, 2548.0, 2238.0, 1400.0, 967.0, 927.0, 890.0, 600.0, 438.0, 1219.0, 532.0, 399.0, 348.0, 689.0, 361.0, 438.0, 544.0, 488.0, 289.0, 720.0, 348.0, 266.0, 287.0, 631.0, 224.0, 372.0, 774.0, 266.0, 963.0, 76.95278787351016, 78.35831824562906, 19.32604261663497, 10.89286038392153, 33.029963744794316, 9.487330011802623, 34.78687670994295, 66.05992748958863, 10.89286038392153, 35.489641896002404, 10.89286038392153, 10.89286038392153, 19.32604261663497, 10.89286038392153, 10.89286038392153, 10.89286038392153, 9.487330011802623, 9.487330011802623, 9.487330011802623, 9.487330011802623, 121.92975978131518, 2.4596781512080876, 3.162443337267541, 0.7027651860594536, 1.0541477790891802, 23.542633732991696, 45.67973709386448, 0.7027651860594536, 115.25349051375038, 0.7027651860594536, 600.1614688947734, 182.01618318939848, 168.31226206123912, 168.31226206123912, 144.06686314218797, 109.98275161830449, 95.22468271105596, 90.65670900166951, 137.7419764676529, 73.08757935018316, 214.69476434116308, 56.57259747778601, 47.788032652042844, 47.43665005901311, 47.08526746598339, 47.08526746598339, 44.97697190780503, 35.13825930297268, 30.218903000556505, 29.16475522146732, 28.813372628437595, 53.7615367335482, 128.95741164190972, 53.41015414051847, 79.41246602471824, 139.85027202583126, 54.11291932657793, 74.14172712927235, 167.60949687517967, 160.58184501458513, 172.52885317759586, 167.25811428214993, 105.06339531588831, 60.789188594142736, 94.17053493196678, 137.03921128159342, 100.14403901347212, 179.90788763122012, 95.57606530408569, 133.17400275826645, 219.2627380505495, 110.68551680436394, 117.71316866495847, 118.41593385101793, 98.73850864135323, 108.57722124618557, 10.134975479495559, 175.33507579527316, 0.3378325159831853, 15.540295735226524, 18.242955863092007, 23.986108634806154, 0.3378325159831853, 1.3513300639327412, 4.729655223764595, 18.91862089505838, 0.3378325159831853, 2.7026601278654825, 10.472807995478744, 0.3378325159831853, 0.3378325159831853, 4.053990191798223, 15.540295735226524, 34.796749146268084, 20.269950958991117, 94.59310447529188, 66.8908381646707, 0.6756650319663706, 1.3513300639327412, 68.24216822860343, 11.148473027445116, 0.6756650319663706, 3.7161576758150385, 1.0134975479495558, 6.418817803680521, 0.6756650319663706, 86.14729157571225, 83.78246396382995, 81.41763635194766, 68.24216822860343, 64.52601055278839, 62.49901545688928, 55.40453262124239, 49.999212365511426, 77.02581364416625, 47.97221726961231, 44.93172462576364, 40.20206940199905, 38.512906822083124, 35.81024669421764, 34.796749146268084, 34.121084114301716, 33.78325159831853, 33.78325159831853, 32.431921534385786, 30.40492643848668, 28.04009882660438, 28.04009882660438, 27.702266310621194, 27.364433794638007, 25.3374386987389, 51.01270991346098, 128.3763560736104, 155.06512483628205, 209.11832739359173, 454.3847339973842, 94.25527195930871, 333.7785257913871, 351.3458166225127, 65.53950810073795, 246.61773666772527, 100.67408976298921, 91.55261183144322, 161.48394263996258, 124.32236588181219, 71.95832590441847, 158.78128251209708, 103.3767498908547, 96.95793208717419, 178.71340095510502, 105.40374498675382, 146.61931193670242, 113.51172537035025, 168.24059295962627, 112.83606033838389, 167.22709541167674, 105.741577502737, 108.10640511461929, 127.70069104164405, 151.34896716046703, 115.20088795026618, 108.44423763060249, 98.64709466709012, 96.62009957119099, 34.6967125683854, 0.6803276974193215, 25.51228865322456, 6.122949276773894, 2.721310789677286, 8.50409621774152, 0.34016384870966077, 105.45079309999484, 2.0409830922579646, 1.700819243548304, 4.42213003322559, 11.905734704838126, 4.081966184515929, 2.721310789677286, 77.55735750580266, 0.34016384870966077, 3.401638487096608, 1.700819243548304, 2.721310789677286, 5.102457730644912, 0.34016384870966077, 0.34016384870966077, 1.700819243548304, 1.0204915461289823, 34.6967125683854, 3.401638487096608, 34.6967125683854, 27.553271745482522, 40.47949799644963, 0.6803276974193215, 173.14339899321735, 118.0368555022523, 78.9180129006413, 77.89752135451232, 66.67211434709351, 49.66392191161047, 48.64343036548149, 43.54097263483658, 29.934418686450147, 28.233599442901845, 23.131141712256934, 22.790977863547273, 22.790977863547273, 20.409830922579648, 19.729503225160325, 19.049175527741003, 18.70901167903134, 18.028683981612023, 17.3483562841927, 17.3483562841927, 16.668028586773378, 15.987700889354057, 26.19261635064388, 24.151633258385917, 235.05321945837562, 39.799170299030315, 47.622938819352505, 77.55735750580266, 141.84832491192856, 268.0491127832127, 77.89752135451232, 61.90982046515827, 32.315565627417776, 57.14752658322301, 41.840153391288275, 70.41391668289978, 115.99587240999432, 77.21719365709299, 89.12292836193112, 70.41391668289978, 112.25407007418806, 89.80325605935045, 193.55322991579698, 60.88932891902928, 108.17210388967213, 69.3934251367708, 254.78272268353592, 105.11062925128518, 191.17208297482935, 107.83194004096246, 114.97538086386534, 99.32784382322095, 142.1884887606382, 152.05324037321836, 101.70899076418857, 108.85243158709146, 90.1434199080601, 87.08194526967316, 92.52456684902774, 85.38112602612485, 82.99997908515722, 3.4434750701329104, 1.033042521039873, 2.066085042079746, 66.11472134655187, 4.476517591172783, 17.21737535066455, 1.033042521039873, 18.939112885731006, 54.062558601086685, 1.033042521039873, 1.033042521039873, 2.066085042079746, 75.41210403591073, 13.42955277351835, 8.953035182345566, 11.363467731438604, 18.594765378717717, 2.066085042079746, 18.939112885731006, 12.74085775949177, 2.066085042079746, 3.4434750701329104, 8.953035182345566, 16.52868033663797, 34.4347507013291, 47.51995596783416, 2.066085042079746, 21.693892941837337, 11.363467731438604, 1.7217375350664552, 438.0100289209062, 135.67291776323668, 95.7286069496949, 81.61035916214998, 97.10599697774808, 69.55819641668478, 67.49211137460505, 67.14776386759175, 59.572118713299346, 48.89734599588732, 45.79821843276771, 109.84685473723984, 42.01039585562151, 40.97735333458163, 39.944310813541755, 37.533878264448724, 35.467793222368975, 35.123445715355686, 33.74605568730252, 33.40170818028923, 32.02431815223607, 31.335623138209485, 29.95823311015632, 26.17041053301012, 25.826063025996827, 247.24151003554294, 76.7894940639639, 51.652126051993655, 50.96343103796708, 109.84685473723984, 45.79821843276771, 151.51290308584805, 44.42082840471454, 88.4973093024158, 117.07815238451896, 160.81028577520692, 222.448489530586, 111.91293977931959, 100.89381955489426, 106.05903216009364, 53.37386358706011, 92.28513187956199, 80.2329691340968, 78.85557910604365, 97.79469199177464, 61.293856248365806, 56.81733865719302, 60.94950874135251, 56.81733865719302, 20.321524800177134, 4.717496828612549, 9.434993657225098, 2.5401906000221417, 20.684409171608866, 20.321524800177134, 2.5401906000221417, 2.5401906000221417, 2.5401906000221417, 2.5401906000221417, 7.620571800066425, 7.620571800066425, 2.5401906000221417, 9.072109285793363, 2.5401906000221417, 9.434993657225098, 2.5401906000221417, 40.64304960035427, 9.072109285793363, 5.080381200044283, 9.072109285793363, 5.080381200044283, 10.160762400088567, 10.160762400088567, 2.5401906000221417, 2.5401906000221417, 2.5401906000221417, 4.717496828612549, 2.5401906000221417, 7.620571800066425, 289.9446127739559, 114.30857700099637, 70.76245242918824, 52.98111822903324, 50.4409276290111, 49.715158886147634, 43.90900894323988, 41.731702714649465, 41.005933971786, 36.651321514605186, 34.11113091458304, 33.38536217171958, 48.62650577185242, 26.127674743084885, 25.764790371653152, 24.31325288592621, 21.41017791447234, 20.321524800177134, 19.958640428745397, 19.595756057313665, 18.869987314450196, 18.144218571586727, 16.69268108585979, 16.329796714428056, 16.329796714428056, 16.329796714428056, 145.51663294412555, 111.76838640097424, 274.70346917382307, 22.861715400199277, 81.64898357214027, 50.07804325757937, 73.6655274006421, 109.2281958009521, 72.93975865777864, 37.73997462890039, 26.49055911451662, 83.10052105786721, 59.51303691480446, 47.537852657557224, 48.26362140042069, 41.731702714649465, 57.335730686214056, 37.01420588603692, 92.89839908652404, 74.75418051493732, 140.07336737264953, 58.42438380050926, 78.7459086006864, 148.05682354414768, 93.26128345795578, 101.9705083723174, 81.64898357214027, 182.53083883016245, 158.58047031566798, 112.13127077240597, 70.3995680577565, 78.02013985782291, 64.59341811484875, 63.86764937198528, 67.49649308630262, 76.56860237209598, 67.13360871487089, 66.77072434343916, 1.4615188040640943, 17.172845947753107, 0.3653797010160236, 5.11531581422433, 8.403733123368543, 7.672973721336495, 0.3653797010160236, 3.2884173091442124, 1.4615188040640943, 10.23063162844866, 1.4615188040640943, 0.3653797010160236, 0.3653797010160236, 1.4615188040640943, 1.4615188040640943, 62.479928873740036, 15.34594744267299, 21.557402359945392, 30.69189488534598, 2.557657907112165, 4.749936113208307, 11.692150432512754, 4.384556412192283, 5.846075216256377, 0.3653797010160236, 6.942214319304448, 6.576834618288425, 2.557657907112165, 12.422909834544802, 17.172845947753107, 399.3600132105138, 266.7271817416972, 188.9013054252842, 108.88315090277504, 103.40245538753467, 92.80644405807, 77.82587631641303, 73.80669960523677, 60.28765066764389, 59.556891265611846, 58.46075216256377, 52.24929724529137, 52.24929724529137, 46.403222029035, 67.96062438898039, 42.74942501887476, 41.65328591582669, 40.55714681277862, 37.99948890566645, 36.903349802618386, 36.53797010160236, 36.17259040058634, 35.07645129753826, 33.980312194490196, 33.61493249347417, 31.42265428737803, 29.961135483313935, 29.595755782297914, 124.59447804646405, 272.2078772569376, 101.21017718143852, 205.34339197100527, 61.74916947170799, 77.09511691438098, 82.94119213063736, 67.22986498694834, 73.80669960523677, 89.15264704790977, 219.22782060961416, 83.67195153266941, 187.80516632223612, 60.65303036865992, 103.03707568651866, 89.8834064499418, 113.99846671699936, 69.05676349202847, 71.61442139914062, 1.2732882390118467, 12.414560330365505, 5.411475015800349, 0.3183220597529617, 1.90993235851777, 83.40037965527597, 0.3183220597529617, 0.3183220597529617, 21.964222122954357, 35.01542657282579, 9.54966179258885, 70.6674972651575, 0.954966179258885, 0.3183220597529617, 1.90993235851777, 1.5916102987648084, 85.62863407354669, 1.90993235851777, 15.27945886814216, 3.183220597529617, 10.186305912094774, 0.3183220597529617, 3.81986471703554, 0.3183220597529617, 2.5465764780236935, 1.5916102987648084, 1.90993235851777, 1.5916102987648084, 0.3183220597529617, 1.90993235851777, 133.37694303649096, 54.75139427750941, 46.156698664179444, 43.61012218615575, 39.47193540936725, 29.60395155702544, 28.33066331801359, 28.33066331801359, 28.33066331801359, 27.694019198507668, 27.375697138754706, 24.82912066073101, 24.51079860097805, 23.555832421719167, 23.237510361966205, 23.237510361966205, 22.600866242460278, 19.735967704683624, 18.78100152542474, 17.826035346165856, 15.916102987648085, 15.27945886814216, 14.961136808389199, 14.642814748636239, 97.40655028440628, 62.072801651827525, 29.285629497272478, 71.94078550416934, 29.285629497272478, 69.07588696639269, 61.75447959207457, 137.83345187303243, 226.32698448435576, 202.45283000288362, 98.36151646366517, 166.16411519104602, 218.36893299053173, 48.066631022697216, 217.41396681127284, 123.82728124390209, 134.01358715599687, 65.25602224935714, 114.59594151106621, 56.97964869578014, 51.56817367997979, 413.50035561909726, 115.86922975007806, 150.56633426315088, 300.17770234704284, 93.58668556737075, 147.06479160586832, 87.85688849181743, 122.8723150646432, 84.99198995404078, 134.33190921574982, 88.49353261132335, 94.85997380638258, 118.73412828785472, 119.37077240736063, 88.8118546710763, 82.44541347601708, 0.35712927661870797, 0.35712927661870797, 0.35712927661870797, 2.8570342129496638, 2.499904936330956, 0.35712927661870797, 2.499904936330956, 0.35712927661870797, 0.35712927661870797, 190.70703371439006, 2.499904936330956, 5.3569391492806195, 1.4285171064748319, 0.7142585532374159, 4.999809872661912, 2.499904936330956, 0.7142585532374159, 28.213212852877927, 2.8570342129496638, 0.35712927661870797, 1.4285171064748319, 0.35712927661870797, 0.35712927661870797, 0.35712927661870797, 0.35712927661870797, 0.35712927661870797, 0.35712927661870797, 0.35712927661870797, 0.7142585532374159, 0.7142585532374159, 195.70684358705196, 121.06682477374201, 105.35313660251886, 80.3540872392093, 78.56844085611576, 62.14049413165519, 61.42623557841777, 52.855132939568776, 52.498003662950076, 52.14087438633136, 44.64115957733849, 40.355608257914, 37.498574044964336, 37.14144476834563, 34.284410555395965, 147.8515205201451, 33.57015200215855, 32.49876417230242, 30.713117789208884, 30.713117789208884, 28.570342129496638, 28.213212852877927, 27.498954299640513, 27.141825023021806, 27.141825023021806, 26.07043719316568, 26.07043719316568, 25.356178639928267, 53.21226221618749, 97.85342179352598, 117.49553200755493, 90.3537069845331, 52.14087438633136, 108.21017081546852, 95.71064613381374, 39.28422042805788, 46.06967668381333, 57.85494281223069, 99.63906817661953, 66.42604545107969, 47.141064513669455, 55.35503787589974, 146.42300341367027, 70.35446749388547, 71.4258553237416, 70.35446749388547, 55.71216715251844, 113.56710996474914, 80.3540872392093, 69.99733821726676, 62.8547526848926, 63.56901123813002, 18.41995972323899, 1.0047250758130357, 54.25515409390393, 15.405784495799882, 11.386884192547738, 8.037800606504286, 2.0094501516260714, 8.037800606504286, 1.0047250758130357, 17.41523464742595, 2.0094501516260714, 8.037800606504286, 5.693442096273869, 1.0047250758130357, 2.0094501516260714, 17.41523464742595, 2.0094501516260714, 4.353808661856488, 5.693442096273869, 5.693442096273869, 1.0047250758130357, 15.405784495799882, 1.0047250758130357, 1.0047250758130357, 1.0047250758130357, 1.0047250758130357, 1.0047250758130357, 1.0047250758130357, 2.0094501516260714, 2.0094501516260714, 63.29767977622125, 55.25987916971697, 21.434134950678096, 13.061425985569466, 10.047250758130357, 9.712342399526012, 8.707617323712975, 8.707617323712975, 8.372708965108632, 8.372708965108632, 7.367983889295596, 7.367983889295596, 7.03307553069125, 7.03307553069125, 7.03307553069125, 7.03307553069125, 6.698167172086905, 6.698167172086905, 6.698167172086905, 6.698167172086905, 52.915520659486546, 29.471935557182384, 20.764318233469407, 134.29825180034246, 1715.4006127714565, 24.78321853672155, 17.7501430060303, 1264.2790537314033, 33.15592750183018, 30.811568991599763, 201.61483187981585, 51.91079558367351, 33.15592750183018, 58.60896275576042, 42.1984531841475, 94.10924876782101, 18.754868081843334, 99.80269086409488, 61.95804634180387, 184.8694139495986, 139.3218771794076, 51.24097886646483, 325.86583292202795, 142.0011440482424, 48.22680363902572, 71.0005720241212, 133.96334344173812, 45.54753677019095, 143.6756858412641, 587.4292609920216, 173.81743811565516, 609.8681210185127, 120.56700909756428, 70.66566366551685, 179.51088021192908, 110.85466669803827, 270.27104539370663, 218.69515816863745, 115.20847535989478, 139.65678553801197, 127.9349929868599, 82.72236457527329, 76.69401412039505, 100.80741593990793, 69.6609385897038, 74.34965561016465, 92.76961533340364, 87.4110815957341, 38.686459571880725, 0.9835540569122219, 37.37505416266443, 2.2949594661285175, 55.734729891692574, 2.2949594661285175, 1.63925676152037, 5.901324341473331, 9.835540569122218, 9.835540569122218, 4.589918932257035, 7.212729750689626, 8.19628380760185, 22.29389195667703, 4.262067579952961, 4.262067579952961, 3.606364875344813, 1.63925676152037, 1.63925676152037, 0.9835540569122219, 6.884878398385553, 4.262067579952961, 38.686459571880725, 0.9835540569122219, 2.2949594661285175, 1.63925676152037, 2.2949594661285175, 3.606364875344813, 2.9506621707366656, 23.277446013589252, 926.835772963617, 960.6044622509366, 83.92994618984294, 122.28855440941959, 72.12729750689627, 21.638189252068884, 18.687527081332217, 18.687527081332217, 15.73686491059555, 14.09760814907518, 12.130500035250735, 10.491243273730367, 10.491243273730367, 10.163391921426292, 9.835540569122218, 9.507689216818145, 9.507689216818145, 9.507689216818145, 9.17983786451407, 8.851986512209997, 8.851986512209997, 8.851986512209997, 60.32464882394961, 44.259932561049986, 19.998932490548512, 23.605297365893325, 33.440837935015544, 726.5185967058278, 23.9331487181974, 1052.0749895437732, 27.867364945846287, 17.376121672115918, 46.554892027178504, 54.423324482476275, 83.27424348523479, 47.21059473178665, 62.291756937774046, 1144.201219541218, 210.48056817921548, 76.06151373454516, 1161.9051925656381, 305.88531169970105, 130.15698686471737, 40.65356768570517, 186.21956810871401, 108.51879761264848, 70.16018939307183, 70.4880407453759, 78.35647320067368, 93.10978405435701, 80.97928401910627, 55.734729891692574, 59.66894611934146, 78.68432455297774, 71.47159480228812, 77.04506779145738, 129.5012841601092, 74.09440562072072, 80.6514326668022, 14.79137943294762, 7.39568971647381, 0.32155172680320915, 4.180172448441718, 3.8586207216385096, 0.6431034536064183, 31.51206922671449, 14.46982770614441, 21.2224139690118, 7.717241443277019, 0.32155172680320915, 44.05258657203965, 0.32155172680320915, 0.32155172680320915, 0.9646551804096274, 2.893965541228882, 1.9293103608192548, 52.73448319572629, 30.225862319501655, 10.289655257702693, 84.8896558760472, 0.32155172680320915, 0.32155172680320915, 3.8586207216385096, 0.32155172680320915, 0.32155172680320915, 0.32155172680320915, 0.32155172680320915, 0.6431034536064183, 0.32155172680320915, 65.59655226785466, 62.702586726625775, 47.91120729367816, 42.4448279380236, 36.01379340195942, 34.08448304114017, 34.08448304114017, 32.79827613392733, 30.547414046304862, 30.225862319501655, 27.653448505075982, 27.010345051469564, 22.50862087622464, 22.50862087622464, 20.90086224220859, 20.579310515405385, 19.936207061798964, 19.936207061798964, 18.32844842778292, 17.36379324737329, 16.720689793766873, 16.399138066963665, 16.399138066963665, 15.756034613357246, 46.94655211326853, 32.15517268032091, 70.41982816990279, 63.34569018023219, 36.97844858236905, 93.57155249973384, 29.26120713909203, 32.15517268032091, 23.794827783437473, 68.16896608228033, 90.99913868530817, 166.88534621086552, 54.66379355654555, 45.01724175244928, 51.12672456171025, 55.950000463758386, 52.412931468923084, 93.25000077293063, 93.89310422653706, 72.67069025752525, 74.92155234514773, 95.17931113374989, 142.44741497382165, 209.00862242208592, 65.27500054105145, 48.23275902048137, 65.59655226785466, 58.843966004987266, 81.99569033481832, 74.60000061834451, 82.63879378842475, 89.39138005129213, 72.02758680391884, 61.73793154621615, 57.55775909777443, 55.306897010151964, 53.377586649332706, 0.6113453490184324, 0.3056726745092162, 0.3056726745092162, 0.6113453490184324, 2.4453813960737296, 9.781525584294918, 0.3056726745092162, 0.6113453490184324, 0.3056726745092162, 1.2226906980368648, 0.3056726745092162, 0.3056726745092162, 0.3056726745092162, 0.3056726745092162, 1.2226906980368648, 0.3056726745092162, 4.890762792147459, 0.3056726745092162, 0.3056726745092162, 0.3056726745092162, 2.4453813960737296, 0.3056726745092162, 0.3056726745092162, 0.3056726745092162, 0.3056726745092162, 0.3056726745092162, 0.3056726745092162, 0.3056726745092162, 0.3056726745092162, 0.3056726745092162, 70.61038781162894, 66.63664304300914, 65.10827967046306, 59.60617152929717, 47.684937223437736, 43.71119245481792, 36.680720941105946, 27.51054070582946, 47.37926454892851, 22.619777913682, 22.619777913682, 22.314105239172786, 22.00843256466357, 21.70275989015435, 21.70275989015435, 21.70275989015435, 20.480069192117487, 20.174396517608272, 19.257378494080623, 18.340360470552973, 17.11766977251611, 16.81199709800689, 16.81199709800689, 16.506324423497677, 16.506324423497677, 16.506324423497677, 15.894979074479245, 15.894979074479245, 15.58930639997003, 15.58930639997003, 23.231123262700432, 145.1945203918777, 98.12092851745841, 30.872940125430837, 52.57570001558519, 117.37830701153902, 66.02529769399071, 42.79417443129027, 53.798390713622055, 51.658681992057545, 74.27845990573955, 62.0515529253709, 66.63664304300914, 33.012648846995354, 78.86355002337778, 31.78995814895849, 43.71119245481792, 29.344576752884755, 45.850901176382436, 70.91606048613816, 37.90341163914282, 60.828862227334035, 77.33518665083172, 86.19969421159898, 81.92027676846995, 69.38769711359208, 67.24798839202757, 49.21330059598382, 70.91606048613816, 70.30471513711973, 65.10827967046306, 52.57570001558519, 55.32675408616814, 49.51897327049303, 1.3760380766450808, 8.531436075199501, 9.632266536515566, 44.033218452642586, 1.3760380766450808, 5.504152306580323, 3.027283768619178, 1.3760380766450808, 9.632266536515566, 1.3760380766450808, 6.054567537238356, 4.1281142299352425, 4.1281142299352425, 1.3760380766450808, 1.3760380766450808, 4.1281142299352425, 2.7520761532901616, 9.632266536515566, 8.531436075199501, 1.3760380766450808, 12.109135074476711, 1.3760380766450808, 4.1281142299352425, 2.7520761532901616, 2.7520761532901616, 16.51245691974097, 12.109135074476711, 97.1482882111427, 3.027283768619178, 2.7520761532901616, 224.5694141084772, 153.84105696892004, 101.27640244107795, 91.9193435198914, 69.6275266782411, 55.04152306580323, 49.812578374551926, 45.40925652928767, 38.52906614606226, 37.4282356847462, 37.15302806941718, 34.95136714678505, 34.40095191612702, 33.85053668546899, 33.02491383948194, 32.74970622415292, 30.272837686191775, 30.272837686191775, 29.997630070862762, 29.447214840204733, 29.172007224875713, 28.62159199421768, 28.346384378888665, 28.07117676355965, 27.520761532901616, 27.2455539175726, 50.91340883586799, 26.144723456256536, 104.30368620969712, 58.34401444975143, 37.97865091540423, 102.102025287065, 114.76157559219975, 98.7995339031168, 59.169637295738475, 128.24674874332155, 260.3464041012493, 106.23013951700024, 63.84816675633174, 132.65007058858578, 103.20285574838107, 89.16726736660124, 56.69276875777733, 68.80190383225404, 186.04034796241493, 94.67141967318156, 45.40925652928767, 89.44247498193026, 197.87427542156263, 100.17557197976188, 165.67498442806772, 101.00119482574893, 85.31436075199501, 140.35588381779823, 118.61448220680596, 94.94662728851058, 83.93832267534994, 87.24081405929813, 75.1316789848214, 10.068083009457174, 12.508830405689215, 0.9152802735870158, 4.2713079434060734, 1.5254671226450263, 1.220373698116021, 21.96672656608838, 12.20373698116021, 0.30509342452900523, 2.1356539717030367, 5.491681641522095, 0.30509342452900523, 13.119017254747225, 1.8305605471740316, 1.5254671226450263, 0.30509342452900523, 4.881494792464084, 4.2713079434060734, 3.661121094348063, 5.491681641522095, 9.762989584928167, 3.356027669819058, 12.508830405689215, 1.8305605471740316, 0.9152802735870158, 0.9152802735870158, 5.7967750660511, 0.30509342452900523, 0.30509342452900523, 10.678269858515185, 137.90222788711037, 94.57896160399163, 93.96877475493362, 54.61172299069194, 53.08625586804692, 42.40798600953173, 37.52649121706765, 35.69593066989361, 33.86537012271958, 33.86537012271958, 32.95008984913257, 28.06859505666848, 26.54312793402346, 24.40747396232042, 24.102380537791415, 22.882006839675395, 18.00051204721131, 16.475044924566284, 16.16995150003728, 16.16995150003728, 15.254671226450265, 15.254671226450265, 14.339390952863248, 14.03429752833424, 13.424110679276232, 13.424110679276232, 13.424110679276232, 13.119017254747225, 332.5518327366157, 28.06859505666848, 128.74942515124022, 60.408498056743035, 51.86588216993089, 48.81494792464084, 124.47811720783415, 46.069107103879794, 27.76350163213948, 79.01919695301237, 31.119529301958536, 134.2411067927623, 38.746864915183664, 96.40952215116566, 45.15382683029278, 92.4433076322886, 144.61428322674848, 60.71359148127204, 164.75044924566282, 72.61223503790325, 87.2567194152955, 36.30611751895162, 51.86588216993089, 119.90171583989905, 50.03532162275686, 47.899667651053825, 46.679293952937805, 60.71359148127204, 43.62835970764775, 46.98438737746681], \"Total\": [2041.0, 1564.0, 2548.0, 2238.0, 1400.0, 967.0, 927.0, 890.0, 600.0, 438.0, 1219.0, 532.0, 399.0, 348.0, 689.0, 361.0, 438.0, 544.0, 488.0, 289.0, 720.0, 348.0, 266.0, 287.0, 631.0, 224.0, 372.0, 774.0, 266.0, 963.0, 76.95278787351016, 78.35831824562906, 19.32604261663497, 10.89286038392153, 33.029963744794316, 9.487330011802623, 34.78687670994295, 66.05992748958863, 10.89286038392153, 35.489641896002404, 10.89286038392153, 10.89286038392153, 19.32604261663497, 10.89286038392153, 10.89286038392153, 10.89286038392153, 9.487330011802623, 9.487330011802623, 9.487330011802623, 9.487330011802623, 121.92975978131518, 2.4596781512080876, 3.162443337267541, 0.7027651860594536, 1.0541477790891802, 23.542633732991696, 45.67973709386448, 0.7027651860594536, 115.25349051375038, 0.7027651860594536, 600.1614688947734, 182.01618318939848, 168.31226206123912, 168.31226206123912, 144.06686314218797, 109.98275161830449, 95.22468271105596, 90.65670900166951, 138.42230416507223, 73.08757935018316, 217.55179855411274, 56.57259747778601, 47.788032652042844, 47.43665005901311, 47.08526746598339, 47.08526746598339, 44.97697190780503, 35.13825930297268, 30.218903000556505, 29.16475522146732, 28.813372628437595, 54.47579528678561, 134.68720871746302, 54.68344237953032, 85.84079300385498, 175.60894970003704, 58.39847064600242, 88.42689819402068, 261.76922198326287, 248.30485614709116, 278.1141207920188, 284.19259944751536, 168.29156973802594, 70.65402226100811, 148.25932514789085, 283.0463864136638, 167.43680523942749, 570.8141837454451, 165.947071803076, 351.59894153192283, 1219.9126571801523, 290.6864964954149, 504.14255766950475, 689.5791932276468, 331.56778249948724, 963.5809319685029, 10.134975479495559, 175.33507579527316, 0.3378325159831853, 15.540295735226524, 18.242955863092007, 23.986108634806154, 0.3378325159831853, 1.3513300639327412, 4.729655223764595, 18.91862089505838, 0.3378325159831853, 2.7026601278654825, 10.472807995478744, 0.3378325159831853, 0.3378325159831853, 4.053990191798223, 15.540295735226524, 34.796749146268084, 20.269950958991117, 94.59310447529188, 66.8908381646707, 0.6756650319663706, 1.3513300639327412, 68.24216822860343, 11.148473027445116, 0.6756650319663706, 3.7161576758150385, 1.0134975479495558, 6.418817803680521, 0.6756650319663706, 86.14729157571225, 83.78246396382995, 81.41763635194766, 68.24216822860343, 64.52601055278839, 62.49901545688928, 55.40453262124239, 49.999212365511426, 77.37016115117954, 47.97221726961231, 44.93172462576364, 40.20206940199905, 38.512906822083124, 35.81024669421764, 34.796749146268084, 34.121084114301716, 33.78325159831853, 33.78325159831853, 32.431921534385786, 30.40492643848668, 28.04009882660438, 28.04009882660438, 27.702266310621194, 27.364433794638007, 25.3374386987389, 51.37559428489271, 132.77967791887465, 163.96194061249759, 223.92527019516325, 532.4048738552071, 101.68587757319216, 438.52705313709816, 488.7329539531636, 72.56997961444992, 350.66343011863154, 123.20390307687225, 110.35074103098951, 220.76842189483006, 167.42121527267463, 84.30446935080826, 235.82635030355448, 136.3768268739954, 126.1299393120499, 295.7090843037309, 154.66590813064772, 290.63827971483425, 192.202282716276, 433.63173655380797, 206.28075275134523, 524.6707717380702, 217.5694469857378, 251.41570912476905, 409.3352299505012, 720.9465331048269, 355.07055425955565, 323.8811634645639, 261.28302914580615, 654.4534656246342, 34.6967125683854, 0.6803276974193215, 25.51228865322456, 6.122949276773894, 2.721310789677286, 8.50409621774152, 0.34016384870966077, 105.45079309999484, 2.0409830922579646, 1.700819243548304, 4.42213003322559, 11.905734704838126, 4.081966184515929, 2.721310789677286, 77.55735750580266, 0.34016384870966077, 3.401638487096608, 1.700819243548304, 2.721310789677286, 5.102457730644912, 0.34016384870966077, 0.34016384870966077, 1.700819243548304, 1.0204915461289823, 34.6967125683854, 3.401638487096608, 34.6967125683854, 27.553271745482522, 40.47949799644963, 0.6803276974193215, 173.14339899321735, 118.0368555022523, 78.9180129006413, 77.89752135451232, 66.67211434709351, 49.66392191161047, 48.64343036548149, 43.54097263483658, 29.934418686450147, 28.233599442901845, 23.131141712256934, 22.790977863547273, 22.790977863547273, 20.409830922579648, 19.729503225160325, 19.049175527741003, 18.70901167903134, 18.028683981612023, 17.3483562841927, 17.3483562841927, 16.668028586773378, 15.987700889354057, 26.514168077447092, 24.47318498518913, 263.16382690075375, 41.941945958742565, 51.614666905101586, 88.80677302018643, 179.21058770088376, 372.59547735592434, 93.96833880235418, 72.80268084907979, 34.458341287130025, 70.28338522234993, 48.051608308560674, 93.0401185335996, 179.38721941609566, 107.41296445480839, 133.97780220296553, 99.24730688123869, 193.9163191304519, 146.7890740436401, 492.5433138369439, 84.21180363228476, 225.06330698833673, 108.09316389318438, 1219.9126571801523, 238.09087747107705, 774.008092282907, 259.5059466605777, 344.63393909671873, 260.2916927230863, 659.1747666414498, 994.1932231710842, 371.9023966651624, 570.8141837454451, 278.675433602448, 258.7782676270525, 488.7329539531636, 402.19947518714696, 306.82501406654916, 3.4434750701329104, 1.033042521039873, 2.066085042079746, 66.11472134655187, 4.476517591172783, 17.21737535066455, 1.033042521039873, 18.939112885731006, 54.062558601086685, 1.033042521039873, 1.033042521039873, 2.066085042079746, 75.41210403591073, 13.42955277351835, 8.953035182345566, 11.363467731438604, 18.594765378717717, 2.066085042079746, 18.939112885731006, 12.74085775949177, 2.066085042079746, 3.4434750701329104, 8.953035182345566, 16.52868033663797, 34.4347507013291, 47.51995596783416, 2.066085042079746, 21.693892941837337, 11.363467731438604, 1.7217375350664552, 438.56044415156424, 135.67291776323668, 95.7286069496949, 81.61035916214998, 97.41166965225729, 69.55819641668478, 67.49211137460505, 67.14776386759175, 59.572118713299346, 48.89734599588732, 45.79821843276771, 110.83750804067184, 42.01039585562151, 40.97735333458163, 39.944310813541755, 37.533878264448724, 35.467793222368975, 35.123445715355686, 33.74605568730252, 33.40170818028923, 32.02431815223607, 31.335623138209485, 29.95823311015632, 26.17041053301012, 25.826063025996827, 266.4979634465845, 84.55964193157716, 55.05376453909026, 54.534723804154154, 136.8207360622286, 50.12334579441725, 237.79402084342604, 48.4400051158908, 127.22030852071383, 217.25372436428086, 409.3352299505012, 720.9465331048269, 271.3405532052094, 235.36519018630045, 260.78462434148037, 69.27132637764731, 225.06330698833673, 182.2146920671855, 177.27331121224825, 370.00514789031536, 110.21329328371822, 86.10193933992707, 180.37467211433508, 191.90921546201653, 20.321524800177134, 4.717496828612549, 9.434993657225098, 2.5401906000221417, 20.684409171608866, 20.321524800177134, 2.5401906000221417, 2.5401906000221417, 2.5401906000221417, 2.5401906000221417, 7.620571800066425, 7.620571800066425, 2.5401906000221417, 9.072109285793363, 2.5401906000221417, 9.434993657225098, 2.5401906000221417, 40.64304960035427, 9.072109285793363, 5.080381200044283, 9.072109285793363, 5.080381200044283, 10.160762400088567, 10.160762400088567, 2.5401906000221417, 2.5401906000221417, 2.5401906000221417, 4.717496828612549, 2.5401906000221417, 7.620571800066425, 289.9446127739559, 114.30857700099637, 70.76245242918824, 52.98111822903324, 50.4409276290111, 49.715158886147634, 43.90900894323988, 41.731702714649465, 41.005933971786, 36.651321514605186, 34.11113091458304, 33.38536217171958, 48.93159919638143, 26.127674743084885, 25.764790371653152, 24.31325288592621, 21.41017791447234, 20.321524800177134, 19.958640428745397, 19.595756057313665, 18.869987314450196, 18.144218571586727, 16.69268108585979, 16.329796714428056, 16.329796714428056, 16.329796714428056, 152.94894829575563, 124.62504035924772, 348.43428642155664, 23.5420430976186, 97.00554246674471, 56.96499339784519, 91.22725025831994, 144.99976417414297, 91.49248346328415, 42.215861467743345, 27.919076220991453, 111.7025906179587, 76.85998065713925, 59.10342351368569, 61.231556828383845, 50.813478771827306, 81.75182872900719, 43.433332050730456, 170.62495087967778, 125.42777101790428, 399.38649878903675, 89.34605198712522, 153.40743283576526, 492.5433138369439, 260.2916927230863, 465.46406980576364, 267.3760513216761, 2548.0568782504547, 2041.5057740015664, 1219.9126571801523, 238.26593707540076, 532.4048738552071, 212.7673173907915, 211.8074475875918, 309.9731378315871, 1564.3405663177323, 659.1747666414498, 963.5809319685029, 1.4615188040640943, 17.172845947753107, 0.3653797010160236, 5.11531581422433, 8.403733123368543, 7.672973721336495, 0.3653797010160236, 3.2884173091442124, 1.4615188040640943, 10.23063162844866, 1.4615188040640943, 0.3653797010160236, 0.3653797010160236, 1.4615188040640943, 1.4615188040640943, 62.479928873740036, 15.34594744267299, 21.557402359945392, 30.69189488534598, 2.557657907112165, 4.749936113208307, 11.692150432512754, 4.384556412192283, 5.846075216256377, 0.3653797010160236, 6.942214319304448, 6.576834618288425, 2.557657907112165, 12.422909834544802, 17.172845947753107, 399.3600132105138, 266.7271817416972, 188.9013054252842, 108.88315090277504, 103.40245538753467, 92.80644405807, 77.82587631641303, 73.80669960523677, 60.28765066764389, 59.556891265611846, 58.46075216256377, 52.24929724529137, 52.24929724529137, 46.403222029035, 68.27894644873335, 42.74942501887476, 41.65328591582669, 40.55714681277862, 37.99948890566645, 36.903349802618386, 36.53797010160236, 36.17259040058634, 35.07645129753826, 33.980312194490196, 33.61493249347417, 31.42265428737803, 29.961135483313935, 29.595755782297914, 127.03985944253778, 287.66626014095135, 105.39034962988025, 231.4265044024114, 67.4739954501342, 99.5459309292186, 113.58599322835934, 89.35531017300377, 106.98609092469762, 143.1527290705495, 659.1747666414498, 164.3852460159042, 963.5809319685029, 105.75663917953344, 524.6707717380702, 504.14255766950475, 2548.0568782504547, 298.73202205631355, 2238.834445658815, 1.2732882390118467, 12.414560330365505, 5.411475015800349, 0.3183220597529617, 1.90993235851777, 83.40037965527597, 0.3183220597529617, 0.3183220597529617, 21.964222122954357, 35.01542657282579, 9.54966179258885, 70.6674972651575, 0.954966179258885, 0.3183220597529617, 1.90993235851777, 1.5916102987648084, 85.62863407354669, 1.90993235851777, 15.27945886814216, 3.183220597529617, 10.186305912094774, 0.3183220597529617, 3.81986471703554, 0.3183220597529617, 2.5465764780236935, 1.5916102987648084, 1.90993235851777, 1.5916102987648084, 0.3183220597529617, 1.90993235851777, 133.7398274079227, 54.75139427750941, 46.156698664179444, 43.61012218615575, 39.47193540936725, 29.60395155702544, 28.33066331801359, 28.33066331801359, 28.33066331801359, 27.694019198507668, 27.375697138754706, 24.82912066073101, 24.51079860097805, 23.555832421719167, 23.237510361966205, 23.237510361966205, 22.600866242460278, 19.735967704683624, 18.78100152542474, 17.826035346165856, 15.916102987648085, 15.27945886814216, 14.961136808389199, 14.642814748636239, 99.52059252617362, 63.29549234986439, 29.648513868704214, 75.00226014255628, 29.895816346330488, 73.83818084832794, 65.88259382200981, 164.66418159683627, 297.5299070982079, 266.73429769198157, 120.47216662979312, 251.55700208979087, 373.74460573627664, 57.931882950129854, 402.19947518714696, 197.33328873747996, 220.88429630940183, 86.79692376050791, 185.58945652888713, 73.04810511608787, 64.76836225970798, 1219.9126571801523, 208.04582134739843, 311.9273650785915, 994.1932231710842, 164.58533355014407, 351.59894153192283, 149.51973472192066, 267.3760513216761, 149.15336967301783, 689.5791932276468, 211.71916532027691, 283.0463864136638, 654.4534656246342, 774.008092282907, 350.4771824744687, 296.774489403435, 0.35712927661870797, 0.35712927661870797, 0.35712927661870797, 2.8570342129496638, 2.499904936330956, 0.35712927661870797, 2.499904936330956, 0.35712927661870797, 0.35712927661870797, 190.70703371439006, 2.499904936330956, 5.3569391492806195, 1.4285171064748319, 0.7142585532374159, 4.999809872661912, 2.499904936330956, 0.7142585532374159, 28.213212852877927, 2.8570342129496638, 0.35712927661870797, 1.4285171064748319, 0.35712927661870797, 0.35712927661870797, 0.35712927661870797, 0.35712927661870797, 0.35712927661870797, 0.35712927661870797, 0.35712927661870797, 0.7142585532374159, 0.7142585532374159, 195.70684358705196, 121.06682477374201, 105.35313660251886, 80.3540872392093, 78.56844085611576, 62.14049413165519, 61.42623557841777, 52.855132939568776, 52.498003662950076, 52.14087438633136, 44.64115957733849, 40.355608257914, 37.498574044964336, 37.14144476834563, 34.284410555395965, 150.07977493841582, 33.57015200215855, 32.49876417230242, 30.713117789208884, 30.713117789208884, 28.570342129496638, 28.213212852877927, 27.498954299640513, 27.141825023021806, 27.141825023021806, 26.07043719316568, 26.07043719316568, 25.356178639928267, 55.57708982806979, 116.12531663107177, 145.1895512060626, 109.23970057331394, 58.82563764114356, 141.97453727255504, 131.36271682614546, 43.366186612573806, 53.59178288738831, 74.72130727765757, 164.73445509450946, 98.82558985444042, 58.38530749062071, 79.74674752141244, 519.4126384021407, 155.23966248322057, 180.36255028721453, 193.78487115460987, 100.62273027010392, 1219.9126571801523, 492.5433138369439, 290.6864964954149, 267.3760513216761, 372.59547735592434, 18.41995972323899, 1.0047250758130357, 54.25515409390393, 15.405784495799882, 11.386884192547738, 8.037800606504286, 2.0094501516260714, 8.037800606504286, 1.0047250758130357, 17.41523464742595, 2.0094501516260714, 8.037800606504286, 5.693442096273869, 1.0047250758130357, 2.0094501516260714, 17.41523464742595, 2.0094501516260714, 4.353808661856488, 5.693442096273869, 5.693442096273869, 1.0047250758130357, 15.405784495799882, 1.0047250758130357, 1.0047250758130357, 1.0047250758130357, 1.0047250758130357, 1.0047250758130357, 1.0047250758130357, 2.0094501516260714, 2.0094501516260714, 63.29767977622125, 55.25987916971697, 21.434134950678096, 13.061425985569466, 10.047250758130357, 9.712342399526012, 8.707617323712975, 8.707617323712975, 8.372708965108632, 8.372708965108632, 7.367983889295596, 7.367983889295596, 7.03307553069125, 7.03307553069125, 7.03307553069125, 7.03307553069125, 6.698167172086905, 6.698167172086905, 6.698167172086905, 6.698167172086905, 54.50713095825135, 30.115039010788802, 21.121447510088114, 142.57462535391946, 2041.5057740015664, 25.796716084671104, 18.30055823668833, 1564.3405663177323, 36.32523069155219, 34.31311164888234, 262.0391549917441, 61.48229916521906, 37.612436338371644, 70.55985232159352, 49.57748763777177, 125.49648154871183, 20.501128370835787, 144.0038725011284, 84.14762444855171, 311.85652203325844, 229.77922436959304, 70.07921870942431, 689.5791932276468, 264.20200892930615, 67.02043808612147, 113.44110327294902, 271.02679472760497, 63.31882425825064, 311.9273650785915, 2238.834445658815, 422.3743277977836, 2548.0568782504547, 259.48814121165077, 125.33839675922644, 631.4719698806985, 279.25925280336526, 1400.3699400421644, 963.5809319685029, 316.2079743898837, 654.4534656246342, 570.8141837454451, 187.0351504391259, 167.0361840941057, 519.4126384021407, 134.48521280013713, 179.49448279514812, 994.1932231710842, 1219.9126571801523, 38.686459571880725, 0.9835540569122219, 37.37505416266443, 2.2949594661285175, 55.734729891692574, 2.2949594661285175, 1.63925676152037, 5.901324341473331, 9.835540569122218, 9.835540569122218, 4.589918932257035, 7.212729750689626, 8.19628380760185, 22.29389195667703, 4.262067579952961, 4.262067579952961, 3.606364875344813, 1.63925676152037, 1.63925676152037, 0.9835540569122219, 6.884878398385553, 4.262067579952961, 38.686459571880725, 0.9835540569122219, 2.2949594661285175, 1.63925676152037, 2.2949594661285175, 3.606364875344813, 2.9506621707366656, 23.277446013589252, 927.6613958096041, 967.2094450188331, 83.92994618984294, 122.83896964007762, 72.4926772079123, 21.638189252068884, 18.687527081332217, 18.687527081332217, 15.73686491059555, 14.09760814907518, 12.130500035250735, 10.491243273730367, 10.491243273730367, 10.163391921426292, 9.835540569122218, 9.507689216818145, 9.507689216818145, 9.507689216818145, 9.17983786451407, 8.851986512209997, 8.851986512209997, 8.851986512209997, 61.753165930424444, 45.35607166409806, 20.274140105877528, 24.275114083102014, 35.22648431810909, 890.9252467649674, 24.956752090828328, 1400.3699400421644, 29.976509606270472, 18.078886858175373, 52.68086621703189, 63.27103379381743, 102.72482043831556, 54.96275207247329, 75.37696220427911, 2238.834445658815, 316.5065008524739, 98.17345956956538, 2548.0568782504547, 544.8440708534483, 216.42171074987834, 48.83321297063278, 355.07055425955565, 176.76809374910513, 101.34596773758888, 109.29493562145184, 144.58323158404315, 206.28075275134523, 182.2146920671855, 84.91034274573295, 102.4526941749881, 212.7673173907915, 165.13985943463496, 235.82635030355448, 2041.5057740015664, 271.3405532052094, 519.4126384021407, 14.79137943294762, 7.39568971647381, 0.32155172680320915, 4.180172448441718, 3.8586207216385096, 0.6431034536064183, 31.51206922671449, 14.46982770614441, 21.2224139690118, 7.717241443277019, 0.32155172680320915, 44.05258657203965, 0.32155172680320915, 0.32155172680320915, 0.9646551804096274, 2.893965541228882, 1.9293103608192548, 52.73448319572629, 30.225862319501655, 10.289655257702693, 84.8896558760472, 0.32155172680320915, 0.32155172680320915, 3.8586207216385096, 0.32155172680320915, 0.32155172680320915, 0.32155172680320915, 0.32155172680320915, 0.6431034536064183, 0.32155172680320915, 65.59655226785466, 62.702586726625775, 47.91120729367816, 42.4448279380236, 36.01379340195942, 34.08448304114017, 34.08448304114017, 32.79827613392733, 30.547414046304862, 30.225862319501655, 27.653448505075982, 27.010345051469564, 22.50862087622464, 22.50862087622464, 20.90086224220859, 20.579310515405385, 19.936207061798964, 19.936207061798964, 18.32844842778292, 17.36379324737329, 16.720689793766873, 16.399138066963665, 16.399138066963665, 15.756034613357246, 48.635714693184454, 33.11013885957979, 77.41504915964096, 69.39380931553846, 39.20670300063978, 110.28653389278773, 30.722725943156124, 34.34745088641705, 24.483522797464055, 87.2830264813611, 129.29842395056087, 278.675433602448, 70.52871293252576, 55.45814977861359, 67.89675504238079, 79.34264776672475, 72.46688023774607, 180.37467211433508, 183.92263724749913, 136.65216937173375, 179.49448279514812, 324.34689335397997, 774.008092282907, 2548.0568782504547, 176.63891678133228, 82.05894101190864, 232.7396428617209, 166.39283860446545, 524.6707717380702, 570.8141837454451, 963.5809319685029, 2238.834445658815, 994.1932231710842, 504.14255766950475, 631.4719698806985, 654.4534656246342, 350.4771824744687, 0.6113453490184324, 0.3056726745092162, 0.3056726745092162, 0.6113453490184324, 2.4453813960737296, 9.781525584294918, 0.3056726745092162, 0.6113453490184324, 0.3056726745092162, 1.2226906980368648, 0.3056726745092162, 0.3056726745092162, 0.3056726745092162, 0.3056726745092162, 1.2226906980368648, 0.3056726745092162, 4.890762792147459, 0.3056726745092162, 0.3056726745092162, 0.3056726745092162, 2.4453813960737296, 0.3056726745092162, 0.3056726745092162, 0.3056726745092162, 0.3056726745092162, 0.3056726745092162, 0.3056726745092162, 0.3056726745092162, 0.3056726745092162, 0.3056726745092162, 70.61038781162894, 66.63664304300914, 65.10827967046306, 59.60617152929717, 47.684937223437736, 43.71119245481792, 36.680720941105946, 27.51054070582946, 47.65447216425753, 22.619777913682, 22.619777913682, 22.314105239172786, 22.00843256466357, 21.70275989015435, 21.70275989015435, 21.70275989015435, 20.480069192117487, 20.174396517608272, 19.257378494080623, 18.340360470552973, 17.11766977251611, 16.81199709800689, 16.81199709800689, 16.506324423497677, 16.506324423497677, 16.506324423497677, 15.894979074479245, 15.894979074479245, 15.58930639997003, 15.58930639997003, 23.59400763413217, 167.14167643030672, 110.81037973916712, 32.48069875944688, 61.48871768866812, 157.89912317063644, 82.4530666022404, 51.070547984867275, 67.93070867319986, 77.32064632291295, 133.0488319191179, 103.5515424679495, 119.74339199783492, 42.20586875968323, 162.90010199466042, 40.06633170253549, 67.90366899604301, 36.377652283576005, 81.73640175698975, 189.3837615255589, 62.83408295001449, 182.02214298200994, 399.38649878903675, 631.4719698806985, 659.1747666414498, 402.19947518714696, 465.46406980576364, 159.9967250193341, 994.1932231710842, 2238.834445658815, 1564.3405663177323, 324.34689335397997, 654.4534656246342, 890.9252467649674, 1.3760380766450808, 8.531436075199501, 9.632266536515566, 44.033218452642586, 1.3760380766450808, 5.504152306580323, 3.027283768619178, 1.3760380766450808, 9.632266536515566, 1.3760380766450808, 6.054567537238356, 4.1281142299352425, 4.1281142299352425, 1.3760380766450808, 1.3760380766450808, 4.1281142299352425, 2.7520761532901616, 9.632266536515566, 8.531436075199501, 1.3760380766450808, 12.109135074476711, 1.3760380766450808, 4.1281142299352425, 2.7520761532901616, 2.7520761532901616, 16.51245691974097, 12.109135074476711, 97.1482882111427, 3.027283768619178, 2.7520761532901616, 224.5694141084772, 153.84105696892004, 101.27640244107795, 91.9193435198914, 69.6275266782411, 55.04152306580323, 49.812578374551926, 45.40925652928767, 38.52906614606226, 37.4282356847462, 37.15302806941718, 34.95136714678505, 34.40095191612702, 33.85053668546899, 33.02491383948194, 32.74970622415292, 30.272837686191775, 30.272837686191775, 29.997630070862762, 29.447214840204733, 29.172007224875713, 28.62159199421768, 28.346384378888665, 28.07117676355965, 27.520761532901616, 27.2455539175726, 51.248317194472335, 26.144723456256536, 107.93252992401446, 59.63022135696426, 38.31648343138742, 109.34138158985127, 125.21810279849852, 108.80787326379632, 64.05113208820256, 157.63817763385867, 361.0660852871149, 129.41123031682022, 73.85481123094445, 179.32936454152357, 132.256452122935, 112.26366328302984, 66.40293709356831, 87.72052472731242, 370.00514789031536, 165.71543636485234, 51.828074332968185, 171.9363507091852, 720.9465331048269, 217.25372436428086, 631.4719698806985, 260.78462434148037, 184.50670201750933, 774.008092282907, 524.6707717380702, 344.63393909671873, 295.7090843037309, 438.52705313709816, 2548.0568782504547, 10.068083009457174, 12.508830405689215, 0.9152802735870158, 4.2713079434060734, 1.5254671226450263, 1.220373698116021, 21.96672656608838, 12.20373698116021, 0.30509342452900523, 2.1356539717030367, 5.491681641522095, 0.30509342452900523, 13.119017254747225, 1.8305605471740316, 1.5254671226450263, 0.30509342452900523, 4.881494792464084, 4.2713079434060734, 3.661121094348063, 5.491681641522095, 9.762989584928167, 3.356027669819058, 12.508830405689215, 1.8305605471740316, 0.9152802735870158, 0.9152802735870158, 5.7967750660511, 0.30509342452900523, 0.30509342452900523, 10.678269858515185, 137.90222788711037, 94.57896160399163, 94.30368311353797, 54.61172299069194, 53.08625586804692, 42.40798600953173, 37.52649121706765, 35.69593066989361, 33.86537012271958, 33.86537012271958, 32.95008984913257, 28.06859505666848, 26.54312793402346, 24.40747396232042, 24.102380537791415, 22.882006839675395, 18.00051204721131, 16.475044924566284, 16.16995150003728, 16.16995150003728, 15.254671226450265, 15.254671226450265, 14.339390952863248, 14.03429752833424, 13.424110679276232, 13.424110679276232, 13.424110679276232, 13.119017254747225, 348.78625778401675, 28.3742677311777, 161.92777313584256, 72.46142107454119, 62.50419707681495, 58.729781506838606, 184.00504588305677, 56.95435026258894, 31.58659601622527, 117.19322233434838, 36.8062119330879, 236.54791853903495, 49.27051168670397, 167.2110750366313, 68.03497747976616, 361.0660852871149, 963.5809319685029, 165.71543636485234, 2238.834445658815, 316.5065008524739, 544.8440708534483, 57.43038955021017, 171.9363507091852, 2548.0568782504547, 208.04582134739843, 193.9163191304519, 179.32936454152357, 1564.3405663177323, 130.53467870641288, 298.73202205631355], \"Category\": [\"Default\", \"Default\", \"Default\", \"Default\", \"Default\", \"Default\", \"Default\", \"Default\", \"Default\", \"Default\", \"Default\", \"Default\", \"Default\", \"Default\", \"Default\", \"Default\", \"Default\", \"Default\", \"Default\", \"Default\", \"Default\", \"Default\", \"Default\", \"Default\", \"Default\", \"Default\", \"Default\", \"Default\", \"Default\", \"Default\", \"Topic1\", \"Topic1\", \"Topic1\", \"Topic1\", \"Topic1\", \"Topic1\", \"Topic1\", \"Topic1\", \"Topic1\", \"Topic1\", \"Topic1\", \"Topic1\", \"Topic1\", \"Topic1\", \"Topic1\", \"Topic1\", \"Topic1\", \"Topic1\", \"Topic1\", \"Topic1\", \"Topic1\", \"Topic1\", \"Topic1\", \"Topic1\", \"Topic1\", \"Topic1\", \"Topic1\", \"Topic1\", \"Topic1\", \"Topic1\", \"Topic1\", \"Topic1\", \"Topic1\", \"Topic1\", \"Topic1\", \"Topic1\", \"Topic1\", \"Topic1\", \"Topic1\", \"Topic1\", \"Topic1\", \"Topic1\", \"Topic1\", \"Topic1\", \"Topic1\", \"Topic1\", \"Topic1\", \"Topic1\", \"Topic1\", \"Topic1\", \"Topic1\", \"Topic1\", \"Topic1\", \"Topic1\", \"Topic1\", \"Topic1\", \"Topic1\", \"Topic1\", \"Topic1\", \"Topic1\", \"Topic1\", \"Topic1\", \"Topic1\", \"Topic1\", \"Topic1\", \"Topic1\", \"Topic1\", \"Topic1\", \"Topic1\", \"Topic1\", \"Topic1\", \"Topic1\", \"Topic1\", \"Topic1\", \"Topic1\", \"Topic1\", \"Topic2\", \"Topic2\", \"Topic2\", \"Topic2\", \"Topic2\", \"Topic2\", \"Topic2\", \"Topic2\", \"Topic2\", \"Topic2\", \"Topic2\", \"Topic2\", \"Topic2\", \"Topic2\", \"Topic2\", \"Topic2\", \"Topic2\", \"Topic2\", \"Topic2\", \"Topic2\", \"Topic2\", \"Topic2\", \"Topic2\", \"Topic2\", \"Topic2\", \"Topic2\", \"Topic2\", \"Topic2\", \"Topic2\", \"Topic2\", \"Topic2\", \"Topic2\", \"Topic2\", \"Topic2\", \"Topic2\", \"Topic2\", \"Topic2\", \"Topic2\", \"Topic2\", \"Topic2\", \"Topic2\", \"Topic2\", \"Topic2\", \"Topic2\", \"Topic2\", \"Topic2\", \"Topic2\", \"Topic2\", \"Topic2\", \"Topic2\", \"Topic2\", \"Topic2\", \"Topic2\", \"Topic2\", \"Topic2\", \"Topic2\", \"Topic2\", \"Topic2\", \"Topic2\", \"Topic2\", \"Topic2\", \"Topic2\", \"Topic2\", \"Topic2\", \"Topic2\", \"Topic2\", \"Topic2\", \"Topic2\", \"Topic2\", \"Topic2\", \"Topic2\", \"Topic2\", \"Topic2\", \"Topic2\", \"Topic2\", \"Topic2\", \"Topic2\", \"Topic2\", \"Topic2\", \"Topic2\", \"Topic2\", \"Topic2\", \"Topic2\", \"Topic2\", \"Topic2\", \"Topic2\", \"Topic2\", \"Topic2\", \"Topic3\", \"Topic3\", \"Topic3\", \"Topic3\", \"Topic3\", \"Topic3\", \"Topic3\", \"Topic3\", \"Topic3\", \"Topic3\", \"Topic3\", \"Topic3\", \"Topic3\", \"Topic3\", \"Topic3\", \"Topic3\", \"Topic3\", \"Topic3\", \"Topic3\", \"Topic3\", \"Topic3\", \"Topic3\", \"Topic3\", \"Topic3\", \"Topic3\", \"Topic3\", \"Topic3\", \"Topic3\", \"Topic3\", \"Topic3\", \"Topic3\", \"Topic3\", \"Topic3\", \"Topic3\", \"Topic3\", \"Topic3\", \"Topic3\", \"Topic3\", \"Topic3\", \"Topic3\", \"Topic3\", \"Topic3\", \"Topic3\", \"Topic3\", \"Topic3\", \"Topic3\", \"Topic3\", \"Topic3\", \"Topic3\", \"Topic3\", \"Topic3\", \"Topic3\", \"Topic3\", \"Topic3\", \"Topic3\", \"Topic3\", \"Topic3\", \"Topic3\", \"Topic3\", \"Topic3\", \"Topic3\", \"Topic3\", \"Topic3\", \"Topic3\", \"Topic3\", \"Topic3\", \"Topic3\", \"Topic3\", \"Topic3\", \"Topic3\", \"Topic3\", \"Topic3\", \"Topic3\", \"Topic3\", \"Topic3\", \"Topic3\", \"Topic3\", \"Topic3\", \"Topic3\", \"Topic3\", \"Topic3\", \"Topic3\", \"Topic3\", \"Topic3\", \"Topic3\", \"Topic3\", \"Topic3\", \"Topic3\", \"Topic3\", \"Topic3\", \"Topic3\", \"Topic4\", \"Topic4\", \"Topic4\", \"Topic4\", \"Topic4\", \"Topic4\", \"Topic4\", \"Topic4\", \"Topic4\", \"Topic4\", \"Topic4\", \"Topic4\", \"Topic4\", \"Topic4\", \"Topic4\", \"Topic4\", \"Topic4\", \"Topic4\", \"Topic4\", \"Topic4\", \"Topic4\", \"Topic4\", \"Topic4\", \"Topic4\", \"Topic4\", \"Topic4\", \"Topic4\", \"Topic4\", \"Topic4\", \"Topic4\", \"Topic4\", \"Topic4\", \"Topic4\", \"Topic4\", \"Topic4\", \"Topic4\", \"Topic4\", \"Topic4\", \"Topic4\", \"Topic4\", \"Topic4\", \"Topic4\", \"Topic4\", \"Topic4\", \"Topic4\", \"Topic4\", \"Topic4\", \"Topic4\", \"Topic4\", \"Topic4\", \"Topic4\", \"Topic4\", \"Topic4\", \"Topic4\", \"Topic4\", \"Topic4\", \"Topic4\", \"Topic4\", \"Topic4\", \"Topic4\", \"Topic4\", \"Topic4\", \"Topic4\", \"Topic4\", \"Topic4\", \"Topic4\", \"Topic4\", \"Topic4\", \"Topic4\", \"Topic4\", \"Topic4\", \"Topic4\", \"Topic4\", \"Topic4\", \"Topic4\", \"Topic4\", \"Topic4\", \"Topic4\", \"Topic4\", \"Topic5\", \"Topic5\", \"Topic5\", \"Topic5\", \"Topic5\", \"Topic5\", \"Topic5\", \"Topic5\", \"Topic5\", \"Topic5\", \"Topic5\", \"Topic5\", \"Topic5\", \"Topic5\", \"Topic5\", \"Topic5\", \"Topic5\", \"Topic5\", \"Topic5\", \"Topic5\", \"Topic5\", \"Topic5\", \"Topic5\", \"Topic5\", \"Topic5\", \"Topic5\", \"Topic5\", \"Topic5\", \"Topic5\", \"Topic5\", \"Topic5\", \"Topic5\", \"Topic5\", \"Topic5\", \"Topic5\", \"Topic5\", \"Topic5\", \"Topic5\", \"Topic5\", \"Topic5\", \"Topic5\", \"Topic5\", \"Topic5\", \"Topic5\", \"Topic5\", \"Topic5\", \"Topic5\", \"Topic5\", \"Topic5\", \"Topic5\", \"Topic5\", \"Topic5\", \"Topic5\", \"Topic5\", \"Topic5\", \"Topic5\", \"Topic5\", \"Topic5\", \"Topic5\", \"Topic5\", \"Topic5\", \"Topic5\", \"Topic5\", \"Topic5\", \"Topic5\", \"Topic5\", \"Topic5\", \"Topic5\", \"Topic5\", \"Topic5\", \"Topic5\", \"Topic5\", \"Topic5\", \"Topic5\", \"Topic5\", \"Topic5\", \"Topic5\", \"Topic5\", \"Topic5\", \"Topic5\", \"Topic5\", \"Topic5\", \"Topic5\", \"Topic5\", \"Topic5\", \"Topic5\", \"Topic5\", \"Topic5\", \"Topic5\", \"Topic5\", \"Topic5\", \"Topic5\", \"Topic5\", \"Topic5\", \"Topic6\", \"Topic6\", \"Topic6\", \"Topic6\", \"Topic6\", \"Topic6\", \"Topic6\", \"Topic6\", \"Topic6\", \"Topic6\", \"Topic6\", \"Topic6\", \"Topic6\", \"Topic6\", \"Topic6\", \"Topic6\", \"Topic6\", \"Topic6\", \"Topic6\", \"Topic6\", \"Topic6\", \"Topic6\", \"Topic6\", \"Topic6\", \"Topic6\", \"Topic6\", \"Topic6\", \"Topic6\", \"Topic6\", \"Topic6\", \"Topic6\", \"Topic6\", \"Topic6\", \"Topic6\", \"Topic6\", \"Topic6\", \"Topic6\", \"Topic6\", \"Topic6\", \"Topic6\", \"Topic6\", \"Topic6\", \"Topic6\", \"Topic6\", \"Topic6\", \"Topic6\", \"Topic6\", \"Topic6\", \"Topic6\", \"Topic6\", \"Topic6\", \"Topic6\", \"Topic6\", \"Topic6\", \"Topic6\", \"Topic6\", \"Topic6\", \"Topic6\", \"Topic6\", \"Topic6\", \"Topic6\", \"Topic6\", \"Topic6\", \"Topic6\", \"Topic6\", \"Topic6\", \"Topic6\", \"Topic6\", \"Topic6\", \"Topic6\", \"Topic6\", \"Topic6\", \"Topic6\", \"Topic6\", \"Topic6\", \"Topic6\", \"Topic6\", \"Topic7\", \"Topic7\", \"Topic7\", \"Topic7\", \"Topic7\", \"Topic7\", \"Topic7\", \"Topic7\", \"Topic7\", \"Topic7\", \"Topic7\", \"Topic7\", \"Topic7\", \"Topic7\", \"Topic7\", \"Topic7\", \"Topic7\", \"Topic7\", \"Topic7\", \"Topic7\", \"Topic7\", \"Topic7\", \"Topic7\", \"Topic7\", \"Topic7\", \"Topic7\", \"Topic7\", \"Topic7\", \"Topic7\", \"Topic7\", \"Topic7\", \"Topic7\", \"Topic7\", \"Topic7\", \"Topic7\", \"Topic7\", \"Topic7\", \"Topic7\", \"Topic7\", \"Topic7\", \"Topic7\", \"Topic7\", \"Topic7\", \"Topic7\", \"Topic7\", \"Topic7\", \"Topic7\", \"Topic7\", \"Topic7\", \"Topic7\", \"Topic7\", \"Topic7\", \"Topic7\", \"Topic7\", \"Topic7\", \"Topic7\", \"Topic7\", \"Topic7\", \"Topic7\", \"Topic7\", \"Topic7\", \"Topic7\", \"Topic7\", \"Topic7\", \"Topic7\", \"Topic7\", \"Topic7\", \"Topic7\", \"Topic7\", \"Topic7\", \"Topic7\", \"Topic7\", \"Topic7\", \"Topic7\", \"Topic7\", \"Topic7\", \"Topic7\", \"Topic7\", \"Topic7\", \"Topic7\", \"Topic7\", \"Topic7\", \"Topic7\", \"Topic7\", \"Topic7\", \"Topic7\", \"Topic7\", \"Topic7\", \"Topic7\", \"Topic7\", \"Topic7\", \"Topic8\", \"Topic8\", \"Topic8\", \"Topic8\", \"Topic8\", \"Topic8\", \"Topic8\", \"Topic8\", \"Topic8\", \"Topic8\", \"Topic8\", \"Topic8\", \"Topic8\", \"Topic8\", \"Topic8\", \"Topic8\", \"Topic8\", \"Topic8\", \"Topic8\", \"Topic8\", \"Topic8\", \"Topic8\", \"Topic8\", \"Topic8\", \"Topic8\", \"Topic8\", \"Topic8\", \"Topic8\", \"Topic8\", \"Topic8\", \"Topic8\", \"Topic8\", \"Topic8\", \"Topic8\", \"Topic8\", \"Topic8\", \"Topic8\", \"Topic8\", \"Topic8\", \"Topic8\", \"Topic8\", \"Topic8\", \"Topic8\", \"Topic8\", \"Topic8\", \"Topic8\", \"Topic8\", \"Topic8\", \"Topic8\", \"Topic8\", \"Topic8\", \"Topic8\", \"Topic8\", \"Topic8\", \"Topic8\", \"Topic8\", \"Topic8\", \"Topic8\", \"Topic8\", \"Topic8\", \"Topic8\", \"Topic8\", \"Topic8\", \"Topic8\", \"Topic8\", \"Topic8\", \"Topic8\", \"Topic8\", \"Topic8\", \"Topic8\", \"Topic8\", \"Topic8\", \"Topic8\", \"Topic8\", \"Topic8\", \"Topic8\", \"Topic8\", \"Topic8\", \"Topic8\", \"Topic8\", \"Topic8\", \"Topic8\", \"Topic9\", \"Topic9\", \"Topic9\", \"Topic9\", \"Topic9\", \"Topic9\", \"Topic9\", \"Topic9\", \"Topic9\", \"Topic9\", \"Topic9\", \"Topic9\", \"Topic9\", \"Topic9\", \"Topic9\", \"Topic9\", \"Topic9\", \"Topic9\", \"Topic9\", \"Topic9\", \"Topic9\", \"Topic9\", \"Topic9\", \"Topic9\", \"Topic9\", \"Topic9\", \"Topic9\", \"Topic9\", \"Topic9\", \"Topic9\", \"Topic9\", \"Topic9\", \"Topic9\", \"Topic9\", \"Topic9\", \"Topic9\", \"Topic9\", \"Topic9\", \"Topic9\", \"Topic9\", \"Topic9\", \"Topic9\", \"Topic9\", \"Topic9\", \"Topic9\", \"Topic9\", \"Topic9\", \"Topic9\", \"Topic9\", \"Topic9\", \"Topic9\", \"Topic9\", \"Topic9\", \"Topic9\", \"Topic9\", \"Topic9\", \"Topic9\", \"Topic9\", \"Topic9\", \"Topic9\", \"Topic9\", \"Topic9\", \"Topic9\", \"Topic9\", \"Topic9\", \"Topic9\", \"Topic9\", \"Topic9\", \"Topic9\", \"Topic9\", \"Topic9\", \"Topic9\", \"Topic9\", \"Topic9\", \"Topic9\", \"Topic9\", \"Topic9\", \"Topic9\", \"Topic9\", \"Topic9\", \"Topic9\", \"Topic9\", \"Topic9\", \"Topic9\", \"Topic9\", \"Topic9\", \"Topic9\", \"Topic9\", \"Topic9\", \"Topic9\", \"Topic9\", \"Topic9\", \"Topic9\", \"Topic9\", \"Topic9\", \"Topic9\", \"Topic9\", \"Topic9\", \"Topic10\", \"Topic10\", \"Topic10\", \"Topic10\", \"Topic10\", \"Topic10\", \"Topic10\", \"Topic10\", \"Topic10\", \"Topic10\", \"Topic10\", \"Topic10\", \"Topic10\", \"Topic10\", \"Topic10\", \"Topic10\", \"Topic10\", \"Topic10\", \"Topic10\", \"Topic10\", \"Topic10\", \"Topic10\", \"Topic10\", \"Topic10\", \"Topic10\", \"Topic10\", \"Topic10\", \"Topic10\", \"Topic10\", \"Topic10\", \"Topic10\", \"Topic10\", \"Topic10\", \"Topic10\", \"Topic10\", \"Topic10\", \"Topic10\", \"Topic10\", \"Topic10\", \"Topic10\", \"Topic10\", \"Topic10\", \"Topic10\", \"Topic10\", \"Topic10\", \"Topic10\", \"Topic10\", \"Topic10\", \"Topic10\", \"Topic10\", \"Topic10\", \"Topic10\", \"Topic10\", \"Topic10\", \"Topic10\", \"Topic10\", \"Topic10\", \"Topic10\", \"Topic10\", \"Topic10\", \"Topic10\", \"Topic10\", \"Topic10\", \"Topic10\", \"Topic10\", \"Topic10\", \"Topic10\", \"Topic10\", \"Topic10\", \"Topic10\", \"Topic10\", \"Topic10\", \"Topic10\", \"Topic10\", \"Topic10\", \"Topic10\", \"Topic10\", \"Topic10\", \"Topic10\", \"Topic10\", \"Topic10\", \"Topic10\", \"Topic10\", \"Topic10\", \"Topic10\", \"Topic10\", \"Topic10\", \"Topic10\", \"Topic10\", \"Topic11\", \"Topic11\", \"Topic11\", \"Topic11\", \"Topic11\", \"Topic11\", \"Topic11\", \"Topic11\", \"Topic11\", \"Topic11\", \"Topic11\", \"Topic11\", \"Topic11\", \"Topic11\", \"Topic11\", \"Topic11\", \"Topic11\", \"Topic11\", \"Topic11\", \"Topic11\", \"Topic11\", \"Topic11\", \"Topic11\", \"Topic11\", \"Topic11\", \"Topic11\", \"Topic11\", \"Topic11\", \"Topic11\", \"Topic11\", \"Topic11\", \"Topic11\", \"Topic11\", \"Topic11\", \"Topic11\", \"Topic11\", \"Topic11\", \"Topic11\", \"Topic11\", \"Topic11\", \"Topic11\", \"Topic11\", \"Topic11\", \"Topic11\", \"Topic11\", \"Topic11\", \"Topic11\", \"Topic11\", \"Topic11\", \"Topic11\", \"Topic11\", \"Topic11\", \"Topic11\", \"Topic11\", \"Topic11\", \"Topic11\", \"Topic11\", \"Topic11\", \"Topic11\", \"Topic11\", \"Topic11\", \"Topic11\", \"Topic11\", \"Topic11\", \"Topic11\", \"Topic11\", \"Topic11\", \"Topic11\", \"Topic11\", \"Topic11\", \"Topic11\", \"Topic11\", \"Topic11\", \"Topic11\", \"Topic11\", \"Topic11\", \"Topic11\", \"Topic11\", \"Topic11\", \"Topic11\", \"Topic11\", \"Topic11\", \"Topic11\", \"Topic11\", \"Topic11\", \"Topic11\", \"Topic11\", \"Topic11\", \"Topic11\", \"Topic11\", \"Topic11\", \"Topic12\", \"Topic12\", \"Topic12\", \"Topic12\", \"Topic12\", \"Topic12\", \"Topic12\", \"Topic12\", \"Topic12\", \"Topic12\", \"Topic12\", \"Topic12\", \"Topic12\", \"Topic12\", \"Topic12\", \"Topic12\", \"Topic12\", \"Topic12\", \"Topic12\", \"Topic12\", \"Topic12\", \"Topic12\", \"Topic12\", \"Topic12\", \"Topic12\", \"Topic12\", \"Topic12\", \"Topic12\", \"Topic12\", \"Topic12\", \"Topic12\", \"Topic12\", \"Topic12\", \"Topic12\", \"Topic12\", \"Topic12\", \"Topic12\", \"Topic12\", \"Topic12\", \"Topic12\", \"Topic12\", \"Topic12\", \"Topic12\", \"Topic12\", \"Topic12\", \"Topic12\", \"Topic12\", \"Topic12\", \"Topic12\", \"Topic12\", \"Topic12\", \"Topic12\", \"Topic12\", \"Topic12\", \"Topic12\", \"Topic12\", \"Topic12\", \"Topic12\", \"Topic12\", \"Topic12\", \"Topic12\", \"Topic12\", \"Topic12\", \"Topic12\", \"Topic12\", \"Topic12\", \"Topic12\", \"Topic12\", \"Topic12\", \"Topic12\", \"Topic12\", \"Topic12\", \"Topic12\", \"Topic12\", \"Topic12\", \"Topic12\", \"Topic12\", \"Topic12\", \"Topic12\", \"Topic12\", \"Topic12\", \"Topic12\", \"Topic12\", \"Topic12\", \"Topic12\", \"Topic12\", \"Topic12\", \"Topic12\", \"Topic12\", \"Topic12\", \"Topic12\", \"Topic12\", \"Topic12\", \"Topic12\", \"Topic13\", \"Topic13\", \"Topic13\", \"Topic13\", \"Topic13\", \"Topic13\", \"Topic13\", \"Topic13\", \"Topic13\", \"Topic13\", \"Topic13\", \"Topic13\", \"Topic13\", \"Topic13\", \"Topic13\", \"Topic13\", \"Topic13\", \"Topic13\", \"Topic13\", \"Topic13\", \"Topic13\", \"Topic13\", \"Topic13\", \"Topic13\", \"Topic13\", \"Topic13\", \"Topic13\", \"Topic13\", \"Topic13\", \"Topic13\", \"Topic13\", \"Topic13\", \"Topic13\", \"Topic13\", \"Topic13\", \"Topic13\", \"Topic13\", \"Topic13\", \"Topic13\", \"Topic13\", \"Topic13\", \"Topic13\", \"Topic13\", \"Topic13\", \"Topic13\", \"Topic13\", \"Topic13\", \"Topic13\", \"Topic13\", \"Topic13\", \"Topic13\", \"Topic13\", \"Topic13\", \"Topic13\", \"Topic13\", \"Topic13\", \"Topic13\", \"Topic13\", \"Topic13\", \"Topic13\", \"Topic13\", \"Topic13\", \"Topic13\", \"Topic13\", \"Topic13\", \"Topic13\", \"Topic13\", \"Topic13\", \"Topic13\", \"Topic13\", \"Topic13\", \"Topic13\", \"Topic13\", \"Topic13\", \"Topic13\", \"Topic13\", \"Topic13\", \"Topic13\", \"Topic13\", \"Topic13\", \"Topic13\", \"Topic13\", \"Topic13\", \"Topic13\", \"Topic13\", \"Topic13\", \"Topic13\", \"Topic13\", \"Topic13\", \"Topic14\", \"Topic14\", \"Topic14\", \"Topic14\", \"Topic14\", \"Topic14\", \"Topic14\", \"Topic14\", \"Topic14\", \"Topic14\", \"Topic14\", \"Topic14\", \"Topic14\", \"Topic14\", \"Topic14\", \"Topic14\", \"Topic14\", \"Topic14\", \"Topic14\", \"Topic14\", \"Topic14\", \"Topic14\", \"Topic14\", \"Topic14\", \"Topic14\", \"Topic14\", \"Topic14\", \"Topic14\", \"Topic14\", \"Topic14\", \"Topic14\", \"Topic14\", \"Topic14\", \"Topic14\", \"Topic14\", \"Topic14\", \"Topic14\", \"Topic14\", \"Topic14\", \"Topic14\", \"Topic14\", \"Topic14\", \"Topic14\", \"Topic14\", \"Topic14\", \"Topic14\", \"Topic14\", \"Topic14\", \"Topic14\", \"Topic14\", \"Topic14\", \"Topic14\", \"Topic14\", \"Topic14\", \"Topic14\", \"Topic14\", \"Topic14\", \"Topic14\", \"Topic14\", \"Topic14\", \"Topic14\", \"Topic14\", \"Topic14\", \"Topic14\", \"Topic14\", \"Topic14\", \"Topic14\", \"Topic14\", \"Topic14\", \"Topic14\", \"Topic14\", \"Topic14\", \"Topic14\", \"Topic14\", \"Topic14\", \"Topic14\", \"Topic14\", \"Topic14\", \"Topic14\", \"Topic14\", \"Topic14\", \"Topic14\", \"Topic14\", \"Topic14\", \"Topic14\", \"Topic14\", \"Topic14\", \"Topic14\"], \"logprob\": [30.0, 29.0, 28.0, 27.0, 26.0, 25.0, 24.0, 23.0, 22.0, 21.0, 20.0, 19.0, 18.0, 17.0, 16.0, 15.0, 14.0, 13.0, 12.0, 11.0, 10.0, 9.0, 8.0, 7.0, 6.0, 5.0, 4.0, 3.0, 2.0, 1.0, -5.7988, -5.7807, -7.1805, -7.7538, -6.6445, -7.892, -6.5927, -5.9514, -7.7538, -6.5727, -7.7538, -7.7538, -7.1805, -7.7538, -7.7538, -7.7538, -7.892, -7.892, -7.892, -7.892, -5.3385, -9.2419, -8.9906, -10.4947, -10.0892, -6.9831, -6.3203, -10.4947, -5.3948, -10.4947, -3.7448, -4.9379, -5.0161, -5.0161, -5.1717, -5.4416, -5.5857, -5.6349, -5.2166, -5.8503, -4.7727, -6.1064, -6.2752, -6.2826, -6.29, -6.29, -6.3358, -6.5827, -6.7335, -6.769, -6.7811, -6.1574, -5.2825, -6.164, -5.7673, -5.2014, -6.1509, -5.836, -5.0203, -5.0631, -4.9914, -5.0224, -5.4874, -6.0345, -5.5968, -5.2217, -5.5353, -4.9495, -5.582, -5.2503, -4.7517, -5.4353, -5.3737, -5.3677, -5.5495, -5.4545, -7.7692, -4.9184, -11.1704, -7.3417, -7.1814, -6.9077, -11.1704, -9.7841, -8.5313, -7.145, -11.1704, -9.0909, -7.7364, -11.1704, -11.1704, -8.6854, -7.3417, -6.5356, -7.076, -5.5356, -5.8821, -10.4772, -9.7841, -5.8621, -7.6738, -10.4772, -8.7725, -10.0717, -8.2259, -10.4772, -5.6291, -5.6569, -5.6856, -5.8621, -5.9181, -5.95, -6.0705, -6.1731, -5.741, -6.2145, -6.28, -6.3912, -6.4342, -6.5069, -6.5356, -6.5552, -6.5652, -6.5652, -6.606, -6.6705, -6.7515, -6.7515, -6.7636, -6.7759, -6.8529, -6.1531, -5.2302, -5.0413, -4.7422, -3.9662, -5.5391, -4.2747, -4.2234, -5.9025, -4.5773, -5.4733, -5.5682, -5.0007, -5.2623, -5.8091, -5.0176, -5.4468, -5.5109, -4.8994, -5.4273, -5.0973, -5.3532, -4.9598, -5.3592, -4.9658, -5.4241, -5.402, -5.2355, -5.0656, -5.3385, -5.3989, -5.4936, -5.5144, -6.4921, -10.4239, -6.7996, -8.2267, -9.0377, -7.8982, -11.1171, -5.3805, -9.3253, -9.5077, -8.5521, -7.5617, -8.6322, -9.0377, -5.6877, -11.1171, -8.8145, -9.5077, -9.0377, -8.409, -11.1171, -11.1171, -9.5077, -10.0185, -6.4921, -8.8145, -6.4921, -6.7226, -6.338, -10.4239, -4.8846, -5.2678, -5.6704, -5.6834, -5.839, -6.1335, -6.1542, -6.2651, -6.6398, -6.6983, -6.8976, -6.9124, -6.9124, -7.0227, -7.0567, -7.0917, -7.1098, -7.1468, -7.1853, -7.1853, -7.2253, -7.2669, -6.7733, -6.8544, -4.579, -6.3549, -6.1755, -5.6877, -5.084, -4.4476, -5.6834, -5.9131, -6.5632, -5.9931, -6.3049, -5.7844, -5.2852, -5.6921, -5.5487, -5.7844, -5.318, -5.5411, -4.7732, -5.9297, -5.355, -5.799, -4.4984, -5.3838, -4.7856, -5.3582, -5.294, -5.4403, -5.0816, -5.0145, -5.4167, -5.3488, -5.5374, -5.5719, -5.5113, -5.5916, -5.6199, -8.6974, -9.9014, -9.2082, -5.7425, -8.435, -7.088, -9.9014, -6.9927, -5.9438, -9.9014, -9.9014, -9.2082, -5.6109, -7.3364, -7.7419, -7.5035, -7.011, -9.2082, -6.9927, -7.3891, -9.2082, -8.6974, -7.7419, -7.1288, -6.3948, -6.0727, -9.2082, -6.8569, -7.5035, -9.3906, -3.8517, -5.0236, -5.3724, -5.5319, -5.3581, -5.6917, -5.7219, -5.727, -5.8467, -6.0442, -6.1096, -5.2348, -6.196, -6.2209, -6.2464, -6.3086, -6.3653, -6.375, -6.415, -6.4253, -6.4674, -6.4891, -6.5341, -6.6693, -6.6825, -4.4235, -5.5928, -5.9894, -6.0028, -5.2348, -6.1096, -4.9132, -6.1402, -5.4509, -5.1711, -4.8537, -4.5292, -5.2162, -5.3198, -5.2699, -5.9566, -5.409, -5.549, -5.5663, -5.351, -5.8182, -5.8941, -5.8238, -5.8941, -6.8771, -8.3375, -7.6443, -8.9565, -6.8594, -6.8771, -8.9565, -8.9565, -8.9565, -8.9565, -7.8579, -7.8579, -8.9565, -7.6835, -8.9565, -7.6443, -8.9565, -6.1839, -7.6835, -8.2634, -7.6835, -8.2634, -7.5702, -7.5702, -8.9565, -8.9565, -8.9565, -8.3375, -8.9565, -7.8579, -4.219, -5.1498, -5.6294, -5.9188, -5.9679, -5.9824, -6.1066, -6.1575, -6.175, -6.2873, -6.3591, -6.3806, -6.0046, -6.6257, -6.6397, -6.6977, -6.8249, -6.8771, -6.8951, -6.9134, -6.9512, -6.9904, -7.0738, -7.0957, -7.0957, -7.0957, -4.9084, -5.1723, -4.273, -6.7593, -5.4863, -5.9752, -5.5892, -5.1953, -5.5991, -6.258, -6.6119, -5.4687, -5.8025, -6.0272, -6.0121, -6.1575, -5.8398, -6.2774, -5.3572, -5.5745, -4.9466, -5.821, -5.5225, -4.8911, -5.3533, -5.2641, -5.4863, -4.6818, -4.8225, -5.1691, -5.6346, -5.5318, -5.7206, -5.7319, -5.6767, -5.5506, -5.6821, -5.6875, -9.5009, -7.037, -10.8872, -8.2481, -7.7517, -7.8427, -10.8872, -8.69, -9.5009, -7.555, -9.5009, -10.8872, -10.8872, -9.5009, -9.5009, -5.7455, -7.1495, -6.8096, -6.4564, -8.9413, -8.3222, -7.4214, -8.4023, -8.1146, -10.8872, -7.9427, -7.9968, -8.9413, -7.3608, -7.037, -3.8905, -4.2941, -4.6391, -5.1901, -5.2417, -5.3498, -5.5259, -5.5789, -5.7812, -5.7934, -5.812, -5.9243, -5.9243, -6.043, -5.6614, -6.125, -6.151, -6.1776, -6.2428, -6.2721, -6.282, -6.2921, -6.3228, -6.3546, -6.3654, -6.4328, -6.4805, -6.4927, -5.0553, -4.2738, -5.2632, -4.5557, -5.7573, -5.5353, -5.4622, -5.6722, -5.5789, -5.39, -4.4902, -5.4535, -4.645, -5.7752, -5.2453, -5.3818, -5.1442, -5.6454, -5.6091, -9.5919, -7.3146, -8.145, -10.9782, -9.1864, -5.4098, -10.9782, -10.9782, -6.7441, -6.2777, -7.577, -5.5755, -9.8796, -10.9782, -9.1864, -9.3687, -5.3835, -9.1864, -7.107, -8.6756, -7.5124, -10.9782, -8.4933, -10.9782, -8.8987, -9.3687, -9.1864, -9.3687, -10.9782, -9.1864, -4.9403, -5.8307, -6.0014, -6.0582, -6.1579, -6.4456, -6.4895, -6.4895, -6.4895, -6.5123, -6.5238, -6.6215, -6.6344, -6.6741, -6.6877, -6.6877, -6.7155, -6.851, -6.9006, -6.9528, -7.0662, -7.107, -7.128, -7.1495, -5.2546, -5.7052, -6.4564, -5.5576, -6.4564, -5.5983, -5.7103, -4.9074, -4.4115, -4.523, -5.2448, -4.7205, -4.4473, -5.9609, -4.4517, -5.0146, -4.9355, -5.6552, -5.0921, -5.7908, -5.8906, -3.8088, -5.081, -4.8191, -4.1291, -5.2946, -4.8426, -5.3578, -5.0223, -5.3909, -4.9332, -5.3506, -5.2811, -5.0566, -5.0513, -5.347, -5.4214, -10.8559, -10.8559, -10.8559, -8.7764, -8.91, -10.8559, -8.91, -10.8559, -10.8559, -4.5755, -8.91, -8.1478, -9.4696, -10.1627, -8.2168, -8.91, -10.1627, -6.4864, -8.7764, -10.8559, -9.4696, -10.8559, -10.8559, -10.8559, -10.8559, -10.8559, -10.8559, -10.8559, -10.1627, -10.1627, -4.5496, -5.0299, -5.1689, -5.4398, -5.4623, -5.6968, -5.7084, -5.8587, -5.8654, -5.8723, -6.0276, -6.1285, -6.2019, -6.2115, -6.2915, -4.83, -6.3126, -6.345, -6.4015, -6.4015, -6.4739, -6.4864, -6.5121, -6.5251, -6.5251, -6.5654, -6.5654, -6.5932, -5.8519, -5.2428, -5.0598, -5.3225, -5.8723, -5.1421, -5.2649, -6.1554, -5.9961, -5.7683, -5.2247, -5.6301, -5.9731, -5.8125, -4.8397, -5.5727, -5.5576, -5.5727, -5.806, -5.0938, -5.4398, -5.5778, -5.6854, -5.6741, -6.8343, -9.743, -5.754, -7.013, -7.3153, -7.6636, -9.0499, -7.6636, -9.743, -6.8904, -9.0499, -7.6636, -8.0084, -9.743, -9.0499, -6.8904, -9.0499, -8.2767, -8.0084, -8.0084, -9.743, -7.013, -9.743, -9.743, -9.743, -9.743, -9.743, -9.743, -9.0499, -9.0499, -5.5999, -5.7357, -6.6827, -7.1781, -7.4404, -7.4743, -7.5835, -7.5835, -7.6227, -7.6227, -7.7506, -7.7506, -7.7971, -7.7971, -7.7971, -7.7971, -7.8459, -7.8459, -7.8459, -7.8459, -5.779, -6.3643, -6.7145, -4.8477, -2.3003, -6.5376, -6.8713, -2.6055, -6.2465, -6.3198, -4.4414, -5.7982, -6.2465, -5.6768, -6.0053, -5.2033, -6.8163, -5.1445, -5.6213, -4.5281, -4.8109, -5.8112, -3.9612, -4.7919, -5.8718, -5.485, -4.8502, -5.929, -4.7802, -3.372, -4.5897, -3.3345, -4.9555, -5.4898, -4.5575, -5.0395, -4.1483, -4.36, -5.001, -4.8085, -4.8962, -5.3322, -5.4079, -5.1345, -5.5041, -5.4389, -5.2176, -5.2771, -6.0448, -9.7169, -6.0793, -8.8696, -5.6797, -8.8696, -9.2061, -7.9252, -7.4143, -7.4143, -8.1765, -7.7245, -7.5967, -6.596, -8.2506, -8.2506, -8.4176, -9.2061, -9.2061, -9.7169, -7.771, -8.2506, -6.0448, -9.7169, -8.8696, -9.2061, -8.8696, -8.4176, -8.6183, -6.5528, -2.8686, -2.8328, -5.2704, -4.894, -5.4219, -6.6259, -6.7725, -6.7725, -6.9443, -7.0543, -7.2046, -7.3498, -7.3498, -7.3815, -7.4143, -7.4482, -7.4482, -7.4482, -7.4833, -7.5197, -7.5197, -7.5197, -5.6006, -5.9103, -6.7047, -6.5389, -6.1906, -3.1121, -6.5251, -2.7418, -6.3729, -6.8452, -5.8597, -5.7035, -5.2782, -5.8457, -5.5685, -2.6579, -4.3509, -5.3688, -2.6425, -3.9771, -4.8316, -5.9952, -4.4734, -5.0134, -5.4496, -5.4449, -5.3391, -5.1666, -5.3061, -5.6797, -5.6115, -5.3349, -5.431, -5.3559, -4.8366, -5.395, -5.3102, -6.9601, -7.6532, -10.7887, -8.2238, -8.3038, -10.0956, -6.2038, -6.9821, -6.5991, -7.6107, -10.7887, -5.8688, -10.7887, -10.7887, -9.6901, -8.5915, -8.997, -5.6889, -6.2454, -7.323, -5.2128, -10.7887, -10.7887, -8.3038, -10.7887, -10.7887, -10.7887, -10.7887, -10.0956, -10.7887, -5.4706, -5.5157, -5.7848, -5.9059, -6.0702, -6.1253, -6.1253, -6.1638, -6.2349, -6.2454, -6.3344, -6.3579, -6.5402, -6.5402, -6.6144, -6.6299, -6.6616, -6.6616, -6.7457, -6.7998, -6.8375, -6.8569, -6.8569, -6.8969, -5.8051, -6.1836, -5.3997, -5.5055, -6.0438, -5.1154, -6.2779, -6.1836, -6.4847, -5.4322, -5.1433, -4.5368, -5.6529, -5.8471, -5.7198, -5.6297, -5.695, -5.1189, -5.112, -5.3682, -5.3377, -5.0984, -4.6952, -4.3118, -5.4755, -5.7781, -5.4706, -5.5793, -5.2475, -5.342, -5.2397, -5.1611, -5.3771, -5.5312, -5.6014, -5.6412, -5.6768, -10.124, -10.8171, -10.8171, -10.124, -8.7377, -7.3514, -10.8171, -10.124, -10.8171, -9.4308, -10.8171, -10.8171, -10.8171, -10.8171, -9.4308, -10.8171, -8.0445, -10.8171, -10.8171, -10.8171, -8.7377, -10.8171, -10.8171, -10.8171, -10.8171, -10.8171, -10.8171, -10.8171, -10.8171, -10.8171, -5.3747, -5.4326, -5.4558, -5.5441, -5.7673, -5.8543, -6.0296, -6.3173, -5.7737, -6.5131, -6.5131, -6.5267, -6.5405, -6.5545, -6.5545, -6.5545, -6.6124, -6.6275, -6.674, -6.7228, -6.7918, -6.8098, -6.8098, -6.8282, -6.8282, -6.8282, -6.8659, -6.8659, -6.8853, -6.8853, -6.4864, -4.6538, -5.0457, -6.202, -5.6696, -4.8665, -5.4419, -5.8755, -5.6467, -5.6872, -5.3241, -5.5039, -5.4326, -6.135, -5.2642, -6.1727, -5.8543, -6.2528, -5.8065, -5.3704, -5.9969, -5.5238, -5.2837, -5.1752, -5.2261, -5.3922, -5.4235, -5.7357, -5.3704, -5.3791, -5.4558, -5.6696, -5.6186, -5.7295, -9.3, -7.4754, -7.3541, -5.8342, -9.3, -7.9137, -8.5115, -9.3, -7.3541, -9.3, -7.8184, -8.2014, -8.2014, -9.3, -9.3, -8.2014, -8.6068, -7.3541, -7.4754, -9.3, -7.1252, -9.3, -8.2014, -8.6068, -8.6068, -6.8151, -7.1252, -5.0429, -8.5115, -8.6068, -4.205, -4.5833, -5.0013, -5.0983, -5.376, -5.6111, -5.7109, -5.8035, -5.9678, -5.9968, -6.0041, -6.0652, -6.0811, -6.0972, -6.1219, -6.1303, -6.2089, -6.2089, -6.2181, -6.2366, -6.246, -6.265, -6.2747, -6.2844, -6.3042, -6.3143, -5.6891, -6.3555, -4.9719, -5.5528, -5.9822, -4.9932, -4.8763, -5.0261, -5.5388, -4.7652, -4.0572, -4.9536, -5.4627, -4.7315, -4.9825, -5.1287, -5.5815, -5.388, -4.3932, -5.0688, -5.8035, -5.1256, -4.3316, -5.0123, -4.5092, -5.0041, -5.1728, -4.675, -4.8433, -5.0659, -5.1891, -5.1505, -5.2999, -7.2543, -7.0372, -9.6522, -8.1118, -9.1414, -9.3645, -6.4741, -7.0619, -10.7508, -8.8049, -7.8604, -10.7508, -6.9896, -8.9591, -9.1414, -10.7508, -7.9782, -8.1118, -8.2659, -7.8604, -7.2851, -8.3529, -7.0372, -8.9591, -9.6522, -9.6522, -7.8064, -10.7508, -10.7508, -7.1955, -4.6371, -5.0142, -5.0207, -5.5634, -5.5918, -5.8163, -5.9386, -5.9886, -6.0413, -6.0413, -6.0687, -6.229, -6.2849, -6.3688, -6.3814, -6.4333, -6.6733, -6.7618, -6.7805, -6.7805, -6.8388, -6.8388, -6.9007, -6.9222, -6.9666, -6.9666, -6.9666, -6.9896, -3.7569, -6.229, -4.7058, -5.4625, -5.615, -5.6756, -4.7395, -5.7335, -6.24, -5.194, -6.1258, -4.664, -5.9066, -4.9951, -5.7536, -5.0371, -4.5896, -5.4575, -4.4592, -5.2785, -5.0948, -5.9717, -5.615, -4.777, -5.6509, -5.6946, -5.7204, -5.4575, -5.788, -5.7139], \"loglift\": [30.0, 29.0, 28.0, 27.0, 26.0, 25.0, 24.0, 23.0, 22.0, 21.0, 20.0, 19.0, 18.0, 17.0, 16.0, 15.0, 14.0, 13.0, 12.0, 11.0, 10.0, 9.0, 8.0, 7.0, 6.0, 5.0, 4.0, 3.0, 2.0, 1.0, 2.3374, 2.3374, 2.3374, 2.3374, 2.3374, 2.3374, 2.3374, 2.3374, 2.3374, 2.3374, 2.3374, 2.3374, 2.3374, 2.3374, 2.3374, 2.3374, 2.3374, 2.3374, 2.3374, 2.3374, 2.3374, 2.3374, 2.3374, 2.3374, 2.3374, 2.3374, 2.3374, 2.3374, 2.3374, 2.3374, 2.3374, 2.3374, 2.3374, 2.3374, 2.3374, 2.3374, 2.3374, 2.3374, 2.3325, 2.3374, 2.3242, 2.3374, 2.3374, 2.3374, 2.3374, 2.3374, 2.3374, 2.3374, 2.3374, 2.3374, 2.3374, 2.3242, 2.2939, 2.3138, 2.2596, 2.1097, 2.2612, 2.1612, 1.8916, 1.9015, 1.8599, 1.8073, 1.8663, 2.187, 1.8835, 1.6121, 1.8234, 1.1828, 1.7856, 1.3666, 0.6211, 1.3718, 0.8828, 0.5755, 1.126, 0.1542, 2.3942, 2.3942, 2.3942, 2.3942, 2.3942, 2.3942, 2.3942, 2.3942, 2.3942, 2.3942, 2.3942, 2.3942, 2.3942, 2.3942, 2.3942, 2.3942, 2.3942, 2.3942, 2.3942, 2.3942, 2.3942, 2.3942, 2.3942, 2.3942, 2.3942, 2.3942, 2.3942, 2.3942, 2.3942, 2.3942, 2.3942, 2.3942, 2.3942, 2.3942, 2.3942, 2.3942, 2.3942, 2.3942, 2.3897, 2.3942, 2.3942, 2.3942, 2.3942, 2.3942, 2.3942, 2.3942, 2.3942, 2.3942, 2.3942, 2.3942, 2.3942, 2.3942, 2.3942, 2.3942, 2.3942, 2.3871, 2.3605, 2.3384, 2.3258, 2.2357, 2.3183, 2.1213, 2.0642, 2.2923, 2.0422, 2.1922, 2.2075, 2.0815, 2.0966, 2.2359, 1.9986, 2.1172, 2.1312, 1.8906, 2.0107, 1.71, 1.8676, 1.4474, 1.7909, 1.2508, 1.6727, 1.5502, 1.2294, 0.8332, 1.2686, 1.3001, 1.4201, 0.4812, 2.4406, 2.4406, 2.4406, 2.4406, 2.4406, 2.4406, 2.4406, 2.4406, 2.4406, 2.4406, 2.4406, 2.4406, 2.4406, 2.4406, 2.4406, 2.4406, 2.4406, 2.4406, 2.4406, 2.4406, 2.4406, 2.4406, 2.4406, 2.4406, 2.4406, 2.4406, 2.4406, 2.4406, 2.4406, 2.4406, 2.4406, 2.4406, 2.4406, 2.4406, 2.4406, 2.4406, 2.4406, 2.4406, 2.4406, 2.4406, 2.4406, 2.4406, 2.4406, 2.4406, 2.4406, 2.4406, 2.4406, 2.4406, 2.4406, 2.4406, 2.4406, 2.4406, 2.4284, 2.4274, 2.3276, 2.3881, 2.3601, 2.3051, 2.2068, 2.1113, 2.253, 2.2785, 2.3764, 2.2337, 2.3022, 2.1619, 2.0046, 2.1105, 2.0329, 2.0974, 1.8939, 1.9492, 1.5066, 2.1163, 1.7079, 1.9974, 0.8745, 1.6229, 1.0422, 1.5624, 1.3428, 1.4772, 0.9067, 0.5629, 1.1441, 0.7835, 1.3119, 1.3515, 0.7762, 0.8908, 1.1331, 2.5455, 2.5455, 2.5455, 2.5455, 2.5455, 2.5455, 2.5455, 2.5455, 2.5455, 2.5455, 2.5455, 2.5455, 2.5455, 2.5455, 2.5455, 2.5455, 2.5455, 2.5455, 2.5455, 2.5455, 2.5455, 2.5455, 2.5455, 2.5455, 2.5455, 2.5455, 2.5455, 2.5455, 2.5455, 2.5455, 2.5442, 2.5455, 2.5455, 2.5455, 2.5423, 2.5455, 2.5455, 2.5455, 2.5455, 2.5455, 2.5455, 2.5365, 2.5455, 2.5455, 2.5455, 2.5455, 2.5455, 2.5455, 2.5455, 2.5455, 2.5455, 2.5455, 2.5455, 2.5455, 2.5455, 2.4705, 2.4491, 2.4817, 2.4777, 2.3259, 2.4552, 2.0947, 2.4588, 2.1825, 1.9272, 1.6111, 1.3696, 1.6598, 1.6984, 1.6458, 2.2847, 1.654, 1.7252, 1.7354, 1.2148, 1.9587, 2.1298, 1.4605, 1.3283, 2.5906, 2.5906, 2.5906, 2.5906, 2.5906, 2.5906, 2.5906, 2.5906, 2.5906, 2.5906, 2.5906, 2.5906, 2.5906, 2.5906, 2.5906, 2.5906, 2.5906, 2.5906, 2.5906, 2.5906, 2.5906, 2.5906, 2.5906, 2.5906, 2.5906, 2.5906, 2.5906, 2.5906, 2.5906, 2.5906, 2.5906, 2.5906, 2.5906, 2.5906, 2.5906, 2.5906, 2.5906, 2.5906, 2.5906, 2.5906, 2.5906, 2.5906, 2.5844, 2.5906, 2.5906, 2.5906, 2.5906, 2.5906, 2.5906, 2.5906, 2.5906, 2.5906, 2.5906, 2.5906, 2.5906, 2.5906, 2.5408, 2.4817, 2.3529, 2.5613, 2.4183, 2.4618, 2.3768, 2.3073, 2.364, 2.4785, 2.5381, 2.2948, 2.3348, 2.3728, 2.3526, 2.3937, 2.2358, 2.4307, 1.9826, 2.0731, 1.5428, 2.1658, 1.9237, 1.3886, 1.5642, 1.0723, 1.4044, -0.0456, 0.0354, 0.2037, 1.3714, 0.6702, 1.3985, 1.3917, 1.0662, -0.4264, 0.3063, -0.0788, 2.599, 2.599, 2.599, 2.599, 2.599, 2.599, 2.599, 2.599, 2.599, 2.599, 2.599, 2.599, 2.599, 2.599, 2.599, 2.599, 2.599, 2.599, 2.599, 2.599, 2.599, 2.599, 2.599, 2.599, 2.599, 2.599, 2.599, 2.599, 2.599, 2.599, 2.599, 2.599, 2.599, 2.599, 2.599, 2.599, 2.599, 2.599, 2.599, 2.599, 2.599, 2.599, 2.599, 2.599, 2.5943, 2.599, 2.599, 2.599, 2.599, 2.599, 2.599, 2.599, 2.599, 2.599, 2.599, 2.599, 2.599, 2.599, 2.5796, 2.5438, 2.5585, 2.4794, 2.5103, 2.3434, 2.2846, 2.3145, 2.2277, 2.1254, 1.4981, 1.9237, 0.9637, 2.043, 0.9713, 0.8746, -0.5079, 1.1344, -0.8434, 2.6459, 2.6459, 2.6459, 2.6459, 2.6459, 2.6459, 2.6459, 2.6459, 2.6459, 2.6459, 2.6459, 2.6459, 2.6459, 2.6459, 2.6459, 2.6459, 2.6459, 2.6459, 2.6459, 2.6459, 2.6459, 2.6459, 2.6459, 2.6459, 2.6459, 2.6459, 2.6459, 2.6459, 2.6459, 2.6459, 2.6431, 2.6459, 2.6459, 2.6459, 2.6459, 2.6459, 2.6459, 2.6459, 2.6459, 2.6459, 2.6459, 2.6459, 2.6459, 2.6459, 2.6459, 2.6459, 2.6459, 2.6459, 2.6459, 2.6459, 2.6459, 2.6459, 2.6459, 2.6459, 2.6244, 2.6263, 2.6335, 2.6042, 2.6252, 2.5792, 2.5811, 2.468, 2.3723, 2.3701, 2.4431, 2.2312, 2.1085, 2.4592, 2.0307, 2.1798, 2.1462, 2.3606, 2.1637, 2.3974, 2.4179, 1.564, 2.0606, 1.9175, 1.4483, 2.0813, 1.7742, 2.1141, 1.8683, 2.0834, 1.0101, 1.7735, 1.5526, 0.9389, 0.7765, 1.2731, 1.365, 2.6531, 2.6531, 2.6531, 2.6531, 2.6531, 2.6531, 2.6531, 2.6531, 2.6531, 2.6531, 2.6531, 2.6531, 2.6531, 2.6531, 2.6531, 2.6531, 2.6531, 2.6531, 2.6531, 2.6531, 2.6531, 2.6531, 2.6531, 2.6531, 2.6531, 2.6531, 2.6531, 2.6531, 2.6531, 2.6531, 2.6531, 2.6531, 2.6531, 2.6531, 2.6531, 2.6531, 2.6531, 2.6531, 2.6531, 2.6531, 2.6531, 2.6531, 2.6531, 2.6531, 2.6531, 2.6382, 2.6531, 2.6531, 2.6531, 2.6531, 2.6531, 2.6531, 2.6531, 2.6531, 2.6531, 2.6531, 2.6531, 2.6531, 2.6096, 2.4819, 2.4415, 2.4633, 2.5325, 2.3816, 2.3365, 2.5543, 2.5019, 2.3973, 2.1503, 2.2559, 2.4392, 2.288, 1.3869, 1.8617, 1.7268, 1.6399, 2.0619, 0.279, 0.84, 1.2293, 1.2053, 0.8848, 2.7316, 2.7316, 2.7316, 2.7316, 2.7316, 2.7316, 2.7316, 2.7316, 2.7316, 2.7316, 2.7316, 2.7316, 2.7316, 2.7316, 2.7316, 2.7316, 2.7316, 2.7316, 2.7316, 2.7316, 2.7316, 2.7316, 2.7316, 2.7316, 2.7316, 2.7316, 2.7316, 2.7316, 2.7316, 2.7316, 2.7316, 2.7316, 2.7316, 2.7316, 2.7316, 2.7316, 2.7316, 2.7316, 2.7316, 2.7316, 2.7316, 2.7316, 2.7316, 2.7316, 2.7316, 2.7316, 2.7316, 2.7316, 2.7316, 2.7316, 2.702, 2.71, 2.7146, 2.6718, 2.5576, 2.6915, 2.7011, 2.5187, 2.6403, 2.624, 2.4695, 2.5624, 2.6055, 2.5461, 2.5705, 2.4438, 2.6426, 2.365, 2.4255, 2.2087, 2.2313, 2.4185, 1.982, 2.1107, 2.4025, 2.263, 2.027, 2.4022, 1.9564, 1.3937, 1.8437, 1.3018, 1.9651, 2.1586, 1.4738, 1.8077, 1.0866, 1.2486, 1.722, 1.187, 1.2361, 1.9158, 1.9532, 1.0921, 2.0738, 1.8503, 0.3598, 0.0957, 2.779, 2.779, 2.779, 2.779, 2.779, 2.779, 2.779, 2.779, 2.779, 2.779, 2.779, 2.779, 2.779, 2.779, 2.779, 2.779, 2.779, 2.779, 2.779, 2.779, 2.779, 2.779, 2.779, 2.779, 2.779, 2.779, 2.779, 2.779, 2.779, 2.779, 2.7781, 2.7722, 2.779, 2.7745, 2.774, 2.779, 2.779, 2.779, 2.779, 2.779, 2.779, 2.779, 2.779, 2.779, 2.779, 2.779, 2.779, 2.779, 2.779, 2.779, 2.779, 2.779, 2.7556, 2.7545, 2.7653, 2.751, 2.727, 2.575, 2.7371, 2.493, 2.7061, 2.7394, 2.6554, 2.6284, 2.5691, 2.627, 2.5883, 2.1078, 2.3711, 2.5238, 1.9937, 2.2017, 2.2705, 2.5957, 2.1336, 2.2911, 2.4113, 2.3404, 2.1664, 1.9836, 1.968, 2.358, 2.2384, 1.7843, 1.9415, 1.6603, 0.0213, 1.481, 0.9165, 2.8252, 2.8252, 2.8252, 2.8252, 2.8252, 2.8252, 2.8252, 2.8252, 2.8252, 2.8252, 2.8252, 2.8252, 2.8252, 2.8252, 2.8252, 2.8252, 2.8252, 2.8252, 2.8252, 2.8252, 2.8252, 2.8252, 2.8252, 2.8252, 2.8252, 2.8252, 2.8252, 2.8252, 2.8252, 2.8252, 2.8252, 2.8252, 2.8252, 2.8252, 2.8252, 2.8252, 2.8252, 2.8252, 2.8252, 2.8252, 2.8252, 2.8252, 2.8252, 2.8252, 2.8252, 2.8252, 2.8252, 2.8252, 2.8252, 2.8252, 2.8252, 2.8252, 2.8252, 2.8252, 2.7899, 2.7959, 2.7305, 2.734, 2.7667, 2.6608, 2.7765, 2.7592, 2.7967, 2.578, 2.4739, 2.3125, 2.5704, 2.6166, 2.5415, 2.4759, 2.5012, 2.1654, 2.1528, 2.1937, 1.9515, 1.5992, 1.1326, 0.3245, 1.8297, 2.2938, 1.5588, 1.7857, 0.9691, 0.7903, 0.369, -0.3955, 0.2003, 0.7252, 0.4299, 0.3543, 0.9433, 2.8475, 2.8475, 2.8475, 2.8475, 2.8475, 2.8475, 2.8475, 2.8475, 2.8475, 2.8475, 2.8475, 2.8475, 2.8475, 2.8475, 2.8475, 2.8475, 2.8475, 2.8475, 2.8475, 2.8475, 2.8475, 2.8475, 2.8475, 2.8475, 2.8475, 2.8475, 2.8475, 2.8475, 2.8475, 2.8475, 2.8475, 2.8475, 2.8475, 2.8475, 2.8475, 2.8475, 2.8475, 2.8475, 2.8417, 2.8475, 2.8475, 2.8475, 2.8475, 2.8475, 2.8475, 2.8475, 2.8475, 2.8475, 2.8475, 2.8475, 2.8475, 2.8475, 2.8475, 2.8475, 2.8475, 2.8475, 2.8475, 2.8475, 2.8475, 2.8475, 2.832, 2.7067, 2.7258, 2.7967, 2.6909, 2.5509, 2.6253, 2.6706, 2.6142, 2.4441, 2.2646, 2.3353, 2.2614, 2.6018, 2.122, 2.6161, 2.407, 2.6326, 2.2693, 1.8652, 2.342, 1.7514, 1.2057, 0.8561, 0.7622, 1.0902, 0.9128, 1.6685, 0.207, -0.6134, -0.3317, 1.0279, 0.3769, -0.0425, 2.8602, 2.8602, 2.8602, 2.8602, 2.8602, 2.8602, 2.8602, 2.8602, 2.8602, 2.8602, 2.8602, 2.8602, 2.8602, 2.8602, 2.8602, 2.8602, 2.8602, 2.8602, 2.8602, 2.8602, 2.8602, 2.8602, 2.8602, 2.8602, 2.8602, 2.8602, 2.8602, 2.8602, 2.8602, 2.8602, 2.8602, 2.8602, 2.8602, 2.8602, 2.8602, 2.8602, 2.8602, 2.8602, 2.8602, 2.8602, 2.8602, 2.8602, 2.8602, 2.8602, 2.8602, 2.8602, 2.8602, 2.8602, 2.8602, 2.8602, 2.8602, 2.8602, 2.8602, 2.8602, 2.8602, 2.8602, 2.8536, 2.8602, 2.826, 2.8384, 2.8513, 2.7917, 2.773, 2.7637, 2.7809, 2.6538, 2.5331, 2.6628, 2.7146, 2.5586, 2.6121, 2.6298, 2.7021, 2.6172, 2.1726, 2.3003, 2.7279, 2.2066, 1.5672, 2.086, 1.5221, 1.9116, 2.0888, 1.1528, 1.3733, 1.571, 1.6009, 1.2454, -0.6637, 2.9157, 2.9157, 2.9157, 2.9157, 2.9157, 2.9157, 2.9157, 2.9157, 2.9157, 2.9157, 2.9157, 2.9157, 2.9157, 2.9157, 2.9157, 2.9157, 2.9157, 2.9157, 2.9157, 2.9157, 2.9157, 2.9157, 2.9157, 2.9157, 2.9157, 2.9157, 2.9157, 2.9157, 2.9157, 2.9157, 2.9157, 2.9157, 2.9121, 2.9157, 2.9157, 2.9157, 2.9157, 2.9157, 2.9157, 2.9157, 2.9157, 2.9157, 2.9157, 2.9157, 2.9157, 2.9157, 2.9157, 2.9157, 2.9157, 2.9157, 2.9157, 2.9157, 2.9157, 2.9157, 2.9157, 2.9157, 2.9157, 2.9157, 2.868, 2.9048, 2.6864, 2.7337, 2.7291, 2.7308, 2.5248, 2.7036, 2.7867, 2.5215, 2.7478, 2.3492, 2.6754, 2.365, 2.5057, 1.5532, 1.0191, 1.9116, 0.3064, 1.4435, 1.084, 2.4571, 1.7172, -0.1407, 1.4906, 1.5174, 1.5697, -0.3334, 1.8197, 1.0659]}, \"token.table\": {\"Topic\": [5, 10, 10, 2, 13, 3, 4, 13, 13, 2, 9, 14, 13, 13, 13, 9, 9, 5, 3, 11, 1, 2, 3, 5, 8, 2, 3, 4, 13, 13, 11, 11, 3, 12, 2, 7, 10, 12, 13, 3, 7, 1, 6, 7, 12, 3, 4, 5, 1, 3, 9, 12, 7, 11, 14, 2, 4, 1, 7, 13, 14, 8, 5, 3, 5, 6, 8, 3, 6, 11, 5, 7, 11, 9, 2, 2, 2, 11, 7, 9, 7, 2, 5, 13, 2, 4, 5, 11, 13, 10, 10, 13, 3, 4, 6, 8, 12, 8, 8, 8, 1, 2, 3, 5, 7, 8, 7, 8, 7, 8, 2, 8, 1, 5, 8, 9, 10, 12, 14, 2, 5, 8, 5, 1, 1, 1, 2, 3, 6, 7, 9, 11, 12, 5, 1, 1, 13, 4, 4, 7, 8, 12, 5, 9, 11, 9, 7, 7, 12, 1, 5, 6, 7, 9, 5, 9, 1, 5, 6, 9, 7, 9, 5, 11, 14, 6, 7, 6, 1, 1, 14, 14, 3, 5, 6, 10, 3, 2, 13, 14, 2, 3, 4, 11, 13, 6, 7, 8, 12, 14, 6, 3, 7, 13, 1, 2, 4, 8, 9, 11, 12, 6, 1, 9, 2, 4, 11, 13, 9, 12, 12, 14, 6, 1, 3, 6, 7, 2, 8, 9, 6, 10, 9, 9, 3, 6, 2, 3, 4, 5, 7, 11, 13, 7, 13, 7, 3, 3, 4, 5, 14, 8, 5, 7, 11, 13, 14, 2, 2, 11, 13, 13, 9, 14, 11, 6, 6, 4, 10, 6, 6, 12, 6, 7, 14, 13, 3, 7, 9, 12, 3, 3, 4, 5, 7, 8, 11, 6, 1, 2, 3, 5, 7, 11, 12, 13, 10, 1, 8, 2, 3, 4, 6, 7, 8, 11, 12, 6, 1, 2, 3, 4, 5, 7, 11, 12, 13, 14, 6, 11, 7, 14, 12, 10, 6, 5, 6, 8, 14, 1, 5, 7, 8, 12, 3, 4, 13, 1, 1, 8, 1, 1, 1, 3, 1, 11, 5, 1, 5, 8, 12, 5, 5, 6, 10, 9, 2, 3, 4, 4, 10, 13, 9, 14, 7, 2, 4, 5, 11, 13, 6, 3, 10, 12, 2, 13, 7, 7, 4, 10, 3, 8, 4, 10, 10, 2, 3, 4, 7, 11, 14, 14, 5, 2, 4, 8, 9, 5, 12, 2, 2, 4, 13, 14, 10, 7, 3, 2, 11, 13, 5, 5, 2, 13, 7, 11, 11, 5, 2, 4, 5, 10, 11, 12, 7, 14, 9, 3, 5, 8, 5, 13, 9, 5, 8, 4, 5, 7, 8, 9, 7, 5, 7, 4, 4, 12, 2, 3, 5, 7, 11, 12, 7, 4, 9, 5, 7, 11, 14, 13, 2, 4, 12, 13, 3, 5, 6, 10, 3, 4, 5, 7, 12, 10, 13, 11, 1, 7, 5, 14, 1, 3, 4, 12, 3, 1, 2, 12, 13, 1, 2, 9, 3, 3, 5, 9, 6, 10, 12, 4, 2, 3, 4, 5, 11, 6, 11, 11, 5, 6, 8, 6, 12, 2, 3, 5, 9, 13, 12, 2, 4, 13, 2, 13, 5, 2, 4, 5, 8, 10, 11, 14, 5, 6, 12, 1, 13, 7, 12, 1, 14, 5, 7, 14, 2, 5, 13, 1, 2, 4, 8, 12, 7, 13, 14, 13, 14, 14, 5, 12, 9, 10, 9, 13, 10, 7, 1, 3, 4, 7, 12, 3, 3, 2, 11, 3, 5, 2, 3, 5, 11, 12, 13, 11, 11, 2, 10, 4, 4, 4, 10, 14, 4, 10, 9, 7, 3, 2, 5, 13, 1, 2, 8, 4, 1, 2, 1, 5, 8, 12, 1, 2, 5, 8, 11, 12, 1, 8, 8, 7, 7, 1, 3, 4, 5, 7, 8, 9, 12, 1, 6, 11, 12, 2, 4, 11, 13, 14, 2, 10, 12, 13, 4, 5, 7, 1, 2, 5, 1, 2, 3, 4, 5, 7, 8, 9, 11, 12, 5, 7, 11, 5, 5, 4, 12, 13, 4, 6, 5, 7, 9, 1, 2, 3, 4, 5, 6, 8, 12, 13, 9, 2, 3, 7, 12, 1, 3, 4, 5, 7, 8, 8, 14, 2, 13, 13, 2, 9, 1, 2, 3, 4, 7, 9, 14, 2, 6, 2, 4, 13, 3, 9, 11, 1, 1, 6, 5, 6, 11, 13, 3, 5, 14, 8, 14, 8, 2, 6, 7, 14, 1, 5, 6, 2, 4, 10, 1, 3, 6, 6, 6, 1, 6, 1, 2, 3, 5, 6, 7, 9, 11, 12, 14, 3, 12, 3, 4, 8, 1, 3, 5, 8, 2, 13, 1, 3, 4, 6, 7, 12, 13, 14, 8, 1, 8, 8, 4, 9, 10, 5, 9, 9, 1, 3, 7, 8, 11, 1, 2, 3, 5, 7, 8, 10, 12, 7, 9, 3, 5, 5, 5, 8, 5, 7, 8, 10, 1, 4, 5, 7, 11, 12, 14, 5, 3, 7, 9, 13, 13, 14, 7, 13, 3, 6, 7, 11, 13, 14, 12, 12, 3, 9, 7, 9, 11, 7, 11, 1, 7, 14, 8, 9, 3, 4, 5, 6, 11, 12, 13, 14, 14, 1, 3, 4, 8, 12, 5, 6, 7, 8, 12, 6, 5, 7, 11, 10, 5, 6, 7, 10, 11, 5, 1, 14, 14, 10, 13, 11, 4, 1, 5, 7, 8, 12, 7, 9, 4, 2, 13, 2, 13, 1, 3, 4, 7, 9, 11, 4, 5, 10, 14, 1, 2, 4, 2, 13, 3, 2, 3, 4, 5, 8, 11, 12, 13, 14, 3, 12, 12, 10, 2, 3, 4, 5, 8, 9, 12, 14, 12, 3, 4, 8, 2, 2, 10, 10, 3, 13, 1, 8, 8, 8, 8, 1, 2, 3, 4, 5, 12, 5, 10, 8, 1, 1, 8, 8, 4, 6, 9, 10, 3, 6, 7, 11, 4, 7, 9, 8, 10, 2, 1, 1, 5, 13, 3, 5, 8, 7, 9, 6, 1, 10, 4, 13, 4, 6, 10, 11, 13, 14, 3, 7, 5, 7, 8, 10, 5, 5, 1, 6, 3, 11, 4, 5, 7, 8, 14, 3, 6, 9, 10, 4, 1, 3, 5, 6, 2, 3, 4, 7, 8, 13, 8, 2, 4, 5, 10, 3, 2, 4, 8, 2, 4, 5, 1, 4, 5, 7, 8, 1, 7, 11, 14, 2, 5, 6, 8, 9, 10, 11, 13, 14, 4, 2, 3, 4, 6, 7, 9, 11, 13, 14, 12, 1, 5, 7, 8, 12, 3, 2, 7, 11, 13, 14, 1, 3, 4, 5, 7, 9, 11, 12, 1, 8, 1, 2, 4, 5, 6, 7, 3, 6, 7, 9, 11, 12, 14, 9, 11, 1, 5, 7, 9, 14, 3, 11, 12, 13, 14, 4, 7, 2, 13, 2, 7, 13, 12, 12, 13, 2, 4, 10, 11, 14, 1, 2, 3, 4, 5, 7, 9, 11, 7, 12, 7, 1, 5, 7, 8, 12, 2, 8, 10, 14, 9, 1, 1, 8, 4, 13, 9, 4, 12, 8, 14, 12, 12, 3, 13, 2, 13, 2, 4, 8, 10, 13, 1, 11, 12, 13, 1, 6, 10, 14, 9, 10, 13, 12, 14, 4, 8, 14, 14, 3, 5, 7, 8, 3, 8, 5, 6, 9, 4, 2, 11, 11, 2, 4, 13, 2, 4, 11, 12, 13, 14, 13, 2, 3, 7, 9, 14, 2, 12, 13, 13, 13, 6, 4, 1, 1, 1, 7, 13, 13, 2, 14, 2, 12, 13, 5, 14, 1, 3, 2, 9, 12, 14, 3, 10, 4, 10, 3, 8, 8, 9, 14, 7, 1, 2, 4, 6, 9, 10, 9, 11, 6, 2, 3, 4, 5, 8, 9, 10, 12, 10, 13, 6, 5, 9, 11, 13, 14, 9, 6, 7, 10, 13, 10, 7, 5, 4, 2, 3, 4, 5, 6, 7, 8, 11, 12, 13, 10, 8, 14, 7, 1, 8, 3, 4, 8, 9, 3, 5, 10, 3, 14, 5, 4, 8, 1, 3, 5, 9, 10, 4, 3, 5, 6, 7, 9, 10, 11, 12, 13, 14, 8, 10, 10, 11, 5, 6, 14, 2, 3, 4, 2, 3, 4, 7, 8, 10, 7, 12, 8, 8, 3, 7, 8, 4, 10, 1, 4, 6, 12, 3, 7, 9, 14, 2, 13, 2, 1, 8, 14, 6, 13, 1, 3, 5, 7, 8, 9, 12, 1, 4, 5, 7, 12, 4, 7, 9, 5, 4, 6, 2, 4, 7, 10, 11, 12, 2, 5, 6, 7, 14, 13, 14, 2, 4, 9, 6, 6, 2, 2, 10, 10, 1, 2, 3, 4, 5, 6, 7, 8, 11, 13, 11, 2, 1, 3, 6, 8, 6, 6, 13, 1, 3, 4, 5, 6, 7, 9, 11, 3, 5, 7, 3, 8, 8, 1, 1, 5, 8, 12, 2, 8, 13, 2, 5, 9, 10, 14, 2, 10, 3, 8, 11, 13, 6, 4, 3, 3, 6, 7, 9, 11, 4, 13, 14, 2, 13, 4, 1, 4, 1, 2, 3, 7, 8, 9, 11, 12, 13, 3, 8, 2, 3, 4, 12, 5, 3, 4, 11, 1, 5, 4, 1, 2, 3, 4, 5, 11, 12, 13, 6, 2, 3, 4, 5, 10, 9, 2, 11, 10, 4, 1, 2, 3, 4, 5, 9, 11, 12, 5, 1, 2, 9, 14, 3, 6, 7, 11, 13, 7, 12, 14, 3, 11, 11, 12, 1, 2, 4, 5, 7, 9, 12, 13, 1, 2, 3, 4, 9, 11, 12, 14, 1, 2, 3, 5, 7, 9, 12, 13, 4, 11, 3, 3, 3, 11, 11, 1, 1, 8, 7, 9, 3, 4, 2, 3, 4, 5, 8, 12, 13, 3, 3, 3, 1, 2, 3, 4, 5, 11, 12, 13, 2, 4, 12, 10, 10, 1, 2, 3, 4, 5, 6, 8, 11, 12, 13, 8, 5, 14, 14, 5, 1, 4, 5, 8, 14, 1, 4, 6, 10, 13, 10, 4, 8, 6, 4, 1, 2, 3, 5, 13, 5, 2, 6, 7, 11, 13, 4, 14, 10, 7, 3, 5, 12, 14, 5, 13, 14, 3, 4, 4, 4, 1, 4, 12, 1, 4, 12, 6, 6, 10, 13, 6, 11, 1, 13, 13, 6, 12, 4, 8, 2, 4, 5, 8, 4, 3, 4, 8, 3, 13, 14, 5, 3, 3, 2, 3, 4, 5, 6, 7, 8, 10, 13, 11, 8, 13, 4, 2, 1, 2, 3, 5, 7, 11, 13, 11, 12, 2, 8, 14, 7, 12, 4, 11, 3, 4, 11, 12, 13, 4, 2, 1, 7, 7, 13, 12, 14, 9, 7, 3, 13, 9, 2, 4, 13, 4, 7, 9, 11, 13, 1, 2, 4, 5, 8, 12, 2, 2, 4, 7, 4, 11, 4, 13, 14, 14, 3, 7, 3, 7, 1, 2, 3, 4, 11, 13, 2, 3, 4, 5, 6, 7, 9, 11, 1, 3, 5, 8, 12, 1, 3, 7, 14, 10, 3, 11, 9, 10, 13, 3, 5, 7, 8, 9, 14, 7, 1, 4, 12, 2, 7, 9, 11, 13, 9, 3, 9, 9, 7, 5, 7, 2, 4, 6, 1, 7, 1, 2, 3, 5, 8, 13, 5, 7, 5, 11, 13, 12, 2, 3, 4, 9, 11, 12, 13, 12, 1, 3, 7, 9, 13, 2, 11, 13, 12, 3, 3, 6, 7, 2, 4, 10, 12, 13, 5, 7, 11, 11, 7, 7, 8, 2, 4, 5, 11, 12, 13, 12, 10, 1, 9, 1, 3, 5, 7, 9, 11, 9, 6, 7, 8, 10, 1, 3, 4, 5, 6, 7, 8, 9, 11, 12, 13, 14, 3, 10, 14, 6, 9, 10, 11, 14, 12, 2, 3, 6, 11, 3, 6, 11, 12, 9, 7, 14, 1, 3, 5, 7, 9, 13, 1, 7, 14, 8, 8, 8, 2, 3, 4, 7, 11, 14, 2, 3, 11, 12, 13, 14, 3, 4, 8, 12, 7, 7, 8, 11, 4, 5, 6, 8, 9, 10, 12, 2, 13, 5, 12, 5, 11, 13, 2, 10, 2, 3, 5, 10, 14, 2, 12, 2, 4, 12, 13, 9, 6, 3, 2, 4, 10, 5, 4, 5, 14, 2, 10, 11, 13, 13, 10, 13, 2, 8, 12, 6, 13, 11, 14, 14, 3, 5, 13, 5, 14, 6, 7, 7, 8, 10, 7, 11, 12, 5, 8, 11, 14, 3, 2, 7, 12, 5, 6, 2, 7, 13, 13, 11, 4, 11, 10, 6, 1, 7, 12, 1, 2, 3, 7, 12, 1, 2, 3, 4, 7, 8, 11, 12, 13, 13, 1, 4, 5, 8, 9, 10, 12, 13, 14, 1, 2, 5, 9, 10, 13, 1, 5, 7, 9, 11, 2, 2, 10, 5, 2, 2, 3, 4, 5, 6, 7, 8, 12, 14, 13, 14, 9], \"Freq\": [1.1810137396673503, 0.9892419904479199, 1.0167209346270287, 1.010747629310915, 0.968965434869458, 0.9799199256410182, 0.9680143649783051, 0.9909873765710366, 0.968965434869458, 0.9866822095654171, 0.9772008337939436, 1.0925615124217247, 0.7267240761520936, 1.0900861142281402, 1.0900861142281402, 0.9500563661885563, 1.053844036444449, 0.9841781163894586, 1.1024099163461454, 1.0218307077309385, 0.6340241998689365, 0.06070444466830244, 0.06744938296478048, 0.05395950637182439, 0.1821133340049073, 0.3610244518046667, 0.022564028237791668, 0.44563955769638547, 0.17487121884288545, 1.017413706612931, 1.0366398484226913, 1.0366398484226913, 1.0049178829277787, 1.0136959590093653, 0.07319643819278486, 0.04574777387049054, 0.6404688341868675, 0.10979465728917728, 0.1280937668373735, 1.0191167226666589, 0.9995594349595113, 0.13457896070228376, 0.17128231362108842, 0.13457896070228376, 0.5627847447550047, 0.17323184970617506, 0.7651073362022732, 0.057743949902058354, 0.2933496132334664, 0.2454557988280025, 0.4609779636525901, 0.9859234669817112, 0.08646304417037526, 0.9078619637889402, 0.9364812963614785, 0.0946077799912319, 0.9105998824156071, 1.0098357651068965, 0.996605072097562, 1.0900861142281402, 0.9999715537419177, 1.0500399282592894, 0.9841781163894586, 0.6466458445455552, 0.1337887954232183, 0.039021731998438676, 0.1783850605642911, 0.874060233953032, 0.124865747707576, 0.998806277312374, 1.0497899908154225, 1.024393209741114, 0.9790487457325419, 0.9187358266438788, 1.0052988550289155, 0.9964513403531934, 0.9949736567046223, 1.0204423507910867, 0.10634780379592852, 0.8773693813164103, 0.9880437732664294, 1.0064158537567254, 0.03706018938698128, 0.9635649240615133, 0.7406468755948545, 0.06570254541567258, 0.05375662806736847, 0.03583775204491232, 0.10154029746058489, 1.0047595118667108, 0.8551245748762054, 0.12735897923688164, 0.1375028144941186, 0.21250434967272874, 0.1812537100149745, 0.15625319828877113, 0.3062562686459914, 0.9972981967028867, 0.9911881328701256, 0.9846528264995534, 0.7972258830722365, 0.022777882373492472, 0.11388941186746236, 0.06833364712047742, 0.11899573520481642, 0.8839683186643504, 0.19285134341561916, 0.805843113558123, 0.2740503612424894, 0.730800963313305, 0.03598605119820216, 0.9536303567523573, 1.0194271495787393, 0.04922201831104377, 0.02556987964210066, 0.8080081966903808, 0.03707632548104596, 0.04155105441841357, 0.03899406645420351, 1.0295814360682614, 0.9312629040516548, 0.035817804001986725, 1.1810137396673503, 1.007011049680024, 1.4229503962869903, 0.13901130316390548, 0.06950565158195274, 0.058812474415498465, 0.037426120082589935, 0.13901130316390548, 0.4437668524078521, 0.0481192972490442, 0.0641590629987256, 1.0064290998904377, 1.0044355738496402, 1.0005760711643392, 0.9909873765710366, 1.0285152627894492, 0.2549557709460615, 0.12140750997431499, 0.6070375498715749, 0.018211126496147246, 0.9920515413205743, 1.045062002807412, 0.989519855312569, 0.9952971455308686, 0.9817101593352343, 1.008940076163511, 1.6357366611287485, 0.019239616862526673, 0.022446219672947784, 0.10902449555431781, 0.256528224833689, 0.5932215199279057, 1.008782569299195, 0.9952971455308685, 0.9486335975246603, 1.1810137396673503, 1.002237349475887, 0.9952971455308686, 0.14638359531439513, 0.8457718840387274, 1.0003563867958607, 1.00185327632797, 0.9364812963614785, 0.6842197289691152, 1.0133782289912097, 0.6842197289691152, 0.997800582762219, 0.9995358881235445, 1.000708995890695, 0.9975561635154879, 0.6131246524059629, 0.013624992275688065, 0.04768747296490823, 0.32699981461651356, 0.9799199256410182, 0.9964513403531934, 0.9848130003930238, 0.9684067951010742, 0.1567545757963172, 0.018918655699555528, 0.2648611797937774, 0.05675596709866658, 0.5026957085881897, 0.6842197289691152, 0.19097915393380038, 0.19097915393380038, 0.6047673207903679, 1.0039754438469903, 1.0136588577320225, 0.06433357982311665, 0.02757153420990713, 0.9098606289269354, 0.3818546830975716, 0.08256317472379926, 0.13072502664601549, 0.24080925961108118, 0.0034401322801583026, 0.08600330700395757, 0.07224277788332435, 0.9923186712534535, 0.14119311674573212, 0.8471587004743927, 0.11601069480735099, 0.03867023160245033, 0.7037982151645961, 0.13921283376882118, 0.19242583181104297, 0.7971927317886066, 0.8178683305643742, 1.012617987122574, 1.0026190087864262, 0.9486335975246603, 0.30096361583099224, 0.10700928562879725, 0.5885510709583849, 1.4800233143481254, 0.9867041865547608, 1.045062002807412, 0.9774567556701645, 1.0167209346270287, 0.9952971455308686, 0.9952971455308686, 0.9881545468648922, 1.0205311211742734, 0.26639209048213786, 0.09452622565495213, 0.06444969931019463, 0.12030610537902998, 0.01718658648271857, 0.2835786769648564, 0.15467927834446712, 1.00470517207642, 0.7267240761520936, 0.9951993065627412, 0.9806651653442127, 0.7053088108855529, 0.05037920077753948, 0.15113760233261847, 0.09068256139957108, 1.4000532376790524, 0.012682419775784002, 0.07609451865470401, 0.08032199191329868, 0.2621033420328694, 0.5664814166516854, 0.9985699470300606, 1.0763805922531822, 0.705799485853378, 0.28988193168978027, 0.9883447435668472, 0.9952971455308686, 0.9833053611795521, 0.9568983216209459, 1.0126451988742904, 1.0100386475258367, 0.8712129284804745, 1.0517802772003746, 1.1729481068041976, 1.0526457368755617, 0.9996168484675684, 1.026329593453673, 0.04587336697739932, 0.9547394502171233, 1.0019173844008642, 0.055778456205427, 0.07171515797840614, 0.7490249833300197, 0.11952526329734357, 1.1024099163461454, 0.013037177945224842, 0.045630122808286946, 0.5149685288363812, 0.29985509274017136, 0.07822306767134905, 0.045630122808286946, 0.9122929719588203, 0.10766513172172448, 0.06509984708755434, 0.11016897199432274, 0.35053763816375416, 0.05007680545196488, 0.11016897199432274, 0.1927957009900648, 0.010015361090392976, 1.00810465552002, 0.9981890839625156, 0.8000304215308871, 0.03096216935951075, 0.015481084679755374, 0.26317843955584136, 0.04644325403926612, 0.11352795431820607, 0.3612253091942921, 0.0051603615599184575, 0.15481084679755375, 0.9899349270191454, 0.0717021070362545, 0.22488388115916183, 0.2705124947276874, 0.08799804045358507, 0.06844292035278839, 0.03585105351812725, 0.02933268015119502, 0.019555120100796682, 0.06844292035278839, 0.12710828065517843, 0.05822848416360687, 0.9316557466177099, 1.0471575032909166, 1.0925615124217247, 1.0136959590093653, 0.9531758762128394, 1.026329593453673, 0.14548659698937053, 0.7498155383298327, 0.01119127669149004, 0.08953021353192032, 0.037785903736669506, 0.14642037697959434, 0.41564494110336453, 0.17475980478209646, 0.21726894648584966, 1.4698798884615272, 0.5385408252142084, 0.4602913036018876, 1.0037867136598149, 0.9882703863122602, 0.013789819343892002, 0.9988017204706761, 1.0006135206766966, 0.9969491609923743, 0.0072242692825534366, 1.4229503962869903, 1.0061504411161415, 0.9798039914277274, 0.6220468040505359, 0.19056925210796766, 0.14382585064752276, 0.04314775519425683, 0.9841781163894586, 1.0206291577372164, 0.022047764793342046, 0.97010165090705, 0.9952971455308686, 1.0073457113364206, 0.9957250857320024, 1.0047744041546962, 1.0071825762780051, 1.0167209346270287, 0.9992456047091286, 0.9761568158091212, 0.9894896716272225, 0.9817101593352343, 0.5931251095923966, 0.17689696251001302, 0.06243422206235754, 0.14047699964030447, 0.026014259192648975, 1.0083238111123805, 0.25909682246696125, 0.6595191844613559, 0.08243989805766949, 0.678882639807769, 0.31681189857695885, 1.0471575032909166, 1.0471575032909166, 1.0141102871201289, 0.9804094726760635, 0.9536991926733009, 0.04768495963366504, 0.9924438210901989, 1.2200651215524343, 0.9880809082995067, 0.0661086143625943, 0.1262073546922255, 0.3004937016481559, 0.0060098740329631185, 0.35458256794482396, 0.14423697679111483, 1.0350582749258446, 0.9841781163894586, 0.9926892469056429, 0.027529074997245932, 0.055058149994491865, 0.9084594749091157, 0.8518803014418448, 0.138142751585164, 0.9866822095654171, 0.15721785785312706, 0.4064656812788163, 0.38729277178453253, 0.04984956468513785, 0.993203765857629, 1.0471575032909166, 1.0057072921052554, 0.0827964441178573, 0.7175691823547633, 0.19319170294166704, 1.0598841253424938, 1.0091291108894729, 0.986682209565417, 1.0037625361216762, 0.05101168542448887, 0.943716180353044, 1.0154839331487588, 0.9912585344929798, 0.3875502874902969, 0.03633283945221533, 0.09688757187257423, 0.42993860018454816, 0.03633283945221533, 0.006055473242035889, 0.12663599451948848, 0.8864519616364194, 0.9952971455308687, 0.3492964581598396, 0.24949747011417114, 0.3936515639579145, 1.0033569719908941, 1.0122228203547017, 0.9952971455308686, 0.8986957972261881, 0.10431290503518255, 0.12022845575521283, 0.7978797518300488, 0.032789578842330774, 0.05464929807055129, 0.9500563661885563, 1.0133782289912094, 1.006889919075369, 0.9897790099599074, 1.0101019460643184, 0.9868107604147769, 0.9866348114744831, 0.28306333004689344, 0.17549926462907392, 0.06227393261031655, 0.039628866206565076, 0.36798232906096146, 0.06793519921125442, 0.9817101593352343, 0.9680143649783051, 1.029617736756071, 0.9001356049321737, 0.0710633372314874, 0.04737555815432493, 1.0925615124217247, 1.0900861142281402, 0.29316144815375583, 0.42912038063086, 0.06373074959864257, 0.21668454863538475, 0.06930912775814675, 0.21254799179165004, 0.11551521293024458, 0.6006791072372718, 0.21133791872913, 0.019890627645094586, 0.05469922602401012, 0.5395332748731907, 0.17155666343894083, 1.0517802772003746, 1.0010331639304328, 0.9464972529076746, 0.02009634337209162, 0.9746726535464436, 0.22325727140699525, 0.7915485077157105, 0.1510933371094265, 0.8516169909804038, 0.9680143649783051, 1.0263445716886264, 1.009171266704929, 0.8633620287696504, 0.09907433117028774, 0.042460427644409035, 0.7267240761520936, 0.09988695834388112, 0.1712347857323676, 0.7277478393625624, 0.9799199256410182, 0.048777802953644554, 0.048777802953644554, 0.9267782561192466, 0.08148841891765286, 0.7741399797177022, 0.1426047331058925, 1.000552662960769, 0.06652818746300197, 0.03880810935341782, 0.33818495293692674, 0.03880810935341782, 0.5155934528382653, 1.0012971643450466, 1.0154839331487588, 0.9675305251945119, 0.9538957128082445, 0.9913104734670645, 1.4000532376790524, 1.0114552515195616, 0.9748237924076599, 1.004301534736228, 0.9799199256410182, 0.08503419157757806, 0.8361695505128509, 0.08503419157757806, 1.0055177743735164, 0.09272765563407444, 0.08500035099790157, 0.8190942914343242, 0.9453413360501877, 0.05489078725452703, 1.1810137396673503, 0.06240317518137274, 0.09176937526672463, 0.045884687633362314, 0.027530812580017387, 0.5616285766323547, 0.05139085014936579, 0.15967871296410086, 0.17759317903645241, 0.6916786972998672, 0.14020514134456769, 0.9486335975246603, 1.0549220460272326, 0.3534418736843007, 0.647976768421218, 1.006477109568847, 0.9983751751439898, 0.015998925620483426, 0.15998925620483428, 0.8319441322651382, 0.9866822095654171, 1.1810137396673503, 0.9909873765710366, 0.012933156246828517, 0.025866312493657034, 0.10346524997462814, 0.19399734370242774, 0.6725241248350828, 0.022156608792649433, 0.7200897857611066, 0.2548010011154685, 0.7416521010935939, 0.26208758459698434, 1.0301294259976261, 0.1082931042041946, 0.884393684334256, 1.053844036444449, 1.0167209346270287, 0.9835765536328951, 0.05464314186849417, 1.0167209346270287, 1.0025976095338565, 0.23581140738324372, 0.07074342221497311, 0.6917134616575149, 0.14636831500648823, 0.8619467439270974, 1.0073302732113962, 0.9917261898053678, 0.04112204400854151, 0.9663680342007255, 0.9299682217896031, 0.07749735181580027, 0.04509622454744644, 0.240513197586381, 0.007516037424574407, 0.14280471106691373, 0.5561867694185061, 0.7267240761520936, 1.0047432377019931, 0.9996169966933095, 0.547797109002275, 0.45084186847089885, 1.0044058824586923, 1.0032148873411524, 1.0024108144953006, 0.9705063466894366, 0.9967797322065104, 0.17246648869675457, 0.8225324845537526, 1.045062002807412, 1.2565890039491, 1.0199166572998353, 0.04576690508825324, 0.9545668775549961, 0.9909873765710366, 0.055978731036134016, 0.07463830804817868, 0.8583405425540549, 0.9997525408792329, 1.0098357651068965, 1.4800233143481254, 0.5972402534616226, 0.18514447857310298, 0.06569642788077848, 0.14931006336540564, 0.6483965013742083, 0.10068268654879012, 0.04027307461951605, 0.1812288357878222, 0.024163844771709627, 0.008054614923903209, 0.9203083666346399, 0.06989683797225113, 1.0000380269136089, 1.0043369362418457, 0.9944681593937899, 0.2985814823554309, 0.13270288104685818, 0.08746326250815653, 0.12365495733911785, 0.06635144052342909, 0.1296869064776114, 0.10254313535439041, 0.06333546595418231, 1.0001568280611433, 0.958342014754684, 0.037954139198205304, 0.981441996677249, 0.11632211523337606, 0.005816105761668803, 0.05234495185501922, 0.5176334127885235, 0.30243749960677774, 0.3319887062567046, 0.539481647667145, 0.013832862760696027, 0.1037464707052202, 0.19730946563697832, 0.8111611365075775, 0.7853681274681875, 0.9486335975246603, 0.8527344926663272, 0.1465050449955364, 0.13599133425789894, 0.1482152744159123, 0.01375193267776506, 0.07028765590857698, 0.029031857875281796, 0.18183110985044915, 0.03819981299379183, 0.2139189527652343, 0.08403958858634204, 0.08403958858634204, 0.751725360526051, 0.16551751057454334, 0.08275875528727167, 0.9973004912746515, 1.1810137396673503, 0.9177360224249733, 0.07980313238478029, 1.0000790038790277, 0.968014364978305, 1.0109192391976116, 0.19397068075405535, 0.08952492957879478, 0.7161994366303582, 0.2677651379104182, 0.12259126795898666, 0.06452171997841404, 0.08710432197085895, 0.216147761927687, 0.02580868799136561, 0.09355649396870035, 0.05806954798057263, 0.06129563397949333, 0.9761568158091212, 0.9952157117721875, 0.1576654518225859, 0.04851244671464182, 0.8004553707915899, 0.1352747079198902, 0.1288330551618002, 0.0644165275809001, 0.1868079299846103, 0.03220826379045005, 0.4509156930663007, 1.4000532376790524, 1.0051565914279867, 0.9640029408582017, 0.030125091901818803, 1.0044153898037065, 0.038764624021048126, 0.9691156005262032, 0.10500192307047533, 0.30240553844296897, 0.44100807689599636, 0.0042000769228190135, 0.07980146153356125, 0.03780069230537112, 0.03360061538255211, 1.0016319400133777, 1.0643418006186236, 0.8337053212371621, 0.13593021541910252, 0.027186043083820506, 1.0010388895556952, 0.9629740140668808, 0.033206000485064856, 0.9981447456209369, 0.9990928314355465, 0.9990985246429166, 1.0598841253424938, 1.1729481068041976, 1.003199853312282, 0.9909873765710366, 0.20303392403692724, 0.812135696147709, 0.9868096073976755, 0.9905138552287173, 0.9932377385652043, 0.9930610174235139, 0.9920156269144192, 0.9659572644269862, 0.9700353943858622, 0.03344949635813318, 1.0075549389858194, 1.018410398698657, 1.0074400917336666, 0.07893752636231256, 0.2269453882916486, 0.6907033556702349, 0.10564682897014036, 0.1672741458693889, 0.7307239003768041, 0.9899349270191454, 0.9774567556701647, 0.9997309575786817, 0.9519578837831167, 0.11311971458103007, 0.030096070851833686, 0.04670079959767296, 0.06953230162320197, 0.1951055627636115, 0.04151182186459819, 0.2272772247086751, 0.08613703036904125, 0.04047402631798323, 0.15048035425916845, 1.4698798884615272, 1.0087042743627281, 0.7192787252862739, 0.11003890946543743, 0.1717680537997072, 0.08536868252743204, 0.8110024840106044, 0.014228113754572006, 0.07114056877286003, 0.7690481778479143, 0.22992162018133522, 0.1573316435127269, 0.09038200797539632, 0.07699208086793019, 0.2309762426037906, 0.22093379727319098, 0.05690719020673102, 0.01004244533059959, 0.1573316435127269, 0.9947746688772214, 0.18840356371792838, 0.8049970449766031, 1.015038597317313, 0.968014364978305, 0.9554852597096337, 1.0167209346270287, 0.9920515413205743, 0.9952971455308686, 0.9952971455308686, 0.05440374076705275, 0.009067290127842124, 0.072538321022737, 0.009067290127842124, 0.8523252720171597, 0.07528857100969275, 0.13982163187514368, 0.2742655086781664, 0.0779774485457532, 0.10486622390635775, 0.09679959129817639, 0.1613326521636273, 0.07528857100969275, 0.05611096631073893, 0.9398586857048772, 0.04247719689635413, 0.9769755286161451, 1.0001910269189491, 1.0057294620038262, 0.8000304215308871, 1.0497899908154225, 1.0097590210305267, 1.4000532376790524, 0.9385116319634111, 0.09507239921929274, 0.05885434237384788, 0.17656302712154365, 0.6066524521612012, 0.009054514211361213, 0.009054514211361213, 0.040745313951125454, 1.00139788612557, 0.11091321985694516, 0.7595875056869578, 0.12771825316860352, 0.9877802976824572, 0.988558485942186, 0.9909278833592388, 1.2565890039491, 0.9958811413936096, 0.026818033067365615, 0.06704508266841404, 0.5698832026815194, 0.08045409920209684, 0.06704508266841404, 0.1810217232047179, 1.0263445716886264, 1.0066071760792297, 0.9806077989720355, 0.9736602510628062, 0.4840870564913562, 0.46164593466725357, 0.057705741833406696, 0.030202229119032187, 0.96647133180903, 0.9692147694754403, 0.018287071122178117, 1.0085183191585152, 0.9972981967028867, 1.0335778049743636, 0.07091173207229912, 0.15107282050185464, 0.05857925692929057, 0.06782861328654698, 0.29289628464645284, 0.16340529564486317, 0.09249356357256405, 0.10790915750132474, 1.0925615124217247, 0.06339164876249807, 0.07043516529166452, 0.05634813223333162, 0.7606997851499768, 0.04226109917499871, 0.06286991563789579, 0.6217136101969696, 0.314349578189479, 1.0093407062337356, 1.0177917002578878, 1.0010731605051482, 0.12622130431584325, 0.054094844706789956, 0.8114226706018494, 1.1091501105022132, 0.10135137425600181, 0.10135137425600181, 0.6283785203872113, 0.005067568712800091, 0.167229767522403, 0.9841781163894586, 0.9990928314355465, 1.0172124425995368, 0.976331564291754, 0.9935800409613327, 0.007237315594931663, 1.0047432377019931, 1.020339465787943, 0.5784977038577703, 0.048208141988147525, 0.09641628397629505, 0.036156106491110646, 0.24104070994073762, 0.9897790099599074, 0.9952971455308686, 1.161617237973966, 0.21659697156467433, 0.7865890019980278, 1.4800233143481254, 0.9951546273503958, 0.1425884043379888, 0.11946596039128793, 0.12331970104907142, 0.05780610986675223, 0.46630261959180125, 0.09634351644458704, 0.12288248593503372, 0.877732042393098, 0.8534711188056586, 0.14224518646760978, 1.4229503962869903, 0.933347093062989, 0.06698663347342027, 0.9866822095654171, 0.7267240761520936, 0.9799199256410182, 0.38742551764117344, 0.09685637941029336, 0.11991742212702987, 0.13606015202874544, 0.05765260679184128, 0.025367146988410166, 0.06457091960686225, 0.0807136495085778, 0.03228545980343112, 0.39593809056673407, 0.5987356491496955, 1.0136959590093653, 1.0167209346270287, 0.3127021341785763, 0.05618866473521293, 0.3933206531464905, 0.09771941693080509, 0.029315825079241527, 0.0024429854232701272, 0.10993434404715573, 0.9684067951010742, 1.0299082681181007, 0.7168594628295175, 0.11171835784356117, 0.15826767361171165, 1.110017485761094, 0.6742249108097378, 0.3265114347946529, 0.983923485122931, 0.979919925641018, 0.994103689075977, 0.9912659322497118, 0.018356776523142812, 1.0014979364419498, 0.9966480675003423, 0.9961917268100949, 0.09988793621493075, 0.03457659330516834, 0.3803425263568517, 0.09220424881378222, 0.3572914641534061, 0.03457659330516834, 0.9538957128082445, 0.9930762617287258, 0.9924428013927461, 0.99991108928275, 0.1550049594885989, 0.8439158905490385, 1.0015362112235917, 0.10695489099044794, 0.04753550710686575, 0.7368003601564191, 0.10695489099044794, 0.6642891474303497, 0.09703099906286007, 0.09703099906286007, 0.14181453709187242, 0.8712129284804745, 0.11657351396547826, 0.9034447332324564, 1.0500399282592894, 1.0167209346270287, 1.002596438751956, 0.9831293647073752, 0.3469655268535772, 0.6491613083066928, 1.0013914435166642, 0.07871927088404217, 0.8265523442824427, 0.09839908860505271, 1.0116606387725804, 0.9952971455308686, 1.042620539381509, 0.055313140009380306, 0.9403233801594651, 0.9987220823057846, 0.0022801874025246225, 0.028285647562035283, 0.05657129512407057, 0.6166271168523692, 0.10748546073573408, 0.028285647562035283, 0.1697138853722117, 0.06771564443428761, 0.934475893193169, 0.3066841611081579, 0.4600262416622369, 0.2356231969489506, 0.8714750868231675, 0.9998552899248659, 1.0497899908154225, 1.0098357651068965, 1.0026190087864262, 0.9974184957417507, 0.9756610338095918, 0.10985017294098541, 0.03661672431366181, 0.027462543235246353, 0.8238762970573906, 0.9833053611795524, 0.04446157338077174, 0.9188725165359493, 0.014820524460257245, 0.014820524460257245, 0.99453530648456, 0.17506887920380645, 0.03443977951550291, 0.789244947230275, 0.992118607005217, 0.00749809835970008, 0.05998478687760064, 0.04123954097835044, 0.7573079343297081, 0.08622813113655092, 0.04498859015820048, 0.9859529842810227, 0.024464284543770212, 0.2813392722533574, 0.697232109497451, 1.2200651215524343, 1.0087410999245774, 0.8540472474880682, 0.047447069304892675, 0.09489413860978535, 0.09798868934226909, 0.1143201375659806, 0.7839095147381527, 0.48401960447493086, 0.0035329898136856265, 0.10245670459688318, 0.33563403230013455, 0.07419278608739815, 0.09513204261423915, 0.21221763352407194, 0.5342030085261121, 0.16099268750102008, 0.014520868947558548, 0.07181943290278958, 0.04473997459518039, 0.01491332486506013, 0.23939810967596525, 0.4560337761368387, 0.08202328675783072, 0.029434193812618678, 0.04709471010018989, 0.9680143649783051, 0.3788994651648582, 0.11099075242202916, 0.04592720789877069, 0.034445405924078014, 0.15691796032079985, 0.007654534649795115, 0.05740900987346336, 0.06506354452325848, 0.14543615834610718, 0.9913555521992413, 0.07950484317213, 0.055653390220491, 0.6598901983286789, 0.174910654978686, 0.031801937268852, 1.1759039107692217, 0.034054272784364376, 0.06810854556872875, 0.06810854556872875, 0.017027136392182188, 0.8343296832169271, 0.025679275142699555, 0.14551589247529748, 0.08559758380899851, 0.1398093868880309, 0.2539394986333623, 0.09415734218989837, 0.15122239806256405, 0.10271710057079822, 0.9246817494131842, 0.0684949444009766, 0.06691598100559314, 0.048666168004067735, 0.04258289700355927, 0.0729992520061016, 0.5109947640427113, 0.26766392402237255, 0.10119921884241943, 0.09803674325359382, 0.10752417002007064, 0.36368469271494486, 0.1644487306189316, 0.12333654796419868, 0.0442746582435585, 0.9952971455308686, 1.0366398484226913, 0.6239171704408611, 0.07724688776886852, 0.05347861460921667, 0.16637791211756298, 0.07724688776886852, 0.07611896071912358, 0.5110844505426868, 0.19573447042060346, 0.09243016658750719, 0.12505257832427444, 1.0013941706672123, 1.0052712031592799, 0.18396558774840321, 0.8119860424757107, 0.4986268736800107, 0.0433588585808705, 0.460687872421749, 0.8178683305643742, 1.6357366611287485, 0.968965434869458, 0.3238792927783454, 0.042245125145001575, 0.5238395517980196, 0.0732248835846694, 0.0366124417923347, 0.14758688357806812, 0.06641409761013066, 0.17341458820423003, 0.0036896720894517027, 0.05165540925232384, 0.0073793441789034055, 0.4944160599865282, 0.059034753431227244, 0.1996688905636385, 0.798675562254554, 0.9862762530995842, 0.3782719009918421, 0.09101278820856351, 0.41808999583308865, 0.09101278820856351, 0.022753197052140878, 0.9347515669567108, 0.05677546422002289, 0.9367951596303777, 0.910467927018104, 1.053844036444449, 0.9907950907479786, 1.0061265428291852, 1.0080383311289178, 0.9680143649783051, 0.9972708110239327, 0.9952971455308686, 1.0052456867082398, 1.0223354132054678, 0.7000266188395262, 0.9909278833592388, 0.9983369293274049, 1.0066071760792297, 1.0105424233173, 0.9909873765710366, 0.07986065733715868, 0.9183975593773247, 0.2690346103363015, 0.41276542955706536, 0.03316865058940704, 0.27272001595734674, 0.014741622484180905, 1.0098357651068965, 1.016704466722255, 1.0111826632432264, 1.0132210677120534, 0.058408473963728114, 0.03893898264248541, 0.8079838898315722, 0.08761271094559217, 0.9952971455308686, 1.0167209346270285, 1.0549220460272326, 0.9931258299710257, 1.0925615124217247, 0.027600893970083702, 0.1380044698504185, 0.8280268191025111, 0.9711657888193109, 0.19225789623907105, 0.08095069315329308, 0.060713019864969804, 0.6678432185146679, 0.9286575849183953, 0.05804109905739971, 1.1810137396673503, 1.0005793885999963, 0.9952971455308686, 0.9927086089828535, 1.0000157529379226, 0.9820798564004444, 1.0366398484226913, 0.1514292292167681, 0.06235321203043393, 0.7927765529583742, 0.07660799489529614, 0.1072511928534146, 0.298771180091655, 0.015321598979059228, 0.16087678928012192, 0.33707517753930305, 0.9992456047091286, 0.7400116571740627, 0.792363898928834, 0.05022024711520779, 0.04464021965796248, 0.1171805766021515, 0.04572834115774594, 0.018291336463098377, 0.9328581596180172, 1.0381772516458478, 0.7267240761520936, 1.0083238111123802, 0.998264813883877, 0.9976404992418013, 1.0005119973892902, 0.20071528052342344, 0.8028611220936938, 0.015439636963340265, 0.9992456047091286, 0.9982902355603044, 1.0071097740200257, 0.0270801585795946, 0.1083206343183784, 0.8665650745470272, 1.1810137396673503, 0.9957522644856226, 0.10639760156155338, 0.8929798702487516, 1.0295814360682614, 0.9952971455308686, 0.9862663012612612, 1.3110738149060697, 1.006767046891457, 1.0893438585289594, 1.0028350255890353, 0.9760520972419475, 1.0155533774825098, 1.0027408323917537, 1.0128044698103782, 0.9942500384961728, 0.9684067951010742, 1.004540628156984, 0.11153642610724786, 0.11897218784773106, 0.05948609392386553, 0.19332980525256296, 0.5205033218338234, 0.8714750868231675, 0.9952971455308686, 1.0061504411161415, 0.9774567556701647, 0.028199819754176576, 0.08929942922155916, 0.06579957942641201, 0.30549804733691294, 0.08459945926252974, 0.014099909877088288, 0.37129762676332495, 0.0469996995902943, 0.9931701670688395, 0.008140739074334751, 0.9952286966823494, 0.1145969108632599, 0.6258754362531886, 0.07933632290533378, 0.026445440968444592, 0.15867264581066756, 0.9952971455308686, 0.21903374460669225, 0.7803077151613411, 0.9992870288527779, 0.0010779795349005156, 1.0167209346270287, 1.0471575032909166, 0.9967420923433666, 0.9988428479393976, 0.1267552187747176, 0.10741967692772679, 0.07304538031085421, 0.21913614093256265, 0.10527128338917226, 0.012890361231327214, 0.07519377384940876, 0.07304538031085421, 0.1439423670831539, 0.06445180615663608, 0.9385116319634111, 0.8000304215308871, 0.9894896716272225, 0.9666069261146922, 1.0098357651068965, 0.9972981967028867, 0.7523636158601935, 0.06448830993087373, 0.17196882648232995, 0.9952971455308686, 0.03335945422381065, 0.03335945422381065, 0.9340647182666981, 0.19313713437664243, 0.8076643801205047, 0.9871159615130093, 1.0032148873411524, 0.7000266188395262, 0.041978459289210304, 0.07250824786318144, 0.11448670715239175, 0.7708771614927711, 1.0167209346270287, 0.9977994223622528, 0.0165264564656598, 0.011166524638959324, 0.032159590960202857, 0.010719863653400951, 0.2621899985227649, 0.5109801674787787, 0.039752827714695196, 0.031266268989086105, 0.010719863653400951, 0.07369906261713154, 0.016193501740893283, 0.971610104453597, 1.1091501105022132, 0.997521363576552, 0.23517315052773344, 0.10288825335588338, 0.6614244858592503, 0.7552602766976406, 0.2419765935050693, 0.9964853757129609, 0.26832903388253604, 0.019876224732039708, 0.06956678656213898, 0.06956678656213898, 0.5565342924971118, 0.019876224732039708, 0.1566460575745238, 0.8419725594630655, 0.9917043766893288, 0.9947746688772214, 0.7243640127500378, 0.13062301869262977, 0.14249783857377793, 0.04006931656653762, 0.961663597596903, 0.9960652774008933, 0.908340118766126, 0.08257637443328418, 1.0054528100516158, 0.5775687188279139, 0.04125490848770814, 0.13407845258505144, 0.2475294509262488, 0.2192709658735131, 0.7787899822404086, 0.9548537511923391, 0.22751207947727076, 0.7762176829224532, 1.0242764178953672, 0.9865493766531428, 1.0381772516458478, 0.1795210490775807, 0.20903135851499122, 0.09180985158305496, 0.339368558530221, 0.09344931321846667, 0.07131658114040877, 0.01557488553641111, 0.2560164526610288, 0.05036389232675976, 0.2937893719060986, 0.21824353341595895, 0.18047061417088914, 0.9680143649783051, 0.03669244674668091, 0.9723498387870441, 1.1810137396673503, 1.0075251553855826, 0.9978204380799597, 0.021952126662350233, 0.43904253324700465, 0.043904253324700465, 0.4445305649125922, 0.05488031665587558, 1.0168092758367895, 0.05673402678591502, 0.03782268452394335, 0.576795938990136, 0.27421446279858924, 0.05673402678591502, 0.9211390661878259, 0.07806263272778186, 0.7400116571740627, 1.021792940810433, 0.9660237000740783, 1.0058614819033147, 1.0020855873090977, 1.0058410874210562, 0.986682209565417, 1.0167209346270287, 0.9864783362230957, 0.04717386601571543, 0.07413036088183853, 0.10108685574796163, 0.10445641760622702, 0.14826072176367705, 0.01347824743306155, 0.2763040723777618, 0.09434773203143086, 0.12467378875581935, 0.020217371149592326, 0.9925275144472577, 1.01264753086977, 0.010428751701816032, 0.013905002269088043, 0.945540154297987, 0.027810004538176086, 1.0005224663455534, 0.9952286966823494, 0.7267240761520936, 0.23406077944595183, 0.1408331808530727, 0.08727690081035491, 0.07537550524530652, 0.17852093347572598, 0.03372062076763713, 0.12496465343300818, 0.12298108750550012, 0.0805710946380956, 0.743044539440215, 0.17009453312486847, 0.8300668181871261, 0.17027011655120536, 0.9818555173333614, 0.9831293647073752, 0.9927560904327839, 0.21317483820183897, 0.6896833000647731, 0.0877778745536984, 0.07529787414304438, 0.07529787414304438, 0.8583957652307059, 0.01571013442300653, 0.03784714201906119, 0.1928061951914438, 0.7512300642274032, 0.002142291057682709, 1.0058410874210562, 1.0167209346270287, 0.322956346874809, 0.025118826979151812, 0.599263443645479, 0.05382605781246817, 1.0000134500317837, 0.9680143649783051, 1.0137102679045016, 0.9991717905848495, 0.1249966385442791, 0.020832773090713186, 0.6944257696904395, 0.1666621847257055, 0.02392186043372851, 0.39471069715652046, 0.5741246504094843, 0.11576737274576608, 0.8682552955932457, 0.9957739185281714, 1.0098357651068965, 1.0020993778296539, 0.015836015653852793, 0.1377733361885193, 0.0380064375692467, 0.004750804696155838, 0.02850482817693503, 0.28504828176935026, 0.0918488907923462, 0.13618973462313402, 0.26287785985395634, 0.0922377620088048, 0.8993181795858469, 0.7181836157371887, 0.19028796656284488, 0.06547542935495738, 0.026599393175451434, 0.9884571516781083, 0.3266393637954948, 0.553472255320144, 0.11795310359281758, 0.9943508793330778, 0.9841781163894586, 1.0052456867082398, 0.05410036989727668, 0.22413010386014623, 0.33619515579021936, 0.18935129464046838, 0.06569330630383596, 0.05410036989727668, 0.050236057761756915, 0.019321560677598815, 0.9961078739762383, 0.9964513403531934, 0.47986498308050185, 0.40877387447598307, 0.10663666290677819, 0.004443194287782425, 0.9797456276319487, 0.986682209565417, 1.0218307077309385, 1.0517802772003746, 0.968014364978305, 0.31533904574500043, 0.033285788161972266, 0.19095531103447247, 0.019270719462194472, 0.04905274044922229, 0.22424109919644475, 0.13139126906041684, 0.038541438924388945, 1.1810137396673503, 1.0098357651068965, 0.9866822095654171, 0.9952971455308686, 0.9364812963614785, 0.11782595493711655, 0.11782595493711655, 0.014728244367139568, 0.751140462724118, 1.0053495124633705, 1.0188559491479188, 0.8178683305643742, 1.0392658288889578, 1.1759039107692217, 1.0366398484226913, 0.06157502998356241, 0.9544129647452173, 0.1752000420712793, 0.1444216563020005, 0.06392433967465595, 0.1444216563020005, 0.009470272544393475, 0.4119568556811162, 0.004735136272196737, 0.047351362721967376, 0.10219452951708828, 0.04163480832177671, 0.11733445981591618, 0.12490442496533012, 0.5374675256083903, 0.04541979089648368, 0.037849825747069736, 1.0039754438469903, 0.31153846874058383, 0.0035809019395469403, 0.08594164654912657, 0.10026525430731432, 0.06087533297229799, 0.3974801152897104, 0.04297082327456329, 1.0381772516458478, 0.04084379557110048, 0.9802510937064115, 0.8819279330769162, 0.9943305127827978, 1.0583135196922995, 1.0366398484226913, 1.003199853312282, 0.9981447456209369, 0.8368494373469247, 0.15832286652509386, 0.6196472695748219, 0.38256483599836827, 1.1759039107692217, 0.9680143649783051, 0.016481511264794326, 0.13734592720661937, 0.08790139341223639, 0.219753483530591, 0.16481511264794324, 0.33512406238415127, 0.038456859617853424, 1.0087410999245774, 0.998408980841792, 1.0007692857610397, 0.08026157811551807, 0.0849828474164309, 0.11803173252282069, 0.06609777021277959, 0.302161235258421, 0.2030145799392516, 0.06137650091186676, 0.08026157811551807, 0.11691668130006819, 0.32569646933590424, 0.5595298319360406, 0.9868173777262337, 0.9899651205578963, 0.06864368885315197, 0.11088595891663013, 0.06864368885315197, 0.05280283757934768, 0.07392397261108674, 0.06864368885315197, 0.058083121337282446, 0.06864368885315197, 0.37490014681336853, 0.04752255382141291, 0.8000304215308871, 0.995113428793786, 1.004451713032876, 0.9975561635154879, 1.015257425328073, 0.9486335975246603, 0.9992406348163146, 0.9808419193847485, 0.3242508333083227, 0.6741004166146709, 0.10736662504172041, 0.06832421593564027, 0.14640903414780057, 0.5856361365912023, 0.10736662504172041, 0.8714750868231675, 0.9351839789846905, 0.07334776305762279, 0.9952286966823494, 0.9892894059668391, 0.22271068682561582, 0.005860807548042521, 0.21098907172953077, 0.5450551019679545, 0.017582422644127564, 0.9920515413205743, 0.3182948412521269, 0.19631358472436572, 0.10292168519529853, 0.15628848492619407, 0.22680889885630603, 1.001394170667212, 1.0925615124217247, 1.2200651215524343, 1.0068822147028045, 0.026021344045371254, 0.7806403213611376, 0.11709604820417063, 0.07806403213611376, 0.0679315214862617, 0.1358630429725234, 0.7966514792479782, 0.054492186412972474, 0.9445312311581895, 0.9680143649783051, 0.8935517215184354, 0.07599788877251706, 0.1836615645335829, 0.7409794155320414, 0.01472088278676418, 0.19137147622793435, 0.7949276704852657, 0.9952286966823495, 0.09491111971092617, 0.892164525282706, 0.018982223942185232, 0.032549195076316546, 0.9439266572131799, 0.9981890839625156, 0.998473589047494, 0.9944645252607596, 0.9839431541290359, 0.015743090466064574, 0.6620059947194249, 0.3368100674888302, 0.3109359249829363, 0.07175444422683146, 0.5979537018902622, 0.023918148075610487, 1.0063515675517034, 0.13155900573297066, 0.8039717017014875, 0.06577950286648533, 0.15760437362370358, 0.16303900719693473, 0.6738945630806636, 1.0020722639601758, 1.0162132562203152, 1.009171266704929, 0.3334556380022896, 0.02470041762979923, 0.1512900579825203, 0.10188922272292182, 0.043225730852148654, 0.06792614848194788, 0.09880167051919692, 0.14511495357507048, 0.030875522037249036, 0.989519855312569, 1.0093407062337356, 0.9909873765710366, 0.9873746522778711, 0.9980889403118381, 0.030966326971211555, 0.5057833405297887, 0.1273060108816475, 0.05505124794882054, 0.08601757492003209, 0.05505124794882054, 0.14106882286885264, 1.5549597726340367, 1.0066071760792297, 1.0005791420945076, 0.9333688251193683, 0.9833053611795521, 0.9883284300723258, 0.8178683305643742, 0.9934884272145761, 1.0050349749951704, 0.11846693710937671, 0.09477354968750136, 0.02369338742187534, 0.7818817849218863, 0.9974644182479715, 0.9873746522778711, 1.057159510248661, 0.9954271830527827, 1.0016289161913114, 0.9410679878133043, 0.0607140637298906, 1.0111826632432264, 1.3110738149060697, 1.045062002807412, 0.9883284300723258, 0.9045414698224782, 1.0076426265974405, 0.9952971455308686, 0.6053246569055153, 0.11159616579822348, 0.28406296748638704, 1.0067349395774372, 0.0334272112800683, 0.41226893912084234, 0.4178401410008537, 0.1337088451202732, 0.09545942886205896, 0.42956742987926533, 0.14716661949567422, 0.07159457164654422, 0.19489633392670372, 0.06363961924137264, 1.0043015347362279, 0.07129510392603156, 0.9268363510384102, 1.0471575032909166, 1.0124186936470345, 0.997521363576552, 0.06034440857991769, 0.573271881509218, 0.36810089233749793, 0.910467927018104, 0.979919925641018, 0.942441752961825, 0.18261479489785598, 0.8134659045449948, 0.11984833529035116, 0.20322109027494326, 0.03647558030575905, 0.2970154396326094, 0.08337275498459211, 0.26053985932685036, 0.0749174692296629, 0.05618810192224718, 0.06956622142754412, 0.10702495604237558, 0.08026871703178169, 0.583286010430947, 0.016053743406356336, 0.010702495604237559, 0.08121113184624808, 0.3938739894543032, 0.3004811878311179, 0.16242226369249615, 0.06293862718084227, 0.8131145121639944, 0.03999879462696085, 0.9599710710470604, 0.9833053611795524, 0.9531758762128394, 0.9996877627576957, 0.9925275144472577, 0.04119445109821763, 0.9886668263572231, 0.7267240761520936, 0.11544163498755061, 0.06075875525660559, 0.5711322994120925, 0.042531128679623914, 0.12151751051321118, 0.09113813288490838, 1.1780521912022812, 0.07777832721105096, 0.05384653422303528, 0.8675274958155684, 0.1436112194300505, 0.031913604317789, 0.5664664766407548, 0.15158962050949776, 0.1116976151122615, 0.9736602510628062, 1.1024099163461454, 0.9952971455308686, 1.0335778049743636, 1.0176601088320176, 0.9798039914277274, 1.011048623867092, 0.8197792235281842, 0.16233251951053151, 0.02434987792657973, 0.9486335975246603, 1.0471575032909166, 0.06383584872012817, 0.2698515423169054, 0.3336873910370336, 0.0058032589745571055, 0.05222933077101395, 0.2756548012914625, 1.1810137396673503, 0.9883284300723258, 0.02437272496253338, 0.5849453991008011, 0.3899635994005341, 1.0168092758367895, 0.2094468772180701, 0.08599805554649236, 0.30792852147292427, 0.06241794354180897, 0.041611962361205984, 0.01664478494448239, 0.27463895158395946, 1.0223354132054678, 0.1001903822805527, 0.4161754340884497, 0.28515724187541924, 0.18496685959486653, 0.015413904966238878, 0.18432209322233048, 0.7798242405560136, 0.04253586766669165, 0.9765592006738796, 1.0013155572052326, 1.0087410999245774, 1.001022836354815, 0.9781265977925201, 0.03364256162381622, 0.6392086708525082, 0.17662344852503517, 0.06307980304465542, 0.08831172426251759, 0.9798039914277274, 0.9239625029037499, 1.014104199543937, 0.9996169966933095, 1.0471575032909166, 1.0199586071015423, 0.9924428013927461, 0.11049716838476878, 0.08594224207704237, 0.061387315769315984, 0.15346828942328997, 0.4849597945775963, 0.10435843680783717, 1.0299082681181007, 1.0167209346270287, 0.9486335975246604, 0.9554852597096337, 0.17111885213312308, 0.09136006512192164, 0.001450159763840026, 0.1943214083545635, 0.4727520830118485, 0.06815750890048122, 0.9952971455308686, 0.24194405850077924, 0.7488744667881262, 0.011521145642894248, 1.0167209346270287, 0.06437380431528716, 0.15288778524880703, 0.05632707877587627, 0.0502920346213181, 0.05330955669859719, 0.3017522077279086, 0.027157698695511774, 0.09354318439565167, 0.07242052985469806, 0.0714146891622717, 0.042245309081907205, 0.014081769693969067, 0.8819279330769162, 1.0008346700234814, 0.9903795004686138, 0.06317236693602672, 0.7264822197643074, 0.12634473387205344, 0.01579309173400668, 0.0789654586700334, 1.0066071760792297, 0.9985699470300606, 1.0079176378021901, 0.9959146052591366, 0.9756610338095918, 0.22100350857779347, 0.7735122800222772, 0.971849857896273, 1.0066071760792297, 0.9952971455308686, 0.13584663396194596, 0.842249130564065, 0.5876296579314745, 0.08093103073307732, 0.07389354979976626, 0.021112442799933216, 0.20408694706602107, 0.031668664199899825, 0.957774693145559, 0.04454766014630507, 1.0015147197199143, 0.9955934134606593, 1.0054927797876831, 0.9994480339773766, 0.014419900292015715, 0.05767960116806286, 0.014419900292015715, 0.557569477957941, 0.11535920233612572, 0.24033167153359525, 0.4872007603482512, 0.03217363511733735, 0.188445577115833, 0.11030960611658519, 0.1286945404693494, 0.055154803058292595, 0.6383382400406421, 0.2590358075527243, 0.04625639420584363, 0.05550767304701236, 1.2565890039491, 0.051669540269249525, 0.038752155201937144, 0.9042169547118667, 0.011224286253320278, 0.0033672858759960836, 0.03142800150929678, 0.05724385989193342, 0.02581585838263664, 0.8160056106163842, 0.05612143126660139, 0.9244154866278264, 0.06883945113185941, 1.1810137396673503, 1.6357366611287485, 0.9841781163894586, 0.016770019920162665, 0.9726611553694346, 0.986682209565417, 1.00810465552002, 0.028435434898681493, 0.018956956599120996, 0.06003036256388315, 0.6634934809692349, 0.2306429719559721, 0.9094669772631199, 0.09645861880063393, 0.7292709646522607, 0.1902445994745028, 0.03623706656657196, 0.04529633320821495, 0.9952971455308686, 0.9122929719588202, 0.9799199256410182, 0.08191146469116238, 0.08191146469116238, 0.8395925130844145, 1.002072263960176, 0.2089486088111705, 0.15671145660837787, 0.6268458264335115, 0.7043791247819552, 0.11406949389181462, 0.03136911082024902, 0.15114207940665436, 0.9917402798209773, 0.9385116319634111, 1.00087747014959, 0.9866822095654171, 0.997739088920704, 1.0299082681181007, 0.6842197289691152, 0.9909873765710367, 1.0125319449710009, 1.0242764178953672, 0.8939139647086839, 0.8783113871536581, 0.12386442639346461, 1.0295257745487991, 1.0095133946331476, 1.0392658288889578, 0.1726165194493749, 0.8285592933569995, 0.013326245996975182, 0.9861422037761635, 0.8714750868231675, 0.1374837752969364, 0.7790747266826397, 0.0801988689232129, 0.8453125245715842, 0.15463033986065566, 1.5549597726340367, 1.0015147197199143, 1.0021908330419504, 0.9948704436696942, 0.979532628600097, 0.015798913364517695, 0.1123466824473588, 0.8858103808349445, 0.761640582059097, 0.04104649843432259, 0.19839140909922587, 0.9909873765710367, 1.0012998535900997, 0.9879734240500225, 1.0148158516137926, 1.2200651215524343, 0.6842197289691152, 0.10931339059560138, 0.8380693278996105, 0.05465669529780069, 0.6417866803712381, 0.057302382176003405, 0.17572730533974376, 0.095503970293339, 0.03438142930560204, 0.0012919761562835068, 0.10723402097153106, 0.24676744585014979, 0.04521916546992274, 0.1537451625977373, 0.029715451594520655, 0.18346061419225795, 0.05038707009505677, 0.18087666187969095, 1.0900861142281402, 0.16557163542373587, 0.046206037792670476, 0.04043028306858667, 0.28108672990541206, 0.19445040904415495, 0.15594537755026286, 0.07315955983839492, 0.023103018896335238, 0.021177767321640638, 0.9862032449513796, 0.015184870106557051, 0.07788368861105067, 0.8400662010563014, 0.06367848754362634, 0.0034288416369644952, 0.2393601952086588, 0.06528005323872513, 0.0522240425909801, 0.6049284933455196, 0.03481602839398674, 1.0005791420945076, 0.9926985645017915, 1.0167209346270287, 0.9920515413205743, 1.0064158537567254, 1.0015195360250475, 0.21542086740289196, 0.0060681934479687874, 0.10164224025347719, 0.3322335912762911, 0.12439796568336015, 0.05916488611769568, 0.12439796568336015, 0.034892112325820526, 0.968965434869458, 0.8194211343162937, 0.9952971455308686], \"Term\": [\"-andy\", \"/_/_/\", \"/_/_/_/\", \"/pub\", \"14.4k\", \"18th\", \"1993e\", \"256_color\", \"386sx\", \"3d\", \"408_241\", \"55_mph\", \"560i\", \"60ns\", \"72_pin\", \"\\\\\\\\\", \"^^^\", \"a.j\", \"abridge\", \"ac\", \"accept\", \"accept\", \"accept\", \"accept\", \"accept\", \"access\", \"access\", \"access\", \"access\", \"adapter\", \"adcom\", \"adjacent\", \"administration\", \"adult\", \"advance\", \"advance\", \"advance\", \"advance\", \"advance\", \"advocate\", \"afraid\", \"age\", \"age\", \"age\", \"age\", \"agency\", \"agency\", \"agency\", \"agree\", \"agree\", \"agree\", \"aids\", \"air\", \"air\", \"album\", \"algorithm\", \"algorithm\", \"alink\", \"alive\", \"allocation_error\", \"ama\", \"ambition\", \"amend\", \"american\", \"american\", \"american\", \"american\", \"americans\", \"americans\", \"amp\", \"andy_freeman\", \"anger\", \"angle\", \"annoyed\", \"anonymity\", \"anonymous\", \"anonymous_ftp\", \"antenna\", \"anyone_else\", \"anyone_else\", \"apartment\", \"app\", \"apple\", \"apple\", \"application\", \"application\", \"application\", \"application\", \"application\", \"apr_1993\", \"apr_93\", \"apr_93\", \"april\", \"april\", \"april\", \"april\", \"april\", \"arab\", \"arabs\", \"argic\", \"argument\", \"argument\", \"argument\", \"argument\", \"armenia\", \"armenia\", \"armenian\", \"armenian\", \"armenians\", \"armenians\", \"army\", \"army\", \"arrogance\", \"article\", \"article\", \"article\", \"article\", \"article\", \"article\", \"ascii\", \"assault\", \"assault\", \"assualt\", \"assumption\", \"asumption\", \"at_least\", \"at_least\", \"at_least\", \"at_least\", \"at_least\", \"at_least\", \"at_least\", \"at_least\", \"atf\", \"atheism\", \"atheist\", \"ati\", \"atmosphere\", \"attack\", \"attack\", \"attack\", \"attack\", \"attorney\", \"attractive\", \"audio\", \"awe\", \"awful\", \"azerbaijani\", \"b'varsha\", \"bad\", \"bad\", \"bad\", \"bad\", \"bad\", \"ban\", \"bandwidth\", \"baptism\", \"bartlett\", \"baseball\", \"bashing\", \"basically\", \"basically\", \"batf\", \"battery\", \"bay_area\", \"beaupre\", \"bed\", \"beezer\", \"belief\", \"bible\", \"bike\", \"biker\", \"bill\", \"bill\", \"bill\", \"bill\", \"billion\", \"binary\", \"bio\", \"bird\", \"bit\", \"bit\", \"bit\", \"bit\", \"bit\", \"blackhawk\", \"blood\", \"blood\", \"blood\", \"bmw\", \"bo\", \"board\", \"board\", \"board\", \"book\", \"book\", \"book\", \"book\", \"book\", \"book\", \"book\", \"boston\", \"bother\", \"bother\", \"box\", \"box\", \"box\", \"box\", \"brain\", \"brain\", \"brain_damage\", \"brake\", \"brave\", \"brian_kendig\", \"bring\", \"bring\", \"bring\", \"bringwindowtotop\", \"british\", \"brookline\", \"bruin\", \"brunel_university\", \"btw\", \"buckminster\", \"budget\", \"buffalo\", \"build\", \"build\", \"build\", \"build\", \"build\", \"build\", \"build\", \"building\", \"buntan-1\", \"burn\", \"bush\", \"business\", \"business\", \"business\", \"business\", \"butane\", \"buy\", \"buy\", \"buy\", \"buy\", \"buy\", \"c++\", \"c_compiler\", \"cable\", \"cable\", \"cache\", \"cackle\", \"cage\", \"cake\", \"cal\", \"calgary\", \"caltech\", \"campbell\", \"campbell_conference\", \"canadien\", \"cancer\", \"canuck\", \"car\", \"car\", \"card\", \"care\", \"care\", \"care\", \"care\", \"carl_ellison\", \"carry\", \"carry\", \"carry\", \"carry\", \"carry\", \"carry\", \"carson\", \"case\", \"case\", \"case\", \"case\", \"case\", \"case\", \"case\", \"case\", \"case_western\", \"catholic\", \"cemetery\", \"center\", \"center\", \"center\", \"center\", \"center\", \"center\", \"center\", \"center\", \"champion\", \"change\", \"change\", \"change\", \"change\", \"change\", \"change\", \"change\", \"change\", \"change\", \"change\", \"channel\", \"channel\", \"cheek\", \"cheema\", \"chemical\", \"chen\", \"chhabra\", \"chicago\", \"chicago\", \"chicago\", \"chicago\", \"child\", \"child\", \"child\", \"child\", \"child\", \"child(t\", \"chip\", \"chip\", \"christ\", \"christian\", \"christian\", \"christianity\", \"christians\", \"church\", \"church\", \"cinsider\", \"circuit\", \"civil_right\", \"claim\", \"claim\", \"claim\", \"claim\", \"clayton\", \"clayton_cramer\", \"cleveland\", \"cleveland\", \"clever\", \"client\", \"clinton\", \"clipper\", \"clipper_chip\", \"clippingdale\", \"clock\", \"clue\", \"clutch\", \"coat\", \"code\", \"code\", \"code\", \"code\", \"code\", \"coffey\", \"college\", \"college\", \"college\", \"color\", \"color\", \"coma\", \"comb\", \"comet\", \"comic_strip\", \"committee\", \"committee\", \"communication\", \"communicator\", \"comp\", \"company\", \"company\", \"company\", \"company\", \"company\", \"company\", \"compartment\", \"compel\", \"compile\", \"complain\", \"complain\", \"complain\", \"compound\", \"compound\", \"compressed\", \"computer\", \"computer\", \"computer\", \"computer\", \"computer_science\", \"confess\", \"congress\", \"connect\", \"connect\", \"connect\", \"contempt\", \"contest\", \"contrib\", \"controller\", \"cool\", \"cool\", \"cooling_tower\", \"cop\", \"copy\", \"copy\", \"copy\", \"copy\", \"copy\", \"copy\", \"corner\", \"corner\", \"corruption\", \"country\", \"country\", \"country\", \"court\", \"cpu\", \"crc\", \"crime\", \"crime\", \"criminal\", \"criminal\", \"criminal\", \"criminal\", \"criticize\", \"crowd\", \"cruel\", \"cry\", \"crypto\", \"cryptography\", \"cure\", \"current\", \"current\", \"current\", \"current\", \"current\", \"current\", \"curse\", \"curtin\", \"cute\", \"dangerous\", \"dangerous\", \"dangerous\", \"dartmouth\", \"dartmouth_college\", \"datum\", \"datum\", \"datum\", \"datum\", \"david\", \"david\", \"david\", \"david\", \"day\", \"day\", \"day\", \"day\", \"day\", \"dayton\", \"db\", \"dd\", \"dead\", \"dead\", \"dealer\", \"dealer\", \"decision\", \"decision\", \"declination\", \"decrease\", \"deficit\", \"definition\", \"definition\", \"definition\", \"defrag\", \"delete\", \"delete\", \"delete\", \"democracy\", \"dennis\", \"dennis\", \"dennis\", \"dept\", \"dept\", \"dept\", \"des\", \"design\", \"design\", \"design\", \"design\", \"design\", \"det\", \"detect\", \"detector\", \"deter\", \"detroit\", \"devide\", \"devil\", \"diet\", \"directory\", \"disapproval\", \"disclaimer\", \"disclaimer\", \"disclaimer\", \"disease\", \"disk\", \"disk\", \"disk\", \"display\", \"display\", \"dissimilar\", \"distribution\", \"distribution\", \"distribution\", \"distribution\", \"distribution\", \"distribution\", \"distribution\", \"division\", \"division\", \"division\", \"divorce\", \"dma\", \"doctor\", \"doctor\", \"doctrine\", \"dod\", \"dog\", \"dog\", \"dog\", \"dompselaar\", \"don_baldwin\", \"dpi\", \"dr\", \"dr\", \"dr\", \"dr\", \"dr\", \"drive\", \"drive\", \"drive\", \"driver\", \"driver\", \"driving\", \"drug\", \"drug\", \"dsg\", \"duke_university\", \"dumb\", \"dumb\", \"durham\", \"ear\", \"earth\", \"earth\", \"earth\", \"eat\", \"eat\", \"economic\", \"economy\", \"edge\", \"edge\", \"education\", \"education\", \"effect\", \"effect\", \"effect\", \"effect\", \"effect\", \"elec\", \"electric\", \"electrical\", \"email\", \"email\", \"encrypt\", \"encrypted\", \"encryption\", \"eng\", \"engine\", \"engineering\", \"engineering\", \"enlighten\", \"enrich\", \"entitle\", \"entry\", \"entry\", \"ericsson\", \"escape\", \"escape\", \"escape\", \"escrow\", \"evangelical\", \"evaporation\", \"evidence\", \"evidence\", \"evidence\", \"evidence\", \"exist\", \"exist\", \"exist\", \"exist\", \"exist\", \"exist\", \"existence\", \"existence\", \"expansion_ii\", \"eye\", \"face\", \"fact\", \"fact\", \"fact\", \"fact\", \"fact\", \"fact\", \"fact\", \"fact\", \"faith\", \"fan\", \"fan\", \"fantasy\", \"fast\", \"fast\", \"fast\", \"fast\", \"fast\", \"fax\", \"fax\", \"fax\", \"fax\", \"fbi\", \"fbi\", \"feminism\", \"feminist\", \"file\", \"file\", \"find\", \"find\", \"find\", \"find\", \"find\", \"find\", \"find\", \"find\", \"find\", \"find\", \"fire\", \"fire\", \"fire\", \"firearm\", \"firearms\", \"flight\", \"flight\", \"floppy\", \"flyby\", \"flyer\", \"folk\", \"folk\", \"folk\", \"follow\", \"follow\", \"follow\", \"follow\", \"follow\", \"follow\", \"follow\", \"follow\", \"follow\", \"followup\", \"font\", \"food\", \"food\", \"food\", \"force\", \"force\", \"force\", \"force\", \"force\", \"force\", \"forces\", \"ford\", \"format\", \"format\", \"fpu\", \"fred\", \"fred\", \"free\", \"free\", \"free\", \"free\", \"free\", \"free\", \"free\", \"ftp\", \"fuhr\", \"function\", \"function\", \"function\", \"fund\", \"funny\", \"funny\", \"g)r\", \"g9v\", \"game\", \"gang_member\", \"gary_robert\", \"gate\", \"gateway_2000\", \"gay\", \"gay\", \"gear\", \"genocide\", \"geoffrey\", \"german\", \"gif\", \"gilmour\", \"girl\", \"girl\", \"giz\", \"glock\", \"gm\", \"gmt\", \"gmt\", \"gmt\", \"goal\", \"goal\", \"goal\", \"goalie\", \"goalie_mask\", \"god\", \"golf\", \"good\", \"good\", \"good\", \"good\", \"good\", \"good\", \"good\", \"good\", \"good\", \"good\", \"goodson\", \"gordon_banks\", \"government\", \"government\", \"government\", \"grant\", \"grant\", \"grant\", \"grant\", \"graphic\", \"graphic\", \"great\", \"great\", \"great\", \"great\", \"great\", \"great\", \"great\", \"great\", \"greece\", \"greek\", \"greek\", \"greeks\", \"greenbelt\", \"gregg\", \"gregory\", \"grenade\", \"gross\", \"grossly\", \"ground\", \"ground\", \"ground\", \"ground\", \"ground\", \"group\", \"group\", \"group\", \"group\", \"group\", \"group\", \"group\", \"group\", \"guess\", \"guess\", \"guideline\", \"guideline\", \"gun\", \"gun_control\", \"h._pimentel\", \"had_hope\", \"hair\", \"hajj\", \"hampton\", \"hand\", \"hand\", \"hand\", \"hand\", \"hand\", \"hand\", \"hand\", \"handgun\", \"happen\", \"happen\", \"happen\", \"hard_disk\", \"hard_drive\", \"harley\", \"hateful\", \"hd\", \"head\", \"head\", \"head\", \"head\", \"head\", \"head\", \"headache\", \"health\", \"health_care\", \"health_insurance\", \"hear\", \"hear\", \"hear\", \"heat\", \"heat\", \"heaven\", \"heaven\", \"helmet\", \"henrik\", \"het\", \"high\", \"high\", \"high\", \"high\", \"high\", \"high\", \"high\", \"high\", \"hiking\", \"history\", \"history\", \"history\", \"history\", \"history\", \"hit\", \"hit\", \"hit\", \"hitler\", \"hiv\", \"hockey\", \"hole\", \"hole\", \"hole\", \"holiday\", \"home\", \"home\", \"home\", \"home\", \"home\", \"homicide\", \"homosexuality\", \"honda\", \"horn\", \"host\", \"host\", \"hot\", \"hst\", \"human\", \"human\", \"human\", \"human\", \"human\", \"husband\", \"ia\", \"iau\", \"ibm\", \"ibm\", \"icmp\", \"ide\", \"idea\", \"idea\", \"idea\", \"idea\", \"idea\", \"idea\", \"illegal\", \"illegal\", \"illinois\", \"illinois\", \"illogic\", \"image\", \"image\", \"image_processe\", \"implimentation\", \"impossibility\", \"include\", \"include\", \"include\", \"include\", \"include\", \"include\", \"include\", \"include\", \"include\", \"increase\", \"increase\", \"infection\", \"infinity\", \"information\", \"information\", \"information\", \"information\", \"information\", \"information\", \"information\", \"ink\", \"intellect\", \"interest\", \"interest\", \"interest\", \"interleaf\", \"internet\", \"internet\", \"intersection\", \"investment\", \"isa\", \"islam\", \"islam\", \"israel\", \"israeli\", \"israelis\", \"issue\", \"issue\", \"issue\", \"issue\", \"issue\", \"issue\", \"jason_kratz\", \"jerry\", \"jerusalem\", \"jesus\", \"jewish\", \"jewish\", \"jews\", \"jim\", \"jim\", \"jim\", \"jim\", \"job\", \"job\", \"job\", \"job\", \"john_r\", \"joke\", \"joke\", \"jordanian\", \"joshua\", \"jpeg\", \"judas\", \"judge\", \"judge\", \"jumper\", \"justice\", \"justice\", \"justice\", \"karina\", \"kd1nr\", \"keith_keller\", \"kenneth\", \"kenneth\", \"key\", \"key\", \"keyword\", \"keyword\", \"keyword\", \"keyword\", \"keyword\", \"keyword\", \"kid\", \"kid\", \"kill\", \"kill\", \"kill\", \"kinsey\", \"koresh\", \"kratz\", \"ksand_--\", \"la\", \"labor\", \"lamp\", \"land\", \"land\", \"land\", \"land\", \"lane\", \"last_year\", \"last_year\", \"last_year\", \"last_year\", \"launch\", \"law\", \"law\", \"law\", \"league\", \"leave\", \"leave\", \"leave\", \"leave\", \"leave\", \"leave\", \"lebanon\", \"legal\", \"legal\", \"legal\", \"leigh\", \"libertarian\", \"library\", \"library\", \"library\", \"license\", \"license\", \"license\", \"life\", \"life\", \"life\", \"life\", \"life\", \"light\", \"light\", \"light\", \"light\", \"line\", \"line\", \"line\", \"line\", \"line\", \"line\", \"line\", \"line\", \"line\", \"linn\", \"list\", \"list\", \"list\", \"list\", \"list\", \"list\", \"list\", \"list\", \"list\", \"literature\", \"live\", \"live\", \"live\", \"live\", \"live\", \"lobbyist\", \"lock\", \"lock\", \"lock\", \"lock\", \"lock\", \"long\", \"long\", \"long\", \"long\", \"long\", \"long\", \"long\", \"long\", \"lord\", \"lord\", \"lose\", \"lose\", \"lose\", \"lose\", \"lose\", \"lose\", \"lot\", \"lot\", \"lot\", \"lot\", \"lot\", \"lot\", \"lot\", \"lotsa\", \"lousy\", \"love\", \"love\", \"love\", \"love\", \"love\", \"low\", \"low\", \"low\", \"low\", \"low\", \"lunar\", \"lyuda\", \"mac\", \"mac\", \"machine\", \"machine\", \"machine\", \"mackie\", \"mackinnon\", \"macuser\", \"mail\", \"mail\", \"mail\", \"mail\", \"mail\", \"make\", \"make\", \"make\", \"make\", \"make\", \"make\", \"make\", \"make\", \"male\", \"male\", \"mamma\", \"man\", \"man\", \"man\", \"man\", \"man\", \"manually\", \"marc\", \"marc\", \"marcus\", \"mark_wilson\", \"marriage\", \"mary\", \"massacre\", \"maximus\", \"mb\", \"mccall\", \"md_usa\", \"meat\", \"mecca\", \"mechanic\", \"medical\", \"medicine\", \"meeting\", \"meg\", \"memory\", \"memory\", \"message\", \"message\", \"message\", \"message\", \"message\", \"messiah\", \"meter\", \"methodology\", \"mhz\", \"michael\", \"michael\", \"michael\", \"michael\", \"michael_a\", \"michigan\", \"midi\", \"migraine\", \"milage\", \"mile\", \"mile\", \"mile\", \"mileage\", \"military\", \"military\", \"military\", \"military\", \"militia\", \"militia\", \"mindset\", \"minnesota\", \"misc.kid\", \"mission\", \"mit\", \"mm\", \"mobil\", \"mode\", \"mode\", \"mode\", \"model\", \"model\", \"model\", \"model\", \"model\", \"model\", \"modem\", \"modula-2\", \"money\", \"money\", \"money\", \"money\", \"monitor\", \"monitor\", \"monitor\", \"mono\", \"monthian\", \"montreal\", \"moon\", \"moral\", \"morality\", \"mother\", \"mother\", \"mother\", \"motherboard\", \"motif\", \"motorcycle\", \"mouse\", \"mouse\", \"mouse\", \"mouth_shut\", \"mph\", \"mr\", \"mr\", \"msdo\", \"msfc\", \"msg\", \"muffler\", \"myers\", \"n.c\", \"nasa\", \"nasa_langley\", \"navy\", \"nazi\", \"nazis\", \"nc\", \"neck\", \"neighbor\", \"net\", \"net\", \"net\", \"net\", \"net\", \"netnew\", \"neurosurgery\", \"neutral\", \"new_brunswick\", \"news\", \"news\", \"news\", \"news\", \"news\", \"news\", \"news\", \"news\", \"newsreader\", \"newsreader\", \"nhl\", \"nice\", \"nice\", \"nice\", \"nice\", \"nice\", \"nickname\", \"night\", \"night\", \"nntp\", \"nntp\", \"novitskey\", \"nozyk\", \"nra\", \"nsa\", \"number\", \"number\", \"number\", \"number\", \"number\", \"number\", \"number\", \"number\", \"number\", \"number\", \"nuntius\", \"nysernet\", \"o&o\", \"o'clock\", \"objective_morality\", \"occupy\", \"official\", \"official\", \"official\", \"offload\", \"ohio\", \"ohio\", \"ohio\", \"oil\", \"oil\", \"oname\", \"once_tappe\", \"onward\", \"opinion\", \"opinion\", \"opinion\", \"opinion\", \"opinions_expressed\", \"orbit\", \"organization\", \"organization\", \"organization\", \"organization\", \"organization\", \"organization\", \"organization\", \"organization\", \"organization\", \"organization\", \"originator\", \"originator\", \"orion\", \"outlet\", \"owner\", \"owner\", \"owner\", \"package\", \"package\", \"pad\", \"page\", \"page\", \"page\", \"page\", \"page\", \"page\", \"pain\", \"pain\", \"palestine\", \"palestinian\", \"party\", \"party\", \"party\", \"pasadena\", \"pasadena\", \"passage\", \"pat\", \"pat\", \"patient\", \"pay\", \"pay\", \"pay\", \"pay\", \"pc\", \"pc\", \"pd\", \"peace\", \"peace\", \"peg\", \"pen\", \"pentium\", \"people\", \"people\", \"people\", \"people\", \"people\", \"people\", \"people\", \"person\", \"person\", \"person\", \"person\", \"person\", \"personalize\", \"personally\", \"personally\", \"peter_trei\", \"pgp\", \"philadelphia\", \"phone\", \"phone\", \"phone\", \"phone\", \"phone\", \"physician\", \"pick\", \"pick\", \"pick\", \"pick\", \"pick\", \"pin\", \"pin\", \"ping\", \"pioneer\", \"piss\", \"pitch\", \"pittsburgh\", \"pixel\", \"pixmap\", \"pl6\", \"pl9\", \"place\", \"place\", \"place\", \"place\", \"place\", \"place\", \"place\", \"place\", \"place\", \"place\", \"plastic\", \"platform\", \"play\", \"play\", \"play\", \"play\", \"player\", \"playoff\", \"plunk\", \"point\", \"point\", \"point\", \"point\", \"point\", \"point\", \"point\", \"point\", \"police\", \"police\", \"police\", \"policy\", \"policy\", \"policy_research\", \"political_atheist\", \"pope\", \"population\", \"population\", \"population\", \"port\", \"port\", \"port\", \"post\", \"post\", \"post\", \"post\", \"post\", \"postscript\", \"pov\", \"power\", \"power\", \"power\", \"power\", \"power_play\", \"prefix\", \"presentation\", \"president\", \"pretty\", \"pretty\", \"pretty\", \"pretty\", \"price\", \"price\", \"price\", \"printer\", \"printer\", \"privacy\", \"private_activitie\", \"probe\", \"problem\", \"problem\", \"problem\", \"problem\", \"problem\", \"problem\", \"problem\", \"problem\", \"problem\", \"professor\", \"professor\", \"program\", \"program\", \"program\", \"program\", \"prohibit\", \"project\", \"project\", \"project\", \"prophet\", \"prosecute\", \"prototype\", \"provide\", \"provide\", \"provide\", \"provide\", \"provide\", \"provide\", \"provide\", \"provide\", \"pt\", \"pub\", \"public\", \"public\", \"public\", \"public\", \"public_access_unix\", \"public_domain\", \"pump\", \"purdue\", \"q&as\", \"question\", \"question\", \"question\", \"question\", \"question\", \"question\", \"question\", \"question\", \"quibble\", \"qur'an\", \"r5\", \"racket\", \"radiator\", \"radio\", \"radio\", \"radio\", \"radio\", \"ram\", \"rape\", \"rarity\", \"rat\", \"rati\", \"rca\", \"reaction\", \"reaction\", \"read\", \"read\", \"read\", \"read\", \"read\", \"read\", \"read\", \"read\", \"real\", \"real\", \"real\", \"real\", \"real\", \"real\", \"real\", \"rear\", \"reason\", \"reason\", \"reason\", \"reason\", \"reason\", \"reason\", \"reason\", \"reboot\", \"receiver\", \"receiver\", \"referendum\", \"reform\", \"regulate\", \"reinforcement\", \"relay\", \"religion\", \"religious\", \"religious\", \"remember\", \"remember\", \"renewable\", \"repacholi\", \"report\", \"report\", \"report\", \"report\", \"report\", \"report\", \"report\", \"representative\", \"republican\", \"republicans\", \"require\", \"require\", \"require\", \"require\", \"require\", \"require\", \"require\", \"require\", \"research\", \"research\", \"research\", \"research_center\", \"reserve_university\", \"result\", \"result\", \"result\", \"result\", \"result\", \"result\", \"result\", \"result\", \"result\", \"result\", \"revisionism\", \"revolver\", \"ride\", \"rider\", \"rifle\", \"righteous\", \"ripem\", \"rkba\", \"road\", \"road\", \"robert\", \"robert\", \"robert\", \"robert\", \"robert\", \"robert_r._novitskey\", \"rocket\", \"rocket\", \"roger\", \"rsa\", \"rule\", \"rule\", \"rule\", \"rule\", \"rule\", \"ruling\", \"run\", \"run\", \"run\", \"run\", \"run\", \"s1\", \"saab\", \"sacco\", \"sad\", \"safety\", \"safety\", \"safety\", \"safety\", \"sale\", \"sale\", \"sale\", \"satellite\", \"satellite\", \"schiewer\", \"sci.astro\", \"science\", \"science\", \"science\", \"scientific\", \"scientific\", \"scientific\", \"score\", \"scott\", \"scott\", \"scott\", \"screw\", \"screw\", \"scripture\", \"scsi\", \"scsi-2\", \"season\", \"season\", \"secret\", \"secret\", \"section\", \"section\", \"section\", \"section\", \"secure\", \"security\", \"security\", \"security\", \"sell\", \"sell\", \"sell\", \"semi\", \"senate\", \"senator\", \"send\", \"send\", \"send\", \"send\", \"send\", \"send\", \"send\", \"send\", \"send\", \"sensor\", \"serdar\", \"serial\", \"serial_number\", \"server\", \"set\", \"set\", \"set\", \"set\", \"set\", \"set\", \"set\", \"shabbat\", \"shameful\", \"shareware\", \"shnekendorf\", \"sho\", \"shout\", \"shul\", \"shuttle\", \"signal\", \"significant\", \"significant\", \"significant\", \"significant\", \"simms\", \"simulation\", \"simulator\", \"sin\", \"sister\", \"sit\", \"sit\", \"skepticism\", \"skyline\", \"slack\", \"sleep\", \"slick_willie\", \"slot\", \"socialists\", \"software\", \"software\", \"software\", \"solar\", \"sound\", \"sound\", \"sound\", \"sound\", \"source\", \"source\", \"source\", \"source\", \"source\", \"source\", \"source_code\", \"space\", \"space\", \"space:1999\", \"spacecraft\", \"speaker\", \"speed\", \"speed\", \"speed\", \"speedo\", \"spite\", \"spout\", \"stand\", \"stand\", \"standard\", \"standard\", \"standard\", \"standard\", \"standard\", \"standard\", \"start\", \"start\", \"start\", \"start\", \"start\", \"start\", \"start\", \"start\", \"state\", \"state\", \"state\", \"state\", \"state\", \"statue\", \"stay\", \"stay\", \"steer\", \"stefan\", \"stephanopoulos\", \"stereo\", \"steven\", \"steven\", \"stm\", \"stop\", \"stop\", \"stop\", \"stop\", \"stop\", \"stop\", \"stroll\", \"study\", \"study\", \"study\", \"stuff\", \"stuff\", \"stuff\", \"stuff\", \"stuff\", \"stuff_delete\", \"stunt\", \"stupid\", \"stupidity\", \"suddenly\", \"suicide\", \"sumgait\", \"sun\", \"sun\", \"sun\", \"supernatural\", \"supervisor\", \"support\", \"support\", \"support\", \"support\", \"support\", \"support\", \"surgical\", \"surprised\", \"switch\", \"switch\", \"switch\", \"symptom\", \"system\", \"system\", \"system\", \"system\", \"system\", \"system\", \"system\", \"tablet\", \"talk\", \"talk\", \"talk\", \"talk\", \"talk\", \"tape\", \"tape\", \"tape\", \"taste\", \"tax\", \"taxis\", \"team\", \"tear\", \"technology\", \"technology\", \"technology\", \"technology\", \"technology\", \"ted_frank\", \"teenager\", \"temp\", \"temperature\", \"ter\", \"terrible\", \"territory\", \"test\", \"test\", \"test\", \"test\", \"test\", \"test\", \"testing\", \"texas_a&m\", \"themself\", \"theodore_a._kaldis\", \"thing\", \"thing\", \"thing\", \"thing\", \"thing\", \"thing\", \"thread\", \"throw\", \"throw\", \"throw\", \"ti\", \"time\", \"time\", \"time\", \"time\", \"time\", \"time\", \"time\", \"time\", \"time\", \"time\", \"time\", \"time\", \"timetable\", \"tin\", \"tire\", \"tom\", \"tom\", \"tom\", \"tom\", \"tom\", \"too_soon\", \"toolkit\", \"top_ten\", \"toronto\", \"tower\", \"trade\", \"trade\", \"transformer\", \"treatment\", \"tripe\", \"truck\", \"truck\", \"true\", \"true\", \"true\", \"true\", \"true\", \"true\", \"truth\", \"truth\", \"turbo\", \"turk\", \"turkey\", \"turkish\", \"turn\", \"turn\", \"turn\", \"turn\", \"turn\", \"turn\", \"type\", \"type\", \"type\", \"type\", \"type\", \"type\", \"u.s\", \"u.s\", \"u.s\", \"u.s\", \"uneasy\", \"unit\", \"unit\", \"unit\", \"university\", \"university\", \"university\", \"university\", \"university\", \"university\", \"university\", \"unix\", \"unix\", \"unseal\", \"unthinkable\", \"unusual\", \"upgrade\", \"upgrade\", \"upload\", \"urbana\", \"usa\", \"usa\", \"usa\", \"usa\", \"usa\", \"usenet\", \"usenet\", \"user\", \"user\", \"user\", \"user\", \"utrecht\", \"vanbiesbrouck\", \"vat\", \"vax\", \"vax\", \"vax\", \"veal\", \"vehicle\", \"vehicle\", \"vehicle\", \"version\", \"version\", \"version\", \"version\", \"vga\", \"vhs\", \"video\", \"viewer\", \"village\", \"virus\", \"vlad\", \"vlb\", \"voltage\", \"volvo\", \"volvos\", \"vote\", \"vote\", \"vram\", \"waco\", \"wagon\", \"walk\", \"walk\", \"war\", \"war\", \"warwick\", \"water\", \"water\", \"water\", \"weapon\", \"weapon\", \"weir\", \"wheel\", \"white_house\", \"widget\", \"wife\", \"wife\", \"win\", \"win\", \"window\", \"window\", \"window\", \"windows_3.1\", \"wire\", \"wiretap\", \"wiring\", \"wmf\", \"wodziak\", \"woman\", \"woman\", \"woman\", \"word\", \"word\", \"word\", \"word\", \"word\", \"work\", \"work\", \"work\", \"work\", \"work\", \"work\", \"work\", \"work\", \"work\", \"workgroup\", \"world\", \"world\", \"world\", \"world\", \"world\", \"world\", \"world\", \"world\", \"world\", \"worship\", \"write\", \"write\", \"write\", \"write\", \"write\", \"wrong\", \"wrong\", \"wrong\", \"wrong\", \"wrong\", \"x11\", \"x11r5\", \"x3252\", \"x_char\", \"xlib\", \"xterm\", \"year\", \"year\", \"year\", \"year\", \"year\", \"year\", \"year\", \"year\", \"zenith\", \"|a\", \"|you\"]}, \"R\": 30, \"lambda.step\": 0.01, \"plot.opts\": {\"xlab\": \"PC1\", \"ylab\": \"PC2\"}, \"topic.order\": [9, 5, 10, 1, 11, 7, 4, 2, 13, 12, 6, 3, 14, 8]};\n",
              "\n",
              "function LDAvis_load_lib(url, callback){\n",
              "  var s = document.createElement('script');\n",
              "  s.src = url;\n",
              "  s.async = true;\n",
              "  s.onreadystatechange = s.onload = callback;\n",
              "  s.onerror = function(){console.warn(\"failed to load library \" + url);};\n",
              "  document.getElementsByTagName(\"head\")[0].appendChild(s);\n",
              "}\n",
              "\n",
              "if(typeof(LDAvis) !== \"undefined\"){\n",
              "   // already loaded: just create the visualization\n",
              "   !function(LDAvis){\n",
              "       new LDAvis(\"#\" + \"ldavis_el1921397201377545767994565871\", ldavis_el1921397201377545767994565871_data);\n",
              "   }(LDAvis);\n",
              "}else if(typeof define === \"function\" && define.amd){\n",
              "   // require.js is available: use it to load d3/LDAvis\n",
              "   require.config({paths: {d3: \"https://d3js.org/d3.v5\"}});\n",
              "   require([\"d3\"], function(d3){\n",
              "      window.d3 = d3;\n",
              "      LDAvis_load_lib(\"https://cdn.jsdelivr.net/gh/bmabey/pyLDAvis@3.3.1/pyLDAvis/js/ldavis.v3.0.0.js\", function(){\n",
              "        new LDAvis(\"#\" + \"ldavis_el1921397201377545767994565871\", ldavis_el1921397201377545767994565871_data);\n",
              "      });\n",
              "    });\n",
              "}else{\n",
              "    // require.js not available: dynamically load d3 & LDAvis\n",
              "    LDAvis_load_lib(\"https://d3js.org/d3.v5.js\", function(){\n",
              "         LDAvis_load_lib(\"https://cdn.jsdelivr.net/gh/bmabey/pyLDAvis@3.3.1/pyLDAvis/js/ldavis.v3.0.0.js\", function(){\n",
              "                 new LDAvis(\"#\" + \"ldavis_el1921397201377545767994565871\", ldavis_el1921397201377545767994565871_data);\n",
              "            })\n",
              "         });\n",
              "}\n",
              "</script>"
            ],
            "text/plain": [
              "<IPython.core.display.HTML object>"
            ]
          },
          "metadata": {},
          "execution_count": 53
        }
      ]
    },
    {
      "cell_type": "markdown",
      "metadata": {
        "id": "B9caq8x7EGrl"
      },
      "source": [
        "# Get Topic proportions and dominant topic"
      ]
    },
    {
      "cell_type": "code",
      "metadata": {
        "id": "bJejJayXLCSb"
      },
      "source": [
        "def get_topic_proportions(\n",
        "    lda_model: LdaMallet,\n",
        "    docs_bow: List[List[Tuple[int, int]]]\n",
        ") -> List[List[Tuple[int, float]]]:\n",
        "  return lda_model[docs_bow]\n",
        "\n",
        "\n",
        "def sort_topic_proportions(\n",
        "    unsorted_topic_proportions: List[Tuple[int, float]],\n",
        "    reverse=True\n",
        ") -> List[Tuple[int, float]]:\n",
        "  return list(\n",
        "      sorted(\n",
        "          unsorted_topic_proportions,\n",
        "          key=lambda t: t[1],\n",
        "          reverse=reverse\n",
        "      )\n",
        "  )"
      ],
      "execution_count": 54,
      "outputs": []
    },
    {
      "cell_type": "code",
      "metadata": {
        "id": "BjCHiCokrLpQ",
        "colab": {
          "base_uri": "https://localhost:8080/"
        },
        "outputId": "22cbf73b-9429-41bb-9f95-5bba4cde07e2"
      },
      "source": [
        "%%time\n",
        "\n",
        "train_corpus_topic_proportions = get_topic_proportions(lda_model,\n",
        "                                                       train_corpus_bow)\n",
        "\n",
        "test_corpus_topic_proportions = get_topic_proportions(lda_model,\n",
        "                                                      test_corpus_bow)\n",
        "\n",
        "print(\"Review:\")\n",
        "pprint(test_corpus_raw[0])\n",
        "print(\"\\n In order topics:\")\n",
        "pprint(test_corpus_topic_proportions[0])\n",
        "print(\"\\n Sorted topics:\")\n",
        "pprint(\n",
        "    sort_topic_proportions(test_corpus_topic_proportions[0])\n",
        ")"
      ],
      "execution_count": 55,
      "outputs": [
        {
          "output_type": "stream",
          "name": "stdout",
          "text": [
            "Review:\n",
            "(\"from: x90sanson@gw.wmich.edu subject: what's the diff.between \"\n",
            " \"mouse.sys/com?? organization: western michigan university lines: 8 what's \"\n",
            " 'the difference between loading mouse.com in autoexec.bat and doing '\n",
            " 'device=mouse.sys in config.sys?? which one is better? thanks a lot enrique')\n",
            "\n",
            " In order topics:\n",
            "[(0, 0.06219099661722614),\n",
            " (1, 0.0749414519906323),\n",
            " (2, 0.06219099661722614),\n",
            " (3, 0.06219099661722614),\n",
            " (4, 0.06219099661722614),\n",
            " (5, 0.0858704137392662),\n",
            " (6, 0.058548009367681515),\n",
            " (7, 0.06947697111631537),\n",
            " (8, 0.06401249024199845),\n",
            " (9, 0.06219099661722614),\n",
            " (10, 0.06036950299245382),\n",
            " (11, 0.11137132448607857),\n",
            " (12, 0.06947697111631537),\n",
            " (13, 0.09497788186312776)]\n",
            "\n",
            " Sorted topics:\n",
            "[(11, 0.11137132448607857),\n",
            " (13, 0.09497788186312776),\n",
            " (5, 0.0858704137392662),\n",
            " (1, 0.0749414519906323),\n",
            " (7, 0.06947697111631537),\n",
            " (12, 0.06947697111631537),\n",
            " (8, 0.06401249024199845),\n",
            " (0, 0.06219099661722614),\n",
            " (2, 0.06219099661722614),\n",
            " (3, 0.06219099661722614),\n",
            " (4, 0.06219099661722614),\n",
            " (9, 0.06219099661722614),\n",
            " (10, 0.06036950299245382),\n",
            " (6, 0.058548009367681515)]\n",
            "CPU times: user 1.6 s, sys: 158 ms, total: 1.75 s\n",
            "Wall time: 19.6 s\n"
          ]
        }
      ]
    },
    {
      "cell_type": "markdown",
      "metadata": {
        "id": "FRvRrkRrZZUA"
      },
      "source": [
        "## Plot topic proportions"
      ]
    },
    {
      "cell_type": "code",
      "metadata": {
        "id": "Ia1-B2dOhLYD",
        "colab": {
          "base_uri": "https://localhost:8080/",
          "height": 707
        },
        "outputId": "a3436b56-88de-4d28-bd28-bf5423fccd63"
      },
      "source": [
        "i = 0\n",
        "\n",
        "\n",
        "print(\"REVIEW #%d:\" % i)\n",
        "pprint(test_corpus_raw[i])\n",
        "print()\n",
        "\n",
        "\n",
        "def print_keywords_text(lda_model: LdaMallet, topic_id: int) -> str:\n",
        "  keywords = get_topic_keywords(lda_model, topic_id)\n",
        "  keywords_text = [text for text, proportion in keywords]\n",
        "  return (\"TOPIC #%d: \" % topic_id).ljust(11) + \", \".join(keywords_text)\n",
        "\n",
        "# topic_proportions = test_corpus_topic_proportions[i]\n",
        "topic_proportions = sort_topic_proportions(\n",
        "    test_corpus_topic_proportions[i],\n",
        "    reverse=False\n",
        ")\n",
        "proportions = [proportion for _, proportion in topic_proportions]\n",
        "keywords = [print_keywords_text(lda_model, id) for id, _ in topic_proportions]\n",
        "\n",
        "my_range = range(num_topics)\n",
        "\n",
        "\n",
        "plt.figure(figsize=(8,10))\n",
        "plt.hlines(\n",
        "    y=my_range,\n",
        "    xmin=0,\n",
        "    xmax=proportions,\n",
        "    color='skyblue'\n",
        ")\n",
        "\n",
        "# Plot\n",
        "plt.plot(\n",
        "    proportions,\n",
        "    my_range,\n",
        "    'o'\n",
        ")\n",
        " \n",
        "plt.gca().yaxis.set_ticks_position(\"right\")\n",
        "plt.yticks(\n",
        "    my_range,\n",
        "    keywords,\n",
        "    fontsize=12\n",
        ")\n",
        " \n",
        "plt.ylabel('TOPICS')\n",
        "plt.xlabel('TOPIC PROPORTION')\n",
        "\n",
        "plt.show()"
      ],
      "execution_count": 56,
      "outputs": [
        {
          "output_type": "stream",
          "name": "stdout",
          "text": [
            "REVIEW #0:\n",
            "(\"from: x90sanson@gw.wmich.edu subject: what's the diff.between \"\n",
            " \"mouse.sys/com?? organization: western michigan university lines: 8 what's \"\n",
            " 'the difference between loading mouse.com in autoexec.bat and doing '\n",
            " 'device=mouse.sys in config.sys?? which one is better? thanks a lot enrique')\n",
            "\n"
          ]
        },
        {
          "output_type": "display_data",
          "data": {
            "image/png": "[encoded data removed]",
            "text/plain": [
              "<Figure size 576x720 with 1 Axes>"
            ]
          },
          "metadata": {
            "needs_background": "light"
          }
        }
      ]
    },
    {
      "cell_type": "markdown",
      "metadata": {
        "id": "aIttWxTKs0SS"
      },
      "source": [
        "# Check out the dominant topic keywords for some randomly-selected unseen documents"
      ]
    },
    {
      "cell_type": "code",
      "metadata": {
        "id": "QfH9ivaLsR4m",
        "colab": {
          "base_uri": "https://localhost:8080/"
        },
        "outputId": "40976766-c2a2-4488-f2aa-4b06cf67817c"
      },
      "source": [
        "num_docs = 10\n",
        "\n",
        "for i in np.random.randint(len(testset_dataframe), size=num_docs):\n",
        "  print(\"Review #%d:\" % i)\n",
        "  pprint(test_corpus_raw[i])\n",
        "\n",
        "  sorted_topic_proportions = sort_topic_proportions(\n",
        "      test_corpus_topic_proportions[i]\n",
        "  )\n",
        "\n",
        "  print(\"\\nDominant Topic (%f) Keywords:\" % sorted_topic_proportions[0][1])\n",
        "  first_dominant_topic_id = sorted_topic_proportions[0][0]\n",
        "  print(\n",
        "      get_topic_keywords(\n",
        "          lda_model,\n",
        "          first_dominant_topic_id\n",
        "      )\n",
        "  )\n",
        "\n",
        "  print(\"\\nSecond Topic (%f) Keywords:\" % sorted_topic_proportions[1][1])\n",
        "  second_topic_id = sorted_topic_proportions[1][0]\n",
        "  print(\n",
        "      get_topic_keywords(\n",
        "          lda_model,\n",
        "          second_topic_id\n",
        "      )\n",
        "  )\n",
        " \n",
        "  print(\"-\" * 335)"
      ],
      "execution_count": 57,
      "outputs": [
        {
          "output_type": "stream",
          "name": "stdout",
          "text": [
            "Review #2029:\n",
            "('organization: esoc european space operations centre from: '\n",
            " '<tnedderh@esoc.bitnet> subject: re: apollo training in iceland distribution: '\n",
            " 'sci lines: 10 the apollo astronauts also trained at (in) meteor crater in '\n",
            " 'the flagstaff area (arizona). there is now a museum with a space shop. '\n",
            " 'caution: they ease you by 6$. compared to a ksc visit it is not worth. '\n",
            " '-=-=-=-=-=-=-=-=-=-=-=-=-=-=-=-=-=-=-=-=-=-=-=-=-=-=-=-=-=-=-=-=-=-=-=- '\n",
            " 'thorsten nedderhut | disclaimer: mbp software & systems gmbh | c/o '\n",
            " 'esa/esoc/fcsd/oad/stb | neither esa nor mbp is responsible darmstadt, '\n",
            " 'germany | for my postings! tnedderh@esoc.bitnet |')\n",
            "\n",
            "Dominant Topic (0.179954) Keywords:\n",
            "[('key', 0.021244613688746368), ('space', 0.011991849550723185), ('system', 0.010789324247586598), ('information', 0.007799712730066473), ('technology', 0.007348765741390253), ('encryption', 0.006580485686608545), ('chip', 0.0056785917092561046), ('message', 0.005428065604435982), ('communication', 0.005327855162507934), ('security', 0.005327855162507934)]\n",
            "\n",
            "Second Topic (0.082575) Keywords:\n",
            "[('israel', 0.010571395501369651), ('jews', 0.010301323353524442), ('war', 0.007986419229136926), ('world', 0.00790925575832401), ('turkish', 0.00653960415139473), ('armenian', 0.006346695474362437), ('people', 0.006134495929626915), ('history', 0.0058451329140784755), ('israeli', 0.005690805972452641), ('attack', 0.005382152089200972)]\n",
            "-----------------------------------------------------------------------------------------------------------------------------------------------------------------------------------------------------------------------------------------------------------------------------------------------------------------------------------------------\n",
            "Review #46:\n",
            "('from: nagle@netcom.com (john nagle) subject: re: waco: the militia assembles '\n",
            " 'keywords: we salute them organization: netcom on-line communication services '\n",
            " '(408 241-9760 guest) distribution: usa lines: 7 dumb move. the smart move '\n",
            " 'would be to sneak in someone with a tv camera and video transmitter. john '\n",
            " 'nagle')\n",
            "\n",
            "Dominant Topic (0.145282) Keywords:\n",
            "[('line', 0.013409803597953457), ('power', 0.010707212411288991), ('work', 0.009139296913682126), ('high', 0.006106618253837267), ('low', 0.006024096385542169), ('ground', 0.006003465918468394), ('design', 0.005982835451394619), ('box', 0.005838422181878198), ('organization', 0.005735269846509325), ('wire', 0.005446443307476481)]\n",
            "\n",
            "Second Topic (0.098986) Keywords:\n",
            "[('line', 0.07118181087812324), ('organization', 0.07009721217964168), ('post', 0.06445328191532096), ('host', 0.05884952197316622), ('nntp', 0.05678075038161806), ('university', 0.044508716959910016), ('distribution', 0.01873945529043143), ('usa', 0.012894673415280791), ('mail', 0.011408371495139392), ('david', 0.007973808949947779)]\n",
            "-----------------------------------------------------------------------------------------------------------------------------------------------------------------------------------------------------------------------------------------------------------------------------------------------------------------------------------------------\n",
            "Review #319:\n",
            "('from: matt@galaxy.nsc.com (matt freivald x8043) subject: re: nlns: fascism '\n",
            " 'with a friendly face nntp-posting-host: pogo.nsc.com organization: thought '\n",
            " 'police watchdog agency, u.s.a. lines: 370 who wants to look through the bars '\n",
            " 'at some reactionary liberal conspiracy- theory idiots and see how they rant '\n",
            " 'and rave at the erosion of their populist support? this is very typical of '\n",
            " 'the elitist liberal attitude that the people are incapable of thinking for '\n",
            " 'themselves. this elitist attitude will be the eventual undoing of the '\n",
            " 'arrogant liberal tide sweeping america, as the people begin to realize more '\n",
            " 'and more that they are being treated like errant children and robbed of '\n",
            " 'their freedoms by a bunch of utopian arrogent socialist jerks. in article '\n",
            " '167077 in talk.politics.misc, new liberation news service <nlns@igc.apc.org> '\n",
            " 'writes: >subject: nlns: fascism with a friendly face >lines: 164 >from: new '\n",
            " 'liberation news service <nlns> >subject: nlns: fascism with a friendly face '\n",
            " '>/* written 8:33 pm apr 14, 1993 by nlns@igc.apc.org in igc:nlns.news */ >/* '\n",
            " '---------- \"nlns packet 3.11 *** 4-14-93\" ---------- */ >fascism with a '\n",
            " 'friendly face: does rush limbaugh remind you of >anyone? >daevid '\n",
            " 'bornhuetter-machen, the madison edge >\"the main difference between adolf '\n",
            " 'hitler and rush limbaugh is that >hitler was original and showed '\n",
            " 'initiative.\" >--mort sahl on the tom snyder radio show, abc radio network, '\n",
            " '>october 27, 1992. although i find myself often disagreeing with the '\n",
            " 'populist rationale of mr. limbaugh, i find him entertaining and i often '\n",
            " 'agree with his conclusions. the fact that he sends liberal reactionaries '\n",
            " 'like these idiots through the roof makes him all the more entertaining. '\n",
            " '>(nlns)--believe it or not, i was planning this comparative review of >mein '\n",
            " \"kampf and limbaugh's transcribed rant, the way things ought to >be before \"\n",
            " \"sahl issued his comparative review. as usual, sahl's was >independent and \"\n",
            " 'sharp as a scalpel. > my effort can only dream of comparing favorably to '\n",
            " \"mort's. at >least it has a fairly popular orginating premise; everyone i \"\n",
            " 'would mention the >idea to thought it was either divinely inspired or at '\n",
            " 'least past due for >delivery. > those reactions are based on parallels that '\n",
            " 'should be obvious to the >most peripheral observer of the acts of those '\n",
            " 'false prophets. both are >noted for their galvanizing oratorical skills, '\n",
            " 'which they both used with >passion to generate a political cult of massive '\n",
            " 'numerical proportions (in >fact, limbaugh claims to have an audience of just '\n",
            " 'over 12 million, almost >identical to the number of votes cast for hitler in '\n",
            " 'the april 1932 german >election). both used a myopic social perspective to '\n",
            " 'build the cult, and >enthusiastically amputated facts from the record to '\n",
            " \"fabricate their >ideological quilt. actually, i find limbaugh's oratory less \"\n",
            " 'than sizzling and his debating skills sometimes lacking, even though his '\n",
            " 'conclusions are often correct. i would suggest that a bankrupt leftist '\n",
            " 'ideology that hopes to use concentrated political power and a loaded gun to '\n",
            " 'force everyone to do the \"right\" things (where \"right\" is defined by the '\n",
            " 'elitist academics who lead the movement) is showing an acute case of \"myopic '\n",
            " 'social perspective\", not to mention arrogance and utter stupidity. limbaugh '\n",
            " 'is certainly far from perfect, but his opponents in the established body '\n",
            " 'politic and the media are the ones arguing for federal control of virtually '\n",
            " 'all aspects of the lives of the citizenry, and for the elimination of local '\n",
            " 'control over affairs public. perhaps limbaugh has a following because the '\n",
            " 'people are tired of being treated like errant children by a self-important '\n",
            " 'group of arrogant controlling myopic people who have no understanding of how '\n",
            " 'life operates outside of the \"oughta-be\\'s\" inside their own hopelessly '\n",
            " 'closed minds. > the last point is glaringly documented by passages in the '\n",
            " \"opening >pages of both books. hitler's example is when, on page 5, he claims \"\n",
            " 'the >german nationalist terrorist leo schlageter (he bombed part of a '\n",
            " 'railway >line between dusseldorf and duisburg, being caught in the act, in '\n",
            " '1923) >was \"betrayed to france by a representative of his government\" when '\n",
            " '>there has never been any factual foundation for such a statement. > in '\n",
            " 'fact, the governments of both the reich and prussia, as well as >the '\n",
            " 'vatican, actively intervened to save him from execution, and almost '\n",
            " '>succeeded. ok, let us take your word for that and work with it. a nice '\n",
            " 'specific incident. >limbaugh follows suit by making the hysterically '\n",
            " 'sarcastic >claim in his introduction that \"in a school or during a '\n",
            " 'commencement >ceremony or many other public places... god is '\n",
            " 'unconstitutional.\" of >course, it is not god but the official imposition of '\n",
            " \"particular concepts of >god against an individual's will that is \"\n",
            " 'unconstitutional. but limbaugh is >too gleeful in his talent for distortion '\n",
            " 'to want you to know that. hmmm, \"congress shall pass no law regarding an '\n",
            " 'establishment of religion, nor prohibiting the free exercise thereof.\" '\n",
            " 'liberal translation: \"the federal government (as long as it is run by '\n",
            " 'liberals) may force local school districts to include certain iconic content '\n",
            " 'in christmas displays, while prohibiting others.\" i think limbaugh has you '\n",
            " 'on this one. it seems to me that he is arguing for less imposition of the '\n",
            " 'federal government into religion. nice job on the specificity of that one, '\n",
            " 'too. [analysis of historical/modern communication media deleted] > but, as '\n",
            " 'mort sahl also observed on the radio the other night, some >cloutmeister of '\n",
            " 'the radical right wants limbaugh to be a focal point of >their propoganda. '\n",
            " '(and remember, sahl is an al haig conservative these >days.) > mort might '\n",
            " \"not know exactly who rush's equivalent of rodolf >hess is (the book itself \"\n",
            " 'suggests ed mclaughlin, the former president of >abc radio and now '\n",
            " \"limbaugh's partner in efm media, the radio >program's production company). \"\n",
            " 'but mort himself is a veteran of the talk >show, having hosted them in new '\n",
            " 'york, washington and los angeles. he >knows what evil lurks in the hearts of '\n",
            " 'major market media men. he knows >that limbaugh could not have collected his '\n",
            " 'audience had not the >opportunity been placed on a silver platter and handed '\n",
            " 'to him. limbaugh >earns his money just as honestly as al capone did; it is '\n",
            " 'almost worthy of a >rico indictment. ah yes, it is a conspiracy of profound '\n",
            " \"proportions. methinks that you may be a bit resentful of mr. limbaugh's \"\n",
            " 'success because you attribute it primarily to luck (how, after all, could '\n",
            " 'anyone with profound differences of opinion from yourself have become '\n",
            " 'successful without the operation of conspiracy or blind luck!) do you feel '\n",
            " 'this same level of knee-jerk resentment against lottery winners, or do you '\n",
            " 'congratulate them on their good fortune? > on questions of social issues, '\n",
            " 'there is an overabundance of >material in the limbaugh book that seems to '\n",
            " \"echo hitler's venom. for >example: this should be great fun, since it is the \"\n",
            " 'liberal movement in america that is pushing the hardest for centralized '\n",
            " 'fascist control of the people and business (government/business '\n",
            " \"'partnership' indeed), and mr. limbaugh is the populist nemesis of that \"\n",
            " \"movement. i have read mr. limbaugh's book, and although it was not the most \"\n",
            " 'literary piece i have read in recent memory it certainly did not contain '\n",
            " '\"venom\" at all, let alone \"venom\" comparable to an individual who callously '\n",
            " 'murdered millions out of racism. >on their own qualifications to control '\n",
            " 'society > hitler: \"out of the host of sometimes millions of people, who '\n",
            " '>individually more or less clearly and distinctly guess the truth, partly '\n",
            " \">perhaps understand it, one man [author's emphasis] must step forward in \"\n",
            " '>order to form, with apodeictic force, out of the wavering world of '\n",
            " '>imagination of the great masses, granite principles, and to take up the '\n",
            " 'fight >for their sole correctness, until out of the playing waves of a free '\n",
            " 'world of >thought a brazen rock of uniform combination of form and will '\n",
            " 'arises\" >(page 577). a very serious tone in that oratory. > limbaugh: \"who '\n",
            " \"needs the media when they've got me? ... the >show is devoted exclusively to \"\n",
            " 'what i think ... [the phrase \"with half my >brain tied behind my back to '\n",
            " 'make it even\"] denotes the egress of mental >aptitude i require to engage '\n",
            " 'and demolish liberals and others who disagree >with me ... it might take '\n",
            " 'four or five years, but i am convinced the media >will slowly and '\n",
            " 'reluctantly come around to my way of thinking, kicking >and screaming all '\n",
            " 'the way.\" (pages 266, 21, 299 and 273, respectively.) you neglect to mention '\n",
            " 'that mr. limbaugh (have you ever listened to his show, btw?) continuously '\n",
            " 'encourages his audience to think for themselves rather than blindly '\n",
            " 'following any media icon, himself included. you yourself mention that he '\n",
            " 'makes no bones about his show being strictly about his own opinions. he also '\n",
            " 'adopts a rather satirical approach, and presumes his audience to be '\n",
            " 'intelligent enough to distinguish satire from seriousness (and he says as '\n",
            " 'much). this is in contrast to the average mass-media show, in which the '\n",
            " \"audience is treated as society's intellectual lowest common denominator. i \"\n",
            " 'am sure that adolf hitler was a master of satire; i am sure he was just '\n",
            " \"kidding when he said that the jews were the cause of germany's problems and \"\n",
            " 'needed to be exterminated. >on religion as the basis of a nation > hitler: '\n",
            " '\"in this world human culture and civilization are >inseperably bound up with '\n",
            " 'the existence of the aryan. his dying-off or his >decline would again lower '\n",
            " 'upon this earth the dark veils of a time without >culture ... he who dares '\n",
            " 'to lay hand upon the highest image of the lord >sins against the benevolent '\n",
            " 'creator of this miracle and helps in the >expulsion from paradise.\" (page '\n",
            " '581.) this is not religion, it is clearly a perverse worship of race. since '\n",
            " \"christ was a jew, it seems quite unlikely that hitler's characterization of \"\n",
            " 'the aryan as \"the highest image of the lord\" fits with christian doctrine. > '\n",
            " 'limbaugh: \"america was founded as a judeo-christian country ... >but our '\n",
            " 'intellectual and political elites are often either hostile or >ambivalent '\n",
            " 'toward religion ... people for whom belief in god is at best a >charming '\n",
            " 'superstition have managed to ban prayer from the public schools >for the '\n",
            " 'last thirty years. is it only a coincidence that the quality of >american '\n",
            " 'education has declined ever since?\" (pages 274-5.) private religious schools '\n",
            " 'have a vastly better record of success than publicly funded schools. '\n",
            " 'american history is indeed primarily judeo- christian. i suppose that mr. '\n",
            " 'limbaugh pointing out facts is equivalent to adolf hitler worshiping the '\n",
            " 'aryan race. i think you might be reaching just a wee bit here. >on popular '\n",
            " 'culture as a reason for social collapse > hitler: \"the fight against the '\n",
            " 'poisoning of the soul has to set in ... >one has only to look at the menus '\n",
            " 'of our movie houses, vaudevilles and >theatres; and one can hardly deny that '\n",
            " 'this is not the right kind of food ... >theatre, art, literature, movies, '\n",
            " 'the press, billposters and window displays >must be cleaned of the symptoms '\n",
            " 'of a rotting world and put into the >service of a moral idea of state and '\n",
            " 'culture.\" (pages 346 and 348.) definite suggestion that the government '\n",
            " 'should control the entertainment industry here. > limbaugh: \"today, '\n",
            " 'hollywood is in trouble. the reason [is] that >hollywood has forgotten who '\n",
            " 'its audience is ... they make fun of people >who believe in god. they '\n",
            " 'ridicule the traditional family, heterosexuality >and monagamy. they '\n",
            " 'disparage american heroes.\" (page 254.) just a guess here, but i do not '\n",
            " 'think that mr. limbaugh would advocate government control of hollywood. you '\n",
            " 'should perhaps call his radio show to confirm this. i believe this is more a '\n",
            " 'criticism of hollywood and the depraved moral values it espouses, not an '\n",
            " \"advocation of government control of hollywood. 90's liberals, on the other \"\n",
            " 'hand, want to have complete government control of our school systems, so '\n",
            " 'that the government can teach the people at an early age the \"right\" way to '\n",
            " 'view religion and morality. i believe mr. limbaugh is against this, as his '\n",
            " 'satirical use of the \"young heads full of mush\" hyperbole indicates. >on the '\n",
            " 'news meida > hitler: \"the activity of the so-called liberal press was the '\n",
            " 'work of >gravediggers for the german people and the german reich. one can '\n",
            " 'pass >by in silence the marxist papers of lies ... it is task is only to '\n",
            " \"break the >people's folkish and national spine, in order to make it ripe for \"\n",
            " 'the yoke of >slavery of international capital and its masters, the jews.\" '\n",
            " '(page 331.) pretty strong conspiracy theory insinuated here, with an '\n",
            " 'implicit plea for government power to be used to break up the conspiracy. > '\n",
            " 'limbaugh: \"elements of the media have jumped on the >bandwagon of leftist '\n",
            " 'causes. the cynical journalist of the past has been >replaced in many cases '\n",
            " 'by an enthusiastic cheerleader for causes ... during >the gulf war, cnn '\n",
            " 'correspondent bernard shaw [said] cnn is a global >network. we can not take '\n",
            " 'sides. can not take sides? --- --- ---! ... if they do not >realize that '\n",
            " 'their freedom lies in the united states of america and that >therefore they '\n",
            " 'should defend this nation, they are hopelessly misguided >and, may i '\n",
            " 'suggest, flirting with megalomania.\" (pages 270 and 268.) indication here '\n",
            " 'that \"elements of the media\" (since career is a self-selected '\n",
            " \"categorization, perhaps an inferred 'larger percentage than represented in \"\n",
            " \"the populace at large') has a leftist bias. doesn't sound too unreasonable. \"\n",
            " 'no insinuation that cnn should not report in an objective fashion, only that '\n",
            " 'for reporters to say that they do not have any personal bias in the '\n",
            " 'situation is disingenuous to megalomaniacal. you may disagree, and it may '\n",
            " 'well be exagerrated, but it is not an unreasonable opinion; and mr. limbaugh '\n",
            " 'goes well out of his way to make sure that his audience knows that these are '\n",
            " 'his opinions, unlike most other reporting that purports to achieve perfect '\n",
            " 'objectivity but in actuality will in some degree or other, in a statistical '\n",
            " 'sense, reflect the biases of the reporters. who is being disingenuous here, '\n",
            " 'mr. shaw or mr. limbaugh? again, you should ask mr. limbaugh himself, but i '\n",
            " 'expect that he would oppose government control of the media. >* * * >to '\n",
            " 'continue these comparative excerpts is certainly possible, but >ultimately '\n",
            " 'too depressing to take in one reading. it is indeed depressing to see such '\n",
            " 'myopia and tiresome liberal arrogance. liberals love to play games with '\n",
            " 'paradigms as a way of discrediting people who disagree with them. why do not '\n",
            " 'you challenge conservative ideology on an intellectual level rather than '\n",
            " 'engaging in ludicrous comparisons? perhaps the underpinnings of your '\n",
            " 'ideology are intellectual only in that they exist in your mind, not the real '\n",
            " 'world. > after putting these books down, there is one undeniable fact that '\n",
            " '>haunts me. in the 1920s, adolf hitler fed depressed and frightened >germans '\n",
            " 'the opiate of hatred of those around them; in turn, it allowed >germans to '\n",
            " 'hand their collective national power to the nazis. in the 1990s, >rush '\n",
            " 'limbaugh is doing the very same thing: distributing hatred to >depressed and '\n",
            " 'frightened americans; in turn, it is helping the american >radical right to '\n",
            " 'maintain its power base as the 12-year nightmare of the >reagan-bush era '\n",
            " 'comes to an end, hoping to rebuild it into their hopes for >the fascist '\n",
            " 'states of america. perhaps there are a few among the intellectually '\n",
            " 'challenged who percieve rush limbaugh as a hate-monger, but in my experience '\n",
            " 'he has been spreading laughter at the ludicrous self-importance of the left, '\n",
            " 'not hatred. as to mr. bush, you may be correct about his fascist economic '\n",
            " 'leanings. mr. reagan, on the other hand, did his best to reverse the fascist '\n",
            " 'trend of government involvement in business. mr. clinton is increasing '\n",
            " 'fascism in america through \"business/government partnership\" and increased '\n",
            " 'levels of taxation. perhaps you should not have skipped your vocabulary '\n",
            " 'classes in grade school. > and if limbaugh is not as repellant a hitler, it '\n",
            " 'is only because the >radical right utilizes limbaugh as its own gateway '\n",
            " 'opiate. one can only >wonder what the ultimate drug is they plan to hook '\n",
            " 'america on. hmmm. seems to me that limbaugh is not in any way comparable to '\n",
            " 'hitler because he has not murdered six million jews and many, many others '\n",
            " 'out of racism. i come from a mixed-race family, so i am quite well attuned '\n",
            " 'to racism; i do not hear any coming from rush limbaugh. the only place i '\n",
            " 'hear racism coming from these days and being taken seriously is from the '\n",
            " 'liberal left. the liberal left is the movement i see trying to get america '\n",
            " 'hooked on the opiates of socialized medicine, socialized transportation, '\n",
            " 'socialized education, etc. the left already has america hopelessly addicted '\n",
            " 'to that liberal drug, the social security chain letter. it is quite clear to '\n",
            " 'me that while the hitler analogy does not really apply to either rush '\n",
            " 'limbaugh or william jefferson clinton, if one of the two is closer than the '\n",
            " 'other it is clearly the fascist clinton. >the madison edge can be reached at '\n",
            " 'po box 845, madison, wi 53701- >0845; (608) 255-4460. > >--- 30 --- this is '\n",
            " 'the same address as \"idiots anonymous\", isn\\'t it? matt freivald '\n",
            " '-------------------------------------------------------------------------- '\n",
            " 'liborgalism: thinking is irrelevant. integrity is irrelevant. free speech is '\n",
            " 'irrelevant. private property is irrelevant. personal responsibility is '\n",
            " 'irrelevant. conservativism is futile. you will be assimilated. '\n",
            " '-------------------------------------------------------------------------- '\n",
            " 'these are my opinions only and not those of my employer!!!!!!!!!!!!!!!!!!! '\n",
            " '--------------------------------------------------------------------------')\n",
            "\n",
            "Dominant Topic (0.258115) Keywords:\n",
            "[('government', 0.011706679343950558), ('people', 0.011127287853577372), ('mr', 0.010265628714048016), ('state', 0.008453173282624198), ('work', 0.008349179938198241), ('president', 0.00756180175897314), ('time', 0.00664071785120038), ('year', 0.006209888281435702), ('money', 0.006195032089374852), ('stephanopoulos', 0.005155098645115284)]\n",
            "\n",
            "Second Topic (0.204162) Keywords:\n",
            "[('israel', 0.010571395501369651), ('jews', 0.010301323353524442), ('war', 0.007986419229136926), ('world', 0.00790925575832401), ('turkish', 0.00653960415139473), ('armenian', 0.006346695474362437), ('people', 0.006134495929626915), ('history', 0.0058451329140784755), ('israeli', 0.005690805972452641), ('attack', 0.005382152089200972)]\n",
            "-----------------------------------------------------------------------------------------------------------------------------------------------------------------------------------------------------------------------------------------------------------------------------------------------------------------------------------------------\n",
            "Review #348:\n",
            "('from: michelle zumbo <mz10+@andrew.cmu.edu> subject: darkroom '\n",
            " 'supplies/enlarger organization: athletics and physical education, carnegie '\n",
            " 'mellon, pittsburgh, pa lines: 28 nntp-posting-host: po3.andrew.cmu.edu for '\n",
            " 'sale: * besler 23c ii enlarger (including filters & negative carriers) * '\n",
            " 'darkroom supplies (containers, trays, thermometer, beakers, paper focuser, '\n",
            " 'etc...i also have paper & chemicals, but i think these 2 are past expiration '\n",
            " 'date) everything is in great working condition. i bought it about a year ago '\n",
            " \"and it has served its purpose well. it hasn't been used it in a few months \"\n",
            " 'because i do not have the time or money to keep up with it and its just '\n",
            " 'sitting in my bathroom taking up space i would like to use. so, i would like '\n",
            " 'to sell it to someone who would use it rather than it collect dust in my '\n",
            " 'bathroom. if you are interested in the whole package, i will sell everything '\n",
            " '(including shipping) for $300. if you have something else in mind, i am open '\n",
            " 'to suggestions. please reply to this account. thank you... michelle')\n",
            "\n",
            "Dominant Topic (0.117550) Keywords:\n",
            "[('people', 0.022174046635485303), ('time', 0.016097094670717967), ('happen', 0.012136833839745996), ('start', 0.01171008159502919), ('day', 0.011658871325663173), ('leave', 0.010856577105595575), ('live', 0.008910586869686935), ('hear', 0.008074152470041993), ('man', 0.007886381482366598), ('woman', 0.007391348878495101)]\n",
            "\n",
            "Second Topic (0.096586) Keywords:\n",
            "[('line', 0.07118181087812324), ('organization', 0.07009721217964168), ('post', 0.06445328191532096), ('host', 0.05884952197316622), ('nntp', 0.05678075038161806), ('university', 0.044508716959910016), ('distribution', 0.01873945529043143), ('usa', 0.012894673415280791), ('mail', 0.011408371495139392), ('david', 0.007973808949947779)]\n",
            "-----------------------------------------------------------------------------------------------------------------------------------------------------------------------------------------------------------------------------------------------------------------------------------------------------------------------------------------------\n",
            "Review #619:\n",
            "('from: amolitor@nmsu.edu (andrew molitor) subject: re: once tapped, your code '\n",
            " 'is no good any more. organization: department of mathematical sciences '\n",
            " 'lines: 58 distribution: na nntp-posting-host: moink.nmsu.edu al@escom.com '\n",
            " '(al donaldson) writes: >amolitor@nmsu.edu (andrew molitor) writes: >>yes, '\n",
            " 'those evil guys in the fbi can probably, with some >>effort, abuse the '\n",
            " 'system. i got news for you, if the evil guys in >>the fbi decide they want '\n",
            " \"to persecute you, they're gonna, ... > >and if richard nixon had had this \"\n",
            " \"kind of toy, he wouldn't have had >to send people into the watergate. > this \"\n",
            " 'appears to be generic calling upon the name of the anti-christ. just for the '\n",
            " \"hell of it, let's destroy this remark. let us imagine that the executive \"\n",
            " 'branch actually could extract keys from the escrow houses without anyone '\n",
            " \"knowing, or telling. now what? dick has 80 bits of data. what the hell's he \"\n",
            " \"gonna do with it? 1) trot around to the telco and say 'we'd like an \"\n",
            " \"unauthorised decrypting tap'. uh huh. 2) break in to watergate and install \"\n",
            " 'his own tap (so his people still do have to break in, neat, huh?) record '\n",
            " \"some noise, then get the executive branch phone decryption box (huh? they've \"\n",
            " \"got one? goodness, wait 'til the washington post gets hold of this) and \"\n",
            " \"decrypt the noise. 3) more likely, stare at the key, and say 'oh, hell it is \"\n",
            " \"not worth all this bloody hassle' truth is, even granted *lots* of covert \"\n",
            " 'power on the part of the executive branch, this system is *more* difficult '\n",
            " 'to tap with than pots gear. the fact that it is easier to tap than some '\n",
            " 'hypothetical system neither you nor i am going to place on our phones is '\n",
            " 'neither here nor there. the only rational concerns i am seeing raised are: '\n",
            " 'a) is the key really just chopped in half, and not some xor arrangement? '\n",
            " 'that is, has some egregious technical error been built in to the plan? b) is '\n",
            " 'this is the first step toward strict regulation of strong encryption? >but '\n",
            " 'that is not really the issue. the real issue is whether this >will be used '\n",
            " \"to justify a ban against individuals' use of private >(i.e., anything else) \"\n",
            " 'encryption methods. this is b), of course. i suspect not. if the government '\n",
            " \"actually wanted to make such regs, they'd just do it. a few hundred people \"\n",
            " \"on usenet yelling about it wouldn't even slow the machine down. besides, who \"\n",
            " \"is this mysterious 'they' who's going to take away all our rights the \"\n",
            " 'instant we let our guard down? congress? that gang of buffoons can not even '\n",
            " 'balance their checkbooks. the fbi? but.. they do not make the laws. the nsa? '\n",
            " 'ditto. the white house? bill clinton is probably still looking for the '\n",
            " 'bathroom. it is a big place, after all. andrew > >al')\n",
            "\n",
            "Dominant Topic (0.195314) Keywords:\n",
            "[('key', 0.021244613688746368), ('space', 0.011991849550723185), ('system', 0.010789324247586598), ('information', 0.007799712730066473), ('technology', 0.007348765741390253), ('encryption', 0.006580485686608545), ('chip', 0.0056785917092561046), ('message', 0.005428065604435982), ('communication', 0.005327855162507934), ('security', 0.005327855162507934)]\n",
            "\n",
            "Second Topic (0.120711) Keywords:\n",
            "[('gun', 0.01471265214429079), ('law', 0.0139392711805108), ('line', 0.009262157732888946), ('write', 0.008046844789806102), ('state', 0.007512843648148489), ('entry', 0.007383946820851824), ('case', 0.007107739333787541), ('firearm', 0.005800357228349936), ('people', 0.0056898742335242235), ('crime', 0.005671460401053271)]\n",
            "-----------------------------------------------------------------------------------------------------------------------------------------------------------------------------------------------------------------------------------------------------------------------------------------------------------------------------------------------\n",
            "Review #920:\n",
            "('from: steveh@thor.isc-br.com (steve hendricks) subject: re: limiting govt '\n",
            " '(was re: employment (was re: why not concentrate...) summary: but how do '\n",
            " 'restrain unpleasant impulses? organization: free the barbers, inc. lines: 46 '\n",
            " 'nntp-posting-host: thor.isc-br.com in article '\n",
            " '<slagle.93apr15000157@sgi417.msd.lmsc.lockheed.com> slagle@lmsc.lockheed.com '\n",
            " 'writes: >in article <1993apr13.215245.2916@isc-br.isc-br.com>, '\n",
            " 'steveh@thor.isc-br.com (steve hendricks) writes: > >> in article '\n",
            " '<1993apr13.083449.1058@cbnewse.cb.att.com> doctor1@cbnewse.cb.att.com '\n",
            " '(patrick.b.hailey) writes: > >>>... the point is that this law protects no '\n",
            " 'one but the >>>established car dealers or people with enough money to start '\n",
            " 'a >>>fairly big operation all at once. protecting these folks from '\n",
            " '>>>competition protects the rest of us from low prices and high >>>quality. '\n",
            " '> >> an excellent point. but you seem to be missing a more subtle >> point. '\n",
            " 'it is not \"the government\" that should be the recipient >> of your '\n",
            " 'displeasure, but the established business interests >> that influence and '\n",
            " 'direct government action in this case. > >it is the government that is '\n",
            " 'preventing entry to the market. the >desire of those running established '\n",
            " 'businesses to prevent or >restrict the entry of competitors is an '\n",
            " 'understandable, though >generally unpleasant, human failing. but without a '\n",
            " 'means to act >on this desire, without a government with sufficient power to '\n",
            " '>restrict the options of the potential competitor, the >anti-competitive '\n",
            " 'desire remains just an unpleasant wish. the >government is the linchpin, so '\n",
            " 'we seek to disengage it so we >do not get the shaft. once again, mark, you '\n",
            " 'do not specify the means through which the government is to be prevented '\n",
            " 'from becoming the tool of business interests. as a left-wing, big '\n",
            " 'government, conventional liberal, i am just as willing as you are to vote '\n",
            " 'against anti-competitive regulations that favor auto dealers. but what i '\n",
            " \"hear from libertarians is a desire to limit incumbents' terms, to weaken \"\n",
            " 'government by eliminating its power to enforce antitrust laws, and a desire '\n",
            " \"to eliminate legislator's pay. each strikes me as a particularly ineffective \"\n",
            " 'way to insure that auto dealers and other special interests cannot influence '\n",
            " 'public policy. in fact, they seem clearly designed to accomplish the '\n",
            " 'opposite. jsh > >=mark -- steve hendricks | domain: steveh@thor.isc-br.com '\n",
            " '\"one thing about data, it sure does cut| uucp: ...!uunet!isc-br!thor!steveh '\n",
            " 'the bulls**t.\" - r. hofferbert | ma bell: 509 838-8826')\n",
            "\n",
            "Dominant Topic (0.391081) Keywords:\n",
            "[('government', 0.011706679343950558), ('people', 0.011127287853577372), ('mr', 0.010265628714048016), ('state', 0.008453173282624198), ('work', 0.008349179938198241), ('president', 0.00756180175897314), ('time', 0.00664071785120038), ('year', 0.006209888281435702), ('money', 0.006195032089374852), ('stephanopoulos', 0.005155098645115284)]\n",
            "\n",
            "Second Topic (0.089494) Keywords:\n",
            "[('car', 0.02335647552927059), ('organization', 0.011571097968629467), ('good', 0.010156852661352533), ('bike', 0.009685437558926887), ('buy', 0.0094283020485129), ('sale', 0.009042598782891917), ('sell', 0.008742607354075598), ('line', 0.008421187966058112), ('price', 0.006771235107568355), ('ride', 0.006642667352361361)]\n",
            "-----------------------------------------------------------------------------------------------------------------------------------------------------------------------------------------------------------------------------------------------------------------------------------------------------------------------------------------------\n",
            "Review #1196:\n",
            "('from: glalonde@watson.ibm.com subject: re: cache card for iisi '\n",
            " 'news-software: ibm os/2 pm rn (nr/2) v0.17h by o. vishnepolsky and r. rogers '\n",
            " 'lines: 18 reply-to: glalonde@vnet.ibm.com disclaimer: this posting '\n",
            " \"represents the poster's views, not necessarily those of ibm. \"\n",
            " 'nntp-posting-host: xlalonde.torolab.ibm.com organization: ibm toronto lab > '\n",
            " \">as of last week, mac's place had the applied engineering quicksilver card \"\n",
            " '>(32k cache, one pds slot, socket for fpu) on sale for $99.00 (without fpu). '\n",
            " '>regular price is $199. > >no idea if this is still going on, but i can get '\n",
            " 'the phone no. if anyone is >interested (i found their ad in macuser). > can '\n",
            " 'some people with cache cards please post speedometer numbers they get with '\n",
            " 'the cards. i have only one report, which seems to indicate that a 32k cache '\n",
            " 'card gives you only about a 1% speedup!! access to memory takes longer when '\n",
            " 'you have a cache card(and get a miss) thus a small cache card of 32k may be '\n",
            " 'worth $0. i do not know what kind of numbers 64k cards get you. also i found '\n",
            " 'it interesting that you can disable the cache cards via software(read about '\n",
            " 'it in the mac iisi tech notes from ftp.apple.com) so is $99 a good deal or '\n",
            " 'not, i still do not know.')\n",
            "\n",
            "Dominant Topic (0.336645) Keywords:\n",
            "[('drive', 0.01729781126003401), ('card', 0.014920733602735468), ('system', 0.013147067966135786), ('bit', 0.012360803817952421), ('problem', 0.011007698074567097), ('db', 0.010221433926383734), ('work', 0.009325458501709667), ('driver', 0.008813472544753058), ('mac', 0.008520909140777853), ('run', 0.007880926694582091)]\n",
            "\n",
            "Second Topic (0.099235) Keywords:\n",
            "[('write', 0.10022698810269255), ('article', 0.07386897307451472), ('line', 0.03563321853475266), ('organization', 0.03432216656230432), ('thing', 0.01903960551033187), ('post', 0.015791327489041954), ('good', 0.0127778647463995), ('opinion', 0.011779899812147778), ('bad', 0.010801502817783344), ('problem', 0.010488415779586726)]\n",
            "-----------------------------------------------------------------------------------------------------------------------------------------------------------------------------------------------------------------------------------------------------------------------------------------------------------------------------------------------\n",
            "Review #2156:\n",
            "('from: mikey@ccwf.cc.utexas.edu (strider) subject: re: guns in backcountry? '\n",
            " 'no thanks organization: the university of texas at austin, austin tx lines: '\n",
            " '34 nntp-posting-host: louie.cc.utexas.edu reimer@uinpla.npl.uiuc.edu (paul '\n",
            " 'e. reimer) writes: |there are a lot of automobile accidents, but atleast '\n",
            " 'there is some |regulation to try to combat this. when i got my drivers '\n",
            " 'license, i had |to take a drivers safety class. i have to be licensed to '\n",
            " 'drive. my car |must be registered. i must (at least where i live) have '\n",
            " 'liability |insurance on both myself driving and my car (if someone else had '\n",
            " \"an |accident with it). hmm, wouldn't manditory saftey classes, registration \"\n",
            " '|of both the owner and gun, and manditory liability insurance be nice for '\n",
            " '|gun owners. as i am sure others will have pointed out to you by now, none '\n",
            " 'of the above measures are required for you *on your own property*. you do '\n",
            " 'not have to have a license, your car does not have to be registered or '\n",
            " 'inspected, and you do not have to have insurance or safety training classes, '\n",
            " 'when you own and operate that vehicle on your own premises. if you are going '\n",
            " 'to make use of this dubious analogy, at least make it accurate. and by the '\n",
            " 'way, in texas you can drive a car in public (with the proper credentials), '\n",
            " 'but an ordinary civilian can not carry a gun legally in public to save '\n",
            " 'his/her life. so i will not even consider registration, *manadatory* safety '\n",
            " 'classes, or *manadatory* liability insurance unless i get a federal law '\n",
            " 'repealing all local, state, and federal gun control laws which abridge the '\n",
            " 'second amendment, and a non-discretionary federal weapons carry permit, good '\n",
            " 'anywhere in the united states. come on, you wanted the analogy. mike ruff -- '\n",
            " '- this above all, to thine own s t r i d e r mikey@ccwf.cc.utexas.edu - self '\n",
            " 'be true. --polonius * * ***** ** * * **** ***** *** * * those who would '\n",
            " 'sacrifice essential * * * * * * * * * * ** * liberties for a little '\n",
            " 'temporary * * * **** * * **** * * * * * safety deserve neither liberty * * * '\n",
            " '* * * * * * * * ** nor safety. --b. franklin **** * * * **** **** * *** * *')\n",
            "\n",
            "Dominant Topic (0.297284) Keywords:\n",
            "[('gun', 0.01471265214429079), ('law', 0.0139392711805108), ('line', 0.009262157732888946), ('write', 0.008046844789806102), ('state', 0.007512843648148489), ('entry', 0.007383946820851824), ('case', 0.007107739333787541), ('firearm', 0.005800357228349936), ('people', 0.0056898742335242235), ('crime', 0.005671460401053271)]\n",
            "\n",
            "Second Topic (0.154045) Keywords:\n",
            "[('car', 0.02335647552927059), ('organization', 0.011571097968629467), ('good', 0.010156852661352533), ('bike', 0.009685437558926887), ('buy', 0.0094283020485129), ('sale', 0.009042598782891917), ('sell', 0.008742607354075598), ('line', 0.008421187966058112), ('price', 0.006771235107568355), ('ride', 0.006642667352361361)]\n",
            "-----------------------------------------------------------------------------------------------------------------------------------------------------------------------------------------------------------------------------------------------------------------------------------------------------------------------------------------------\n",
            "Review #952:\n",
            "('from: leech@cs.unc.edu (jon leech) subject: space faq 09/15 - mission '\n",
            " 'schedules supersedes: <schedule_730956538@cs.unc.edu> organization: '\n",
            " 'university of north carolina, chapel hill lines: 177 distribution: world '\n",
            " 'expires: 6 may 1993 19:59:07 gmt nntp-posting-host: mahler.cs.unc.edu '\n",
            " 'keywords: frequently asked questions archive-name: space/schedule '\n",
            " 'last-modified: $date: 93/04/01 14:39:23 $ space shuttle answers, launch '\n",
            " 'schedules, tv coverage shuttle launchings and landings; schedules and how to '\n",
            " 'see them shuttle operations are discussed in the usenet group '\n",
            " 'sci.space.shuttle, and ken hollis (gandalf@pro-electric.cts.com) posts a '\n",
            " 'compressed version of the shuttle manifest (launch dates and other '\n",
            " 'information) periodically there. the manifest is also available from the '\n",
            " 'ames space archive in space/faq/manifest. the portion of his manifest '\n",
            " 'formerly included in this faq has been removed; please refer to his posting '\n",
            " 'or the archived copy. for the most up to date information on upcoming '\n",
            " 'missions, call (407) 867-info (867-4636) at kennedy space center. official '\n",
            " 'nasa shuttle status reports are posted to sci.space.news frequently. why '\n",
            " 'does the shuttle roll just after liftoff? the following answer and '\n",
            " 'translation are provided by ken jenks (kjenks@gothamcity.jsc.nasa.gov). the '\n",
            " '\"ascent guidance and flight control training manual,\" asc g&c 2102, says: '\n",
            " '\"during the vertical rise phase, the launch pad attitude is commanded until '\n",
            " 'an i-loaded v(rel) sufficient to assure launch tower clearance is achieved. '\n",
            " 'then, the tilt maneuver (roll program) orients the vehicle to a heads down '\n",
            " 'attitude required to generate a negative q-alpha, which in turn alleviates '\n",
            " 'structural loading. other advantages with this attitude are performance '\n",
            " 'gain, decreased abort maneuver complexity, improved s-band look angles, and '\n",
            " 'crew view of the horizon. the tilt maneuver is also required to start '\n",
            " 'gaining downrange velocity to achieve the main engine cutoff (meco) target '\n",
            " 'in second stage.\" this really is a good answer, but it is couched in nasa '\n",
            " \"jargon. i'll try to interpret. 1) we wait until the shuttle clears the tower \"\n",
            " 'before rolling. 2) then, we roll the shuttle around so that the angle of '\n",
            " 'attack between the wind caused by passage through the atmosphere (the '\n",
            " '\"relative wind\") and the chord of the wings (the imaginary line between the '\n",
            " 'leading edge and the trailing edge) is a slightly negative angle (\"a '\n",
            " 'negative q-alpha\"). this causes a little bit of \"downward\" force (toward the '\n",
            " 'belly of the orbiter, or the +z direction) and this force \"alleviates '\n",
            " 'structural loading.\" we have to be careful about those wings -- they\\'re '\n",
            " 'about the most \"delicate\" part of the vehicle. 3) the new attitude (after '\n",
            " 'the roll) also allows us to carry more mass to orbit, or to achieve a higher '\n",
            " 'orbit with the same mass, or to change the orbit to a higher or lower '\n",
            " 'inclination than would be the case if we did not roll (\"performance gain\"). '\n",
            " '4) the new attitude allows the crew to fly a less complicated flight path if '\n",
            " 'they had to execute one of the more dangerous abort maneuvers, the return to '\n",
            " 'launch site (\"decreased abort maneuver complexity\"). 5) the new attitude '\n",
            " 'improves the ability for ground-based radio antennae to have a good '\n",
            " 'line-of-sight signal with the s-band radio antennae on the orbiter '\n",
            " '(\"improved s-band look angles\"). 6) the new attitude allows the crew to see '\n",
            " 'the horizon, which is a helpful (but not mandatory) part of piloting any '\n",
            " 'flying machine. 7) the new attitude orients the shuttle so that the body is '\n",
            " 'more nearly parallel with the ground, and the nose to the east (usually). '\n",
            " 'this allows the thrust from the engines to add velocity in the correct '\n",
            " 'direction to eventually achieve orbit. remember: velocity is a vector '\n",
            " 'quantity made of both speed and direction. the shuttle has to have a large '\n",
            " 'horizontal component to its velocity and a very small vertical component to '\n",
            " 'attain orbit. this all begs the question, \"why isn\\'t the launch pad '\n",
            " 'oriented to give this nice attitude to begin with? why does the shuttle need '\n",
            " 'to roll to achieve that attitude?\" the answer is that the pads were '\n",
            " 'leftovers from the apollo days. the shuttle straddles two flame trenches -- '\n",
            " 'one for the solid rocket motor exhaust, one for the space shuttle main '\n",
            " 'engine exhaust. (you can see the effects of this on any daytime launch. the '\n",
            " 'srm exhaust is dirty gray garbage, and the ssme exhaust is fluffy white '\n",
            " 'steam. watch for the difference between the \"top\" [orbiter side] and the '\n",
            " '\"bottom\" [external tank side] of the stack.) the access tower and other '\n",
            " 'support and service structure are all oriented basically the same way they '\n",
            " \"were for the saturn v's. (a side note: the saturn v's also had a roll \"\n",
            " 'program. do not ask me why -- i am a shuttle guy.) i checked with a buddy in '\n",
            " 'ascent dynamics. he added that the \"roll maneuver\" is really a maneuver in '\n",
            " 'all three axes: roll, pitch and yaw. the roll component of that maneuver is '\n",
            " 'performed for the reasons stated. the pitch component controls loading on '\n",
            " 'the wings by keeping the angle of attack (q-alpha) within a tight tolerance. '\n",
            " 'the yaw component is used to determine the orbital inclination. the total '\n",
            " 'maneuver is really expressed as a \"quaternion,\" a grad-level-math concept '\n",
            " 'for combining all three rotation matrices in one four-element array. how to '\n",
            " 'receive the nasa tv channel, nasa select nasa select is broadcast by '\n",
            " 'satellite. if you have access to a satellite dish, you can find select on '\n",
            " 'satcom f2r, transponder 13, c-band, 72 degrees west longitude, audio 6.8, '\n",
            " 'frequency 3960 mhz. f2r is stationed over the atlantic, and is increasingly '\n",
            " 'difficult to receive from california and points west. during events of '\n",
            " 'special interest (e.g. shuttle missions), select is sometimes broadcast on a '\n",
            " 'second satellite for these viewers. if you can not get a satellite feed, '\n",
            " \"some cable operators carry select. it is worth asking if yours doesn't. the \"\n",
            " 'select schedule is found in the nasa headline news which is frequently '\n",
            " 'posted to sci.space.news. generally it carries press conferences, briefings '\n",
            " 'by nasa officials, and live coverage of shuttle missions and planetary '\n",
            " 'encounters. select has recently begun carrying much more secondary material '\n",
            " '(associated with spacelink) when missions are not being covered. amateur '\n",
            " 'radio frequencies for shuttle missions the following are believed to '\n",
            " 'rebroadcast space shuttle mission audio: w6fxn - los angeles k6mf - ames '\n",
            " 'research center, mountain view, california wa3nan - goddard space flight '\n",
            " 'center (gsfc), greenbelt, maryland. w5rrr - johnson space center (jsc), '\n",
            " 'houston, texas w6vio - jet propulsion laboratory (jpl), pasadena, '\n",
            " 'california. w1aw voice bulletins station vhf 10m 15m 20m 40m 80m ------ '\n",
            " '------ ------ ------ ------ ----- ----- w6fxn 145.46 k6mf 145.585 7.165 '\n",
            " '3.840 wa3nan 147.45 28.650 21.395 14.295 7.185 3.860 w5rrr 146.64 28.400 '\n",
            " '21.350 14.280 7.227 3.850 w6vio 224.04 21.340 14.270 w6vio 224.04 21.280 '\n",
            " '14.282 7.165 3.840 w1aw 28.590 21.390 14.290 7.290 3.990 w5rrr transmits '\n",
            " 'mission audio on 146.64, a special event station on the other frequencies '\n",
            " 'supplying keplerian elements and mission information. w1aw also transmits on '\n",
            " '147.555, 18.160. no mission audio but they transmit voice bulletins at 0245 '\n",
            " 'and 0545 utc. frequencies in the 10-20m bands require usb and frequencies in '\n",
            " 'the 40 and 80m bands lsb. use fm for the vhf frequencies. [this item was '\n",
            " 'most recently updated courtesy of gary morris (g@telesoft.com, kk6yb, '\n",
            " 'n5qwc)] solid rocket booster fuel composition reference: \"shuttle flight '\n",
            " 'operations manual\" volume 8b - solid rocket booster systems, nasa document '\n",
            " 'jsc-12770 propellant composition (percent) ammonium perchlorate (oxidizer) '\n",
            " '69.6 aluminum 16 iron oxide (burn rate catalyst) 0.4 polybutadiene-acrilic '\n",
            " 'acid-acrylonitrile (a rubber) 12.04 epoxy curing agent 1.96 end reference '\n",
            " 'comment: the aluminum, rubber, and epoxy all burn with the oxidizer. next: '\n",
            " 'faq #10/15 - historical planetary probes')\n",
            "\n",
            "Dominant Topic (0.384076) Keywords:\n",
            "[('key', 0.021244613688746368), ('space', 0.011991849550723185), ('system', 0.010789324247586598), ('information', 0.007799712730066473), ('technology', 0.007348765741390253), ('encryption', 0.006580485686608545), ('chip', 0.0056785917092561046), ('message', 0.005428065604435982), ('communication', 0.005327855162507934), ('security', 0.005327855162507934)]\n",
            "\n",
            "Second Topic (0.178699) Keywords:\n",
            "[('line', 0.013409803597953457), ('power', 0.010707212411288991), ('work', 0.009139296913682126), ('high', 0.006106618253837267), ('low', 0.006024096385542169), ('ground', 0.006003465918468394), ('design', 0.005982835451394619), ('box', 0.005838422181878198), ('organization', 0.005735269846509325), ('wire', 0.005446443307476481)]\n",
            "-----------------------------------------------------------------------------------------------------------------------------------------------------------------------------------------------------------------------------------------------------------------------------------------------------------------------------------------------\n",
            "Review #616:\n",
            "('from: sbishop@desire.wright.edu subject: re: hismanal, et. al.--side effects '\n",
            " 'organization: wright state university lines: 22 in article '\n",
            " '<1993apr21.024103.29880@spdcc.com>, dyer@spdcc.com (steve dyer) writes: > in '\n",
            " 'article <1993apr20.212706.820@lrc.edu> kjiv@lrc.edu writes: >>can someone '\n",
            " 'tell me whether or not any of the following medications >>has been linked to '\n",
            " 'rapid/excessive weight gain and/or a distorted >>sense of taste or smell: '\n",
            " 'hismanal; azmacort (a topical steroid to >>prevent asthma); vancenase. > > '\n",
            " 'hismanal (astemizole) is most definitely linked to weight gain. > it really '\n",
            " 'is peculiar that some antihistamines have this effect, > and even more so an '\n",
            " \"antihistamine like astemizole which purportedly > doesn't cross the \"\n",
            " 'blood-brain barrier and so tends not to cause > drowsiness. it also gave me '\n",
            " 'lots of problems with joint and muscle pain. seemed to trigger '\n",
            " 'arthritis-like problems. sue > > -- > steve dyer > dyer@ursa-major.spdcc.com '\n",
            " 'aka {ima,harvard,rayssd,linus,m2c}!spdcc!dyer')\n",
            "\n",
            "Dominant Topic (0.436579) Keywords:\n",
            "[('study', 0.009525146386460254), ('science', 0.00770032886821208), ('drug', 0.0064369936632710355), ('problem', 0.005654929012593246), ('year', 0.005374187855939681), ('test', 0.005173658458329991), ('case', 0.005073393759525147), ('effect', 0.004872864361915457), ('time', 0.004652282024544798), ('result', 0.004652282024544798)]\n",
            "\n",
            "Second Topic (0.094237) Keywords:\n",
            "[('write', 0.10022698810269255), ('article', 0.07386897307451472), ('line', 0.03563321853475266), ('organization', 0.03432216656230432), ('thing', 0.01903960551033187), ('post', 0.015791327489041954), ('good', 0.0127778647463995), ('opinion', 0.011779899812147778), ('bad', 0.010801502817783344), ('problem', 0.010488415779586726)]\n",
            "-----------------------------------------------------------------------------------------------------------------------------------------------------------------------------------------------------------------------------------------------------------------------------------------------------------------------------------------------\n"
          ]
        }
      ]
    },
    {
      "cell_type": "markdown",
      "metadata": {
        "id": "E7yMC7Q0iGRR"
      },
      "source": [
        "# Find the most representative documents in trainset for each topic\n",
        "Find the documents in trainset a given topic has contributed to the most, in order to infer what a topic is actually about."
      ]
    },
    {
      "cell_type": "code",
      "metadata": {
        "id": "W9kfXINLjqwN"
      },
      "source": [
        "def get_most_representative_docs(docs_text: List[str],\n",
        "                                 docs_topics: List[List[Tuple[int, float]]],\n",
        "                                 topic: int,\n",
        "                                 limit: int = 5) -> pd.DataFrame:\n",
        "  docs_dominant_topic = [\n",
        "                         sort_topic_proportions(doc_topics)[0]\n",
        "                         for doc_topics in docs_topics\n",
        "                        ]\n",
        "\n",
        "  docs_topic_id, docs_topic_proportion = \\\n",
        "    tuple(map(list, zip(*docs_dominant_topic)))\n",
        "\n",
        "  df = pd.DataFrame(\n",
        "      {\n",
        "          'raw_text': docs_text,\n",
        "          'topic_id': docs_topic_id,\n",
        "          'topic_proportion': docs_topic_proportion\n",
        "      }\n",
        "  ).groupby('topic_id').get_group(topic).sort_values(by='topic_proportion',\n",
        "                                                     ascending = False,\n",
        "                                                     ignore_index = True)\n",
        "  \n",
        "  return df.head(limit)"
      ],
      "execution_count": 58,
      "outputs": []
    },
    {
      "cell_type": "code",
      "metadata": {
        "id": "BqGZr64FyH1h",
        "colab": {
          "base_uri": "https://localhost:8080/",
          "height": 203
        },
        "outputId": "be0e14eb-200d-4eec-8b1b-cfea6febbd2a"
      },
      "source": [
        "get_most_representative_docs(\n",
        "    test_corpus_raw,\n",
        "    test_corpus_topic_proportions,\n",
        "    0,\n",
        "    5\n",
        ")"
      ],
      "execution_count": 59,
      "outputs": [
        {
          "output_type": "execute_result",
          "data": {
            "text/html": [
              "<div>\n",
              "<style scoped>\n",
              "    .dataframe tbody tr th:only-of-type {\n",
              "        vertical-align: middle;\n",
              "    }\n",
              "\n",
              "    .dataframe tbody tr th {\n",
              "        vertical-align: top;\n",
              "    }\n",
              "\n",
              "    .dataframe thead th {\n",
              "        text-align: right;\n",
              "    }\n",
              "</style>\n",
              "<table border=\"1\" class=\"dataframe\">\n",
              "  <thead>\n",
              "    <tr style=\"text-align: right;\">\n",
              "      <th></th>\n",
              "      <th>raw_text</th>\n",
              "      <th>topic_id</th>\n",
              "      <th>topic_proportion</th>\n",
              "    </tr>\n",
              "  </thead>\n",
              "  <tbody>\n",
              "    <tr>\n",
              "      <th>0</th>\n",
              "      <td>from: caronni@nessie.cs.id.ethz.ch (germano ca...</td>\n",
              "      <td>0</td>\n",
              "      <td>0.623952</td>\n",
              "    </tr>\n",
              "    <tr>\n",
              "      <th>1</th>\n",
              "      <td>from: crypt-comments@math.ncsu.edu subject: cr...</td>\n",
              "      <td>0</td>\n",
              "      <td>0.585235</td>\n",
              "    </tr>\n",
              "    <tr>\n",
              "      <th>2</th>\n",
              "      <td>from: karn@servo.qualcomm.com (phil karn) subj...</td>\n",
              "      <td>0</td>\n",
              "      <td>0.580472</td>\n",
              "    </tr>\n",
              "    <tr>\n",
              "      <th>3</th>\n",
              "      <td>from: koontzd@phobos.lrmsc.loral.com (david ko...</td>\n",
              "      <td>0</td>\n",
              "      <td>0.557660</td>\n",
              "    </tr>\n",
              "    <tr>\n",
              "      <th>4</th>\n",
              "      <td>from: pat@rwing.uucp (pat myrto) subject: new ...</td>\n",
              "      <td>0</td>\n",
              "      <td>0.547868</td>\n",
              "    </tr>\n",
              "  </tbody>\n",
              "</table>\n",
              "</div>"
            ],
            "text/plain": [
              "                                            raw_text  ...  topic_proportion\n",
              "0  from: caronni@nessie.cs.id.ethz.ch (germano ca...  ...          0.623952\n",
              "1  from: crypt-comments@math.ncsu.edu subject: cr...  ...          0.585235\n",
              "2  from: karn@servo.qualcomm.com (phil karn) subj...  ...          0.580472\n",
              "3  from: koontzd@phobos.lrmsc.loral.com (david ko...  ...          0.557660\n",
              "4  from: pat@rwing.uucp (pat myrto) subject: new ...  ...          0.547868\n",
              "\n",
              "[5 rows x 3 columns]"
            ]
          },
          "metadata": {},
          "execution_count": 59
        }
      ]
    },
    {
      "cell_type": "markdown",
      "metadata": {
        "id": "uPjZFAraVW4d"
      },
      "source": [
        "# Topic distribution across documents\n",
        "The distribution of topics across all documents in a corpus demonstrates how widely the topics are discussed."
      ]
    },
    {
      "cell_type": "code",
      "metadata": {
        "id": "4mJ5Q12LFp5N"
      },
      "source": [
        "def get_topics_contribution_in_corpus(\n",
        "    docs_topics: List[List[Tuple[int, float]]]\n",
        ") -> pd.DataFrame:\n",
        "  docs_dominant_topic = [\n",
        "                         sort_topic_proportions(doc_topics)[0][0]\n",
        "                         for doc_topics in docs_topics\n",
        "                        ]\n",
        "\n",
        "  return pd.Series(\n",
        "      docs_dominant_topic\n",
        "  ).value_counts(normalize=True).sort_index()"
      ],
      "execution_count": 60,
      "outputs": []
    },
    {
      "cell_type": "code",
      "metadata": {
        "id": "uBQq-DVoTAmK",
        "colab": {
          "base_uri": "https://localhost:8080/",
          "height": 265
        },
        "outputId": "0d790e91-b338-4f3c-c434-dee568fbd942"
      },
      "source": [
        "ax = pd.DataFrame(\n",
        "    {\n",
        "        'Trainset': get_topics_contribution_in_corpus(\n",
        "            train_corpus_topic_proportions\n",
        "        ),\n",
        "        'Testset': get_topics_contribution_in_corpus(\n",
        "            test_corpus_topic_proportions\n",
        "        )\n",
        "    }\n",
        ").plot.bar(rot=0)"
      ],
      "execution_count": 61,
      "outputs": [
        {
          "output_type": "display_data",
          "data": {
            "image/png": "[encoded data removed]",
            "text/plain": [
              "<Figure size 432x288 with 1 Axes>"
            ]
          },
          "metadata": {
            "needs_background": "light"
          }
        }
      ]
    }
  ]
}